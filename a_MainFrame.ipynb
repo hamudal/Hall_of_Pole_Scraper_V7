{
 "cells": [
  {
   "cell_type": "code",
   "execution_count": 143,
   "metadata": {},
   "outputs": [],
   "source": [
    "import pandas as pd\n",
    "\n",
    "url= pd.read_csv(\"neue_liste.csv\")\n",
    "\n",
    "initial_urls = url[\"URL_S\"].to_list()"
   ]
  },
  {
   "cell_type": "markdown",
   "metadata": {},
   "source": [
    "___"
   ]
  },
  {
   "cell_type": "code",
   "execution_count": 145,
   "metadata": {},
   "outputs": [
    {
     "data": {
      "text/plain": [
       "['https://www.eversports.nl/s/studio-aeris',\n",
       " 'https://www.eversports.de/s/schoenheitstanz-studio',\n",
       " 'https://www.eversports.de/s/poledance-nrw',\n",
       " 'https://www.eversports.de/s/ima-intentional-movement-academy',\n",
       " 'https://www.eversports.de/s/dance-%26-pole-h%C3%BCckeswagen',\n",
       " 'https://www.eversports.de/s/pole-dream',\n",
       " 'https://www.eversports.ch/s/dayuma-pole-and-acrobatics',\n",
       " 'https://www.eversports.de/s/polefriends',\n",
       " 'https://www.eversports.de/s/happy-pole-place',\n",
       " 'https://www.eversports.de/s/dance-department']"
      ]
     },
     "execution_count": 145,
     "metadata": {},
     "output_type": "execute_result"
    }
   ],
   "source": [
    "initial_urls[:10]"
   ]
  },
  {
   "cell_type": "code",
   "execution_count": 49,
   "metadata": {},
   "outputs": [],
   "source": [
    "# initial_urls = [\"https://www.eversports.de/s/poda-studio\"]"
   ]
  },
  {
   "cell_type": "markdown",
   "metadata": {},
   "source": [
    "Scraper Code"
   ]
  },
  {
   "cell_type": "code",
   "execution_count": 131,
   "metadata": {},
   "outputs": [
    {
     "name": "stderr",
     "output_type": "stream",
     "text": [
      "Processing URLs:   0%|          | 0/502 [00:00<?, ?it/s]"
     ]
    },
    {
     "name": "stdout",
     "output_type": "stream",
     "text": [
      "Starting URL reconstruction...\n"
     ]
    },
    {
     "name": "stderr",
     "output_type": "stream",
     "text": [
      "2024-03-11 18:26:03,778 - INFO - Processing URL 1/2: https://www.eversports.de/s/studio-aeris\n"
     ]
    },
    {
     "name": "stdout",
     "output_type": "stream",
     "text": [
      "Converting to DataFrame...\n",
      "Validating URLs...\n"
     ]
    },
    {
     "name": "stderr",
     "output_type": "stream",
     "text": [
      "2024-03-11 18:26:04,642 - INFO - URL https://www.eversports.de/s/studio-aeris is valid.\n",
      "2024-03-11 18:26:04,643 - INFO - Processing URL 2/2: https://www.eversports.de/sw/studio-aeris\n",
      "2024-03-11 18:26:05,293 - INFO - URL https://www.eversports.de/sw/studio-aeris is not valid.\n",
      "Processing URLs:   0%|          | 1/502 [00:03<32:53,  3.94s/it]"
     ]
    },
    {
     "name": "stdout",
     "output_type": "stream",
     "text": [
      "Scraping Pole Studio Data from https://www.eversports.de/s/studio-aeris...\n",
      "Error retrieving the webpage: ('Connection aborted.', RemoteDisconnected('Remote end closed connection without response'))\n",
      "\n",
      "Processing completed.\n",
      "-------------------------------- \n",
      "\n",
      "Starting URL reconstruction...\n"
     ]
    },
    {
     "name": "stderr",
     "output_type": "stream",
     "text": [
      "2024-03-11 18:26:06,349 - INFO - Processing URL 1/2: https://www.eversports.de/s/schoenheitstanz-studio\n"
     ]
    },
    {
     "name": "stdout",
     "output_type": "stream",
     "text": [
      "Converting to DataFrame...\n",
      "Validating URLs...\n"
     ]
    },
    {
     "name": "stderr",
     "output_type": "stream",
     "text": [
      "2024-03-11 18:26:07,323 - INFO - URL https://www.eversports.de/s/schoenheitstanz-studio is valid.\n",
      "2024-03-11 18:26:07,324 - INFO - Processing URL 2/2: https://www.eversports.de/sw/schoenheitstanz-studio\n",
      "2024-03-11 18:26:11,205 - INFO - URL https://www.eversports.de/sw/schoenheitstanz-studio is valid.\n"
     ]
    },
    {
     "name": "stdout",
     "output_type": "stream",
     "text": [
      "Scraping Pole Studio Data from https://www.eversports.de/s/schoenheitstanz-studio...\n",
      "Scraping Workshops Data from https://www.eversports.de/sw/schoenheitstanz-studio...\n",
      "Scraping Workshop Details from https://www.eversports.de/e/workshop/ypg0oSy...\n",
      "Scraping Workshop Details from https://www.eversports.de/e/workshop/EDBeHyX...\n",
      "Scraping Workshop Details from https://www.eversports.de/e/workshop/54itEaz...\n",
      "Scraping Workshop Details from https://www.eversports.de/e/workshop/rvq2QWJ...\n",
      "Scraping Workshop Details from https://www.eversports.de/e/workshop/z4rC1sa...\n",
      "Scraping Workshop Details from https://www.eversports.de/e/workshop/AN_9D9F...\n",
      "Scraping Workshop Details from https://www.eversports.de/e/workshop/_kWyZFK...\n",
      "Scraping Workshop Details from https://www.eversports.de/e/workshop/QPoxv4i...\n",
      "Scraping Workshop Details from https://www.eversports.de/e/workshop/3yk1t8C...\n",
      "Scraping Workshop Details from https://www.eversports.de/e/workshop/kVDtH76...\n",
      "Scraping Workshop Details from https://www.eversports.de/e/workshop/4egslRX...\n",
      "Scraping Workshop Details from https://www.eversports.de/e/workshop/z-U6Pgj...\n",
      "Scraping Workshop Details from https://www.eversports.de/e/workshop/UYgHVwy...\n",
      "Scraping Workshop Details from https://www.eversports.de/e/workshop/oDQ2eUd...\n",
      "Scraping Workshop Details from https://www.eversports.de/e/workshop/E4i5NUb...\n",
      "Scraping Workshop Details from https://www.eversports.de/e/workshop/YpJqTDS...\n",
      "Scraping Workshop Details from https://www.eversports.de/e/workshop/SX0FzGK...\n",
      "Scraping Workshop Details from https://www.eversports.de/e/workshop/7uJPxgC...\n",
      "Scraping Workshop Details from https://www.eversports.de/e/workshop/82dGR1f...\n",
      "Scraping Workshop Details from https://www.eversports.de/e/workshop/kc1ALJw...\n",
      "Scraping Workshop Details from https://www.eversports.de/e/workshop/pDjMaOI...\n",
      "Scraping Workshop Details from https://www.eversports.de/e/workshop/xUJF8zC...\n",
      "Scraping Workshop Details from https://www.eversports.de/e/workshop/kbdX4s8...\n",
      "Scraping Workshop Details from https://www.eversports.de/e/workshop/6mBM935...\n",
      "Scraping Workshop Details from https://www.eversports.de/e/workshop/dM4ofSw...\n",
      "Scraping Workshop Details from https://www.eversports.de/e/workshop/JrWOpd8...\n",
      "Scraping Workshop Details from https://www.eversports.de/e/workshop/HuJXYjp...\n",
      "Scraping Workshop Details from https://www.eversports.de/e/workshop/qTXcBEW...\n",
      "Scraping Workshop Details from https://www.eversports.de/e/workshop/vjA1U6h...\n",
      "Scraping Workshop Details from https://www.eversports.de/e/workshop/xIkSUW3...\n",
      "Scraping Workshop Details from https://www.eversports.de/e/workshop/oCv_Dwa...\n",
      "Scraping Workshop Details from https://www.eversports.de/e/workshop/ot643qA...\n",
      "Scraping Workshop Details from https://www.eversports.de/e/workshop/5n8JXXq...\n",
      "Scraping Workshop Details from https://www.eversports.de/e/workshop/xZQPGi8...\n",
      "Scraping Workshop Details from https://www.eversports.de/e/workshop/KflHJT5...\n",
      "Scraping Workshop Details from https://www.eversports.de/e/workshop/wWAZ1T-...\n",
      "Scraping Workshop Details from https://www.eversports.de/e/workshop/drIG2eI...\n",
      "Scraping Workshop Details from https://www.eversports.de/e/workshop/iuE5Wsa...\n",
      "Scraping Workshop Details from https://www.eversports.de/e/workshop/wTDOHkH...\n",
      "Scraping Workshop Details from https://www.eversports.de/e/workshop/uHk1KUg...\n",
      "Scraping Workshop Details from https://www.eversports.de/e/workshop/nT2TC19...\n",
      "Scraping Workshop Details from https://www.eversports.de/e/workshop/n6KRMjB...\n",
      "Scraping Workshop Details from https://www.eversports.de/e/workshop/qNpxqi5...\n",
      "Scraping Workshop Details from https://www.eversports.de/e/workshop/i2UXxMl...\n",
      "Scraping Workshop Details from https://www.eversports.de/e/workshop/GaGNoGx...\n",
      "Scraping Workshop Details from https://www.eversports.de/e/workshop/gOdtqrR...\n",
      "Scraping Workshop Details from https://www.eversports.de/e/workshop/Nv15_mw...\n",
      "Scraping Workshop Details from https://www.eversports.de/e/workshop/C8qDgCl...\n",
      "Scraping Workshop Details from https://www.eversports.de/e/workshop/quAhd0H...\n"
     ]
    },
    {
     "name": "stderr",
     "output_type": "stream",
     "text": [
      "Processing URLs:   0%|          | 2/502 [01:04<5:09:37, 37.15s/it]"
     ]
    },
    {
     "name": "stdout",
     "output_type": "stream",
     "text": [
      "\n",
      "Processing completed.\n",
      "-------------------------------- \n",
      "\n",
      "2024-03-11 18:27:05 - INFO - Scraping Data from: https://www.eversports.de/s/schoenheitstanz-studio\n",
      "Pole Studio Data: 1 entries\n",
      "2024-03-11 18:27:05 - INFO - Scraping Data from: https://www.eversports.de/s/schoenheitstanz-studio\n",
      "Workshops Data: 49 entries\n",
      "2024-03-11 18:27:05 - INFO - Scraping Data from: https://www.eversports.de/s/schoenheitstanz-studio\n",
      "Workshop Details: 49 entries\n",
      "Starting URL reconstruction...\n"
     ]
    },
    {
     "name": "stderr",
     "output_type": "stream",
     "text": [
      "2024-03-11 18:27:06,728 - INFO - Processing URL 1/1: https://www.eversports.de/s/poledance-nrw\n"
     ]
    },
    {
     "name": "stdout",
     "output_type": "stream",
     "text": [
      "Converting to DataFrame...\n",
      "Validating URLs...\n"
     ]
    },
    {
     "name": "stderr",
     "output_type": "stream",
     "text": [
      "2024-03-11 18:27:07,652 - INFO - URL https://www.eversports.de/s/poledance-nrw is valid.\n"
     ]
    },
    {
     "name": "stdout",
     "output_type": "stream",
     "text": [
      "Scraping Pole Studio Data from https://www.eversports.de/s/poledance-nrw...\n"
     ]
    },
    {
     "name": "stderr",
     "output_type": "stream",
     "text": [
      "Processing URLs:   1%|          | 3/502 [01:06<2:57:07, 21.30s/it]"
     ]
    },
    {
     "name": "stdout",
     "output_type": "stream",
     "text": [
      "\n",
      "Processing completed.\n",
      "-------------------------------- \n",
      "\n",
      "2024-03-11 18:27:08 - INFO - Scraping Data from: https://www.eversports.de/s/poledance-nrw\n",
      "Pole Studio Data: 1 entries\n",
      "Starting URL reconstruction...\n"
     ]
    },
    {
     "name": "stderr",
     "output_type": "stream",
     "text": [
      "2024-03-11 18:27:09,640 - INFO - Processing URL 1/1: https://www.eversports.de/s/ima-intentional-movement-academy\n"
     ]
    },
    {
     "name": "stdout",
     "output_type": "stream",
     "text": [
      "Converting to DataFrame...\n",
      "Validating URLs...\n"
     ]
    },
    {
     "name": "stderr",
     "output_type": "stream",
     "text": [
      "2024-03-11 18:27:10,620 - INFO - URL https://www.eversports.de/s/ima-intentional-movement-academy is valid.\n"
     ]
    },
    {
     "name": "stdout",
     "output_type": "stream",
     "text": [
      "Scraping Pole Studio Data from https://www.eversports.de/s/ima-intentional-movement-academy...\n"
     ]
    },
    {
     "name": "stderr",
     "output_type": "stream",
     "text": [
      "Processing URLs:   1%|          | 4/502 [01:09<1:56:09, 14.00s/it]"
     ]
    },
    {
     "name": "stdout",
     "output_type": "stream",
     "text": [
      "\n",
      "Processing completed.\n",
      "-------------------------------- \n",
      "\n",
      "2024-03-11 18:27:10 - INFO - Scraping Data from: https://www.eversports.de/s/ima-intentional-movement-academy\n",
      "Pole Studio Data: 1 entries\n",
      "Starting URL reconstruction...\n"
     ]
    },
    {
     "name": "stderr",
     "output_type": "stream",
     "text": [
      "Processing URLs:   1%|          | 5/502 [01:12<1:23:51, 10.12s/it]"
     ]
    },
    {
     "name": "stdout",
     "output_type": "stream",
     "text": [
      "Error during HTTP request: Exceeded 30 redirects.\n",
      "Converting to DataFrame...\n",
      "Validating URLs...\n",
      "\n",
      "Processing completed.\n",
      "-------------------------------- \n",
      "\n",
      "Starting URL reconstruction...\n"
     ]
    },
    {
     "name": "stderr",
     "output_type": "stream",
     "text": [
      "Processing URLs:   1%|          | 6/502 [01:13<57:03,  6.90s/it]  "
     ]
    },
    {
     "name": "stdout",
     "output_type": "stream",
     "text": [
      "Error during HTTP request: 404 Client Error: Not Found for url: https://www.eversports.de/s/pole-dream\n",
      "Converting to DataFrame...\n",
      "Validating URLs...\n",
      "\n",
      "Processing completed.\n",
      "-------------------------------- \n",
      "\n",
      "Starting URL reconstruction...\n"
     ]
    },
    {
     "name": "stderr",
     "output_type": "stream",
     "text": [
      "2024-03-11 18:27:24,780 - INFO - Processing URL 1/2: https://www.eversports.de/s/dayuma-pole-and-acrobatics\n"
     ]
    },
    {
     "name": "stdout",
     "output_type": "stream",
     "text": [
      "Converting to DataFrame...\n",
      "Validating URLs...\n"
     ]
    },
    {
     "name": "stderr",
     "output_type": "stream",
     "text": [
      "2024-03-11 18:27:27,378 - INFO - URL https://www.eversports.de/s/dayuma-pole-and-acrobatics is valid.\n",
      "2024-03-11 18:27:27,378 - INFO - Processing URL 2/2: https://www.eversports.de/sw/dayuma-pole-and-acrobatics\n",
      "2024-03-11 18:27:28,110 - INFO - URL https://www.eversports.de/sw/dayuma-pole-and-acrobatics is not valid.\n"
     ]
    },
    {
     "name": "stdout",
     "output_type": "stream",
     "text": [
      "Scraping Pole Studio Data from https://www.eversports.de/s/dayuma-pole-and-acrobatics...\n"
     ]
    },
    {
     "name": "stderr",
     "output_type": "stream",
     "text": [
      "Processing URLs:   1%|▏         | 7/502 [01:27<1:15:13,  9.12s/it]"
     ]
    },
    {
     "name": "stdout",
     "output_type": "stream",
     "text": [
      "\n",
      "Processing completed.\n",
      "-------------------------------- \n",
      "\n",
      "2024-03-11 18:27:28 - INFO - Scraping Data from: https://www.eversports.ch/s/dayuma-pole-and-acrobatics\n",
      "Pole Studio Data: 1 entries\n",
      "Starting URL reconstruction...\n"
     ]
    },
    {
     "name": "stderr",
     "output_type": "stream",
     "text": [
      "Processing URLs:   2%|▏         | 8/502 [01:27<52:52,  6.42s/it]  "
     ]
    },
    {
     "name": "stdout",
     "output_type": "stream",
     "text": [
      "Error during HTTP request: 404 Client Error: Not Found for url: https://www.eversports.de/s/polefriends\n",
      "Converting to DataFrame...\n",
      "Validating URLs...\n",
      "\n",
      "Processing completed.\n",
      "-------------------------------- \n",
      "\n",
      "Starting URL reconstruction...\n"
     ]
    },
    {
     "name": "stderr",
     "output_type": "stream",
     "text": [
      "Processing URLs:   2%|▏         | 9/502 [01:28<37:52,  4.61s/it]"
     ]
    },
    {
     "name": "stdout",
     "output_type": "stream",
     "text": [
      "Error during HTTP request: 404 Client Error: Not Found for url: https://www.eversports.de/s/happy-pole-place\n",
      "Converting to DataFrame...\n",
      "Validating URLs...\n",
      "\n",
      "Processing completed.\n",
      "-------------------------------- \n",
      "\n",
      "Starting URL reconstruction...\n"
     ]
    },
    {
     "name": "stderr",
     "output_type": "stream",
     "text": [
      "Processing URLs:   2%|▏         | 10/502 [01:29<29:17,  3.57s/it]"
     ]
    },
    {
     "name": "stdout",
     "output_type": "stream",
     "text": [
      "Error during HTTP request: 404 Client Error: Not Found for url: https://www.eversports.de/s/dance-department\n",
      "Converting to DataFrame...\n",
      "Validating URLs...\n",
      "\n",
      "Processing completed.\n",
      "-------------------------------- \n",
      "\n",
      "Starting URL reconstruction...\n"
     ]
    },
    {
     "name": "stderr",
     "output_type": "stream",
     "text": [
      "Processing URLs:   2%|▏         | 11/502 [01:30<21:55,  2.68s/it]"
     ]
    },
    {
     "name": "stdout",
     "output_type": "stream",
     "text": [
      "Error during HTTP request: 404 Client Error: Not Found for url: https://www.eversports.de/s/nordpole-studio\n",
      "Converting to DataFrame...\n",
      "Validating URLs...\n",
      "\n",
      "Processing completed.\n",
      "-------------------------------- \n",
      "\n",
      "Starting URL reconstruction...\n"
     ]
    },
    {
     "name": "stderr",
     "output_type": "stream",
     "text": [
      "Processing URLs:   2%|▏         | 12/502 [01:35<28:51,  3.53s/it]"
     ]
    },
    {
     "name": "stdout",
     "output_type": "stream",
     "text": [
      "Error during HTTP request: Exceeded 30 redirects.\n",
      "Converting to DataFrame...\n",
      "Validating URLs...\n",
      "\n",
      "Processing completed.\n",
      "-------------------------------- \n",
      "\n",
      "Starting URL reconstruction...\n"
     ]
    },
    {
     "name": "stderr",
     "output_type": "stream",
     "text": [
      "2024-03-11 18:27:38,087 - INFO - Processing URL 1/1: https://www.eversports.de/s/polestation-academy\n"
     ]
    },
    {
     "name": "stdout",
     "output_type": "stream",
     "text": [
      "Converting to DataFrame...\n",
      "Validating URLs...\n"
     ]
    },
    {
     "name": "stderr",
     "output_type": "stream",
     "text": [
      "2024-03-11 18:27:39,612 - INFO - URL https://www.eversports.de/s/polestation-academy is valid.\n"
     ]
    },
    {
     "name": "stdout",
     "output_type": "stream",
     "text": [
      "Scraping Pole Studio Data from https://www.eversports.de/s/polestation-academy...\n"
     ]
    },
    {
     "name": "stderr",
     "output_type": "stream",
     "text": [
      "Processing URLs:   3%|▎         | 13/502 [01:38<26:53,  3.30s/it]"
     ]
    },
    {
     "name": "stdout",
     "output_type": "stream",
     "text": [
      "\n",
      "Processing completed.\n",
      "-------------------------------- \n",
      "\n",
      "2024-03-11 18:27:39 - INFO - Scraping Data from: https://www.eversports.de/s/polestation-academy\n",
      "Pole Studio Data: 1 entries\n",
      "Starting URL reconstruction...\n"
     ]
    },
    {
     "name": "stderr",
     "output_type": "stream",
     "text": [
      "2024-03-11 18:27:42,064 - INFO - Processing URL 1/1: https://www.eversports.de/s/polerinas-gmbh\n"
     ]
    },
    {
     "name": "stdout",
     "output_type": "stream",
     "text": [
      "Converting to DataFrame...\n",
      "Validating URLs...\n"
     ]
    },
    {
     "name": "stderr",
     "output_type": "stream",
     "text": [
      "2024-03-11 18:27:42,916 - INFO - URL https://www.eversports.de/s/polerinas-gmbh is valid.\n"
     ]
    },
    {
     "name": "stdout",
     "output_type": "stream",
     "text": [
      "Scraping Pole Studio Data from https://www.eversports.de/s/polerinas-gmbh...\n"
     ]
    },
    {
     "name": "stderr",
     "output_type": "stream",
     "text": [
      "Processing URLs:   3%|▎         | 14/502 [01:41<26:50,  3.30s/it]"
     ]
    },
    {
     "name": "stdout",
     "output_type": "stream",
     "text": [
      "\n",
      "Processing completed.\n",
      "-------------------------------- \n",
      "\n",
      "2024-03-11 18:27:43 - INFO - Scraping Data from: https://www.eversports.ch/s/polerinas-gmbh\n",
      "Pole Studio Data: 1 entries\n",
      "Starting URL reconstruction...\n"
     ]
    },
    {
     "name": "stderr",
     "output_type": "stream",
     "text": [
      "Processing URLs:   3%|▎         | 15/502 [01:42<21:12,  2.61s/it]"
     ]
    },
    {
     "name": "stdout",
     "output_type": "stream",
     "text": [
      "Error during HTTP request: 404 Client Error: Not Found for url: https://www.eversports.de/s/dance-%26-pole-solingen\n",
      "Converting to DataFrame...\n",
      "Validating URLs...\n",
      "\n",
      "Processing completed.\n",
      "-------------------------------- \n",
      "\n",
      "Starting URL reconstruction...\n"
     ]
    },
    {
     "name": "stderr",
     "output_type": "stream",
     "text": [
      "2024-03-11 18:27:45,944 - INFO - Processing URL 1/2: https://www.eversports.de/s/moving-lions-polefitness-gmbh\n"
     ]
    },
    {
     "name": "stdout",
     "output_type": "stream",
     "text": [
      "Converting to DataFrame...\n",
      "Validating URLs...\n"
     ]
    },
    {
     "name": "stderr",
     "output_type": "stream",
     "text": [
      "2024-03-11 18:27:47,066 - INFO - URL https://www.eversports.de/s/moving-lions-polefitness-gmbh is valid.\n",
      "2024-03-11 18:27:47,066 - INFO - Processing URL 2/2: https://www.eversports.de/sw/moving-lions-polefitness-gmbh\n",
      "2024-03-11 18:27:47,666 - INFO - URL https://www.eversports.de/sw/moving-lions-polefitness-gmbh is not valid.\n"
     ]
    },
    {
     "name": "stdout",
     "output_type": "stream",
     "text": [
      "Scraping Pole Studio Data from https://www.eversports.de/s/moving-lions-polefitness-gmbh...\n"
     ]
    },
    {
     "name": "stderr",
     "output_type": "stream",
     "text": [
      "Processing URLs:   3%|▎         | 16/502 [01:46<24:00,  2.96s/it]"
     ]
    },
    {
     "name": "stdout",
     "output_type": "stream",
     "text": [
      "\n",
      "Processing completed.\n",
      "-------------------------------- \n",
      "\n",
      "2024-03-11 18:27:48 - INFO - Scraping Data from: https://www.eversports.ch/s/moving-lions-polefitness-gmbh\n",
      "Pole Studio Data: 1 entries\n",
      "Starting URL reconstruction...\n"
     ]
    },
    {
     "name": "stderr",
     "output_type": "stream",
     "text": [
      "Processing URLs:   3%|▎         | 17/502 [01:53<32:29,  4.02s/it]"
     ]
    },
    {
     "name": "stdout",
     "output_type": "stream",
     "text": [
      "Error during HTTP request: Exceeded 30 redirects.\n",
      "Converting to DataFrame...\n",
      "Validating URLs...\n",
      "\n",
      "Processing completed.\n",
      "-------------------------------- \n",
      "\n",
      "Starting URL reconstruction...\n"
     ]
    },
    {
     "name": "stderr",
     "output_type": "stream",
     "text": [
      "Processing URLs:   4%|▎         | 18/502 [01:54<24:44,  3.07s/it]"
     ]
    },
    {
     "name": "stdout",
     "output_type": "stream",
     "text": [
      "Error during HTTP request: 404 Client Error: Not Found for url: https://www.eversports.de/s/vanilla-sky-pole-atelier\n",
      "Converting to DataFrame...\n",
      "Validating URLs...\n",
      "\n",
      "Processing completed.\n",
      "-------------------------------- \n",
      "\n",
      "Starting URL reconstruction...\n"
     ]
    },
    {
     "name": "stderr",
     "output_type": "stream",
     "text": [
      "Processing URLs:   4%|▍         | 19/502 [01:54<19:18,  2.40s/it]"
     ]
    },
    {
     "name": "stdout",
     "output_type": "stream",
     "text": [
      "Error during HTTP request: 404 Client Error: Not Found for url: https://www.eversports.de/s/pole-place-imst\n",
      "Converting to DataFrame...\n",
      "Validating URLs...\n",
      "\n",
      "Processing completed.\n",
      "-------------------------------- \n",
      "\n",
      "Starting URL reconstruction...\n"
     ]
    },
    {
     "name": "stderr",
     "output_type": "stream",
     "text": [
      "2024-03-11 18:27:58,032 - INFO - Processing URL 1/2: https://www.eversports.de/s/royal-pole\n"
     ]
    },
    {
     "name": "stdout",
     "output_type": "stream",
     "text": [
      "Converting to DataFrame...\n",
      "Validating URLs...\n"
     ]
    },
    {
     "name": "stderr",
     "output_type": "stream",
     "text": [
      "2024-03-11 18:27:59,074 - INFO - URL https://www.eversports.de/s/royal-pole is valid.\n",
      "2024-03-11 18:27:59,076 - INFO - Processing URL 2/2: https://www.eversports.de/sw/royal-pole\n",
      "2024-03-11 18:27:59,792 - INFO - URL https://www.eversports.de/sw/royal-pole is not valid.\n"
     ]
    },
    {
     "name": "stdout",
     "output_type": "stream",
     "text": [
      "Scraping Pole Studio Data from https://www.eversports.de/s/royal-pole...\n"
     ]
    },
    {
     "name": "stderr",
     "output_type": "stream",
     "text": [
      "Processing URLs:   4%|▍         | 20/502 [01:58<23:09,  2.88s/it]"
     ]
    },
    {
     "name": "stdout",
     "output_type": "stream",
     "text": [
      "\n",
      "Processing completed.\n",
      "-------------------------------- \n",
      "\n",
      "2024-03-11 18:28:00 - INFO - Scraping Data from: https://www.eversports.ch/s/royal-pole\n",
      "Pole Studio Data: 1 entries\n",
      "Starting URL reconstruction...\n"
     ]
    },
    {
     "name": "stderr",
     "output_type": "stream",
     "text": [
      "2024-03-11 18:28:02,270 - INFO - Processing URL 1/1: https://www.eversports.de/s/loft1-zurich-hardbrucke\n"
     ]
    },
    {
     "name": "stdout",
     "output_type": "stream",
     "text": [
      "Converting to DataFrame...\n",
      "Validating URLs...\n"
     ]
    },
    {
     "name": "stderr",
     "output_type": "stream",
     "text": [
      "2024-03-11 18:28:05,028 - INFO - URL https://www.eversports.de/s/loft1-zurich-hardbrucke is valid.\n"
     ]
    },
    {
     "name": "stdout",
     "output_type": "stream",
     "text": [
      "Scraping Pole Studio Data from https://www.eversports.de/s/loft1-zurich-hardbrucke...\n"
     ]
    },
    {
     "name": "stderr",
     "output_type": "stream",
     "text": [
      "Processing URLs:   4%|▍         | 21/502 [02:04<28:38,  3.57s/it]"
     ]
    },
    {
     "name": "stdout",
     "output_type": "stream",
     "text": [
      "\n",
      "Processing completed.\n",
      "-------------------------------- \n",
      "\n",
      "2024-03-11 18:28:05 - INFO - Scraping Data from: https://www.eversports.ch/s/loft1-zurich-hardbrucke\n",
      "Pole Studio Data: 1 entries\n",
      "Starting URL reconstruction...\n"
     ]
    },
    {
     "name": "stderr",
     "output_type": "stream",
     "text": [
      "Processing URLs:   4%|▍         | 22/502 [02:04<21:48,  2.73s/it]"
     ]
    },
    {
     "name": "stdout",
     "output_type": "stream",
     "text": [
      "Error during HTTP request: 404 Client Error: Not Found for url: https://www.eversports.de/s/home-of-pole\n",
      "Converting to DataFrame...\n",
      "Validating URLs...\n",
      "\n",
      "Processing completed.\n",
      "-------------------------------- \n",
      "\n",
      "Starting URL reconstruction...\n"
     ]
    },
    {
     "name": "stderr",
     "output_type": "stream",
     "text": [
      "Processing URLs:   5%|▍         | 23/502 [02:05<16:35,  2.08s/it]"
     ]
    },
    {
     "name": "stdout",
     "output_type": "stream",
     "text": [
      "Error during HTTP request: 404 Client Error: Not Found for url: https://www.eversports.de/s/pole-faction-pole-dance-&-fitness\n",
      "Converting to DataFrame...\n",
      "Validating URLs...\n",
      "\n",
      "Processing completed.\n",
      "-------------------------------- \n",
      "\n",
      "Starting URL reconstruction...\n"
     ]
    },
    {
     "name": "stderr",
     "output_type": "stream",
     "text": [
      "Processing URLs:   5%|▍         | 24/502 [02:05<12:54,  1.62s/it]"
     ]
    },
    {
     "name": "stdout",
     "output_type": "stream",
     "text": [
      "Error during HTTP request: 404 Client Error: Not Found for url: https://www.eversports.de/s/dance-&-pole-deltawerk\n",
      "Converting to DataFrame...\n",
      "Validating URLs...\n",
      "\n",
      "Processing completed.\n",
      "-------------------------------- \n",
      "\n",
      "Starting URL reconstruction...\n"
     ]
    },
    {
     "name": "stderr",
     "output_type": "stream",
     "text": [
      "2024-03-11 18:28:08,397 - INFO - Processing URL 1/1: https://www.eversports.de/s/inflow-or-poledance-fitness-and-yoga\n"
     ]
    },
    {
     "name": "stdout",
     "output_type": "stream",
     "text": [
      "Converting to DataFrame...\n",
      "Validating URLs...\n"
     ]
    },
    {
     "name": "stderr",
     "output_type": "stream",
     "text": [
      "2024-03-11 18:28:09,272 - INFO - URL https://www.eversports.de/s/inflow-or-poledance-fitness-and-yoga is valid.\n"
     ]
    },
    {
     "name": "stdout",
     "output_type": "stream",
     "text": [
      "Scraping Pole Studio Data from https://www.eversports.de/s/inflow-or-poledance-fitness-and-yoga...\n"
     ]
    },
    {
     "name": "stderr",
     "output_type": "stream",
     "text": [
      "Processing URLs:   5%|▍         | 25/502 [02:08<15:17,  1.92s/it]"
     ]
    },
    {
     "name": "stdout",
     "output_type": "stream",
     "text": [
      "\n",
      "Processing completed.\n",
      "-------------------------------- \n",
      "\n",
      "2024-03-11 18:28:09 - INFO - Scraping Data from: https://www.eversports.at/s/inflow-or-poledance-fitness-and-yoga\n",
      "Pole Studio Data: 1 entries\n",
      "Starting URL reconstruction...\n"
     ]
    },
    {
     "name": "stderr",
     "output_type": "stream",
     "text": [
      "Processing URLs:   5%|▌         | 26/502 [02:09<12:26,  1.57s/it]"
     ]
    },
    {
     "name": "stdout",
     "output_type": "stream",
     "text": [
      "Error during HTTP request: 404 Client Error: Not Found for url: https://www.eversports.de/s/tsg-blau-gold-ballett-und-pole-dance-studio\n",
      "Converting to DataFrame...\n",
      "Validating URLs...\n",
      "\n",
      "Processing completed.\n",
      "-------------------------------- \n",
      "\n",
      "Starting URL reconstruction...\n"
     ]
    },
    {
     "name": "stderr",
     "output_type": "stream",
     "text": [
      "2024-03-11 18:28:11,641 - INFO - Processing URL 1/1: https://www.eversports.de/s/dunya-pole-dance-school\n"
     ]
    },
    {
     "name": "stdout",
     "output_type": "stream",
     "text": [
      "Converting to DataFrame...\n",
      "Validating URLs...\n"
     ]
    },
    {
     "name": "stderr",
     "output_type": "stream",
     "text": [
      "2024-03-11 18:28:12,572 - INFO - URL https://www.eversports.de/s/dunya-pole-dance-school is valid.\n"
     ]
    },
    {
     "name": "stdout",
     "output_type": "stream",
     "text": [
      "Scraping Pole Studio Data from https://www.eversports.de/s/dunya-pole-dance-school...\n"
     ]
    },
    {
     "name": "stderr",
     "output_type": "stream",
     "text": [
      "Processing URLs:   5%|▌         | 27/502 [02:11<14:24,  1.82s/it]"
     ]
    },
    {
     "name": "stdout",
     "output_type": "stream",
     "text": [
      "\n",
      "Processing completed.\n",
      "-------------------------------- \n",
      "\n",
      "2024-03-11 18:28:13 - INFO - Scraping Data from: https://www.eversports.de/s/dunya-pole-dance-school\n",
      "Pole Studio Data: 1 entries\n",
      "Starting URL reconstruction...\n"
     ]
    },
    {
     "name": "stderr",
     "output_type": "stream",
     "text": [
      "Processing URLs:   6%|▌         | 28/502 [02:12<11:33,  1.46s/it]"
     ]
    },
    {
     "name": "stdout",
     "output_type": "stream",
     "text": [
      "Error during HTTP request: 404 Client Error: Not Found for url: https://www.eversports.de/s/flexx-arts-memmingen\n",
      "Converting to DataFrame...\n",
      "Validating URLs...\n",
      "\n",
      "Processing completed.\n",
      "-------------------------------- \n",
      "\n",
      "Starting URL reconstruction...\n"
     ]
    },
    {
     "name": "stderr",
     "output_type": "stream",
     "text": [
      "Processing URLs:   6%|▌         | 29/502 [02:13<09:46,  1.24s/it]"
     ]
    },
    {
     "name": "stdout",
     "output_type": "stream",
     "text": [
      "Error during HTTP request: 404 Client Error: Not Found for url: https://www.eversports.de/s/pole-%40-bremerhaven\n",
      "Converting to DataFrame...\n",
      "Validating URLs...\n",
      "\n",
      "Processing completed.\n",
      "-------------------------------- \n",
      "\n",
      "Starting URL reconstruction...\n"
     ]
    },
    {
     "name": "stderr",
     "output_type": "stream",
     "text": [
      "2024-03-11 18:28:15,256 - INFO - Processing URL 1/2: https://www.eversports.de/s/pole-plus\n"
     ]
    },
    {
     "name": "stdout",
     "output_type": "stream",
     "text": [
      "Converting to DataFrame...\n",
      "Validating URLs...\n"
     ]
    },
    {
     "name": "stderr",
     "output_type": "stream",
     "text": [
      "2024-03-11 18:28:16,091 - INFO - URL https://www.eversports.de/s/pole-plus is valid.\n",
      "2024-03-11 18:28:16,092 - INFO - Processing URL 2/2: https://www.eversports.de/sw/pole-plus\n",
      "2024-03-11 18:28:16,822 - INFO - URL https://www.eversports.de/sw/pole-plus is valid.\n"
     ]
    },
    {
     "name": "stdout",
     "output_type": "stream",
     "text": [
      "Scraping Pole Studio Data from https://www.eversports.de/s/pole-plus...\n",
      "Scraping Workshops Data from https://www.eversports.de/sw/pole-plus...\n",
      "Scraping Workshop Details from https://www.eversports.de/e/workshop/lBLI7xf...\n",
      "Scraping Workshop Details from https://www.eversports.de/e/workshop/gJvAipC...\n",
      "Scraping Workshop Details from https://www.eversports.de/e/workshop/dJBl325...\n"
     ]
    },
    {
     "name": "stderr",
     "output_type": "stream",
     "text": [
      "Processing URLs:   6%|▌         | 30/502 [02:19<22:12,  2.82s/it]"
     ]
    },
    {
     "name": "stdout",
     "output_type": "stream",
     "text": [
      "\n",
      "Processing completed.\n",
      "-------------------------------- \n",
      "\n",
      "2024-03-11 18:28:20 - INFO - Scraping Data from: https://www.eversports.de/s/pole-plus\n",
      "Pole Studio Data: 1 entries\n",
      "2024-03-11 18:28:20 - INFO - Scraping Data from: https://www.eversports.de/s/pole-plus\n",
      "Workshops Data: 3 entries\n",
      "2024-03-11 18:28:20 - INFO - Scraping Data from: https://www.eversports.de/s/pole-plus\n",
      "Workshop Details: 3 entries\n",
      "Starting URL reconstruction...\n"
     ]
    },
    {
     "name": "stderr",
     "output_type": "stream",
     "text": [
      "Processing URLs:   6%|▌         | 31/502 [02:20<17:35,  2.24s/it]"
     ]
    },
    {
     "name": "stdout",
     "output_type": "stream",
     "text": [
      "Error during HTTP request: 404 Client Error: Not Found for url: https://www.eversports.de/s/pole-sport-coburg---akrobatik-%26-tanz-\n",
      "Converting to DataFrame...\n",
      "Validating URLs...\n",
      "\n",
      "Processing completed.\n",
      "-------------------------------- \n",
      "\n",
      "Starting URL reconstruction...\n"
     ]
    },
    {
     "name": "stderr",
     "output_type": "stream",
     "text": [
      "2024-03-11 18:28:23,247 - INFO - Processing URL 1/1: https://www.eversports.de/s/polestation-academy\n"
     ]
    },
    {
     "name": "stdout",
     "output_type": "stream",
     "text": [
      "Converting to DataFrame...\n",
      "Validating URLs...\n"
     ]
    },
    {
     "name": "stderr",
     "output_type": "stream",
     "text": [
      "2024-03-11 18:28:24,983 - INFO - URL https://www.eversports.de/s/polestation-academy is valid.\n"
     ]
    },
    {
     "name": "stdout",
     "output_type": "stream",
     "text": [
      "Scraping Pole Studio Data from https://www.eversports.de/s/polestation-academy...\n"
     ]
    },
    {
     "name": "stderr",
     "output_type": "stream",
     "text": [
      "Processing URLs:   6%|▋         | 32/502 [02:23<20:26,  2.61s/it]"
     ]
    },
    {
     "name": "stdout",
     "output_type": "stream",
     "text": [
      "\n",
      "Processing completed.\n",
      "-------------------------------- \n",
      "\n",
      "2024-03-11 18:28:25 - INFO - Scraping Data from: https://www.eversports.at/s/polestation-academy\n",
      "Pole Studio Data: 1 entries\n",
      "Starting URL reconstruction...\n"
     ]
    },
    {
     "name": "stderr",
     "output_type": "stream",
     "text": [
      "2024-03-11 18:28:26,162 - INFO - Processing URL 1/1: https://www.eversports.de/s/pole-dance-studio-passion-hannover\n"
     ]
    },
    {
     "name": "stdout",
     "output_type": "stream",
     "text": [
      "Converting to DataFrame...\n",
      "Validating URLs...\n"
     ]
    },
    {
     "name": "stderr",
     "output_type": "stream",
     "text": [
      "2024-03-11 18:28:27,069 - INFO - URL https://www.eversports.de/s/pole-dance-studio-passion-hannover is valid.\n"
     ]
    },
    {
     "name": "stdout",
     "output_type": "stream",
     "text": [
      "Scraping Pole Studio Data from https://www.eversports.de/s/pole-dance-studio-passion-hannover...\n"
     ]
    },
    {
     "name": "stderr",
     "output_type": "stream",
     "text": [
      "Processing URLs:   7%|▋         | 33/502 [02:26<19:17,  2.47s/it]"
     ]
    },
    {
     "name": "stdout",
     "output_type": "stream",
     "text": [
      "\n",
      "Processing completed.\n",
      "-------------------------------- \n",
      "\n",
      "2024-03-11 18:28:27 - INFO - Scraping Data from: https://www.eversports.de/s/pole-dance-studio-passion-hannover\n",
      "Pole Studio Data: 1 entries\n",
      "Starting URL reconstruction...\n"
     ]
    },
    {
     "name": "stderr",
     "output_type": "stream",
     "text": [
      "Processing URLs:   7%|▋         | 34/502 [02:27<15:41,  2.01s/it]"
     ]
    },
    {
     "name": "stdout",
     "output_type": "stream",
     "text": [
      "Error during HTTP request: 404 Client Error: Not Found for url: https://www.eversports.de/s/pole-bijou\n",
      "Converting to DataFrame...\n",
      "Validating URLs...\n",
      "\n",
      "Processing completed.\n",
      "-------------------------------- \n",
      "\n",
      "Starting URL reconstruction...\n"
     ]
    },
    {
     "name": "stderr",
     "output_type": "stream",
     "text": [
      "Processing URLs:   7%|▋         | 35/502 [02:27<12:47,  1.64s/it]"
     ]
    },
    {
     "name": "stdout",
     "output_type": "stream",
     "text": [
      "Error during HTTP request: 404 Client Error: Not Found for url: https://www.eversports.de/s/pole-studio-koblenz\n",
      "Converting to DataFrame...\n",
      "Validating URLs...\n",
      "\n",
      "Processing completed.\n",
      "-------------------------------- \n",
      "\n",
      "Starting URL reconstruction...\n"
     ]
    },
    {
     "name": "stderr",
     "output_type": "stream",
     "text": [
      "Processing URLs:   7%|▋         | 36/502 [02:28<10:39,  1.37s/it]"
     ]
    },
    {
     "name": "stdout",
     "output_type": "stream",
     "text": [
      "Error during HTTP request: 404 Client Error: Not Found for url: https://www.eversports.de/s/wonderpole\n",
      "Converting to DataFrame...\n",
      "Validating URLs...\n",
      "\n",
      "Processing completed.\n",
      "-------------------------------- \n",
      "\n",
      "Starting URL reconstruction...\n"
     ]
    },
    {
     "name": "stderr",
     "output_type": "stream",
     "text": [
      "Processing URLs:   7%|▋         | 37/502 [02:29<09:04,  1.17s/it]"
     ]
    },
    {
     "name": "stdout",
     "output_type": "stream",
     "text": [
      "Error during HTTP request: 404 Client Error: Not Found for url: https://www.eversports.de/s/polemotion-freiburg\n",
      "Converting to DataFrame...\n",
      "Validating URLs...\n",
      "\n",
      "Processing completed.\n",
      "-------------------------------- \n",
      "\n",
      "Starting URL reconstruction...\n"
     ]
    },
    {
     "name": "stderr",
     "output_type": "stream",
     "text": [
      "2024-03-11 18:28:31,729 - INFO - Processing URL 1/1: https://www.eversports.de/s/bodysoul-studio-duesseldorf\n"
     ]
    },
    {
     "name": "stdout",
     "output_type": "stream",
     "text": [
      "Converting to DataFrame...\n",
      "Validating URLs...\n"
     ]
    },
    {
     "name": "stderr",
     "output_type": "stream",
     "text": [
      "2024-03-11 18:28:32,819 - INFO - URL https://www.eversports.de/s/bodysoul-studio-duesseldorf is valid.\n"
     ]
    },
    {
     "name": "stdout",
     "output_type": "stream",
     "text": [
      "Scraping Pole Studio Data from https://www.eversports.de/s/bodysoul-studio-duesseldorf...\n"
     ]
    },
    {
     "name": "stderr",
     "output_type": "stream",
     "text": [
      "Processing URLs:   8%|▊         | 38/502 [02:31<12:17,  1.59s/it]"
     ]
    },
    {
     "name": "stdout",
     "output_type": "stream",
     "text": [
      "\n",
      "Processing completed.\n",
      "-------------------------------- \n",
      "\n",
      "2024-03-11 18:28:33 - INFO - Scraping Data from: https://www.eversports.de/s/bodysoul-studio-duesseldorf\n",
      "Pole Studio Data: 1 entries\n",
      "Starting URL reconstruction...\n"
     ]
    },
    {
     "name": "stderr",
     "output_type": "stream",
     "text": [
      "Processing URLs:   8%|▊         | 39/502 [02:34<14:19,  1.86s/it]"
     ]
    },
    {
     "name": "stdout",
     "output_type": "stream",
     "text": [
      "Error during HTTP request: Exceeded 30 redirects.\n",
      "Converting to DataFrame...\n",
      "Validating URLs...\n",
      "\n",
      "Processing completed.\n",
      "-------------------------------- \n",
      "\n",
      "Starting URL reconstruction...\n"
     ]
    },
    {
     "name": "stderr",
     "output_type": "stream",
     "text": [
      "2024-03-11 18:28:36,602 - INFO - Processing URL 1/1: https://www.eversports.de/s/indeed-unique-studio-wien\n"
     ]
    },
    {
     "name": "stdout",
     "output_type": "stream",
     "text": [
      "Converting to DataFrame...\n",
      "Validating URLs...\n"
     ]
    },
    {
     "name": "stderr",
     "output_type": "stream",
     "text": [
      "2024-03-11 18:28:37,365 - INFO - URL https://www.eversports.de/s/indeed-unique-studio-wien is valid.\n"
     ]
    },
    {
     "name": "stdout",
     "output_type": "stream",
     "text": [
      "Scraping Pole Studio Data from https://www.eversports.de/s/indeed-unique-studio-wien...\n"
     ]
    },
    {
     "name": "stderr",
     "output_type": "stream",
     "text": [
      "Processing URLs:   8%|▊         | 40/502 [02:36<14:54,  1.94s/it]"
     ]
    },
    {
     "name": "stdout",
     "output_type": "stream",
     "text": [
      "\n",
      "Processing completed.\n",
      "-------------------------------- \n",
      "\n",
      "2024-03-11 18:28:37 - INFO - Scraping Data from: https://www.eversports.at/s/indeed-unique-studio-wien\n",
      "Pole Studio Data: 1 entries\n",
      "Starting URL reconstruction...\n"
     ]
    },
    {
     "name": "stderr",
     "output_type": "stream",
     "text": [
      "Processing URLs:   8%|▊         | 41/502 [02:37<12:49,  1.67s/it]"
     ]
    },
    {
     "name": "stdout",
     "output_type": "stream",
     "text": [
      "Error during HTTP request: 404 Client Error: Not Found for url: https://www.eversports.de/s/pole-dance-academy-neuburg\n",
      "Converting to DataFrame...\n",
      "Validating URLs...\n",
      "\n",
      "Processing completed.\n",
      "-------------------------------- \n",
      "\n",
      "Starting URL reconstruction...\n"
     ]
    },
    {
     "name": "stderr",
     "output_type": "stream",
     "text": [
      "2024-03-11 18:28:39,866 - INFO - Processing URL 1/1: https://www.eversports.de/s/center-of-moving-arts\n"
     ]
    },
    {
     "name": "stdout",
     "output_type": "stream",
     "text": [
      "Converting to DataFrame...\n",
      "Validating URLs...\n"
     ]
    },
    {
     "name": "stderr",
     "output_type": "stream",
     "text": [
      "2024-03-11 18:28:40,895 - INFO - URL https://www.eversports.de/s/center-of-moving-arts is valid.\n"
     ]
    },
    {
     "name": "stdout",
     "output_type": "stream",
     "text": [
      "Scraping Pole Studio Data from https://www.eversports.de/s/center-of-moving-arts...\n"
     ]
    },
    {
     "name": "stderr",
     "output_type": "stream",
     "text": [
      "Processing URLs:   8%|▊         | 42/502 [02:40<14:53,  1.94s/it]"
     ]
    },
    {
     "name": "stdout",
     "output_type": "stream",
     "text": [
      "\n",
      "Processing completed.\n",
      "-------------------------------- \n",
      "\n",
      "2024-03-11 18:28:41 - INFO - Scraping Data from: https://www.eversports.de/s/center-of-moving-arts\n",
      "Pole Studio Data: 1 entries\n",
      "Starting URL reconstruction...\n"
     ]
    },
    {
     "name": "stderr",
     "output_type": "stream",
     "text": [
      "2024-03-11 18:28:42,363 - INFO - Processing URL 1/1: https://www.eversports.de/s/janardana-yoga\n"
     ]
    },
    {
     "name": "stdout",
     "output_type": "stream",
     "text": [
      "Converting to DataFrame...\n",
      "Validating URLs...\n"
     ]
    },
    {
     "name": "stderr",
     "output_type": "stream",
     "text": [
      "2024-03-11 18:28:43,299 - INFO - URL https://www.eversports.de/s/janardana-yoga is valid.\n"
     ]
    },
    {
     "name": "stdout",
     "output_type": "stream",
     "text": [
      "Scraping Pole Studio Data from https://www.eversports.de/s/janardana-yoga...\n"
     ]
    },
    {
     "name": "stderr",
     "output_type": "stream",
     "text": [
      "Processing URLs:   9%|▊         | 43/502 [02:42<15:34,  2.04s/it]"
     ]
    },
    {
     "name": "stdout",
     "output_type": "stream",
     "text": [
      "\n",
      "Processing completed.\n",
      "-------------------------------- \n",
      "\n",
      "2024-03-11 18:28:43 - INFO - Scraping Data from: https://www.eversports.de/s/janardana-yoga\n",
      "Pole Studio Data: 1 entries\n",
      "Starting URL reconstruction...\n"
     ]
    },
    {
     "name": "stderr",
     "output_type": "stream",
     "text": [
      "Processing URLs:   9%|▉         | 44/502 [02:45<17:47,  2.33s/it]"
     ]
    },
    {
     "name": "stdout",
     "output_type": "stream",
     "text": [
      "Error during HTTP request: Exceeded 30 redirects.\n",
      "Converting to DataFrame...\n",
      "Validating URLs...\n",
      "\n",
      "Processing completed.\n",
      "-------------------------------- \n",
      "\n",
      "Starting URL reconstruction...\n"
     ]
    },
    {
     "name": "stderr",
     "output_type": "stream",
     "text": [
      "2024-03-11 18:28:47,568 - INFO - Processing URL 1/2: https://www.eversports.de/s/lespole\n"
     ]
    },
    {
     "name": "stdout",
     "output_type": "stream",
     "text": [
      "Converting to DataFrame...\n",
      "Validating URLs...\n"
     ]
    },
    {
     "name": "stderr",
     "output_type": "stream",
     "text": [
      "2024-03-11 18:28:48,643 - INFO - URL https://www.eversports.de/s/lespole is valid.\n",
      "2024-03-11 18:28:48,644 - INFO - Processing URL 2/2: https://www.eversports.de/sw/lespole\n",
      "2024-03-11 18:28:49,533 - INFO - URL https://www.eversports.de/sw/lespole is valid.\n"
     ]
    },
    {
     "name": "stdout",
     "output_type": "stream",
     "text": [
      "Scraping Pole Studio Data from https://www.eversports.de/s/lespole...\n",
      "Scraping Workshops Data from https://www.eversports.de/sw/lespole...\n",
      "Scraping Workshop Details from https://www.eversports.de/e/workshop/4lKTG4R...\n",
      "Scraping Workshop Details from https://www.eversports.de/e/workshop/lByHwWr...\n",
      "Scraping Workshop Details from https://www.eversports.de/e/workshop/VC_twiJ...\n",
      "Scraping Workshop Details from https://www.eversports.de/e/workshop/L-VuR9j...\n"
     ]
    },
    {
     "name": "stderr",
     "output_type": "stream",
     "text": [
      "Processing URLs:   9%|▉         | 45/502 [02:52<29:30,  3.87s/it]"
     ]
    },
    {
     "name": "stdout",
     "output_type": "stream",
     "text": [
      "\n",
      "Processing completed.\n",
      "-------------------------------- \n",
      "\n",
      "2024-03-11 18:28:54 - INFO - Scraping Data from: https://www.eversports.de/s/lespole\n",
      "Pole Studio Data: 1 entries\n",
      "2024-03-11 18:28:54 - INFO - Scraping Data from: https://www.eversports.de/s/lespole\n",
      "Workshops Data: 4 entries\n",
      "2024-03-11 18:28:54 - INFO - Scraping Data from: https://www.eversports.de/s/lespole\n",
      "Workshop Details: 4 entries\n",
      "Starting URL reconstruction...\n"
     ]
    },
    {
     "name": "stderr",
     "output_type": "stream",
     "text": [
      "2024-03-11 18:28:55,751 - INFO - Processing URL 1/1: https://www.eversports.de/s/feel-good-factory-pole-stretch-fly\n"
     ]
    },
    {
     "name": "stdout",
     "output_type": "stream",
     "text": [
      "Converting to DataFrame...\n",
      "Validating URLs...\n"
     ]
    },
    {
     "name": "stderr",
     "output_type": "stream",
     "text": [
      "2024-03-11 18:28:57,301 - INFO - URL https://www.eversports.de/s/feel-good-factory-pole-stretch-fly is valid.\n"
     ]
    },
    {
     "name": "stdout",
     "output_type": "stream",
     "text": [
      "Scraping Pole Studio Data from https://www.eversports.de/s/feel-good-factory-pole-stretch-fly...\n"
     ]
    },
    {
     "name": "stderr",
     "output_type": "stream",
     "text": [
      "Processing URLs:   9%|▉         | 46/502 [02:56<28:43,  3.78s/it]"
     ]
    },
    {
     "name": "stdout",
     "output_type": "stream",
     "text": [
      "\n",
      "Processing completed.\n",
      "-------------------------------- \n",
      "\n",
      "2024-03-11 18:28:57 - INFO - Scraping Data from: https://www.eversports.de/s/feel-good-factory-pole-stretch-fly\n",
      "Pole Studio Data: 1 entries\n",
      "Starting URL reconstruction...\n"
     ]
    },
    {
     "name": "stderr",
     "output_type": "stream",
     "text": [
      "2024-03-11 18:28:58,705 - INFO - Processing URL 1/1: https://www.eversports.de/s/munich-poledance\n"
     ]
    },
    {
     "name": "stdout",
     "output_type": "stream",
     "text": [
      "Converting to DataFrame...\n",
      "Validating URLs...\n"
     ]
    },
    {
     "name": "stderr",
     "output_type": "stream",
     "text": [
      "2024-03-11 18:28:59,790 - INFO - URL https://www.eversports.de/s/munich-poledance is valid.\n"
     ]
    },
    {
     "name": "stdout",
     "output_type": "stream",
     "text": [
      "Scraping Pole Studio Data from https://www.eversports.de/s/munich-poledance...\n"
     ]
    },
    {
     "name": "stderr",
     "output_type": "stream",
     "text": [
      "Processing URLs:   9%|▉         | 47/502 [02:59<26:23,  3.48s/it]"
     ]
    },
    {
     "name": "stdout",
     "output_type": "stream",
     "text": [
      "\n",
      "Processing completed.\n",
      "-------------------------------- \n",
      "\n",
      "2024-03-11 18:29:00 - INFO - Scraping Data from: https://www.eversports.de/s/munich-poledance\n",
      "Pole Studio Data: 1 entries\n",
      "Starting URL reconstruction...\n"
     ]
    },
    {
     "name": "stderr",
     "output_type": "stream",
     "text": [
      "Processing URLs:  10%|▉         | 48/502 [02:59<19:52,  2.63s/it]"
     ]
    },
    {
     "name": "stdout",
     "output_type": "stream",
     "text": [
      "Error during HTTP request: 404 Client Error: Not Found for url: https://www.eversports.de/s/pole-box\n",
      "Converting to DataFrame...\n",
      "Validating URLs...\n",
      "\n",
      "Processing completed.\n",
      "-------------------------------- \n",
      "\n",
      "Starting URL reconstruction...\n"
     ]
    },
    {
     "name": "stderr",
     "output_type": "stream",
     "text": [
      "2024-03-11 18:29:02,074 - INFO - Processing URL 1/2: https://www.eversports.de/s/vertical-pole-aerial-dance\n"
     ]
    },
    {
     "name": "stdout",
     "output_type": "stream",
     "text": [
      "Converting to DataFrame...\n",
      "Validating URLs...\n"
     ]
    },
    {
     "name": "stderr",
     "output_type": "stream",
     "text": [
      "2024-03-11 18:29:03,503 - INFO - URL https://www.eversports.de/s/vertical-pole-aerial-dance is valid.\n",
      "2024-03-11 18:29:03,504 - INFO - Processing URL 2/2: https://www.eversports.de/sw/vertical-pole-aerial-dance\n",
      "2024-03-11 18:29:04,271 - INFO - URL https://www.eversports.de/sw/vertical-pole-aerial-dance is valid.\n"
     ]
    },
    {
     "name": "stdout",
     "output_type": "stream",
     "text": [
      "Scraping Pole Studio Data from https://www.eversports.de/s/vertical-pole-aerial-dance...\n",
      "Scraping Workshops Data from https://www.eversports.de/sw/vertical-pole-aerial-dance...\n",
      "Scraping Workshop Details from https://www.eversports.de/e/workshop/zaT4yf0...\n",
      "Scraping Workshop Details from https://www.eversports.de/e/workshop/UhrDbEL...\n"
     ]
    },
    {
     "name": "stderr",
     "output_type": "stream",
     "text": [
      "Processing URLs:  10%|▉         | 49/502 [03:06<28:46,  3.81s/it]"
     ]
    },
    {
     "name": "stdout",
     "output_type": "stream",
     "text": [
      "\n",
      "Processing completed.\n",
      "-------------------------------- \n",
      "\n",
      "2024-03-11 18:29:07 - INFO - Scraping Data from: https://www.eversports.de/s/vertical-pole-aerial-dance\n",
      "Pole Studio Data: 1 entries\n",
      "2024-03-11 18:29:07 - INFO - Scraping Data from: https://www.eversports.de/s/vertical-pole-aerial-dance\n",
      "Workshops Data: 2 entries\n",
      "2024-03-11 18:29:07 - INFO - Scraping Data from: https://www.eversports.de/s/vertical-pole-aerial-dance\n",
      "Workshop Details: 2 entries\n",
      "Starting URL reconstruction...\n"
     ]
    },
    {
     "name": "stderr",
     "output_type": "stream",
     "text": [
      "Processing URLs:  10%|▉         | 50/502 [03:10<28:34,  3.79s/it]"
     ]
    },
    {
     "name": "stdout",
     "output_type": "stream",
     "text": [
      "Error during HTTP request: Exceeded 30 redirects.\n",
      "Converting to DataFrame...\n",
      "Validating URLs...\n",
      "\n",
      "Processing completed.\n",
      "-------------------------------- \n",
      "\n",
      "Starting URL reconstruction...\n"
     ]
    },
    {
     "name": "stderr",
     "output_type": "stream",
     "text": [
      "Processing URLs:  10%|█         | 51/502 [03:10<21:25,  2.85s/it]"
     ]
    },
    {
     "name": "stdout",
     "output_type": "stream",
     "text": [
      "Error during HTTP request: 404 Client Error: Not Found for url: https://www.eversports.de/s/airobics---pole-%26-aerial-dance-hamburg\n",
      "Converting to DataFrame...\n",
      "Validating URLs...\n",
      "\n",
      "Processing completed.\n",
      "-------------------------------- \n",
      "\n",
      "Starting URL reconstruction...\n"
     ]
    },
    {
     "name": "stderr",
     "output_type": "stream",
     "text": [
      "Processing URLs:  10%|█         | 52/502 [03:12<18:12,  2.43s/it]"
     ]
    },
    {
     "name": "stdout",
     "output_type": "stream",
     "text": [
      "Error during HTTP request: 404 Client Error: Not Found for url: https://www.eversports.de/s/exquisuite\n",
      "Converting to DataFrame...\n",
      "Validating URLs...\n",
      "\n",
      "Processing completed.\n",
      "-------------------------------- \n",
      "\n",
      "Starting URL reconstruction...\n"
     ]
    },
    {
     "name": "stderr",
     "output_type": "stream",
     "text": [
      "2024-03-11 18:29:14,868 - INFO - Processing URL 1/1: https://www.eversports.de/s/janine-hollung\n"
     ]
    },
    {
     "name": "stdout",
     "output_type": "stream",
     "text": [
      "Converting to DataFrame...\n",
      "Validating URLs...\n"
     ]
    },
    {
     "name": "stderr",
     "output_type": "stream",
     "text": [
      "2024-03-11 18:29:15,724 - INFO - URL https://www.eversports.de/s/janine-hollung is valid.\n"
     ]
    },
    {
     "name": "stdout",
     "output_type": "stream",
     "text": [
      "Scraping Pole Studio Data from https://www.eversports.de/s/janine-hollung...\n"
     ]
    },
    {
     "name": "stderr",
     "output_type": "stream",
     "text": [
      "Processing URLs:  11%|█         | 53/502 [03:14<18:15,  2.44s/it]"
     ]
    },
    {
     "name": "stdout",
     "output_type": "stream",
     "text": [
      "\n",
      "Processing completed.\n",
      "-------------------------------- \n",
      "\n",
      "2024-03-11 18:29:16 - INFO - Scraping Data from: https://www.eversports.de/s/janine-hollung\n",
      "Pole Studio Data: 1 entries\n",
      "Starting URL reconstruction...\n"
     ]
    },
    {
     "name": "stderr",
     "output_type": "stream",
     "text": [
      "2024-03-11 18:29:16,856 - INFO - Processing URL 1/1: https://www.eversports.de/s/annis-pole-dance-neumuenster\n"
     ]
    },
    {
     "name": "stdout",
     "output_type": "stream",
     "text": [
      "Converting to DataFrame...\n",
      "Validating URLs...\n"
     ]
    },
    {
     "name": "stderr",
     "output_type": "stream",
     "text": [
      "2024-03-11 18:29:17,856 - INFO - URL https://www.eversports.de/s/annis-pole-dance-neumuenster is valid.\n"
     ]
    },
    {
     "name": "stdout",
     "output_type": "stream",
     "text": [
      "Scraping Pole Studio Data from https://www.eversports.de/s/annis-pole-dance-neumuenster...\n"
     ]
    },
    {
     "name": "stderr",
     "output_type": "stream",
     "text": [
      "Processing URLs:  11%|█         | 54/502 [03:16<17:32,  2.35s/it]"
     ]
    },
    {
     "name": "stdout",
     "output_type": "stream",
     "text": [
      "\n",
      "Processing completed.\n",
      "-------------------------------- \n",
      "\n",
      "2024-03-11 18:29:18 - INFO - Scraping Data from: https://www.eversports.de/s/annis-pole-dance-neumuenster\n",
      "Pole Studio Data: 1 entries\n",
      "Starting URL reconstruction...\n"
     ]
    },
    {
     "name": "stderr",
     "output_type": "stream",
     "text": [
      "2024-03-11 18:29:19,078 - INFO - Processing URL 1/2: https://www.eversports.de/s/star-poledance\n"
     ]
    },
    {
     "name": "stdout",
     "output_type": "stream",
     "text": [
      "Converting to DataFrame...\n",
      "Validating URLs...\n"
     ]
    },
    {
     "name": "stderr",
     "output_type": "stream",
     "text": [
      "2024-03-11 18:29:20,002 - INFO - URL https://www.eversports.de/s/star-poledance is valid.\n",
      "2024-03-11 18:29:20,003 - INFO - Processing URL 2/2: https://www.eversports.de/sw/star-poledance\n",
      "2024-03-11 18:29:20,689 - INFO - URL https://www.eversports.de/sw/star-poledance is valid.\n"
     ]
    },
    {
     "name": "stdout",
     "output_type": "stream",
     "text": [
      "Scraping Pole Studio Data from https://www.eversports.de/s/star-poledance...\n",
      "Scraping Workshops Data from https://www.eversports.de/sw/star-poledance...\n",
      "Scraping Workshop Details from https://www.eversports.de/e/workshop/ed2c8lW...\n"
     ]
    },
    {
     "name": "stderr",
     "output_type": "stream",
     "text": [
      "Processing URLs:  11%|█         | 55/502 [03:21<22:07,  2.97s/it]"
     ]
    },
    {
     "name": "stdout",
     "output_type": "stream",
     "text": [
      "\n",
      "Processing completed.\n",
      "-------------------------------- \n",
      "\n",
      "2024-03-11 18:29:22 - INFO - Scraping Data from: https://www.eversports.de/s/star-poledance\n",
      "Pole Studio Data: 1 entries\n",
      "2024-03-11 18:29:22 - INFO - Scraping Data from: https://www.eversports.de/s/star-poledance\n",
      "Workshops Data: 1 entries\n",
      "2024-03-11 18:29:22 - INFO - Scraping Data from: https://www.eversports.de/s/star-poledance\n",
      "Workshop Details: 1 entries\n",
      "Starting URL reconstruction...\n"
     ]
    },
    {
     "name": "stderr",
     "output_type": "stream",
     "text": [
      "2024-03-11 18:29:23,438 - INFO - Processing URL 1/1: https://www.eversports.de/s/passionate-pole-and-sports\n"
     ]
    },
    {
     "name": "stdout",
     "output_type": "stream",
     "text": [
      "Converting to DataFrame...\n",
      "Validating URLs...\n"
     ]
    },
    {
     "name": "stderr",
     "output_type": "stream",
     "text": [
      "2024-03-11 18:29:24,252 - INFO - URL https://www.eversports.de/s/passionate-pole-and-sports is valid.\n"
     ]
    },
    {
     "name": "stdout",
     "output_type": "stream",
     "text": [
      "Scraping Pole Studio Data from https://www.eversports.de/s/passionate-pole-and-sports...\n"
     ]
    },
    {
     "name": "stderr",
     "output_type": "stream",
     "text": [
      "Processing URLs:  11%|█         | 56/502 [03:23<21:27,  2.89s/it]"
     ]
    },
    {
     "name": "stdout",
     "output_type": "stream",
     "text": [
      "\n",
      "Processing completed.\n",
      "-------------------------------- \n",
      "\n",
      "2024-03-11 18:29:25 - INFO - Scraping Data from: https://www.eversports.de/s/passionate-pole-and-sports\n",
      "Pole Studio Data: 1 entries\n",
      "Starting URL reconstruction...\n"
     ]
    },
    {
     "name": "stderr",
     "output_type": "stream",
     "text": [
      "2024-03-11 18:29:26,228 - INFO - Processing URL 1/2: https://www.eversports.de/s/poleroom-braunschweig\n"
     ]
    },
    {
     "name": "stdout",
     "output_type": "stream",
     "text": [
      "Converting to DataFrame...\n",
      "Validating URLs...\n"
     ]
    },
    {
     "name": "stderr",
     "output_type": "stream",
     "text": [
      "2024-03-11 18:29:27,136 - INFO - URL https://www.eversports.de/s/poleroom-braunschweig is valid.\n",
      "2024-03-11 18:29:27,137 - INFO - Processing URL 2/2: https://www.eversports.de/sw/poleroom-braunschweig\n",
      "2024-03-11 18:29:28,207 - INFO - URL https://www.eversports.de/sw/poleroom-braunschweig is valid.\n"
     ]
    },
    {
     "name": "stdout",
     "output_type": "stream",
     "text": [
      "Scraping Pole Studio Data from https://www.eversports.de/s/poleroom-braunschweig...\n",
      "Scraping Workshops Data from https://www.eversports.de/sw/poleroom-braunschweig...\n",
      "Scraping Workshop Details from https://www.eversports.de/e/workshop/fx6DrZ8...\n",
      "Scraping Workshop Details from https://www.eversports.de/e/workshop/0oN3kSH...\n",
      "Scraping Workshop Details from https://www.eversports.de/e/workshop/1pzXUtZ...\n"
     ]
    },
    {
     "name": "stderr",
     "output_type": "stream",
     "text": [
      "Processing URLs:  11%|█▏        | 57/502 [03:31<31:12,  4.21s/it]"
     ]
    },
    {
     "name": "stdout",
     "output_type": "stream",
     "text": [
      "\n",
      "Processing completed.\n",
      "-------------------------------- \n",
      "\n",
      "2024-03-11 18:29:32 - INFO - Scraping Data from: https://www.eversports.de/s/poleroom-braunschweig\n",
      "Pole Studio Data: 1 entries\n",
      "2024-03-11 18:29:32 - INFO - Scraping Data from: https://www.eversports.de/s/poleroom-braunschweig\n",
      "Workshops Data: 3 entries\n",
      "2024-03-11 18:29:32 - INFO - Scraping Data from: https://www.eversports.de/s/poleroom-braunschweig\n",
      "Workshop Details: 3 entries\n",
      "Starting URL reconstruction...\n"
     ]
    },
    {
     "name": "stderr",
     "output_type": "stream",
     "text": [
      "2024-03-11 18:29:33,928 - INFO - Processing URL 1/1: https://www.eversports.de/s/x-step-berlin\n"
     ]
    },
    {
     "name": "stdout",
     "output_type": "stream",
     "text": [
      "Converting to DataFrame...\n",
      "Validating URLs...\n"
     ]
    },
    {
     "name": "stderr",
     "output_type": "stream",
     "text": [
      "2024-03-11 18:29:34,932 - INFO - URL https://www.eversports.de/s/x-step-berlin is valid.\n"
     ]
    },
    {
     "name": "stdout",
     "output_type": "stream",
     "text": [
      "Scraping Pole Studio Data from https://www.eversports.de/s/x-step-berlin...\n"
     ]
    },
    {
     "name": "stderr",
     "output_type": "stream",
     "text": [
      "Processing URLs:  12%|█▏        | 58/502 [03:33<27:51,  3.76s/it]"
     ]
    },
    {
     "name": "stdout",
     "output_type": "stream",
     "text": [
      "\n",
      "Processing completed.\n",
      "-------------------------------- \n",
      "\n",
      "2024-03-11 18:29:35 - INFO - Scraping Data from: https://www.eversports.de/s/x-step-berlin\n",
      "Pole Studio Data: 1 entries\n",
      "Starting URL reconstruction...\n"
     ]
    },
    {
     "name": "stderr",
     "output_type": "stream",
     "text": [
      "Processing URLs:  12%|█▏        | 59/502 [03:34<20:54,  2.83s/it]"
     ]
    },
    {
     "name": "stdout",
     "output_type": "stream",
     "text": [
      "Error during HTTP request: 404 Client Error: Not Found for url: https://www.eversports.de/s/mmc-dance-&-event-studio\n",
      "Converting to DataFrame...\n",
      "Validating URLs...\n",
      "\n",
      "Processing completed.\n",
      "-------------------------------- \n",
      "\n",
      "Starting URL reconstruction...\n"
     ]
    },
    {
     "name": "stderr",
     "output_type": "stream",
     "text": [
      "2024-03-11 18:29:37,657 - INFO - Processing URL 1/1: https://www.eversports.de/s/le-jade-studio\n"
     ]
    },
    {
     "name": "stdout",
     "output_type": "stream",
     "text": [
      "Converting to DataFrame...\n",
      "Validating URLs...\n"
     ]
    },
    {
     "name": "stderr",
     "output_type": "stream",
     "text": [
      "2024-03-11 18:29:38,666 - INFO - URL https://www.eversports.de/s/le-jade-studio is valid.\n"
     ]
    },
    {
     "name": "stdout",
     "output_type": "stream",
     "text": [
      "Scraping Pole Studio Data from https://www.eversports.de/s/le-jade-studio...\n"
     ]
    },
    {
     "name": "stderr",
     "output_type": "stream",
     "text": [
      "Processing URLs:  12%|█▏        | 60/502 [03:38<23:12,  3.15s/it]"
     ]
    },
    {
     "name": "stdout",
     "output_type": "stream",
     "text": [
      "\n",
      "Processing completed.\n",
      "-------------------------------- \n",
      "\n",
      "2024-03-11 18:29:39 - INFO - Scraping Data from: https://www.eversports.fr/s/le-jade-studio\n",
      "Pole Studio Data: 1 entries\n",
      "Starting URL reconstruction...\n"
     ]
    },
    {
     "name": "stderr",
     "output_type": "stream",
     "text": [
      "Processing URLs:  12%|█▏        | 61/502 [03:39<17:49,  2.42s/it]"
     ]
    },
    {
     "name": "stdout",
     "output_type": "stream",
     "text": [
      "Error during HTTP request: 404 Client Error: Not Found for url: https://www.eversports.de/s/seemannsbraut-poledance-flensburg\n",
      "Converting to DataFrame...\n",
      "Validating URLs...\n",
      "\n",
      "Processing completed.\n",
      "-------------------------------- \n",
      "\n",
      "Starting URL reconstruction...\n"
     ]
    },
    {
     "name": "stderr",
     "output_type": "stream",
     "text": [
      "2024-03-11 18:29:41,683 - INFO - Processing URL 1/1: https://www.eversports.de/s/aerialistic-body-and-soul\n"
     ]
    },
    {
     "name": "stdout",
     "output_type": "stream",
     "text": [
      "Converting to DataFrame...\n",
      "Validating URLs...\n"
     ]
    },
    {
     "name": "stderr",
     "output_type": "stream",
     "text": [
      "2024-03-11 18:29:43,187 - INFO - URL https://www.eversports.de/s/aerialistic-body-and-soul is valid.\n"
     ]
    },
    {
     "name": "stdout",
     "output_type": "stream",
     "text": [
      "Scraping Pole Studio Data from https://www.eversports.de/s/aerialistic-body-and-soul...\n"
     ]
    },
    {
     "name": "stderr",
     "output_type": "stream",
     "text": [
      "Processing URLs:  12%|█▏        | 62/502 [03:42<19:02,  2.60s/it]"
     ]
    },
    {
     "name": "stdout",
     "output_type": "stream",
     "text": [
      "\n",
      "Processing completed.\n",
      "-------------------------------- \n",
      "\n",
      "2024-03-11 18:29:43 - INFO - Scraping Data from: https://www.eversports.at/s/aerialistic-body-and-soul\n",
      "Pole Studio Data: 1 entries\n",
      "Starting URL reconstruction...\n"
     ]
    },
    {
     "name": "stderr",
     "output_type": "stream",
     "text": [
      "2024-03-11 18:29:44,464 - INFO - Processing URL 1/1: https://www.eversports.de/s/poleside\n"
     ]
    },
    {
     "name": "stdout",
     "output_type": "stream",
     "text": [
      "Converting to DataFrame...\n",
      "Validating URLs...\n"
     ]
    },
    {
     "name": "stderr",
     "output_type": "stream",
     "text": [
      "2024-03-11 18:29:45,829 - INFO - URL https://www.eversports.de/s/poleside is valid.\n"
     ]
    },
    {
     "name": "stdout",
     "output_type": "stream",
     "text": [
      "Scraping Pole Studio Data from https://www.eversports.de/s/poleside...\n"
     ]
    },
    {
     "name": "stderr",
     "output_type": "stream",
     "text": [
      "Processing URLs:  13%|█▎        | 63/502 [03:45<21:27,  2.93s/it]"
     ]
    },
    {
     "name": "stdout",
     "output_type": "stream",
     "text": [
      "\n",
      "Processing completed.\n",
      "-------------------------------- \n",
      "\n",
      "2024-03-11 18:29:47 - INFO - Scraping Data from: https://www.eversports.de/s/poleside\n",
      "Pole Studio Data: 1 entries\n",
      "Starting URL reconstruction...\n"
     ]
    },
    {
     "name": "stderr",
     "output_type": "stream",
     "text": [
      "Processing URLs:  13%|█▎        | 64/502 [03:48<19:49,  2.72s/it]"
     ]
    },
    {
     "name": "stdout",
     "output_type": "stream",
     "text": [
      "Error during HTTP request: 404 Client Error: Not Found for url: https://www.eversports.de/s/crazypole-dresden\n",
      "Converting to DataFrame...\n",
      "Validating URLs...\n",
      "\n",
      "Processing completed.\n",
      "-------------------------------- \n",
      "\n",
      "Starting URL reconstruction...\n"
     ]
    },
    {
     "name": "stderr",
     "output_type": "stream",
     "text": [
      "2024-03-11 18:29:50,424 - INFO - Processing URL 1/1: https://www.eversports.de/s/pole-dance-balance\n"
     ]
    },
    {
     "name": "stdout",
     "output_type": "stream",
     "text": [
      "Converting to DataFrame...\n",
      "Validating URLs...\n"
     ]
    },
    {
     "name": "stderr",
     "output_type": "stream",
     "text": [
      "2024-03-11 18:29:51,731 - INFO - URL https://www.eversports.de/s/pole-dance-balance is valid.\n"
     ]
    },
    {
     "name": "stdout",
     "output_type": "stream",
     "text": [
      "Scraping Pole Studio Data from https://www.eversports.de/s/pole-dance-balance...\n"
     ]
    },
    {
     "name": "stderr",
     "output_type": "stream",
     "text": [
      "Processing URLs:  13%|█▎        | 65/502 [03:50<19:38,  2.70s/it]"
     ]
    },
    {
     "name": "stdout",
     "output_type": "stream",
     "text": [
      "\n",
      "Processing completed.\n",
      "-------------------------------- \n",
      "\n",
      "2024-03-11 18:29:52 - INFO - Scraping Data from: https://www.eversports.de/s/pole-dance-balance\n",
      "Pole Studio Data: 1 entries\n",
      "Starting URL reconstruction...\n"
     ]
    },
    {
     "name": "stderr",
     "output_type": "stream",
     "text": [
      "Processing URLs:  13%|█▎        | 66/502 [03:54<21:05,  2.90s/it]"
     ]
    },
    {
     "name": "stdout",
     "output_type": "stream",
     "text": [
      "Error during HTTP request: Exceeded 30 redirects.\n",
      "Converting to DataFrame...\n",
      "Validating URLs...\n",
      "\n",
      "Processing completed.\n",
      "-------------------------------- \n",
      "\n",
      "Starting URL reconstruction...\n"
     ]
    },
    {
     "name": "stderr",
     "output_type": "stream",
     "text": [
      "Processing URLs:  13%|█▎        | 67/502 [03:54<16:17,  2.25s/it]"
     ]
    },
    {
     "name": "stdout",
     "output_type": "stream",
     "text": [
      "Error during HTTP request: 404 Client Error: Not Found for url: https://www.eversports.de/s/vi-dance-essen\n",
      "Converting to DataFrame...\n",
      "Validating URLs...\n",
      "\n",
      "Processing completed.\n",
      "-------------------------------- \n",
      "\n",
      "Starting URL reconstruction...\n"
     ]
    },
    {
     "name": "stderr",
     "output_type": "stream",
     "text": [
      "Processing URLs:  14%|█▎        | 68/502 [03:55<12:56,  1.79s/it]"
     ]
    },
    {
     "name": "stdout",
     "output_type": "stream",
     "text": [
      "Error during HTTP request: 404 Client Error: Not Found for url: https://www.eversports.de/s/schwerelos\n",
      "Converting to DataFrame...\n",
      "Validating URLs...\n",
      "\n",
      "Processing completed.\n",
      "-------------------------------- \n",
      "\n",
      "Starting URL reconstruction...\n"
     ]
    },
    {
     "name": "stderr",
     "output_type": "stream",
     "text": [
      "2024-03-11 18:29:58,430 - INFO - Processing URL 1/2: https://www.eversports.de/s/ecstatic-poledance\n"
     ]
    },
    {
     "name": "stdout",
     "output_type": "stream",
     "text": [
      "Converting to DataFrame...\n",
      "Validating URLs...\n"
     ]
    },
    {
     "name": "stderr",
     "output_type": "stream",
     "text": [
      "2024-03-11 18:29:59,512 - INFO - URL https://www.eversports.de/s/ecstatic-poledance is valid.\n",
      "2024-03-11 18:29:59,512 - INFO - Processing URL 2/2: https://www.eversports.de/sw/ecstatic-poledance\n",
      "2024-03-11 18:30:00,139 - INFO - URL https://www.eversports.de/sw/ecstatic-poledance is not valid.\n"
     ]
    },
    {
     "name": "stdout",
     "output_type": "stream",
     "text": [
      "Scraping Pole Studio Data from https://www.eversports.de/s/ecstatic-poledance...\n"
     ]
    },
    {
     "name": "stderr",
     "output_type": "stream",
     "text": [
      "Processing URLs:  14%|█▎        | 69/502 [03:59<16:38,  2.31s/it]"
     ]
    },
    {
     "name": "stdout",
     "output_type": "stream",
     "text": [
      "\n",
      "Processing completed.\n",
      "-------------------------------- \n",
      "\n",
      "2024-03-11 18:30:00 - INFO - Scraping Data from: https://www.eversports.ch/s/ecstatic-poledance\n",
      "Pole Studio Data: 1 entries\n",
      "Starting URL reconstruction...\n"
     ]
    },
    {
     "name": "stderr",
     "output_type": "stream",
     "text": [
      "Processing URLs:  14%|█▍        | 70/502 [03:59<13:00,  1.81s/it]"
     ]
    },
    {
     "name": "stdout",
     "output_type": "stream",
     "text": [
      "Error during HTTP request: 404 Client Error: Not Found for url: https://www.eversports.de/s/tanzvisionen\n",
      "Converting to DataFrame...\n",
      "Validating URLs...\n",
      "\n",
      "Processing completed.\n",
      "-------------------------------- \n",
      "\n",
      "Starting URL reconstruction...\n"
     ]
    },
    {
     "name": "stderr",
     "output_type": "stream",
     "text": [
      "Processing URLs:  14%|█▍        | 71/502 [04:00<10:48,  1.51s/it]"
     ]
    },
    {
     "name": "stdout",
     "output_type": "stream",
     "text": [
      "Error during HTTP request: 404 Client Error: Not Found for url: https://www.eversports.de/s/annaconda-pole-and-fitness\n",
      "Converting to DataFrame...\n",
      "Validating URLs...\n",
      "\n",
      "Processing completed.\n",
      "-------------------------------- \n",
      "\n",
      "Starting URL reconstruction...\n"
     ]
    },
    {
     "name": "stderr",
     "output_type": "stream",
     "text": [
      "Processing URLs:  14%|█▍        | 72/502 [04:01<09:03,  1.26s/it]"
     ]
    },
    {
     "name": "stdout",
     "output_type": "stream",
     "text": [
      "Error during HTTP request: 404 Client Error: Not Found for url: https://www.eversports.de/s/drehimpuls-aachen\n",
      "Converting to DataFrame...\n",
      "Validating URLs...\n",
      "\n",
      "Processing completed.\n",
      "-------------------------------- \n",
      "\n",
      "Starting URL reconstruction...\n"
     ]
    },
    {
     "name": "stderr",
     "output_type": "stream",
     "text": [
      "2024-03-11 18:30:03,703 - INFO - Processing URL 1/1: https://www.eversports.de/s/pole-passion-bielefeld\n"
     ]
    },
    {
     "name": "stdout",
     "output_type": "stream",
     "text": [
      "Converting to DataFrame...\n",
      "Validating URLs...\n"
     ]
    },
    {
     "name": "stderr",
     "output_type": "stream",
     "text": [
      "2024-03-11 18:30:05,207 - INFO - URL https://www.eversports.de/s/pole-passion-bielefeld is valid.\n"
     ]
    },
    {
     "name": "stdout",
     "output_type": "stream",
     "text": [
      "Scraping Pole Studio Data from https://www.eversports.de/s/pole-passion-bielefeld...\n"
     ]
    },
    {
     "name": "stderr",
     "output_type": "stream",
     "text": [
      "Processing URLs:  15%|█▍        | 73/502 [04:04<12:51,  1.80s/it]"
     ]
    },
    {
     "name": "stdout",
     "output_type": "stream",
     "text": [
      "\n",
      "Processing completed.\n",
      "-------------------------------- \n",
      "\n",
      "2024-03-11 18:30:05 - INFO - Scraping Data from: https://www.eversports.de/s/pole-passion-bielefeld\n",
      "Pole Studio Data: 1 entries\n",
      "Starting URL reconstruction...\n"
     ]
    },
    {
     "name": "stderr",
     "output_type": "stream",
     "text": [
      "2024-03-11 18:30:06,868 - INFO - Processing URL 1/1: https://www.eversports.de/s/the-pole-lounge\n"
     ]
    },
    {
     "name": "stdout",
     "output_type": "stream",
     "text": [
      "Converting to DataFrame...\n",
      "Validating URLs...\n"
     ]
    },
    {
     "name": "stderr",
     "output_type": "stream",
     "text": [
      "2024-03-11 18:30:08,457 - INFO - URL https://www.eversports.de/s/the-pole-lounge is valid.\n"
     ]
    },
    {
     "name": "stdout",
     "output_type": "stream",
     "text": [
      "Scraping Pole Studio Data from https://www.eversports.de/s/the-pole-lounge...\n"
     ]
    },
    {
     "name": "stderr",
     "output_type": "stream",
     "text": [
      "Processing URLs:  15%|█▍        | 74/502 [04:07<15:48,  2.22s/it]"
     ]
    },
    {
     "name": "stdout",
     "output_type": "stream",
     "text": [
      "\n",
      "Processing completed.\n",
      "-------------------------------- \n",
      "\n",
      "2024-03-11 18:30:08 - INFO - Scraping Data from: https://www.eversports.de/s/the-pole-lounge\n",
      "Pole Studio Data: 1 entries\n",
      "Starting URL reconstruction...\n"
     ]
    },
    {
     "name": "stderr",
     "output_type": "stream",
     "text": [
      "2024-03-11 18:30:09,698 - INFO - Processing URL 1/1: https://www.eversports.de/s/annis-pole-dance-uetersen\n"
     ]
    },
    {
     "name": "stdout",
     "output_type": "stream",
     "text": [
      "Converting to DataFrame...\n",
      "Validating URLs...\n"
     ]
    },
    {
     "name": "stderr",
     "output_type": "stream",
     "text": [
      "2024-03-11 18:30:10,878 - INFO - URL https://www.eversports.de/s/annis-pole-dance-uetersen is valid.\n"
     ]
    },
    {
     "name": "stdout",
     "output_type": "stream",
     "text": [
      "Scraping Pole Studio Data from https://www.eversports.de/s/annis-pole-dance-uetersen...\n"
     ]
    },
    {
     "name": "stderr",
     "output_type": "stream",
     "text": [
      "Processing URLs:  15%|█▍        | 75/502 [04:09<16:07,  2.27s/it]"
     ]
    },
    {
     "name": "stdout",
     "output_type": "stream",
     "text": [
      "\n",
      "Processing completed.\n",
      "-------------------------------- \n",
      "\n",
      "2024-03-11 18:30:11 - INFO - Scraping Data from: https://www.eversports.de/s/annis-pole-dance-uetersen\n",
      "Pole Studio Data: 1 entries\n",
      "Starting URL reconstruction...\n"
     ]
    },
    {
     "name": "stderr",
     "output_type": "stream",
     "text": [
      "2024-03-11 18:30:12,602 - INFO - Processing URL 1/1: https://www.eversports.de/s/pole-and-move-online-studio\n"
     ]
    },
    {
     "name": "stdout",
     "output_type": "stream",
     "text": [
      "Converting to DataFrame...\n",
      "Validating URLs...\n"
     ]
    },
    {
     "name": "stderr",
     "output_type": "stream",
     "text": [
      "2024-03-11 18:30:13,538 - INFO - URL https://www.eversports.de/s/pole-and-move-online-studio is valid.\n"
     ]
    },
    {
     "name": "stdout",
     "output_type": "stream",
     "text": [
      "Scraping Pole Studio Data from https://www.eversports.de/s/pole-and-move-online-studio...\n"
     ]
    },
    {
     "name": "stderr",
     "output_type": "stream",
     "text": [
      "Processing URLs:  15%|█▌        | 76/502 [04:12<17:07,  2.41s/it]"
     ]
    },
    {
     "name": "stdout",
     "output_type": "stream",
     "text": [
      "\n",
      "Processing completed.\n",
      "-------------------------------- \n",
      "\n",
      "2024-03-11 18:30:13 - INFO - Scraping Data from: https://www.eversports.de/s/pole-and-move-online-studio\n",
      "Pole Studio Data: 1 entries\n",
      "Starting URL reconstruction...\n"
     ]
    },
    {
     "name": "stderr",
     "output_type": "stream",
     "text": [
      "2024-03-11 18:30:15,714 - INFO - Processing URL 1/1: https://www.eversports.de/s/the-pole-temple\n"
     ]
    },
    {
     "name": "stdout",
     "output_type": "stream",
     "text": [
      "Converting to DataFrame...\n",
      "Validating URLs...\n"
     ]
    },
    {
     "name": "stderr",
     "output_type": "stream",
     "text": [
      "2024-03-11 18:30:16,728 - INFO - URL https://www.eversports.de/s/the-pole-temple is valid.\n"
     ]
    },
    {
     "name": "stdout",
     "output_type": "stream",
     "text": [
      "Scraping Pole Studio Data from https://www.eversports.de/s/the-pole-temple...\n"
     ]
    },
    {
     "name": "stderr",
     "output_type": "stream",
     "text": [
      "Processing URLs:  15%|█▌        | 77/502 [04:16<19:19,  2.73s/it]"
     ]
    },
    {
     "name": "stdout",
     "output_type": "stream",
     "text": [
      "\n",
      "Processing completed.\n",
      "-------------------------------- \n",
      "\n",
      "2024-03-11 18:30:17 - INFO - Scraping Data from: https://www.eversports.be/s/the-pole-temple\n",
      "Pole Studio Data: 1 entries\n",
      "Starting URL reconstruction...\n"
     ]
    },
    {
     "name": "stderr",
     "output_type": "stream",
     "text": [
      "Processing URLs:  16%|█▌        | 78/502 [04:16<15:13,  2.15s/it]"
     ]
    },
    {
     "name": "stdout",
     "output_type": "stream",
     "text": [
      "Error during HTTP request: 404 Client Error: Not Found for url: https://www.eversports.de/s/lift-off-poledance-academy-frankfurt\n",
      "Converting to DataFrame...\n",
      "Validating URLs...\n",
      "\n",
      "Processing completed.\n",
      "-------------------------------- \n",
      "\n",
      "Starting URL reconstruction...\n"
     ]
    },
    {
     "name": "stderr",
     "output_type": "stream",
     "text": [
      "2024-03-11 18:30:19,914 - INFO - Processing URL 1/2: https://www.eversports.de/s/yoga-and-pole-art-by-selina\n"
     ]
    },
    {
     "name": "stdout",
     "output_type": "stream",
     "text": [
      "Converting to DataFrame...\n",
      "Validating URLs...\n"
     ]
    },
    {
     "name": "stderr",
     "output_type": "stream",
     "text": [
      "2024-03-11 18:30:20,868 - INFO - URL https://www.eversports.de/s/yoga-and-pole-art-by-selina is valid.\n",
      "2024-03-11 18:30:20,868 - INFO - Processing URL 2/2: https://www.eversports.de/sw/yoga-and-pole-art-by-selina\n",
      "2024-03-11 18:30:21,658 - INFO - URL https://www.eversports.de/sw/yoga-and-pole-art-by-selina is valid.\n"
     ]
    },
    {
     "name": "stdout",
     "output_type": "stream",
     "text": [
      "Scraping Pole Studio Data from https://www.eversports.de/s/yoga-and-pole-art-by-selina...\n",
      "Scraping Workshops Data from https://www.eversports.de/sw/yoga-and-pole-art-by-selina...\n",
      "Scraping Workshop Details from https://www.eversports.de/e/workshop/Zk4neM3...\n",
      "Scraping Workshop Details from https://www.eversports.de/e/workshop/VnmCBGD...\n",
      "Scraping Workshop Details from https://www.eversports.de/e/workshop/qdYG4WC...\n",
      "Scraping Workshop Details from https://www.eversports.de/e/workshop/M4MjCdo...\n",
      "Scraping Workshop Details from https://www.eversports.de/e/workshop/bi8m5zs...\n",
      "Scraping Workshop Details from https://www.eversports.de/e/workshop/B_H90J1...\n",
      "Scraping Workshop Details from https://www.eversports.de/e/workshop/ccLkJAE...\n"
     ]
    },
    {
     "name": "stderr",
     "output_type": "stream",
     "text": [
      "Processing URLs:  16%|█▌        | 79/502 [04:29<36:21,  5.16s/it]"
     ]
    },
    {
     "name": "stdout",
     "output_type": "stream",
     "text": [
      "\n",
      "Processing completed.\n",
      "-------------------------------- \n",
      "\n",
      "2024-03-11 18:30:30 - INFO - Scraping Data from: https://www.eversports.de/s/yoga-and-pole-art-by-selina\n",
      "Pole Studio Data: 1 entries\n",
      "2024-03-11 18:30:30 - INFO - Scraping Data from: https://www.eversports.de/s/yoga-and-pole-art-by-selina\n",
      "Workshops Data: 7 entries\n",
      "2024-03-11 18:30:30 - INFO - Scraping Data from: https://www.eversports.de/s/yoga-and-pole-art-by-selina\n",
      "Workshop Details: 7 entries\n",
      "Starting URL reconstruction...\n"
     ]
    },
    {
     "name": "stderr",
     "output_type": "stream",
     "text": [
      "Processing URLs:  16%|█▌        | 80/502 [04:29<26:34,  3.78s/it]"
     ]
    },
    {
     "name": "stdout",
     "output_type": "stream",
     "text": [
      "Error during HTTP request: 404 Client Error: Not Found for url: https://www.eversports.de/s/poledance!-aerial-%26-fitness-kiel\n",
      "Converting to DataFrame...\n",
      "Validating URLs...\n",
      "\n",
      "Processing completed.\n",
      "-------------------------------- \n",
      "\n",
      "Starting URL reconstruction...\n"
     ]
    },
    {
     "name": "stderr",
     "output_type": "stream",
     "text": [
      "Processing URLs:  16%|█▌        | 81/502 [04:35<30:16,  4.31s/it]"
     ]
    },
    {
     "name": "stdout",
     "output_type": "stream",
     "text": [
      "Error during HTTP request: Exceeded 30 redirects.\n",
      "Converting to DataFrame...\n",
      "Validating URLs...\n",
      "\n",
      "Processing completed.\n",
      "-------------------------------- \n",
      "\n",
      "Starting URL reconstruction...\n"
     ]
    },
    {
     "name": "stderr",
     "output_type": "stream",
     "text": [
      "2024-03-11 18:30:43,748 - INFO - Processing URL 1/1: https://www.eversports.de/s/tanzstudio-michel\n"
     ]
    },
    {
     "name": "stdout",
     "output_type": "stream",
     "text": [
      "Converting to DataFrame...\n",
      "Validating URLs...\n"
     ]
    },
    {
     "name": "stderr",
     "output_type": "stream",
     "text": [
      "2024-03-11 18:30:44,616 - INFO - URL https://www.eversports.de/s/tanzstudio-michel is valid.\n"
     ]
    },
    {
     "name": "stdout",
     "output_type": "stream",
     "text": [
      "Scraping Pole Studio Data from https://www.eversports.de/s/tanzstudio-michel...\n"
     ]
    },
    {
     "name": "stderr",
     "output_type": "stream",
     "text": [
      "Processing URLs:  16%|█▋        | 82/502 [04:43<38:38,  5.52s/it]"
     ]
    },
    {
     "name": "stdout",
     "output_type": "stream",
     "text": [
      "\n",
      "Processing completed.\n",
      "-------------------------------- \n",
      "\n",
      "2024-03-11 18:30:44 - INFO - Scraping Data from: https://www.eversports.de/s/tanzstudio-michel\n",
      "Pole Studio Data: 1 entries\n",
      "Starting URL reconstruction...\n"
     ]
    },
    {
     "name": "stderr",
     "output_type": "stream",
     "text": [
      "Processing URLs:  17%|█▋        | 83/502 [04:44<28:15,  4.05s/it]"
     ]
    },
    {
     "name": "stdout",
     "output_type": "stream",
     "text": [
      "Error during HTTP request: 404 Client Error: Not Found for url: https://www.eversports.de/s/passionate-pole-&-sports\n",
      "Converting to DataFrame...\n",
      "Validating URLs...\n",
      "\n",
      "Processing completed.\n",
      "-------------------------------- \n",
      "\n",
      "Starting URL reconstruction...\n"
     ]
    },
    {
     "name": "stderr",
     "output_type": "stream",
     "text": [
      "Processing URLs:  17%|█▋        | 84/502 [04:44<21:34,  3.10s/it]"
     ]
    },
    {
     "name": "stdout",
     "output_type": "stream",
     "text": [
      "Error during HTTP request: 404 Client Error: Not Found for url: https://www.eversports.de/s/tanzschule-step-up\n",
      "Converting to DataFrame...\n",
      "Validating URLs...\n",
      "\n",
      "Processing completed.\n",
      "-------------------------------- \n",
      "\n",
      "Starting URL reconstruction...\n"
     ]
    },
    {
     "name": "stderr",
     "output_type": "stream",
     "text": [
      "Processing URLs:  17%|█▋        | 85/502 [04:49<24:57,  3.59s/it]"
     ]
    },
    {
     "name": "stdout",
     "output_type": "stream",
     "text": [
      "Error during HTTP request: Exceeded 30 redirects.\n",
      "Converting to DataFrame...\n",
      "Validating URLs...\n",
      "\n",
      "Processing completed.\n",
      "-------------------------------- \n",
      "\n",
      "Starting URL reconstruction...\n"
     ]
    },
    {
     "name": "stderr",
     "output_type": "stream",
     "text": [
      "2024-03-11 18:30:52,892 - INFO - Processing URL 1/1: https://www.eversports.de/s/studio-poleroi\n"
     ]
    },
    {
     "name": "stdout",
     "output_type": "stream",
     "text": [
      "Converting to DataFrame...\n",
      "Validating URLs...\n"
     ]
    },
    {
     "name": "stderr",
     "output_type": "stream",
     "text": [
      "2024-03-11 18:30:53,760 - INFO - URL https://www.eversports.de/s/studio-poleroi is valid.\n"
     ]
    },
    {
     "name": "stdout",
     "output_type": "stream",
     "text": [
      "Scraping Pole Studio Data from https://www.eversports.de/s/studio-poleroi...\n"
     ]
    },
    {
     "name": "stderr",
     "output_type": "stream",
     "text": [
      "Processing URLs:  17%|█▋        | 86/502 [04:53<24:40,  3.56s/it]"
     ]
    },
    {
     "name": "stdout",
     "output_type": "stream",
     "text": [
      "\n",
      "Processing completed.\n",
      "-------------------------------- \n",
      "\n",
      "2024-03-11 18:30:54 - INFO - Scraping Data from: https://www.eversports.be/s/studio-poleroi\n",
      "Pole Studio Data: 1 entries\n",
      "Starting URL reconstruction...\n"
     ]
    },
    {
     "name": "stderr",
     "output_type": "stream",
     "text": [
      "2024-03-11 18:30:55,583 - INFO - Processing URL 1/1: https://www.eversports.de/s/spin-up\n"
     ]
    },
    {
     "name": "stdout",
     "output_type": "stream",
     "text": [
      "Converting to DataFrame...\n",
      "Validating URLs...\n"
     ]
    },
    {
     "name": "stderr",
     "output_type": "stream",
     "text": [
      "2024-03-11 18:30:56,560 - INFO - URL https://www.eversports.de/s/spin-up is valid.\n"
     ]
    },
    {
     "name": "stdout",
     "output_type": "stream",
     "text": [
      "Scraping Pole Studio Data from https://www.eversports.de/s/spin-up...\n"
     ]
    },
    {
     "name": "stderr",
     "output_type": "stream",
     "text": [
      "Processing URLs:  17%|█▋        | 87/502 [04:55<22:34,  3.26s/it]"
     ]
    },
    {
     "name": "stdout",
     "output_type": "stream",
     "text": [
      "\n",
      "Processing completed.\n",
      "-------------------------------- \n",
      "\n",
      "2024-03-11 18:30:57 - INFO - Scraping Data from: https://www.eversports.de/s/spin-up\n",
      "Pole Studio Data: 1 entries\n",
      "Starting URL reconstruction...\n"
     ]
    },
    {
     "name": "stderr",
     "output_type": "stream",
     "text": [
      "Processing URLs:  18%|█▊        | 88/502 [04:56<17:07,  2.48s/it]"
     ]
    },
    {
     "name": "stdout",
     "output_type": "stream",
     "text": [
      "Error during HTTP request: 404 Client Error: Not Found for url: https://www.eversports.de/s/metropole-dance-now2\n",
      "Converting to DataFrame...\n",
      "Validating URLs...\n",
      "\n",
      "Processing completed.\n",
      "-------------------------------- \n",
      "\n",
      "Starting URL reconstruction...\n"
     ]
    },
    {
     "name": "stderr",
     "output_type": "stream",
     "text": [
      "Processing URLs:  18%|█▊        | 89/502 [04:58<15:53,  2.31s/it]"
     ]
    },
    {
     "name": "stdout",
     "output_type": "stream",
     "text": [
      "Error during HTTP request: 404 Client Error: Not Found for url: https://www.eversports.de/s/pole-dance-studio-waiblingen\n",
      "Converting to DataFrame...\n",
      "Validating URLs...\n",
      "\n",
      "Processing completed.\n",
      "-------------------------------- \n",
      "\n",
      "Starting URL reconstruction...\n"
     ]
    },
    {
     "name": "stderr",
     "output_type": "stream",
     "text": [
      "2024-03-11 18:31:00,738 - INFO - Processing URL 1/1: https://www.eversports.de/s/upsidedown-studio-bad-homburg\n"
     ]
    },
    {
     "name": "stdout",
     "output_type": "stream",
     "text": [
      "Converting to DataFrame...\n",
      "Validating URLs...\n"
     ]
    },
    {
     "name": "stderr",
     "output_type": "stream",
     "text": [
      "2024-03-11 18:31:01,785 - INFO - URL https://www.eversports.de/s/upsidedown-studio-bad-homburg is valid.\n"
     ]
    },
    {
     "name": "stdout",
     "output_type": "stream",
     "text": [
      "Scraping Pole Studio Data from https://www.eversports.de/s/upsidedown-studio-bad-homburg...\n"
     ]
    },
    {
     "name": "stderr",
     "output_type": "stream",
     "text": [
      "Processing URLs:  18%|█▊        | 90/502 [05:00<16:09,  2.35s/it]"
     ]
    },
    {
     "name": "stdout",
     "output_type": "stream",
     "text": [
      "\n",
      "Processing completed.\n",
      "-------------------------------- \n",
      "\n",
      "2024-03-11 18:31:02 - INFO - Scraping Data from: https://www.eversports.de/s/upsidedown-studio-bad-homburg\n",
      "Pole Studio Data: 1 entries\n",
      "Starting URL reconstruction...\n"
     ]
    },
    {
     "name": "stderr",
     "output_type": "stream",
     "text": [
      "Processing URLs:  18%|█▊        | 91/502 [05:01<12:29,  1.82s/it]"
     ]
    },
    {
     "name": "stdout",
     "output_type": "stream",
     "text": [
      "Error during HTTP request: 404 Client Error: Not Found for url: https://www.eversports.de/s/poledance!-aerial-%26-fitness-schleswig\n",
      "Converting to DataFrame...\n",
      "Validating URLs...\n",
      "\n",
      "Processing completed.\n",
      "-------------------------------- \n",
      "\n",
      "Starting URL reconstruction...\n"
     ]
    },
    {
     "name": "stderr",
     "output_type": "stream",
     "text": [
      "2024-03-11 18:31:03,693 - INFO - Processing URL 1/1: https://www.eversports.de/s/freaky-fitness\n"
     ]
    },
    {
     "name": "stdout",
     "output_type": "stream",
     "text": [
      "Converting to DataFrame...\n",
      "Validating URLs...\n"
     ]
    },
    {
     "name": "stderr",
     "output_type": "stream",
     "text": [
      "2024-03-11 18:31:04,570 - INFO - URL https://www.eversports.de/s/freaky-fitness is valid.\n"
     ]
    },
    {
     "name": "stdout",
     "output_type": "stream",
     "text": [
      "Scraping Pole Studio Data from https://www.eversports.de/s/freaky-fitness...\n"
     ]
    },
    {
     "name": "stderr",
     "output_type": "stream",
     "text": [
      "Processing URLs:  18%|█▊        | 92/502 [05:03<13:09,  1.92s/it]"
     ]
    },
    {
     "name": "stdout",
     "output_type": "stream",
     "text": [
      "\n",
      "Processing completed.\n",
      "-------------------------------- \n",
      "\n",
      "2024-03-11 18:31:04 - INFO - Scraping Data from: https://www.eversports.de/s/freaky-fitness\n",
      "Pole Studio Data: 1 entries\n",
      "Starting URL reconstruction...\n"
     ]
    },
    {
     "name": "stderr",
     "output_type": "stream",
     "text": [
      "2024-03-11 18:31:05,841 - INFO - Processing URL 1/1: https://www.eversports.de/s/polefamily-koblenz\n"
     ]
    },
    {
     "name": "stdout",
     "output_type": "stream",
     "text": [
      "Converting to DataFrame...\n",
      "Validating URLs...\n"
     ]
    },
    {
     "name": "stderr",
     "output_type": "stream",
     "text": [
      "2024-03-11 18:31:06,692 - INFO - URL https://www.eversports.de/s/polefamily-koblenz is valid.\n"
     ]
    },
    {
     "name": "stdout",
     "output_type": "stream",
     "text": [
      "Scraping Pole Studio Data from https://www.eversports.de/s/polefamily-koblenz...\n"
     ]
    },
    {
     "name": "stderr",
     "output_type": "stream",
     "text": [
      "Processing URLs:  19%|█▊        | 93/502 [05:05<13:35,  1.99s/it]"
     ]
    },
    {
     "name": "stdout",
     "output_type": "stream",
     "text": [
      "\n",
      "Processing completed.\n",
      "-------------------------------- \n",
      "\n",
      "2024-03-11 18:31:07 - INFO - Scraping Data from: https://www.eversports.de/s/polefamily-koblenz\n",
      "Pole Studio Data: 1 entries\n",
      "Starting URL reconstruction...\n"
     ]
    },
    {
     "name": "stderr",
     "output_type": "stream",
     "text": [
      "2024-03-11 18:31:08,113 - INFO - Processing URL 1/1: https://www.eversports.de/s/pole-birdies-1\n"
     ]
    },
    {
     "name": "stdout",
     "output_type": "stream",
     "text": [
      "Converting to DataFrame...\n",
      "Validating URLs...\n"
     ]
    },
    {
     "name": "stderr",
     "output_type": "stream",
     "text": [
      "2024-03-11 18:31:08,900 - INFO - URL https://www.eversports.de/s/pole-birdies-1 is valid.\n"
     ]
    },
    {
     "name": "stdout",
     "output_type": "stream",
     "text": [
      "Scraping Pole Studio Data from https://www.eversports.de/s/pole-birdies-1...\n"
     ]
    },
    {
     "name": "stderr",
     "output_type": "stream",
     "text": [
      "Processing URLs:  19%|█▊        | 94/502 [05:07<13:46,  2.03s/it]"
     ]
    },
    {
     "name": "stdout",
     "output_type": "stream",
     "text": [
      "\n",
      "Processing completed.\n",
      "-------------------------------- \n",
      "\n",
      "2024-03-11 18:31:09 - INFO - Scraping Data from: https://www.eversports.de/s/pole-birdies-1\n",
      "Pole Studio Data: 1 entries\n",
      "Starting URL reconstruction...\n"
     ]
    },
    {
     "name": "stderr",
     "output_type": "stream",
     "text": [
      "Processing URLs:  19%|█▉        | 95/502 [05:08<10:57,  1.62s/it]"
     ]
    },
    {
     "name": "stdout",
     "output_type": "stream",
     "text": [
      "Error during HTTP request: 404 Client Error: Not Found for url: https://www.eversports.de/s/ironx-\n",
      "Converting to DataFrame...\n",
      "Validating URLs...\n",
      "\n",
      "Processing completed.\n",
      "-------------------------------- \n",
      "\n",
      "Starting URL reconstruction...\n"
     ]
    },
    {
     "name": "stderr",
     "output_type": "stream",
     "text": [
      "2024-03-11 18:31:10,747 - INFO - Processing URL 1/1: https://www.eversports.de/s/glow-sports-club\n"
     ]
    },
    {
     "name": "stdout",
     "output_type": "stream",
     "text": [
      "Converting to DataFrame...\n",
      "Validating URLs...\n"
     ]
    },
    {
     "name": "stderr",
     "output_type": "stream",
     "text": [
      "2024-03-11 18:31:11,745 - INFO - URL https://www.eversports.de/s/glow-sports-club is valid.\n"
     ]
    },
    {
     "name": "stdout",
     "output_type": "stream",
     "text": [
      "Scraping Pole Studio Data from https://www.eversports.de/s/glow-sports-club...\n"
     ]
    },
    {
     "name": "stderr",
     "output_type": "stream",
     "text": [
      "Processing URLs:  19%|█▉        | 96/502 [05:10<12:24,  1.83s/it]"
     ]
    },
    {
     "name": "stdout",
     "output_type": "stream",
     "text": [
      "\n",
      "Processing completed.\n",
      "-------------------------------- \n",
      "\n",
      "2024-03-11 18:31:12 - INFO - Scraping Data from: https://www.eversports.de/s/glow-sports-club\n",
      "Pole Studio Data: 1 entries\n",
      "Starting URL reconstruction...\n"
     ]
    },
    {
     "name": "stderr",
     "output_type": "stream",
     "text": [
      "Processing URLs:  19%|█▉        | 97/502 [05:11<10:00,  1.48s/it]"
     ]
    },
    {
     "name": "stdout",
     "output_type": "stream",
     "text": [
      "Error during HTTP request: 404 Client Error: Not Found for url: https://www.eversports.de/s/lustforlife.studio\n",
      "Converting to DataFrame...\n",
      "Validating URLs...\n",
      "\n",
      "Processing completed.\n",
      "-------------------------------- \n",
      "\n",
      "Starting URL reconstruction...\n"
     ]
    },
    {
     "name": "stderr",
     "output_type": "stream",
     "text": [
      "Processing URLs:  20%|█▉        | 98/502 [05:12<08:32,  1.27s/it]"
     ]
    },
    {
     "name": "stdout",
     "output_type": "stream",
     "text": [
      "Error during HTTP request: 404 Client Error: Not Found for url: https://www.eversports.de/s/pole-fit-nes\n",
      "Converting to DataFrame...\n",
      "Validating URLs...\n",
      "\n",
      "Processing completed.\n",
      "-------------------------------- \n",
      "\n",
      "Starting URL reconstruction...\n"
     ]
    },
    {
     "name": "stderr",
     "output_type": "stream",
     "text": [
      "2024-03-11 18:31:14,645 - INFO - Processing URL 1/1: https://www.eversports.de/s/freigeist-studio-kufstein\n"
     ]
    },
    {
     "name": "stdout",
     "output_type": "stream",
     "text": [
      "Converting to DataFrame...\n",
      "Validating URLs...\n"
     ]
    },
    {
     "name": "stderr",
     "output_type": "stream",
     "text": [
      "2024-03-11 18:31:15,666 - INFO - URL https://www.eversports.de/s/freigeist-studio-kufstein is valid.\n"
     ]
    },
    {
     "name": "stdout",
     "output_type": "stream",
     "text": [
      "Scraping Pole Studio Data from https://www.eversports.de/s/freigeist-studio-kufstein...\n"
     ]
    },
    {
     "name": "stderr",
     "output_type": "stream",
     "text": [
      "Processing URLs:  20%|█▉        | 99/502 [05:15<13:07,  1.95s/it]"
     ]
    },
    {
     "name": "stdout",
     "output_type": "stream",
     "text": [
      "\n",
      "Processing completed.\n",
      "-------------------------------- \n",
      "\n",
      "2024-03-11 18:31:17 - INFO - Scraping Data from: https://www.eversports.at/s/freigeist-studio-kufstein\n",
      "Pole Studio Data: 1 entries\n",
      "Starting URL reconstruction...\n"
     ]
    },
    {
     "name": "stderr",
     "output_type": "stream",
     "text": [
      "Processing URLs:  20%|█▉        | 100/502 [05:16<10:34,  1.58s/it]"
     ]
    },
    {
     "name": "stdout",
     "output_type": "stream",
     "text": [
      "Error during HTTP request: 404 Client Error: Not Found for url: https://www.eversports.de/s/polemagique\n",
      "Converting to DataFrame...\n",
      "Validating URLs...\n",
      "\n",
      "Processing completed.\n",
      "-------------------------------- \n",
      "\n",
      "Starting URL reconstruction...\n"
     ]
    },
    {
     "name": "stderr",
     "output_type": "stream",
     "text": [
      "2024-03-11 18:31:18,798 - INFO - Processing URL 1/1: https://www.eversports.de/s/WeLovePoledance\n"
     ]
    },
    {
     "name": "stdout",
     "output_type": "stream",
     "text": [
      "Converting to DataFrame...\n",
      "Validating URLs...\n"
     ]
    },
    {
     "name": "stderr",
     "output_type": "stream",
     "text": [
      "2024-03-11 18:31:19,587 - INFO - URL https://www.eversports.de/s/WeLovePoledance is valid.\n"
     ]
    },
    {
     "name": "stdout",
     "output_type": "stream",
     "text": [
      "Scraping Pole Studio Data from https://www.eversports.de/s/WeLovePoledance...\n"
     ]
    },
    {
     "name": "stderr",
     "output_type": "stream",
     "text": [
      "Processing URLs:  20%|██        | 101/502 [05:18<11:25,  1.71s/it]"
     ]
    },
    {
     "name": "stdout",
     "output_type": "stream",
     "text": [
      "\n",
      "Processing completed.\n",
      "-------------------------------- \n",
      "\n",
      "2024-03-11 18:31:19 - INFO - Scraping Data from: https://www.eversports.de/s/WeLovePoledance\n",
      "Pole Studio Data: 1 entries\n",
      "Starting URL reconstruction...\n"
     ]
    },
    {
     "name": "stderr",
     "output_type": "stream",
     "text": [
      "Processing URLs:  20%|██        | 102/502 [05:19<09:24,  1.41s/it]"
     ]
    },
    {
     "name": "stdout",
     "output_type": "stream",
     "text": [
      "Error during HTTP request: 404 Client Error: Not Found for url: https://www.eversports.de/s/pole-arts-saarland\n",
      "Converting to DataFrame...\n",
      "Validating URLs...\n",
      "\n",
      "Processing completed.\n",
      "-------------------------------- \n",
      "\n",
      "Starting URL reconstruction...\n"
     ]
    },
    {
     "name": "stderr",
     "output_type": "stream",
     "text": [
      "2024-03-11 18:31:22,265 - INFO - Processing URL 1/1: https://www.eversports.de/s/upsidedown-studio-bad-homburg\n"
     ]
    },
    {
     "name": "stdout",
     "output_type": "stream",
     "text": [
      "Converting to DataFrame...\n",
      "Validating URLs...\n"
     ]
    },
    {
     "name": "stderr",
     "output_type": "stream",
     "text": [
      "2024-03-11 18:31:23,473 - INFO - URL https://www.eversports.de/s/upsidedown-studio-bad-homburg is valid.\n"
     ]
    },
    {
     "name": "stdout",
     "output_type": "stream",
     "text": [
      "Scraping Pole Studio Data from https://www.eversports.de/s/upsidedown-studio-bad-homburg...\n"
     ]
    },
    {
     "name": "stderr",
     "output_type": "stream",
     "text": [
      "Processing URLs:  21%|██        | 103/502 [05:22<13:19,  2.00s/it]"
     ]
    },
    {
     "name": "stdout",
     "output_type": "stream",
     "text": [
      "\n",
      "Processing completed.\n",
      "-------------------------------- \n",
      "\n",
      "2024-03-11 18:31:24 - INFO - Scraping Data from: https://www.eversports.be/s/upsidedown-studio-bad-homburg\n",
      "Pole Studio Data: 1 entries\n",
      "Starting URL reconstruction...\n"
     ]
    },
    {
     "name": "stderr",
     "output_type": "stream",
     "text": [
      "Processing URLs:  21%|██        | 104/502 [05:23<10:37,  1.60s/it]"
     ]
    },
    {
     "name": "stdout",
     "output_type": "stream",
     "text": [
      "Error during HTTP request: 404 Client Error: Not Found for url: https://www.eversports.de/s/das-tanz-center\n",
      "Converting to DataFrame...\n",
      "Validating URLs...\n",
      "\n",
      "Processing completed.\n",
      "-------------------------------- \n",
      "\n",
      "Starting URL reconstruction...\n"
     ]
    },
    {
     "name": "stderr",
     "output_type": "stream",
     "text": [
      "Processing URLs:  21%|██        | 105/502 [05:24<09:00,  1.36s/it]"
     ]
    },
    {
     "name": "stdout",
     "output_type": "stream",
     "text": [
      "Error during HTTP request: 404 Client Error: Not Found for url: https://www.eversports.de/s/pole2dance-vertical-fitness-and-dance-company\n",
      "Converting to DataFrame...\n",
      "Validating URLs...\n",
      "\n",
      "Processing completed.\n",
      "-------------------------------- \n",
      "\n",
      "Starting URL reconstruction...\n"
     ]
    },
    {
     "name": "stderr",
     "output_type": "stream",
     "text": [
      "Processing URLs:  21%|██        | 106/502 [05:24<07:37,  1.15s/it]"
     ]
    },
    {
     "name": "stdout",
     "output_type": "stream",
     "text": [
      "Error during HTTP request: 404 Client Error: Not Found for url: https://www.eversports.de/s/papillon-pole-dance-studio\n",
      "Converting to DataFrame...\n",
      "Validating URLs...\n",
      "\n",
      "Processing completed.\n",
      "-------------------------------- \n",
      "\n",
      "Starting URL reconstruction...\n"
     ]
    },
    {
     "name": "stderr",
     "output_type": "stream",
     "text": [
      "2024-03-11 18:31:27,015 - INFO - Processing URL 1/2: https://www.eversports.de/s/pole-for-soul-gbr\n"
     ]
    },
    {
     "name": "stdout",
     "output_type": "stream",
     "text": [
      "Converting to DataFrame...\n",
      "Validating URLs...\n"
     ]
    },
    {
     "name": "stderr",
     "output_type": "stream",
     "text": [
      "2024-03-11 18:31:27,829 - INFO - URL https://www.eversports.de/s/pole-for-soul-gbr is valid.\n",
      "2024-03-11 18:31:27,830 - INFO - Processing URL 2/2: https://www.eversports.de/sw/pole-for-soul-gbr\n",
      "2024-03-11 18:31:28,523 - INFO - URL https://www.eversports.de/sw/pole-for-soul-gbr is valid.\n"
     ]
    },
    {
     "name": "stdout",
     "output_type": "stream",
     "text": [
      "Scraping Pole Studio Data from https://www.eversports.de/s/pole-for-soul-gbr...\n",
      "Scraping Workshops Data from https://www.eversports.de/sw/pole-for-soul-gbr...\n",
      "Scraping Workshop Details from https://www.eversports.de/e/workshop/CehT5V7...\n"
     ]
    },
    {
     "name": "stderr",
     "output_type": "stream",
     "text": [
      "Processing URLs:  21%|██▏       | 107/502 [05:29<13:54,  2.11s/it]"
     ]
    },
    {
     "name": "stdout",
     "output_type": "stream",
     "text": [
      "\n",
      "Processing completed.\n",
      "-------------------------------- \n",
      "\n",
      "2024-03-11 18:31:30 - INFO - Scraping Data from: https://www.eversports.de/s/pole-for-soul-gbr\n",
      "Pole Studio Data: 1 entries\n",
      "2024-03-11 18:31:30 - INFO - Scraping Data from: https://www.eversports.de/s/pole-for-soul-gbr\n",
      "Workshops Data: 1 entries\n",
      "2024-03-11 18:31:30 - INFO - Scraping Data from: https://www.eversports.de/s/pole-for-soul-gbr\n",
      "Workshop Details: 1 entries\n",
      "Starting URL reconstruction...\n"
     ]
    },
    {
     "name": "stderr",
     "output_type": "stream",
     "text": [
      "Processing URLs:  22%|██▏       | 108/502 [05:34<19:55,  3.03s/it]"
     ]
    },
    {
     "name": "stdout",
     "output_type": "stream",
     "text": [
      "Error during HTTP request: Exceeded 30 redirects.\n",
      "Converting to DataFrame...\n",
      "Validating URLs...\n",
      "\n",
      "Processing completed.\n",
      "-------------------------------- \n",
      "\n",
      "Starting URL reconstruction...\n"
     ]
    },
    {
     "name": "stderr",
     "output_type": "stream",
     "text": [
      "2024-03-11 18:31:36,878 - INFO - Processing URL 1/1: https://www.eversports.de/s/polecreation\n"
     ]
    },
    {
     "name": "stdout",
     "output_type": "stream",
     "text": [
      "Converting to DataFrame...\n",
      "Validating URLs...\n"
     ]
    },
    {
     "name": "stderr",
     "output_type": "stream",
     "text": [
      "2024-03-11 18:31:37,701 - INFO - URL https://www.eversports.de/s/polecreation is valid.\n"
     ]
    },
    {
     "name": "stdout",
     "output_type": "stream",
     "text": [
      "Scraping Pole Studio Data from https://www.eversports.de/s/polecreation...\n"
     ]
    },
    {
     "name": "stderr",
     "output_type": "stream",
     "text": [
      "Processing URLs:  22%|██▏       | 109/502 [05:36<18:44,  2.86s/it]"
     ]
    },
    {
     "name": "stdout",
     "output_type": "stream",
     "text": [
      "\n",
      "Processing completed.\n",
      "-------------------------------- \n",
      "\n",
      "2024-03-11 18:31:38 - INFO - Scraping Data from: https://www.eversports.de/s/polecreation\n",
      "Pole Studio Data: 1 entries\n",
      "Starting URL reconstruction...\n"
     ]
    },
    {
     "name": "stderr",
     "output_type": "stream",
     "text": [
      "Processing URLs:  22%|██▏       | 110/502 [05:39<18:08,  2.78s/it]"
     ]
    },
    {
     "name": "stdout",
     "output_type": "stream",
     "text": [
      "Error during HTTP request: Exceeded 30 redirects.\n",
      "Converting to DataFrame...\n",
      "Validating URLs...\n",
      "\n",
      "Processing completed.\n",
      "-------------------------------- \n",
      "\n",
      "Starting URL reconstruction...\n"
     ]
    },
    {
     "name": "stderr",
     "output_type": "stream",
     "text": [
      "2024-03-11 18:31:42,015 - INFO - Processing URL 1/1: https://www.eversports.de/s/pole-dance-belgium-enghien\n"
     ]
    },
    {
     "name": "stdout",
     "output_type": "stream",
     "text": [
      "Converting to DataFrame...\n",
      "Validating URLs...\n"
     ]
    },
    {
     "name": "stderr",
     "output_type": "stream",
     "text": [
      "2024-03-11 18:31:44,223 - INFO - URL https://www.eversports.de/s/pole-dance-belgium-enghien is valid.\n"
     ]
    },
    {
     "name": "stdout",
     "output_type": "stream",
     "text": [
      "Scraping Pole Studio Data from https://www.eversports.de/s/pole-dance-belgium-enghien...\n"
     ]
    },
    {
     "name": "stderr",
     "output_type": "stream",
     "text": [
      "Processing URLs:  22%|██▏       | 111/502 [05:43<20:59,  3.22s/it]"
     ]
    },
    {
     "name": "stdout",
     "output_type": "stream",
     "text": [
      "\n",
      "Processing completed.\n",
      "-------------------------------- \n",
      "\n",
      "2024-03-11 18:31:44 - INFO - Scraping Data from: https://www.eversports.be/s/pole-dance-belgium-enghien\n",
      "Pole Studio Data: 1 entries\n",
      "Starting URL reconstruction...\n"
     ]
    },
    {
     "name": "stderr",
     "output_type": "stream",
     "text": [
      "2024-03-11 18:31:46,046 - INFO - Processing URL 1/1: https://www.eversports.de/s/body-meets-soul-leipzig\n"
     ]
    },
    {
     "name": "stdout",
     "output_type": "stream",
     "text": [
      "Converting to DataFrame...\n",
      "Validating URLs...\n"
     ]
    },
    {
     "name": "stderr",
     "output_type": "stream",
     "text": [
      "2024-03-11 18:31:46,860 - INFO - URL https://www.eversports.de/s/body-meets-soul-leipzig is valid.\n"
     ]
    },
    {
     "name": "stdout",
     "output_type": "stream",
     "text": [
      "Scraping Pole Studio Data from https://www.eversports.de/s/body-meets-soul-leipzig...\n"
     ]
    },
    {
     "name": "stderr",
     "output_type": "stream",
     "text": [
      "Processing URLs:  22%|██▏       | 112/502 [05:45<18:54,  2.91s/it]"
     ]
    },
    {
     "name": "stdout",
     "output_type": "stream",
     "text": [
      "\n",
      "Processing completed.\n",
      "-------------------------------- \n",
      "\n",
      "2024-03-11 18:31:47 - INFO - Scraping Data from: https://www.eversports.de/s/body-meets-soul-leipzig\n",
      "Pole Studio Data: 1 entries\n",
      "Starting URL reconstruction...\n"
     ]
    },
    {
     "name": "stderr",
     "output_type": "stream",
     "text": [
      "2024-03-11 18:31:48,135 - INFO - Processing URL 1/2: https://www.eversports.de/s/aerial-art-poledance\n"
     ]
    },
    {
     "name": "stdout",
     "output_type": "stream",
     "text": [
      "Converting to DataFrame...\n",
      "Validating URLs...\n"
     ]
    },
    {
     "name": "stderr",
     "output_type": "stream",
     "text": [
      "2024-03-11 18:31:49,113 - INFO - URL https://www.eversports.de/s/aerial-art-poledance is valid.\n",
      "2024-03-11 18:31:49,114 - INFO - Processing URL 2/2: https://www.eversports.de/sw/aerial-art-poledance\n",
      "2024-03-11 18:31:49,898 - INFO - URL https://www.eversports.de/sw/aerial-art-poledance is valid.\n"
     ]
    },
    {
     "name": "stdout",
     "output_type": "stream",
     "text": [
      "Scraping Pole Studio Data from https://www.eversports.de/s/aerial-art-poledance...\n",
      "Scraping Workshops Data from https://www.eversports.de/sw/aerial-art-poledance...\n",
      "Scraping Workshop Details from https://www.eversports.de/e/workshop/y8LqNM9...\n",
      "Scraping Workshop Details from https://www.eversports.de/e/workshop/-xFs2y7...\n",
      "Scraping Workshop Details from https://www.eversports.de/e/workshop/XIjmMIv...\n",
      "Scraping Workshop Details from https://www.eversports.de/e/workshop/IhXUeyj...\n"
     ]
    },
    {
     "name": "stderr",
     "output_type": "stream",
     "text": [
      "Processing URLs:  23%|██▎       | 113/502 [05:53<28:06,  4.33s/it]"
     ]
    },
    {
     "name": "stdout",
     "output_type": "stream",
     "text": [
      "\n",
      "Processing completed.\n",
      "-------------------------------- \n",
      "\n",
      "2024-03-11 18:31:54 - INFO - Scraping Data from: https://www.eversports.de/s/aerial-art-poledance\n",
      "Pole Studio Data: 1 entries\n",
      "2024-03-11 18:31:54 - INFO - Scraping Data from: https://www.eversports.de/s/aerial-art-poledance\n",
      "Workshops Data: 4 entries\n",
      "2024-03-11 18:31:54 - INFO - Scraping Data from: https://www.eversports.de/s/aerial-art-poledance\n",
      "Workshop Details: 4 entries\n",
      "Starting URL reconstruction...\n"
     ]
    },
    {
     "name": "stderr",
     "output_type": "stream",
     "text": [
      "2024-03-11 18:31:55,724 - INFO - Processing URL 1/1: https://www.eversports.de/s/t-tanzstueck-braunschweig\n"
     ]
    },
    {
     "name": "stdout",
     "output_type": "stream",
     "text": [
      "Converting to DataFrame...\n",
      "Validating URLs...\n"
     ]
    },
    {
     "name": "stderr",
     "output_type": "stream",
     "text": [
      "2024-03-11 18:31:57,630 - INFO - URL https://www.eversports.de/s/t-tanzstueck-braunschweig is valid.\n"
     ]
    },
    {
     "name": "stdout",
     "output_type": "stream",
     "text": [
      "Scraping Pole Studio Data from https://www.eversports.de/s/t-tanzstueck-braunschweig...\n"
     ]
    },
    {
     "name": "stderr",
     "output_type": "stream",
     "text": [
      "Processing URLs:  23%|██▎       | 114/502 [05:56<25:47,  3.99s/it]"
     ]
    },
    {
     "name": "stdout",
     "output_type": "stream",
     "text": [
      "\n",
      "Processing completed.\n",
      "-------------------------------- \n",
      "\n",
      "2024-03-11 18:31:57 - INFO - Scraping Data from: https://www.eversports.de/s/t-tanzstueck-braunschweig\n",
      "Pole Studio Data: 1 entries\n",
      "Starting URL reconstruction...\n"
     ]
    },
    {
     "name": "stderr",
     "output_type": "stream",
     "text": [
      "2024-03-11 18:31:59,288 - INFO - Processing URL 1/1: https://www.eversports.de/s/pole-acrobatics\n"
     ]
    },
    {
     "name": "stdout",
     "output_type": "stream",
     "text": [
      "Converting to DataFrame...\n",
      "Validating URLs...\n"
     ]
    },
    {
     "name": "stderr",
     "output_type": "stream",
     "text": [
      "2024-03-11 18:32:00,888 - INFO - URL https://www.eversports.de/s/pole-acrobatics is valid.\n"
     ]
    },
    {
     "name": "stdout",
     "output_type": "stream",
     "text": [
      "Scraping Pole Studio Data from https://www.eversports.de/s/pole-acrobatics...\n"
     ]
    },
    {
     "name": "stderr",
     "output_type": "stream",
     "text": [
      "Processing URLs:  23%|██▎       | 115/502 [05:59<24:20,  3.77s/it]"
     ]
    },
    {
     "name": "stdout",
     "output_type": "stream",
     "text": [
      "\n",
      "Processing completed.\n",
      "-------------------------------- \n",
      "\n",
      "2024-03-11 18:32:01 - INFO - Scraping Data from: https://www.eversports.de/s/pole-acrobatics\n",
      "Pole Studio Data: 1 entries\n",
      "Starting URL reconstruction...\n"
     ]
    },
    {
     "name": "stderr",
     "output_type": "stream",
     "text": [
      "Processing URLs:  23%|██▎       | 116/502 [06:04<25:31,  3.97s/it]"
     ]
    },
    {
     "name": "stdout",
     "output_type": "stream",
     "text": [
      "Error during HTTP request: Exceeded 30 redirects.\n",
      "Converting to DataFrame...\n",
      "Validating URLs...\n",
      "\n",
      "Processing completed.\n",
      "-------------------------------- \n",
      "\n",
      "Starting URL reconstruction...\n"
     ]
    },
    {
     "name": "stderr",
     "output_type": "stream",
     "text": [
      "Processing URLs:  23%|██▎       | 117/502 [06:05<19:46,  3.08s/it]"
     ]
    },
    {
     "name": "stdout",
     "output_type": "stream",
     "text": [
      "Error during HTTP request: 404 Client Error: Not Found for url: https://www.eversports.de/s/pole-dance-studio-karlsruhe\n",
      "Converting to DataFrame...\n",
      "Validating URLs...\n",
      "\n",
      "Processing completed.\n",
      "-------------------------------- \n",
      "\n",
      "Starting URL reconstruction...\n"
     ]
    },
    {
     "name": "stderr",
     "output_type": "stream",
     "text": [
      "2024-03-11 18:32:07,988 - INFO - Processing URL 1/1: https://www.eversports.de/s/pure-body-concepts\n"
     ]
    },
    {
     "name": "stdout",
     "output_type": "stream",
     "text": [
      "Converting to DataFrame...\n",
      "Validating URLs...\n"
     ]
    },
    {
     "name": "stderr",
     "output_type": "stream",
     "text": [
      "2024-03-11 18:32:08,721 - INFO - URL https://www.eversports.de/s/pure-body-concepts is valid.\n"
     ]
    },
    {
     "name": "stdout",
     "output_type": "stream",
     "text": [
      "Scraping Pole Studio Data from https://www.eversports.de/s/pure-body-concepts...\n"
     ]
    },
    {
     "name": "stderr",
     "output_type": "stream",
     "text": [
      "Processing URLs:  24%|██▎       | 118/502 [06:07<18:19,  2.86s/it]"
     ]
    },
    {
     "name": "stdout",
     "output_type": "stream",
     "text": [
      "\n",
      "Processing completed.\n",
      "-------------------------------- \n",
      "\n",
      "2024-03-11 18:32:09 - INFO - Scraping Data from: https://www.eversports.de/s/pure-body-concepts\n",
      "Pole Studio Data: 1 entries\n",
      "Starting URL reconstruction...\n"
     ]
    },
    {
     "name": "stderr",
     "output_type": "stream",
     "text": [
      "Processing URLs:  24%|██▎       | 119/502 [06:14<25:33,  4.00s/it]"
     ]
    },
    {
     "name": "stdout",
     "output_type": "stream",
     "text": [
      "Error during HTTP request: Exceeded 30 redirects.\n",
      "Converting to DataFrame...\n",
      "Validating URLs...\n",
      "\n",
      "Processing completed.\n",
      "-------------------------------- \n",
      "\n",
      "Starting URL reconstruction...\n"
     ]
    },
    {
     "name": "stderr",
     "output_type": "stream",
     "text": [
      "Processing URLs:  24%|██▍       | 120/502 [06:15<19:31,  3.07s/it]"
     ]
    },
    {
     "name": "stdout",
     "output_type": "stream",
     "text": [
      "Error during HTTP request: 404 Client Error: Not Found for url: https://www.eversports.de/s/just-fly\n",
      "Converting to DataFrame...\n",
      "Validating URLs...\n",
      "\n",
      "Processing completed.\n",
      "-------------------------------- \n",
      "\n",
      "Starting URL reconstruction...\n"
     ]
    },
    {
     "name": "stderr",
     "output_type": "stream",
     "text": [
      "Processing URLs:  24%|██▍       | 121/502 [06:15<14:52,  2.34s/it]"
     ]
    },
    {
     "name": "stdout",
     "output_type": "stream",
     "text": [
      "Error during HTTP request: 404 Client Error: Not Found for url: https://www.eversports.de/s/polefitness-by-sophie-m.\n",
      "Converting to DataFrame...\n",
      "Validating URLs...\n",
      "\n",
      "Processing completed.\n",
      "-------------------------------- \n",
      "\n",
      "Starting URL reconstruction...\n"
     ]
    },
    {
     "name": "stderr",
     "output_type": "stream",
     "text": [
      "Processing URLs:  24%|██▍       | 122/502 [06:16<11:28,  1.81s/it]"
     ]
    },
    {
     "name": "stdout",
     "output_type": "stream",
     "text": [
      "Error during HTTP request: 404 Client Error: Not Found for url: https://www.eversports.de/s/anni's-pole-dance-neum%C3%BCnster\n",
      "Converting to DataFrame...\n",
      "Validating URLs...\n",
      "\n",
      "Processing completed.\n",
      "-------------------------------- \n",
      "\n",
      "Starting URL reconstruction...\n"
     ]
    },
    {
     "name": "stderr",
     "output_type": "stream",
     "text": [
      "2024-03-11 18:32:19,315 - INFO - Processing URL 1/1: https://www.eversports.de/s/valkyrie-pole-luzern\n"
     ]
    },
    {
     "name": "stdout",
     "output_type": "stream",
     "text": [
      "Converting to DataFrame...\n",
      "Validating URLs...\n"
     ]
    },
    {
     "name": "stderr",
     "output_type": "stream",
     "text": [
      "2024-03-11 18:32:20,729 - INFO - URL https://www.eversports.de/s/valkyrie-pole-luzern is valid.\n"
     ]
    },
    {
     "name": "stdout",
     "output_type": "stream",
     "text": [
      "Scraping Pole Studio Data from https://www.eversports.de/s/valkyrie-pole-luzern...\n"
     ]
    },
    {
     "name": "stderr",
     "output_type": "stream",
     "text": [
      "Processing URLs:  25%|██▍       | 123/502 [06:19<14:04,  2.23s/it]"
     ]
    },
    {
     "name": "stdout",
     "output_type": "stream",
     "text": [
      "\n",
      "Processing completed.\n",
      "-------------------------------- \n",
      "\n",
      "2024-03-11 18:32:21 - INFO - Scraping Data from: https://www.eversports.ch/s/valkyrie-pole-luzern\n",
      "Pole Studio Data: 1 entries\n",
      "Starting URL reconstruction...\n"
     ]
    },
    {
     "name": "stderr",
     "output_type": "stream",
     "text": [
      "Processing URLs:  25%|██▍       | 124/502 [06:20<11:11,  1.78s/it]"
     ]
    },
    {
     "name": "stdout",
     "output_type": "stream",
     "text": [
      "Error during HTTP request: 404 Client Error: Not Found for url: https://www.eversports.de/s/orbit-studio\n",
      "Converting to DataFrame...\n",
      "Validating URLs...\n",
      "\n",
      "Processing completed.\n",
      "-------------------------------- \n",
      "\n",
      "Starting URL reconstruction...\n"
     ]
    },
    {
     "name": "stderr",
     "output_type": "stream",
     "text": [
      "Processing URLs:  25%|██▍       | 125/502 [06:21<09:05,  1.45s/it]"
     ]
    },
    {
     "name": "stdout",
     "output_type": "stream",
     "text": [
      "Error during HTTP request: 404 Client Error: Not Found for url: https://www.eversports.de/s/exotic-academy\n",
      "Converting to DataFrame...\n",
      "Validating URLs...\n",
      "\n",
      "Processing completed.\n",
      "-------------------------------- \n",
      "\n",
      "Starting URL reconstruction...\n"
     ]
    },
    {
     "name": "stderr",
     "output_type": "stream",
     "text": [
      "Processing URLs:  25%|██▌       | 126/502 [06:23<10:43,  1.71s/it]"
     ]
    },
    {
     "name": "stdout",
     "output_type": "stream",
     "text": [
      "Error during HTTP request: 404 Client Error: Not Found for url: https://www.eversports.de/s/fly-%26-flow-studio\n",
      "Converting to DataFrame...\n",
      "Validating URLs...\n",
      "\n",
      "Processing completed.\n",
      "-------------------------------- \n",
      "\n",
      "Starting URL reconstruction...\n"
     ]
    },
    {
     "name": "stderr",
     "output_type": "stream",
     "text": [
      "Processing URLs:  25%|██▌       | 127/502 [06:24<08:48,  1.41s/it]"
     ]
    },
    {
     "name": "stdout",
     "output_type": "stream",
     "text": [
      "Error during HTTP request: 404 Client Error: Not Found for url: https://www.eversports.de/s/aerial-%26-vertikal-floor-of-art\n",
      "Converting to DataFrame...\n",
      "Validating URLs...\n",
      "\n",
      "Processing completed.\n",
      "-------------------------------- \n",
      "\n",
      "Starting URL reconstruction...\n"
     ]
    },
    {
     "name": "stderr",
     "output_type": "stream",
     "text": [
      "2024-03-11 18:32:27,346 - INFO - Processing URL 1/2: https://www.eversports.de/s/luftbonbon\n"
     ]
    },
    {
     "name": "stdout",
     "output_type": "stream",
     "text": [
      "Converting to DataFrame...\n",
      "Validating URLs...\n"
     ]
    },
    {
     "name": "stderr",
     "output_type": "stream",
     "text": [
      "2024-03-11 18:32:28,226 - INFO - URL https://www.eversports.de/s/luftbonbon is valid.\n",
      "2024-03-11 18:32:28,226 - INFO - Processing URL 2/2: https://www.eversports.de/sw/luftbonbon\n",
      "2024-03-11 18:32:28,872 - INFO - URL https://www.eversports.de/sw/luftbonbon is valid.\n"
     ]
    },
    {
     "name": "stdout",
     "output_type": "stream",
     "text": [
      "Scraping Pole Studio Data from https://www.eversports.de/s/luftbonbon...\n",
      "Scraping Workshops Data from https://www.eversports.de/sw/luftbonbon...\n",
      "Scraping Workshop Details from https://www.eversports.de/e/workshop/PqgxSSN...\n"
     ]
    },
    {
     "name": "stderr",
     "output_type": "stream",
     "text": [
      "Processing URLs:  25%|██▌       | 128/502 [06:29<16:01,  2.57s/it]"
     ]
    },
    {
     "name": "stdout",
     "output_type": "stream",
     "text": [
      "\n",
      "Processing completed.\n",
      "-------------------------------- \n",
      "\n",
      "2024-03-11 18:32:30 - INFO - Scraping Data from: https://www.eversports.de/s/luftbonbon\n",
      "Pole Studio Data: 1 entries\n",
      "2024-03-11 18:32:30 - INFO - Scraping Data from: https://www.eversports.de/s/luftbonbon\n",
      "Workshops Data: 1 entries\n",
      "2024-03-11 18:32:30 - INFO - Scraping Data from: https://www.eversports.de/s/luftbonbon\n",
      "Workshop Details: 1 entries\n",
      "Starting URL reconstruction...\n"
     ]
    },
    {
     "name": "stderr",
     "output_type": "stream",
     "text": [
      "Processing URLs:  26%|██▌       | 129/502 [06:30<12:38,  2.03s/it]"
     ]
    },
    {
     "name": "stdout",
     "output_type": "stream",
     "text": [
      "Error during HTTP request: 404 Client Error: Not Found for url: https://www.eversports.de/s/poledance-leipzig\n",
      "Converting to DataFrame...\n",
      "Validating URLs...\n",
      "\n",
      "Processing completed.\n",
      "-------------------------------- \n",
      "\n",
      "Starting URL reconstruction...\n"
     ]
    },
    {
     "name": "stderr",
     "output_type": "stream",
     "text": [
      "2024-03-11 18:32:32,614 - INFO - Processing URL 1/1: https://www.eversports.de/s/polefit-aline-sustrath\n"
     ]
    },
    {
     "name": "stdout",
     "output_type": "stream",
     "text": [
      "Converting to DataFrame...\n",
      "Validating URLs...\n"
     ]
    },
    {
     "name": "stderr",
     "output_type": "stream",
     "text": [
      "2024-03-11 18:32:33,485 - INFO - URL https://www.eversports.de/s/polefit-aline-sustrath is valid.\n"
     ]
    },
    {
     "name": "stdout",
     "output_type": "stream",
     "text": [
      "Scraping Pole Studio Data from https://www.eversports.de/s/polefit-aline-sustrath...\n"
     ]
    },
    {
     "name": "stderr",
     "output_type": "stream",
     "text": [
      "Processing URLs:  26%|██▌       | 130/502 [06:32<12:59,  2.10s/it]"
     ]
    },
    {
     "name": "stdout",
     "output_type": "stream",
     "text": [
      "\n",
      "Processing completed.\n",
      "-------------------------------- \n",
      "\n",
      "2024-03-11 18:32:33 - INFO - Scraping Data from: https://www.eversports.de/s/polefit-aline-sustrath\n",
      "Pole Studio Data: 1 entries\n",
      "Starting URL reconstruction...\n"
     ]
    },
    {
     "name": "stderr",
     "output_type": "stream",
     "text": [
      "Processing URLs:  26%|██▌       | 131/502 [06:32<10:10,  1.65s/it]"
     ]
    },
    {
     "name": "stdout",
     "output_type": "stream",
     "text": [
      "Error during HTTP request: 404 Client Error: Not Found for url: https://www.eversports.de/s/dance-&-pole-langenfeld\n",
      "Converting to DataFrame...\n",
      "Validating URLs...\n",
      "\n",
      "Processing completed.\n",
      "-------------------------------- \n",
      "\n",
      "Starting URL reconstruction...\n"
     ]
    },
    {
     "name": "stderr",
     "output_type": "stream",
     "text": [
      "Processing URLs:  26%|██▋       | 132/502 [06:33<08:40,  1.41s/it]"
     ]
    },
    {
     "name": "stdout",
     "output_type": "stream",
     "text": [
      "Error during HTTP request: 404 Client Error: Not Found for url: https://www.eversports.de/s/studio-beyou\n",
      "Converting to DataFrame...\n",
      "Validating URLs...\n",
      "\n",
      "Processing completed.\n",
      "-------------------------------- \n",
      "\n",
      "Starting URL reconstruction...\n"
     ]
    },
    {
     "name": "stderr",
     "output_type": "stream",
     "text": [
      "Processing URLs:  26%|██▋       | 133/502 [06:34<07:41,  1.25s/it]"
     ]
    },
    {
     "name": "stdout",
     "output_type": "stream",
     "text": [
      "Error during HTTP request: 404 Client Error: Not Found for url: https://www.eversports.de/s/vertical-kay-poledance-%26-aerialarts-studio\n",
      "Converting to DataFrame...\n",
      "Validating URLs...\n",
      "\n",
      "Processing completed.\n",
      "-------------------------------- \n",
      "\n",
      "Starting URL reconstruction...\n"
     ]
    },
    {
     "name": "stderr",
     "output_type": "stream",
     "text": [
      "Processing URLs:  27%|██▋       | 134/502 [06:35<06:39,  1.09s/it]"
     ]
    },
    {
     "name": "stdout",
     "output_type": "stream",
     "text": [
      "Error during HTTP request: 404 Client Error: Not Found for url: https://www.eversports.de/s/tanzstudio-redlightdance-berlin\n",
      "Converting to DataFrame...\n",
      "Validating URLs...\n",
      "\n",
      "Processing completed.\n",
      "-------------------------------- \n",
      "\n",
      "Starting URL reconstruction...\n"
     ]
    },
    {
     "name": "stderr",
     "output_type": "stream",
     "text": [
      "2024-03-11 18:32:38,079 - INFO - Processing URL 1/1: https://www.eversports.de/s/sweatndance\n"
     ]
    },
    {
     "name": "stdout",
     "output_type": "stream",
     "text": [
      "Converting to DataFrame...\n",
      "Validating URLs...\n"
     ]
    },
    {
     "name": "stderr",
     "output_type": "stream",
     "text": [
      "2024-03-11 18:32:38,911 - INFO - URL https://www.eversports.de/s/sweatndance is valid.\n"
     ]
    },
    {
     "name": "stdout",
     "output_type": "stream",
     "text": [
      "Scraping Pole Studio Data from https://www.eversports.de/s/sweatndance...\n",
      "\n",
      "Processing completed.\n",
      "-------------------------------- \n",
      "\n"
     ]
    },
    {
     "name": "stderr",
     "output_type": "stream",
     "text": [
      "Processing URLs:  27%|██▋       | 135/502 [06:37<08:55,  1.46s/it]"
     ]
    },
    {
     "name": "stdout",
     "output_type": "stream",
     "text": [
      "2024-03-11 18:32:39 - INFO - Scraping Data from: https://www.eversports.de/s/sweatndance\n",
      "Pole Studio Data: 1 entries\n",
      "Starting URL reconstruction...\n"
     ]
    },
    {
     "name": "stderr",
     "output_type": "stream",
     "text": [
      "2024-03-11 18:32:40,045 - INFO - Processing URL 1/1: https://www.eversports.de/s/indeed-unique-studio-wien\n"
     ]
    },
    {
     "name": "stdout",
     "output_type": "stream",
     "text": [
      "Converting to DataFrame...\n",
      "Validating URLs...\n"
     ]
    },
    {
     "name": "stderr",
     "output_type": "stream",
     "text": [
      "2024-03-11 18:32:40,810 - INFO - URL https://www.eversports.de/s/indeed-unique-studio-wien is valid.\n"
     ]
    },
    {
     "name": "stdout",
     "output_type": "stream",
     "text": [
      "Scraping Pole Studio Data from https://www.eversports.de/s/indeed-unique-studio-wien...\n"
     ]
    },
    {
     "name": "stderr",
     "output_type": "stream",
     "text": [
      "Processing URLs:  27%|██▋       | 136/502 [06:39<09:53,  1.62s/it]"
     ]
    },
    {
     "name": "stdout",
     "output_type": "stream",
     "text": [
      "\n",
      "Processing completed.\n",
      "-------------------------------- \n",
      "\n",
      "2024-03-11 18:32:41 - INFO - Scraping Data from: https://www.eversports.de/s/indeed-unique-studio-wien\n",
      "Pole Studio Data: 1 entries\n",
      "Starting URL reconstruction...\n"
     ]
    },
    {
     "name": "stderr",
     "output_type": "stream",
     "text": [
      "Processing URLs:  27%|██▋       | 137/502 [06:40<08:25,  1.39s/it]"
     ]
    },
    {
     "name": "stdout",
     "output_type": "stream",
     "text": [
      "Error during HTTP request: 404 Client Error: Not Found for url: https://www.eversports.de/s/unique-studios-schweinfurt\n",
      "Converting to DataFrame...\n",
      "Validating URLs...\n",
      "\n",
      "Processing completed.\n",
      "-------------------------------- \n",
      "\n",
      "Starting URL reconstruction...\n"
     ]
    },
    {
     "name": "stderr",
     "output_type": "stream",
     "text": [
      "2024-03-11 18:32:42,824 - INFO - Processing URL 1/1: https://www.eversports.de/s/dancingstyle\n"
     ]
    },
    {
     "name": "stdout",
     "output_type": "stream",
     "text": [
      "Converting to DataFrame...\n",
      "Validating URLs...\n"
     ]
    },
    {
     "name": "stderr",
     "output_type": "stream",
     "text": [
      "2024-03-11 18:32:43,554 - INFO - URL https://www.eversports.de/s/dancingstyle is valid.\n"
     ]
    },
    {
     "name": "stdout",
     "output_type": "stream",
     "text": [
      "Scraping Pole Studio Data from https://www.eversports.de/s/dancingstyle...\n"
     ]
    },
    {
     "name": "stderr",
     "output_type": "stream",
     "text": [
      "Processing URLs:  27%|██▋       | 138/502 [06:42<09:11,  1.51s/it]"
     ]
    },
    {
     "name": "stdout",
     "output_type": "stream",
     "text": [
      "\n",
      "Processing completed.\n",
      "-------------------------------- \n",
      "\n",
      "2024-03-11 18:32:43 - INFO - Scraping Data from: https://www.eversports.de/s/dancingstyle\n",
      "Pole Studio Data: 1 entries\n",
      "Starting URL reconstruction...\n"
     ]
    },
    {
     "name": "stderr",
     "output_type": "stream",
     "text": [
      "Processing URLs:  28%|██▊       | 139/502 [06:43<07:40,  1.27s/it]"
     ]
    },
    {
     "name": "stdout",
     "output_type": "stream",
     "text": [
      "Error during HTTP request: 404 Client Error: Not Found for url: https://www.eversports.de/s/freaky-pole-cats-hengersberg\n",
      "Converting to DataFrame...\n",
      "Validating URLs...\n",
      "\n",
      "Processing completed.\n",
      "-------------------------------- \n",
      "\n",
      "Starting URL reconstruction...\n"
     ]
    },
    {
     "name": "stderr",
     "output_type": "stream",
     "text": [
      "2024-03-11 18:32:45,647 - INFO - Processing URL 1/1: https://www.eversports.de/s/dance-and-pole-langenfeld\n"
     ]
    },
    {
     "name": "stdout",
     "output_type": "stream",
     "text": [
      "Converting to DataFrame...\n",
      "Validating URLs...\n"
     ]
    },
    {
     "name": "stderr",
     "output_type": "stream",
     "text": [
      "2024-03-11 18:32:46,533 - INFO - URL https://www.eversports.de/s/dance-and-pole-langenfeld is valid.\n"
     ]
    },
    {
     "name": "stdout",
     "output_type": "stream",
     "text": [
      "Scraping Pole Studio Data from https://www.eversports.de/s/dance-and-pole-langenfeld...\n"
     ]
    },
    {
     "name": "stderr",
     "output_type": "stream",
     "text": [
      "Processing URLs:  28%|██▊       | 140/502 [06:45<09:37,  1.60s/it]"
     ]
    },
    {
     "name": "stdout",
     "output_type": "stream",
     "text": [
      "\n",
      "Processing completed.\n",
      "-------------------------------- \n",
      "\n",
      "2024-03-11 18:32:46 - INFO - Scraping Data from: https://www.eversports.de/s/dance-and-pole-langenfeld\n",
      "Pole Studio Data: 1 entries\n",
      "Starting URL reconstruction...\n"
     ]
    },
    {
     "name": "stderr",
     "output_type": "stream",
     "text": [
      "Processing URLs:  28%|██▊       | 141/502 [06:46<07:51,  1.31s/it]"
     ]
    },
    {
     "name": "stdout",
     "output_type": "stream",
     "text": [
      "Error during HTTP request: 404 Client Error: Not Found for url: https://www.eversports.de/s/dalibravita\n",
      "Converting to DataFrame...\n",
      "Validating URLs...\n",
      "\n",
      "Processing completed.\n",
      "-------------------------------- \n",
      "\n",
      "Starting URL reconstruction...\n"
     ]
    },
    {
     "name": "stderr",
     "output_type": "stream",
     "text": [
      "2024-03-11 18:32:48,318 - INFO - Processing URL 1/2: https://www.eversports.de/s/vertical-pole-aerial-dance-1\n"
     ]
    },
    {
     "name": "stdout",
     "output_type": "stream",
     "text": [
      "Converting to DataFrame...\n",
      "Validating URLs...\n"
     ]
    },
    {
     "name": "stderr",
     "output_type": "stream",
     "text": [
      "2024-03-11 18:32:49,235 - INFO - URL https://www.eversports.de/s/vertical-pole-aerial-dance-1 is valid.\n",
      "2024-03-11 18:32:49,235 - INFO - Processing URL 2/2: https://www.eversports.de/sw/vertical-pole-aerial-dance-1\n",
      "2024-03-11 18:32:49,861 - INFO - URL https://www.eversports.de/sw/vertical-pole-aerial-dance-1 is valid.\n"
     ]
    },
    {
     "name": "stdout",
     "output_type": "stream",
     "text": [
      "Scraping Pole Studio Data from https://www.eversports.de/s/vertical-pole-aerial-dance-1...\n",
      "Scraping Workshops Data from https://www.eversports.de/sw/vertical-pole-aerial-dance-1...\n",
      "Scraping Workshop Details from https://www.eversports.de/e/workshop/VJq5Njd...\n",
      "Scraping Workshop Details from https://www.eversports.de/e/workshop/LL6Knk0...\n"
     ]
    },
    {
     "name": "stderr",
     "output_type": "stream",
     "text": [
      "Processing URLs:  28%|██▊       | 142/502 [06:51<15:11,  2.53s/it]"
     ]
    },
    {
     "name": "stdout",
     "output_type": "stream",
     "text": [
      "\n",
      "Processing completed.\n",
      "-------------------------------- \n",
      "\n",
      "2024-03-11 18:32:52 - INFO - Scraping Data from: https://www.eversports.de/s/vertical-pole-aerial-dance-1\n",
      "Pole Studio Data: 1 entries\n",
      "2024-03-11 18:32:52 - INFO - Scraping Data from: https://www.eversports.de/s/vertical-pole-aerial-dance-1\n",
      "Workshops Data: 2 entries\n",
      "2024-03-11 18:32:52 - INFO - Scraping Data from: https://www.eversports.de/s/vertical-pole-aerial-dance-1\n",
      "Workshop Details: 2 entries\n",
      "Starting URL reconstruction...\n"
     ]
    },
    {
     "name": "stderr",
     "output_type": "stream",
     "text": [
      "Processing URLs:  28%|██▊       | 143/502 [06:52<13:18,  2.22s/it]"
     ]
    },
    {
     "name": "stdout",
     "output_type": "stream",
     "text": [
      "Error during HTTP request: 404 Client Error: Not Found for url: https://www.eversports.de/s/b.fitness-pole%26body\n",
      "Converting to DataFrame...\n",
      "Validating URLs...\n",
      "\n",
      "Processing completed.\n",
      "-------------------------------- \n",
      "\n",
      "Starting URL reconstruction...\n"
     ]
    },
    {
     "name": "stderr",
     "output_type": "stream",
     "text": [
      "2024-03-11 18:32:55,318 - INFO - Processing URL 1/2: https://www.eversports.de/s/flyhigh-aerial-fitness\n"
     ]
    },
    {
     "name": "stdout",
     "output_type": "stream",
     "text": [
      "Converting to DataFrame...\n",
      "Validating URLs...\n"
     ]
    },
    {
     "name": "stderr",
     "output_type": "stream",
     "text": [
      "2024-03-11 18:32:56,237 - INFO - URL https://www.eversports.de/s/flyhigh-aerial-fitness is valid.\n",
      "2024-03-11 18:32:56,238 - INFO - Processing URL 2/2: https://www.eversports.de/sw/flyhigh-aerial-fitness\n",
      "2024-03-11 18:32:56,946 - INFO - URL https://www.eversports.de/sw/flyhigh-aerial-fitness is valid.\n"
     ]
    },
    {
     "name": "stdout",
     "output_type": "stream",
     "text": [
      "Scraping Pole Studio Data from https://www.eversports.de/s/flyhigh-aerial-fitness...\n",
      "Scraping Workshops Data from https://www.eversports.de/sw/flyhigh-aerial-fitness...\n",
      "Scraping Workshop Details from https://www.eversports.de/e/workshop/i9Z1RrD...\n"
     ]
    },
    {
     "name": "stderr",
     "output_type": "stream",
     "text": [
      "Processing URLs:  29%|██▊       | 144/502 [06:58<18:35,  3.12s/it]"
     ]
    },
    {
     "name": "stdout",
     "output_type": "stream",
     "text": [
      "\n",
      "Processing completed.\n",
      "-------------------------------- \n",
      "\n",
      "2024-03-11 18:32:59 - INFO - Scraping Data from: https://www.eversports.de/s/flyhigh-aerial-fitness\n",
      "Pole Studio Data: 1 entries\n",
      "2024-03-11 18:32:59 - INFO - Scraping Data from: https://www.eversports.de/s/flyhigh-aerial-fitness\n",
      "Workshops Data: 1 entries\n",
      "2024-03-11 18:32:59 - INFO - Scraping Data from: https://www.eversports.de/s/flyhigh-aerial-fitness\n",
      "Workshop Details: 1 entries\n",
      "Starting URL reconstruction...\n"
     ]
    },
    {
     "name": "stderr",
     "output_type": "stream",
     "text": [
      "Processing URLs:  29%|██▉       | 145/502 [06:58<14:07,  2.37s/it]"
     ]
    },
    {
     "name": "stdout",
     "output_type": "stream",
     "text": [
      "Error during HTTP request: 404 Client Error: Not Found for url: https://www.eversports.de/s/polefit-pirmasens\n",
      "Converting to DataFrame...\n",
      "Validating URLs...\n",
      "\n",
      "Processing completed.\n",
      "-------------------------------- \n",
      "\n",
      "Starting URL reconstruction...\n"
     ]
    },
    {
     "name": "stderr",
     "output_type": "stream",
     "text": [
      "Processing URLs:  29%|██▉       | 146/502 [07:00<12:06,  2.04s/it]"
     ]
    },
    {
     "name": "stdout",
     "output_type": "stream",
     "text": [
      "Error during HTTP request: 404 Client Error: Not Found for url: https://www.eversports.de/s/dance-%26-fly-pole-studio\n",
      "Converting to DataFrame...\n",
      "Validating URLs...\n",
      "\n",
      "Processing completed.\n",
      "-------------------------------- \n",
      "\n",
      "Starting URL reconstruction...\n"
     ]
    },
    {
     "name": "stderr",
     "output_type": "stream",
     "text": [
      "Processing URLs:  29%|██▉       | 147/502 [07:00<09:47,  1.66s/it]"
     ]
    },
    {
     "name": "stdout",
     "output_type": "stream",
     "text": [
      "Error during HTTP request: 404 Client Error: Not Found for url: https://www.eversports.de/s/aerial-balance\n",
      "Converting to DataFrame...\n",
      "Validating URLs...\n",
      "\n",
      "Processing completed.\n",
      "-------------------------------- \n",
      "\n",
      "Starting URL reconstruction...\n"
     ]
    },
    {
     "name": "stderr",
     "output_type": "stream",
     "text": [
      "Processing URLs:  29%|██▉       | 148/502 [07:01<07:57,  1.35s/it]"
     ]
    },
    {
     "name": "stdout",
     "output_type": "stream",
     "text": [
      "Error during HTTP request: 404 Client Error: Not Found for url: https://www.eversports.de/s/dance-%26-pole-langenfeld\n",
      "Converting to DataFrame...\n",
      "Validating URLs...\n",
      "\n",
      "Processing completed.\n",
      "-------------------------------- \n",
      "\n",
      "Starting URL reconstruction...\n"
     ]
    },
    {
     "name": "stderr",
     "output_type": "stream",
     "text": [
      "Processing URLs:  30%|██▉       | 149/502 [07:02<06:39,  1.13s/it]"
     ]
    },
    {
     "name": "stdout",
     "output_type": "stream",
     "text": [
      "Error during HTTP request: 404 Client Error: Not Found for url: https://www.eversports.de/s/vertical-kay-poledance-%26-aerialarts-education\n",
      "Converting to DataFrame...\n",
      "Validating URLs...\n",
      "\n",
      "Processing completed.\n",
      "-------------------------------- \n",
      "\n",
      "Starting URL reconstruction...\n"
     ]
    },
    {
     "name": "stderr",
     "output_type": "stream",
     "text": [
      "2024-03-11 18:33:04,812 - INFO - Processing URL 1/2: https://www.eversports.de/s/polea-pole-and-aerial-dance\n"
     ]
    },
    {
     "name": "stdout",
     "output_type": "stream",
     "text": [
      "Converting to DataFrame...\n",
      "Validating URLs...\n"
     ]
    },
    {
     "name": "stderr",
     "output_type": "stream",
     "text": [
      "2024-03-11 18:33:05,689 - INFO - URL https://www.eversports.de/s/polea-pole-and-aerial-dance is valid.\n",
      "2024-03-11 18:33:05,690 - INFO - Processing URL 2/2: https://www.eversports.de/sw/polea-pole-and-aerial-dance\n",
      "2024-03-11 18:33:06,374 - INFO - URL https://www.eversports.de/sw/polea-pole-and-aerial-dance is valid.\n"
     ]
    },
    {
     "name": "stdout",
     "output_type": "stream",
     "text": [
      "Scraping Pole Studio Data from https://www.eversports.de/s/polea-pole-and-aerial-dance...\n",
      "Scraping Workshops Data from https://www.eversports.de/sw/polea-pole-and-aerial-dance...\n",
      "Scraping Workshop Details from https://www.eversports.de/e/workshop/xXl3mKf...\n"
     ]
    },
    {
     "name": "stderr",
     "output_type": "stream",
     "text": [
      "Processing URLs:  30%|██▉       | 150/502 [07:07<13:19,  2.27s/it]"
     ]
    },
    {
     "name": "stdout",
     "output_type": "stream",
     "text": [
      "\n",
      "Processing completed.\n",
      "-------------------------------- \n",
      "\n",
      "2024-03-11 18:33:08 - INFO - Scraping Data from: https://www.eversports.de/s/polea-pole-and-aerial-dance\n",
      "Pole Studio Data: 1 entries\n",
      "2024-03-11 18:33:08 - INFO - Scraping Data from: https://www.eversports.de/s/polea-pole-and-aerial-dance\n",
      "Workshops Data: 1 entries\n",
      "2024-03-11 18:33:08 - INFO - Scraping Data from: https://www.eversports.de/s/polea-pole-and-aerial-dance\n",
      "Workshop Details: 1 entries\n",
      "Starting URL reconstruction...\n"
     ]
    },
    {
     "name": "stderr",
     "output_type": "stream",
     "text": [
      "2024-03-11 18:33:09,337 - INFO - Processing URL 1/2: https://www.eversports.de/s/pole-dance-krefeld\n"
     ]
    },
    {
     "name": "stdout",
     "output_type": "stream",
     "text": [
      "Converting to DataFrame...\n",
      "Validating URLs...\n"
     ]
    },
    {
     "name": "stderr",
     "output_type": "stream",
     "text": [
      "2024-03-11 18:33:10,218 - INFO - URL https://www.eversports.de/s/pole-dance-krefeld is valid.\n",
      "2024-03-11 18:33:10,218 - INFO - Processing URL 2/2: https://www.eversports.de/sw/pole-dance-krefeld\n",
      "2024-03-11 18:33:10,830 - INFO - URL https://www.eversports.de/sw/pole-dance-krefeld is valid.\n"
     ]
    },
    {
     "name": "stdout",
     "output_type": "stream",
     "text": [
      "Scraping Pole Studio Data from https://www.eversports.de/s/pole-dance-krefeld...\n",
      "Scraping Workshops Data from https://www.eversports.de/sw/pole-dance-krefeld...\n",
      "Scraping Workshop Details from https://www.eversports.de/e/workshop/_LQRruK...\n",
      "Scraping Workshop Details from https://www.eversports.de/e/workshop/-vGIMzu...\n"
     ]
    },
    {
     "name": "stderr",
     "output_type": "stream",
     "text": [
      "Processing URLs:  30%|███       | 151/502 [07:12<19:01,  3.25s/it]"
     ]
    },
    {
     "name": "stdout",
     "output_type": "stream",
     "text": [
      "\n",
      "Processing completed.\n",
      "-------------------------------- \n",
      "\n",
      "2024-03-11 18:33:13 - INFO - Scraping Data from: https://www.eversports.de/s/pole-dance-krefeld\n",
      "Pole Studio Data: 1 entries\n",
      "2024-03-11 18:33:13 - INFO - Scraping Data from: https://www.eversports.de/s/pole-dance-krefeld\n",
      "Workshops Data: 2 entries\n",
      "2024-03-11 18:33:13 - INFO - Scraping Data from: https://www.eversports.de/s/pole-dance-krefeld\n",
      "Workshop Details: 2 entries\n",
      "Starting URL reconstruction...\n"
     ]
    },
    {
     "name": "stderr",
     "output_type": "stream",
     "text": [
      "2024-03-11 18:33:15,810 - INFO - Processing URL 1/1: https://www.eversports.de/s/full-moon-studio-ixelles\n"
     ]
    },
    {
     "name": "stdout",
     "output_type": "stream",
     "text": [
      "Converting to DataFrame...\n",
      "Validating URLs...\n"
     ]
    },
    {
     "name": "stderr",
     "output_type": "stream",
     "text": [
      "2024-03-11 18:33:16,679 - INFO - URL https://www.eversports.de/s/full-moon-studio-ixelles is valid.\n"
     ]
    },
    {
     "name": "stdout",
     "output_type": "stream",
     "text": [
      "Scraping Pole Studio Data from https://www.eversports.de/s/full-moon-studio-ixelles...\n"
     ]
    },
    {
     "name": "stderr",
     "output_type": "stream",
     "text": [
      "Processing URLs:  30%|███       | 152/502 [07:15<18:55,  3.25s/it]"
     ]
    },
    {
     "name": "stdout",
     "output_type": "stream",
     "text": [
      "\n",
      "Processing completed.\n",
      "-------------------------------- \n",
      "\n",
      "2024-03-11 18:33:17 - INFO - Scraping Data from: https://www.eversports.be/s/full-moon-studio-ixelles\n",
      "Pole Studio Data: 1 entries\n",
      "Starting URL reconstruction...\n"
     ]
    },
    {
     "name": "stderr",
     "output_type": "stream",
     "text": [
      "Processing URLs:  30%|███       | 153/502 [07:16<14:29,  2.49s/it]"
     ]
    },
    {
     "name": "stdout",
     "output_type": "stream",
     "text": [
      "Error during HTTP request: 404 Client Error: Not Found for url: https://www.eversports.de/s/verticalarts-pole-%26-aerial-fitness\n",
      "Converting to DataFrame...\n",
      "Validating URLs...\n",
      "\n",
      "Processing completed.\n",
      "-------------------------------- \n",
      "\n",
      "Starting URL reconstruction...\n"
     ]
    },
    {
     "name": "stderr",
     "output_type": "stream",
     "text": [
      "Processing URLs:  31%|███       | 154/502 [07:17<11:17,  1.95s/it]"
     ]
    },
    {
     "name": "stdout",
     "output_type": "stream",
     "text": [
      "Error during HTTP request: 404 Client Error: Not Found for url: https://www.eversports.de/s/polegarage-hagen\n",
      "Converting to DataFrame...\n",
      "Validating URLs...\n",
      "\n",
      "Processing completed.\n",
      "-------------------------------- \n",
      "\n",
      "Starting URL reconstruction...\n"
     ]
    },
    {
     "name": "stderr",
     "output_type": "stream",
     "text": [
      "2024-03-11 18:33:19,831 - INFO - Processing URL 1/2: https://www.eversports.de/s/flow-fusion-pole-aerial-dance-studio\n"
     ]
    },
    {
     "name": "stdout",
     "output_type": "stream",
     "text": [
      "Converting to DataFrame...\n",
      "Validating URLs...\n"
     ]
    },
    {
     "name": "stderr",
     "output_type": "stream",
     "text": [
      "2024-03-11 18:33:20,700 - INFO - URL https://www.eversports.de/s/flow-fusion-pole-aerial-dance-studio is valid.\n",
      "2024-03-11 18:33:20,700 - INFO - Processing URL 2/2: https://www.eversports.de/sw/flow-fusion-pole-aerial-dance-studio\n",
      "2024-03-11 18:33:21,395 - INFO - URL https://www.eversports.de/sw/flow-fusion-pole-aerial-dance-studio is valid.\n"
     ]
    },
    {
     "name": "stdout",
     "output_type": "stream",
     "text": [
      "Scraping Pole Studio Data from https://www.eversports.de/s/flow-fusion-pole-aerial-dance-studio...\n",
      "Scraping Workshops Data from https://www.eversports.de/sw/flow-fusion-pole-aerial-dance-studio...\n",
      "Scraping Workshop Details from https://www.eversports.de/e/workshop/WolEQan...\n",
      "Scraping Workshop Details from https://www.eversports.de/e/workshop/8lOcxEO...\n",
      "Scraping Workshop Details from https://www.eversports.de/e/workshop/EeidvQO...\n"
     ]
    },
    {
     "name": "stderr",
     "output_type": "stream",
     "text": [
      "Processing URLs:  31%|███       | 155/502 [07:23<19:31,  3.37s/it]"
     ]
    },
    {
     "name": "stdout",
     "output_type": "stream",
     "text": [
      "\n",
      "Processing completed.\n",
      "-------------------------------- \n",
      "\n",
      "2024-03-11 18:33:25 - INFO - Scraping Data from: https://www.eversports.de/s/flow-fusion-pole-aerial-dance-studio\n",
      "Pole Studio Data: 1 entries\n",
      "2024-03-11 18:33:25 - INFO - Scraping Data from: https://www.eversports.de/s/flow-fusion-pole-aerial-dance-studio\n",
      "Workshops Data: 3 entries\n",
      "2024-03-11 18:33:25 - INFO - Scraping Data from: https://www.eversports.de/s/flow-fusion-pole-aerial-dance-studio\n",
      "Workshop Details: 3 entries\n",
      "Starting URL reconstruction...\n"
     ]
    },
    {
     "name": "stderr",
     "output_type": "stream",
     "text": [
      "2024-03-11 18:33:26,721 - INFO - Processing URL 1/1: https://www.eversports.de/s/full-moon-studio-merode-etterbeek\n"
     ]
    },
    {
     "name": "stdout",
     "output_type": "stream",
     "text": [
      "Converting to DataFrame...\n",
      "Validating URLs...\n"
     ]
    },
    {
     "name": "stderr",
     "output_type": "stream",
     "text": [
      "2024-03-11 18:33:27,637 - INFO - URL https://www.eversports.de/s/full-moon-studio-merode-etterbeek is valid.\n"
     ]
    },
    {
     "name": "stdout",
     "output_type": "stream",
     "text": [
      "Scraping Pole Studio Data from https://www.eversports.de/s/full-moon-studio-merode-etterbeek...\n"
     ]
    },
    {
     "name": "stderr",
     "output_type": "stream",
     "text": [
      "Processing URLs:  31%|███       | 156/502 [07:26<18:35,  3.22s/it]"
     ]
    },
    {
     "name": "stdout",
     "output_type": "stream",
     "text": [
      "\n",
      "Processing completed.\n",
      "-------------------------------- \n",
      "\n",
      "2024-03-11 18:33:28 - INFO - Scraping Data from: https://www.eversports.be/s/full-moon-studio-merode-etterbeek\n",
      "Pole Studio Data: 1 entries\n",
      "Starting URL reconstruction...\n"
     ]
    },
    {
     "name": "stderr",
     "output_type": "stream",
     "text": [
      "2024-03-11 18:33:29,071 - INFO - Processing URL 1/1: https://www.eversports.de/s/pole-dance-beauties\n"
     ]
    },
    {
     "name": "stdout",
     "output_type": "stream",
     "text": [
      "Converting to DataFrame...\n",
      "Validating URLs...\n"
     ]
    },
    {
     "name": "stderr",
     "output_type": "stream",
     "text": [
      "2024-03-11 18:33:30,032 - INFO - URL https://www.eversports.de/s/pole-dance-beauties is valid.\n"
     ]
    },
    {
     "name": "stdout",
     "output_type": "stream",
     "text": [
      "Scraping Pole Studio Data from https://www.eversports.de/s/pole-dance-beauties...\n"
     ]
    },
    {
     "name": "stderr",
     "output_type": "stream",
     "text": [
      "Processing URLs:  31%|███▏      | 157/502 [07:30<19:38,  3.42s/it]"
     ]
    },
    {
     "name": "stdout",
     "output_type": "stream",
     "text": [
      "\n",
      "Processing completed.\n",
      "-------------------------------- \n",
      "\n",
      "2024-03-11 18:33:32 - INFO - Scraping Data from: https://www.eversports.de/s/pole-dance-beauties\n",
      "Pole Studio Data: 1 entries\n",
      "Starting URL reconstruction...\n"
     ]
    },
    {
     "name": "stderr",
     "output_type": "stream",
     "text": [
      "2024-03-11 18:33:33,103 - INFO - Processing URL 1/1: https://www.eversports.de/s/the-basement-pole-dance-and-movement\n"
     ]
    },
    {
     "name": "stdout",
     "output_type": "stream",
     "text": [
      "Converting to DataFrame...\n",
      "Validating URLs...\n"
     ]
    },
    {
     "name": "stderr",
     "output_type": "stream",
     "text": [
      "2024-03-11 18:33:33,955 - INFO - URL https://www.eversports.de/s/the-basement-pole-dance-and-movement is valid.\n"
     ]
    },
    {
     "name": "stdout",
     "output_type": "stream",
     "text": [
      "Scraping Pole Studio Data from https://www.eversports.de/s/the-basement-pole-dance-and-movement...\n"
     ]
    },
    {
     "name": "stderr",
     "output_type": "stream",
     "text": [
      "Processing URLs:  31%|███▏      | 158/502 [07:32<17:33,  3.06s/it]"
     ]
    },
    {
     "name": "stdout",
     "output_type": "stream",
     "text": [
      "\n",
      "Processing completed.\n",
      "-------------------------------- \n",
      "\n",
      "2024-03-11 18:33:34 - INFO - Scraping Data from: https://www.eversports.de/s/the-basement-pole-dance-and-movement\n",
      "Pole Studio Data: 1 entries\n",
      "Starting URL reconstruction...\n"
     ]
    },
    {
     "name": "stderr",
     "output_type": "stream",
     "text": [
      "2024-03-11 18:33:36,002 - INFO - Processing URL 1/1: https://www.eversports.de/s/aerial-studio\n"
     ]
    },
    {
     "name": "stdout",
     "output_type": "stream",
     "text": [
      "Converting to DataFrame...\n",
      "Validating URLs...\n"
     ]
    },
    {
     "name": "stderr",
     "output_type": "stream",
     "text": [
      "2024-03-11 18:33:37,017 - INFO - URL https://www.eversports.de/s/aerial-studio is valid.\n"
     ]
    },
    {
     "name": "stdout",
     "output_type": "stream",
     "text": [
      "Scraping Pole Studio Data from https://www.eversports.de/s/aerial-studio...\n"
     ]
    },
    {
     "name": "stderr",
     "output_type": "stream",
     "text": [
      "Processing URLs:  32%|███▏      | 159/502 [07:35<17:33,  3.07s/it]"
     ]
    },
    {
     "name": "stdout",
     "output_type": "stream",
     "text": [
      "\n",
      "Processing completed.\n",
      "-------------------------------- \n",
      "\n",
      "2024-03-11 18:33:37 - INFO - Scraping Data from: https://www.eversports.nl/s/aerial-studio\n",
      "Pole Studio Data: 1 entries\n",
      "Starting URL reconstruction...\n"
     ]
    },
    {
     "name": "stderr",
     "output_type": "stream",
     "text": [
      "2024-03-11 18:33:38,182 - INFO - Processing URL 1/1: https://www.eversports.de/s/infinity-polesports-eggenfelden\n"
     ]
    },
    {
     "name": "stdout",
     "output_type": "stream",
     "text": [
      "Converting to DataFrame...\n",
      "Validating URLs...\n"
     ]
    },
    {
     "name": "stderr",
     "output_type": "stream",
     "text": [
      "2024-03-11 18:33:39,380 - INFO - URL https://www.eversports.de/s/infinity-polesports-eggenfelden is valid.\n"
     ]
    },
    {
     "name": "stdout",
     "output_type": "stream",
     "text": [
      "Scraping Pole Studio Data from https://www.eversports.de/s/infinity-polesports-eggenfelden...\n"
     ]
    },
    {
     "name": "stderr",
     "output_type": "stream",
     "text": [
      "Processing URLs:  32%|███▏      | 160/502 [07:38<16:10,  2.84s/it]"
     ]
    },
    {
     "name": "stdout",
     "output_type": "stream",
     "text": [
      "\n",
      "Processing completed.\n",
      "-------------------------------- \n",
      "\n",
      "2024-03-11 18:33:39 - INFO - Scraping Data from: https://www.eversports.de/s/infinity-polesports-eggenfelden\n",
      "Pole Studio Data: 1 entries\n",
      "Starting URL reconstruction...\n"
     ]
    },
    {
     "name": "stderr",
     "output_type": "stream",
     "text": [
      "Processing URLs:  32%|███▏      | 161/502 [07:41<17:03,  3.00s/it]"
     ]
    },
    {
     "name": "stdout",
     "output_type": "stream",
     "text": [
      "Error during HTTP request: Exceeded 30 redirects.\n",
      "Converting to DataFrame...\n",
      "Validating URLs...\n",
      "\n",
      "Processing completed.\n",
      "-------------------------------- \n",
      "\n",
      "Starting URL reconstruction...\n"
     ]
    },
    {
     "name": "stderr",
     "output_type": "stream",
     "text": [
      "Processing URLs:  32%|███▏      | 162/502 [07:42<13:02,  2.30s/it]"
     ]
    },
    {
     "name": "stdout",
     "output_type": "stream",
     "text": [
      "Error during HTTP request: 404 Client Error: Not Found for url: https://www.eversports.de/s/polemotions\n",
      "Converting to DataFrame...\n",
      "Validating URLs...\n",
      "\n",
      "Processing completed.\n",
      "-------------------------------- \n",
      "\n",
      "Starting URL reconstruction...\n"
     ]
    },
    {
     "name": "stderr",
     "output_type": "stream",
     "text": [
      "Processing URLs:  32%|███▏      | 163/502 [07:43<10:39,  1.89s/it]"
     ]
    },
    {
     "name": "stdout",
     "output_type": "stream",
     "text": [
      "Error during HTTP request: 404 Client Error: Not Found for url: https://www.eversports.de/s/zero-gravity-pole-\n",
      "Converting to DataFrame...\n",
      "Validating URLs...\n",
      "\n",
      "Processing completed.\n",
      "-------------------------------- \n",
      "\n",
      "Starting URL reconstruction...\n"
     ]
    },
    {
     "name": "stderr",
     "output_type": "stream",
     "text": [
      "2024-03-11 18:33:45,565 - INFO - Processing URL 1/1: https://www.eversports.de/s/elements-and-polebuddies\n"
     ]
    },
    {
     "name": "stdout",
     "output_type": "stream",
     "text": [
      "Converting to DataFrame...\n",
      "Validating URLs...\n"
     ]
    },
    {
     "name": "stderr",
     "output_type": "stream",
     "text": [
      "2024-03-11 18:33:46,380 - INFO - URL https://www.eversports.de/s/elements-and-polebuddies is valid.\n"
     ]
    },
    {
     "name": "stdout",
     "output_type": "stream",
     "text": [
      "Scraping Pole Studio Data from https://www.eversports.de/s/elements-and-polebuddies...\n"
     ]
    },
    {
     "name": "stderr",
     "output_type": "stream",
     "text": [
      "Processing URLs:  33%|███▎      | 164/502 [07:45<11:27,  2.03s/it]"
     ]
    },
    {
     "name": "stdout",
     "output_type": "stream",
     "text": [
      "\n",
      "Processing completed.\n",
      "-------------------------------- \n",
      "\n",
      "2024-03-11 18:33:47 - INFO - Scraping Data from: https://www.eversports.de/s/elements-and-polebuddies\n",
      "Pole Studio Data: 1 entries\n",
      "Starting URL reconstruction...\n"
     ]
    },
    {
     "name": "stderr",
     "output_type": "stream",
     "text": [
      "Processing URLs:  33%|███▎      | 165/502 [07:46<09:10,  1.63s/it]"
     ]
    },
    {
     "name": "stdout",
     "output_type": "stream",
     "text": [
      "Error during HTTP request: 404 Client Error: Not Found for url: https://www.eversports.de/s/lift-off-poledance-academy\n",
      "Converting to DataFrame...\n",
      "Validating URLs...\n",
      "\n",
      "Processing completed.\n",
      "-------------------------------- \n",
      "\n",
      "Starting URL reconstruction...\n"
     ]
    },
    {
     "name": "stderr",
     "output_type": "stream",
     "text": [
      "2024-03-11 18:33:49,454 - INFO - Processing URL 1/1: https://www.eversports.de/s/loft1-basel-city\n"
     ]
    },
    {
     "name": "stdout",
     "output_type": "stream",
     "text": [
      "Converting to DataFrame...\n",
      "Validating URLs...\n"
     ]
    },
    {
     "name": "stderr",
     "output_type": "stream",
     "text": [
      "2024-03-11 18:33:50,272 - INFO - URL https://www.eversports.de/s/loft1-basel-city is valid.\n"
     ]
    },
    {
     "name": "stdout",
     "output_type": "stream",
     "text": [
      "Scraping Pole Studio Data from https://www.eversports.de/s/loft1-basel-city...\n"
     ]
    },
    {
     "name": "stderr",
     "output_type": "stream",
     "text": [
      "Processing URLs:  33%|███▎      | 166/502 [07:49<11:21,  2.03s/it]"
     ]
    },
    {
     "name": "stdout",
     "output_type": "stream",
     "text": [
      "\n",
      "Processing completed.\n",
      "-------------------------------- \n",
      "\n",
      "2024-03-11 18:33:50 - INFO - Scraping Data from: https://www.eversports.ch/s/loft1-basel-city\n",
      "Pole Studio Data: 1 entries\n",
      "Starting URL reconstruction...\n"
     ]
    },
    {
     "name": "stderr",
     "output_type": "stream",
     "text": [
      "2024-03-11 18:33:51,530 - INFO - Processing URL 1/1: https://www.eversports.de/s/dance-and-pole-leverkusen\n"
     ]
    },
    {
     "name": "stdout",
     "output_type": "stream",
     "text": [
      "Converting to DataFrame...\n",
      "Validating URLs...\n"
     ]
    },
    {
     "name": "stderr",
     "output_type": "stream",
     "text": [
      "2024-03-11 18:33:52,399 - INFO - URL https://www.eversports.de/s/dance-and-pole-leverkusen is valid.\n"
     ]
    },
    {
     "name": "stdout",
     "output_type": "stream",
     "text": [
      "Scraping Pole Studio Data from https://www.eversports.de/s/dance-and-pole-leverkusen...\n"
     ]
    },
    {
     "name": "stderr",
     "output_type": "stream",
     "text": [
      "Processing URLs:  33%|███▎      | 167/502 [07:51<11:27,  2.05s/it]"
     ]
    },
    {
     "name": "stdout",
     "output_type": "stream",
     "text": [
      "\n",
      "Processing completed.\n",
      "-------------------------------- \n",
      "\n",
      "2024-03-11 18:33:52 - INFO - Scraping Data from: https://www.eversports.de/s/dance-and-pole-leverkusen\n",
      "Pole Studio Data: 1 entries\n",
      "Starting URL reconstruction...\n"
     ]
    },
    {
     "name": "stderr",
     "output_type": "stream",
     "text": [
      "Processing URLs:  33%|███▎      | 168/502 [07:54<13:38,  2.45s/it]"
     ]
    },
    {
     "name": "stdout",
     "output_type": "stream",
     "text": [
      "Error during HTTP request: Exceeded 30 redirects.\n",
      "Converting to DataFrame...\n",
      "Validating URLs...\n",
      "\n",
      "Processing completed.\n",
      "-------------------------------- \n",
      "\n",
      "Starting URL reconstruction...\n"
     ]
    },
    {
     "name": "stderr",
     "output_type": "stream",
     "text": [
      "Processing URLs:  34%|███▎      | 169/502 [07:55<10:44,  1.94s/it]"
     ]
    },
    {
     "name": "stdout",
     "output_type": "stream",
     "text": [
      "Error during HTTP request: 404 Client Error: Not Found for url: https://www.eversports.de/s/pole-sisters\n",
      "Converting to DataFrame...\n",
      "Validating URLs...\n",
      "\n",
      "Processing completed.\n",
      "-------------------------------- \n",
      "\n",
      "Starting URL reconstruction...\n"
     ]
    },
    {
     "name": "stderr",
     "output_type": "stream",
     "text": [
      "Processing URLs:  34%|███▍      | 170/502 [07:56<09:11,  1.66s/it]"
     ]
    },
    {
     "name": "stdout",
     "output_type": "stream",
     "text": [
      "Error during HTTP request: 404 Client Error: Not Found for url: https://www.eversports.de/s/studio-yh-pole-(and)-sports-berlin\n",
      "Converting to DataFrame...\n",
      "Validating URLs...\n",
      "\n",
      "Processing completed.\n",
      "-------------------------------- \n",
      "\n",
      "Starting URL reconstruction...\n"
     ]
    },
    {
     "name": "stderr",
     "output_type": "stream",
     "text": [
      "Processing URLs:  34%|███▍      | 171/502 [07:57<08:41,  1.58s/it]"
     ]
    },
    {
     "name": "stdout",
     "output_type": "stream",
     "text": [
      "Error during HTTP request: 404 Client Error: Not Found for url: https://www.eversports.de/s/luftfabrik-dresden\n",
      "Converting to DataFrame...\n",
      "Validating URLs...\n",
      "\n",
      "Processing completed.\n",
      "-------------------------------- \n",
      "\n",
      "Starting URL reconstruction...\n"
     ]
    },
    {
     "name": "stderr",
     "output_type": "stream",
     "text": [
      "Processing URLs:  34%|███▍      | 172/502 [08:00<10:59,  2.00s/it]"
     ]
    },
    {
     "name": "stdout",
     "output_type": "stream",
     "text": [
      "Error during HTTP request: 404 Client Error: Not Found for url: https://www.eversports.de/s/studio-mohnblume\n",
      "Converting to DataFrame...\n",
      "Validating URLs...\n",
      "\n",
      "Processing completed.\n",
      "-------------------------------- \n",
      "\n",
      "Starting URL reconstruction...\n"
     ]
    },
    {
     "name": "stderr",
     "output_type": "stream",
     "text": [
      "2024-03-11 18:34:03,706 - INFO - Processing URL 1/1: https://www.eversports.de/s/polesports-education\n"
     ]
    },
    {
     "name": "stdout",
     "output_type": "stream",
     "text": [
      "Converting to DataFrame...\n",
      "Validating URLs...\n"
     ]
    },
    {
     "name": "stderr",
     "output_type": "stream",
     "text": [
      "2024-03-11 18:34:04,435 - INFO - URL https://www.eversports.de/s/polesports-education is valid.\n"
     ]
    },
    {
     "name": "stdout",
     "output_type": "stream",
     "text": [
      "Scraping Pole Studio Data from https://www.eversports.de/s/polesports-education...\n"
     ]
    },
    {
     "name": "stderr",
     "output_type": "stream",
     "text": [
      "Processing URLs:  34%|███▍      | 173/502 [08:03<11:48,  2.15s/it]"
     ]
    },
    {
     "name": "stdout",
     "output_type": "stream",
     "text": [
      "\n",
      "Processing completed.\n",
      "-------------------------------- \n",
      "\n",
      "2024-03-11 18:34:04 - INFO - Scraping Data from: https://www.eversports.ch/s/polesports-education\n",
      "Pole Studio Data: 1 entries\n",
      "Starting URL reconstruction...\n"
     ]
    },
    {
     "name": "stderr",
     "output_type": "stream",
     "text": [
      "Processing URLs:  35%|███▍      | 174/502 [08:04<09:17,  1.70s/it]"
     ]
    },
    {
     "name": "stdout",
     "output_type": "stream",
     "text": [
      "Error during HTTP request: 404 Client Error: Not Found for url: https://www.eversports.de/s/aerial-amazons\n",
      "Converting to DataFrame...\n",
      "Validating URLs...\n",
      "\n",
      "Processing completed.\n",
      "-------------------------------- \n",
      "\n",
      "Starting URL reconstruction...\n"
     ]
    },
    {
     "name": "stderr",
     "output_type": "stream",
     "text": [
      "Processing URLs:  35%|███▍      | 175/502 [08:04<07:30,  1.38s/it]"
     ]
    },
    {
     "name": "stdout",
     "output_type": "stream",
     "text": [
      "Error during HTTP request: 404 Client Error: Not Found for url: https://www.eversports.de/s/lift-off---poledance-academy-frankfurt\n",
      "Converting to DataFrame...\n",
      "Validating URLs...\n",
      "\n",
      "Processing completed.\n",
      "-------------------------------- \n",
      "\n",
      "Starting URL reconstruction...\n"
     ]
    },
    {
     "name": "stderr",
     "output_type": "stream",
     "text": [
      "Processing URLs:  35%|███▌      | 176/502 [08:05<06:18,  1.16s/it]"
     ]
    },
    {
     "name": "stdout",
     "output_type": "stream",
     "text": [
      "Error during HTTP request: 404 Client Error: Not Found for url: https://www.eversports.de/s/pole-heroes-pole-%26-aerial-dance-studio\n",
      "Converting to DataFrame...\n",
      "Validating URLs...\n",
      "\n",
      "Processing completed.\n",
      "-------------------------------- \n",
      "\n",
      "Starting URL reconstruction...\n"
     ]
    },
    {
     "name": "stderr",
     "output_type": "stream",
     "text": [
      "2024-03-11 18:34:07,728 - INFO - Processing URL 1/2: https://www.eversports.de/s/pole-and-move-heidelberg\n"
     ]
    },
    {
     "name": "stdout",
     "output_type": "stream",
     "text": [
      "Converting to DataFrame...\n",
      "Validating URLs...\n"
     ]
    },
    {
     "name": "stderr",
     "output_type": "stream",
     "text": [
      "2024-03-11 18:34:08,556 - INFO - URL https://www.eversports.de/s/pole-and-move-heidelberg is valid.\n",
      "2024-03-11 18:34:08,557 - INFO - Processing URL 2/2: https://www.eversports.de/sw/pole-and-move-heidelberg\n",
      "2024-03-11 18:34:09,418 - INFO - URL https://www.eversports.de/sw/pole-and-move-heidelberg is valid.\n"
     ]
    },
    {
     "name": "stdout",
     "output_type": "stream",
     "text": [
      "Scraping Pole Studio Data from https://www.eversports.de/s/pole-and-move-heidelberg...\n",
      "Scraping Workshops Data from https://www.eversports.de/sw/pole-and-move-heidelberg...\n",
      "Scraping Workshop Details from https://www.eversports.de/e/workshop/xpUUbAx...\n",
      "Scraping Workshop Details from https://www.eversports.de/e/workshop/yXAMy8l...\n",
      "Scraping Workshop Details from https://www.eversports.de/e/workshop/ioRS-mE...\n",
      "Scraping Workshop Details from https://www.eversports.de/e/workshop/mI91ydw...\n",
      "Scraping Workshop Details from https://www.eversports.de/e/workshop/Ngcpd4l...\n",
      "Scraping Workshop Details from https://www.eversports.de/e/workshop/ij8VZCH...\n",
      "Scraping Workshop Details from https://www.eversports.de/e/workshop/Met7fdZ...\n"
     ]
    },
    {
     "name": "stderr",
     "output_type": "stream",
     "text": [
      "Processing URLs:  35%|███▌      | 177/502 [08:16<23:04,  4.26s/it]"
     ]
    },
    {
     "name": "stdout",
     "output_type": "stream",
     "text": [
      "\n",
      "Processing completed.\n",
      "-------------------------------- \n",
      "\n",
      "2024-03-11 18:34:18 - INFO - Scraping Data from: https://www.eversports.de/s/pole-and-move-heidelberg\n",
      "Pole Studio Data: 1 entries\n",
      "2024-03-11 18:34:18 - INFO - Scraping Data from: https://www.eversports.de/s/pole-and-move-heidelberg\n",
      "Workshops Data: 7 entries\n",
      "2024-03-11 18:34:18 - INFO - Scraping Data from: https://www.eversports.de/s/pole-and-move-heidelberg\n",
      "Workshop Details: 7 entries\n",
      "Starting URL reconstruction...\n"
     ]
    },
    {
     "name": "stderr",
     "output_type": "stream",
     "text": [
      "2024-03-11 18:34:29,900 - INFO - Processing URL 1/1: https://www.eversports.de/s/firstsports-polefitness\n"
     ]
    },
    {
     "name": "stdout",
     "output_type": "stream",
     "text": [
      "Converting to DataFrame...\n",
      "Validating URLs...\n"
     ]
    },
    {
     "name": "stderr",
     "output_type": "stream",
     "text": [
      "2024-03-11 18:34:30,668 - INFO - URL https://www.eversports.de/s/firstsports-polefitness is valid.\n"
     ]
    },
    {
     "name": "stdout",
     "output_type": "stream",
     "text": [
      "Scraping Pole Studio Data from https://www.eversports.de/s/firstsports-polefitness...\n"
     ]
    },
    {
     "name": "stderr",
     "output_type": "stream",
     "text": [
      "Processing URLs:  35%|███▌      | 178/502 [08:29<37:11,  6.89s/it]"
     ]
    },
    {
     "name": "stdout",
     "output_type": "stream",
     "text": [
      "\n",
      "Processing completed.\n",
      "-------------------------------- \n",
      "\n",
      "2024-03-11 18:34:31 - INFO - Scraping Data from: https://www.eversports.de/s/firstsports-polefitness\n",
      "Pole Studio Data: 1 entries\n",
      "Starting URL reconstruction...\n"
     ]
    },
    {
     "name": "stderr",
     "output_type": "stream",
     "text": [
      "2024-03-11 18:34:32,026 - INFO - Processing URL 1/1: https://www.eversports.de/s/poledance-4-you\n"
     ]
    },
    {
     "name": "stdout",
     "output_type": "stream",
     "text": [
      "Converting to DataFrame...\n",
      "Validating URLs...\n"
     ]
    },
    {
     "name": "stderr",
     "output_type": "stream",
     "text": [
      "2024-03-11 18:34:32,696 - INFO - URL https://www.eversports.de/s/poledance-4-you is valid.\n"
     ]
    },
    {
     "name": "stdout",
     "output_type": "stream",
     "text": [
      "Scraping Pole Studio Data from https://www.eversports.de/s/poledance-4-you...\n",
      "\n",
      "Processing completed.\n",
      "-------------------------------- \n",
      "\n"
     ]
    },
    {
     "name": "stderr",
     "output_type": "stream",
     "text": [
      "Processing URLs:  36%|███▌      | 179/502 [08:31<28:42,  5.33s/it]"
     ]
    },
    {
     "name": "stdout",
     "output_type": "stream",
     "text": [
      "2024-03-11 18:34:32 - INFO - Scraping Data from: https://www.eversports.de/s/poledance-4-you\n",
      "Pole Studio Data: 1 entries\n",
      "Starting URL reconstruction...\n"
     ]
    },
    {
     "name": "stderr",
     "output_type": "stream",
     "text": [
      "Processing URLs:  36%|███▌      | 180/502 [08:32<21:04,  3.93s/it]"
     ]
    },
    {
     "name": "stdout",
     "output_type": "stream",
     "text": [
      "Error during HTTP request: 404 Client Error: Not Found for url: https://www.eversports.de/s/incredipole---pole-%26-fitness-by-carolin\n",
      "Converting to DataFrame...\n",
      "Validating URLs...\n",
      "\n",
      "Processing completed.\n",
      "-------------------------------- \n",
      "\n",
      "Starting URL reconstruction...\n"
     ]
    },
    {
     "name": "stderr",
     "output_type": "stream",
     "text": [
      "Processing URLs:  36%|███▌      | 181/502 [08:32<15:48,  2.95s/it]"
     ]
    },
    {
     "name": "stdout",
     "output_type": "stream",
     "text": [
      "Error during HTTP request: 404 Client Error: Not Found for url: https://www.eversports.de/s/metropole-dance-now1\n",
      "Converting to DataFrame...\n",
      "Validating URLs...\n",
      "\n",
      "Processing completed.\n",
      "-------------------------------- \n",
      "\n",
      "Starting URL reconstruction...\n"
     ]
    },
    {
     "name": "stderr",
     "output_type": "stream",
     "text": [
      "2024-03-11 18:34:35,485 - INFO - Processing URL 1/1: https://www.eversports.de/s/calipso-studio\n"
     ]
    },
    {
     "name": "stdout",
     "output_type": "stream",
     "text": [
      "Converting to DataFrame...\n",
      "Validating URLs...\n"
     ]
    },
    {
     "name": "stderr",
     "output_type": "stream",
     "text": [
      "2024-03-11 18:34:36,460 - INFO - URL https://www.eversports.de/s/calipso-studio is valid.\n"
     ]
    },
    {
     "name": "stdout",
     "output_type": "stream",
     "text": [
      "Scraping Pole Studio Data from https://www.eversports.de/s/calipso-studio...\n"
     ]
    },
    {
     "name": "stderr",
     "output_type": "stream",
     "text": [
      "Processing URLs:  36%|███▋      | 182/502 [08:35<15:35,  2.92s/it]"
     ]
    },
    {
     "name": "stdout",
     "output_type": "stream",
     "text": [
      "\n",
      "Processing completed.\n",
      "-------------------------------- \n",
      "\n",
      "2024-03-11 18:34:37 - INFO - Scraping Data from: https://www.eversports.de/s/calipso-studio\n",
      "Pole Studio Data: 1 entries\n",
      "Starting URL reconstruction...\n"
     ]
    },
    {
     "name": "stderr",
     "output_type": "stream",
     "text": [
      "Processing URLs:  36%|███▋      | 183/502 [08:38<15:33,  2.93s/it]"
     ]
    },
    {
     "name": "stdout",
     "output_type": "stream",
     "text": [
      "Error during HTTP request: Exceeded 30 redirects.\n",
      "Converting to DataFrame...\n",
      "Validating URLs...\n",
      "\n",
      "Processing completed.\n",
      "-------------------------------- \n",
      "\n",
      "Starting URL reconstruction...\n"
     ]
    },
    {
     "name": "stderr",
     "output_type": "stream",
     "text": [
      "Processing URLs:  37%|███▋      | 184/502 [08:39<11:43,  2.21s/it]"
     ]
    },
    {
     "name": "stdout",
     "output_type": "stream",
     "text": [
      "Error during HTTP request: 404 Client Error: Not Found for url: https://www.eversports.de/s/annaconda-pole-&-fitness\n",
      "Converting to DataFrame...\n",
      "Validating URLs...\n",
      "\n",
      "Processing completed.\n",
      "-------------------------------- \n",
      "\n",
      "Starting URL reconstruction...\n"
     ]
    },
    {
     "name": "stderr",
     "output_type": "stream",
     "text": [
      "Processing URLs:  37%|███▋      | 185/502 [08:39<09:14,  1.75s/it]"
     ]
    },
    {
     "name": "stdout",
     "output_type": "stream",
     "text": [
      "Error during HTTP request: 404 Client Error: Not Found for url: https://www.eversports.de/s/pole-emotion-bremerhaven\n",
      "Converting to DataFrame...\n",
      "Validating URLs...\n",
      "\n",
      "Processing completed.\n",
      "-------------------------------- \n",
      "\n",
      "Starting URL reconstruction...\n"
     ]
    },
    {
     "name": "stderr",
     "output_type": "stream",
     "text": [
      "2024-03-11 18:34:42,860 - INFO - Processing URL 1/1: https://www.eversports.de/s/dragon-pole-dance\n"
     ]
    },
    {
     "name": "stdout",
     "output_type": "stream",
     "text": [
      "Converting to DataFrame...\n",
      "Validating URLs...\n"
     ]
    },
    {
     "name": "stderr",
     "output_type": "stream",
     "text": [
      "2024-03-11 18:34:43,718 - INFO - URL https://www.eversports.de/s/dragon-pole-dance is valid.\n"
     ]
    },
    {
     "name": "stdout",
     "output_type": "stream",
     "text": [
      "Scraping Pole Studio Data from https://www.eversports.de/s/dragon-pole-dance...\n"
     ]
    },
    {
     "name": "stderr",
     "output_type": "stream",
     "text": [
      "Processing URLs:  37%|███▋      | 186/502 [08:42<10:51,  2.06s/it]"
     ]
    },
    {
     "name": "stdout",
     "output_type": "stream",
     "text": [
      "\n",
      "Processing completed.\n",
      "-------------------------------- \n",
      "\n",
      "2024-03-11 18:34:44 - INFO - Scraping Data from: https://www.eversports.nl/s/dragon-pole-dance\n",
      "Pole Studio Data: 1 entries\n",
      "Starting URL reconstruction...\n"
     ]
    },
    {
     "name": "stderr",
     "output_type": "stream",
     "text": [
      "Processing URLs:  37%|███▋      | 187/502 [08:43<08:40,  1.65s/it]"
     ]
    },
    {
     "name": "stdout",
     "output_type": "stream",
     "text": [
      "Error during HTTP request: 404 Client Error: Not Found for url: https://www.eversports.de/s/monopole-dance\n",
      "Converting to DataFrame...\n",
      "Validating URLs...\n",
      "\n",
      "Processing completed.\n",
      "-------------------------------- \n",
      "\n",
      "Starting URL reconstruction...\n"
     ]
    },
    {
     "name": "stderr",
     "output_type": "stream",
     "text": [
      "Processing URLs:  37%|███▋      | 188/502 [08:44<07:07,  1.36s/it]"
     ]
    },
    {
     "name": "stdout",
     "output_type": "stream",
     "text": [
      "Error during HTTP request: 404 Client Error: Not Found for url: https://www.eversports.de/s/unique-pole-art\n",
      "Converting to DataFrame...\n",
      "Validating URLs...\n",
      "\n",
      "Processing completed.\n",
      "-------------------------------- \n",
      "\n",
      "Starting URL reconstruction...\n"
     ]
    },
    {
     "name": "stderr",
     "output_type": "stream",
     "text": [
      "Processing URLs:  38%|███▊      | 189/502 [08:44<06:08,  1.18s/it]"
     ]
    },
    {
     "name": "stdout",
     "output_type": "stream",
     "text": [
      "Error during HTTP request: 404 Client Error: Not Found for url: https://www.eversports.de/s/slow-motion\n",
      "Converting to DataFrame...\n",
      "Validating URLs...\n",
      "\n",
      "Processing completed.\n",
      "-------------------------------- \n",
      "\n",
      "Starting URL reconstruction...\n"
     ]
    },
    {
     "name": "stderr",
     "output_type": "stream",
     "text": [
      "2024-03-11 18:34:48,364 - INFO - Processing URL 1/1: https://www.eversports.de/s/pole-flow-berlin\n"
     ]
    },
    {
     "name": "stdout",
     "output_type": "stream",
     "text": [
      "Converting to DataFrame...\n",
      "Validating URLs...\n"
     ]
    },
    {
     "name": "stderr",
     "output_type": "stream",
     "text": [
      "2024-03-11 18:34:50,054 - INFO - URL https://www.eversports.de/s/pole-flow-berlin is valid.\n"
     ]
    },
    {
     "name": "stdout",
     "output_type": "stream",
     "text": [
      "Scraping Pole Studio Data from https://www.eversports.de/s/pole-flow-berlin...\n"
     ]
    },
    {
     "name": "stderr",
     "output_type": "stream",
     "text": [
      "Processing URLs:  38%|███▊      | 190/502 [08:49<10:58,  2.11s/it]"
     ]
    },
    {
     "name": "stdout",
     "output_type": "stream",
     "text": [
      "\n",
      "Processing completed.\n",
      "-------------------------------- \n",
      "\n",
      "2024-03-11 18:34:50 - INFO - Scraping Data from: https://www.eversports.de/s/pole-flow-berlin\n",
      "Pole Studio Data: 1 entries\n",
      "Starting URL reconstruction...\n"
     ]
    },
    {
     "name": "stderr",
     "output_type": "stream",
     "text": [
      "Processing URLs:  38%|███▊      | 191/502 [08:49<08:41,  1.68s/it]"
     ]
    },
    {
     "name": "stdout",
     "output_type": "stream",
     "text": [
      "Error during HTTP request: 404 Client Error: Not Found for url: https://www.eversports.de/s/pole.physio-eppelheim\n",
      "Converting to DataFrame...\n",
      "Validating URLs...\n",
      "\n",
      "Processing completed.\n",
      "-------------------------------- \n",
      "\n",
      "Starting URL reconstruction...\n"
     ]
    },
    {
     "name": "stderr",
     "output_type": "stream",
     "text": [
      "Processing URLs:  38%|███▊      | 192/502 [08:50<07:20,  1.42s/it]"
     ]
    },
    {
     "name": "stdout",
     "output_type": "stream",
     "text": [
      "Error during HTTP request: 404 Client Error: Not Found for url: https://www.eversports.de/s/moving-art-studios\n",
      "Converting to DataFrame...\n",
      "Validating URLs...\n",
      "\n",
      "Processing completed.\n",
      "-------------------------------- \n",
      "\n",
      "Starting URL reconstruction...\n"
     ]
    },
    {
     "name": "stderr",
     "output_type": "stream",
     "text": [
      "Processing URLs:  38%|███▊      | 193/502 [08:51<06:10,  1.20s/it]"
     ]
    },
    {
     "name": "stdout",
     "output_type": "stream",
     "text": [
      "Error during HTTP request: 404 Client Error: Not Found for url: https://www.eversports.de/s/polerinas-art-pole-%26aerial-fitness\n",
      "Converting to DataFrame...\n",
      "Validating URLs...\n",
      "\n",
      "Processing completed.\n",
      "-------------------------------- \n",
      "\n",
      "Starting URL reconstruction...\n"
     ]
    },
    {
     "name": "stderr",
     "output_type": "stream",
     "text": [
      "2024-03-11 18:34:55,639 - INFO - Processing URL 1/1: https://www.eversports.de/s/polefly-academy\n"
     ]
    },
    {
     "name": "stdout",
     "output_type": "stream",
     "text": [
      "Converting to DataFrame...\n",
      "Validating URLs...\n"
     ]
    },
    {
     "name": "stderr",
     "output_type": "stream",
     "text": [
      "2024-03-11 18:34:56,968 - INFO - URL https://www.eversports.de/s/polefly-academy is valid.\n"
     ]
    },
    {
     "name": "stdout",
     "output_type": "stream",
     "text": [
      "Scraping Pole Studio Data from https://www.eversports.de/s/polefly-academy...\n"
     ]
    },
    {
     "name": "stderr",
     "output_type": "stream",
     "text": [
      "Processing URLs:  39%|███▊      | 194/502 [08:55<11:31,  2.25s/it]"
     ]
    },
    {
     "name": "stdout",
     "output_type": "stream",
     "text": [
      "\n",
      "Processing completed.\n",
      "-------------------------------- \n",
      "\n",
      "2024-03-11 18:34:57 - INFO - Scraping Data from: https://www.eversports.de/s/polefly-academy\n",
      "Pole Studio Data: 1 entries\n",
      "Starting URL reconstruction...\n"
     ]
    },
    {
     "name": "stderr",
     "output_type": "stream",
     "text": [
      "2024-03-11 18:34:58,595 - INFO - Processing URL 1/1: https://www.eversports.de/s/britt-bloem-pt\n"
     ]
    },
    {
     "name": "stdout",
     "output_type": "stream",
     "text": [
      "Converting to DataFrame...\n",
      "Validating URLs...\n"
     ]
    },
    {
     "name": "stderr",
     "output_type": "stream",
     "text": [
      "2024-03-11 18:34:59,550 - INFO - URL https://www.eversports.de/s/britt-bloem-pt is valid.\n"
     ]
    },
    {
     "name": "stdout",
     "output_type": "stream",
     "text": [
      "Scraping Pole Studio Data from https://www.eversports.de/s/britt-bloem-pt...\n"
     ]
    },
    {
     "name": "stderr",
     "output_type": "stream",
     "text": [
      "Processing URLs:  39%|███▉      | 195/502 [08:58<12:29,  2.44s/it]"
     ]
    },
    {
     "name": "stdout",
     "output_type": "stream",
     "text": [
      "\n",
      "Processing completed.\n",
      "-------------------------------- \n",
      "\n",
      "2024-03-11 18:35:00 - INFO - Scraping Data from: https://www.eversports.at/s/britt-bloem-pt\n",
      "Pole Studio Data: 1 entries\n",
      "Starting URL reconstruction...\n"
     ]
    },
    {
     "name": "stderr",
     "output_type": "stream",
     "text": [
      "2024-03-11 18:35:01,643 - INFO - Processing URL 1/1: https://www.eversports.de/s/loft1-zurich-seefeld\n"
     ]
    },
    {
     "name": "stdout",
     "output_type": "stream",
     "text": [
      "Converting to DataFrame...\n",
      "Validating URLs...\n"
     ]
    },
    {
     "name": "stderr",
     "output_type": "stream",
     "text": [
      "2024-03-11 18:35:02,595 - INFO - URL https://www.eversports.de/s/loft1-zurich-seefeld is valid.\n"
     ]
    },
    {
     "name": "stdout",
     "output_type": "stream",
     "text": [
      "Scraping Pole Studio Data from https://www.eversports.de/s/loft1-zurich-seefeld...\n"
     ]
    },
    {
     "name": "stderr",
     "output_type": "stream",
     "text": [
      "Processing URLs:  39%|███▉      | 196/502 [09:01<13:15,  2.60s/it]"
     ]
    },
    {
     "name": "stdout",
     "output_type": "stream",
     "text": [
      "\n",
      "Processing completed.\n",
      "-------------------------------- \n",
      "\n",
      "2024-03-11 18:35:03 - INFO - Scraping Data from: https://www.eversports.ch/s/loft1-zurich-seefeld\n",
      "Pole Studio Data: 1 entries\n",
      "Starting URL reconstruction...\n"
     ]
    },
    {
     "name": "stderr",
     "output_type": "stream",
     "text": [
      "2024-03-11 18:35:05,557 - INFO - Processing URL 1/2: https://www.eversports.de/s/stadtgazellen-bremen\n"
     ]
    },
    {
     "name": "stdout",
     "output_type": "stream",
     "text": [
      "Converting to DataFrame...\n",
      "Validating URLs...\n"
     ]
    },
    {
     "name": "stderr",
     "output_type": "stream",
     "text": [
      "2024-03-11 18:35:06,415 - INFO - URL https://www.eversports.de/s/stadtgazellen-bremen is valid.\n",
      "2024-03-11 18:35:06,417 - INFO - Processing URL 2/2: https://www.eversports.de/sw/stadtgazellen-bremen\n",
      "2024-03-11 18:35:07,434 - INFO - URL https://www.eversports.de/sw/stadtgazellen-bremen is valid.\n"
     ]
    },
    {
     "name": "stdout",
     "output_type": "stream",
     "text": [
      "Scraping Pole Studio Data from https://www.eversports.de/s/stadtgazellen-bremen...\n",
      "Scraping Workshops Data from https://www.eversports.de/sw/stadtgazellen-bremen...\n",
      "Scraping Workshop Details from https://www.eversports.de/e/workshop/WRl24o5...\n",
      "Scraping Workshop Details from https://www.eversports.de/e/workshop/wrZkEQ3...\n",
      "Scraping Workshop Details from https://www.eversports.de/e/workshop/giK-D6N...\n"
     ]
    },
    {
     "name": "stderr",
     "output_type": "stream",
     "text": [
      "Processing URLs:  39%|███▉      | 197/502 [09:10<21:52,  4.30s/it]"
     ]
    },
    {
     "name": "stdout",
     "output_type": "stream",
     "text": [
      "\n",
      "Processing completed.\n",
      "-------------------------------- \n",
      "\n",
      "2024-03-11 18:35:11 - INFO - Scraping Data from: https://www.eversports.de/s/stadtgazellen-bremen\n",
      "Pole Studio Data: 1 entries\n",
      "2024-03-11 18:35:11 - INFO - Scraping Data from: https://www.eversports.de/s/stadtgazellen-bremen\n",
      "Workshops Data: 3 entries\n",
      "2024-03-11 18:35:11 - INFO - Scraping Data from: https://www.eversports.de/s/stadtgazellen-bremen\n",
      "Workshop Details: 3 entries\n",
      "Starting URL reconstruction...\n"
     ]
    },
    {
     "name": "stderr",
     "output_type": "stream",
     "text": [
      "2024-03-11 18:35:13,035 - INFO - Processing URL 1/1: https://www.eversports.de/s/pole-dance-belgium-ixelles\n"
     ]
    },
    {
     "name": "stdout",
     "output_type": "stream",
     "text": [
      "Converting to DataFrame...\n",
      "Validating URLs...\n"
     ]
    },
    {
     "name": "stderr",
     "output_type": "stream",
     "text": [
      "2024-03-11 18:35:13,970 - INFO - URL https://www.eversports.de/s/pole-dance-belgium-ixelles is valid.\n"
     ]
    },
    {
     "name": "stdout",
     "output_type": "stream",
     "text": [
      "Scraping Pole Studio Data from https://www.eversports.de/s/pole-dance-belgium-ixelles...\n"
     ]
    },
    {
     "name": "stderr",
     "output_type": "stream",
     "text": [
      "Processing URLs:  39%|███▉      | 198/502 [09:12<19:35,  3.87s/it]"
     ]
    },
    {
     "name": "stdout",
     "output_type": "stream",
     "text": [
      "\n",
      "Processing completed.\n",
      "-------------------------------- \n",
      "\n",
      "2024-03-11 18:35:14 - INFO - Scraping Data from: https://www.eversports.be/s/pole-dance-belgium-ixelles\n",
      "Pole Studio Data: 1 entries\n",
      "Starting URL reconstruction...\n"
     ]
    },
    {
     "name": "stderr",
     "output_type": "stream",
     "text": [
      "Processing URLs:  40%|███▉      | 199/502 [09:13<14:40,  2.91s/it]"
     ]
    },
    {
     "name": "stdout",
     "output_type": "stream",
     "text": [
      "Error during HTTP request: 404 Client Error: Not Found for url: https://www.eversports.de/s/unique-studios\n",
      "Converting to DataFrame...\n",
      "Validating URLs...\n",
      "\n",
      "Processing completed.\n",
      "-------------------------------- \n",
      "\n",
      "Starting URL reconstruction...\n"
     ]
    },
    {
     "name": "stderr",
     "output_type": "stream",
     "text": [
      "2024-03-11 18:35:15,830 - INFO - Processing URL 1/1: https://www.eversports.de/s/ramonas-tanzschmiede\n"
     ]
    },
    {
     "name": "stdout",
     "output_type": "stream",
     "text": [
      "Converting to DataFrame...\n",
      "Validating URLs...\n"
     ]
    },
    {
     "name": "stderr",
     "output_type": "stream",
     "text": [
      "2024-03-11 18:35:16,631 - INFO - URL https://www.eversports.de/s/ramonas-tanzschmiede is valid.\n"
     ]
    },
    {
     "name": "stdout",
     "output_type": "stream",
     "text": [
      "Scraping Pole Studio Data from https://www.eversports.de/s/ramonas-tanzschmiede...\n"
     ]
    },
    {
     "name": "stderr",
     "output_type": "stream",
     "text": [
      "Processing URLs:  40%|███▉      | 200/502 [09:16<15:23,  3.06s/it]"
     ]
    },
    {
     "name": "stdout",
     "output_type": "stream",
     "text": [
      "\n",
      "Processing completed.\n",
      "-------------------------------- \n",
      "\n",
      "2024-03-11 18:35:18 - INFO - Scraping Data from: https://www.eversports.de/s/ramonas-tanzschmiede\n",
      "Pole Studio Data: 1 entries\n",
      "Starting URL reconstruction...\n"
     ]
    },
    {
     "name": "stderr",
     "output_type": "stream",
     "text": [
      "2024-03-11 18:35:20,314 - INFO - Processing URL 1/2: https://www.eversports.de/s/brussels-art-pole\n"
     ]
    },
    {
     "name": "stdout",
     "output_type": "stream",
     "text": [
      "Converting to DataFrame...\n",
      "Validating URLs...\n"
     ]
    },
    {
     "name": "stderr",
     "output_type": "stream",
     "text": [
      "2024-03-11 18:35:21,273 - INFO - URL https://www.eversports.de/s/brussels-art-pole is valid.\n",
      "2024-03-11 18:35:21,274 - INFO - Processing URL 2/2: https://www.eversports.de/sw/brussels-art-pole\n",
      "2024-03-11 18:35:22,031 - INFO - URL https://www.eversports.de/sw/brussels-art-pole is not valid.\n"
     ]
    },
    {
     "name": "stdout",
     "output_type": "stream",
     "text": [
      "Scraping Pole Studio Data from https://www.eversports.de/s/brussels-art-pole...\n"
     ]
    },
    {
     "name": "stderr",
     "output_type": "stream",
     "text": [
      "Processing URLs:  40%|████      | 201/502 [09:21<17:07,  3.41s/it]"
     ]
    },
    {
     "name": "stdout",
     "output_type": "stream",
     "text": [
      "\n",
      "Processing completed.\n",
      "-------------------------------- \n",
      "\n",
      "2024-03-11 18:35:22 - INFO - Scraping Data from: https://www.eversports.be/s/brussels-art-pole\n",
      "Pole Studio Data: 1 entries\n",
      "Starting URL reconstruction...\n"
     ]
    },
    {
     "name": "stderr",
     "output_type": "stream",
     "text": [
      "2024-03-11 18:35:23,539 - INFO - Processing URL 1/2: https://www.eversports.de/s/royal-pole\n"
     ]
    },
    {
     "name": "stdout",
     "output_type": "stream",
     "text": [
      "Converting to DataFrame...\n",
      "Validating URLs...\n"
     ]
    },
    {
     "name": "stderr",
     "output_type": "stream",
     "text": [
      "2024-03-11 18:35:25,033 - INFO - URL https://www.eversports.de/s/royal-pole is valid.\n",
      "2024-03-11 18:35:25,034 - INFO - Processing URL 2/2: https://www.eversports.de/sw/royal-pole\n",
      "2024-03-11 18:35:25,684 - INFO - URL https://www.eversports.de/sw/royal-pole is not valid.\n"
     ]
    },
    {
     "name": "stdout",
     "output_type": "stream",
     "text": [
      "Scraping Pole Studio Data from https://www.eversports.de/s/royal-pole...\n"
     ]
    },
    {
     "name": "stderr",
     "output_type": "stream",
     "text": [
      "Processing URLs:  40%|████      | 202/502 [09:24<17:08,  3.43s/it]"
     ]
    },
    {
     "name": "stdout",
     "output_type": "stream",
     "text": [
      "\n",
      "Processing completed.\n",
      "-------------------------------- \n",
      "\n",
      "2024-03-11 18:35:26 - INFO - Scraping Data from: https://www.eversports.de/s/royal-pole\n",
      "Pole Studio Data: 1 entries\n",
      "Starting URL reconstruction...\n"
     ]
    },
    {
     "name": "stderr",
     "output_type": "stream",
     "text": [
      "Processing URLs:  40%|████      | 203/502 [09:26<13:58,  2.80s/it]"
     ]
    },
    {
     "name": "stdout",
     "output_type": "stream",
     "text": [
      "Error during HTTP request: 404 Client Error: Not Found for url: https://www.eversports.de/s/vertical-pole-aerial-dance-aschaffenburg\n",
      "Converting to DataFrame...\n",
      "Validating URLs...\n",
      "\n",
      "Processing completed.\n",
      "-------------------------------- \n",
      "\n",
      "Starting URL reconstruction...\n"
     ]
    },
    {
     "name": "stderr",
     "output_type": "stream",
     "text": [
      "Processing URLs:  41%|████      | 204/502 [09:26<10:42,  2.16s/it]"
     ]
    },
    {
     "name": "stdout",
     "output_type": "stream",
     "text": [
      "Error during HTTP request: 404 Client Error: Not Found for url: https://www.eversports.de/s/palazzo-sportivo\n",
      "Converting to DataFrame...\n",
      "Validating URLs...\n",
      "\n",
      "Processing completed.\n",
      "-------------------------------- \n",
      "\n",
      "Starting URL reconstruction...\n"
     ]
    },
    {
     "name": "stderr",
     "output_type": "stream",
     "text": [
      "2024-03-11 18:35:29,453 - INFO - Processing URL 1/1: https://www.eversports.de/s/dunya-pole-dance-school\n"
     ]
    },
    {
     "name": "stdout",
     "output_type": "stream",
     "text": [
      "Converting to DataFrame...\n",
      "Validating URLs...\n"
     ]
    },
    {
     "name": "stderr",
     "output_type": "stream",
     "text": [
      "2024-03-11 18:35:30,316 - INFO - URL https://www.eversports.de/s/dunya-pole-dance-school is valid.\n"
     ]
    },
    {
     "name": "stdout",
     "output_type": "stream",
     "text": [
      "Scraping Pole Studio Data from https://www.eversports.de/s/dunya-pole-dance-school...\n"
     ]
    },
    {
     "name": "stderr",
     "output_type": "stream",
     "text": [
      "Processing URLs:  41%|████      | 205/502 [09:29<11:20,  2.29s/it]"
     ]
    },
    {
     "name": "stdout",
     "output_type": "stream",
     "text": [
      "\n",
      "Processing completed.\n",
      "-------------------------------- \n",
      "\n",
      "2024-03-11 18:35:30 - INFO - Scraping Data from: https://www.eversports.be/s/dunya-pole-dance-school\n",
      "Pole Studio Data: 1 entries\n",
      "Starting URL reconstruction...\n"
     ]
    },
    {
     "name": "stderr",
     "output_type": "stream",
     "text": [
      "Processing URLs:  41%|████      | 206/502 [09:33<14:42,  2.98s/it]"
     ]
    },
    {
     "name": "stdout",
     "output_type": "stream",
     "text": [
      "Error during HTTP request: Exceeded 30 redirects.\n",
      "Converting to DataFrame...\n",
      "Validating URLs...\n",
      "\n",
      "Processing completed.\n",
      "-------------------------------- \n",
      "\n",
      "Starting URL reconstruction...\n"
     ]
    },
    {
     "name": "stderr",
     "output_type": "stream",
     "text": [
      "2024-03-11 18:35:36,314 - INFO - Processing URL 1/2: https://www.eversports.de/s/pole-and-move-ketsch\n"
     ]
    },
    {
     "name": "stdout",
     "output_type": "stream",
     "text": [
      "Converting to DataFrame...\n",
      "Validating URLs...\n"
     ]
    },
    {
     "name": "stderr",
     "output_type": "stream",
     "text": [
      "2024-03-11 18:35:37,206 - INFO - URL https://www.eversports.de/s/pole-and-move-ketsch is valid.\n",
      "2024-03-11 18:35:37,209 - INFO - Processing URL 2/2: https://www.eversports.de/sw/pole-and-move-ketsch\n",
      "2024-03-11 18:35:37,869 - INFO - URL https://www.eversports.de/sw/pole-and-move-ketsch is valid.\n"
     ]
    },
    {
     "name": "stdout",
     "output_type": "stream",
     "text": [
      "Scraping Pole Studio Data from https://www.eversports.de/s/pole-and-move-ketsch...\n",
      "Scraping Workshops Data from https://www.eversports.de/sw/pole-and-move-ketsch...\n",
      "Scraping Workshop Details from https://www.eversports.de/e/workshop/nz_DDh6...\n",
      "Scraping Workshop Details from https://www.eversports.de/e/workshop/DGu8Tq6...\n"
     ]
    },
    {
     "name": "stderr",
     "output_type": "stream",
     "text": [
      "Processing URLs:  41%|████      | 207/502 [09:40<19:33,  3.98s/it]"
     ]
    },
    {
     "name": "stdout",
     "output_type": "stream",
     "text": [
      "\n",
      "Processing completed.\n",
      "-------------------------------- \n",
      "\n",
      "2024-03-11 18:35:41 - INFO - Scraping Data from: https://www.eversports.de/s/pole-and-move-ketsch\n",
      "Pole Studio Data: 1 entries\n",
      "2024-03-11 18:35:41 - INFO - Scraping Data from: https://www.eversports.de/s/pole-and-move-ketsch\n",
      "Workshops Data: 2 entries\n",
      "2024-03-11 18:35:41 - INFO - Scraping Data from: https://www.eversports.de/s/pole-and-move-ketsch\n",
      "Workshop Details: 2 entries\n",
      "Starting URL reconstruction...\n"
     ]
    },
    {
     "name": "stderr",
     "output_type": "stream",
     "text": [
      "Processing URLs:  41%|████▏     | 208/502 [09:40<14:44,  3.01s/it]"
     ]
    },
    {
     "name": "stdout",
     "output_type": "stream",
     "text": [
      "Error during HTTP request: 404 Client Error: Not Found for url: https://www.eversports.de/s/divas-dance-studio\n",
      "Converting to DataFrame...\n",
      "Validating URLs...\n",
      "\n",
      "Processing completed.\n",
      "-------------------------------- \n",
      "\n",
      "Starting URL reconstruction...\n"
     ]
    },
    {
     "name": "stderr",
     "output_type": "stream",
     "text": [
      "Processing URLs:  42%|████▏     | 209/502 [09:41<11:06,  2.27s/it]"
     ]
    },
    {
     "name": "stdout",
     "output_type": "stream",
     "text": [
      "Error during HTTP request: 404 Client Error: Not Found for url: https://www.eversports.de/s/verticalarts-pole-&-aerial-fitness\n",
      "Converting to DataFrame...\n",
      "Validating URLs...\n",
      "\n",
      "Processing completed.\n",
      "-------------------------------- \n",
      "\n",
      "Starting URL reconstruction...\n"
     ]
    },
    {
     "name": "stderr",
     "output_type": "stream",
     "text": [
      "2024-03-11 18:35:44,605 - INFO - Processing URL 1/1: https://www.eversports.de/s/vibes-by-v-school\n"
     ]
    },
    {
     "name": "stdout",
     "output_type": "stream",
     "text": [
      "Converting to DataFrame...\n",
      "Validating URLs...\n"
     ]
    },
    {
     "name": "stderr",
     "output_type": "stream",
     "text": [
      "2024-03-11 18:35:45,585 - INFO - URL https://www.eversports.de/s/vibes-by-v-school is valid.\n"
     ]
    },
    {
     "name": "stdout",
     "output_type": "stream",
     "text": [
      "Scraping Pole Studio Data from https://www.eversports.de/s/vibes-by-v-school...\n"
     ]
    },
    {
     "name": "stderr",
     "output_type": "stream",
     "text": [
      "Processing URLs:  42%|████▏     | 210/502 [09:45<12:51,  2.64s/it]"
     ]
    },
    {
     "name": "stdout",
     "output_type": "stream",
     "text": [
      "\n",
      "Processing completed.\n",
      "-------------------------------- \n",
      "\n",
      "2024-03-11 18:35:46 - INFO - Scraping Data from: https://www.eversports.be/s/vibes-by-v-school\n",
      "Pole Studio Data: 1 entries\n",
      "Starting URL reconstruction...\n"
     ]
    },
    {
     "name": "stderr",
     "output_type": "stream",
     "text": [
      "Processing URLs:  42%|████▏     | 211/502 [09:45<09:51,  2.03s/it]"
     ]
    },
    {
     "name": "stdout",
     "output_type": "stream",
     "text": [
      "Error during HTTP request: 404 Client Error: Not Found for url: https://www.eversports.de/s/polefitness-premium\n",
      "Converting to DataFrame...\n",
      "Validating URLs...\n",
      "\n",
      "Processing completed.\n",
      "-------------------------------- \n",
      "\n",
      "Starting URL reconstruction...\n"
     ]
    },
    {
     "name": "stderr",
     "output_type": "stream",
     "text": [
      "2024-03-11 18:35:47,746 - INFO - Processing URL 1/1: https://www.eversports.de/s/a-heart-for-poledance\n"
     ]
    },
    {
     "name": "stdout",
     "output_type": "stream",
     "text": [
      "Converting to DataFrame...\n",
      "Validating URLs...\n"
     ]
    },
    {
     "name": "stderr",
     "output_type": "stream",
     "text": [
      "2024-03-11 18:35:48,421 - INFO - URL https://www.eversports.de/s/a-heart-for-poledance is valid.\n"
     ]
    },
    {
     "name": "stdout",
     "output_type": "stream",
     "text": [
      "Scraping Pole Studio Data from https://www.eversports.de/s/a-heart-for-poledance...\n"
     ]
    },
    {
     "name": "stderr",
     "output_type": "stream",
     "text": [
      "Processing URLs:  42%|████▏     | 212/502 [09:47<09:23,  1.94s/it]"
     ]
    },
    {
     "name": "stdout",
     "output_type": "stream",
     "text": [
      "\n",
      "Processing completed.\n",
      "-------------------------------- \n",
      "\n",
      "2024-03-11 18:35:48 - INFO - Scraping Data from: https://www.eversports.de/s/a-heart-for-poledance\n",
      "Pole Studio Data: 1 entries\n",
      "Starting URL reconstruction...\n"
     ]
    },
    {
     "name": "stderr",
     "output_type": "stream",
     "text": [
      "2024-03-11 18:35:50,485 - INFO - Processing URL 1/1: https://www.eversports.de/s/lush-motion\n"
     ]
    },
    {
     "name": "stdout",
     "output_type": "stream",
     "text": [
      "Converting to DataFrame...\n",
      "Validating URLs...\n"
     ]
    },
    {
     "name": "stderr",
     "output_type": "stream",
     "text": [
      "2024-03-11 18:35:51,230 - INFO - URL https://www.eversports.de/s/lush-motion is valid.\n"
     ]
    },
    {
     "name": "stdout",
     "output_type": "stream",
     "text": [
      "Scraping Pole Studio Data from https://www.eversports.de/s/lush-motion...\n"
     ]
    },
    {
     "name": "stderr",
     "output_type": "stream",
     "text": [
      "Processing URLs:  42%|████▏     | 213/502 [09:50<10:58,  2.28s/it]"
     ]
    },
    {
     "name": "stdout",
     "output_type": "stream",
     "text": [
      "\n",
      "Processing completed.\n",
      "-------------------------------- \n",
      "\n",
      "2024-03-11 18:35:51 - INFO - Scraping Data from: https://www.eversports.de/s/lush-motion\n",
      "Pole Studio Data: 1 entries\n",
      "Starting URL reconstruction...\n"
     ]
    },
    {
     "name": "stderr",
     "output_type": "stream",
     "text": [
      "Processing URLs:  43%|████▎     | 214/502 [09:51<08:38,  1.80s/it]"
     ]
    },
    {
     "name": "stdout",
     "output_type": "stream",
     "text": [
      "Error during HTTP request: 404 Client Error: Not Found for url: https://www.eversports.de/s/dance-in-the-city-remscheid\n",
      "Converting to DataFrame...\n",
      "Validating URLs...\n",
      "\n",
      "Processing completed.\n",
      "-------------------------------- \n",
      "\n",
      "Starting URL reconstruction...\n"
     ]
    },
    {
     "name": "stderr",
     "output_type": "stream",
     "text": [
      "Processing URLs:  43%|████▎     | 215/502 [09:51<07:14,  1.52s/it]"
     ]
    },
    {
     "name": "stdout",
     "output_type": "stream",
     "text": [
      "Error during HTTP request: 404 Client Error: Not Found for url: https://www.eversports.de/s/pole-for-soul\n",
      "Converting to DataFrame...\n",
      "Validating URLs...\n",
      "\n",
      "Processing completed.\n",
      "-------------------------------- \n",
      "\n",
      "Starting URL reconstruction...\n"
     ]
    },
    {
     "name": "stderr",
     "output_type": "stream",
     "text": [
      "Processing URLs:  43%|████▎     | 216/502 [09:52<06:02,  1.27s/it]"
     ]
    },
    {
     "name": "stdout",
     "output_type": "stream",
     "text": [
      "Error during HTTP request: 404 Client Error: Not Found for url: https://www.eversports.de/s/femella-studio\n",
      "Converting to DataFrame...\n",
      "Validating URLs...\n",
      "\n",
      "Processing completed.\n",
      "-------------------------------- \n",
      "\n",
      "Starting URL reconstruction...\n"
     ]
    },
    {
     "name": "stderr",
     "output_type": "stream",
     "text": [
      "2024-03-11 18:35:55,550 - INFO - Processing URL 1/1: https://www.eversports.de/s/pole-werk-by-nelly\n"
     ]
    },
    {
     "name": "stdout",
     "output_type": "stream",
     "text": [
      "Converting to DataFrame...\n",
      "Validating URLs...\n"
     ]
    },
    {
     "name": "stderr",
     "output_type": "stream",
     "text": [
      "2024-03-11 18:35:56,438 - INFO - URL https://www.eversports.de/s/pole-werk-by-nelly is valid.\n"
     ]
    },
    {
     "name": "stdout",
     "output_type": "stream",
     "text": [
      "Scraping Pole Studio Data from https://www.eversports.de/s/pole-werk-by-nelly...\n"
     ]
    },
    {
     "name": "stderr",
     "output_type": "stream",
     "text": [
      "Processing URLs:  43%|████▎     | 217/502 [09:55<08:17,  1.74s/it]"
     ]
    },
    {
     "name": "stdout",
     "output_type": "stream",
     "text": [
      "\n",
      "Processing completed.\n",
      "-------------------------------- \n",
      "\n",
      "2024-03-11 18:35:56 - INFO - Scraping Data from: https://www.eversports.de/s/pole-werk-by-nelly\n",
      "Pole Studio Data: 1 entries\n",
      "Starting URL reconstruction...\n"
     ]
    },
    {
     "name": "stderr",
     "output_type": "stream",
     "text": [
      "2024-03-11 18:35:57,692 - INFO - Processing URL 1/1: https://www.eversports.de/s/cindys-pole-dance\n"
     ]
    },
    {
     "name": "stdout",
     "output_type": "stream",
     "text": [
      "Converting to DataFrame...\n",
      "Validating URLs...\n"
     ]
    },
    {
     "name": "stderr",
     "output_type": "stream",
     "text": [
      "2024-03-11 18:35:58,455 - INFO - URL https://www.eversports.de/s/cindys-pole-dance is valid.\n"
     ]
    },
    {
     "name": "stdout",
     "output_type": "stream",
     "text": [
      "Scraping Pole Studio Data from https://www.eversports.de/s/cindys-pole-dance...\n",
      "\n",
      "Processing completed.\n",
      "-------------------------------- \n",
      "\n"
     ]
    },
    {
     "name": "stderr",
     "output_type": "stream",
     "text": [
      "Processing URLs:  43%|████▎     | 218/502 [09:57<08:20,  1.76s/it]"
     ]
    },
    {
     "name": "stdout",
     "output_type": "stream",
     "text": [
      "2024-03-11 18:35:58 - INFO - Scraping Data from: https://www.eversports.de/s/cindys-pole-dance\n",
      "Pole Studio Data: 1 entries\n",
      "Starting URL reconstruction...\n"
     ]
    },
    {
     "name": "stderr",
     "output_type": "stream",
     "text": [
      "2024-03-11 18:36:00,231 - INFO - Processing URL 1/2: https://www.eversports.de/s/schwerelos-muenster\n"
     ]
    },
    {
     "name": "stdout",
     "output_type": "stream",
     "text": [
      "Converting to DataFrame...\n",
      "Validating URLs...\n"
     ]
    },
    {
     "name": "stderr",
     "output_type": "stream",
     "text": [
      "2024-03-11 18:36:01,129 - INFO - URL https://www.eversports.de/s/schwerelos-muenster is valid.\n",
      "2024-03-11 18:36:01,129 - INFO - Processing URL 2/2: https://www.eversports.de/sw/schwerelos-muenster\n",
      "2024-03-11 18:36:01,895 - INFO - URL https://www.eversports.de/sw/schwerelos-muenster is valid.\n"
     ]
    },
    {
     "name": "stdout",
     "output_type": "stream",
     "text": [
      "Scraping Pole Studio Data from https://www.eversports.de/s/schwerelos-muenster...\n",
      "Scraping Workshops Data from https://www.eversports.de/sw/schwerelos-muenster...\n",
      "Scraping Workshop Details from https://www.eversports.de/e/workshop/fVM0ULF...\n",
      "Scraping Workshop Details from https://www.eversports.de/e/workshop/9fkoAyU...\n",
      "Scraping Workshop Details from https://www.eversports.de/e/workshop/leDNfNr...\n",
      "Scraping Workshop Details from https://www.eversports.de/e/workshop/ahCVYvh...\n",
      "Scraping Workshop Details from https://www.eversports.de/e/workshop/RjsCf5S...\n",
      "Scraping Workshop Details from https://www.eversports.de/e/workshop/ZOxKKrM...\n",
      "Scraping Workshop Details from https://www.eversports.de/e/workshop/Zq0GQNB...\n",
      "Scraping Workshop Details from https://www.eversports.de/e/workshop/xPGUjbS...\n"
     ]
    },
    {
     "name": "stderr",
     "output_type": "stream",
     "text": [
      "Processing URLs:  44%|████▎     | 219/502 [10:08<21:19,  4.52s/it]"
     ]
    },
    {
     "name": "stdout",
     "output_type": "stream",
     "text": [
      "\n",
      "Processing completed.\n",
      "-------------------------------- \n",
      "\n",
      "2024-03-11 18:36:09 - INFO - Scraping Data from: https://www.eversports.de/s/schwerelos-muenster\n",
      "Pole Studio Data: 1 entries\n",
      "2024-03-11 18:36:09 - INFO - Scraping Data from: https://www.eversports.de/s/schwerelos-muenster\n",
      "Workshops Data: 8 entries\n",
      "2024-03-11 18:36:09 - INFO - Scraping Data from: https://www.eversports.de/s/schwerelos-muenster\n",
      "Workshop Details: 8 entries\n",
      "Starting URL reconstruction...\n"
     ]
    },
    {
     "name": "stderr",
     "output_type": "stream",
     "text": [
      "2024-03-11 18:36:10,643 - INFO - Processing URL 1/2: https://www.eversports.de/s/health-and-shape-muenchen\n"
     ]
    },
    {
     "name": "stdout",
     "output_type": "stream",
     "text": [
      "Converting to DataFrame...\n",
      "Validating URLs...\n"
     ]
    },
    {
     "name": "stderr",
     "output_type": "stream",
     "text": [
      "2024-03-11 18:36:11,609 - INFO - URL https://www.eversports.de/s/health-and-shape-muenchen is valid.\n",
      "2024-03-11 18:36:11,611 - INFO - Processing URL 2/2: https://www.eversports.de/sw/health-and-shape-muenchen\n",
      "2024-03-11 18:36:12,268 - INFO - URL https://www.eversports.de/sw/health-and-shape-muenchen is valid.\n"
     ]
    },
    {
     "name": "stdout",
     "output_type": "stream",
     "text": [
      "Scraping Pole Studio Data from https://www.eversports.de/s/health-and-shape-muenchen...\n",
      "Scraping Workshops Data from https://www.eversports.de/sw/health-and-shape-muenchen...\n",
      "Scraping Workshop Details from https://www.eversports.de/e/workshop/gsKaaiO...\n"
     ]
    },
    {
     "name": "stderr",
     "output_type": "stream",
     "text": [
      "Processing URLs:  44%|████▍     | 220/502 [10:13<22:29,  4.79s/it]"
     ]
    },
    {
     "name": "stdout",
     "output_type": "stream",
     "text": [
      "\n",
      "Processing completed.\n",
      "-------------------------------- \n",
      "\n",
      "2024-03-11 18:36:15 - INFO - Scraping Data from: https://www.eversports.de/s/health-and-shape-muenchen\n",
      "Pole Studio Data: 1 entries\n",
      "2024-03-11 18:36:15 - INFO - Scraping Data from: https://www.eversports.de/s/health-and-shape-muenchen\n",
      "Workshops Data: 1 entries\n",
      "2024-03-11 18:36:15 - INFO - Scraping Data from: https://www.eversports.de/s/health-and-shape-muenchen\n",
      "Workshop Details: 1 entries\n",
      "Starting URL reconstruction...\n"
     ]
    },
    {
     "name": "stderr",
     "output_type": "stream",
     "text": [
      "Processing URLs:  44%|████▍     | 221/502 [10:14<16:35,  3.54s/it]"
     ]
    },
    {
     "name": "stdout",
     "output_type": "stream",
     "text": [
      "Error during HTTP request: 404 Client Error: Not Found for url: https://www.eversports.de/s/dance-&-pole-leverkusen\n",
      "Converting to DataFrame...\n",
      "Validating URLs...\n",
      "\n",
      "Processing completed.\n",
      "-------------------------------- \n",
      "\n",
      "Starting URL reconstruction...\n"
     ]
    },
    {
     "name": "stderr",
     "output_type": "stream",
     "text": [
      "2024-03-11 18:36:16,751 - INFO - Processing URL 1/2: https://www.eversports.de/s/airobics\n"
     ]
    },
    {
     "name": "stdout",
     "output_type": "stream",
     "text": [
      "Converting to DataFrame...\n",
      "Validating URLs...\n"
     ]
    },
    {
     "name": "stderr",
     "output_type": "stream",
     "text": [
      "2024-03-11 18:36:17,999 - INFO - URL https://www.eversports.de/s/airobics is valid.\n",
      "2024-03-11 18:36:18,000 - INFO - Processing URL 2/2: https://www.eversports.de/sw/airobics\n",
      "2024-03-11 18:36:18,703 - INFO - URL https://www.eversports.de/sw/airobics is valid.\n"
     ]
    },
    {
     "name": "stdout",
     "output_type": "stream",
     "text": [
      "Scraping Pole Studio Data from https://www.eversports.de/s/airobics...\n",
      "Scraping Workshops Data from https://www.eversports.de/sw/airobics...\n",
      "Scraping Workshop Details from https://www.eversports.de/e/workshop/3lsUyvo...\n",
      "Scraping Workshop Details from https://www.eversports.de/e/workshop/xf9Wsde...\n",
      "Scraping Workshop Details from https://www.eversports.de/e/workshop/mGdhBJc...\n",
      "Scraping Workshop Details from https://www.eversports.de/e/workshop/hPhsP8N...\n",
      "Scraping Workshop Details from https://www.eversports.de/e/workshop/FijT8a7...\n"
     ]
    },
    {
     "name": "stderr",
     "output_type": "stream",
     "text": [
      "Processing URLs:  44%|████▍     | 222/502 [10:24<25:50,  5.54s/it]"
     ]
    },
    {
     "name": "stdout",
     "output_type": "stream",
     "text": [
      "\n",
      "Processing completed.\n",
      "-------------------------------- \n",
      "\n",
      "2024-03-11 18:36:25 - INFO - Scraping Data from: https://www.eversports.de/s/airobics\n",
      "Pole Studio Data: 1 entries\n",
      "2024-03-11 18:36:25 - INFO - Scraping Data from: https://www.eversports.de/s/airobics\n",
      "Workshops Data: 5 entries\n",
      "2024-03-11 18:36:25 - INFO - Scraping Data from: https://www.eversports.de/s/airobics\n",
      "Workshop Details: 5 entries\n",
      "Starting URL reconstruction...\n"
     ]
    },
    {
     "name": "stderr",
     "output_type": "stream",
     "text": [
      "2024-03-11 18:36:26,945 - INFO - Processing URL 1/1: https://www.eversports.de/s/pure-motion-kiel\n"
     ]
    },
    {
     "name": "stdout",
     "output_type": "stream",
     "text": [
      "Converting to DataFrame...\n",
      "Validating URLs...\n"
     ]
    },
    {
     "name": "stderr",
     "output_type": "stream",
     "text": [
      "2024-03-11 18:36:28,039 - INFO - URL https://www.eversports.de/s/pure-motion-kiel is valid.\n"
     ]
    },
    {
     "name": "stdout",
     "output_type": "stream",
     "text": [
      "Scraping Pole Studio Data from https://www.eversports.de/s/pure-motion-kiel...\n"
     ]
    },
    {
     "name": "stderr",
     "output_type": "stream",
     "text": [
      "Processing URLs:  44%|████▍     | 223/502 [10:27<21:46,  4.68s/it]"
     ]
    },
    {
     "name": "stdout",
     "output_type": "stream",
     "text": [
      "\n",
      "Processing completed.\n",
      "-------------------------------- \n",
      "\n",
      "2024-03-11 18:36:28 - INFO - Scraping Data from: https://www.eversports.de/s/pure-motion-kiel\n",
      "Pole Studio Data: 1 entries\n",
      "Starting URL reconstruction...\n"
     ]
    },
    {
     "name": "stderr",
     "output_type": "stream",
     "text": [
      "2024-03-11 18:36:29,552 - INFO - Processing URL 1/1: https://www.eversports.de/s/-pole-aerial-dance-souldance\n"
     ]
    },
    {
     "name": "stdout",
     "output_type": "stream",
     "text": [
      "Converting to DataFrame...\n",
      "Validating URLs...\n"
     ]
    },
    {
     "name": "stderr",
     "output_type": "stream",
     "text": [
      "2024-03-11 18:36:30,978 - INFO - URL https://www.eversports.de/s/-pole-aerial-dance-souldance is valid.\n"
     ]
    },
    {
     "name": "stdout",
     "output_type": "stream",
     "text": [
      "Scraping Pole Studio Data from https://www.eversports.de/s/-pole-aerial-dance-souldance...\n"
     ]
    },
    {
     "name": "stderr",
     "output_type": "stream",
     "text": [
      "Processing URLs:  45%|████▍     | 224/502 [10:29<19:03,  4.11s/it]"
     ]
    },
    {
     "name": "stdout",
     "output_type": "stream",
     "text": [
      "\n",
      "Processing completed.\n",
      "-------------------------------- \n",
      "\n",
      "2024-03-11 18:36:31 - INFO - Scraping Data from: https://www.eversports.de/s/-pole-aerial-dance-souldance\n",
      "Pole Studio Data: 1 entries\n",
      "Starting URL reconstruction...\n"
     ]
    },
    {
     "name": "stderr",
     "output_type": "stream",
     "text": [
      "Processing URLs:  45%|████▍     | 225/502 [10:30<14:36,  3.16s/it]"
     ]
    },
    {
     "name": "stdout",
     "output_type": "stream",
     "text": [
      "Error during HTTP request: 404 Client Error: Not Found for url: https://www.eversports.de/s/poledance-schule-berlin\n",
      "Converting to DataFrame...\n",
      "Validating URLs...\n",
      "\n",
      "Processing completed.\n",
      "-------------------------------- \n",
      "\n",
      "Starting URL reconstruction...\n"
     ]
    },
    {
     "name": "stderr",
     "output_type": "stream",
     "text": [
      "Processing URLs:  45%|████▌     | 226/502 [10:31<11:15,  2.45s/it]"
     ]
    },
    {
     "name": "stdout",
     "output_type": "stream",
     "text": [
      "Error during HTTP request: 404 Client Error: Not Found for url: https://www.eversports.de/s/studio-aria-arte\n",
      "Converting to DataFrame...\n",
      "Validating URLs...\n",
      "\n",
      "Processing completed.\n",
      "-------------------------------- \n",
      "\n",
      "Starting URL reconstruction...\n"
     ]
    },
    {
     "name": "stderr",
     "output_type": "stream",
     "text": [
      "Processing URLs:  45%|████▌     | 227/502 [10:32<08:55,  1.95s/it]"
     ]
    },
    {
     "name": "stdout",
     "output_type": "stream",
     "text": [
      "Error during HTTP request: 404 Client Error: Not Found for url: https://www.eversports.de/s/open-aerial-dance\n",
      "Converting to DataFrame...\n",
      "Validating URLs...\n",
      "\n",
      "Processing completed.\n",
      "-------------------------------- \n",
      "\n",
      "Starting URL reconstruction...\n"
     ]
    },
    {
     "name": "stderr",
     "output_type": "stream",
     "text": [
      "Processing URLs:  45%|████▌     | 228/502 [10:33<07:10,  1.57s/it]"
     ]
    },
    {
     "name": "stdout",
     "output_type": "stream",
     "text": [
      "Error during HTTP request: 404 Client Error: Not Found for url: https://www.eversports.de/s/pole-acrobatics-deggingen\n",
      "Converting to DataFrame...\n",
      "Validating URLs...\n",
      "\n",
      "Processing completed.\n",
      "-------------------------------- \n",
      "\n",
      "Starting URL reconstruction...\n"
     ]
    },
    {
     "name": "stderr",
     "output_type": "stream",
     "text": [
      "Processing URLs:  46%|████▌     | 229/502 [10:33<05:55,  1.30s/it]"
     ]
    },
    {
     "name": "stdout",
     "output_type": "stream",
     "text": [
      "Error during HTTP request: 404 Client Error: Not Found for url: https://www.eversports.de/s/dayuma-pole-&-acrobatics\n",
      "Converting to DataFrame...\n",
      "Validating URLs...\n",
      "\n",
      "Processing completed.\n",
      "-------------------------------- \n",
      "\n",
      "Starting URL reconstruction...\n"
     ]
    },
    {
     "name": "stderr",
     "output_type": "stream",
     "text": [
      "2024-03-11 18:36:55,398 - INFO - Processing URL 1/1: https://www.eversports.de/s/aerial-studio\n"
     ]
    },
    {
     "name": "stdout",
     "output_type": "stream",
     "text": [
      "Converting to DataFrame...\n",
      "Validating URLs...\n"
     ]
    },
    {
     "name": "stderr",
     "output_type": "stream",
     "text": [
      "2024-03-11 18:36:56,250 - INFO - URL https://www.eversports.de/s/aerial-studio is valid.\n"
     ]
    },
    {
     "name": "stdout",
     "output_type": "stream",
     "text": [
      "Scraping Pole Studio Data from https://www.eversports.de/s/aerial-studio...\n"
     ]
    },
    {
     "name": "stderr",
     "output_type": "stream",
     "text": [
      "Processing URLs:  46%|████▌     | 230/502 [10:55<33:16,  7.34s/it]"
     ]
    },
    {
     "name": "stdout",
     "output_type": "stream",
     "text": [
      "\n",
      "Processing completed.\n",
      "-------------------------------- \n",
      "\n",
      "2024-03-11 18:36:56 - INFO - Scraping Data from: https://www.eversports.de/s/aerial-studio\n",
      "Pole Studio Data: 1 entries\n",
      "Starting URL reconstruction...\n"
     ]
    },
    {
     "name": "stderr",
     "output_type": "stream",
     "text": [
      "2024-03-11 18:36:58,222 - INFO - Processing URL 1/1: https://www.eversports.de/s/pole-and-art\n"
     ]
    },
    {
     "name": "stdout",
     "output_type": "stream",
     "text": [
      "Converting to DataFrame...\n",
      "Validating URLs...\n"
     ]
    },
    {
     "name": "stderr",
     "output_type": "stream",
     "text": [
      "2024-03-11 18:36:59,175 - INFO - URL https://www.eversports.de/s/pole-and-art is valid.\n"
     ]
    },
    {
     "name": "stdout",
     "output_type": "stream",
     "text": [
      "Scraping Pole Studio Data from https://www.eversports.de/s/pole-and-art...\n"
     ]
    },
    {
     "name": "stderr",
     "output_type": "stream",
     "text": [
      "Processing URLs:  46%|████▌     | 231/502 [10:58<27:15,  6.03s/it]"
     ]
    },
    {
     "name": "stdout",
     "output_type": "stream",
     "text": [
      "\n",
      "Processing completed.\n",
      "-------------------------------- \n",
      "\n",
      "2024-03-11 18:36:59 - INFO - Scraping Data from: https://www.eversports.de/s/pole-and-art\n",
      "Pole Studio Data: 1 entries\n",
      "Starting URL reconstruction...\n"
     ]
    },
    {
     "name": "stderr",
     "output_type": "stream",
     "text": [
      "2024-03-11 18:37:00,650 - INFO - Processing URL 1/1: https://www.eversports.de/s/koerperformfabrik-gbr\n"
     ]
    },
    {
     "name": "stdout",
     "output_type": "stream",
     "text": [
      "Converting to DataFrame...\n",
      "Validating URLs...\n"
     ]
    },
    {
     "name": "stderr",
     "output_type": "stream",
     "text": [
      "2024-03-11 18:37:01,427 - INFO - URL https://www.eversports.de/s/koerperformfabrik-gbr is valid.\n"
     ]
    },
    {
     "name": "stdout",
     "output_type": "stream",
     "text": [
      "Scraping Pole Studio Data from https://www.eversports.de/s/koerperformfabrik-gbr...\n"
     ]
    },
    {
     "name": "stderr",
     "output_type": "stream",
     "text": [
      "Processing URLs:  46%|████▌     | 232/502 [11:00<21:48,  4.85s/it]"
     ]
    },
    {
     "name": "stdout",
     "output_type": "stream",
     "text": [
      "\n",
      "Processing completed.\n",
      "-------------------------------- \n",
      "\n",
      "2024-03-11 18:37:01 - INFO - Scraping Data from: https://www.eversports.de/s/koerperformfabrik-gbr\n",
      "Pole Studio Data: 1 entries\n",
      "Starting URL reconstruction...\n"
     ]
    },
    {
     "name": "stderr",
     "output_type": "stream",
     "text": [
      "Processing URLs:  46%|████▋     | 233/502 [11:00<16:04,  3.59s/it]"
     ]
    },
    {
     "name": "stdout",
     "output_type": "stream",
     "text": [
      "Error during HTTP request: 404 Client Error: Not Found for url: https://www.eversports.de/s/dance-%26-pole-leverkusen\n",
      "Converting to DataFrame...\n",
      "Validating URLs...\n",
      "\n",
      "Processing completed.\n",
      "-------------------------------- \n",
      "\n",
      "Starting URL reconstruction...\n"
     ]
    },
    {
     "name": "stderr",
     "output_type": "stream",
     "text": [
      "2024-03-11 18:37:03,249 - INFO - Processing URL 1/1: https://www.eversports.de/s/yoga-vidya-burgdorf\n"
     ]
    },
    {
     "name": "stdout",
     "output_type": "stream",
     "text": [
      "Converting to DataFrame...\n",
      "Validating URLs...\n"
     ]
    },
    {
     "name": "stderr",
     "output_type": "stream",
     "text": [
      "2024-03-11 18:37:04,049 - INFO - URL https://www.eversports.de/s/yoga-vidya-burgdorf is valid.\n"
     ]
    },
    {
     "name": "stdout",
     "output_type": "stream",
     "text": [
      "Scraping Pole Studio Data from https://www.eversports.de/s/yoga-vidya-burgdorf...\n"
     ]
    },
    {
     "name": "stderr",
     "output_type": "stream",
     "text": [
      "Processing URLs:  47%|████▋     | 234/502 [11:03<13:59,  3.13s/it]"
     ]
    },
    {
     "name": "stdout",
     "output_type": "stream",
     "text": [
      "\n",
      "Processing completed.\n",
      "-------------------------------- \n",
      "\n",
      "2024-03-11 18:37:04 - INFO - Scraping Data from: https://www.eversports.de/s/yoga-vidya-burgdorf\n",
      "Pole Studio Data: 1 entries\n",
      "Starting URL reconstruction...\n"
     ]
    },
    {
     "name": "stderr",
     "output_type": "stream",
     "text": [
      "Processing URLs:  47%|████▋     | 235/502 [11:03<10:36,  2.39s/it]"
     ]
    },
    {
     "name": "stdout",
     "output_type": "stream",
     "text": [
      "Error during HTTP request: 404 Client Error: Not Found for url: https://www.eversports.de/s/pole-fit-britt\n",
      "Converting to DataFrame...\n",
      "Validating URLs...\n",
      "\n",
      "Processing completed.\n",
      "-------------------------------- \n",
      "\n",
      "Starting URL reconstruction...\n"
     ]
    },
    {
     "name": "stderr",
     "output_type": "stream",
     "text": [
      "Processing URLs:  47%|████▋     | 236/502 [11:04<08:20,  1.88s/it]"
     ]
    },
    {
     "name": "stdout",
     "output_type": "stream",
     "text": [
      "Error during HTTP request: 404 Client Error: Not Found for url: https://www.eversports.de/s/pole-dance-nrw\n",
      "Converting to DataFrame...\n",
      "Validating URLs...\n",
      "\n",
      "Processing completed.\n",
      "-------------------------------- \n",
      "\n",
      "Starting URL reconstruction...\n"
     ]
    },
    {
     "name": "stderr",
     "output_type": "stream",
     "text": [
      "2024-03-11 18:37:06,697 - INFO - Processing URL 1/2: https://www.eversports.de/s/polearize\n"
     ]
    },
    {
     "name": "stdout",
     "output_type": "stream",
     "text": [
      "Converting to DataFrame...\n",
      "Validating URLs...\n"
     ]
    },
    {
     "name": "stderr",
     "output_type": "stream",
     "text": [
      "2024-03-11 18:37:07,643 - INFO - URL https://www.eversports.de/s/polearize is valid.\n",
      "2024-03-11 18:37:07,644 - INFO - Processing URL 2/2: https://www.eversports.de/sw/polearize\n",
      "2024-03-11 18:37:08,366 - INFO - URL https://www.eversports.de/sw/polearize is valid.\n"
     ]
    },
    {
     "name": "stdout",
     "output_type": "stream",
     "text": [
      "Scraping Pole Studio Data from https://www.eversports.de/s/polearize...\n",
      "Scraping Workshops Data from https://www.eversports.de/sw/polearize...\n",
      "Scraping Workshop Details from https://www.eversports.de/e/workshop/7yGrljL...\n",
      "Scraping Workshop Details from https://www.eversports.de/e/workshop/vmkQFeK...\n",
      "Scraping Workshop Details from https://www.eversports.de/e/workshop/4gGolhi...\n",
      "Scraping Workshop Details from https://www.eversports.de/e/workshop/91m99Ge...\n"
     ]
    },
    {
     "name": "stderr",
     "output_type": "stream",
     "text": [
      "Processing URLs:  47%|████▋     | 237/502 [11:14<18:34,  4.21s/it]"
     ]
    },
    {
     "name": "stdout",
     "output_type": "stream",
     "text": [
      "\n",
      "Processing completed.\n",
      "-------------------------------- \n",
      "\n",
      "2024-03-11 18:37:15 - INFO - Scraping Data from: https://www.eversports.de/s/polearize\n",
      "Pole Studio Data: 1 entries\n",
      "2024-03-11 18:37:15 - INFO - Scraping Data from: https://www.eversports.de/s/polearize\n",
      "Workshops Data: 4 entries\n",
      "2024-03-11 18:37:15 - INFO - Scraping Data from: https://www.eversports.de/s/polearize\n",
      "Workshop Details: 4 entries\n",
      "Starting URL reconstruction...\n"
     ]
    },
    {
     "name": "stderr",
     "output_type": "stream",
     "text": [
      "Processing URLs:  47%|████▋     | 238/502 [11:14<13:49,  3.14s/it]"
     ]
    },
    {
     "name": "stdout",
     "output_type": "stream",
     "text": [
      "Error during HTTP request: 404 Client Error: Not Found for url: https://www.eversports.de/s/pole-shape-studio\n",
      "Converting to DataFrame...\n",
      "Validating URLs...\n",
      "\n",
      "Processing completed.\n",
      "-------------------------------- \n",
      "\n",
      "Starting URL reconstruction...\n"
     ]
    },
    {
     "name": "stderr",
     "output_type": "stream",
     "text": [
      "2024-03-11 18:37:17,465 - INFO - Processing URL 1/1: https://www.eversports.de/s/pole-paradise\n"
     ]
    },
    {
     "name": "stdout",
     "output_type": "stream",
     "text": [
      "Converting to DataFrame...\n",
      "Validating URLs...\n"
     ]
    },
    {
     "name": "stderr",
     "output_type": "stream",
     "text": [
      "2024-03-11 18:37:18,670 - INFO - URL https://www.eversports.de/s/pole-paradise is valid.\n"
     ]
    },
    {
     "name": "stdout",
     "output_type": "stream",
     "text": [
      "Scraping Pole Studio Data from https://www.eversports.de/s/pole-paradise...\n"
     ]
    },
    {
     "name": "stderr",
     "output_type": "stream",
     "text": [
      "Processing URLs:  48%|████▊     | 239/502 [11:17<13:57,  3.19s/it]"
     ]
    },
    {
     "name": "stdout",
     "output_type": "stream",
     "text": [
      "\n",
      "Processing completed.\n",
      "-------------------------------- \n",
      "\n",
      "2024-03-11 18:37:19 - INFO - Scraping Data from: https://www.eversports.de/s/pole-paradise\n",
      "Pole Studio Data: 1 entries\n",
      "Starting URL reconstruction...\n"
     ]
    },
    {
     "name": "stderr",
     "output_type": "stream",
     "text": [
      "2024-03-11 18:37:20,744 - INFO - Processing URL 1/1: https://www.eversports.de/s/polecats\n"
     ]
    },
    {
     "name": "stdout",
     "output_type": "stream",
     "text": [
      "Converting to DataFrame...\n",
      "Validating URLs...\n"
     ]
    },
    {
     "name": "stderr",
     "output_type": "stream",
     "text": [
      "2024-03-11 18:37:21,505 - INFO - URL https://www.eversports.de/s/polecats is valid.\n"
     ]
    },
    {
     "name": "stdout",
     "output_type": "stream",
     "text": [
      "Scraping Pole Studio Data from https://www.eversports.de/s/polecats...\n"
     ]
    },
    {
     "name": "stderr",
     "output_type": "stream",
     "text": [
      "Processing URLs:  48%|████▊     | 240/502 [11:20<12:55,  2.96s/it]"
     ]
    },
    {
     "name": "stdout",
     "output_type": "stream",
     "text": [
      "\n",
      "Processing completed.\n",
      "-------------------------------- \n",
      "\n",
      "2024-03-11 18:37:21 - INFO - Scraping Data from: https://www.eversports.ch/s/polecats\n",
      "Pole Studio Data: 1 entries\n",
      "Starting URL reconstruction...\n"
     ]
    },
    {
     "name": "stderr",
     "output_type": "stream",
     "text": [
      "2024-03-11 18:37:22,635 - INFO - Processing URL 1/2: https://www.eversports.de/s/koerpernah\n"
     ]
    },
    {
     "name": "stdout",
     "output_type": "stream",
     "text": [
      "Converting to DataFrame...\n",
      "Validating URLs...\n"
     ]
    },
    {
     "name": "stderr",
     "output_type": "stream",
     "text": [
      "2024-03-11 18:37:23,561 - INFO - URL https://www.eversports.de/s/koerpernah is valid.\n",
      "2024-03-11 18:37:23,562 - INFO - Processing URL 2/2: https://www.eversports.de/sw/koerpernah\n",
      "2024-03-11 18:37:24,343 - INFO - URL https://www.eversports.de/sw/koerpernah is valid.\n"
     ]
    },
    {
     "name": "stdout",
     "output_type": "stream",
     "text": [
      "Scraping Pole Studio Data from https://www.eversports.de/s/koerpernah...\n",
      "Scraping Workshops Data from https://www.eversports.de/sw/koerpernah...\n",
      "Scraping Workshop Details from https://www.eversports.de/e/workshop/ETuGX5O...\n",
      "Scraping Workshop Details from https://www.eversports.de/e/workshop/Bre34FB...\n",
      "Scraping Workshop Details from https://www.eversports.de/e/workshop/0ktpuKQ...\n",
      "Scraping Workshop Details from https://www.eversports.de/e/workshop/Js7a_FB...\n",
      "Scraping Workshop Details from https://www.eversports.de/e/workshop/H_ElTJN...\n"
     ]
    },
    {
     "name": "stderr",
     "output_type": "stream",
     "text": [
      "Processing URLs:  48%|████▊     | 241/502 [11:28<19:51,  4.57s/it]"
     ]
    },
    {
     "name": "stdout",
     "output_type": "stream",
     "text": [
      "\n",
      "Processing completed.\n",
      "-------------------------------- \n",
      "\n",
      "2024-03-11 18:37:30 - INFO - Scraping Data from: https://www.eversports.de/s/koerpernah\n",
      "Pole Studio Data: 1 entries\n",
      "2024-03-11 18:37:30 - INFO - Scraping Data from: https://www.eversports.de/s/koerpernah\n",
      "Workshops Data: 5 entries\n",
      "2024-03-11 18:37:30 - INFO - Scraping Data from: https://www.eversports.de/s/koerpernah\n",
      "Workshop Details: 5 entries\n",
      "Starting URL reconstruction...\n"
     ]
    },
    {
     "name": "stderr",
     "output_type": "stream",
     "text": [
      "2024-03-11 18:37:31,917 - INFO - Processing URL 1/1: https://www.eversports.de/s/pole-dance-factory-amsterdam-noord\n"
     ]
    },
    {
     "name": "stdout",
     "output_type": "stream",
     "text": [
      "Converting to DataFrame...\n",
      "Validating URLs...\n"
     ]
    },
    {
     "name": "stderr",
     "output_type": "stream",
     "text": [
      "2024-03-11 18:37:33,097 - INFO - URL https://www.eversports.de/s/pole-dance-factory-amsterdam-noord is valid.\n"
     ]
    },
    {
     "name": "stdout",
     "output_type": "stream",
     "text": [
      "Scraping Pole Studio Data from https://www.eversports.de/s/pole-dance-factory-amsterdam-noord...\n"
     ]
    },
    {
     "name": "stderr",
     "output_type": "stream",
     "text": [
      "Processing URLs:  48%|████▊     | 242/502 [11:32<18:34,  4.29s/it]"
     ]
    },
    {
     "name": "stdout",
     "output_type": "stream",
     "text": [
      "\n",
      "Processing completed.\n",
      "-------------------------------- \n",
      "\n",
      "2024-03-11 18:37:33 - INFO - Scraping Data from: https://www.eversports.nl/s/pole-dance-factory-amsterdam-noord\n",
      "Pole Studio Data: 1 entries\n",
      "Starting URL reconstruction...\n"
     ]
    },
    {
     "name": "stderr",
     "output_type": "stream",
     "text": [
      "2024-03-11 18:37:36,363 - INFO - Processing URL 1/1: https://www.eversports.de/s/spiritn-roses\n"
     ]
    },
    {
     "name": "stdout",
     "output_type": "stream",
     "text": [
      "Converting to DataFrame...\n",
      "Validating URLs...\n"
     ]
    },
    {
     "name": "stderr",
     "output_type": "stream",
     "text": [
      "2024-03-11 18:37:37,271 - INFO - URL https://www.eversports.de/s/spiritn-roses is valid.\n"
     ]
    },
    {
     "name": "stdout",
     "output_type": "stream",
     "text": [
      "Scraping Pole Studio Data from https://www.eversports.de/s/spiritn-roses...\n"
     ]
    },
    {
     "name": "stderr",
     "output_type": "stream",
     "text": [
      "Processing URLs:  48%|████▊     | 243/502 [11:36<18:06,  4.19s/it]"
     ]
    },
    {
     "name": "stdout",
     "output_type": "stream",
     "text": [
      "\n",
      "Processing completed.\n",
      "-------------------------------- \n",
      "\n",
      "2024-03-11 18:37:37 - INFO - Scraping Data from: https://www.eversports.nl/s/spiritn-roses\n",
      "Pole Studio Data: 1 entries\n",
      "Starting URL reconstruction...\n"
     ]
    },
    {
     "name": "stderr",
     "output_type": "stream",
     "text": [
      "Processing URLs:  49%|████▊     | 244/502 [11:37<13:31,  3.15s/it]"
     ]
    },
    {
     "name": "stdout",
     "output_type": "stream",
     "text": [
      "Error during HTTP request: 404 Client Error: Not Found for url: https://www.eversports.de/s/polevybe\n",
      "Converting to DataFrame...\n",
      "Validating URLs...\n",
      "\n",
      "Processing completed.\n",
      "-------------------------------- \n",
      "\n",
      "Starting URL reconstruction...\n"
     ]
    },
    {
     "name": "stderr",
     "output_type": "stream",
     "text": [
      "Processing URLs:  49%|████▉     | 245/502 [11:37<10:14,  2.39s/it]"
     ]
    },
    {
     "name": "stdout",
     "output_type": "stream",
     "text": [
      "Error during HTTP request: 404 Client Error: Not Found for url: https://www.eversports.de/s/poledance!-aerial-%26-fitness-flensburg-wees\n",
      "Converting to DataFrame...\n",
      "Validating URLs...\n",
      "\n",
      "Processing completed.\n",
      "-------------------------------- \n",
      "\n",
      "Starting URL reconstruction...\n"
     ]
    },
    {
     "name": "stderr",
     "output_type": "stream",
     "text": [
      "Processing URLs:  49%|████▉     | 246/502 [11:38<08:00,  1.88s/it]"
     ]
    },
    {
     "name": "stdout",
     "output_type": "stream",
     "text": [
      "Error during HTTP request: 404 Client Error: Not Found for url: https://www.eversports.de/s/poledancestar-leipzig\n",
      "Converting to DataFrame...\n",
      "Validating URLs...\n",
      "\n",
      "Processing completed.\n",
      "-------------------------------- \n",
      "\n",
      "Starting URL reconstruction...\n"
     ]
    },
    {
     "name": "stderr",
     "output_type": "stream",
     "text": [
      "Processing URLs:  49%|████▉     | 247/502 [11:39<07:09,  1.68s/it]"
     ]
    },
    {
     "name": "stdout",
     "output_type": "stream",
     "text": [
      "Error during HTTP request: 404 Client Error: Not Found for url: https://www.eversports.de/s/le-chat-noir-berlin\n",
      "Converting to DataFrame...\n",
      "Validating URLs...\n",
      "\n",
      "Processing completed.\n",
      "-------------------------------- \n",
      "\n",
      "Starting URL reconstruction...\n"
     ]
    },
    {
     "name": "stderr",
     "output_type": "stream",
     "text": [
      "2024-03-11 18:37:42,485 - INFO - Processing URL 1/1: https://www.eversports.de/s/air-dance-school-flagey\n"
     ]
    },
    {
     "name": "stdout",
     "output_type": "stream",
     "text": [
      "Converting to DataFrame...\n",
      "Validating URLs...\n"
     ]
    },
    {
     "name": "stderr",
     "output_type": "stream",
     "text": [
      "2024-03-11 18:37:43,250 - INFO - URL https://www.eversports.de/s/air-dance-school-flagey is valid.\n"
     ]
    },
    {
     "name": "stdout",
     "output_type": "stream",
     "text": [
      "Scraping Pole Studio Data from https://www.eversports.de/s/air-dance-school-flagey...\n"
     ]
    },
    {
     "name": "stderr",
     "output_type": "stream",
     "text": [
      "Processing URLs:  49%|████▉     | 248/502 [11:42<08:57,  2.12s/it]"
     ]
    },
    {
     "name": "stdout",
     "output_type": "stream",
     "text": [
      "\n",
      "Processing completed.\n",
      "-------------------------------- \n",
      "\n",
      "2024-03-11 18:37:44 - INFO - Scraping Data from: https://www.eversports.be/s/air-dance-school-flagey\n",
      "Pole Studio Data: 1 entries\n",
      "Starting URL reconstruction...\n"
     ]
    },
    {
     "name": "stderr",
     "output_type": "stream",
     "text": [
      "Processing URLs:  50%|████▉     | 249/502 [11:43<07:04,  1.68s/it]"
     ]
    },
    {
     "name": "stdout",
     "output_type": "stream",
     "text": [
      "Error during HTTP request: 404 Client Error: Not Found for url: https://www.eversports.de/s/tanzteufel-denzlingen\n",
      "Converting to DataFrame...\n",
      "Validating URLs...\n",
      "\n",
      "Processing completed.\n",
      "-------------------------------- \n",
      "\n",
      "Starting URL reconstruction...\n"
     ]
    },
    {
     "name": "stderr",
     "output_type": "stream",
     "text": [
      "2024-03-11 18:37:45,791 - INFO - Processing URL 1/2: https://www.eversports.de/s/infinityarts\n"
     ]
    },
    {
     "name": "stdout",
     "output_type": "stream",
     "text": [
      "Converting to DataFrame...\n",
      "Validating URLs...\n"
     ]
    },
    {
     "name": "stderr",
     "output_type": "stream",
     "text": [
      "2024-03-11 18:37:47,301 - INFO - URL https://www.eversports.de/s/infinityarts is valid.\n",
      "2024-03-11 18:37:47,302 - INFO - Processing URL 2/2: https://www.eversports.de/sw/infinityarts\n",
      "2024-03-11 18:37:47,938 - INFO - URL https://www.eversports.de/sw/infinityarts is valid.\n"
     ]
    },
    {
     "name": "stdout",
     "output_type": "stream",
     "text": [
      "Scraping Pole Studio Data from https://www.eversports.de/s/infinityarts...\n",
      "Scraping Workshops Data from https://www.eversports.de/sw/infinityarts...\n",
      "Scraping Workshop Details from https://www.eversports.de/e/workshop/knYuKFv...\n",
      "Scraping Workshop Details from https://www.eversports.de/e/workshop/wsoYgNl...\n"
     ]
    },
    {
     "name": "stderr",
     "output_type": "stream",
     "text": [
      "Processing URLs:  50%|████▉     | 250/502 [11:49<13:17,  3.16s/it]"
     ]
    },
    {
     "name": "stdout",
     "output_type": "stream",
     "text": [
      "\n",
      "Processing completed.\n",
      "-------------------------------- \n",
      "\n",
      "2024-03-11 18:37:51 - INFO - Scraping Data from: https://www.eversports.de/s/infinityarts\n",
      "Pole Studio Data: 1 entries\n",
      "2024-03-11 18:37:51 - INFO - Scraping Data from: https://www.eversports.de/s/infinityarts\n",
      "Workshops Data: 2 entries\n",
      "2024-03-11 18:37:51 - INFO - Scraping Data from: https://www.eversports.de/s/infinityarts\n",
      "Workshop Details: 2 entries\n",
      "Starting URL reconstruction...\n"
     ]
    },
    {
     "name": "stderr",
     "output_type": "stream",
     "text": [
      "2024-03-11 18:37:52,195 - INFO - Processing URL 1/1: https://www.eversports.de/s/polesition-regensburg\n"
     ]
    },
    {
     "name": "stdout",
     "output_type": "stream",
     "text": [
      "Converting to DataFrame...\n",
      "Validating URLs...\n"
     ]
    },
    {
     "name": "stderr",
     "output_type": "stream",
     "text": [
      "2024-03-11 18:37:53,375 - INFO - URL https://www.eversports.de/s/polesition-regensburg is valid.\n"
     ]
    },
    {
     "name": "stdout",
     "output_type": "stream",
     "text": [
      "Scraping Pole Studio Data from https://www.eversports.de/s/polesition-regensburg...\n"
     ]
    },
    {
     "name": "stderr",
     "output_type": "stream",
     "text": [
      "Processing URLs:  50%|█████     | 251/502 [11:53<13:33,  3.24s/it]"
     ]
    },
    {
     "name": "stdout",
     "output_type": "stream",
     "text": [
      "\n",
      "Processing completed.\n",
      "-------------------------------- \n",
      "\n",
      "2024-03-11 18:37:54 - INFO - Scraping Data from: https://www.eversports.de/s/polesition-regensburg\n",
      "Pole Studio Data: 1 entries\n",
      "Starting URL reconstruction...\n"
     ]
    },
    {
     "name": "stderr",
     "output_type": "stream",
     "text": [
      "2024-03-11 18:37:55,643 - INFO - Processing URL 1/2: https://www.eversports.de/s/pole-faction-rhein-neckar\n"
     ]
    },
    {
     "name": "stdout",
     "output_type": "stream",
     "text": [
      "Converting to DataFrame...\n",
      "Validating URLs...\n"
     ]
    },
    {
     "name": "stderr",
     "output_type": "stream",
     "text": [
      "2024-03-11 18:37:56,656 - INFO - URL https://www.eversports.de/s/pole-faction-rhein-neckar is valid.\n",
      "2024-03-11 18:37:56,658 - INFO - Processing URL 2/2: https://www.eversports.de/sw/pole-faction-rhein-neckar\n",
      "2024-03-11 18:37:58,314 - INFO - URL https://www.eversports.de/sw/pole-faction-rhein-neckar is valid.\n"
     ]
    },
    {
     "name": "stdout",
     "output_type": "stream",
     "text": [
      "Scraping Pole Studio Data from https://www.eversports.de/s/pole-faction-rhein-neckar...\n",
      "Scraping Workshops Data from https://www.eversports.de/sw/pole-faction-rhein-neckar...\n",
      "Scraping Workshop Details from https://www.eversports.de/e/workshop/VtQCbbh...\n",
      "Scraping Workshop Details from https://www.eversports.de/e/workshop/Pi9Ivxi...\n"
     ]
    },
    {
     "name": "stderr",
     "output_type": "stream",
     "text": [
      "Processing URLs:  50%|█████     | 252/502 [11:59<17:10,  4.12s/it]"
     ]
    },
    {
     "name": "stdout",
     "output_type": "stream",
     "text": [
      "\n",
      "Processing completed.\n",
      "-------------------------------- \n",
      "\n",
      "2024-03-11 18:38:00 - INFO - Scraping Data from: https://www.eversports.de/s/pole-faction-rhein-neckar\n",
      "Pole Studio Data: 1 entries\n",
      "2024-03-11 18:38:00 - INFO - Scraping Data from: https://www.eversports.de/s/pole-faction-rhein-neckar\n",
      "Workshops Data: 2 entries\n",
      "2024-03-11 18:38:00 - INFO - Scraping Data from: https://www.eversports.de/s/pole-faction-rhein-neckar\n",
      "Workshop Details: 2 entries\n",
      "Starting URL reconstruction...\n"
     ]
    },
    {
     "name": "stderr",
     "output_type": "stream",
     "text": [
      "2024-03-11 18:38:01,719 - INFO - Processing URL 1/1: https://www.eversports.de/s/welovepoledance\n"
     ]
    },
    {
     "name": "stdout",
     "output_type": "stream",
     "text": [
      "Converting to DataFrame...\n",
      "Validating URLs...\n"
     ]
    },
    {
     "name": "stderr",
     "output_type": "stream",
     "text": [
      "2024-03-11 18:38:02,807 - INFO - URL https://www.eversports.de/s/welovepoledance is valid.\n"
     ]
    },
    {
     "name": "stdout",
     "output_type": "stream",
     "text": [
      "Scraping Pole Studio Data from https://www.eversports.de/s/welovepoledance...\n"
     ]
    },
    {
     "name": "stderr",
     "output_type": "stream",
     "text": [
      "Processing URLs:  50%|█████     | 253/502 [12:01<14:37,  3.52s/it]"
     ]
    },
    {
     "name": "stdout",
     "output_type": "stream",
     "text": [
      "\n",
      "Processing completed.\n",
      "-------------------------------- \n",
      "\n",
      "2024-03-11 18:38:03 - INFO - Scraping Data from: https://www.eversports.de/s/welovepoledance\n",
      "Pole Studio Data: 1 entries\n",
      "Starting URL reconstruction...\n"
     ]
    },
    {
     "name": "stderr",
     "output_type": "stream",
     "text": [
      "Processing URLs:  51%|█████     | 254/502 [12:03<12:36,  3.05s/it]"
     ]
    },
    {
     "name": "stdout",
     "output_type": "stream",
     "text": [
      "Error during HTTP request: 404 Client Error: Not Found for url: https://www.eversports.de/s/passionate-pole-%26-sports\n",
      "Converting to DataFrame...\n",
      "Validating URLs...\n",
      "\n",
      "Processing completed.\n",
      "-------------------------------- \n",
      "\n",
      "Starting URL reconstruction...\n"
     ]
    },
    {
     "name": "stderr",
     "output_type": "stream",
     "text": [
      "Processing URLs:  51%|█████     | 255/502 [12:04<09:39,  2.35s/it]"
     ]
    },
    {
     "name": "stdout",
     "output_type": "stream",
     "text": [
      "Error during HTTP request: 404 Client Error: Not Found for url: https://www.eversports.de/s/les.pole\n",
      "Converting to DataFrame...\n",
      "Validating URLs...\n",
      "\n",
      "Processing completed.\n",
      "-------------------------------- \n",
      "\n",
      "Starting URL reconstruction...\n"
     ]
    },
    {
     "name": "stderr",
     "output_type": "stream",
     "text": [
      "Processing URLs:  51%|█████     | 256/502 [12:07<11:07,  2.71s/it]"
     ]
    },
    {
     "name": "stdout",
     "output_type": "stream",
     "text": [
      "Error during HTTP request: Exceeded 30 redirects.\n",
      "Converting to DataFrame...\n",
      "Validating URLs...\n",
      "\n",
      "Processing completed.\n",
      "-------------------------------- \n",
      "\n",
      "Starting URL reconstruction...\n"
     ]
    },
    {
     "name": "stderr",
     "output_type": "stream",
     "text": [
      "2024-03-11 18:38:10,147 - INFO - Processing URL 1/1: https://www.eversports.de/s/st-polestudio\n"
     ]
    },
    {
     "name": "stdout",
     "output_type": "stream",
     "text": [
      "Converting to DataFrame...\n",
      "Validating URLs...\n"
     ]
    },
    {
     "name": "stderr",
     "output_type": "stream",
     "text": [
      "2024-03-11 18:38:11,508 - INFO - URL https://www.eversports.de/s/st-polestudio is valid.\n"
     ]
    },
    {
     "name": "stdout",
     "output_type": "stream",
     "text": [
      "Scraping Pole Studio Data from https://www.eversports.de/s/st-polestudio...\n"
     ]
    },
    {
     "name": "stderr",
     "output_type": "stream",
     "text": [
      "Processing URLs:  51%|█████     | 257/502 [12:10<10:50,  2.65s/it]"
     ]
    },
    {
     "name": "stdout",
     "output_type": "stream",
     "text": [
      "\n",
      "Processing completed.\n",
      "-------------------------------- \n",
      "\n",
      "2024-03-11 18:38:11 - INFO - Scraping Data from: https://www.eversports.de/s/st-polestudio\n",
      "Pole Studio Data: 1 entries\n",
      "Starting URL reconstruction...\n"
     ]
    },
    {
     "name": "stderr",
     "output_type": "stream",
     "text": [
      "2024-03-11 18:38:12,963 - INFO - Processing URL 1/2: https://www.eversports.de/s/aerialflow\n"
     ]
    },
    {
     "name": "stdout",
     "output_type": "stream",
     "text": [
      "Converting to DataFrame...\n",
      "Validating URLs...\n"
     ]
    },
    {
     "name": "stderr",
     "output_type": "stream",
     "text": [
      "2024-03-11 18:38:13,893 - INFO - URL https://www.eversports.de/s/aerialflow is valid.\n",
      "2024-03-11 18:38:13,894 - INFO - Processing URL 2/2: https://www.eversports.de/sw/aerialflow\n",
      "2024-03-11 18:38:14,573 - INFO - URL https://www.eversports.de/sw/aerialflow is valid.\n"
     ]
    },
    {
     "name": "stdout",
     "output_type": "stream",
     "text": [
      "Scraping Pole Studio Data from https://www.eversports.de/s/aerialflow...\n",
      "Scraping Workshops Data from https://www.eversports.de/sw/aerialflow...\n",
      "Scraping Workshop Details from https://www.eversports.de/e/workshop/OQN28ZD...\n"
     ]
    },
    {
     "name": "stderr",
     "output_type": "stream",
     "text": [
      "Processing URLs:  51%|█████▏    | 258/502 [12:15<13:26,  3.30s/it]"
     ]
    },
    {
     "name": "stdout",
     "output_type": "stream",
     "text": [
      "\n",
      "Processing completed.\n",
      "-------------------------------- \n",
      "\n",
      "2024-03-11 18:38:16 - INFO - Scraping Data from: https://www.eversports.de/s/aerialflow\n",
      "Pole Studio Data: 1 entries\n",
      "2024-03-11 18:38:16 - INFO - Scraping Data from: https://www.eversports.de/s/aerialflow\n",
      "Workshops Data: 1 entries\n",
      "2024-03-11 18:38:16 - INFO - Scraping Data from: https://www.eversports.de/s/aerialflow\n",
      "Workshop Details: 1 entries\n",
      "Starting URL reconstruction...\n"
     ]
    },
    {
     "name": "stderr",
     "output_type": "stream",
     "text": [
      "2024-03-11 18:38:17,561 - INFO - Processing URL 1/2: https://www.eversports.de/s/a-heart-for-poledance-1\n"
     ]
    },
    {
     "name": "stdout",
     "output_type": "stream",
     "text": [
      "Converting to DataFrame...\n",
      "Validating URLs...\n"
     ]
    },
    {
     "name": "stderr",
     "output_type": "stream",
     "text": [
      "2024-03-11 18:38:18,318 - INFO - URL https://www.eversports.de/s/a-heart-for-poledance-1 is valid.\n",
      "2024-03-11 18:38:18,320 - INFO - Processing URL 2/2: https://www.eversports.de/sw/a-heart-for-poledance-1\n",
      "2024-03-11 18:38:19,328 - INFO - URL https://www.eversports.de/sw/a-heart-for-poledance-1 is valid.\n"
     ]
    },
    {
     "name": "stdout",
     "output_type": "stream",
     "text": [
      "Scraping Pole Studio Data from https://www.eversports.de/s/a-heart-for-poledance-1...\n",
      "Scraping Workshops Data from https://www.eversports.de/sw/a-heart-for-poledance-1...\n",
      "Scraping Workshop Details from https://www.eversports.de/e/workshop/jQOaOC3...\n",
      "Scraping Workshop Details from https://www.eversports.de/e/workshop/H4Qz_fT...\n",
      "Scraping Workshop Details from https://www.eversports.de/e/workshop/nOac6zt...\n",
      "Scraping Workshop Details from https://www.eversports.de/e/workshop/yMiXoIi...\n"
     ]
    },
    {
     "name": "stderr",
     "output_type": "stream",
     "text": [
      "Processing URLs:  52%|█████▏    | 259/502 [12:22<18:07,  4.47s/it]"
     ]
    },
    {
     "name": "stdout",
     "output_type": "stream",
     "text": [
      "\n",
      "Processing completed.\n",
      "-------------------------------- \n",
      "\n",
      "2024-03-11 18:38:23 - INFO - Scraping Data from: https://www.eversports.de/s/a-heart-for-poledance-1\n",
      "Pole Studio Data: 1 entries\n",
      "2024-03-11 18:38:23 - INFO - Scraping Data from: https://www.eversports.de/s/a-heart-for-poledance-1\n",
      "Workshops Data: 4 entries\n",
      "2024-03-11 18:38:23 - INFO - Scraping Data from: https://www.eversports.de/s/a-heart-for-poledance-1\n",
      "Workshop Details: 4 entries\n",
      "Starting URL reconstruction...\n"
     ]
    },
    {
     "name": "stderr",
     "output_type": "stream",
     "text": [
      "Processing URLs:  52%|█████▏    | 260/502 [12:23<13:25,  3.33s/it]"
     ]
    },
    {
     "name": "stdout",
     "output_type": "stream",
     "text": [
      "Error during HTTP request: 404 Client Error: Not Found for url: https://www.eversports.de/s/vertical-ab\n",
      "Converting to DataFrame...\n",
      "Validating URLs...\n",
      "\n",
      "Processing completed.\n",
      "-------------------------------- \n",
      "\n",
      "Starting URL reconstruction...\n"
     ]
    },
    {
     "name": "stderr",
     "output_type": "stream",
     "text": [
      "2024-03-11 18:38:25,478 - INFO - Processing URL 1/1: https://www.eversports.de/s/polefriends-halle\n"
     ]
    },
    {
     "name": "stdout",
     "output_type": "stream",
     "text": [
      "Converting to DataFrame...\n",
      "Validating URLs...\n"
     ]
    },
    {
     "name": "stderr",
     "output_type": "stream",
     "text": [
      "2024-03-11 18:38:26,351 - INFO - URL https://www.eversports.de/s/polefriends-halle is valid.\n"
     ]
    },
    {
     "name": "stdout",
     "output_type": "stream",
     "text": [
      "Scraping Pole Studio Data from https://www.eversports.de/s/polefriends-halle...\n"
     ]
    },
    {
     "name": "stderr",
     "output_type": "stream",
     "text": [
      "Processing URLs:  52%|█████▏    | 261/502 [12:25<11:59,  2.98s/it]"
     ]
    },
    {
     "name": "stdout",
     "output_type": "stream",
     "text": [
      "\n",
      "Processing completed.\n",
      "-------------------------------- \n",
      "\n",
      "2024-03-11 18:38:26 - INFO - Scraping Data from: https://www.eversports.de/s/polefriends-halle\n",
      "Pole Studio Data: 1 entries\n",
      "Starting URL reconstruction...\n"
     ]
    },
    {
     "name": "stderr",
     "output_type": "stream",
     "text": [
      "2024-03-11 18:38:27,704 - INFO - Processing URL 1/2: https://www.eversports.de/s/pole-and-move-ludwigshafen\n"
     ]
    },
    {
     "name": "stdout",
     "output_type": "stream",
     "text": [
      "Converting to DataFrame...\n",
      "Validating URLs...\n"
     ]
    },
    {
     "name": "stderr",
     "output_type": "stream",
     "text": [
      "2024-03-11 18:38:29,011 - INFO - URL https://www.eversports.de/s/pole-and-move-ludwigshafen is valid.\n",
      "2024-03-11 18:38:29,012 - INFO - Processing URL 2/2: https://www.eversports.de/sw/pole-and-move-ludwigshafen\n",
      "2024-03-11 18:38:29,926 - INFO - URL https://www.eversports.de/sw/pole-and-move-ludwigshafen is valid.\n"
     ]
    },
    {
     "name": "stdout",
     "output_type": "stream",
     "text": [
      "Scraping Pole Studio Data from https://www.eversports.de/s/pole-and-move-ludwigshafen...\n",
      "Scraping Workshops Data from https://www.eversports.de/sw/pole-and-move-ludwigshafen...\n",
      "Scraping Workshop Details from https://www.eversports.de/e/workshop/Bq8SWzC...\n",
      "Scraping Workshop Details from https://www.eversports.de/e/workshop/ePH29kU...\n",
      "Scraping Workshop Details from https://www.eversports.de/e/workshop/fMcJ4cb...\n",
      "Scraping Workshop Details from https://www.eversports.de/e/workshop/ixC-WNj...\n"
     ]
    },
    {
     "name": "stderr",
     "output_type": "stream",
     "text": [
      "Processing URLs:  52%|█████▏    | 262/502 [12:32<17:22,  4.34s/it]"
     ]
    },
    {
     "name": "stdout",
     "output_type": "stream",
     "text": [
      "\n",
      "Processing completed.\n",
      "-------------------------------- \n",
      "\n",
      "2024-03-11 18:38:34 - INFO - Scraping Data from: https://www.eversports.de/s/pole-and-move-ludwigshafen\n",
      "Pole Studio Data: 1 entries\n",
      "2024-03-11 18:38:34 - INFO - Scraping Data from: https://www.eversports.de/s/pole-and-move-ludwigshafen\n",
      "Workshops Data: 4 entries\n",
      "2024-03-11 18:38:34 - INFO - Scraping Data from: https://www.eversports.de/s/pole-and-move-ludwigshafen\n",
      "Workshop Details: 4 entries\n",
      "Starting URL reconstruction...\n"
     ]
    },
    {
     "name": "stderr",
     "output_type": "stream",
     "text": [
      "Processing URLs:  52%|█████▏    | 263/502 [12:33<12:46,  3.21s/it]"
     ]
    },
    {
     "name": "stdout",
     "output_type": "stream",
     "text": [
      "Error during HTTP request: 404 Client Error: Not Found for url: https://www.eversports.de/s/spirit'n-roses\n",
      "Converting to DataFrame...\n",
      "Validating URLs...\n",
      "\n",
      "Processing completed.\n",
      "-------------------------------- \n",
      "\n",
      "Starting URL reconstruction...\n"
     ]
    },
    {
     "name": "stderr",
     "output_type": "stream",
     "text": [
      "2024-03-11 18:38:35,957 - INFO - Processing URL 1/1: https://www.eversports.de/s/nisa-verticals\n"
     ]
    },
    {
     "name": "stdout",
     "output_type": "stream",
     "text": [
      "Converting to DataFrame...\n",
      "Validating URLs...\n"
     ]
    },
    {
     "name": "stderr",
     "output_type": "stream",
     "text": [
      "2024-03-11 18:38:37,023 - INFO - URL https://www.eversports.de/s/nisa-verticals is valid.\n"
     ]
    },
    {
     "name": "stdout",
     "output_type": "stream",
     "text": [
      "Scraping Pole Studio Data from https://www.eversports.de/s/nisa-verticals...\n"
     ]
    },
    {
     "name": "stderr",
     "output_type": "stream",
     "text": [
      "Processing URLs:  53%|█████▎    | 264/502 [12:36<12:03,  3.04s/it]"
     ]
    },
    {
     "name": "stdout",
     "output_type": "stream",
     "text": [
      "\n",
      "Processing completed.\n",
      "-------------------------------- \n",
      "\n",
      "2024-03-11 18:38:37 - INFO - Scraping Data from: https://www.eversports.de/s/nisa-verticals\n",
      "Pole Studio Data: 1 entries\n",
      "Starting URL reconstruction...\n"
     ]
    },
    {
     "name": "stderr",
     "output_type": "stream",
     "text": [
      "Processing URLs:  53%|█████▎    | 265/502 [12:36<09:11,  2.33s/it]"
     ]
    },
    {
     "name": "stdout",
     "output_type": "stream",
     "text": [
      "Error during HTTP request: 404 Client Error: Not Found for url: https://www.eversports.de/s/pole-dance-power\n",
      "Converting to DataFrame...\n",
      "Validating URLs...\n",
      "\n",
      "Processing completed.\n",
      "-------------------------------- \n",
      "\n",
      "Starting URL reconstruction...\n"
     ]
    },
    {
     "name": "stderr",
     "output_type": "stream",
     "text": [
      "2024-03-11 18:38:39,291 - INFO - Processing URL 1/2: https://www.eversports.de/s/da-becca-flow-and-fit\n"
     ]
    },
    {
     "name": "stdout",
     "output_type": "stream",
     "text": [
      "Converting to DataFrame...\n",
      "Validating URLs...\n"
     ]
    },
    {
     "name": "stderr",
     "output_type": "stream",
     "text": [
      "2024-03-11 18:38:40,262 - INFO - URL https://www.eversports.de/s/da-becca-flow-and-fit is valid.\n",
      "2024-03-11 18:38:40,263 - INFO - Processing URL 2/2: https://www.eversports.de/sw/da-becca-flow-and-fit\n",
      "2024-03-11 18:38:41,447 - INFO - URL https://www.eversports.de/sw/da-becca-flow-and-fit is valid.\n"
     ]
    },
    {
     "name": "stdout",
     "output_type": "stream",
     "text": [
      "Scraping Pole Studio Data from https://www.eversports.de/s/da-becca-flow-and-fit...\n",
      "Scraping Workshops Data from https://www.eversports.de/sw/da-becca-flow-and-fit...\n",
      "Scraping Workshop Details from https://www.eversports.de/e/workshop/0u01Mza...\n",
      "Scraping Workshop Details from https://www.eversports.de/e/workshop/DBxar8u...\n",
      "Scraping Workshop Details from https://www.eversports.de/e/workshop/GlPG304...\n",
      "Scraping Workshop Details from https://www.eversports.de/e/workshop/wj20M8W...\n",
      "Scraping Workshop Details from https://www.eversports.de/e/workshop/113IYbR...\n",
      "Scraping Workshop Details from https://www.eversports.de/e/workshop/vyTj8JR...\n",
      "Scraping Workshop Details from https://www.eversports.de/e/workshop/GMeuKSV...\n",
      "Scraping Workshop Details from https://www.eversports.de/e/workshop/461op6s...\n",
      "Scraping Workshop Details from https://www.eversports.de/e/workshop/NrFmto0...\n",
      "Scraping Workshop Details from https://www.eversports.de/e/workshop/km4K7Yv...\n",
      "Scraping Workshop Details from https://www.eversports.de/e/workshop/B2Sz3mv...\n",
      "Scraping Workshop Details from https://www.eversports.de/e/workshop/HhyMbSA...\n",
      "Scraping Workshop Details from https://www.eversports.de/e/workshop/jJdILMv...\n"
     ]
    },
    {
     "name": "stderr",
     "output_type": "stream",
     "text": [
      "Processing URLs:  53%|█████▎    | 266/502 [12:53<26:46,  6.81s/it]"
     ]
    },
    {
     "name": "stdout",
     "output_type": "stream",
     "text": [
      "\n",
      "Processing completed.\n",
      "-------------------------------- \n",
      "\n",
      "2024-03-11 18:38:55 - INFO - Scraping Data from: https://www.eversports.de/s/da-becca-flow-and-fit\n",
      "Pole Studio Data: 1 entries\n",
      "2024-03-11 18:38:55 - INFO - Scraping Data from: https://www.eversports.de/s/da-becca-flow-and-fit\n",
      "Workshops Data: 13 entries\n",
      "2024-03-11 18:38:55 - INFO - Scraping Data from: https://www.eversports.de/s/da-becca-flow-and-fit\n",
      "Workshop Details: 13 entries\n",
      "Starting URL reconstruction...\n"
     ]
    },
    {
     "name": "stderr",
     "output_type": "stream",
     "text": [
      "Processing URLs:  53%|█████▎    | 267/502 [12:54<19:32,  4.99s/it]"
     ]
    },
    {
     "name": "stdout",
     "output_type": "stream",
     "text": [
      "Error during HTTP request: 404 Client Error: Not Found for url: https://www.eversports.de/s/polea---pole-and-aerial-dance\n",
      "Converting to DataFrame...\n",
      "Validating URLs...\n",
      "\n",
      "Processing completed.\n",
      "-------------------------------- \n",
      "\n",
      "Starting URL reconstruction...\n"
     ]
    },
    {
     "name": "stderr",
     "output_type": "stream",
     "text": [
      "2024-03-11 18:38:57,006 - INFO - Processing URL 1/1: https://www.eversports.de/s/studio-nienke\n"
     ]
    },
    {
     "name": "stdout",
     "output_type": "stream",
     "text": [
      "Converting to DataFrame...\n",
      "Validating URLs...\n"
     ]
    },
    {
     "name": "stderr",
     "output_type": "stream",
     "text": [
      "2024-03-11 18:38:57,847 - INFO - URL https://www.eversports.de/s/studio-nienke is valid.\n"
     ]
    },
    {
     "name": "stdout",
     "output_type": "stream",
     "text": [
      "Scraping Pole Studio Data from https://www.eversports.de/s/studio-nienke...\n"
     ]
    },
    {
     "name": "stderr",
     "output_type": "stream",
     "text": [
      "Processing URLs:  53%|█████▎    | 268/502 [12:56<16:10,  4.15s/it]"
     ]
    },
    {
     "name": "stdout",
     "output_type": "stream",
     "text": [
      "\n",
      "Processing completed.\n",
      "-------------------------------- \n",
      "\n",
      "2024-03-11 18:38:58 - INFO - Scraping Data from: https://www.eversports.de/s/studio-nienke\n",
      "Pole Studio Data: 1 entries\n",
      "Starting URL reconstruction...\n"
     ]
    },
    {
     "name": "stderr",
     "output_type": "stream",
     "text": [
      "2024-03-11 18:38:59,781 - INFO - Processing URL 1/1: https://www.eversports.de/s/secret-moves-athletic-dance-studio\n"
     ]
    },
    {
     "name": "stdout",
     "output_type": "stream",
     "text": [
      "Converting to DataFrame...\n",
      "Validating URLs...\n"
     ]
    },
    {
     "name": "stderr",
     "output_type": "stream",
     "text": [
      "2024-03-11 18:39:00,851 - INFO - URL https://www.eversports.de/s/secret-moves-athletic-dance-studio is valid.\n"
     ]
    },
    {
     "name": "stdout",
     "output_type": "stream",
     "text": [
      "Scraping Pole Studio Data from https://www.eversports.de/s/secret-moves-athletic-dance-studio...\n"
     ]
    },
    {
     "name": "stderr",
     "output_type": "stream",
     "text": [
      "Processing URLs:  54%|█████▎    | 269/502 [12:59<14:47,  3.81s/it]"
     ]
    },
    {
     "name": "stdout",
     "output_type": "stream",
     "text": [
      "\n",
      "Processing completed.\n",
      "-------------------------------- \n",
      "\n",
      "2024-03-11 18:39:01 - INFO - Scraping Data from: https://www.eversports.de/s/secret-moves-athletic-dance-studio\n",
      "Pole Studio Data: 1 entries\n",
      "Starting URL reconstruction...\n"
     ]
    },
    {
     "name": "stderr",
     "output_type": "stream",
     "text": [
      "2024-03-11 18:39:03,161 - INFO - Processing URL 1/1: https://www.eversports.de/s/verticale\n"
     ]
    },
    {
     "name": "stdout",
     "output_type": "stream",
     "text": [
      "Converting to DataFrame...\n",
      "Validating URLs...\n"
     ]
    },
    {
     "name": "stderr",
     "output_type": "stream",
     "text": [
      "2024-03-11 18:39:03,946 - INFO - URL https://www.eversports.de/s/verticale is valid.\n"
     ]
    },
    {
     "name": "stdout",
     "output_type": "stream",
     "text": [
      "Scraping Pole Studio Data from https://www.eversports.de/s/verticale...\n"
     ]
    },
    {
     "name": "stderr",
     "output_type": "stream",
     "text": [
      "Processing URLs:  54%|█████▍    | 270/502 [13:02<13:47,  3.57s/it]"
     ]
    },
    {
     "name": "stdout",
     "output_type": "stream",
     "text": [
      "\n",
      "Processing completed.\n",
      "-------------------------------- \n",
      "\n",
      "2024-03-11 18:39:04 - INFO - Scraping Data from: https://www.eversports.be/s/verticale\n",
      "Pole Studio Data: 1 entries\n",
      "Starting URL reconstruction...\n"
     ]
    },
    {
     "name": "stderr",
     "output_type": "stream",
     "text": [
      "2024-03-11 18:39:05,129 - INFO - Processing URL 1/1: https://www.eversports.de/s/pole-your-body\n"
     ]
    },
    {
     "name": "stdout",
     "output_type": "stream",
     "text": [
      "Converting to DataFrame...\n",
      "Validating URLs...\n"
     ]
    },
    {
     "name": "stderr",
     "output_type": "stream",
     "text": [
      "2024-03-11 18:39:05,896 - INFO - URL https://www.eversports.de/s/pole-your-body is valid.\n"
     ]
    },
    {
     "name": "stdout",
     "output_type": "stream",
     "text": [
      "Scraping Pole Studio Data from https://www.eversports.de/s/pole-your-body...\n"
     ]
    },
    {
     "name": "stderr",
     "output_type": "stream",
     "text": [
      "Processing URLs:  54%|█████▍    | 271/502 [13:04<11:49,  3.07s/it]"
     ]
    },
    {
     "name": "stdout",
     "output_type": "stream",
     "text": [
      "\n",
      "Processing completed.\n",
      "-------------------------------- \n",
      "\n",
      "2024-03-11 18:39:06 - INFO - Scraping Data from: https://www.eversports.de/s/pole-your-body\n",
      "Pole Studio Data: 1 entries\n",
      "Starting URL reconstruction...\n"
     ]
    },
    {
     "name": "stderr",
     "output_type": "stream",
     "text": [
      "Processing URLs:  54%|█████▍    | 272/502 [13:05<08:57,  2.34s/it]"
     ]
    },
    {
     "name": "stdout",
     "output_type": "stream",
     "text": [
      "Error during HTTP request: 404 Client Error: Not Found for url: https://www.eversports.de/s/fl'air-studios-berlin\n",
      "Converting to DataFrame...\n",
      "Validating URLs...\n",
      "\n",
      "Processing completed.\n",
      "-------------------------------- \n",
      "\n",
      "Starting URL reconstruction...\n"
     ]
    },
    {
     "name": "stderr",
     "output_type": "stream",
     "text": [
      "2024-03-11 18:39:07,663 - INFO - Processing URL 1/1: https://www.eversports.de/s/pole-heaven\n"
     ]
    },
    {
     "name": "stdout",
     "output_type": "stream",
     "text": [
      "Converting to DataFrame...\n",
      "Validating URLs...\n"
     ]
    },
    {
     "name": "stderr",
     "output_type": "stream",
     "text": [
      "2024-03-11 18:39:08,403 - INFO - URL https://www.eversports.de/s/pole-heaven is valid.\n"
     ]
    },
    {
     "name": "stdout",
     "output_type": "stream",
     "text": [
      "Scraping Pole Studio Data from https://www.eversports.de/s/pole-heaven...\n"
     ]
    },
    {
     "name": "stderr",
     "output_type": "stream",
     "text": [
      "Processing URLs:  54%|█████▍    | 273/502 [13:07<08:20,  2.18s/it]"
     ]
    },
    {
     "name": "stdout",
     "output_type": "stream",
     "text": [
      "\n",
      "Processing completed.\n",
      "-------------------------------- \n",
      "\n",
      "2024-03-11 18:39:08 - INFO - Scraping Data from: https://www.eversports.de/s/pole-heaven\n",
      "Pole Studio Data: 1 entries\n",
      "Starting URL reconstruction...\n"
     ]
    },
    {
     "name": "stderr",
     "output_type": "stream",
     "text": [
      "Processing URLs:  55%|█████▍    | 274/502 [13:07<06:36,  1.74s/it]"
     ]
    },
    {
     "name": "stdout",
     "output_type": "stream",
     "text": [
      "Error during HTTP request: 404 Client Error: Not Found for url: https://www.eversports.de/s/sky-move-pole-sport\n",
      "Converting to DataFrame...\n",
      "Validating URLs...\n",
      "\n",
      "Processing completed.\n",
      "-------------------------------- \n",
      "\n",
      "Starting URL reconstruction...\n"
     ]
    },
    {
     "name": "stderr",
     "output_type": "stream",
     "text": [
      "2024-03-11 18:39:10,595 - INFO - Processing URL 1/1: https://www.eversports.de/s/loft1-basel-city\n"
     ]
    },
    {
     "name": "stdout",
     "output_type": "stream",
     "text": [
      "Converting to DataFrame...\n",
      "Validating URLs...\n"
     ]
    },
    {
     "name": "stderr",
     "output_type": "stream",
     "text": [
      "2024-03-11 18:39:11,613 - INFO - URL https://www.eversports.de/s/loft1-basel-city is valid.\n"
     ]
    },
    {
     "name": "stdout",
     "output_type": "stream",
     "text": [
      "Scraping Pole Studio Data from https://www.eversports.de/s/loft1-basel-city...\n"
     ]
    },
    {
     "name": "stderr",
     "output_type": "stream",
     "text": [
      "Processing URLs:  55%|█████▍    | 275/502 [13:11<08:23,  2.22s/it]"
     ]
    },
    {
     "name": "stdout",
     "output_type": "stream",
     "text": [
      "\n",
      "Processing completed.\n",
      "-------------------------------- \n",
      "\n",
      "2024-03-11 18:39:12 - INFO - Scraping Data from: https://www.eversports.de/s/loft1-basel-city\n",
      "Pole Studio Data: 1 entries\n",
      "Starting URL reconstruction...\n"
     ]
    },
    {
     "name": "stderr",
     "output_type": "stream",
     "text": [
      "2024-03-11 18:39:13,811 - INFO - Processing URL 1/1: https://www.eversports.de/s/poleworkx\n"
     ]
    },
    {
     "name": "stdout",
     "output_type": "stream",
     "text": [
      "Converting to DataFrame...\n",
      "Validating URLs...\n"
     ]
    },
    {
     "name": "stderr",
     "output_type": "stream",
     "text": [
      "2024-03-11 18:39:14,504 - INFO - URL https://www.eversports.de/s/poleworkx is valid.\n"
     ]
    },
    {
     "name": "stdout",
     "output_type": "stream",
     "text": [
      "Scraping Pole Studio Data from https://www.eversports.de/s/poleworkx...\n"
     ]
    },
    {
     "name": "stderr",
     "output_type": "stream",
     "text": [
      "Processing URLs:  55%|█████▍    | 276/502 [13:14<08:55,  2.37s/it]"
     ]
    },
    {
     "name": "stdout",
     "output_type": "stream",
     "text": [
      "\n",
      "Processing completed.\n",
      "-------------------------------- \n",
      "\n",
      "2024-03-11 18:39:15 - INFO - Scraping Data from: https://www.eversports.de/s/poleworkx\n",
      "Pole Studio Data: 1 entries\n",
      "Starting URL reconstruction...\n"
     ]
    },
    {
     "name": "stderr",
     "output_type": "stream",
     "text": [
      "Processing URLs:  55%|█████▌    | 277/502 [13:14<06:53,  1.84s/it]"
     ]
    },
    {
     "name": "stdout",
     "output_type": "stream",
     "text": [
      "Error during HTTP request: 404 Client Error: Not Found for url: https://www.eversports.de/s/poleria\n",
      "Converting to DataFrame...\n",
      "Validating URLs...\n",
      "\n",
      "Processing completed.\n",
      "-------------------------------- \n",
      "\n",
      "Starting URL reconstruction...\n"
     ]
    },
    {
     "name": "stderr",
     "output_type": "stream",
     "text": [
      "2024-03-11 18:39:18,514 - INFO - Processing URL 1/1: https://www.eversports.de/s/pole-arts\n"
     ]
    },
    {
     "name": "stdout",
     "output_type": "stream",
     "text": [
      "Converting to DataFrame...\n",
      "Validating URLs...\n"
     ]
    },
    {
     "name": "stderr",
     "output_type": "stream",
     "text": [
      "2024-03-11 18:39:20,163 - INFO - URL https://www.eversports.de/s/pole-arts is valid.\n"
     ]
    },
    {
     "name": "stdout",
     "output_type": "stream",
     "text": [
      "Scraping Pole Studio Data from https://www.eversports.de/s/pole-arts...\n"
     ]
    },
    {
     "name": "stderr",
     "output_type": "stream",
     "text": [
      "Processing URLs:  55%|█████▌    | 278/502 [13:19<09:50,  2.63s/it]"
     ]
    },
    {
     "name": "stdout",
     "output_type": "stream",
     "text": [
      "\n",
      "Processing completed.\n",
      "-------------------------------- \n",
      "\n",
      "2024-03-11 18:39:20 - INFO - Scraping Data from: https://www.eversports.de/s/pole-arts\n",
      "Pole Studio Data: 1 entries\n",
      "Starting URL reconstruction...\n"
     ]
    },
    {
     "name": "stderr",
     "output_type": "stream",
     "text": [
      "Processing URLs:  56%|█████▌    | 279/502 [13:19<07:33,  2.03s/it]"
     ]
    },
    {
     "name": "stdout",
     "output_type": "stream",
     "text": [
      "Error during HTTP request: 404 Client Error: Not Found for url: https://www.eversports.de/s/souldance\n",
      "Converting to DataFrame...\n",
      "Validating URLs...\n",
      "\n",
      "Processing completed.\n",
      "-------------------------------- \n",
      "\n",
      "Starting URL reconstruction...\n"
     ]
    },
    {
     "name": "stderr",
     "output_type": "stream",
     "text": [
      "2024-03-11 18:39:22,063 - INFO - Processing URL 1/1: https://www.eversports.de/s/aerial-studio-arnhem\n"
     ]
    },
    {
     "name": "stdout",
     "output_type": "stream",
     "text": [
      "Converting to DataFrame...\n",
      "Validating URLs...\n"
     ]
    },
    {
     "name": "stderr",
     "output_type": "stream",
     "text": [
      "2024-03-11 18:39:22,922 - INFO - URL https://www.eversports.de/s/aerial-studio-arnhem is valid.\n"
     ]
    },
    {
     "name": "stdout",
     "output_type": "stream",
     "text": [
      "Scraping Pole Studio Data from https://www.eversports.de/s/aerial-studio-arnhem...\n"
     ]
    },
    {
     "name": "stderr",
     "output_type": "stream",
     "text": [
      "Processing URLs:  56%|█████▌    | 280/502 [13:21<07:45,  2.09s/it]"
     ]
    },
    {
     "name": "stdout",
     "output_type": "stream",
     "text": [
      "\n",
      "Processing completed.\n",
      "-------------------------------- \n",
      "\n",
      "2024-03-11 18:39:23 - INFO - Scraping Data from: https://www.eversports.de/s/aerial-studio-arnhem\n",
      "Pole Studio Data: 1 entries\n",
      "Starting URL reconstruction...\n"
     ]
    },
    {
     "name": "stderr",
     "output_type": "stream",
     "text": [
      "Processing URLs:  56%|█████▌    | 281/502 [13:22<06:07,  1.66s/it]"
     ]
    },
    {
     "name": "stdout",
     "output_type": "stream",
     "text": [
      "Error during HTTP request: 404 Client Error: Not Found for url: https://www.eversports.de/s/poledance-zwickau-e.-v.\n",
      "Converting to DataFrame...\n",
      "Validating URLs...\n",
      "\n",
      "Processing completed.\n",
      "-------------------------------- \n",
      "\n",
      "Starting URL reconstruction...\n"
     ]
    },
    {
     "name": "stderr",
     "output_type": "stream",
     "text": [
      "2024-03-11 18:39:25,300 - INFO - Processing URL 1/2: https://www.eversports.de/s/css-aerial-dance-studio\n"
     ]
    },
    {
     "name": "stdout",
     "output_type": "stream",
     "text": [
      "Converting to DataFrame...\n",
      "Validating URLs...\n"
     ]
    },
    {
     "name": "stderr",
     "output_type": "stream",
     "text": [
      "2024-03-11 18:39:26,467 - INFO - URL https://www.eversports.de/s/css-aerial-dance-studio is valid.\n",
      "2024-03-11 18:39:26,468 - INFO - Processing URL 2/2: https://www.eversports.de/sw/css-aerial-dance-studio\n",
      "2024-03-11 18:39:27,188 - INFO - URL https://www.eversports.de/sw/css-aerial-dance-studio is valid.\n"
     ]
    },
    {
     "name": "stdout",
     "output_type": "stream",
     "text": [
      "Scraping Pole Studio Data from https://www.eversports.de/s/css-aerial-dance-studio...\n",
      "Scraping Workshops Data from https://www.eversports.de/sw/css-aerial-dance-studio...\n",
      "Scraping Workshop Details from https://www.eversports.de/e/workshop/1nKl3tW...\n",
      "Scraping Workshop Details from https://www.eversports.de/e/workshop/T4W36_s...\n",
      "Scraping Workshop Details from https://www.eversports.de/e/workshop/4UBPXcv...\n",
      "Scraping Workshop Details from https://www.eversports.de/e/workshop/JIRXZ-d...\n",
      "Scraping Workshop Details from https://www.eversports.de/e/workshop/MZYsjj7...\n"
     ]
    },
    {
     "name": "stderr",
     "output_type": "stream",
     "text": [
      "Processing URLs:  56%|█████▌    | 282/502 [13:33<15:43,  4.29s/it]"
     ]
    },
    {
     "name": "stdout",
     "output_type": "stream",
     "text": [
      "\n",
      "Processing completed.\n",
      "-------------------------------- \n",
      "\n",
      "2024-03-11 18:39:34 - INFO - Scraping Data from: https://www.eversports.de/s/css-aerial-dance-studio\n",
      "Pole Studio Data: 1 entries\n",
      "2024-03-11 18:39:34 - INFO - Scraping Data from: https://www.eversports.de/s/css-aerial-dance-studio\n",
      "Workshops Data: 5 entries\n",
      "2024-03-11 18:39:34 - INFO - Scraping Data from: https://www.eversports.de/s/css-aerial-dance-studio\n",
      "Workshop Details: 5 entries\n",
      "Starting URL reconstruction...\n"
     ]
    },
    {
     "name": "stderr",
     "output_type": "stream",
     "text": [
      "Processing URLs:  56%|█████▋    | 283/502 [13:35<14:07,  3.87s/it]"
     ]
    },
    {
     "name": "stdout",
     "output_type": "stream",
     "text": [
      "Error during HTTP request: Exceeded 30 redirects.\n",
      "Converting to DataFrame...\n",
      "Validating URLs...\n",
      "\n",
      "Processing completed.\n",
      "-------------------------------- \n",
      "\n",
      "Starting URL reconstruction...\n"
     ]
    },
    {
     "name": "stderr",
     "output_type": "stream",
     "text": [
      "Processing URLs:  57%|█████▋    | 284/502 [13:37<11:13,  3.09s/it]"
     ]
    },
    {
     "name": "stdout",
     "output_type": "stream",
     "text": [
      "Error during HTTP request: 404 Client Error: Not Found for url: https://www.eversports.de/s/studio-fitnessdarling\n",
      "Converting to DataFrame...\n",
      "Validating URLs...\n",
      "\n",
      "Processing completed.\n",
      "-------------------------------- \n",
      "\n",
      "Starting URL reconstruction...\n"
     ]
    },
    {
     "name": "stderr",
     "output_type": "stream",
     "text": [
      "2024-03-11 18:39:39,470 - INFO - Processing URL 1/1: https://www.eversports.de/s/t-tanzstueck-wolfsburg\n"
     ]
    },
    {
     "name": "stdout",
     "output_type": "stream",
     "text": [
      "Converting to DataFrame...\n",
      "Validating URLs...\n"
     ]
    },
    {
     "name": "stderr",
     "output_type": "stream",
     "text": [
      "2024-03-11 18:39:40,342 - INFO - URL https://www.eversports.de/s/t-tanzstueck-wolfsburg is valid.\n"
     ]
    },
    {
     "name": "stdout",
     "output_type": "stream",
     "text": [
      "Scraping Pole Studio Data from https://www.eversports.de/s/t-tanzstueck-wolfsburg...\n"
     ]
    },
    {
     "name": "stderr",
     "output_type": "stream",
     "text": [
      "Processing URLs:  57%|█████▋    | 285/502 [13:39<10:33,  2.92s/it]"
     ]
    },
    {
     "name": "stdout",
     "output_type": "stream",
     "text": [
      "\n",
      "Processing completed.\n",
      "-------------------------------- \n",
      "\n",
      "2024-03-11 18:39:41 - INFO - Scraping Data from: https://www.eversports.de/s/t-tanzstueck-wolfsburg\n",
      "Pole Studio Data: 1 entries\n",
      "Starting URL reconstruction...\n"
     ]
    },
    {
     "name": "stderr",
     "output_type": "stream",
     "text": [
      "2024-03-11 18:39:42,045 - INFO - Processing URL 1/2: https://www.eversports.de/s/cheesy-heaven\n"
     ]
    },
    {
     "name": "stdout",
     "output_type": "stream",
     "text": [
      "Converting to DataFrame...\n",
      "Validating URLs...\n"
     ]
    },
    {
     "name": "stderr",
     "output_type": "stream",
     "text": [
      "2024-03-11 18:39:42,928 - INFO - URL https://www.eversports.de/s/cheesy-heaven is valid.\n",
      "2024-03-11 18:39:42,930 - INFO - Processing URL 2/2: https://www.eversports.de/sw/cheesy-heaven\n",
      "2024-03-11 18:39:43,748 - INFO - URL https://www.eversports.de/sw/cheesy-heaven is valid.\n"
     ]
    },
    {
     "name": "stdout",
     "output_type": "stream",
     "text": [
      "Scraping Pole Studio Data from https://www.eversports.de/s/cheesy-heaven...\n",
      "Scraping Workshops Data from https://www.eversports.de/sw/cheesy-heaven...\n",
      "Scraping Workshop Details from https://www.eversports.de/e/workshop/GZK4IEa...\n",
      "Scraping Workshop Details from https://www.eversports.de/e/workshop/JPGCNnm...\n",
      "Scraping Workshop Details from https://www.eversports.de/e/workshop/Uh-BQlV...\n",
      "Scraping Workshop Details from https://www.eversports.de/e/workshop/xgXsW0V...\n"
     ]
    },
    {
     "name": "stderr",
     "output_type": "stream",
     "text": [
      "Processing URLs:  57%|█████▋    | 286/502 [13:48<16:21,  4.54s/it]"
     ]
    },
    {
     "name": "stdout",
     "output_type": "stream",
     "text": [
      "\n",
      "Processing completed.\n",
      "-------------------------------- \n",
      "\n",
      "2024-03-11 18:39:49 - INFO - Scraping Data from: https://www.eversports.de/s/cheesy-heaven\n",
      "Pole Studio Data: 1 entries\n",
      "2024-03-11 18:39:49 - INFO - Scraping Data from: https://www.eversports.de/s/cheesy-heaven\n",
      "Workshops Data: 4 entries\n",
      "2024-03-11 18:39:49 - INFO - Scraping Data from: https://www.eversports.de/s/cheesy-heaven\n",
      "Workshop Details: 4 entries\n",
      "Starting URL reconstruction...\n"
     ]
    },
    {
     "name": "stderr",
     "output_type": "stream",
     "text": [
      "Processing URLs:  57%|█████▋    | 287/502 [13:48<12:06,  3.38s/it]"
     ]
    },
    {
     "name": "stdout",
     "output_type": "stream",
     "text": [
      "Error during HTTP request: 404 Client Error: Not Found for url: https://www.eversports.de/s/polelove-bremen\n",
      "Converting to DataFrame...\n",
      "Validating URLs...\n",
      "\n",
      "Processing completed.\n",
      "-------------------------------- \n",
      "\n",
      "Starting URL reconstruction...\n"
     ]
    },
    {
     "name": "stderr",
     "output_type": "stream",
     "text": [
      "Processing URLs:  57%|█████▋    | 288/502 [13:49<09:11,  2.58s/it]"
     ]
    },
    {
     "name": "stdout",
     "output_type": "stream",
     "text": [
      "Error during HTTP request: 404 Client Error: Not Found for url: https://www.eversports.de/s/pole-%26-tanzwelt\n",
      "Converting to DataFrame...\n",
      "Validating URLs...\n",
      "\n",
      "Processing completed.\n",
      "-------------------------------- \n",
      "\n",
      "Starting URL reconstruction...\n"
     ]
    },
    {
     "name": "stderr",
     "output_type": "stream",
     "text": [
      "Processing URLs:  58%|█████▊    | 289/502 [13:53<11:03,  3.12s/it]"
     ]
    },
    {
     "name": "stdout",
     "output_type": "stream",
     "text": [
      "Error during HTTP request: Exceeded 30 redirects.\n",
      "Converting to DataFrame...\n",
      "Validating URLs...\n",
      "\n",
      "Processing completed.\n",
      "-------------------------------- \n",
      "\n",
      "Starting URL reconstruction...\n"
     ]
    },
    {
     "name": "stderr",
     "output_type": "stream",
     "text": [
      "2024-03-11 18:39:56,214 - INFO - Processing URL 1/1: https://www.eversports.de/s/polewirbel\n"
     ]
    },
    {
     "name": "stdout",
     "output_type": "stream",
     "text": [
      "Converting to DataFrame...\n",
      "Validating URLs...\n"
     ]
    },
    {
     "name": "stderr",
     "output_type": "stream",
     "text": [
      "2024-03-11 18:39:56,991 - INFO - URL https://www.eversports.de/s/polewirbel is valid.\n"
     ]
    },
    {
     "name": "stdout",
     "output_type": "stream",
     "text": [
      "Scraping Pole Studio Data from https://www.eversports.de/s/polewirbel...\n"
     ]
    },
    {
     "name": "stderr",
     "output_type": "stream",
     "text": [
      "Processing URLs:  58%|█████▊    | 290/502 [13:56<10:23,  2.94s/it]"
     ]
    },
    {
     "name": "stdout",
     "output_type": "stream",
     "text": [
      "\n",
      "Processing completed.\n",
      "-------------------------------- \n",
      "\n",
      "2024-03-11 18:39:57 - INFO - Scraping Data from: https://www.eversports.de/s/polewirbel\n",
      "Pole Studio Data: 1 entries\n",
      "Starting URL reconstruction...\n"
     ]
    },
    {
     "name": "stderr",
     "output_type": "stream",
     "text": [
      "Processing URLs:  58%|█████▊    | 291/502 [13:56<07:53,  2.24s/it]"
     ]
    },
    {
     "name": "stdout",
     "output_type": "stream",
     "text": [
      "Error during HTTP request: 404 Client Error: Not Found for url: https://www.eversports.de/s/aerial-art-poledance-country-base\n",
      "Converting to DataFrame...\n",
      "Validating URLs...\n",
      "\n",
      "Processing completed.\n",
      "-------------------------------- \n",
      "\n",
      "Starting URL reconstruction...\n"
     ]
    },
    {
     "name": "stderr",
     "output_type": "stream",
     "text": [
      "Processing URLs:  58%|█████▊    | 292/502 [13:58<06:54,  1.98s/it]"
     ]
    },
    {
     "name": "stdout",
     "output_type": "stream",
     "text": [
      "Error during HTTP request: 404 Client Error: Not Found for url: https://www.eversports.de/s/mmc-dance-studio\n",
      "Converting to DataFrame...\n",
      "Validating URLs...\n",
      "\n",
      "Processing completed.\n",
      "-------------------------------- \n",
      "\n",
      "Starting URL reconstruction...\n"
     ]
    },
    {
     "name": "stderr",
     "output_type": "stream",
     "text": [
      "2024-03-11 18:40:01,479 - INFO - Processing URL 1/2: https://www.eversports.de/s/fly-and-flow-studio\n"
     ]
    },
    {
     "name": "stdout",
     "output_type": "stream",
     "text": [
      "Converting to DataFrame...\n",
      "Validating URLs...\n"
     ]
    },
    {
     "name": "stderr",
     "output_type": "stream",
     "text": [
      "2024-03-11 18:40:02,510 - INFO - URL https://www.eversports.de/s/fly-and-flow-studio is valid.\n",
      "2024-03-11 18:40:02,511 - INFO - Processing URL 2/2: https://www.eversports.de/sw/fly-and-flow-studio\n",
      "2024-03-11 18:40:03,120 - INFO - URL https://www.eversports.de/sw/fly-and-flow-studio is not valid.\n"
     ]
    },
    {
     "name": "stdout",
     "output_type": "stream",
     "text": [
      "Scraping Pole Studio Data from https://www.eversports.de/s/fly-and-flow-studio...\n"
     ]
    },
    {
     "name": "stderr",
     "output_type": "stream",
     "text": [
      "Processing URLs:  58%|█████▊    | 293/502 [14:02<08:50,  2.54s/it]"
     ]
    },
    {
     "name": "stdout",
     "output_type": "stream",
     "text": [
      "\n",
      "Processing completed.\n",
      "-------------------------------- \n",
      "\n",
      "2024-03-11 18:40:03 - INFO - Scraping Data from: https://www.eversports.nl/s/fly-and-flow-studio\n",
      "Pole Studio Data: 1 entries\n",
      "Starting URL reconstruction...\n"
     ]
    },
    {
     "name": "stderr",
     "output_type": "stream",
     "text": [
      "Processing URLs:  59%|█████▊    | 294/502 [14:02<06:48,  1.97s/it]"
     ]
    },
    {
     "name": "stdout",
     "output_type": "stream",
     "text": [
      "Error during HTTP request: 404 Client Error: Not Found for url: https://www.eversports.de/s/tanzteufel-emmendingen\n",
      "Converting to DataFrame...\n",
      "Validating URLs...\n",
      "\n",
      "Processing completed.\n",
      "-------------------------------- \n",
      "\n",
      "Starting URL reconstruction...\n"
     ]
    },
    {
     "name": "stderr",
     "output_type": "stream",
     "text": [
      "Processing URLs:  59%|█████▉    | 295/502 [14:03<05:25,  1.57s/it]"
     ]
    },
    {
     "name": "stdout",
     "output_type": "stream",
     "text": [
      "Error during HTTP request: 404 Client Error: Not Found for url: https://www.eversports.de/s/wildheart-yoga-%26-pole-dance\n",
      "Converting to DataFrame...\n",
      "Validating URLs...\n",
      "\n",
      "Processing completed.\n",
      "-------------------------------- \n",
      "\n",
      "Starting URL reconstruction...\n"
     ]
    },
    {
     "name": "stderr",
     "output_type": "stream",
     "text": [
      "Processing URLs:  59%|█████▉    | 296/502 [14:04<04:27,  1.30s/it]"
     ]
    },
    {
     "name": "stdout",
     "output_type": "stream",
     "text": [
      "Error during HTTP request: 404 Client Error: Not Found for url: https://www.eversports.de/s/schwerelos-bochum\n",
      "Converting to DataFrame...\n",
      "Validating URLs...\n",
      "\n",
      "Processing completed.\n",
      "-------------------------------- \n",
      "\n",
      "Starting URL reconstruction...\n"
     ]
    },
    {
     "name": "stderr",
     "output_type": "stream",
     "text": [
      "2024-03-11 18:40:06,790 - INFO - Processing URL 1/2: https://www.eversports.de/s/flexx-arts-aerial-dance-and-fitness\n"
     ]
    },
    {
     "name": "stdout",
     "output_type": "stream",
     "text": [
      "Converting to DataFrame...\n",
      "Validating URLs...\n"
     ]
    },
    {
     "name": "stderr",
     "output_type": "stream",
     "text": [
      "2024-03-11 18:40:07,631 - INFO - URL https://www.eversports.de/s/flexx-arts-aerial-dance-and-fitness is valid.\n",
      "2024-03-11 18:40:07,631 - INFO - Processing URL 2/2: https://www.eversports.de/sw/flexx-arts-aerial-dance-and-fitness\n",
      "2024-03-11 18:40:08,299 - INFO - URL https://www.eversports.de/sw/flexx-arts-aerial-dance-and-fitness is valid.\n"
     ]
    },
    {
     "name": "stdout",
     "output_type": "stream",
     "text": [
      "Scraping Pole Studio Data from https://www.eversports.de/s/flexx-arts-aerial-dance-and-fitness...\n",
      "Scraping Workshops Data from https://www.eversports.de/sw/flexx-arts-aerial-dance-and-fitness...\n",
      "Scraping Workshop Details from https://www.eversports.de/e/workshop/BOoVP_a...\n",
      "Scraping Workshop Details from https://www.eversports.de/e/workshop/M_fy619...\n"
     ]
    },
    {
     "name": "stderr",
     "output_type": "stream",
     "text": [
      "Processing URLs:  59%|█████▉    | 297/502 [14:09<08:52,  2.60s/it]"
     ]
    },
    {
     "name": "stdout",
     "output_type": "stream",
     "text": [
      "\n",
      "Processing completed.\n",
      "-------------------------------- \n",
      "\n",
      "2024-03-11 18:40:11 - INFO - Scraping Data from: https://www.eversports.de/s/flexx-arts-aerial-dance-and-fitness\n",
      "Pole Studio Data: 1 entries\n",
      "2024-03-11 18:40:11 - INFO - Scraping Data from: https://www.eversports.de/s/flexx-arts-aerial-dance-and-fitness\n",
      "Workshops Data: 2 entries\n",
      "2024-03-11 18:40:11 - INFO - Scraping Data from: https://www.eversports.de/s/flexx-arts-aerial-dance-and-fitness\n",
      "Workshop Details: 2 entries\n",
      "Starting URL reconstruction...\n"
     ]
    },
    {
     "name": "stderr",
     "output_type": "stream",
     "text": [
      "2024-03-11 18:40:12,040 - INFO - Processing URL 1/2: https://www.eversports.de/s/poda-studio\n"
     ]
    },
    {
     "name": "stdout",
     "output_type": "stream",
     "text": [
      "Converting to DataFrame...\n",
      "Validating URLs...\n"
     ]
    },
    {
     "name": "stderr",
     "output_type": "stream",
     "text": [
      "2024-03-11 18:40:13,181 - INFO - URL https://www.eversports.de/s/poda-studio is valid.\n",
      "2024-03-11 18:40:13,181 - INFO - Processing URL 2/2: https://www.eversports.de/sw/poda-studio\n",
      "2024-03-11 18:40:13,864 - INFO - URL https://www.eversports.de/sw/poda-studio is valid.\n"
     ]
    },
    {
     "name": "stdout",
     "output_type": "stream",
     "text": [
      "Scraping Pole Studio Data from https://www.eversports.de/s/poda-studio...\n",
      "Scraping Workshops Data from https://www.eversports.de/sw/poda-studio...\n",
      "Scraping Workshop Details from https://www.eversports.de/e/workshop/9PbaXsNu8...\n",
      "Scraping Workshop Details from https://www.eversports.de/e/workshop/2f93D4_...\n",
      "Scraping Workshop Details from https://www.eversports.de/e/workshop/PvCEvqtn_...\n",
      "Scraping Workshop Details from https://www.eversports.de/e/workshop/MkpHwj8...\n"
     ]
    },
    {
     "name": "stderr",
     "output_type": "stream",
     "text": [
      "Processing URLs:  59%|█████▉    | 298/502 [14:18<14:39,  4.31s/it]"
     ]
    },
    {
     "name": "stdout",
     "output_type": "stream",
     "text": [
      "\n",
      "Processing completed.\n",
      "-------------------------------- \n",
      "\n",
      "2024-03-11 18:40:19 - INFO - Scraping Data from: https://www.eversports.de/s/poda-studio\n",
      "Pole Studio Data: 1 entries\n",
      "2024-03-11 18:40:19 - INFO - Scraping Data from: https://www.eversports.de/s/poda-studio\n",
      "Workshops Data: 4 entries\n",
      "2024-03-11 18:40:19 - INFO - Scraping Data from: https://www.eversports.de/s/poda-studio\n",
      "Workshop Details: 4 entries\n",
      "Starting URL reconstruction...\n"
     ]
    },
    {
     "name": "stderr",
     "output_type": "stream",
     "text": [
      "2024-03-11 18:40:20,270 - INFO - Processing URL 1/1: https://www.eversports.de/s/the-pole-jungle\n"
     ]
    },
    {
     "name": "stdout",
     "output_type": "stream",
     "text": [
      "Converting to DataFrame...\n",
      "Validating URLs...\n"
     ]
    },
    {
     "name": "stderr",
     "output_type": "stream",
     "text": [
      "2024-03-11 18:40:21,086 - INFO - URL https://www.eversports.de/s/the-pole-jungle is valid.\n"
     ]
    },
    {
     "name": "stdout",
     "output_type": "stream",
     "text": [
      "Scraping Pole Studio Data from https://www.eversports.de/s/the-pole-jungle...\n"
     ]
    },
    {
     "name": "stderr",
     "output_type": "stream",
     "text": [
      "Processing URLs:  60%|█████▉    | 299/502 [14:20<12:12,  3.61s/it]"
     ]
    },
    {
     "name": "stdout",
     "output_type": "stream",
     "text": [
      "\n",
      "Processing completed.\n",
      "-------------------------------- \n",
      "\n",
      "2024-03-11 18:40:21 - INFO - Scraping Data from: https://www.eversports.de/s/the-pole-jungle\n",
      "Pole Studio Data: 1 entries\n",
      "Starting URL reconstruction...\n"
     ]
    },
    {
     "name": "stderr",
     "output_type": "stream",
     "text": [
      "2024-03-11 18:40:22,546 - INFO - Processing URL 1/1: https://www.eversports.de/s/polefitness-leipzig\n"
     ]
    },
    {
     "name": "stdout",
     "output_type": "stream",
     "text": [
      "Converting to DataFrame...\n",
      "Validating URLs...\n"
     ]
    },
    {
     "name": "stderr",
     "output_type": "stream",
     "text": [
      "2024-03-11 18:40:23,597 - INFO - URL https://www.eversports.de/s/polefitness-leipzig is valid.\n"
     ]
    },
    {
     "name": "stdout",
     "output_type": "stream",
     "text": [
      "Scraping Pole Studio Data from https://www.eversports.de/s/polefitness-leipzig...\n"
     ]
    },
    {
     "name": "stderr",
     "output_type": "stream",
     "text": [
      "Processing URLs:  60%|█████▉    | 300/502 [14:22<11:08,  3.31s/it]"
     ]
    },
    {
     "name": "stdout",
     "output_type": "stream",
     "text": [
      "\n",
      "Processing completed.\n",
      "-------------------------------- \n",
      "\n",
      "2024-03-11 18:40:24 - INFO - Scraping Data from: https://www.eversports.de/s/polefitness-leipzig\n",
      "Pole Studio Data: 1 entries\n",
      "Starting URL reconstruction...\n"
     ]
    },
    {
     "name": "stderr",
     "output_type": "stream",
     "text": [
      "2024-03-11 18:40:24,876 - INFO - Processing URL 1/1: https://www.eversports.de/s/team\n"
     ]
    },
    {
     "name": "stdout",
     "output_type": "stream",
     "text": [
      "Converting to DataFrame...\n",
      "Validating URLs...\n"
     ]
    },
    {
     "name": "stderr",
     "output_type": "stream",
     "text": [
      "2024-03-11 18:40:25,568 - INFO - URL https://www.eversports.de/s/team is not valid.\n",
      "Processing URLs:  60%|█████▉    | 301/502 [14:24<09:19,  2.78s/it]"
     ]
    },
    {
     "name": "stdout",
     "output_type": "stream",
     "text": [
      "\n",
      "Processing completed.\n",
      "-------------------------------- \n",
      "\n",
      "Starting URL reconstruction...\n"
     ]
    },
    {
     "name": "stderr",
     "output_type": "stream",
     "text": [
      "Processing URLs:  60%|██████    | 302/502 [14:24<07:06,  2.13s/it]"
     ]
    },
    {
     "name": "stdout",
     "output_type": "stream",
     "text": [
      "Error during HTTP request: 404 Client Error: Not Found for url: https://www.eversports.de/s/satori-pole-dance-potsdam\n",
      "Converting to DataFrame...\n",
      "Validating URLs...\n",
      "\n",
      "Processing completed.\n",
      "-------------------------------- \n",
      "\n",
      "Starting URL reconstruction...\n"
     ]
    },
    {
     "name": "stderr",
     "output_type": "stream",
     "text": [
      "Processing URLs:  60%|██████    | 303/502 [14:25<05:52,  1.77s/it]"
     ]
    },
    {
     "name": "stdout",
     "output_type": "stream",
     "text": [
      "Error during HTTP request: 404 Client Error: Not Found for url: https://www.eversports.de/s/pole-dance-trier\n",
      "Converting to DataFrame...\n",
      "Validating URLs...\n",
      "\n",
      "Processing completed.\n",
      "-------------------------------- \n",
      "\n",
      "Starting URL reconstruction...\n"
     ]
    },
    {
     "name": "stderr",
     "output_type": "stream",
     "text": [
      "Processing URLs:  61%|██████    | 304/502 [14:26<04:46,  1.45s/it]"
     ]
    },
    {
     "name": "stdout",
     "output_type": "stream",
     "text": [
      "Error during HTTP request: 404 Client Error: Not Found for url: https://www.eversports.de/s/polestudio-neuss\n",
      "Converting to DataFrame...\n",
      "Validating URLs...\n",
      "\n",
      "Processing completed.\n",
      "-------------------------------- \n",
      "\n",
      "Starting URL reconstruction...\n"
     ]
    },
    {
     "name": "stderr",
     "output_type": "stream",
     "text": [
      "Processing URLs:  61%|██████    | 305/502 [14:27<04:03,  1.24s/it]"
     ]
    },
    {
     "name": "stdout",
     "output_type": "stream",
     "text": [
      "Error during HTTP request: 404 Client Error: Not Found for url: https://www.eversports.de/s/pole-dance-%26-fitness\n",
      "Converting to DataFrame...\n",
      "Validating URLs...\n",
      "\n",
      "Processing completed.\n",
      "-------------------------------- \n",
      "\n",
      "Starting URL reconstruction...\n"
     ]
    },
    {
     "name": "stderr",
     "output_type": "stream",
     "text": [
      "Processing URLs:  61%|██████    | 306/502 [14:27<03:29,  1.07s/it]"
     ]
    },
    {
     "name": "stdout",
     "output_type": "stream",
     "text": [
      "Error during HTTP request: 404 Client Error: Not Found for url: https://www.eversports.de/s/polemotions-gp\n",
      "Converting to DataFrame...\n",
      "Validating URLs...\n",
      "\n",
      "Processing completed.\n",
      "-------------------------------- \n",
      "\n",
      "Starting URL reconstruction...\n"
     ]
    },
    {
     "name": "stderr",
     "output_type": "stream",
     "text": [
      "Processing URLs:  61%|██████    | 307/502 [14:30<05:00,  1.54s/it]"
     ]
    },
    {
     "name": "stdout",
     "output_type": "stream",
     "text": [
      "Error during HTTP request: Exceeded 30 redirects.\n",
      "Converting to DataFrame...\n",
      "Validating URLs...\n",
      "\n",
      "Processing completed.\n",
      "-------------------------------- \n",
      "\n",
      "Starting URL reconstruction...\n"
     ]
    },
    {
     "name": "stderr",
     "output_type": "stream",
     "text": [
      "Processing URLs:  61%|██████▏   | 308/502 [14:31<04:09,  1.29s/it]"
     ]
    },
    {
     "name": "stdout",
     "output_type": "stream",
     "text": [
      "Error during HTTP request: 404 Client Error: Not Found for url: https://www.eversports.de/s/freaky-pole-cats-schwandorf\n",
      "Converting to DataFrame...\n",
      "Validating URLs...\n",
      "\n",
      "Processing completed.\n",
      "-------------------------------- \n",
      "\n",
      "Starting URL reconstruction...\n"
     ]
    },
    {
     "name": "stderr",
     "output_type": "stream",
     "text": [
      "2024-03-11 18:40:34,102 - INFO - Processing URL 1/1: https://www.eversports.de/s/air-dance-school-uccle-et-bla\n"
     ]
    },
    {
     "name": "stdout",
     "output_type": "stream",
     "text": [
      "Converting to DataFrame...\n",
      "Validating URLs...\n"
     ]
    },
    {
     "name": "stderr",
     "output_type": "stream",
     "text": [
      "2024-03-11 18:40:34,993 - INFO - URL https://www.eversports.de/s/air-dance-school-uccle-et-bla is valid.\n"
     ]
    },
    {
     "name": "stdout",
     "output_type": "stream",
     "text": [
      "Scraping Pole Studio Data from https://www.eversports.de/s/air-dance-school-uccle-et-bla...\n"
     ]
    },
    {
     "name": "stderr",
     "output_type": "stream",
     "text": [
      "Processing URLs:  62%|██████▏   | 309/502 [14:33<05:32,  1.73s/it]"
     ]
    },
    {
     "name": "stdout",
     "output_type": "stream",
     "text": [
      "\n",
      "Processing completed.\n",
      "-------------------------------- \n",
      "\n",
      "2024-03-11 18:40:35 - INFO - Scraping Data from: https://www.eversports.be/s/air-dance-school-uccle-et-bla\n",
      "Pole Studio Data: 1 entries\n",
      "Starting URL reconstruction...\n"
     ]
    },
    {
     "name": "stderr",
     "output_type": "stream",
     "text": [
      "Processing URLs:  62%|██████▏   | 310/502 [14:34<04:29,  1.40s/it]"
     ]
    },
    {
     "name": "stdout",
     "output_type": "stream",
     "text": [
      "Error during HTTP request: 404 Client Error: Not Found for url: https://www.eversports.de/s/pole-fit-plauen\n",
      "Converting to DataFrame...\n",
      "Validating URLs...\n",
      "\n",
      "Processing completed.\n",
      "-------------------------------- \n",
      "\n",
      "Starting URL reconstruction...\n"
     ]
    },
    {
     "name": "stderr",
     "output_type": "stream",
     "text": [
      "2024-03-11 18:40:37,000 - INFO - Processing URL 1/1: https://www.eversports.de/s/the-supergirl-studio\n"
     ]
    },
    {
     "name": "stdout",
     "output_type": "stream",
     "text": [
      "Converting to DataFrame...\n",
      "Validating URLs...\n"
     ]
    },
    {
     "name": "stderr",
     "output_type": "stream",
     "text": [
      "2024-03-11 18:40:38,207 - INFO - URL https://www.eversports.de/s/the-supergirl-studio is valid.\n"
     ]
    },
    {
     "name": "stdout",
     "output_type": "stream",
     "text": [
      "Scraping Pole Studio Data from https://www.eversports.de/s/the-supergirl-studio...\n"
     ]
    },
    {
     "name": "stderr",
     "output_type": "stream",
     "text": [
      "Processing URLs:  62%|██████▏   | 311/502 [14:37<05:39,  1.78s/it]"
     ]
    },
    {
     "name": "stdout",
     "output_type": "stream",
     "text": [
      "\n",
      "Processing completed.\n",
      "-------------------------------- \n",
      "\n",
      "2024-03-11 18:40:38 - INFO - Scraping Data from: https://www.eversports.de/s/the-supergirl-studio\n",
      "Pole Studio Data: 1 entries\n",
      "Starting URL reconstruction...\n"
     ]
    },
    {
     "name": "stderr",
     "output_type": "stream",
     "text": [
      "2024-03-11 18:40:41,235 - INFO - Processing URL 1/2: https://www.eversports.de/s/polemotions-tuebingen\n"
     ]
    },
    {
     "name": "stdout",
     "output_type": "stream",
     "text": [
      "Converting to DataFrame...\n",
      "Validating URLs...\n"
     ]
    },
    {
     "name": "stderr",
     "output_type": "stream",
     "text": [
      "2024-03-11 18:40:42,591 - INFO - URL https://www.eversports.de/s/polemotions-tuebingen is valid.\n",
      "2024-03-11 18:40:42,592 - INFO - Processing URL 2/2: https://www.eversports.de/sw/polemotions-tuebingen\n",
      "2024-03-11 18:40:43,385 - INFO - URL https://www.eversports.de/sw/polemotions-tuebingen is valid.\n"
     ]
    },
    {
     "name": "stdout",
     "output_type": "stream",
     "text": [
      "Scraping Pole Studio Data from https://www.eversports.de/s/polemotions-tuebingen...\n",
      "Scraping Workshops Data from https://www.eversports.de/sw/polemotions-tuebingen...\n",
      "Scraping Workshop Details from https://www.eversports.de/e/workshop/vXi2jGj...\n",
      "Scraping Workshop Details from https://www.eversports.de/e/workshop/woXQI80...\n",
      "Scraping Workshop Details from https://www.eversports.de/e/workshop/CFxNSNG...\n",
      "Scraping Workshop Details from https://www.eversports.de/e/workshop/DzB-CQn...\n",
      "Scraping Workshop Details from https://www.eversports.de/e/workshop/r5bkRb_...\n"
     ]
    },
    {
     "name": "stderr",
     "output_type": "stream",
     "text": [
      "Processing URLs:  62%|██████▏   | 312/502 [14:50<16:37,  5.25s/it]"
     ]
    },
    {
     "name": "stdout",
     "output_type": "stream",
     "text": [
      "\n",
      "Processing completed.\n",
      "-------------------------------- \n",
      "\n",
      "2024-03-11 18:40:51 - INFO - Scraping Data from: https://www.eversports.de/s/polemotions-tuebingen\n",
      "Pole Studio Data: 1 entries\n",
      "2024-03-11 18:40:51 - INFO - Scraping Data from: https://www.eversports.de/s/polemotions-tuebingen\n",
      "Workshops Data: 5 entries\n",
      "2024-03-11 18:40:51 - INFO - Scraping Data from: https://www.eversports.de/s/polemotions-tuebingen\n",
      "Workshop Details: 5 entries\n",
      "Starting URL reconstruction...\n"
     ]
    },
    {
     "name": "stderr",
     "output_type": "stream",
     "text": [
      "2024-03-11 18:40:52,982 - INFO - Processing URL 1/2: https://www.eversports.de/s/seemannsbraut-poledance\n"
     ]
    },
    {
     "name": "stdout",
     "output_type": "stream",
     "text": [
      "Converting to DataFrame...\n",
      "Validating URLs...\n"
     ]
    },
    {
     "name": "stderr",
     "output_type": "stream",
     "text": [
      "2024-03-11 18:40:54,012 - INFO - URL https://www.eversports.de/s/seemannsbraut-poledance is valid.\n",
      "2024-03-11 18:40:54,014 - INFO - Processing URL 2/2: https://www.eversports.de/sw/seemannsbraut-poledance\n",
      "2024-03-11 18:40:54,736 - INFO - URL https://www.eversports.de/sw/seemannsbraut-poledance is valid.\n"
     ]
    },
    {
     "name": "stdout",
     "output_type": "stream",
     "text": [
      "Scraping Pole Studio Data from https://www.eversports.de/s/seemannsbraut-poledance...\n",
      "Scraping Workshops Data from https://www.eversports.de/sw/seemannsbraut-poledance...\n",
      "Scraping Workshop Details from https://www.eversports.de/e/workshop/ziaHmeW...\n",
      "Scraping Workshop Details from https://www.eversports.de/e/workshop/zBoJPTa...\n"
     ]
    },
    {
     "name": "stderr",
     "output_type": "stream",
     "text": [
      "Processing URLs:  62%|██████▏   | 313/502 [14:57<18:33,  5.89s/it]"
     ]
    },
    {
     "name": "stdout",
     "output_type": "stream",
     "text": [
      "\n",
      "Processing completed.\n",
      "-------------------------------- \n",
      "\n",
      "2024-03-11 18:40:59 - INFO - Scraping Data from: https://www.eversports.de/s/seemannsbraut-poledance\n",
      "Pole Studio Data: 1 entries\n",
      "2024-03-11 18:40:59 - INFO - Scraping Data from: https://www.eversports.de/s/seemannsbraut-poledance\n",
      "Workshops Data: 2 entries\n",
      "2024-03-11 18:40:59 - INFO - Scraping Data from: https://www.eversports.de/s/seemannsbraut-poledance\n",
      "Workshop Details: 2 entries\n",
      "Starting URL reconstruction...\n"
     ]
    },
    {
     "name": "stderr",
     "output_type": "stream",
     "text": [
      "Processing URLs:  63%|██████▎   | 314/502 [14:58<13:35,  4.34s/it]"
     ]
    },
    {
     "name": "stdout",
     "output_type": "stream",
     "text": [
      "Error during HTTP request: 404 Client Error: Not Found for url: https://www.eversports.de/s/stretch-%26-pole\n",
      "Converting to DataFrame...\n",
      "Validating URLs...\n",
      "\n",
      "Processing completed.\n",
      "-------------------------------- \n",
      "\n",
      "Starting URL reconstruction...\n"
     ]
    },
    {
     "name": "stderr",
     "output_type": "stream",
     "text": [
      "2024-03-11 18:41:01,000 - INFO - Processing URL 1/1: https://www.eversports.de/s/soul-flight\n"
     ]
    },
    {
     "name": "stdout",
     "output_type": "stream",
     "text": [
      "Converting to DataFrame...\n",
      "Validating URLs...\n"
     ]
    },
    {
     "name": "stderr",
     "output_type": "stream",
     "text": [
      "2024-03-11 18:41:01,735 - INFO - URL https://www.eversports.de/s/soul-flight is valid.\n"
     ]
    },
    {
     "name": "stdout",
     "output_type": "stream",
     "text": [
      "Scraping Pole Studio Data from https://www.eversports.de/s/soul-flight...\n"
     ]
    },
    {
     "name": "stderr",
     "output_type": "stream",
     "text": [
      "Processing URLs:  63%|██████▎   | 315/502 [15:00<11:22,  3.65s/it]"
     ]
    },
    {
     "name": "stdout",
     "output_type": "stream",
     "text": [
      "\n",
      "Processing completed.\n",
      "-------------------------------- \n",
      "\n",
      "2024-03-11 18:41:02 - INFO - Scraping Data from: https://www.eversports.de/s/soul-flight\n",
      "Pole Studio Data: 1 entries\n",
      "Starting URL reconstruction...\n"
     ]
    },
    {
     "name": "stderr",
     "output_type": "stream",
     "text": [
      "Processing URLs:  63%|██████▎   | 316/502 [15:04<11:03,  3.57s/it]"
     ]
    },
    {
     "name": "stdout",
     "output_type": "stream",
     "text": [
      "Error during HTTP request: Exceeded 30 redirects.\n",
      "Converting to DataFrame...\n",
      "Validating URLs...\n",
      "\n",
      "Processing completed.\n",
      "-------------------------------- \n",
      "\n",
      "Starting URL reconstruction...\n"
     ]
    },
    {
     "name": "stderr",
     "output_type": "stream",
     "text": [
      "Processing URLs:  63%|██████▎   | 317/502 [15:04<08:20,  2.70s/it]"
     ]
    },
    {
     "name": "stdout",
     "output_type": "stream",
     "text": [
      "Error during HTTP request: 404 Client Error: Not Found for url: https://www.eversports.de/s/lift-off-poledance-academy-viersen\n",
      "Converting to DataFrame...\n",
      "Validating URLs...\n",
      "\n",
      "Processing completed.\n",
      "-------------------------------- \n",
      "\n",
      "Starting URL reconstruction...\n"
     ]
    },
    {
     "name": "stderr",
     "output_type": "stream",
     "text": [
      "2024-03-11 18:41:06,954 - INFO - Processing URL 1/1: https://www.eversports.de/s/poleart_inspiration\n"
     ]
    },
    {
     "name": "stdout",
     "output_type": "stream",
     "text": [
      "Converting to DataFrame...\n",
      "Validating URLs...\n"
     ]
    },
    {
     "name": "stderr",
     "output_type": "stream",
     "text": [
      "2024-03-11 18:41:07,724 - INFO - URL https://www.eversports.de/s/poleart_inspiration is valid.\n"
     ]
    },
    {
     "name": "stdout",
     "output_type": "stream",
     "text": [
      "Scraping Pole Studio Data from https://www.eversports.de/s/poleart_inspiration...\n"
     ]
    },
    {
     "name": "stderr",
     "output_type": "stream",
     "text": [
      "Processing URLs:  63%|██████▎   | 318/502 [15:06<07:29,  2.44s/it]"
     ]
    },
    {
     "name": "stdout",
     "output_type": "stream",
     "text": [
      "\n",
      "Processing completed.\n",
      "-------------------------------- \n",
      "\n",
      "2024-03-11 18:41:08 - INFO - Scraping Data from: https://www.eversports.de/s/poleart_inspiration\n",
      "Pole Studio Data: 1 entries\n",
      "Starting URL reconstruction...\n"
     ]
    },
    {
     "name": "stderr",
     "output_type": "stream",
     "text": [
      "Processing URLs:  64%|██████▎   | 319/502 [15:07<05:49,  1.91s/it]"
     ]
    },
    {
     "name": "stdout",
     "output_type": "stream",
     "text": [
      "Error during HTTP request: 404 Client Error: Not Found for url: https://www.eversports.de/s/crazysports-augsburg\n",
      "Converting to DataFrame...\n",
      "Validating URLs...\n",
      "\n",
      "Processing completed.\n",
      "-------------------------------- \n",
      "\n",
      "Starting URL reconstruction...\n"
     ]
    },
    {
     "name": "stderr",
     "output_type": "stream",
     "text": [
      "2024-03-11 18:41:10,687 - INFO - Processing URL 1/1: https://www.eversports.de/s/spin-up\n"
     ]
    },
    {
     "name": "stdout",
     "output_type": "stream",
     "text": [
      "Converting to DataFrame...\n",
      "Validating URLs...\n"
     ]
    },
    {
     "name": "stderr",
     "output_type": "stream",
     "text": [
      "2024-03-11 18:41:11,748 - INFO - URL https://www.eversports.de/s/spin-up is valid.\n"
     ]
    },
    {
     "name": "stdout",
     "output_type": "stream",
     "text": [
      "Scraping Pole Studio Data from https://www.eversports.de/s/spin-up...\n"
     ]
    },
    {
     "name": "stderr",
     "output_type": "stream",
     "text": [
      "Processing URLs:  64%|██████▎   | 320/502 [15:10<07:20,  2.42s/it]"
     ]
    },
    {
     "name": "stdout",
     "output_type": "stream",
     "text": [
      "\n",
      "Processing completed.\n",
      "-------------------------------- \n",
      "\n",
      "2024-03-11 18:41:12 - INFO - Scraping Data from: https://www.eversports.ch/s/spin-up\n",
      "Pole Studio Data: 1 entries\n",
      "Starting URL reconstruction...\n"
     ]
    },
    {
     "name": "stderr",
     "output_type": "stream",
     "text": [
      "Processing URLs:  64%|██████▍   | 321/502 [15:11<06:01,  2.00s/it]"
     ]
    },
    {
     "name": "stdout",
     "output_type": "stream",
     "text": [
      "Error during HTTP request: 404 Client Error: Not Found for url: https://www.eversports.de/s/zero-gravity-pole\n",
      "Converting to DataFrame...\n",
      "Validating URLs...\n",
      "\n",
      "Processing completed.\n",
      "-------------------------------- \n",
      "\n",
      "Starting URL reconstruction...\n"
     ]
    },
    {
     "name": "stderr",
     "output_type": "stream",
     "text": [
      "Processing URLs:  64%|██████▍   | 322/502 [15:12<04:50,  1.61s/it]"
     ]
    },
    {
     "name": "stdout",
     "output_type": "stream",
     "text": [
      "Error during HTTP request: 404 Client Error: Not Found for url: https://www.eversports.de/s/lea-aqua\n",
      "Converting to DataFrame...\n",
      "Validating URLs...\n",
      "\n",
      "Processing completed.\n",
      "-------------------------------- \n",
      "\n",
      "Starting URL reconstruction...\n"
     ]
    },
    {
     "name": "stderr",
     "output_type": "stream",
     "text": [
      "Processing URLs:  64%|██████▍   | 323/502 [15:13<03:58,  1.33s/it]"
     ]
    },
    {
     "name": "stdout",
     "output_type": "stream",
     "text": [
      "Error during HTTP request: 404 Client Error: Not Found for url: https://www.eversports.de/s/freaky-pole-cats-cham\n",
      "Converting to DataFrame...\n",
      "Validating URLs...\n",
      "\n",
      "Processing completed.\n",
      "-------------------------------- \n",
      "\n",
      "Starting URL reconstruction...\n"
     ]
    },
    {
     "name": "stderr",
     "output_type": "stream",
     "text": [
      "2024-03-11 18:41:15,729 - INFO - Processing URL 1/2: https://www.eversports.de/s/aerial-loft\n"
     ]
    },
    {
     "name": "stdout",
     "output_type": "stream",
     "text": [
      "Converting to DataFrame...\n",
      "Validating URLs...\n"
     ]
    },
    {
     "name": "stderr",
     "output_type": "stream",
     "text": [
      "2024-03-11 18:41:16,675 - INFO - URL https://www.eversports.de/s/aerial-loft is valid.\n",
      "2024-03-11 18:41:16,676 - INFO - Processing URL 2/2: https://www.eversports.de/sw/aerial-loft\n",
      "2024-03-11 18:41:17,474 - INFO - URL https://www.eversports.de/sw/aerial-loft is valid.\n"
     ]
    },
    {
     "name": "stdout",
     "output_type": "stream",
     "text": [
      "Scraping Pole Studio Data from https://www.eversports.de/s/aerial-loft...\n",
      "Scraping Workshops Data from https://www.eversports.de/sw/aerial-loft...\n",
      "Scraping Workshop Details from https://www.eversports.de/e/workshop/onN7Doj...\n",
      "Scraping Workshop Details from https://www.eversports.de/e/workshop/385OcZZ...\n",
      "Scraping Workshop Details from https://www.eversports.de/e/workshop/rhsldmK...\n",
      "Scraping Workshop Details from https://www.eversports.de/e/workshop/H_FW2CU...\n",
      "Scraping Workshop Details from https://www.eversports.de/e/workshop/9jN2M0O...\n",
      "Scraping Workshop Details from https://www.eversports.de/e/workshop/arPk7c0...\n",
      "Scraping Workshop Details from https://www.eversports.de/e/workshop/r3elm4w...\n"
     ]
    },
    {
     "name": "stderr",
     "output_type": "stream",
     "text": [
      "Processing URLs:  65%|██████▍   | 324/502 [15:24<12:42,  4.28s/it]"
     ]
    },
    {
     "name": "stdout",
     "output_type": "stream",
     "text": [
      "\n",
      "Processing completed.\n",
      "-------------------------------- \n",
      "\n",
      "2024-03-11 18:41:25 - INFO - Scraping Data from: https://www.eversports.de/s/aerial-loft\n",
      "Pole Studio Data: 1 entries\n",
      "2024-03-11 18:41:25 - INFO - Scraping Data from: https://www.eversports.de/s/aerial-loft\n",
      "Workshops Data: 7 entries\n",
      "2024-03-11 18:41:25 - INFO - Scraping Data from: https://www.eversports.de/s/aerial-loft\n",
      "Workshop Details: 7 entries\n",
      "Starting URL reconstruction...\n"
     ]
    },
    {
     "name": "stderr",
     "output_type": "stream",
     "text": [
      "2024-03-11 18:41:26,809 - INFO - Processing URL 1/1: https://www.eversports.de/s/pole-oase\n"
     ]
    },
    {
     "name": "stdout",
     "output_type": "stream",
     "text": [
      "Converting to DataFrame...\n",
      "Validating URLs...\n"
     ]
    },
    {
     "name": "stderr",
     "output_type": "stream",
     "text": [
      "2024-03-11 18:41:27,641 - INFO - URL https://www.eversports.de/s/pole-oase is valid.\n"
     ]
    },
    {
     "name": "stdout",
     "output_type": "stream",
     "text": [
      "Scraping Pole Studio Data from https://www.eversports.de/s/pole-oase...\n"
     ]
    },
    {
     "name": "stderr",
     "output_type": "stream",
     "text": [
      "Processing URLs:  65%|██████▍   | 325/502 [15:26<10:40,  3.62s/it]"
     ]
    },
    {
     "name": "stdout",
     "output_type": "stream",
     "text": [
      "\n",
      "Processing completed.\n",
      "-------------------------------- \n",
      "\n",
      "2024-03-11 18:41:27 - INFO - Scraping Data from: https://www.eversports.de/s/pole-oase\n",
      "Pole Studio Data: 1 entries\n",
      "Starting URL reconstruction...\n"
     ]
    },
    {
     "name": "stderr",
     "output_type": "stream",
     "text": [
      "Processing URLs:  65%|██████▍   | 326/502 [15:27<07:59,  2.73s/it]"
     ]
    },
    {
     "name": "stdout",
     "output_type": "stream",
     "text": [
      "Error during HTTP request: 404 Client Error: Not Found for url: https://www.eversports.de/s/aerial-art-studio\n",
      "Converting to DataFrame...\n",
      "Validating URLs...\n",
      "\n",
      "Processing completed.\n",
      "-------------------------------- \n",
      "\n",
      "Starting URL reconstruction...\n"
     ]
    },
    {
     "name": "stderr",
     "output_type": "stream",
     "text": [
      "Processing URLs:  65%|██████▌   | 327/502 [15:27<06:09,  2.11s/it]"
     ]
    },
    {
     "name": "stdout",
     "output_type": "stream",
     "text": [
      "Error during HTTP request: 404 Client Error: Not Found for url: https://www.eversports.de/s/aerial-athletix\n",
      "Converting to DataFrame...\n",
      "Validating URLs...\n",
      "\n",
      "Processing completed.\n",
      "-------------------------------- \n",
      "\n",
      "Starting URL reconstruction...\n"
     ]
    },
    {
     "name": "stderr",
     "output_type": "stream",
     "text": [
      "Processing URLs:  65%|██████▌   | 328/502 [15:28<04:55,  1.70s/it]"
     ]
    },
    {
     "name": "stdout",
     "output_type": "stream",
     "text": [
      "Error during HTTP request: 404 Client Error: Not Found for url: https://www.eversports.de/s/pole-dance-mettingen\n",
      "Converting to DataFrame...\n",
      "Validating URLs...\n",
      "\n",
      "Processing completed.\n",
      "-------------------------------- \n",
      "\n",
      "Starting URL reconstruction...\n"
     ]
    },
    {
     "name": "stderr",
     "output_type": "stream",
     "text": [
      "Processing URLs:  66%|██████▌   | 329/502 [15:32<06:41,  2.32s/it]"
     ]
    },
    {
     "name": "stdout",
     "output_type": "stream",
     "text": [
      "Error during HTTP request: Exceeded 30 redirects.\n",
      "Converting to DataFrame...\n",
      "Validating URLs...\n",
      "\n",
      "Processing completed.\n",
      "-------------------------------- \n",
      "\n",
      "Starting URL reconstruction...\n"
     ]
    },
    {
     "name": "stderr",
     "output_type": "stream",
     "text": [
      "Processing URLs:  66%|██████▌   | 330/502 [15:33<05:16,  1.84s/it]"
     ]
    },
    {
     "name": "stdout",
     "output_type": "stream",
     "text": [
      "Error during HTTP request: 404 Client Error: Not Found for url: https://www.eversports.de/s/verticalspirit-chemnitz-e.-v.\n",
      "Converting to DataFrame...\n",
      "Validating URLs...\n",
      "\n",
      "Processing completed.\n",
      "-------------------------------- \n",
      "\n",
      "Starting URL reconstruction...\n"
     ]
    },
    {
     "name": "stderr",
     "output_type": "stream",
     "text": [
      "Processing URLs:  66%|██████▌   | 331/502 [15:36<06:20,  2.22s/it]"
     ]
    },
    {
     "name": "stdout",
     "output_type": "stream",
     "text": [
      "Error during HTTP request: Exceeded 30 redirects.\n",
      "Converting to DataFrame...\n",
      "Validating URLs...\n",
      "\n",
      "Processing completed.\n",
      "-------------------------------- \n",
      "\n",
      "Starting URL reconstruction...\n"
     ]
    },
    {
     "name": "stderr",
     "output_type": "stream",
     "text": [
      "Processing URLs:  66%|██████▌   | 332/502 [15:36<05:02,  1.78s/it]"
     ]
    },
    {
     "name": "stdout",
     "output_type": "stream",
     "text": [
      "Error during HTTP request: 404 Client Error: Not Found for url: https://www.eversports.de/s/polesports-studio-buchholz\n",
      "Converting to DataFrame...\n",
      "Validating URLs...\n",
      "\n",
      "Processing completed.\n",
      "-------------------------------- \n",
      "\n",
      "Starting URL reconstruction...\n"
     ]
    },
    {
     "name": "stderr",
     "output_type": "stream",
     "text": [
      "Processing URLs:  66%|██████▋   | 333/502 [15:37<04:07,  1.46s/it]"
     ]
    },
    {
     "name": "stdout",
     "output_type": "stream",
     "text": [
      "Error during HTTP request: 404 Client Error: Not Found for url: https://www.eversports.de/s/poledreams\n",
      "Converting to DataFrame...\n",
      "Validating URLs...\n",
      "\n",
      "Processing completed.\n",
      "-------------------------------- \n",
      "\n",
      "Starting URL reconstruction...\n"
     ]
    },
    {
     "name": "stderr",
     "output_type": "stream",
     "text": [
      "2024-03-11 18:41:40,217 - INFO - Processing URL 1/1: https://www.eversports.de/s/divapole\n"
     ]
    },
    {
     "name": "stdout",
     "output_type": "stream",
     "text": [
      "Converting to DataFrame...\n",
      "Validating URLs...\n"
     ]
    },
    {
     "name": "stderr",
     "output_type": "stream",
     "text": [
      "2024-03-11 18:41:41,277 - INFO - URL https://www.eversports.de/s/divapole is valid.\n"
     ]
    },
    {
     "name": "stdout",
     "output_type": "stream",
     "text": [
      "Scraping Pole Studio Data from https://www.eversports.de/s/divapole...\n"
     ]
    },
    {
     "name": "stderr",
     "output_type": "stream",
     "text": [
      "Processing URLs:  67%|██████▋   | 334/502 [15:40<05:00,  1.79s/it]"
     ]
    },
    {
     "name": "stdout",
     "output_type": "stream",
     "text": [
      "\n",
      "Processing completed.\n",
      "-------------------------------- \n",
      "\n",
      "2024-03-11 18:41:41 - INFO - Scraping Data from: https://www.eversports.de/s/divapole\n",
      "Pole Studio Data: 1 entries\n",
      "Starting URL reconstruction...\n"
     ]
    },
    {
     "name": "stderr",
     "output_type": "stream",
     "text": [
      "2024-03-11 18:41:43,491 - INFO - Processing URL 1/1: https://www.eversports.de/s/pole-inspiration-dance-studio\n"
     ]
    },
    {
     "name": "stdout",
     "output_type": "stream",
     "text": [
      "Converting to DataFrame...\n",
      "Validating URLs...\n"
     ]
    },
    {
     "name": "stderr",
     "output_type": "stream",
     "text": [
      "2024-03-11 18:41:44,528 - INFO - URL https://www.eversports.de/s/pole-inspiration-dance-studio is valid.\n"
     ]
    },
    {
     "name": "stdout",
     "output_type": "stream",
     "text": [
      "Scraping Pole Studio Data from https://www.eversports.de/s/pole-inspiration-dance-studio...\n"
     ]
    },
    {
     "name": "stderr",
     "output_type": "stream",
     "text": [
      "Processing URLs:  67%|██████▋   | 335/502 [15:43<06:31,  2.34s/it]"
     ]
    },
    {
     "name": "stdout",
     "output_type": "stream",
     "text": [
      "\n",
      "Processing completed.\n",
      "-------------------------------- \n",
      "\n",
      "2024-03-11 18:41:45 - INFO - Scraping Data from: https://www.eversports.nl/s/pole-inspiration-dance-studio\n",
      "Pole Studio Data: 1 entries\n",
      "Starting URL reconstruction...\n"
     ]
    },
    {
     "name": "stderr",
     "output_type": "stream",
     "text": [
      "2024-03-11 18:41:46,576 - INFO - Processing URL 1/1: https://www.eversports.de/s/dance-and-pole-solingen\n"
     ]
    },
    {
     "name": "stdout",
     "output_type": "stream",
     "text": [
      "Converting to DataFrame...\n",
      "Validating URLs...\n"
     ]
    },
    {
     "name": "stderr",
     "output_type": "stream",
     "text": [
      "2024-03-11 18:41:47,975 - INFO - URL https://www.eversports.de/s/dance-and-pole-solingen is valid.\n"
     ]
    },
    {
     "name": "stdout",
     "output_type": "stream",
     "text": [
      "Scraping Pole Studio Data from https://www.eversports.de/s/dance-and-pole-solingen...\n"
     ]
    },
    {
     "name": "stderr",
     "output_type": "stream",
     "text": [
      "Processing URLs:  67%|██████▋   | 336/502 [15:47<07:12,  2.60s/it]"
     ]
    },
    {
     "name": "stdout",
     "output_type": "stream",
     "text": [
      "\n",
      "Processing completed.\n",
      "-------------------------------- \n",
      "\n",
      "2024-03-11 18:41:48 - INFO - Scraping Data from: https://www.eversports.de/s/dance-and-pole-solingen\n",
      "Pole Studio Data: 1 entries\n",
      "Starting URL reconstruction...\n"
     ]
    },
    {
     "name": "stderr",
     "output_type": "stream",
     "text": [
      "2024-03-11 18:41:49,431 - INFO - Processing URL 1/2: https://www.eversports.de/s/nordpole\n"
     ]
    },
    {
     "name": "stdout",
     "output_type": "stream",
     "text": [
      "Converting to DataFrame...\n",
      "Validating URLs...\n"
     ]
    },
    {
     "name": "stderr",
     "output_type": "stream",
     "text": [
      "2024-03-11 18:41:50,469 - INFO - URL https://www.eversports.de/s/nordpole is valid.\n",
      "2024-03-11 18:41:50,471 - INFO - Processing URL 2/2: https://www.eversports.de/sw/nordpole\n",
      "2024-03-11 18:41:51,141 - INFO - URL https://www.eversports.de/sw/nordpole is valid.\n"
     ]
    },
    {
     "name": "stdout",
     "output_type": "stream",
     "text": [
      "Scraping Pole Studio Data from https://www.eversports.de/s/nordpole...\n",
      "Scraping Workshops Data from https://www.eversports.de/sw/nordpole...\n",
      "Scraping Workshop Details from https://www.eversports.de/e/workshop/ieMTTb4...\n",
      "Scraping Workshop Details from https://www.eversports.de/e/workshop/kitzKFd...\n"
     ]
    },
    {
     "name": "stderr",
     "output_type": "stream",
     "text": [
      "Processing URLs:  67%|██████▋   | 337/502 [16:14<27:54, 10.15s/it]"
     ]
    },
    {
     "name": "stdout",
     "output_type": "stream",
     "text": [
      "\n",
      "Processing completed.\n",
      "-------------------------------- \n",
      "\n",
      "2024-03-11 18:42:16 - INFO - Scraping Data from: https://www.eversports.de/s/nordpole\n",
      "Pole Studio Data: 1 entries\n",
      "2024-03-11 18:42:16 - INFO - Scraping Data from: https://www.eversports.de/s/nordpole\n",
      "Workshops Data: 2 entries\n",
      "2024-03-11 18:42:16 - INFO - Scraping Data from: https://www.eversports.de/s/nordpole\n",
      "Workshop Details: 2 entries\n",
      "Starting URL reconstruction...\n"
     ]
    },
    {
     "name": "stderr",
     "output_type": "stream",
     "text": [
      "2024-03-11 18:42:17,025 - INFO - Processing URL 1/1: https://www.eversports.de/s/pole-circus\n"
     ]
    },
    {
     "name": "stdout",
     "output_type": "stream",
     "text": [
      "Converting to DataFrame...\n",
      "Validating URLs...\n"
     ]
    },
    {
     "name": "stderr",
     "output_type": "stream",
     "text": [
      "2024-03-11 18:42:17,775 - INFO - URL https://www.eversports.de/s/pole-circus is valid.\n"
     ]
    },
    {
     "name": "stdout",
     "output_type": "stream",
     "text": [
      "Scraping Pole Studio Data from https://www.eversports.de/s/pole-circus...\n"
     ]
    },
    {
     "name": "stderr",
     "output_type": "stream",
     "text": [
      "Processing URLs:  67%|██████▋   | 338/502 [16:16<21:04,  7.71s/it]"
     ]
    },
    {
     "name": "stdout",
     "output_type": "stream",
     "text": [
      "\n",
      "Processing completed.\n",
      "-------------------------------- \n",
      "\n",
      "2024-03-11 18:42:18 - INFO - Scraping Data from: https://www.eversports.de/s/pole-circus\n",
      "Pole Studio Data: 1 entries\n",
      "Starting URL reconstruction...\n"
     ]
    },
    {
     "name": "stderr",
     "output_type": "stream",
     "text": [
      "2024-03-11 18:42:19,127 - INFO - Processing URL 1/1: https://www.eversports.de/s/polemotions-filderstadt\n"
     ]
    },
    {
     "name": "stdout",
     "output_type": "stream",
     "text": [
      "Converting to DataFrame...\n",
      "Validating URLs...\n"
     ]
    },
    {
     "name": "stderr",
     "output_type": "stream",
     "text": [
      "2024-03-11 18:42:19,968 - INFO - URL https://www.eversports.de/s/polemotions-filderstadt is valid.\n"
     ]
    },
    {
     "name": "stdout",
     "output_type": "stream",
     "text": [
      "Scraping Pole Studio Data from https://www.eversports.de/s/polemotions-filderstadt...\n"
     ]
    },
    {
     "name": "stderr",
     "output_type": "stream",
     "text": [
      "Processing URLs:  68%|██████▊   | 339/502 [16:19<16:29,  6.07s/it]"
     ]
    },
    {
     "name": "stdout",
     "output_type": "stream",
     "text": [
      "\n",
      "Processing completed.\n",
      "-------------------------------- \n",
      "\n",
      "2024-03-11 18:42:20 - INFO - Scraping Data from: https://www.eversports.de/s/polemotions-filderstadt\n",
      "Pole Studio Data: 1 entries\n",
      "Starting URL reconstruction...\n"
     ]
    },
    {
     "name": "stderr",
     "output_type": "stream",
     "text": [
      "Processing URLs:  68%|██████▊   | 340/502 [16:19<12:02,  4.46s/it]"
     ]
    },
    {
     "name": "stdout",
     "output_type": "stream",
     "text": [
      "Error during HTTP request: 404 Client Error: Not Found for url: https://www.eversports.de/s/lift-off---poledance-academy-viersen\n",
      "Converting to DataFrame...\n",
      "Validating URLs...\n",
      "\n",
      "Processing completed.\n",
      "-------------------------------- \n",
      "\n",
      "Starting URL reconstruction...\n"
     ]
    },
    {
     "name": "stderr",
     "output_type": "stream",
     "text": [
      "2024-03-11 18:42:22,059 - INFO - Processing URL 1/2: https://www.eversports.de/s/vipole-poledance-and-aerial-arts\n"
     ]
    },
    {
     "name": "stdout",
     "output_type": "stream",
     "text": [
      "Converting to DataFrame...\n",
      "Validating URLs...\n"
     ]
    },
    {
     "name": "stderr",
     "output_type": "stream",
     "text": [
      "2024-03-11 18:42:22,827 - INFO - URL https://www.eversports.de/s/vipole-poledance-and-aerial-arts is valid.\n",
      "2024-03-11 18:42:22,830 - INFO - Processing URL 2/2: https://www.eversports.de/sw/vipole-poledance-and-aerial-arts\n",
      "2024-03-11 18:42:23,532 - INFO - URL https://www.eversports.de/sw/vipole-poledance-and-aerial-arts is not valid.\n"
     ]
    },
    {
     "name": "stdout",
     "output_type": "stream",
     "text": [
      "Scraping Pole Studio Data from https://www.eversports.de/s/vipole-poledance-and-aerial-arts...\n"
     ]
    },
    {
     "name": "stderr",
     "output_type": "stream",
     "text": [
      "Processing URLs:  68%|██████▊   | 341/502 [16:22<10:32,  3.93s/it]"
     ]
    },
    {
     "name": "stdout",
     "output_type": "stream",
     "text": [
      "\n",
      "Processing completed.\n",
      "-------------------------------- \n",
      "\n",
      "2024-03-11 18:42:23 - INFO - Scraping Data from: https://www.eversports.at/s/vipole-poledance-and-aerial-arts\n",
      "Pole Studio Data: 1 entries\n",
      "Starting URL reconstruction...\n"
     ]
    },
    {
     "name": "stderr",
     "output_type": "stream",
     "text": [
      "Processing URLs:  68%|██████▊   | 342/502 [16:23<07:49,  2.93s/it]"
     ]
    },
    {
     "name": "stdout",
     "output_type": "stream",
     "text": [
      "Error during HTTP request: 404 Client Error: Not Found for url: https://www.eversports.de/s/crazy-up-%26-pole\n",
      "Converting to DataFrame...\n",
      "Validating URLs...\n",
      "\n",
      "Processing completed.\n",
      "-------------------------------- \n",
      "\n",
      "Starting URL reconstruction...\n"
     ]
    },
    {
     "name": "stderr",
     "output_type": "stream",
     "text": [
      "Processing URLs:  68%|██████▊   | 343/502 [16:26<07:50,  2.96s/it]"
     ]
    },
    {
     "name": "stdout",
     "output_type": "stream",
     "text": [
      "Error during HTTP request: Exceeded 30 redirects.\n",
      "Converting to DataFrame...\n",
      "Validating URLs...\n",
      "\n",
      "Processing completed.\n",
      "-------------------------------- \n",
      "\n",
      "Starting URL reconstruction...\n"
     ]
    },
    {
     "name": "stderr",
     "output_type": "stream",
     "text": [
      "2024-03-11 18:42:28,331 - INFO - Processing URL 1/1: https://www.eversports.de/s/the-pole-jungle\n"
     ]
    },
    {
     "name": "stdout",
     "output_type": "stream",
     "text": [
      "Converting to DataFrame...\n",
      "Validating URLs...\n"
     ]
    },
    {
     "name": "stderr",
     "output_type": "stream",
     "text": [
      "2024-03-11 18:42:29,163 - INFO - URL https://www.eversports.de/s/the-pole-jungle is valid.\n"
     ]
    },
    {
     "name": "stdout",
     "output_type": "stream",
     "text": [
      "Scraping Pole Studio Data from https://www.eversports.de/s/the-pole-jungle...\n"
     ]
    },
    {
     "name": "stderr",
     "output_type": "stream",
     "text": [
      "Processing URLs:  69%|██████▊   | 344/502 [16:28<07:10,  2.73s/it]"
     ]
    },
    {
     "name": "stdout",
     "output_type": "stream",
     "text": [
      "\n",
      "Processing completed.\n",
      "-------------------------------- \n",
      "\n",
      "2024-03-11 18:42:29 - INFO - Scraping Data from: https://www.eversports.at/s/the-pole-jungle\n",
      "Pole Studio Data: 1 entries\n",
      "Starting URL reconstruction...\n"
     ]
    },
    {
     "name": "stderr",
     "output_type": "stream",
     "text": [
      "Processing URLs:  69%|██████▊   | 345/502 [16:28<05:31,  2.11s/it]"
     ]
    },
    {
     "name": "stdout",
     "output_type": "stream",
     "text": [
      "Error during HTTP request: 404 Client Error: Not Found for url: https://www.eversports.de/s/indeed-unique---studio-wien\n",
      "Converting to DataFrame...\n",
      "Validating URLs...\n",
      "\n",
      "Processing completed.\n",
      "-------------------------------- \n",
      "\n",
      "Starting URL reconstruction...\n"
     ]
    },
    {
     "name": "stderr",
     "output_type": "stream",
     "text": [
      "2024-03-11 18:42:31,591 - INFO - Processing URL 1/1: https://www.eversports.de/s/soultide\n"
     ]
    },
    {
     "name": "stdout",
     "output_type": "stream",
     "text": [
      "Converting to DataFrame...\n",
      "Validating URLs...\n"
     ]
    },
    {
     "name": "stderr",
     "output_type": "stream",
     "text": [
      "2024-03-11 18:42:32,499 - INFO - URL https://www.eversports.de/s/soultide is valid.\n"
     ]
    },
    {
     "name": "stdout",
     "output_type": "stream",
     "text": [
      "Scraping Pole Studio Data from https://www.eversports.de/s/soultide...\n"
     ]
    },
    {
     "name": "stderr",
     "output_type": "stream",
     "text": [
      "Processing URLs:  69%|██████▉   | 346/502 [16:31<05:50,  2.24s/it]"
     ]
    },
    {
     "name": "stdout",
     "output_type": "stream",
     "text": [
      "\n",
      "Processing completed.\n",
      "-------------------------------- \n",
      "\n",
      "2024-03-11 18:42:32 - INFO - Scraping Data from: https://www.eversports.de/s/soultide\n",
      "Pole Studio Data: 1 entries\n",
      "Starting URL reconstruction...\n"
     ]
    },
    {
     "name": "stderr",
     "output_type": "stream",
     "text": [
      "Processing URLs:  69%|██████▉   | 347/502 [16:32<04:34,  1.77s/it]"
     ]
    },
    {
     "name": "stdout",
     "output_type": "stream",
     "text": [
      "Error during HTTP request: 404 Client Error: Not Found for url: https://www.eversports.de/s/poledance-rostock\n",
      "Converting to DataFrame...\n",
      "Validating URLs...\n",
      "\n",
      "Processing completed.\n",
      "-------------------------------- \n",
      "\n",
      "Starting URL reconstruction...\n"
     ]
    },
    {
     "name": "stderr",
     "output_type": "stream",
     "text": [
      "2024-03-11 18:42:34,491 - INFO - Processing URL 1/1: https://www.eversports.de/s/kaifu-lodge\n"
     ]
    },
    {
     "name": "stdout",
     "output_type": "stream",
     "text": [
      "Converting to DataFrame...\n",
      "Validating URLs...\n"
     ]
    },
    {
     "name": "stderr",
     "output_type": "stream",
     "text": [
      "2024-03-11 18:42:35,278 - INFO - URL https://www.eversports.de/s/kaifu-lodge is valid.\n"
     ]
    },
    {
     "name": "stdout",
     "output_type": "stream",
     "text": [
      "Scraping Pole Studio Data from https://www.eversports.de/s/kaifu-lodge...\n"
     ]
    },
    {
     "name": "stderr",
     "output_type": "stream",
     "text": [
      "Processing URLs:  69%|██████▉   | 348/502 [16:34<04:43,  1.84s/it]"
     ]
    },
    {
     "name": "stdout",
     "output_type": "stream",
     "text": [
      "\n",
      "Processing completed.\n",
      "-------------------------------- \n",
      "\n",
      "2024-03-11 18:42:35 - INFO - Scraping Data from: https://www.eversports.de/s/kaifu-lodge\n",
      "Pole Studio Data: 1 entries\n",
      "Starting URL reconstruction...\n"
     ]
    },
    {
     "name": "stderr",
     "output_type": "stream",
     "text": [
      "Processing URLs:  70%|██████▉   | 349/502 [16:38<06:50,  2.68s/it]"
     ]
    },
    {
     "name": "stdout",
     "output_type": "stream",
     "text": [
      "Error during HTTP request: Exceeded 30 redirects.\n",
      "Converting to DataFrame...\n",
      "Validating URLs...\n",
      "\n",
      "Processing completed.\n",
      "-------------------------------- \n",
      "\n",
      "Starting URL reconstruction...\n"
     ]
    },
    {
     "name": "stderr",
     "output_type": "stream",
     "text": [
      "Processing URLs:  70%|██████▉   | 350/502 [16:39<05:12,  2.06s/it]"
     ]
    },
    {
     "name": "stdout",
     "output_type": "stream",
     "text": [
      "Error during HTTP request: 404 Client Error: Not Found for url: https://www.eversports.de/s/flexx-arts-aerial-dance-&-fitness\n",
      "Converting to DataFrame...\n",
      "Validating URLs...\n",
      "\n",
      "Processing completed.\n",
      "-------------------------------- \n",
      "\n",
      "Starting URL reconstruction...\n"
     ]
    },
    {
     "name": "stderr",
     "output_type": "stream",
     "text": [
      "Processing URLs:  70%|██████▉   | 351/502 [16:40<04:06,  1.63s/it]"
     ]
    },
    {
     "name": "stdout",
     "output_type": "stream",
     "text": [
      "Error during HTTP request: 404 Client Error: Not Found for url: https://www.eversports.de/s/open-aerial-dance-wiesbaden\n",
      "Converting to DataFrame...\n",
      "Validating URLs...\n",
      "\n",
      "Processing completed.\n",
      "-------------------------------- \n",
      "\n",
      "Starting URL reconstruction...\n"
     ]
    },
    {
     "name": "stderr",
     "output_type": "stream",
     "text": [
      "Processing URLs:  70%|███████   | 352/502 [16:40<03:20,  1.34s/it]"
     ]
    },
    {
     "name": "stdout",
     "output_type": "stream",
     "text": [
      "Error during HTTP request: 404 Client Error: Not Found for url: https://www.eversports.de/s/pole2dance---vertical-fitness-and-dance-company\n",
      "Converting to DataFrame...\n",
      "Validating URLs...\n",
      "\n",
      "Processing completed.\n",
      "-------------------------------- \n",
      "\n",
      "Starting URL reconstruction...\n"
     ]
    },
    {
     "name": "stderr",
     "output_type": "stream",
     "text": [
      "2024-03-11 18:42:43,476 - INFO - Processing URL 1/1: https://www.eversports.de/s/pole-fitness-waterloo\n"
     ]
    },
    {
     "name": "stdout",
     "output_type": "stream",
     "text": [
      "Converting to DataFrame...\n",
      "Validating URLs...\n"
     ]
    },
    {
     "name": "stderr",
     "output_type": "stream",
     "text": [
      "2024-03-11 18:42:44,186 - INFO - URL https://www.eversports.de/s/pole-fitness-waterloo is valid.\n"
     ]
    },
    {
     "name": "stdout",
     "output_type": "stream",
     "text": [
      "Scraping Pole Studio Data from https://www.eversports.de/s/pole-fitness-waterloo...\n"
     ]
    },
    {
     "name": "stderr",
     "output_type": "stream",
     "text": [
      "Processing URLs:  70%|███████   | 353/502 [16:43<04:05,  1.65s/it]"
     ]
    },
    {
     "name": "stdout",
     "output_type": "stream",
     "text": [
      "\n",
      "Processing completed.\n",
      "-------------------------------- \n",
      "\n",
      "2024-03-11 18:42:44 - INFO - Scraping Data from: https://www.eversports.be/s/pole-fitness-waterloo\n",
      "Pole Studio Data: 1 entries\n",
      "Starting URL reconstruction...\n"
     ]
    },
    {
     "name": "stderr",
     "output_type": "stream",
     "text": [
      "Processing URLs:  71%|███████   | 354/502 [16:46<05:03,  2.05s/it]"
     ]
    },
    {
     "name": "stdout",
     "output_type": "stream",
     "text": [
      "Error during HTTP request: Exceeded 30 redirects.\n",
      "Converting to DataFrame...\n",
      "Validating URLs...\n",
      "\n",
      "Processing completed.\n",
      "-------------------------------- \n",
      "\n",
      "Starting URL reconstruction...\n"
     ]
    },
    {
     "name": "stderr",
     "output_type": "stream",
     "text": [
      "Processing URLs:  71%|███████   | 355/502 [16:46<04:00,  1.63s/it]"
     ]
    },
    {
     "name": "stdout",
     "output_type": "stream",
     "text": [
      "Error during HTTP request: 404 Client Error: Not Found for url: https://www.eversports.de/s/metropole-dance---now1\n",
      "Converting to DataFrame...\n",
      "Validating URLs...\n",
      "\n",
      "Processing completed.\n",
      "-------------------------------- \n",
      "\n",
      "Starting URL reconstruction...\n"
     ]
    },
    {
     "name": "stderr",
     "output_type": "stream",
     "text": [
      "2024-03-11 18:42:49,047 - INFO - Processing URL 1/1: https://www.eversports.de/s/stadtgazellen-studio\n"
     ]
    },
    {
     "name": "stdout",
     "output_type": "stream",
     "text": [
      "Converting to DataFrame...\n",
      "Validating URLs...\n"
     ]
    },
    {
     "name": "stderr",
     "output_type": "stream",
     "text": [
      "2024-03-11 18:42:49,988 - INFO - URL https://www.eversports.de/s/stadtgazellen-studio is valid.\n"
     ]
    },
    {
     "name": "stdout",
     "output_type": "stream",
     "text": [
      "Scraping Pole Studio Data from https://www.eversports.de/s/stadtgazellen-studio...\n"
     ]
    },
    {
     "name": "stderr",
     "output_type": "stream",
     "text": [
      "Processing URLs:  71%|███████   | 356/502 [16:49<04:26,  1.82s/it]"
     ]
    },
    {
     "name": "stdout",
     "output_type": "stream",
     "text": [
      "\n",
      "Processing completed.\n",
      "-------------------------------- \n",
      "\n",
      "2024-03-11 18:42:50 - INFO - Scraping Data from: https://www.eversports.de/s/stadtgazellen-studio\n",
      "Pole Studio Data: 1 entries\n",
      "Starting URL reconstruction...\n"
     ]
    },
    {
     "name": "stderr",
     "output_type": "stream",
     "text": [
      "Processing URLs:  71%|███████   | 357/502 [16:49<03:38,  1.51s/it]"
     ]
    },
    {
     "name": "stdout",
     "output_type": "stream",
     "text": [
      "Error during HTTP request: 404 Client Error: Not Found for url: https://www.eversports.de/s/activo-polefitness\n",
      "Converting to DataFrame...\n",
      "Validating URLs...\n",
      "\n",
      "Processing completed.\n",
      "-------------------------------- \n",
      "\n",
      "Starting URL reconstruction...\n"
     ]
    },
    {
     "name": "stderr",
     "output_type": "stream",
     "text": [
      "2024-03-11 18:42:52,085 - INFO - Processing URL 1/1: https://www.eversports.de/s/dance-and-pole-deltawerk\n"
     ]
    },
    {
     "name": "stdout",
     "output_type": "stream",
     "text": [
      "Converting to DataFrame...\n",
      "Validating URLs...\n"
     ]
    },
    {
     "name": "stderr",
     "output_type": "stream",
     "text": [
      "2024-03-11 18:42:52,849 - INFO - URL https://www.eversports.de/s/dance-and-pole-deltawerk is valid.\n"
     ]
    },
    {
     "name": "stdout",
     "output_type": "stream",
     "text": [
      "Scraping Pole Studio Data from https://www.eversports.de/s/dance-and-pole-deltawerk...\n"
     ]
    },
    {
     "name": "stderr",
     "output_type": "stream",
     "text": [
      "Processing URLs:  71%|███████▏  | 358/502 [16:52<04:09,  1.73s/it]"
     ]
    },
    {
     "name": "stdout",
     "output_type": "stream",
     "text": [
      "\n",
      "Processing completed.\n",
      "-------------------------------- \n",
      "\n",
      "2024-03-11 18:42:53 - INFO - Scraping Data from: https://www.eversports.de/s/dance-and-pole-deltawerk\n",
      "Pole Studio Data: 1 entries\n",
      "Starting URL reconstruction...\n"
     ]
    },
    {
     "name": "stderr",
     "output_type": "stream",
     "text": [
      "Processing URLs:  72%|███████▏  | 359/502 [16:52<03:21,  1.41s/it]"
     ]
    },
    {
     "name": "stdout",
     "output_type": "stream",
     "text": [
      "Error during HTTP request: 404 Client Error: Not Found for url: https://www.eversports.de/s/vertical-moves---pole-dance-%26-sports\n",
      "Converting to DataFrame...\n",
      "Validating URLs...\n",
      "\n",
      "Processing completed.\n",
      "-------------------------------- \n",
      "\n",
      "Starting URL reconstruction...\n"
     ]
    },
    {
     "name": "stderr",
     "output_type": "stream",
     "text": [
      "2024-03-11 18:42:55,881 - INFO - Processing URL 1/1: https://www.eversports.de/s/studio-nienke\n"
     ]
    },
    {
     "name": "stdout",
     "output_type": "stream",
     "text": [
      "Converting to DataFrame...\n",
      "Validating URLs...\n"
     ]
    },
    {
     "name": "stderr",
     "output_type": "stream",
     "text": [
      "2024-03-11 18:42:56,922 - INFO - URL https://www.eversports.de/s/studio-nienke is valid.\n"
     ]
    },
    {
     "name": "stdout",
     "output_type": "stream",
     "text": [
      "Scraping Pole Studio Data from https://www.eversports.de/s/studio-nienke...\n"
     ]
    },
    {
     "name": "stderr",
     "output_type": "stream",
     "text": [
      "Processing URLs:  72%|███████▏  | 360/502 [16:55<04:37,  1.96s/it]"
     ]
    },
    {
     "name": "stdout",
     "output_type": "stream",
     "text": [
      "\n",
      "Processing completed.\n",
      "-------------------------------- \n",
      "\n",
      "2024-03-11 18:42:57 - INFO - Scraping Data from: https://www.eversports.nl/s/studio-nienke\n",
      "Pole Studio Data: 1 entries\n",
      "Starting URL reconstruction...\n"
     ]
    },
    {
     "name": "stderr",
     "output_type": "stream",
     "text": [
      "2024-03-11 18:42:58,287 - INFO - Processing URL 1/2: https://www.eversports.de/s/studio-aeris\n"
     ]
    },
    {
     "name": "stdout",
     "output_type": "stream",
     "text": [
      "Converting to DataFrame...\n",
      "Validating URLs...\n"
     ]
    },
    {
     "name": "stderr",
     "output_type": "stream",
     "text": [
      "2024-03-11 18:42:59,454 - INFO - URL https://www.eversports.de/s/studio-aeris is valid.\n",
      "2024-03-11 18:42:59,456 - INFO - Processing URL 2/2: https://www.eversports.de/sw/studio-aeris\n",
      "2024-03-11 18:43:00,081 - INFO - URL https://www.eversports.de/sw/studio-aeris is not valid.\n"
     ]
    },
    {
     "name": "stdout",
     "output_type": "stream",
     "text": [
      "Scraping Pole Studio Data from https://www.eversports.de/s/studio-aeris...\n"
     ]
    },
    {
     "name": "stderr",
     "output_type": "stream",
     "text": [
      "Processing URLs:  72%|███████▏  | 361/502 [16:59<05:29,  2.33s/it]"
     ]
    },
    {
     "name": "stdout",
     "output_type": "stream",
     "text": [
      "\n",
      "Processing completed.\n",
      "-------------------------------- \n",
      "\n",
      "2024-03-11 18:43:00 - INFO - Scraping Data from: https://www.eversports.de/s/studio-aeris\n",
      "Pole Studio Data: 1 entries\n",
      "Starting URL reconstruction...\n"
     ]
    },
    {
     "name": "stderr",
     "output_type": "stream",
     "text": [
      "Processing URLs:  72%|███████▏  | 362/502 [17:02<06:00,  2.57s/it]"
     ]
    },
    {
     "name": "stdout",
     "output_type": "stream",
     "text": [
      "Error during HTTP request: Exceeded 30 redirects.\n",
      "Converting to DataFrame...\n",
      "Validating URLs...\n",
      "\n",
      "Processing completed.\n",
      "-------------------------------- \n",
      "\n",
      "Starting URL reconstruction...\n"
     ]
    },
    {
     "name": "stderr",
     "output_type": "stream",
     "text": [
      "Processing URLs:  72%|███████▏  | 363/502 [17:06<06:54,  2.98s/it]"
     ]
    },
    {
     "name": "stdout",
     "output_type": "stream",
     "text": [
      "Error during HTTP request: Exceeded 30 redirects.\n",
      "Converting to DataFrame...\n",
      "Validating URLs...\n",
      "\n",
      "Processing completed.\n",
      "-------------------------------- \n",
      "\n",
      "Starting URL reconstruction...\n"
     ]
    },
    {
     "name": "stderr",
     "output_type": "stream",
     "text": [
      "Processing URLs:  73%|███████▎  | 364/502 [17:07<05:30,  2.39s/it]"
     ]
    },
    {
     "name": "stdout",
     "output_type": "stream",
     "text": [
      "Error during HTTP request: 404 Client Error: Not Found for url: https://www.eversports.de/s/la-familia-poleclub\n",
      "Converting to DataFrame...\n",
      "Validating URLs...\n",
      "\n",
      "Processing completed.\n",
      "-------------------------------- \n",
      "\n",
      "Starting URL reconstruction...\n"
     ]
    },
    {
     "name": "stderr",
     "output_type": "stream",
     "text": [
      "Processing URLs:  73%|███████▎  | 365/502 [17:08<04:31,  1.98s/it]"
     ]
    },
    {
     "name": "stdout",
     "output_type": "stream",
     "text": [
      "Error during HTTP request: 404 Client Error: Not Found for url: https://www.eversports.de/s/annaconda-pole-%26-aerial-sports\n",
      "Converting to DataFrame...\n",
      "Validating URLs...\n",
      "\n",
      "Processing completed.\n",
      "-------------------------------- \n",
      "\n",
      "Starting URL reconstruction...\n"
     ]
    },
    {
     "name": "stderr",
     "output_type": "stream",
     "text": [
      "2024-03-11 18:43:10,981 - INFO - Processing URL 1/1: https://www.eversports.de/s/swiss-mega-park\n"
     ]
    },
    {
     "name": "stdout",
     "output_type": "stream",
     "text": [
      "Converting to DataFrame...\n",
      "Validating URLs...\n"
     ]
    },
    {
     "name": "stderr",
     "output_type": "stream",
     "text": [
      "2024-03-11 18:43:12,060 - INFO - URL https://www.eversports.de/s/swiss-mega-park is valid.\n"
     ]
    },
    {
     "name": "stdout",
     "output_type": "stream",
     "text": [
      "Scraping Pole Studio Data from https://www.eversports.de/s/swiss-mega-park...\n"
     ]
    },
    {
     "name": "stderr",
     "output_type": "stream",
     "text": [
      "Processing URLs:  73%|███████▎  | 366/502 [17:11<05:04,  2.24s/it]"
     ]
    },
    {
     "name": "stdout",
     "output_type": "stream",
     "text": [
      "\n",
      "Processing completed.\n",
      "-------------------------------- \n",
      "\n",
      "2024-03-11 18:43:12 - INFO - Scraping Data from: https://www.eversports.de/s/swiss-mega-park\n",
      "Pole Studio Data: 1 entries\n",
      "Starting URL reconstruction...\n"
     ]
    },
    {
     "name": "stderr",
     "output_type": "stream",
     "text": [
      "Processing URLs:  73%|███████▎  | 367/502 [17:11<04:07,  1.83s/it]"
     ]
    },
    {
     "name": "stdout",
     "output_type": "stream",
     "text": [
      "Error during HTTP request: 404 Client Error: Not Found for url: https://www.eversports.de/s/saltosandra\n",
      "Converting to DataFrame...\n",
      "Validating URLs...\n",
      "\n",
      "Processing completed.\n",
      "-------------------------------- \n",
      "\n",
      "Starting URL reconstruction...\n"
     ]
    },
    {
     "name": "stderr",
     "output_type": "stream",
     "text": [
      "Processing URLs:  73%|███████▎  | 368/502 [17:12<03:24,  1.52s/it]"
     ]
    },
    {
     "name": "stdout",
     "output_type": "stream",
     "text": [
      "Error during HTTP request: 404 Client Error: Not Found for url: https://www.eversports.de/s/pole-dance-stuttgart\n",
      "Converting to DataFrame...\n",
      "Validating URLs...\n",
      "\n",
      "Processing completed.\n",
      "-------------------------------- \n",
      "\n",
      "Starting URL reconstruction...\n"
     ]
    },
    {
     "name": "stderr",
     "output_type": "stream",
     "text": [
      "2024-03-11 18:43:16,116 - INFO - Processing URL 1/2: https://www.eversports.de/s/pole-faction-darmstadt\n"
     ]
    },
    {
     "name": "stdout",
     "output_type": "stream",
     "text": [
      "Converting to DataFrame...\n",
      "Validating URLs...\n"
     ]
    },
    {
     "name": "stderr",
     "output_type": "stream",
     "text": [
      "2024-03-11 18:43:17,618 - INFO - URL https://www.eversports.de/s/pole-faction-darmstadt is valid.\n",
      "2024-03-11 18:43:17,619 - INFO - Processing URL 2/2: https://www.eversports.de/sw/pole-faction-darmstadt\n",
      "2024-03-11 18:43:18,557 - INFO - URL https://www.eversports.de/sw/pole-faction-darmstadt is valid.\n"
     ]
    },
    {
     "name": "stdout",
     "output_type": "stream",
     "text": [
      "Scraping Pole Studio Data from https://www.eversports.de/s/pole-faction-darmstadt...\n",
      "Scraping Workshops Data from https://www.eversports.de/sw/pole-faction-darmstadt...\n",
      "Scraping Workshop Details from https://www.eversports.de/e/workshop/FP-cEyn...\n",
      "Scraping Workshop Details from https://www.eversports.de/e/workshop/R763nUE...\n"
     ]
    },
    {
     "name": "stderr",
     "output_type": "stream",
     "text": [
      "Processing URLs:  74%|███████▎  | 369/502 [17:19<07:04,  3.19s/it]"
     ]
    },
    {
     "name": "stdout",
     "output_type": "stream",
     "text": [
      "\n",
      "Processing completed.\n",
      "-------------------------------- \n",
      "\n",
      "2024-03-11 18:43:21 - INFO - Scraping Data from: https://www.eversports.de/s/pole-faction-darmstadt\n",
      "Pole Studio Data: 1 entries\n",
      "2024-03-11 18:43:21 - INFO - Scraping Data from: https://www.eversports.de/s/pole-faction-darmstadt\n",
      "Workshops Data: 2 entries\n",
      "2024-03-11 18:43:21 - INFO - Scraping Data from: https://www.eversports.de/s/pole-faction-darmstadt\n",
      "Workshop Details: 2 entries\n",
      "Starting URL reconstruction...\n"
     ]
    },
    {
     "name": "stderr",
     "output_type": "stream",
     "text": [
      "Processing URLs:  74%|███████▎  | 370/502 [17:21<05:54,  2.68s/it]"
     ]
    },
    {
     "name": "stdout",
     "output_type": "stream",
     "text": [
      "Error during HTTP request: 404 Client Error: Not Found for url: https://www.eversports.be/s/lift-off-poledance-academy\n",
      "Converting to DataFrame...\n",
      "Validating URLs...\n",
      "\n",
      "Processing completed.\n",
      "-------------------------------- \n",
      "\n",
      "Starting URL reconstruction...\n"
     ]
    },
    {
     "name": "stderr",
     "output_type": "stream",
     "text": [
      "Processing URLs:  74%|███████▍  | 371/502 [17:22<04:33,  2.09s/it]"
     ]
    },
    {
     "name": "stdout",
     "output_type": "stream",
     "text": [
      "Error during HTTP request: 404 Client Error: Not Found for url: https://www.eversports.de/s/move-lounge-pilates,-powerplate,-trx,-personaltraining\n",
      "Converting to DataFrame...\n",
      "Validating URLs...\n",
      "\n",
      "Processing completed.\n",
      "-------------------------------- \n",
      "\n",
      "Starting URL reconstruction...\n"
     ]
    },
    {
     "name": "stderr",
     "output_type": "stream",
     "text": [
      "Processing URLs:  74%|███████▍  | 372/502 [17:23<03:56,  1.82s/it]"
     ]
    },
    {
     "name": "stdout",
     "output_type": "stream",
     "text": [
      "Error during HTTP request: 404 Client Error: Not Found for url: https://www.eversports.de/s/poleplace\n",
      "Converting to DataFrame...\n",
      "Validating URLs...\n",
      "\n",
      "Processing completed.\n",
      "-------------------------------- \n",
      "\n",
      "Starting URL reconstruction...\n"
     ]
    },
    {
     "name": "stderr",
     "output_type": "stream",
     "text": [
      "2024-03-11 18:43:25,630 - INFO - Processing URL 1/2: https://www.eversports.de/s/poleathletix\n"
     ]
    },
    {
     "name": "stdout",
     "output_type": "stream",
     "text": [
      "Converting to DataFrame...\n",
      "Validating URLs...\n"
     ]
    },
    {
     "name": "stderr",
     "output_type": "stream",
     "text": [
      "2024-03-11 18:43:26,510 - INFO - URL https://www.eversports.de/s/poleathletix is valid.\n",
      "2024-03-11 18:43:26,511 - INFO - Processing URL 2/2: https://www.eversports.de/sw/poleathletix\n",
      "2024-03-11 18:43:27,282 - INFO - URL https://www.eversports.de/sw/poleathletix is valid.\n"
     ]
    },
    {
     "name": "stdout",
     "output_type": "stream",
     "text": [
      "Scraping Pole Studio Data from https://www.eversports.de/s/poleathletix...\n",
      "Scraping Workshops Data from https://www.eversports.de/sw/poleathletix...\n",
      "Scraping Workshop Details from https://www.eversports.de/e/workshop/fWcLCKr...\n",
      "Scraping Workshop Details from https://www.eversports.de/e/workshop/csrqGyT...\n",
      "Scraping Workshop Details from https://www.eversports.de/e/workshop/B5-Mkby...\n",
      "Scraping Workshop Details from https://www.eversports.de/e/workshop/U0ioQ4p...\n",
      "Scraping Workshop Details from https://www.eversports.de/e/workshop/GM0YnVC...\n",
      "Scraping Workshop Details from https://www.eversports.de/e/workshop/Q4B35ej...\n",
      "Scraping Workshop Details from https://www.eversports.de/e/workshop/AdR6zU9...\n",
      "Scraping Workshop Details from https://www.eversports.de/e/workshop/wpSmtjj...\n"
     ]
    },
    {
     "name": "stderr",
     "output_type": "stream",
     "text": [
      "Processing URLs:  74%|███████▍  | 373/502 [17:37<11:37,  5.41s/it]"
     ]
    },
    {
     "name": "stdout",
     "output_type": "stream",
     "text": [
      "\n",
      "Processing completed.\n",
      "-------------------------------- \n",
      "\n",
      "2024-03-11 18:43:38 - INFO - Scraping Data from: https://www.eversports.de/s/poleathletix\n",
      "Pole Studio Data: 1 entries\n",
      "2024-03-11 18:43:38 - INFO - Scraping Data from: https://www.eversports.de/s/poleathletix\n",
      "Workshops Data: 8 entries\n",
      "2024-03-11 18:43:38 - INFO - Scraping Data from: https://www.eversports.de/s/poleathletix\n",
      "Workshop Details: 8 entries\n",
      "Starting URL reconstruction...\n"
     ]
    },
    {
     "name": "stderr",
     "output_type": "stream",
     "text": [
      "2024-03-11 18:43:39,615 - INFO - Processing URL 1/1: https://www.eversports.de/s/polestructions\n"
     ]
    },
    {
     "name": "stdout",
     "output_type": "stream",
     "text": [
      "Converting to DataFrame...\n",
      "Validating URLs...\n"
     ]
    },
    {
     "name": "stderr",
     "output_type": "stream",
     "text": [
      "2024-03-11 18:43:41,211 - INFO - URL https://www.eversports.de/s/polestructions is valid.\n"
     ]
    },
    {
     "name": "stdout",
     "output_type": "stream",
     "text": [
      "Scraping Pole Studio Data from https://www.eversports.de/s/polestructions...\n"
     ]
    },
    {
     "name": "stderr",
     "output_type": "stream",
     "text": [
      "Processing URLs:  75%|███████▍  | 374/502 [17:40<10:16,  4.82s/it]"
     ]
    },
    {
     "name": "stdout",
     "output_type": "stream",
     "text": [
      "\n",
      "Processing completed.\n",
      "-------------------------------- \n",
      "\n",
      "2024-03-11 18:43:41 - INFO - Scraping Data from: https://www.eversports.de/s/polestructions\n",
      "Pole Studio Data: 1 entries\n",
      "Starting URL reconstruction...\n"
     ]
    },
    {
     "name": "stderr",
     "output_type": "stream",
     "text": [
      "Processing URLs:  75%|███████▍  | 375/502 [17:41<07:33,  3.57s/it]"
     ]
    },
    {
     "name": "stdout",
     "output_type": "stream",
     "text": [
      "Error during HTTP request: 404 Client Error: Not Found for url: https://www.eversports.de/s/pole-dance-academy-hameln\n",
      "Converting to DataFrame...\n",
      "Validating URLs...\n",
      "\n",
      "Processing completed.\n",
      "-------------------------------- \n",
      "\n",
      "Starting URL reconstruction...\n"
     ]
    },
    {
     "name": "stderr",
     "output_type": "stream",
     "text": [
      "Processing URLs:  75%|███████▍  | 376/502 [17:41<05:39,  2.70s/it]"
     ]
    },
    {
     "name": "stdout",
     "output_type": "stream",
     "text": [
      "Error during HTTP request: 404 Client Error: Not Found for url: https://www.eversports.de/s/polegarage-iserloh\n",
      "Converting to DataFrame...\n",
      "Validating URLs...\n",
      "\n",
      "Processing completed.\n",
      "-------------------------------- \n",
      "\n",
      "Starting URL reconstruction...\n"
     ]
    },
    {
     "name": "stderr",
     "output_type": "stream",
     "text": [
      "2024-03-11 18:43:44,867 - INFO - Processing URL 1/1: https://www.eversports.de/s/full-moon-studio-thieffry-etterbeek\n"
     ]
    },
    {
     "name": "stdout",
     "output_type": "stream",
     "text": [
      "Converting to DataFrame...\n",
      "Validating URLs...\n"
     ]
    },
    {
     "name": "stderr",
     "output_type": "stream",
     "text": [
      "2024-03-11 18:43:46,120 - INFO - URL https://www.eversports.de/s/full-moon-studio-thieffry-etterbeek is valid.\n"
     ]
    },
    {
     "name": "stdout",
     "output_type": "stream",
     "text": [
      "Scraping Pole Studio Data from https://www.eversports.de/s/full-moon-studio-thieffry-etterbeek...\n"
     ]
    },
    {
     "name": "stderr",
     "output_type": "stream",
     "text": [
      "Processing URLs:  75%|███████▌  | 377/502 [17:45<06:00,  2.88s/it]"
     ]
    },
    {
     "name": "stdout",
     "output_type": "stream",
     "text": [
      "\n",
      "Processing completed.\n",
      "-------------------------------- \n",
      "\n",
      "2024-03-11 18:43:46 - INFO - Scraping Data from: https://www.eversports.be/s/full-moon-studio-thieffry-etterbeek\n",
      "Pole Studio Data: 1 entries\n",
      "Starting URL reconstruction...\n"
     ]
    },
    {
     "name": "stderr",
     "output_type": "stream",
     "text": [
      "Processing URLs:  75%|███████▌  | 378/502 [17:46<04:51,  2.35s/it]"
     ]
    },
    {
     "name": "stdout",
     "output_type": "stream",
     "text": [
      "Error during HTTP request: 404 Client Error: Not Found for url: https://www.eversports.de/s/secret-moves---athletic-dance-studio\n",
      "Converting to DataFrame...\n",
      "Validating URLs...\n",
      "\n",
      "Processing completed.\n",
      "-------------------------------- \n",
      "\n",
      "Starting URL reconstruction...\n"
     ]
    },
    {
     "name": "stderr",
     "output_type": "stream",
     "text": [
      "Processing URLs:  75%|███████▌  | 379/502 [17:46<03:47,  1.85s/it]"
     ]
    },
    {
     "name": "stdout",
     "output_type": "stream",
     "text": [
      "Error during HTTP request: 404 Client Error: Not Found for url: https://www.eversports.de/s/dance-%26-fitness-academy\n",
      "Converting to DataFrame...\n",
      "Validating URLs...\n",
      "\n",
      "Processing completed.\n",
      "-------------------------------- \n",
      "\n",
      "Starting URL reconstruction...\n"
     ]
    },
    {
     "name": "stderr",
     "output_type": "stream",
     "text": [
      "Processing URLs:  76%|███████▌  | 380/502 [17:47<03:00,  1.48s/it]"
     ]
    },
    {
     "name": "stdout",
     "output_type": "stream",
     "text": [
      "Error during HTTP request: 404 Client Error: Not Found for url: https://www.eversports.de/s/aerial-art-poledance-city-base\n",
      "Converting to DataFrame...\n",
      "Validating URLs...\n",
      "\n",
      "Processing completed.\n",
      "-------------------------------- \n",
      "\n",
      "Starting URL reconstruction...\n"
     ]
    },
    {
     "name": "stderr",
     "output_type": "stream",
     "text": [
      "Processing URLs:  76%|███████▌  | 381/502 [17:48<02:29,  1.23s/it]"
     ]
    },
    {
     "name": "stdout",
     "output_type": "stream",
     "text": [
      "Error during HTTP request: 404 Client Error: Not Found for url: https://www.eversports.de/s/move-on!-dance-studio-%26-polemotions\n",
      "Converting to DataFrame...\n",
      "Validating URLs...\n",
      "\n",
      "Processing completed.\n",
      "-------------------------------- \n",
      "\n",
      "Starting URL reconstruction...\n"
     ]
    },
    {
     "name": "stderr",
     "output_type": "stream",
     "text": [
      "Processing URLs:  76%|███████▌  | 382/502 [17:48<02:06,  1.06s/it]"
     ]
    },
    {
     "name": "stdout",
     "output_type": "stream",
     "text": [
      "Error during HTTP request: 404 Client Error: Not Found for url: https://www.eversports.de/s/jeds\n",
      "Converting to DataFrame...\n",
      "Validating URLs...\n",
      "\n",
      "Processing completed.\n",
      "-------------------------------- \n",
      "\n",
      "Starting URL reconstruction...\n"
     ]
    },
    {
     "name": "stderr",
     "output_type": "stream",
     "text": [
      "Processing URLs:  76%|███████▋  | 383/502 [17:52<03:30,  1.77s/it]"
     ]
    },
    {
     "name": "stdout",
     "output_type": "stream",
     "text": [
      "Error during HTTP request: Exceeded 30 redirects.\n",
      "Converting to DataFrame...\n",
      "Validating URLs...\n",
      "\n",
      "Processing completed.\n",
      "-------------------------------- \n",
      "\n",
      "Starting URL reconstruction...\n"
     ]
    },
    {
     "name": "stderr",
     "output_type": "stream",
     "text": [
      "2024-03-11 18:43:55,487 - INFO - Processing URL 1/1: https://www.eversports.de/s/infinity-polesports\n"
     ]
    },
    {
     "name": "stdout",
     "output_type": "stream",
     "text": [
      "Converting to DataFrame...\n",
      "Validating URLs...\n"
     ]
    },
    {
     "name": "stderr",
     "output_type": "stream",
     "text": [
      "2024-03-11 18:43:56,326 - INFO - URL https://www.eversports.de/s/infinity-polesports is valid.\n"
     ]
    },
    {
     "name": "stdout",
     "output_type": "stream",
     "text": [
      "Scraping Pole Studio Data from https://www.eversports.de/s/infinity-polesports...\n"
     ]
    },
    {
     "name": "stderr",
     "output_type": "stream",
     "text": [
      "Processing URLs:  76%|███████▋  | 384/502 [17:55<04:15,  2.16s/it]"
     ]
    },
    {
     "name": "stdout",
     "output_type": "stream",
     "text": [
      "\n",
      "Processing completed.\n",
      "-------------------------------- \n",
      "\n",
      "2024-03-11 18:43:56 - INFO - Scraping Data from: https://www.eversports.de/s/infinity-polesports\n",
      "Pole Studio Data: 1 entries\n",
      "Starting URL reconstruction...\n"
     ]
    },
    {
     "name": "stderr",
     "output_type": "stream",
     "text": [
      "Processing URLs:  77%|███████▋  | 385/502 [17:58<04:53,  2.51s/it]"
     ]
    },
    {
     "name": "stdout",
     "output_type": "stream",
     "text": [
      "Error during HTTP request: Exceeded 30 redirects.\n",
      "Converting to DataFrame...\n",
      "Validating URLs...\n",
      "\n",
      "Processing completed.\n",
      "-------------------------------- \n",
      "\n",
      "Starting URL reconstruction...\n"
     ]
    },
    {
     "name": "stderr",
     "output_type": "stream",
     "text": [
      "2024-03-11 18:44:00,818 - INFO - Processing URL 1/1: https://www.eversports.de/s/muse-pole-dance\n"
     ]
    },
    {
     "name": "stdout",
     "output_type": "stream",
     "text": [
      "Converting to DataFrame...\n",
      "Validating URLs...\n"
     ]
    },
    {
     "name": "stderr",
     "output_type": "stream",
     "text": [
      "2024-03-11 18:44:01,742 - INFO - URL https://www.eversports.de/s/muse-pole-dance is valid.\n"
     ]
    },
    {
     "name": "stdout",
     "output_type": "stream",
     "text": [
      "Scraping Pole Studio Data from https://www.eversports.de/s/muse-pole-dance...\n"
     ]
    },
    {
     "name": "stderr",
     "output_type": "stream",
     "text": [
      "Processing URLs:  77%|███████▋  | 386/502 [18:00<04:34,  2.37s/it]"
     ]
    },
    {
     "name": "stdout",
     "output_type": "stream",
     "text": [
      "\n",
      "Processing completed.\n",
      "-------------------------------- \n",
      "\n",
      "2024-03-11 18:44:02 - INFO - Scraping Data from: https://www.eversports.de/s/muse-pole-dance\n",
      "Pole Studio Data: 1 entries\n",
      "Starting URL reconstruction...\n"
     ]
    },
    {
     "name": "stderr",
     "output_type": "stream",
     "text": [
      "2024-03-11 18:44:03,349 - INFO - Processing URL 1/1: https://www.eversports.de/s/pole-statement\n"
     ]
    },
    {
     "name": "stdout",
     "output_type": "stream",
     "text": [
      "Converting to DataFrame...\n",
      "Validating URLs...\n"
     ]
    },
    {
     "name": "stderr",
     "output_type": "stream",
     "text": [
      "2024-03-11 18:44:04,140 - INFO - URL https://www.eversports.de/s/pole-statement is valid.\n"
     ]
    },
    {
     "name": "stdout",
     "output_type": "stream",
     "text": [
      "Scraping Pole Studio Data from https://www.eversports.de/s/pole-statement...\n"
     ]
    },
    {
     "name": "stderr",
     "output_type": "stream",
     "text": [
      "Processing URLs:  77%|███████▋  | 387/502 [18:03<04:33,  2.38s/it]"
     ]
    },
    {
     "name": "stdout",
     "output_type": "stream",
     "text": [
      "\n",
      "Processing completed.\n",
      "-------------------------------- \n",
      "\n",
      "2024-03-11 18:44:04 - INFO - Scraping Data from: https://www.eversports.de/s/pole-statement\n",
      "Pole Studio Data: 1 entries\n",
      "Starting URL reconstruction...\n"
     ]
    },
    {
     "name": "stderr",
     "output_type": "stream",
     "text": [
      "Processing URLs:  77%|███████▋  | 388/502 [18:03<03:32,  1.86s/it]"
     ]
    },
    {
     "name": "stdout",
     "output_type": "stream",
     "text": [
      "Error during HTTP request: 404 Client Error: Not Found for url: https://www.eversports.de/s/gravity-arts-luzern\n",
      "Converting to DataFrame...\n",
      "Validating URLs...\n",
      "\n",
      "Processing completed.\n",
      "-------------------------------- \n",
      "\n",
      "Starting URL reconstruction...\n"
     ]
    },
    {
     "name": "stderr",
     "output_type": "stream",
     "text": [
      "Processing URLs:  77%|███████▋  | 389/502 [18:04<02:48,  1.49s/it]"
     ]
    },
    {
     "name": "stdout",
     "output_type": "stream",
     "text": [
      "Error during HTTP request: 404 Client Error: Not Found for url: https://www.eversports.de/s/pole-yourself\n",
      "Converting to DataFrame...\n",
      "Validating URLs...\n",
      "\n",
      "Processing completed.\n",
      "-------------------------------- \n",
      "\n",
      "Starting URL reconstruction...\n"
     ]
    },
    {
     "name": "stderr",
     "output_type": "stream",
     "text": [
      "Processing URLs:  78%|███████▊  | 390/502 [18:05<02:18,  1.24s/it]"
     ]
    },
    {
     "name": "stdout",
     "output_type": "stream",
     "text": [
      "Error during HTTP request: 404 Client Error: Not Found for url: https://www.eversports.de/s/360-grad-soulsports\n",
      "Converting to DataFrame...\n",
      "Validating URLs...\n",
      "\n",
      "Processing completed.\n",
      "-------------------------------- \n",
      "\n",
      "Starting URL reconstruction...\n"
     ]
    },
    {
     "name": "stderr",
     "output_type": "stream",
     "text": [
      "2024-03-11 18:44:07,442 - INFO - Processing URL 1/1: https://www.eversports.de/s/upsidedown-studio-friedrichsdorf\n"
     ]
    },
    {
     "name": "stdout",
     "output_type": "stream",
     "text": [
      "Converting to DataFrame...\n",
      "Validating URLs...\n"
     ]
    },
    {
     "name": "stderr",
     "output_type": "stream",
     "text": [
      "2024-03-11 18:44:08,278 - INFO - URL https://www.eversports.de/s/upsidedown-studio-friedrichsdorf is valid.\n"
     ]
    },
    {
     "name": "stdout",
     "output_type": "stream",
     "text": [
      "Scraping Pole Studio Data from https://www.eversports.de/s/upsidedown-studio-friedrichsdorf...\n"
     ]
    },
    {
     "name": "stderr",
     "output_type": "stream",
     "text": [
      "Processing URLs:  78%|███████▊  | 391/502 [18:07<02:55,  1.58s/it]"
     ]
    },
    {
     "name": "stdout",
     "output_type": "stream",
     "text": [
      "\n",
      "Processing completed.\n",
      "-------------------------------- \n",
      "\n",
      "2024-03-11 18:44:08 - INFO - Scraping Data from: https://www.eversports.de/s/upsidedown-studio-friedrichsdorf\n",
      "Pole Studio Data: 1 entries\n",
      "Starting URL reconstruction...\n"
     ]
    },
    {
     "name": "stderr",
     "output_type": "stream",
     "text": [
      "Processing URLs:  78%|███████▊  | 392/502 [18:11<04:25,  2.41s/it]"
     ]
    },
    {
     "name": "stdout",
     "output_type": "stream",
     "text": [
      "Error during HTTP request: Exceeded 30 redirects.\n",
      "Converting to DataFrame...\n",
      "Validating URLs...\n",
      "\n",
      "Processing completed.\n",
      "-------------------------------- \n",
      "\n",
      "Starting URL reconstruction...\n"
     ]
    },
    {
     "name": "stderr",
     "output_type": "stream",
     "text": [
      "Processing URLs:  78%|███████▊  | 393/502 [18:15<04:50,  2.67s/it]"
     ]
    },
    {
     "name": "stdout",
     "output_type": "stream",
     "text": [
      "Error during HTTP request: Exceeded 30 redirects.\n",
      "Converting to DataFrame...\n",
      "Validating URLs...\n",
      "\n",
      "Processing completed.\n",
      "-------------------------------- \n",
      "\n",
      "Starting URL reconstruction...\n"
     ]
    },
    {
     "name": "stderr",
     "output_type": "stream",
     "text": [
      "Processing URLs:  78%|███████▊  | 394/502 [18:15<03:44,  2.08s/it]"
     ]
    },
    {
     "name": "stdout",
     "output_type": "stream",
     "text": [
      "Error during HTTP request: 404 Client Error: Not Found for url: https://www.eversports.de/s/studio-elodie-tanzbewegung\n",
      "Converting to DataFrame...\n",
      "Validating URLs...\n",
      "\n",
      "Processing completed.\n",
      "-------------------------------- \n",
      "\n",
      "Starting URL reconstruction...\n"
     ]
    },
    {
     "name": "stderr",
     "output_type": "stream",
     "text": [
      "Processing URLs:  79%|███████▊  | 395/502 [18:16<02:55,  1.64s/it]"
     ]
    },
    {
     "name": "stdout",
     "output_type": "stream",
     "text": [
      "Error during HTTP request: 404 Client Error: Not Found for url: https://www.eversports.de/s/the-miss-filly-institute-of-pole\n",
      "Converting to DataFrame...\n",
      "Validating URLs...\n",
      "\n",
      "Processing completed.\n",
      "-------------------------------- \n",
      "\n",
      "Starting URL reconstruction...\n"
     ]
    },
    {
     "name": "stderr",
     "output_type": "stream",
     "text": [
      "Processing URLs:  79%|███████▉  | 396/502 [18:16<02:22,  1.35s/it]"
     ]
    },
    {
     "name": "stdout",
     "output_type": "stream",
     "text": [
      "Error during HTTP request: 404 Client Error: Not Found for url: https://www.eversports.de/s/tanzstudio-vi-dance-dortmund\n",
      "Converting to DataFrame...\n",
      "Validating URLs...\n",
      "\n",
      "Processing completed.\n",
      "-------------------------------- \n",
      "\n",
      "Starting URL reconstruction...\n"
     ]
    },
    {
     "name": "stderr",
     "output_type": "stream",
     "text": [
      "2024-03-11 18:44:19,509 - INFO - Processing URL 1/2: https://www.eversports.de/s/tsg-blau-gold-giessen-ev\n"
     ]
    },
    {
     "name": "stdout",
     "output_type": "stream",
     "text": [
      "Converting to DataFrame...\n",
      "Validating URLs...\n"
     ]
    },
    {
     "name": "stderr",
     "output_type": "stream",
     "text": [
      "2024-03-11 18:44:20,426 - INFO - URL https://www.eversports.de/s/tsg-blau-gold-giessen-ev is valid.\n",
      "2024-03-11 18:44:20,428 - INFO - Processing URL 2/2: https://www.eversports.de/sw/tsg-blau-gold-giessen-ev\n",
      "2024-03-11 18:44:21,203 - INFO - URL https://www.eversports.de/sw/tsg-blau-gold-giessen-ev is valid.\n"
     ]
    },
    {
     "name": "stdout",
     "output_type": "stream",
     "text": [
      "Scraping Pole Studio Data from https://www.eversports.de/s/tsg-blau-gold-giessen-ev...\n",
      "Scraping Workshops Data from https://www.eversports.de/sw/tsg-blau-gold-giessen-ev...\n",
      "Scraping Workshop Details from https://www.eversports.de/e/workshop/tFkZ7tt...\n",
      "Scraping Workshop Details from https://www.eversports.de/e/workshop/kTY0ERN...\n",
      "Scraping Workshop Details from https://www.eversports.de/e/workshop/OGVid-T...\n",
      "Scraping Workshop Details from https://www.eversports.de/e/workshop/r_s8Xmg...\n"
     ]
    },
    {
     "name": "stderr",
     "output_type": "stream",
     "text": [
      "Processing URLs:  79%|███████▉  | 397/502 [18:24<05:46,  3.30s/it]"
     ]
    },
    {
     "name": "stdout",
     "output_type": "stream",
     "text": [
      "\n",
      "Processing completed.\n",
      "-------------------------------- \n",
      "\n",
      "2024-03-11 18:44:26 - INFO - Scraping Data from: https://www.eversports.de/s/tsg-blau-gold-giessen-ev\n",
      "Pole Studio Data: 1 entries\n",
      "2024-03-11 18:44:26 - INFO - Scraping Data from: https://www.eversports.de/s/tsg-blau-gold-giessen-ev\n",
      "Workshops Data: 4 entries\n",
      "2024-03-11 18:44:26 - INFO - Scraping Data from: https://www.eversports.de/s/tsg-blau-gold-giessen-ev\n",
      "Workshop Details: 4 entries\n",
      "Starting URL reconstruction...\n"
     ]
    },
    {
     "name": "stderr",
     "output_type": "stream",
     "text": [
      "Processing URLs:  79%|███████▉  | 398/502 [18:25<04:24,  2.55s/it]"
     ]
    },
    {
     "name": "stdout",
     "output_type": "stream",
     "text": [
      "Error during HTTP request: 404 Client Error: Not Found for url: https://www.eversports.de/s/empire-pole\n",
      "Converting to DataFrame...\n",
      "Validating URLs...\n",
      "\n",
      "Processing completed.\n",
      "-------------------------------- \n",
      "\n",
      "Starting URL reconstruction...\n"
     ]
    },
    {
     "name": "stderr",
     "output_type": "stream",
     "text": [
      "2024-03-11 18:44:27,761 - INFO - Processing URL 1/1: https://www.eversports.de/s/poleaddict\n"
     ]
    },
    {
     "name": "stdout",
     "output_type": "stream",
     "text": [
      "Converting to DataFrame...\n",
      "Validating URLs...\n"
     ]
    },
    {
     "name": "stderr",
     "output_type": "stream",
     "text": [
      "2024-03-11 18:44:28,571 - INFO - URL https://www.eversports.de/s/poleaddict is valid.\n"
     ]
    },
    {
     "name": "stdout",
     "output_type": "stream",
     "text": [
      "Scraping Pole Studio Data from https://www.eversports.de/s/poleaddict...\n"
     ]
    },
    {
     "name": "stderr",
     "output_type": "stream",
     "text": [
      "Processing URLs:  79%|███████▉  | 399/502 [18:27<03:59,  2.32s/it]"
     ]
    },
    {
     "name": "stdout",
     "output_type": "stream",
     "text": [
      "\n",
      "Processing completed.\n",
      "-------------------------------- \n",
      "\n",
      "2024-03-11 18:44:28 - INFO - Scraping Data from: https://www.eversports.de/s/poleaddict\n",
      "Pole Studio Data: 1 entries\n",
      "Starting URL reconstruction...\n"
     ]
    },
    {
     "name": "stderr",
     "output_type": "stream",
     "text": [
      "Processing URLs:  80%|███████▉  | 400/502 [18:28<03:04,  1.81s/it]"
     ]
    },
    {
     "name": "stdout",
     "output_type": "stream",
     "text": [
      "Error during HTTP request: 404 Client Error: Not Found for url: https://www.eversports.de/s/health-and-shape\n",
      "Converting to DataFrame...\n",
      "Validating URLs...\n",
      "\n",
      "Processing completed.\n",
      "-------------------------------- \n",
      "\n",
      "Starting URL reconstruction...\n"
     ]
    },
    {
     "name": "stderr",
     "output_type": "stream",
     "text": [
      "2024-03-11 18:44:31,100 - INFO - Processing URL 1/1: https://www.eversports.de/s/pure-body-concepts-1\n"
     ]
    },
    {
     "name": "stdout",
     "output_type": "stream",
     "text": [
      "Converting to DataFrame...\n",
      "Validating URLs...\n"
     ]
    },
    {
     "name": "stderr",
     "output_type": "stream",
     "text": [
      "2024-03-11 18:44:31,964 - INFO - URL https://www.eversports.de/s/pure-body-concepts-1 is valid.\n"
     ]
    },
    {
     "name": "stdout",
     "output_type": "stream",
     "text": [
      "Scraping Pole Studio Data from https://www.eversports.de/s/pure-body-concepts-1...\n"
     ]
    },
    {
     "name": "stderr",
     "output_type": "stream",
     "text": [
      "Processing URLs:  80%|███████▉  | 401/502 [18:31<03:53,  2.31s/it]"
     ]
    },
    {
     "name": "stdout",
     "output_type": "stream",
     "text": [
      "\n",
      "Processing completed.\n",
      "-------------------------------- \n",
      "\n",
      "2024-03-11 18:44:32 - INFO - Scraping Data from: https://www.eversports.de/s/pure-body-concepts-1\n",
      "Pole Studio Data: 1 entries\n",
      "Starting URL reconstruction...\n"
     ]
    },
    {
     "name": "stderr",
     "output_type": "stream",
     "text": [
      "2024-03-11 18:44:33,869 - INFO - Processing URL 1/1: https://www.eversports.de/s/tanzteufel\n"
     ]
    },
    {
     "name": "stdout",
     "output_type": "stream",
     "text": [
      "Converting to DataFrame...\n",
      "Validating URLs...\n"
     ]
    },
    {
     "name": "stderr",
     "output_type": "stream",
     "text": [
      "2024-03-11 18:44:35,000 - INFO - URL https://www.eversports.de/s/tanzteufel is valid.\n"
     ]
    },
    {
     "name": "stdout",
     "output_type": "stream",
     "text": [
      "Scraping Pole Studio Data from https://www.eversports.de/s/tanzteufel...\n"
     ]
    },
    {
     "name": "stderr",
     "output_type": "stream",
     "text": [
      "Processing URLs:  80%|████████  | 402/502 [18:33<03:55,  2.35s/it]"
     ]
    },
    {
     "name": "stdout",
     "output_type": "stream",
     "text": [
      "\n",
      "Processing completed.\n",
      "-------------------------------- \n",
      "\n",
      "2024-03-11 18:44:35 - INFO - Scraping Data from: https://www.eversports.de/s/tanzteufel\n",
      "Pole Studio Data: 1 entries\n",
      "Starting URL reconstruction...\n"
     ]
    },
    {
     "name": "stderr",
     "output_type": "stream",
     "text": [
      "Processing URLs:  80%|████████  | 403/502 [18:35<03:16,  1.98s/it]"
     ]
    },
    {
     "name": "stdout",
     "output_type": "stream",
     "text": [
      "Error during HTTP request: 404 Client Error: Not Found for url: https://www.eversports.de/s/die-dance-academy-by-wipper\n",
      "Converting to DataFrame...\n",
      "Validating URLs...\n",
      "\n",
      "Processing completed.\n",
      "-------------------------------- \n",
      "\n",
      "Starting URL reconstruction...\n"
     ]
    },
    {
     "name": "stderr",
     "output_type": "stream",
     "text": [
      "Processing URLs:  80%|████████  | 404/502 [18:35<02:40,  1.64s/it]"
     ]
    },
    {
     "name": "stdout",
     "output_type": "stream",
     "text": [
      "Error during HTTP request: 404 Client Error: Not Found for url: https://www.eversports.de/s/pole-faction-pole-dance-and-fitness\n",
      "Converting to DataFrame...\n",
      "Validating URLs...\n",
      "\n",
      "Processing completed.\n",
      "-------------------------------- \n",
      "\n",
      "Starting URL reconstruction...\n"
     ]
    },
    {
     "name": "stderr",
     "output_type": "stream",
     "text": [
      "2024-03-11 18:44:38,270 - INFO - Processing URL 1/2: https://www.eversports.de/s/pole-formance\n"
     ]
    },
    {
     "name": "stdout",
     "output_type": "stream",
     "text": [
      "Converting to DataFrame...\n",
      "Validating URLs...\n"
     ]
    },
    {
     "name": "stderr",
     "output_type": "stream",
     "text": [
      "2024-03-11 18:44:39,081 - INFO - URL https://www.eversports.de/s/pole-formance is valid.\n",
      "2024-03-11 18:44:39,082 - INFO - Processing URL 2/2: https://www.eversports.de/sw/pole-formance\n",
      "2024-03-11 18:44:39,730 - INFO - URL https://www.eversports.de/sw/pole-formance is valid.\n"
     ]
    },
    {
     "name": "stdout",
     "output_type": "stream",
     "text": [
      "Scraping Pole Studio Data from https://www.eversports.de/s/pole-formance...\n",
      "Scraping Workshops Data from https://www.eversports.de/sw/pole-formance...\n",
      "Scraping Workshop Details from https://www.eversports.de/e/workshop/OKCi40X...\n"
     ]
    },
    {
     "name": "stderr",
     "output_type": "stream",
     "text": [
      "Processing URLs:  81%|████████  | 405/502 [18:40<03:51,  2.39s/it]"
     ]
    },
    {
     "name": "stdout",
     "output_type": "stream",
     "text": [
      "\n",
      "Processing completed.\n",
      "-------------------------------- \n",
      "\n",
      "2024-03-11 18:44:41 - INFO - Scraping Data from: https://www.eversports.de/s/pole-formance\n",
      "Pole Studio Data: 1 entries\n",
      "2024-03-11 18:44:41 - INFO - Scraping Data from: https://www.eversports.de/s/pole-formance\n",
      "Workshops Data: 1 entries\n",
      "2024-03-11 18:44:41 - INFO - Scraping Data from: https://www.eversports.de/s/pole-formance\n",
      "Workshop Details: 1 entries\n",
      "Starting URL reconstruction...\n"
     ]
    },
    {
     "name": "stderr",
     "output_type": "stream",
     "text": [
      "Processing URLs:  81%|████████  | 406/502 [18:40<02:57,  1.85s/it]"
     ]
    },
    {
     "name": "stdout",
     "output_type": "stream",
     "text": [
      "Error during HTTP request: 404 Client Error: Not Found for url: https://www.eversports.de/s/mypole\n",
      "Converting to DataFrame...\n",
      "Validating URLs...\n",
      "\n",
      "Processing completed.\n",
      "-------------------------------- \n",
      "\n",
      "Starting URL reconstruction...\n"
     ]
    },
    {
     "name": "stderr",
     "output_type": "stream",
     "text": [
      "2024-03-11 18:44:43,229 - INFO - Processing URL 1/2: https://www.eversports.de/s/pole-and-move-mannheim\n"
     ]
    },
    {
     "name": "stdout",
     "output_type": "stream",
     "text": [
      "Converting to DataFrame...\n",
      "Validating URLs...\n"
     ]
    },
    {
     "name": "stderr",
     "output_type": "stream",
     "text": [
      "2024-03-11 18:44:44,261 - INFO - URL https://www.eversports.de/s/pole-and-move-mannheim is valid.\n",
      "2024-03-11 18:44:44,263 - INFO - Processing URL 2/2: https://www.eversports.de/sw/pole-and-move-mannheim\n",
      "2024-03-11 18:44:45,032 - INFO - URL https://www.eversports.de/sw/pole-and-move-mannheim is valid.\n"
     ]
    },
    {
     "name": "stdout",
     "output_type": "stream",
     "text": [
      "Scraping Pole Studio Data from https://www.eversports.de/s/pole-and-move-mannheim...\n",
      "Scraping Workshops Data from https://www.eversports.de/sw/pole-and-move-mannheim...\n",
      "Scraping Workshop Details from https://www.eversports.de/e/workshop/miY7n0b...\n",
      "Scraping Workshop Details from https://www.eversports.de/e/workshop/C9b62JT...\n",
      "Scraping Workshop Details from https://www.eversports.de/e/workshop/0fonSE4...\n"
     ]
    },
    {
     "name": "stderr",
     "output_type": "stream",
     "text": [
      "Processing URLs:  81%|████████  | 407/502 [18:48<05:47,  3.65s/it]"
     ]
    },
    {
     "name": "stdout",
     "output_type": "stream",
     "text": [
      "\n",
      "Processing completed.\n",
      "-------------------------------- \n",
      "\n",
      "2024-03-11 18:44:49 - INFO - Scraping Data from: https://www.eversports.de/s/pole-and-move-mannheim\n",
      "Pole Studio Data: 1 entries\n",
      "2024-03-11 18:44:49 - INFO - Scraping Data from: https://www.eversports.de/s/pole-and-move-mannheim\n",
      "Workshops Data: 3 entries\n",
      "2024-03-11 18:44:49 - INFO - Scraping Data from: https://www.eversports.de/s/pole-and-move-mannheim\n",
      "Workshop Details: 3 entries\n",
      "Starting URL reconstruction...\n"
     ]
    },
    {
     "name": "stderr",
     "output_type": "stream",
     "text": [
      "2024-03-11 18:44:50,894 - INFO - Processing URL 1/1: https://www.eversports.de/s/yh-pole-and-sports-berlin\n"
     ]
    },
    {
     "name": "stdout",
     "output_type": "stream",
     "text": [
      "Converting to DataFrame...\n",
      "Validating URLs...\n"
     ]
    },
    {
     "name": "stderr",
     "output_type": "stream",
     "text": [
      "2024-03-11 18:44:51,844 - INFO - URL https://www.eversports.de/s/yh-pole-and-sports-berlin is valid.\n"
     ]
    },
    {
     "name": "stdout",
     "output_type": "stream",
     "text": [
      "Scraping Pole Studio Data from https://www.eversports.de/s/yh-pole-and-sports-berlin...\n"
     ]
    },
    {
     "name": "stderr",
     "output_type": "stream",
     "text": [
      "Processing URLs:  81%|████████▏ | 408/502 [18:51<05:15,  3.36s/it]"
     ]
    },
    {
     "name": "stdout",
     "output_type": "stream",
     "text": [
      "\n",
      "Processing completed.\n",
      "-------------------------------- \n",
      "\n",
      "2024-03-11 18:44:52 - INFO - Scraping Data from: https://www.eversports.de/s/yh-pole-and-sports-berlin\n",
      "Pole Studio Data: 1 entries\n",
      "Starting URL reconstruction...\n"
     ]
    },
    {
     "name": "stderr",
     "output_type": "stream",
     "text": [
      "Processing URLs:  81%|████████▏ | 409/502 [18:52<04:14,  2.74s/it]"
     ]
    },
    {
     "name": "stdout",
     "output_type": "stream",
     "text": [
      "Error during HTTP request: 404 Client Error: Not Found for url: https://www.eversports.de/s/pole-sensation\n",
      "Converting to DataFrame...\n",
      "Validating URLs...\n",
      "\n",
      "Processing completed.\n",
      "-------------------------------- \n",
      "\n",
      "Starting URL reconstruction...\n"
     ]
    },
    {
     "name": "stderr",
     "output_type": "stream",
     "text": [
      "Processing URLs:  82%|████████▏ | 410/502 [18:55<04:12,  2.74s/it]"
     ]
    },
    {
     "name": "stdout",
     "output_type": "stream",
     "text": [
      "Error during HTTP request: Exceeded 30 redirects.\n",
      "Converting to DataFrame...\n",
      "Validating URLs...\n",
      "\n",
      "Processing completed.\n",
      "-------------------------------- \n",
      "\n",
      "Starting URL reconstruction...\n"
     ]
    },
    {
     "name": "stderr",
     "output_type": "stream",
     "text": [
      "Processing URLs:  82%|████████▏ | 411/502 [18:56<03:15,  2.15s/it]"
     ]
    },
    {
     "name": "stdout",
     "output_type": "stream",
     "text": [
      "Error during HTTP request: 404 Client Error: Not Found for url: https://www.eversports.de/s/mstage-tanzart-bewegung\n",
      "Converting to DataFrame...\n",
      "Validating URLs...\n",
      "\n",
      "Processing completed.\n",
      "-------------------------------- \n",
      "\n",
      "Starting URL reconstruction...\n"
     ]
    },
    {
     "name": "stderr",
     "output_type": "stream",
     "text": [
      "2024-03-11 18:44:58,235 - INFO - Processing URL 1/2: https://www.eversports.de/s/polespirit\n"
     ]
    },
    {
     "name": "stdout",
     "output_type": "stream",
     "text": [
      "Converting to DataFrame...\n",
      "Validating URLs...\n"
     ]
    },
    {
     "name": "stderr",
     "output_type": "stream",
     "text": [
      "2024-03-11 18:44:59,058 - INFO - URL https://www.eversports.de/s/polespirit is valid.\n",
      "2024-03-11 18:44:59,059 - INFO - Processing URL 2/2: https://www.eversports.de/sw/polespirit\n",
      "2024-03-11 18:44:59,726 - INFO - URL https://www.eversports.de/sw/polespirit is valid.\n"
     ]
    },
    {
     "name": "stdout",
     "output_type": "stream",
     "text": [
      "Scraping Pole Studio Data from https://www.eversports.de/s/polespirit...\n",
      "Scraping Workshops Data from https://www.eversports.de/sw/polespirit...\n",
      "Scraping Workshop Details from https://www.eversports.de/e/workshop/xUH0CLo...\n",
      "Scraping Workshop Details from https://www.eversports.de/e/workshop/GpBpifi...\n"
     ]
    },
    {
     "name": "stderr",
     "output_type": "stream",
     "text": [
      "Processing URLs:  82%|████████▏ | 412/502 [19:01<04:30,  3.01s/it]"
     ]
    },
    {
     "name": "stdout",
     "output_type": "stream",
     "text": [
      "\n",
      "Processing completed.\n",
      "-------------------------------- \n",
      "\n",
      "2024-03-11 18:45:02 - INFO - Scraping Data from: https://www.eversports.de/s/polespirit\n",
      "Pole Studio Data: 1 entries\n",
      "2024-03-11 18:45:02 - INFO - Scraping Data from: https://www.eversports.de/s/polespirit\n",
      "Workshops Data: 2 entries\n",
      "2024-03-11 18:45:02 - INFO - Scraping Data from: https://www.eversports.de/s/polespirit\n",
      "Workshop Details: 2 entries\n",
      "Starting URL reconstruction...\n"
     ]
    },
    {
     "name": "stderr",
     "output_type": "stream",
     "text": [
      "2024-03-11 18:45:03,167 - INFO - Processing URL 1/1: https://www.eversports.de/s/artletik-ug-laufen-und-meer\n"
     ]
    },
    {
     "name": "stdout",
     "output_type": "stream",
     "text": [
      "Converting to DataFrame...\n",
      "Validating URLs...\n"
     ]
    },
    {
     "name": "stderr",
     "output_type": "stream",
     "text": [
      "2024-03-11 18:45:03,913 - INFO - URL https://www.eversports.de/s/artletik-ug-laufen-und-meer is valid.\n"
     ]
    },
    {
     "name": "stdout",
     "output_type": "stream",
     "text": [
      "Scraping Pole Studio Data from https://www.eversports.de/s/artletik-ug-laufen-und-meer...\n"
     ]
    },
    {
     "name": "stderr",
     "output_type": "stream",
     "text": [
      "Processing URLs:  82%|████████▏ | 413/502 [19:03<04:14,  2.86s/it]"
     ]
    },
    {
     "name": "stdout",
     "output_type": "stream",
     "text": [
      "\n",
      "Processing completed.\n",
      "-------------------------------- \n",
      "\n",
      "2024-03-11 18:45:04 - INFO - Scraping Data from: https://www.eversports.de/s/artletik-ug-laufen-und-meer\n",
      "Pole Studio Data: 1 entries\n",
      "Starting URL reconstruction...\n"
     ]
    },
    {
     "name": "stderr",
     "output_type": "stream",
     "text": [
      "Processing URLs:  82%|████████▏ | 414/502 [19:05<03:34,  2.44s/it]"
     ]
    },
    {
     "name": "stdout",
     "output_type": "stream",
     "text": [
      "Error during HTTP request: 404 Client Error: Not Found for url: https://www.eversports.de/s/infinity-polesports-burgkirchen\n",
      "Converting to DataFrame...\n",
      "Validating URLs...\n",
      "\n",
      "Processing completed.\n",
      "-------------------------------- \n",
      "\n",
      "Starting URL reconstruction...\n"
     ]
    },
    {
     "name": "stderr",
     "output_type": "stream",
     "text": [
      "Processing URLs:  83%|████████▎ | 415/502 [19:05<02:44,  1.89s/it]"
     ]
    },
    {
     "name": "stdout",
     "output_type": "stream",
     "text": [
      "Error during HTTP request: 404 Client Error: Not Found for url: https://www.eversports.de/s/tsg-blau-gold-ballett--und-pole-dance--studio\n",
      "Converting to DataFrame...\n",
      "Validating URLs...\n",
      "\n",
      "Processing completed.\n",
      "-------------------------------- \n",
      "\n",
      "Starting URL reconstruction...\n"
     ]
    },
    {
     "name": "stderr",
     "output_type": "stream",
     "text": [
      "2024-03-11 18:45:08,612 - INFO - Processing URL 1/1: https://www.eversports.de/s/dc-pole-studio\n"
     ]
    },
    {
     "name": "stdout",
     "output_type": "stream",
     "text": [
      "Converting to DataFrame...\n",
      "Validating URLs...\n"
     ]
    },
    {
     "name": "stderr",
     "output_type": "stream",
     "text": [
      "2024-03-11 18:45:09,957 - INFO - URL https://www.eversports.de/s/dc-pole-studio is valid.\n"
     ]
    },
    {
     "name": "stdout",
     "output_type": "stream",
     "text": [
      "Scraping Pole Studio Data from https://www.eversports.de/s/dc-pole-studio...\n"
     ]
    },
    {
     "name": "stderr",
     "output_type": "stream",
     "text": [
      "Processing URLs:  83%|████████▎ | 416/502 [19:08<03:19,  2.32s/it]"
     ]
    },
    {
     "name": "stdout",
     "output_type": "stream",
     "text": [
      "\n",
      "Processing completed.\n",
      "-------------------------------- \n",
      "\n",
      "2024-03-11 18:45:10 - INFO - Scraping Data from: https://www.eversports.be/s/dc-pole-studio\n",
      "Pole Studio Data: 1 entries\n",
      "Starting URL reconstruction...\n"
     ]
    },
    {
     "name": "stderr",
     "output_type": "stream",
     "text": [
      "Processing URLs:  83%|████████▎ | 417/502 [19:09<02:45,  1.94s/it]"
     ]
    },
    {
     "name": "stdout",
     "output_type": "stream",
     "text": [
      "Error during HTTP request: 404 Client Error: Not Found for url: https://www.eversports.de/s/le-serpent-rouge\n",
      "Converting to DataFrame...\n",
      "Validating URLs...\n",
      "\n",
      "Processing completed.\n",
      "-------------------------------- \n",
      "\n",
      "Starting URL reconstruction...\n"
     ]
    },
    {
     "name": "stderr",
     "output_type": "stream",
     "text": [
      "Processing URLs:  83%|████████▎ | 418/502 [19:14<03:49,  2.73s/it]"
     ]
    },
    {
     "name": "stdout",
     "output_type": "stream",
     "text": [
      "Error during HTTP request: Exceeded 30 redirects.\n",
      "Converting to DataFrame...\n",
      "Validating URLs...\n",
      "\n",
      "Processing completed.\n",
      "-------------------------------- \n",
      "\n",
      "Starting URL reconstruction...\n"
     ]
    },
    {
     "name": "stderr",
     "output_type": "stream",
     "text": [
      "2024-03-11 18:45:17,450 - INFO - Processing URL 1/1: https://www.eversports.de/s/danza-dell-orso-d-oro\n"
     ]
    },
    {
     "name": "stdout",
     "output_type": "stream",
     "text": [
      "Converting to DataFrame...\n",
      "Validating URLs...\n"
     ]
    },
    {
     "name": "stderr",
     "output_type": "stream",
     "text": [
      "2024-03-11 18:45:18,188 - INFO - URL https://www.eversports.de/s/danza-dell-orso-d-oro is valid.\n"
     ]
    },
    {
     "name": "stdout",
     "output_type": "stream",
     "text": [
      "Scraping Pole Studio Data from https://www.eversports.de/s/danza-dell-orso-d-oro...\n"
     ]
    },
    {
     "name": "stderr",
     "output_type": "stream",
     "text": [
      "Processing URLs:  83%|████████▎ | 419/502 [19:17<03:42,  2.68s/it]"
     ]
    },
    {
     "name": "stdout",
     "output_type": "stream",
     "text": [
      "\n",
      "Processing completed.\n",
      "-------------------------------- \n",
      "\n",
      "2024-03-11 18:45:18 - INFO - Scraping Data from: https://www.eversports.ch/s/danza-dell-orso-d-oro\n",
      "Pole Studio Data: 1 entries\n",
      "Starting URL reconstruction...\n"
     ]
    },
    {
     "name": "stderr",
     "output_type": "stream",
     "text": [
      "Processing URLs:  84%|████████▎ | 420/502 [19:17<02:50,  2.08s/it]"
     ]
    },
    {
     "name": "stdout",
     "output_type": "stream",
     "text": [
      "Error during HTTP request: 404 Client Error: Not Found for url: https://www.eversports.de/s/ironx\n",
      "Converting to DataFrame...\n",
      "Validating URLs...\n",
      "\n",
      "Processing completed.\n",
      "-------------------------------- \n",
      "\n",
      "Starting URL reconstruction...\n"
     ]
    },
    {
     "name": "stderr",
     "output_type": "stream",
     "text": [
      "Processing URLs:  84%|████████▍ | 421/502 [19:18<02:11,  1.62s/it]"
     ]
    },
    {
     "name": "stdout",
     "output_type": "stream",
     "text": [
      "Error during HTTP request: 404 Client Error: Not Found for url: https://www.eversports.de/s/move-on!-dance-studio-&-polemotions\n",
      "Converting to DataFrame...\n",
      "Validating URLs...\n",
      "\n",
      "Processing completed.\n",
      "-------------------------------- \n",
      "\n",
      "Starting URL reconstruction...\n"
     ]
    },
    {
     "name": "stderr",
     "output_type": "stream",
     "text": [
      "2024-03-11 18:45:20,666 - INFO - Processing URL 1/2: https://www.eversports.de/s/pura-studio\n"
     ]
    },
    {
     "name": "stdout",
     "output_type": "stream",
     "text": [
      "Converting to DataFrame...\n",
      "Validating URLs...\n"
     ]
    },
    {
     "name": "stderr",
     "output_type": "stream",
     "text": [
      "2024-03-11 18:45:21,570 - INFO - URL https://www.eversports.de/s/pura-studio is valid.\n",
      "2024-03-11 18:45:21,572 - INFO - Processing URL 2/2: https://www.eversports.de/sw/pura-studio\n",
      "2024-03-11 18:45:22,142 - INFO - URL https://www.eversports.de/sw/pura-studio is valid.\n"
     ]
    },
    {
     "name": "stdout",
     "output_type": "stream",
     "text": [
      "Scraping Pole Studio Data from https://www.eversports.de/s/pura-studio...\n",
      "Scraping Workshops Data from https://www.eversports.de/sw/pura-studio...\n",
      "Scraping Workshop Details from https://www.eversports.de/e/workshop/qz-Llq1...\n",
      "Scraping Workshop Details from https://www.eversports.de/e/workshop/zjrAzNO...\n",
      "Scraping Workshop Details from https://www.eversports.de/e/workshop/827gEoq...\n",
      "Scraping Workshop Details from https://www.eversports.de/e/workshop/CJtoJD0...\n",
      "Scraping Workshop Details from https://www.eversports.de/e/workshop/05na1FC...\n",
      "Scraping Workshop Details from https://www.eversports.de/e/workshop/8fkp3td...\n"
     ]
    },
    {
     "name": "stderr",
     "output_type": "stream",
     "text": [
      "Processing URLs:  84%|████████▍ | 422/502 [19:26<04:57,  3.72s/it]"
     ]
    },
    {
     "name": "stdout",
     "output_type": "stream",
     "text": [
      "\n",
      "Processing completed.\n",
      "-------------------------------- \n",
      "\n",
      "2024-03-11 18:45:28 - INFO - Scraping Data from: https://www.eversports.de/s/pura-studio\n",
      "Pole Studio Data: 1 entries\n",
      "2024-03-11 18:45:28 - INFO - Scraping Data from: https://www.eversports.de/s/pura-studio\n",
      "Workshops Data: 6 entries\n",
      "2024-03-11 18:45:28 - INFO - Scraping Data from: https://www.eversports.de/s/pura-studio\n",
      "Workshop Details: 6 entries\n",
      "Starting URL reconstruction...\n"
     ]
    },
    {
     "name": "stderr",
     "output_type": "stream",
     "text": [
      "2024-03-11 18:45:29,249 - INFO - Processing URL 1/1: https://www.eversports.de/s/pole-loft\n"
     ]
    },
    {
     "name": "stdout",
     "output_type": "stream",
     "text": [
      "Converting to DataFrame...\n",
      "Validating URLs...\n"
     ]
    },
    {
     "name": "stderr",
     "output_type": "stream",
     "text": [
      "2024-03-11 18:45:30,033 - INFO - URL https://www.eversports.de/s/pole-loft is valid.\n"
     ]
    },
    {
     "name": "stdout",
     "output_type": "stream",
     "text": [
      "Scraping Pole Studio Data from https://www.eversports.de/s/pole-loft...\n"
     ]
    },
    {
     "name": "stderr",
     "output_type": "stream",
     "text": [
      "Processing URLs:  84%|████████▍ | 423/502 [19:28<04:13,  3.21s/it]"
     ]
    },
    {
     "name": "stdout",
     "output_type": "stream",
     "text": [
      "\n",
      "Processing completed.\n",
      "-------------------------------- \n",
      "\n",
      "2024-03-11 18:45:30 - INFO - Scraping Data from: https://www.eversports.de/s/pole-loft\n",
      "Pole Studio Data: 1 entries\n",
      "Starting URL reconstruction...\n"
     ]
    },
    {
     "name": "stderr",
     "output_type": "stream",
     "text": [
      "Processing URLs:  84%|████████▍ | 424/502 [19:29<03:11,  2.45s/it]"
     ]
    },
    {
     "name": "stdout",
     "output_type": "stream",
     "text": [
      "Error during HTTP request: 404 Client Error: Not Found for url: https://www.eversports.de/s/verticalarts-pole-and-aerial-fitness\n",
      "Converting to DataFrame...\n",
      "Validating URLs...\n",
      "\n",
      "Processing completed.\n",
      "-------------------------------- \n",
      "\n",
      "Starting URL reconstruction...\n"
     ]
    },
    {
     "name": "stderr",
     "output_type": "stream",
     "text": [
      "2024-03-11 18:45:32,057 - INFO - Processing URL 1/1: https://www.eversports.de/s/tanzschule-poledance-reutlingen\n"
     ]
    },
    {
     "name": "stdout",
     "output_type": "stream",
     "text": [
      "Converting to DataFrame...\n",
      "Validating URLs...\n"
     ]
    },
    {
     "name": "stderr",
     "output_type": "stream",
     "text": [
      "2024-03-11 18:45:32,895 - INFO - URL https://www.eversports.de/s/tanzschule-poledance-reutlingen is valid.\n"
     ]
    },
    {
     "name": "stdout",
     "output_type": "stream",
     "text": [
      "Scraping Pole Studio Data from https://www.eversports.de/s/tanzschule-poledance-reutlingen...\n"
     ]
    },
    {
     "name": "stderr",
     "output_type": "stream",
     "text": [
      "Processing URLs:  85%|████████▍ | 425/502 [19:32<03:13,  2.51s/it]"
     ]
    },
    {
     "name": "stdout",
     "output_type": "stream",
     "text": [
      "\n",
      "Processing completed.\n",
      "-------------------------------- \n",
      "\n",
      "2024-03-11 18:45:33 - INFO - Scraping Data from: https://www.eversports.de/s/tanzschule-poledance-reutlingen\n",
      "Pole Studio Data: 1 entries\n",
      "Starting URL reconstruction...\n"
     ]
    },
    {
     "name": "stderr",
     "output_type": "stream",
     "text": [
      "2024-03-11 18:45:34,532 - INFO - Processing URL 1/1: https://www.eversports.de/s/mmc-dance-and-event-studio\n"
     ]
    },
    {
     "name": "stdout",
     "output_type": "stream",
     "text": [
      "Converting to DataFrame...\n",
      "Validating URLs...\n"
     ]
    },
    {
     "name": "stderr",
     "output_type": "stream",
     "text": [
      "2024-03-11 18:45:36,929 - INFO - URL https://www.eversports.de/s/mmc-dance-and-event-studio is valid.\n"
     ]
    },
    {
     "name": "stdout",
     "output_type": "stream",
     "text": [
      "Scraping Pole Studio Data from https://www.eversports.de/s/mmc-dance-and-event-studio...\n"
     ]
    },
    {
     "name": "stderr",
     "output_type": "stream",
     "text": [
      "Processing URLs:  85%|████████▍ | 426/502 [19:35<03:34,  2.82s/it]"
     ]
    },
    {
     "name": "stdout",
     "output_type": "stream",
     "text": [
      "\n",
      "Processing completed.\n",
      "-------------------------------- \n",
      "\n",
      "2024-03-11 18:45:37 - INFO - Scraping Data from: https://www.eversports.de/s/mmc-dance-and-event-studio\n",
      "Pole Studio Data: 1 entries\n",
      "Starting URL reconstruction...\n"
     ]
    },
    {
     "name": "stderr",
     "output_type": "stream",
     "text": [
      "Processing URLs:  85%|████████▌ | 427/502 [19:38<03:25,  2.74s/it]"
     ]
    },
    {
     "name": "stdout",
     "output_type": "stream",
     "text": [
      "Error during HTTP request: Exceeded 30 redirects.\n",
      "Converting to DataFrame...\n",
      "Validating URLs...\n",
      "\n",
      "Processing completed.\n",
      "-------------------------------- \n",
      "\n",
      "Starting URL reconstruction...\n"
     ]
    },
    {
     "name": "stderr",
     "output_type": "stream",
     "text": [
      "2024-03-11 18:45:40,607 - INFO - Processing URL 1/1: https://www.eversports.de/s/aerial-sportstudio\n"
     ]
    },
    {
     "name": "stdout",
     "output_type": "stream",
     "text": [
      "Converting to DataFrame...\n",
      "Validating URLs...\n"
     ]
    },
    {
     "name": "stderr",
     "output_type": "stream",
     "text": [
      "2024-03-11 18:45:41,352 - INFO - URL https://www.eversports.de/s/aerial-sportstudio is valid.\n"
     ]
    },
    {
     "name": "stdout",
     "output_type": "stream",
     "text": [
      "Scraping Pole Studio Data from https://www.eversports.de/s/aerial-sportstudio...\n"
     ]
    },
    {
     "name": "stderr",
     "output_type": "stream",
     "text": [
      "Processing URLs:  85%|████████▌ | 428/502 [19:40<03:13,  2.62s/it]"
     ]
    },
    {
     "name": "stdout",
     "output_type": "stream",
     "text": [
      "\n",
      "Processing completed.\n",
      "-------------------------------- \n",
      "\n",
      "2024-03-11 18:45:42 - INFO - Scraping Data from: https://www.eversports.de/s/aerial-sportstudio\n",
      "Pole Studio Data: 1 entries\n",
      "Starting URL reconstruction...\n"
     ]
    },
    {
     "name": "stderr",
     "output_type": "stream",
     "text": [
      "Processing URLs:  85%|████████▌ | 429/502 [19:41<02:34,  2.12s/it]"
     ]
    },
    {
     "name": "stdout",
     "output_type": "stream",
     "text": [
      "Error during HTTP request: 404 Client Error: Not Found for url: https://www.eversports.de/s/dayuma\n",
      "Converting to DataFrame...\n",
      "Validating URLs...\n",
      "\n",
      "Processing completed.\n",
      "-------------------------------- \n",
      "\n",
      "Starting URL reconstruction...\n"
     ]
    },
    {
     "name": "stderr",
     "output_type": "stream",
     "text": [
      "2024-03-11 18:45:44,635 - INFO - Processing URL 1/2: https://www.eversports.de/s/yoga-at-lobe-block\n"
     ]
    },
    {
     "name": "stdout",
     "output_type": "stream",
     "text": [
      "Converting to DataFrame...\n",
      "Validating URLs...\n"
     ]
    },
    {
     "name": "stderr",
     "output_type": "stream",
     "text": [
      "2024-03-11 18:45:46,237 - INFO - URL https://www.eversports.de/s/yoga-at-lobe-block is valid.\n",
      "2024-03-11 18:45:46,238 - INFO - Processing URL 2/2: https://www.eversports.de/sw/yoga-at-lobe-block\n",
      "2024-03-11 18:45:47,037 - INFO - URL https://www.eversports.de/sw/yoga-at-lobe-block is valid.\n"
     ]
    },
    {
     "name": "stdout",
     "output_type": "stream",
     "text": [
      "Scraping Pole Studio Data from https://www.eversports.de/s/yoga-at-lobe-block...\n",
      "Scraping Workshops Data from https://www.eversports.de/sw/yoga-at-lobe-block...\n",
      "Scraping Workshop Details from https://www.eversports.de/e/workshop/RTbWXKh...\n",
      "Scraping Workshop Details from https://www.eversports.de/e/workshop/OUz8GEH...\n",
      "Scraping Workshop Details from https://www.eversports.de/e/workshop/BjV3WGc...\n",
      "Scraping Workshop Details from https://www.eversports.de/e/workshop/XBkvMd1...\n",
      "Scraping Workshop Details from https://www.eversports.de/e/workshop/QaklFLB...\n"
     ]
    },
    {
     "name": "stderr",
     "output_type": "stream",
     "text": [
      "Processing URLs:  86%|████████▌ | 430/502 [19:53<05:56,  4.95s/it]"
     ]
    },
    {
     "name": "stdout",
     "output_type": "stream",
     "text": [
      "\n",
      "Processing completed.\n",
      "-------------------------------- \n",
      "\n",
      "2024-03-11 18:45:54 - INFO - Scraping Data from: https://www.eversports.de/s/yoga-at-lobe-block\n",
      "Pole Studio Data: 1 entries\n",
      "2024-03-11 18:45:54 - INFO - Scraping Data from: https://www.eversports.de/s/yoga-at-lobe-block\n",
      "Workshops Data: 5 entries\n",
      "2024-03-11 18:45:54 - INFO - Scraping Data from: https://www.eversports.de/s/yoga-at-lobe-block\n",
      "Workshop Details: 5 entries\n",
      "Starting URL reconstruction...\n"
     ]
    },
    {
     "name": "stderr",
     "output_type": "stream",
     "text": [
      "2024-03-11 18:45:56,454 - INFO - Processing URL 1/1: https://www.eversports.de/s/valkyrie-pole-basel\n"
     ]
    },
    {
     "name": "stdout",
     "output_type": "stream",
     "text": [
      "Converting to DataFrame...\n",
      "Validating URLs...\n"
     ]
    },
    {
     "name": "stderr",
     "output_type": "stream",
     "text": [
      "2024-03-11 18:45:57,198 - INFO - URL https://www.eversports.de/s/valkyrie-pole-basel is valid.\n"
     ]
    },
    {
     "name": "stdout",
     "output_type": "stream",
     "text": [
      "Scraping Pole Studio Data from https://www.eversports.de/s/valkyrie-pole-basel...\n"
     ]
    },
    {
     "name": "stderr",
     "output_type": "stream",
     "text": [
      "Processing URLs:  86%|████████▌ | 431/502 [19:59<06:13,  5.26s/it]"
     ]
    },
    {
     "name": "stdout",
     "output_type": "stream",
     "text": [
      "\n",
      "Processing completed.\n",
      "-------------------------------- \n",
      "\n",
      "2024-03-11 18:46:00 - INFO - Scraping Data from: https://www.eversports.ch/s/valkyrie-pole-basel\n",
      "Pole Studio Data: 1 entries\n",
      "Starting URL reconstruction...\n"
     ]
    },
    {
     "name": "stderr",
     "output_type": "stream",
     "text": [
      "Processing URLs:  86%|████████▌ | 432/502 [19:59<04:30,  3.87s/it]"
     ]
    },
    {
     "name": "stdout",
     "output_type": "stream",
     "text": [
      "Error during HTTP request: 404 Client Error: Not Found for url: https://www.eversports.de/s/drehmoment-pole.aerial.dance\n",
      "Converting to DataFrame...\n",
      "Validating URLs...\n",
      "\n",
      "Processing completed.\n",
      "-------------------------------- \n",
      "\n",
      "Starting URL reconstruction...\n"
     ]
    },
    {
     "name": "stderr",
     "output_type": "stream",
     "text": [
      "2024-03-11 18:46:02,330 - INFO - Processing URL 1/2: https://www.eversports.de/s/pole-heroes\n"
     ]
    },
    {
     "name": "stdout",
     "output_type": "stream",
     "text": [
      "Converting to DataFrame...\n",
      "Validating URLs...\n"
     ]
    },
    {
     "name": "stderr",
     "output_type": "stream",
     "text": [
      "2024-03-11 18:46:03,253 - INFO - URL https://www.eversports.de/s/pole-heroes is valid.\n",
      "2024-03-11 18:46:03,255 - INFO - Processing URL 2/2: https://www.eversports.de/sw/pole-heroes\n",
      "2024-03-11 18:46:03,959 - INFO - URL https://www.eversports.de/sw/pole-heroes is valid.\n"
     ]
    },
    {
     "name": "stdout",
     "output_type": "stream",
     "text": [
      "Scraping Pole Studio Data from https://www.eversports.de/s/pole-heroes...\n",
      "Scraping Workshops Data from https://www.eversports.de/sw/pole-heroes...\n",
      "Scraping Workshop Details from https://www.eversports.de/e/workshop/_cVfx28...\n",
      "Scraping Workshop Details from https://www.eversports.de/e/workshop/vPqMS0U...\n"
     ]
    },
    {
     "name": "stderr",
     "output_type": "stream",
     "text": [
      "Processing URLs:  86%|████████▋ | 433/502 [20:05<05:05,  4.43s/it]"
     ]
    },
    {
     "name": "stdout",
     "output_type": "stream",
     "text": [
      "\n",
      "Processing completed.\n",
      "-------------------------------- \n",
      "\n",
      "2024-03-11 18:46:06 - INFO - Scraping Data from: https://www.eversports.de/s/pole-heroes\n",
      "Pole Studio Data: 1 entries\n",
      "2024-03-11 18:46:06 - INFO - Scraping Data from: https://www.eversports.de/s/pole-heroes\n",
      "Workshops Data: 2 entries\n",
      "2024-03-11 18:46:06 - INFO - Scraping Data from: https://www.eversports.de/s/pole-heroes\n",
      "Workshop Details: 2 entries\n",
      "Starting URL reconstruction...\n"
     ]
    },
    {
     "name": "stderr",
     "output_type": "stream",
     "text": [
      "2024-03-11 18:46:08,100 - INFO - Processing URL 1/1: https://www.eversports.de/s/flying-soul-pole-dance-studio\n"
     ]
    },
    {
     "name": "stdout",
     "output_type": "stream",
     "text": [
      "Converting to DataFrame...\n",
      "Validating URLs...\n"
     ]
    },
    {
     "name": "stderr",
     "output_type": "stream",
     "text": [
      "2024-03-11 18:46:08,858 - INFO - URL https://www.eversports.de/s/flying-soul-pole-dance-studio is valid.\n"
     ]
    },
    {
     "name": "stdout",
     "output_type": "stream",
     "text": [
      "Scraping Pole Studio Data from https://www.eversports.de/s/flying-soul-pole-dance-studio...\n"
     ]
    },
    {
     "name": "stderr",
     "output_type": "stream",
     "text": [
      "Processing URLs:  86%|████████▋ | 434/502 [20:07<04:14,  3.75s/it]"
     ]
    },
    {
     "name": "stdout",
     "output_type": "stream",
     "text": [
      "\n",
      "Processing completed.\n",
      "-------------------------------- \n",
      "\n",
      "2024-03-11 18:46:09 - INFO - Scraping Data from: https://www.eversports.de/s/flying-soul-pole-dance-studio\n",
      "Pole Studio Data: 1 entries\n",
      "Starting URL reconstruction...\n"
     ]
    },
    {
     "name": "stderr",
     "output_type": "stream",
     "text": [
      "Processing URLs:  87%|████████▋ | 435/502 [20:08<03:07,  2.80s/it]"
     ]
    },
    {
     "name": "stdout",
     "output_type": "stream",
     "text": [
      "Error during HTTP request: 404 Client Error: Not Found for url: https://www.eversports.de/s/pole-fun-wehr\n",
      "Converting to DataFrame...\n",
      "Validating URLs...\n",
      "\n",
      "Processing completed.\n",
      "-------------------------------- \n",
      "\n",
      "Starting URL reconstruction...\n"
     ]
    },
    {
     "name": "stderr",
     "output_type": "stream",
     "text": [
      "Processing URLs:  87%|████████▋ | 436/502 [20:12<03:30,  3.18s/it]"
     ]
    },
    {
     "name": "stdout",
     "output_type": "stream",
     "text": [
      "Error during HTTP request: Exceeded 30 redirects.\n",
      "Converting to DataFrame...\n",
      "Validating URLs...\n",
      "\n",
      "Processing completed.\n",
      "-------------------------------- \n",
      "\n",
      "Starting URL reconstruction...\n"
     ]
    },
    {
     "name": "stderr",
     "output_type": "stream",
     "text": [
      "Processing URLs:  87%|████████▋ | 437/502 [20:15<03:18,  3.05s/it]"
     ]
    },
    {
     "name": "stdout",
     "output_type": "stream",
     "text": [
      "Error during HTTP request: Exceeded 30 redirects.\n",
      "Converting to DataFrame...\n",
      "Validating URLs...\n",
      "\n",
      "Processing completed.\n",
      "-------------------------------- \n",
      "\n",
      "Starting URL reconstruction...\n"
     ]
    },
    {
     "name": "stderr",
     "output_type": "stream",
     "text": [
      "Processing URLs:  87%|████████▋ | 438/502 [20:15<02:28,  2.32s/it]"
     ]
    },
    {
     "name": "stdout",
     "output_type": "stream",
     "text": [
      "Error during HTTP request: 404 Client Error: Not Found for url: https://www.eversports.de/s/rock'n'pole-regensburg\n",
      "Converting to DataFrame...\n",
      "Validating URLs...\n",
      "\n",
      "Processing completed.\n",
      "-------------------------------- \n",
      "\n",
      "Starting URL reconstruction...\n"
     ]
    },
    {
     "name": "stderr",
     "output_type": "stream",
     "text": [
      "2024-03-11 18:46:18,277 - INFO - Processing URL 1/1: https://www.eversports.de/s/flow-academy\n"
     ]
    },
    {
     "name": "stdout",
     "output_type": "stream",
     "text": [
      "Converting to DataFrame...\n",
      "Validating URLs...\n"
     ]
    },
    {
     "name": "stderr",
     "output_type": "stream",
     "text": [
      "2024-03-11 18:46:19,049 - INFO - URL https://www.eversports.de/s/flow-academy is valid.\n"
     ]
    },
    {
     "name": "stdout",
     "output_type": "stream",
     "text": [
      "Scraping Pole Studio Data from https://www.eversports.de/s/flow-academy...\n"
     ]
    },
    {
     "name": "stderr",
     "output_type": "stream",
     "text": [
      "Processing URLs:  87%|████████▋ | 439/502 [20:17<02:24,  2.29s/it]"
     ]
    },
    {
     "name": "stdout",
     "output_type": "stream",
     "text": [
      "\n",
      "Processing completed.\n",
      "-------------------------------- \n",
      "\n",
      "2024-03-11 18:46:19 - INFO - Scraping Data from: https://www.eversports.de/s/flow-academy\n",
      "Pole Studio Data: 1 entries\n",
      "Starting URL reconstruction...\n"
     ]
    },
    {
     "name": "stderr",
     "output_type": "stream",
     "text": [
      "Processing URLs:  88%|████████▊ | 440/502 [20:20<02:30,  2.42s/it]"
     ]
    },
    {
     "name": "stdout",
     "output_type": "stream",
     "text": [
      "Error during HTTP request: Exceeded 30 redirects.\n",
      "Converting to DataFrame...\n",
      "Validating URLs...\n",
      "\n",
      "Processing completed.\n",
      "-------------------------------- \n",
      "\n",
      "Starting URL reconstruction...\n"
     ]
    },
    {
     "name": "stderr",
     "output_type": "stream",
     "text": [
      "2024-03-11 18:46:23,139 - INFO - Processing URL 1/1: https://www.eversports.de/s/papillon-dance-and-sport-academy\n"
     ]
    },
    {
     "name": "stdout",
     "output_type": "stream",
     "text": [
      "Converting to DataFrame...\n",
      "Validating URLs...\n"
     ]
    },
    {
     "name": "stderr",
     "output_type": "stream",
     "text": [
      "2024-03-11 18:46:24,037 - INFO - URL https://www.eversports.de/s/papillon-dance-and-sport-academy is valid.\n"
     ]
    },
    {
     "name": "stdout",
     "output_type": "stream",
     "text": [
      "Scraping Pole Studio Data from https://www.eversports.de/s/papillon-dance-and-sport-academy...\n"
     ]
    },
    {
     "name": "stderr",
     "output_type": "stream",
     "text": [
      "Processing URLs:  88%|████████▊ | 441/502 [20:23<02:28,  2.43s/it]"
     ]
    },
    {
     "name": "stdout",
     "output_type": "stream",
     "text": [
      "\n",
      "Processing completed.\n",
      "-------------------------------- \n",
      "\n",
      "2024-03-11 18:46:24 - INFO - Scraping Data from: https://www.eversports.de/s/papillon-dance-and-sport-academy\n",
      "Pole Studio Data: 1 entries\n",
      "Starting URL reconstruction...\n"
     ]
    },
    {
     "name": "stderr",
     "output_type": "stream",
     "text": [
      "Processing URLs:  88%|████████▊ | 442/502 [20:25<02:24,  2.41s/it]"
     ]
    },
    {
     "name": "stdout",
     "output_type": "stream",
     "text": [
      "Error during HTTP request: 404 Client Error: Not Found for url: https://www.eversports.de/s/poledance-worms\n",
      "Converting to DataFrame...\n",
      "Validating URLs...\n",
      "\n",
      "Processing completed.\n",
      "-------------------------------- \n",
      "\n",
      "Starting URL reconstruction...\n"
     ]
    },
    {
     "name": "stderr",
     "output_type": "stream",
     "text": [
      "Processing URLs:  88%|████████▊ | 443/502 [20:26<01:51,  1.89s/it]"
     ]
    },
    {
     "name": "stdout",
     "output_type": "stream",
     "text": [
      "Error during HTTP request: 404 Client Error: Not Found for url: https://www.eversports.de/s/fanlin-studio---pole-%26-aerial-dance\n",
      "Converting to DataFrame...\n",
      "Validating URLs...\n",
      "\n",
      "Processing completed.\n",
      "-------------------------------- \n",
      "\n",
      "Starting URL reconstruction...\n"
     ]
    },
    {
     "name": "stderr",
     "output_type": "stream",
     "text": [
      "Processing URLs:  88%|████████▊ | 444/502 [20:26<01:26,  1.50s/it]"
     ]
    },
    {
     "name": "stdout",
     "output_type": "stream",
     "text": [
      "Error during HTTP request: 404 Client Error: Not Found for url: https://www.eversports.de/s/flyhigh\n",
      "Converting to DataFrame...\n",
      "Validating URLs...\n",
      "\n",
      "Processing completed.\n",
      "-------------------------------- \n",
      "\n",
      "Starting URL reconstruction...\n"
     ]
    },
    {
     "name": "stderr",
     "output_type": "stream",
     "text": [
      "2024-03-11 18:46:29,175 - INFO - Processing URL 1/1: https://www.eversports.de/s/la-belle\n"
     ]
    },
    {
     "name": "stdout",
     "output_type": "stream",
     "text": [
      "Converting to DataFrame...\n",
      "Validating URLs...\n"
     ]
    },
    {
     "name": "stderr",
     "output_type": "stream",
     "text": [
      "2024-03-11 18:46:31,165 - INFO - URL https://www.eversports.de/s/la-belle is valid.\n"
     ]
    },
    {
     "name": "stdout",
     "output_type": "stream",
     "text": [
      "Scraping Pole Studio Data from https://www.eversports.de/s/la-belle...\n"
     ]
    },
    {
     "name": "stderr",
     "output_type": "stream",
     "text": [
      "Processing URLs:  89%|████████▊ | 445/502 [20:30<01:57,  2.06s/it]"
     ]
    },
    {
     "name": "stdout",
     "output_type": "stream",
     "text": [
      "\n",
      "Processing completed.\n",
      "-------------------------------- \n",
      "\n",
      "2024-03-11 18:46:31 - INFO - Scraping Data from: https://www.eversports.de/s/la-belle\n",
      "Pole Studio Data: 1 entries\n",
      "Starting URL reconstruction...\n"
     ]
    },
    {
     "name": "stderr",
     "output_type": "stream",
     "text": [
      "Processing URLs:  89%|████████▉ | 446/502 [20:30<01:32,  1.65s/it]"
     ]
    },
    {
     "name": "stdout",
     "output_type": "stream",
     "text": [
      "Error during HTTP request: 404 Client Error: Not Found for url: https://www.eversports.de/s/polesports-studio-bremen\n",
      "Converting to DataFrame...\n",
      "Validating URLs...\n",
      "\n",
      "Processing completed.\n",
      "-------------------------------- \n",
      "\n",
      "Starting URL reconstruction...\n"
     ]
    },
    {
     "name": "stderr",
     "output_type": "stream",
     "text": [
      "Processing URLs:  89%|████████▉ | 447/502 [20:31<01:13,  1.33s/it]"
     ]
    },
    {
     "name": "stdout",
     "output_type": "stream",
     "text": [
      "Error during HTTP request: 404 Client Error: Not Found for url: https://www.eversports.de/s/polepoint-dance-studio\n",
      "Converting to DataFrame...\n",
      "Validating URLs...\n",
      "\n",
      "Processing completed.\n",
      "-------------------------------- \n",
      "\n",
      "Starting URL reconstruction...\n"
     ]
    },
    {
     "name": "stderr",
     "output_type": "stream",
     "text": [
      "Processing URLs:  89%|████████▉ | 448/502 [20:34<01:38,  1.83s/it]"
     ]
    },
    {
     "name": "stdout",
     "output_type": "stream",
     "text": [
      "Error during HTTP request: Exceeded 30 redirects.\n",
      "Converting to DataFrame...\n",
      "Validating URLs...\n",
      "\n",
      "Processing completed.\n",
      "-------------------------------- \n",
      "\n",
      "Starting URL reconstruction...\n"
     ]
    },
    {
     "name": "stderr",
     "output_type": "stream",
     "text": [
      "2024-03-11 18:46:36,710 - INFO - Processing URL 1/1: https://www.eversports.de/s/aerial-circus\n"
     ]
    },
    {
     "name": "stdout",
     "output_type": "stream",
     "text": [
      "Converting to DataFrame...\n",
      "Validating URLs...\n"
     ]
    },
    {
     "name": "stderr",
     "output_type": "stream",
     "text": [
      "2024-03-11 18:46:37,520 - INFO - URL https://www.eversports.de/s/aerial-circus is valid.\n"
     ]
    },
    {
     "name": "stdout",
     "output_type": "stream",
     "text": [
      "Scraping Pole Studio Data from https://www.eversports.de/s/aerial-circus...\n"
     ]
    },
    {
     "name": "stderr",
     "output_type": "stream",
     "text": [
      "Processing URLs:  89%|████████▉ | 449/502 [20:36<01:45,  2.00s/it]"
     ]
    },
    {
     "name": "stdout",
     "output_type": "stream",
     "text": [
      "\n",
      "Processing completed.\n",
      "-------------------------------- \n",
      "\n",
      "2024-03-11 18:46:38 - INFO - Scraping Data from: https://www.eversports.de/s/aerial-circus\n",
      "Pole Studio Data: 1 entries\n",
      "Starting URL reconstruction...\n"
     ]
    },
    {
     "name": "stderr",
     "output_type": "stream",
     "text": [
      "2024-03-11 18:46:39,087 - INFO - Processing URL 1/1: https://www.eversports.de/s/polesensation\n"
     ]
    },
    {
     "name": "stdout",
     "output_type": "stream",
     "text": [
      "Converting to DataFrame...\n",
      "Validating URLs...\n"
     ]
    },
    {
     "name": "stderr",
     "output_type": "stream",
     "text": [
      "2024-03-11 18:46:39,850 - INFO - URL https://www.eversports.de/s/polesensation is valid.\n"
     ]
    },
    {
     "name": "stdout",
     "output_type": "stream",
     "text": [
      "Scraping Pole Studio Data from https://www.eversports.de/s/polesensation...\n"
     ]
    },
    {
     "name": "stderr",
     "output_type": "stream",
     "text": [
      "Processing URLs:  90%|████████▉ | 450/502 [20:38<01:42,  1.97s/it]"
     ]
    },
    {
     "name": "stdout",
     "output_type": "stream",
     "text": [
      "\n",
      "Processing completed.\n",
      "-------------------------------- \n",
      "\n",
      "2024-03-11 18:46:40 - INFO - Scraping Data from: https://www.eversports.de/s/polesensation\n",
      "Pole Studio Data: 1 entries\n",
      "Starting URL reconstruction...\n"
     ]
    },
    {
     "name": "stderr",
     "output_type": "stream",
     "text": [
      "Processing URLs:  90%|████████▉ | 451/502 [20:39<01:19,  1.56s/it]"
     ]
    },
    {
     "name": "stdout",
     "output_type": "stream",
     "text": [
      "Error during HTTP request: 404 Client Error: Not Found for url: https://www.eversports.de/s/anni's-pole-dance-uetersen\n",
      "Converting to DataFrame...\n",
      "Validating URLs...\n",
      "\n",
      "Processing completed.\n",
      "-------------------------------- \n",
      "\n",
      "Starting URL reconstruction...\n"
     ]
    },
    {
     "name": "stderr",
     "output_type": "stream",
     "text": [
      "Processing URLs:  90%|█████████ | 452/502 [20:43<01:51,  2.22s/it]"
     ]
    },
    {
     "name": "stdout",
     "output_type": "stream",
     "text": [
      "Error during HTTP request: Exceeded 30 redirects.\n",
      "Converting to DataFrame...\n",
      "Validating URLs...\n",
      "\n",
      "Processing completed.\n",
      "-------------------------------- \n",
      "\n",
      "Starting URL reconstruction...\n"
     ]
    },
    {
     "name": "stderr",
     "output_type": "stream",
     "text": [
      "Processing URLs:  90%|█████████ | 453/502 [20:45<01:52,  2.31s/it]"
     ]
    },
    {
     "name": "stdout",
     "output_type": "stream",
     "text": [
      "Error during HTTP request: Exceeded 30 redirects.\n",
      "Converting to DataFrame...\n",
      "Validating URLs...\n",
      "\n",
      "Processing completed.\n",
      "-------------------------------- \n",
      "\n",
      "Starting URL reconstruction...\n"
     ]
    },
    {
     "name": "stderr",
     "output_type": "stream",
     "text": [
      "2024-03-11 18:46:47,886 - INFO - Processing URL 1/1: https://www.eversports.de/s/munich-circus-arts\n"
     ]
    },
    {
     "name": "stdout",
     "output_type": "stream",
     "text": [
      "Converting to DataFrame...\n",
      "Validating URLs...\n"
     ]
    },
    {
     "name": "stderr",
     "output_type": "stream",
     "text": [
      "2024-03-11 18:46:49,564 - INFO - URL https://www.eversports.de/s/munich-circus-arts is valid.\n"
     ]
    },
    {
     "name": "stdout",
     "output_type": "stream",
     "text": [
      "Scraping Pole Studio Data from https://www.eversports.de/s/munich-circus-arts...\n"
     ]
    },
    {
     "name": "stderr",
     "output_type": "stream",
     "text": [
      "Processing URLs:  90%|█████████ | 454/502 [20:49<02:17,  2.86s/it]"
     ]
    },
    {
     "name": "stdout",
     "output_type": "stream",
     "text": [
      "\n",
      "Processing completed.\n",
      "-------------------------------- \n",
      "\n",
      "2024-03-11 18:46:51 - INFO - Scraping Data from: https://www.eversports.de/s/munich-circus-arts\n",
      "Pole Studio Data: 1 entries\n",
      "Starting URL reconstruction...\n"
     ]
    },
    {
     "name": "stderr",
     "output_type": "stream",
     "text": [
      "Processing URLs:  91%|█████████ | 455/502 [20:50<01:43,  2.20s/it]"
     ]
    },
    {
     "name": "stdout",
     "output_type": "stream",
     "text": [
      "Error during HTTP request: 404 Client Error: Not Found for url: https://www.eversports.de/s/freaky-pole-cats-straubing\n",
      "Converting to DataFrame...\n",
      "Validating URLs...\n",
      "\n",
      "Processing completed.\n",
      "-------------------------------- \n",
      "\n",
      "Starting URL reconstruction...\n"
     ]
    },
    {
     "name": "stderr",
     "output_type": "stream",
     "text": [
      "Processing URLs:  91%|█████████ | 456/502 [20:51<01:20,  1.75s/it]"
     ]
    },
    {
     "name": "stdout",
     "output_type": "stream",
     "text": [
      "Error during HTTP request: 404 Client Error: Not Found for url: https://www.eversports.de/s/move-with-ana\n",
      "Converting to DataFrame...\n",
      "Validating URLs...\n",
      "\n",
      "Processing completed.\n",
      "-------------------------------- \n",
      "\n",
      "Starting URL reconstruction...\n"
     ]
    },
    {
     "name": "stderr",
     "output_type": "stream",
     "text": [
      "Processing URLs:  91%|█████████ | 457/502 [20:51<01:03,  1.41s/it]"
     ]
    },
    {
     "name": "stdout",
     "output_type": "stream",
     "text": [
      "Error during HTTP request: 404 Client Error: Not Found for url: https://www.eversports.de/s/metropole-dance---now2\n",
      "Converting to DataFrame...\n",
      "Validating URLs...\n",
      "\n",
      "Processing completed.\n",
      "-------------------------------- \n",
      "\n",
      "Starting URL reconstruction...\n"
     ]
    },
    {
     "name": "stderr",
     "output_type": "stream",
     "text": [
      "Processing URLs:  91%|█████████ | 458/502 [20:52<00:51,  1.17s/it]"
     ]
    },
    {
     "name": "stdout",
     "output_type": "stream",
     "text": [
      "Error during HTTP request: 404 Client Error: Not Found for url: https://www.eversports.de/s/pole-position-studio\n",
      "Converting to DataFrame...\n",
      "Validating URLs...\n",
      "\n",
      "Processing completed.\n",
      "-------------------------------- \n",
      "\n",
      "Starting URL reconstruction...\n"
     ]
    },
    {
     "name": "stderr",
     "output_type": "stream",
     "text": [
      "2024-03-11 18:46:54,500 - INFO - Processing URL 1/1: https://www.eversports.de/s/pole-dance-palazzo-sportivo\n"
     ]
    },
    {
     "name": "stdout",
     "output_type": "stream",
     "text": [
      "Converting to DataFrame...\n",
      "Validating URLs...\n"
     ]
    },
    {
     "name": "stderr",
     "output_type": "stream",
     "text": [
      "2024-03-11 18:46:55,589 - INFO - URL https://www.eversports.de/s/pole-dance-palazzo-sportivo is valid.\n"
     ]
    },
    {
     "name": "stdout",
     "output_type": "stream",
     "text": [
      "Scraping Pole Studio Data from https://www.eversports.de/s/pole-dance-palazzo-sportivo...\n"
     ]
    },
    {
     "name": "stderr",
     "output_type": "stream",
     "text": [
      "Processing URLs:  91%|█████████▏| 459/502 [20:54<01:03,  1.48s/it]"
     ]
    },
    {
     "name": "stdout",
     "output_type": "stream",
     "text": [
      "\n",
      "Processing completed.\n",
      "-------------------------------- \n",
      "\n",
      "2024-03-11 18:46:55 - INFO - Scraping Data from: https://www.eversports.de/s/pole-dance-palazzo-sportivo\n",
      "Pole Studio Data: 1 entries\n",
      "Starting URL reconstruction...\n"
     ]
    },
    {
     "name": "stderr",
     "output_type": "stream",
     "text": [
      "Processing URLs:  92%|█████████▏| 460/502 [20:57<01:18,  1.87s/it]"
     ]
    },
    {
     "name": "stdout",
     "output_type": "stream",
     "text": [
      "Error during HTTP request: Exceeded 30 redirects.\n",
      "Converting to DataFrame...\n",
      "Validating URLs...\n",
      "\n",
      "Processing completed.\n",
      "-------------------------------- \n",
      "\n",
      "Starting URL reconstruction...\n"
     ]
    },
    {
     "name": "stderr",
     "output_type": "stream",
     "text": [
      "Processing URLs:  92%|█████████▏| 461/502 [20:57<01:01,  1.50s/it]"
     ]
    },
    {
     "name": "stdout",
     "output_type": "stream",
     "text": [
      "Error during HTTP request: 404 Client Error: Not Found for url: https://www.eversports.de/s/pole-circus-a-+-k\n",
      "Converting to DataFrame...\n",
      "Validating URLs...\n",
      "\n",
      "Processing completed.\n",
      "-------------------------------- \n",
      "\n",
      "Starting URL reconstruction...\n"
     ]
    },
    {
     "name": "stderr",
     "output_type": "stream",
     "text": [
      "Processing URLs:  92%|█████████▏| 462/502 [20:58<00:49,  1.24s/it]"
     ]
    },
    {
     "name": "stdout",
     "output_type": "stream",
     "text": [
      "Error during HTTP request: 404 Client Error: Not Found for url: https://www.eversports.de/s/pole-passion-koblenz\n",
      "Converting to DataFrame...\n",
      "Validating URLs...\n",
      "\n",
      "Processing completed.\n",
      "-------------------------------- \n",
      "\n",
      "Starting URL reconstruction...\n"
     ]
    },
    {
     "name": "stderr",
     "output_type": "stream",
     "text": [
      "2024-03-11 18:47:01,473 - INFO - Processing URL 1/1: https://www.eversports.de/s/pole-dance-with-lise\n"
     ]
    },
    {
     "name": "stdout",
     "output_type": "stream",
     "text": [
      "Converting to DataFrame...\n",
      "Validating URLs...\n"
     ]
    },
    {
     "name": "stderr",
     "output_type": "stream",
     "text": [
      "2024-03-11 18:47:02,819 - INFO - URL https://www.eversports.de/s/pole-dance-with-lise is valid.\n"
     ]
    },
    {
     "name": "stdout",
     "output_type": "stream",
     "text": [
      "Scraping Pole Studio Data from https://www.eversports.de/s/pole-dance-with-lise...\n"
     ]
    },
    {
     "name": "stderr",
     "output_type": "stream",
     "text": [
      "Processing URLs:  92%|█████████▏| 463/502 [21:02<01:25,  2.18s/it]"
     ]
    },
    {
     "name": "stdout",
     "output_type": "stream",
     "text": [
      "\n",
      "Processing completed.\n",
      "-------------------------------- \n",
      "\n",
      "2024-03-11 18:47:04 - INFO - Scraping Data from: https://www.eversports.nl/s/pole-dance-with-lise\n",
      "Pole Studio Data: 1 entries\n",
      "Starting URL reconstruction...\n"
     ]
    },
    {
     "name": "stderr",
     "output_type": "stream",
     "text": [
      "Processing URLs:  92%|█████████▏| 464/502 [21:03<01:06,  1.76s/it]"
     ]
    },
    {
     "name": "stdout",
     "output_type": "stream",
     "text": [
      "Error during HTTP request: 404 Client Error: Not Found for url: https://www.eversports.de/s/aerial-athletix-\n",
      "Converting to DataFrame...\n",
      "Validating URLs...\n",
      "\n",
      "Processing completed.\n",
      "-------------------------------- \n",
      "\n",
      "Starting URL reconstruction...\n"
     ]
    },
    {
     "name": "stderr",
     "output_type": "stream",
     "text": [
      "2024-03-11 18:47:06,062 - INFO - Processing URL 1/1: https://www.eversports.de/s/polefriends-magdeburg\n"
     ]
    },
    {
     "name": "stdout",
     "output_type": "stream",
     "text": [
      "Converting to DataFrame...\n",
      "Validating URLs...\n"
     ]
    },
    {
     "name": "stderr",
     "output_type": "stream",
     "text": [
      "2024-03-11 18:47:08,106 - INFO - URL https://www.eversports.de/s/polefriends-magdeburg is valid.\n"
     ]
    },
    {
     "name": "stdout",
     "output_type": "stream",
     "text": [
      "Scraping Pole Studio Data from https://www.eversports.de/s/polefriends-magdeburg...\n"
     ]
    },
    {
     "name": "stderr",
     "output_type": "stream",
     "text": [
      "Processing URLs:  93%|█████████▎| 465/502 [21:07<01:22,  2.24s/it]"
     ]
    },
    {
     "name": "stdout",
     "output_type": "stream",
     "text": [
      "\n",
      "Processing completed.\n",
      "-------------------------------- \n",
      "\n",
      "2024-03-11 18:47:08 - INFO - Scraping Data from: https://www.eversports.de/s/polefriends-magdeburg\n",
      "Pole Studio Data: 1 entries\n",
      "Starting URL reconstruction...\n"
     ]
    },
    {
     "name": "stderr",
     "output_type": "stream",
     "text": [
      "Processing URLs:  93%|█████████▎| 466/502 [21:09<01:25,  2.38s/it]"
     ]
    },
    {
     "name": "stdout",
     "output_type": "stream",
     "text": [
      "Error during HTTP request: Exceeded 30 redirects.\n",
      "Converting to DataFrame...\n",
      "Validating URLs...\n",
      "\n",
      "Processing completed.\n",
      "-------------------------------- \n",
      "\n",
      "Starting URL reconstruction...\n"
     ]
    },
    {
     "name": "stderr",
     "output_type": "stream",
     "text": [
      "Processing URLs:  93%|█████████▎| 467/502 [21:14<01:42,  2.92s/it]"
     ]
    },
    {
     "name": "stdout",
     "output_type": "stream",
     "text": [
      "Error during HTTP request: Exceeded 30 redirects.\n",
      "Converting to DataFrame...\n",
      "Validating URLs...\n",
      "\n",
      "Processing completed.\n",
      "-------------------------------- \n",
      "\n",
      "Starting URL reconstruction...\n"
     ]
    },
    {
     "name": "stderr",
     "output_type": "stream",
     "text": [
      "Processing URLs:  93%|█████████▎| 468/502 [21:16<01:35,  2.80s/it]"
     ]
    },
    {
     "name": "stdout",
     "output_type": "stream",
     "text": [
      "Error during HTTP request: Exceeded 30 redirects.\n",
      "Converting to DataFrame...\n",
      "Validating URLs...\n",
      "\n",
      "Processing completed.\n",
      "-------------------------------- \n",
      "\n",
      "Starting URL reconstruction...\n"
     ]
    },
    {
     "name": "stderr",
     "output_type": "stream",
     "text": [
      "2024-03-11 18:47:18,996 - INFO - Processing URL 1/1: https://www.eversports.de/s/move-on-dance-studio-and-polemotions\n"
     ]
    },
    {
     "name": "stdout",
     "output_type": "stream",
     "text": [
      "Converting to DataFrame...\n",
      "Validating URLs...\n"
     ]
    },
    {
     "name": "stderr",
     "output_type": "stream",
     "text": [
      "2024-03-11 18:47:19,930 - INFO - URL https://www.eversports.de/s/move-on-dance-studio-and-polemotions is valid.\n"
     ]
    },
    {
     "name": "stdout",
     "output_type": "stream",
     "text": [
      "Scraping Pole Studio Data from https://www.eversports.de/s/move-on-dance-studio-and-polemotions...\n"
     ]
    },
    {
     "name": "stderr",
     "output_type": "stream",
     "text": [
      "Processing URLs:  93%|█████████▎| 469/502 [21:19<01:33,  2.82s/it]"
     ]
    },
    {
     "name": "stdout",
     "output_type": "stream",
     "text": [
      "\n",
      "Processing completed.\n",
      "-------------------------------- \n",
      "\n",
      "2024-03-11 18:47:20 - INFO - Scraping Data from: https://www.eversports.de/s/move-on-dance-studio-and-polemotions\n",
      "Pole Studio Data: 1 entries\n",
      "Starting URL reconstruction...\n"
     ]
    },
    {
     "name": "stderr",
     "output_type": "stream",
     "text": [
      "2024-03-11 18:47:21,764 - INFO - Processing URL 1/2: https://www.eversports.de/s/one8dance-studio\n"
     ]
    },
    {
     "name": "stdout",
     "output_type": "stream",
     "text": [
      "Converting to DataFrame...\n",
      "Validating URLs...\n"
     ]
    },
    {
     "name": "stderr",
     "output_type": "stream",
     "text": [
      "2024-03-11 18:47:22,606 - INFO - URL https://www.eversports.de/s/one8dance-studio is valid.\n",
      "2024-03-11 18:47:22,608 - INFO - Processing URL 2/2: https://www.eversports.de/sw/one8dance-studio\n",
      "2024-03-11 18:47:23,251 - INFO - URL https://www.eversports.de/sw/one8dance-studio is valid.\n"
     ]
    },
    {
     "name": "stdout",
     "output_type": "stream",
     "text": [
      "Scraping Pole Studio Data from https://www.eversports.de/s/one8dance-studio...\n",
      "Scraping Workshops Data from https://www.eversports.de/sw/one8dance-studio...\n",
      "Scraping Workshop Details from https://www.eversports.de/e/workshop/fH0mDJb...\n"
     ]
    },
    {
     "name": "stderr",
     "output_type": "stream",
     "text": [
      "Processing URLs:  94%|█████████▎| 470/502 [21:23<01:43,  3.24s/it]"
     ]
    },
    {
     "name": "stdout",
     "output_type": "stream",
     "text": [
      "\n",
      "Processing completed.\n",
      "-------------------------------- \n",
      "\n",
      "2024-03-11 18:47:24 - INFO - Scraping Data from: https://www.eversports.de/s/one8dance-studio\n",
      "Pole Studio Data: 1 entries\n",
      "2024-03-11 18:47:24 - INFO - Scraping Data from: https://www.eversports.de/s/one8dance-studio\n",
      "Workshops Data: 1 entries\n",
      "2024-03-11 18:47:25 - INFO - Scraping Data from: https://www.eversports.de/s/one8dance-studio\n",
      "Workshop Details: 1 entries\n",
      "Starting URL reconstruction...\n"
     ]
    },
    {
     "name": "stderr",
     "output_type": "stream",
     "text": [
      "2024-03-11 18:47:25,966 - INFO - Processing URL 1/1: https://www.eversports.de/s/pole-dance-factory-amsterdam-noord\n"
     ]
    },
    {
     "name": "stdout",
     "output_type": "stream",
     "text": [
      "Converting to DataFrame...\n",
      "Validating URLs...\n"
     ]
    },
    {
     "name": "stderr",
     "output_type": "stream",
     "text": [
      "2024-03-11 18:47:27,079 - INFO - URL https://www.eversports.de/s/pole-dance-factory-amsterdam-noord is valid.\n"
     ]
    },
    {
     "name": "stdout",
     "output_type": "stream",
     "text": [
      "Scraping Pole Studio Data from https://www.eversports.de/s/pole-dance-factory-amsterdam-noord...\n"
     ]
    },
    {
     "name": "stderr",
     "output_type": "stream",
     "text": [
      "Processing URLs:  94%|█████████▍| 471/502 [21:26<01:36,  3.13s/it]"
     ]
    },
    {
     "name": "stdout",
     "output_type": "stream",
     "text": [
      "\n",
      "Processing completed.\n",
      "-------------------------------- \n",
      "\n",
      "2024-03-11 18:47:27 - INFO - Scraping Data from: https://www.eversports.de/s/pole-dance-factory-amsterdam-noord\n",
      "Pole Studio Data: 1 entries\n",
      "Starting URL reconstruction...\n"
     ]
    },
    {
     "name": "stderr",
     "output_type": "stream",
     "text": [
      "2024-03-11 18:47:28,992 - INFO - Processing URL 1/2: https://www.eversports.de/s/balance-neumarkt\n"
     ]
    },
    {
     "name": "stdout",
     "output_type": "stream",
     "text": [
      "Converting to DataFrame...\n",
      "Validating URLs...\n"
     ]
    },
    {
     "name": "stderr",
     "output_type": "stream",
     "text": [
      "2024-03-11 18:47:29,873 - INFO - URL https://www.eversports.de/s/balance-neumarkt is valid.\n",
      "2024-03-11 18:47:29,874 - INFO - Processing URL 2/2: https://www.eversports.de/sw/balance-neumarkt\n",
      "2024-03-11 18:47:31,850 - INFO - URL https://www.eversports.de/sw/balance-neumarkt is valid.\n"
     ]
    },
    {
     "name": "stdout",
     "output_type": "stream",
     "text": [
      "Scraping Pole Studio Data from https://www.eversports.de/s/balance-neumarkt...\n",
      "Scraping Workshops Data from https://www.eversports.de/sw/balance-neumarkt...\n",
      "Scraping Workshop Details from https://www.eversports.de/e/workshop/AL0d8uV...\n",
      "Scraping Workshop Details from https://www.eversports.de/e/workshop/WpCq6MN...\n",
      "Scraping Workshop Details from https://www.eversports.de/e/workshop/uE03gmT...\n",
      "Scraping Workshop Details from https://www.eversports.de/e/workshop/Nm33K4u...\n",
      "Scraping Workshop Details from https://www.eversports.de/e/workshop/DmdrEre...\n",
      "Scraping Workshop Details from https://www.eversports.de/e/workshop/U27XEmo...\n",
      "Scraping Workshop Details from https://www.eversports.de/e/workshop/DujyYDr...\n",
      "Scraping Workshop Details from https://www.eversports.de/e/workshop/o9PsD_A...\n",
      "Scraping Workshop Details from https://www.eversports.de/e/workshop/5g9eg4-...\n"
     ]
    },
    {
     "name": "stderr",
     "output_type": "stream",
     "text": [
      "Processing URLs:  94%|█████████▍| 472/502 [21:41<03:21,  6.73s/it]"
     ]
    },
    {
     "name": "stdout",
     "output_type": "stream",
     "text": [
      "\n",
      "Processing completed.\n",
      "-------------------------------- \n",
      "\n",
      "2024-03-11 18:47:43 - INFO - Scraping Data from: https://www.eversports.de/s/balance-neumarkt\n",
      "Pole Studio Data: 1 entries\n",
      "2024-03-11 18:47:43 - INFO - Scraping Data from: https://www.eversports.de/s/balance-neumarkt\n",
      "Workshops Data: 9 entries\n",
      "2024-03-11 18:47:43 - INFO - Scraping Data from: https://www.eversports.de/s/balance-neumarkt\n",
      "Workshop Details: 9 entries\n",
      "Starting URL reconstruction...\n"
     ]
    },
    {
     "name": "stderr",
     "output_type": "stream",
     "text": [
      "2024-03-11 18:47:43,910 - INFO - Processing URL 1/1: https://www.eversports.de/s/delicate-pole\n"
     ]
    },
    {
     "name": "stdout",
     "output_type": "stream",
     "text": [
      "Converting to DataFrame...\n",
      "Validating URLs...\n"
     ]
    },
    {
     "name": "stderr",
     "output_type": "stream",
     "text": [
      "2024-03-11 18:47:46,211 - INFO - URL https://www.eversports.de/s/delicate-pole is valid.\n"
     ]
    },
    {
     "name": "stdout",
     "output_type": "stream",
     "text": [
      "Scraping Pole Studio Data from https://www.eversports.de/s/delicate-pole...\n"
     ]
    },
    {
     "name": "stderr",
     "output_type": "stream",
     "text": [
      "Processing URLs:  94%|█████████▍| 473/502 [21:45<02:48,  5.81s/it]"
     ]
    },
    {
     "name": "stdout",
     "output_type": "stream",
     "text": [
      "\n",
      "Processing completed.\n",
      "-------------------------------- \n",
      "\n",
      "2024-03-11 18:47:46 - INFO - Scraping Data from: https://www.eversports.de/s/delicate-pole\n",
      "Pole Studio Data: 1 entries\n",
      "Starting URL reconstruction...\n"
     ]
    },
    {
     "name": "stderr",
     "output_type": "stream",
     "text": [
      "Processing URLs:  94%|█████████▍| 474/502 [21:45<01:58,  4.24s/it]"
     ]
    },
    {
     "name": "stdout",
     "output_type": "stream",
     "text": [
      "Error during HTTP request: 404 Client Error: Not Found for url: https://www.eversports.de/s/anni's-pole-dance-neum%C3%BCnster\n",
      "Converting to DataFrame...\n",
      "Validating URLs...\n",
      "\n",
      "Processing completed.\n",
      "-------------------------------- \n",
      "\n",
      "Starting URL reconstruction...\n"
     ]
    },
    {
     "name": "stderr",
     "output_type": "stream",
     "text": [
      "2024-03-11 18:47:49,083 - INFO - Processing URL 1/1: https://www.eversports.de/s/aerial-studio-arnhem\n"
     ]
    },
    {
     "name": "stdout",
     "output_type": "stream",
     "text": [
      "Converting to DataFrame...\n",
      "Validating URLs...\n"
     ]
    },
    {
     "name": "stderr",
     "output_type": "stream",
     "text": [
      "2024-03-11 18:47:52,153 - INFO - URL https://www.eversports.de/s/aerial-studio-arnhem is valid.\n"
     ]
    },
    {
     "name": "stdout",
     "output_type": "stream",
     "text": [
      "Scraping Pole Studio Data from https://www.eversports.de/s/aerial-studio-arnhem...\n"
     ]
    },
    {
     "name": "stderr",
     "output_type": "stream",
     "text": [
      "Processing URLs:  95%|█████████▍| 475/502 [21:52<02:13,  4.95s/it]"
     ]
    },
    {
     "name": "stdout",
     "output_type": "stream",
     "text": [
      "\n",
      "Processing completed.\n",
      "-------------------------------- \n",
      "\n",
      "2024-03-11 18:47:53 - INFO - Scraping Data from: https://www.eversports.nl/s/aerial-studio-arnhem\n",
      "Pole Studio Data: 1 entries\n",
      "Starting URL reconstruction...\n"
     ]
    },
    {
     "name": "stderr",
     "output_type": "stream",
     "text": [
      "Processing URLs:  95%|█████████▍| 476/502 [21:53<01:35,  3.67s/it]"
     ]
    },
    {
     "name": "stdout",
     "output_type": "stream",
     "text": [
      "Error during HTTP request: 404 Client Error: Not Found for url: https://www.eversports.de/s/lioness-lodge\n",
      "Converting to DataFrame...\n",
      "Validating URLs...\n",
      "\n",
      "Processing completed.\n",
      "-------------------------------- \n",
      "\n",
      "Starting URL reconstruction...\n"
     ]
    },
    {
     "name": "stderr",
     "output_type": "stream",
     "text": [
      "2024-03-11 18:47:55,470 - INFO - Processing URL 1/2: https://www.eversports.de/s/niyaha-yoga-susann-kind\n"
     ]
    },
    {
     "name": "stdout",
     "output_type": "stream",
     "text": [
      "Converting to DataFrame...\n",
      "Validating URLs...\n"
     ]
    },
    {
     "name": "stderr",
     "output_type": "stream",
     "text": [
      "2024-03-11 18:47:56,337 - INFO - URL https://www.eversports.de/s/niyaha-yoga-susann-kind is valid.\n",
      "2024-03-11 18:47:56,338 - INFO - Processing URL 2/2: https://www.eversports.de/sw/niyaha-yoga-susann-kind\n",
      "2024-03-11 18:47:56,959 - INFO - URL https://www.eversports.de/sw/niyaha-yoga-susann-kind is valid.\n"
     ]
    },
    {
     "name": "stdout",
     "output_type": "stream",
     "text": [
      "Scraping Pole Studio Data from https://www.eversports.de/s/niyaha-yoga-susann-kind...\n",
      "Scraping Workshops Data from https://www.eversports.de/sw/niyaha-yoga-susann-kind...\n",
      "Scraping Workshop Details from https://www.eversports.de/e/workshop/7pfT9NN...\n",
      "Scraping Workshop Details from https://www.eversports.de/e/workshop/5NtOIyW...\n"
     ]
    },
    {
     "name": "stderr",
     "output_type": "stream",
     "text": [
      "Processing URLs:  95%|█████████▌| 477/502 [22:00<01:58,  4.74s/it]"
     ]
    },
    {
     "name": "stdout",
     "output_type": "stream",
     "text": [
      "\n",
      "Processing completed.\n",
      "-------------------------------- \n",
      "\n",
      "2024-03-11 18:48:01 - INFO - Scraping Data from: https://www.eversports.de/s/niyaha-yoga-susann-kind\n",
      "Pole Studio Data: 1 entries\n",
      "2024-03-11 18:48:01 - INFO - Scraping Data from: https://www.eversports.de/s/niyaha-yoga-susann-kind\n",
      "Workshops Data: 2 entries\n",
      "2024-03-11 18:48:01 - INFO - Scraping Data from: https://www.eversports.de/s/niyaha-yoga-susann-kind\n",
      "Workshop Details: 2 entries\n",
      "Starting URL reconstruction...\n"
     ]
    },
    {
     "name": "stderr",
     "output_type": "stream",
     "text": [
      "Processing URLs:  95%|█████████▌| 478/502 [22:01<01:24,  3.52s/it]"
     ]
    },
    {
     "name": "stdout",
     "output_type": "stream",
     "text": [
      "Error during HTTP request: 404 Client Error: Not Found for url: https://www.eversports.de/s/dancexotic\n",
      "Converting to DataFrame...\n",
      "Validating URLs...\n",
      "\n",
      "Processing completed.\n",
      "-------------------------------- \n",
      "\n",
      "Starting URL reconstruction...\n"
     ]
    },
    {
     "name": "stderr",
     "output_type": "stream",
     "text": [
      "Processing URLs:  95%|█████████▌| 479/502 [22:02<01:05,  2.86s/it]"
     ]
    },
    {
     "name": "stdout",
     "output_type": "stream",
     "text": [
      "Error during HTTP request: 404 Client Error: Not Found for url: https://www.eversports.de/s/vi-dance-hamm\n",
      "Converting to DataFrame...\n",
      "Validating URLs...\n",
      "\n",
      "Processing completed.\n",
      "-------------------------------- \n",
      "\n",
      "Starting URL reconstruction...\n"
     ]
    },
    {
     "name": "stderr",
     "output_type": "stream",
     "text": [
      "2024-03-11 18:48:04,617 - INFO - Processing URL 1/1: https://www.eversports.de/s/pole-dance-rosenheim-delia-studio\n"
     ]
    },
    {
     "name": "stdout",
     "output_type": "stream",
     "text": [
      "Converting to DataFrame...\n",
      "Validating URLs...\n"
     ]
    },
    {
     "name": "stderr",
     "output_type": "stream",
     "text": [
      "2024-03-11 18:48:05,960 - INFO - URL https://www.eversports.de/s/pole-dance-rosenheim-delia-studio is valid.\n"
     ]
    },
    {
     "name": "stdout",
     "output_type": "stream",
     "text": [
      "Scraping Pole Studio Data from https://www.eversports.de/s/pole-dance-rosenheim-delia-studio...\n"
     ]
    },
    {
     "name": "stderr",
     "output_type": "stream",
     "text": [
      "Processing URLs:  96%|█████████▌| 480/502 [22:05<01:04,  2.93s/it]"
     ]
    },
    {
     "name": "stdout",
     "output_type": "stream",
     "text": [
      "\n",
      "Processing completed.\n",
      "-------------------------------- \n",
      "\n",
      "2024-03-11 18:48:06 - INFO - Scraping Data from: https://www.eversports.de/s/pole-dance-rosenheim-delia-studio\n",
      "Pole Studio Data: 1 entries\n",
      "Starting URL reconstruction...\n"
     ]
    },
    {
     "name": "stderr",
     "output_type": "stream",
     "text": [
      "2024-03-11 18:48:09,058 - INFO - Processing URL 1/2: https://www.eversports.de/s/dayuma-pole-and-acrobatics\n"
     ]
    },
    {
     "name": "stdout",
     "output_type": "stream",
     "text": [
      "Converting to DataFrame...\n",
      "Validating URLs...\n"
     ]
    },
    {
     "name": "stderr",
     "output_type": "stream",
     "text": [
      "2024-03-11 18:48:09,933 - INFO - URL https://www.eversports.de/s/dayuma-pole-and-acrobatics is valid.\n",
      "2024-03-11 18:48:09,934 - INFO - Processing URL 2/2: https://www.eversports.de/sw/dayuma-pole-and-acrobatics\n",
      "2024-03-11 18:48:10,594 - INFO - URL https://www.eversports.de/sw/dayuma-pole-and-acrobatics is not valid.\n"
     ]
    },
    {
     "name": "stdout",
     "output_type": "stream",
     "text": [
      "Scraping Pole Studio Data from https://www.eversports.de/s/dayuma-pole-and-acrobatics...\n"
     ]
    },
    {
     "name": "stderr",
     "output_type": "stream",
     "text": [
      "Processing URLs:  96%|█████████▌| 481/502 [22:09<01:08,  3.28s/it]"
     ]
    },
    {
     "name": "stdout",
     "output_type": "stream",
     "text": [
      "\n",
      "Processing completed.\n",
      "-------------------------------- \n",
      "\n",
      "2024-03-11 18:48:10 - INFO - Scraping Data from: https://www.eversports.de/s/dayuma-pole-and-acrobatics\n",
      "Pole Studio Data: 1 entries\n",
      "Starting URL reconstruction...\n"
     ]
    },
    {
     "name": "stderr",
     "output_type": "stream",
     "text": [
      "Processing URLs:  96%|█████████▌| 482/502 [22:10<00:49,  2.48s/it]"
     ]
    },
    {
     "name": "stdout",
     "output_type": "stream",
     "text": [
      "Error during HTTP request: 404 Client Error: Not Found for url: https://www.eversports.de/s/yh-pole-(and)-sports-berlin\n",
      "Converting to DataFrame...\n",
      "Validating URLs...\n",
      "\n",
      "Processing completed.\n",
      "-------------------------------- \n",
      "\n",
      "Starting URL reconstruction...\n"
     ]
    },
    {
     "name": "stderr",
     "output_type": "stream",
     "text": [
      "Processing URLs:  96%|█████████▌| 483/502 [22:11<00:37,  1.98s/it]"
     ]
    },
    {
     "name": "stdout",
     "output_type": "stream",
     "text": [
      "Error during HTTP request: 404 Client Error: Not Found for url: https://www.eversports.de/s/polesition\n",
      "Converting to DataFrame...\n",
      "Validating URLs...\n",
      "\n",
      "Processing completed.\n",
      "-------------------------------- \n",
      "\n",
      "Starting URL reconstruction...\n"
     ]
    },
    {
     "name": "stderr",
     "output_type": "stream",
     "text": [
      "2024-03-11 18:48:13,650 - INFO - Processing URL 1/1: https://www.eversports.de/s/poledancestar\n"
     ]
    },
    {
     "name": "stdout",
     "output_type": "stream",
     "text": [
      "Converting to DataFrame...\n",
      "Validating URLs...\n"
     ]
    },
    {
     "name": "stderr",
     "output_type": "stream",
     "text": [
      "2024-03-11 18:48:14,631 - INFO - URL https://www.eversports.de/s/poledancestar is valid.\n"
     ]
    },
    {
     "name": "stdout",
     "output_type": "stream",
     "text": [
      "Scraping Pole Studio Data from https://www.eversports.de/s/poledancestar...\n"
     ]
    },
    {
     "name": "stderr",
     "output_type": "stream",
     "text": [
      "Processing URLs:  96%|█████████▋| 484/502 [22:13<00:39,  2.18s/it]"
     ]
    },
    {
     "name": "stdout",
     "output_type": "stream",
     "text": [
      "\n",
      "Processing completed.\n",
      "-------------------------------- \n",
      "\n",
      "2024-03-11 18:48:15 - INFO - Scraping Data from: https://www.eversports.de/s/poledancestar\n",
      "Pole Studio Data: 1 entries\n",
      "Starting URL reconstruction...\n"
     ]
    },
    {
     "name": "stderr",
     "output_type": "stream",
     "text": [
      "2024-03-11 18:48:16,073 - INFO - Processing URL 1/1: https://www.eversports.de/s/sportheim-abensberg\n"
     ]
    },
    {
     "name": "stdout",
     "output_type": "stream",
     "text": [
      "Converting to DataFrame...\n",
      "Validating URLs...\n"
     ]
    },
    {
     "name": "stderr",
     "output_type": "stream",
     "text": [
      "2024-03-11 18:48:16,962 - INFO - URL https://www.eversports.de/s/sportheim-abensberg is valid.\n"
     ]
    },
    {
     "name": "stdout",
     "output_type": "stream",
     "text": [
      "Scraping Pole Studio Data from https://www.eversports.de/s/sportheim-abensberg...\n"
     ]
    },
    {
     "name": "stderr",
     "output_type": "stream",
     "text": [
      "Processing URLs:  97%|█████████▋| 485/502 [22:16<00:38,  2.27s/it]"
     ]
    },
    {
     "name": "stdout",
     "output_type": "stream",
     "text": [
      "\n",
      "Processing completed.\n",
      "-------------------------------- \n",
      "\n",
      "2024-03-11 18:48:17 - INFO - Scraping Data from: https://www.eversports.de/s/sportheim-abensberg\n",
      "Pole Studio Data: 1 entries\n",
      "Starting URL reconstruction...\n"
     ]
    },
    {
     "name": "stderr",
     "output_type": "stream",
     "text": [
      "Processing URLs:  97%|█████████▋| 486/502 [22:16<00:28,  1.81s/it]"
     ]
    },
    {
     "name": "stdout",
     "output_type": "stream",
     "text": [
      "Error during HTTP request: 404 Client Error: Not Found for url: https://www.eversports.de/s/dance-%26-pole-deltawerk\n",
      "Converting to DataFrame...\n",
      "Validating URLs...\n",
      "\n",
      "Processing completed.\n",
      "-------------------------------- \n",
      "\n",
      "Starting URL reconstruction...\n"
     ]
    },
    {
     "name": "stderr",
     "output_type": "stream",
     "text": [
      "2024-03-11 18:48:19,138 - INFO - Processing URL 1/1: https://www.eversports.de/s/stories-in-motion\n"
     ]
    },
    {
     "name": "stdout",
     "output_type": "stream",
     "text": [
      "Converting to DataFrame...\n",
      "Validating URLs...\n"
     ]
    },
    {
     "name": "stderr",
     "output_type": "stream",
     "text": [
      "2024-03-11 18:48:19,892 - INFO - URL https://www.eversports.de/s/stories-in-motion is valid.\n"
     ]
    },
    {
     "name": "stdout",
     "output_type": "stream",
     "text": [
      "Scraping Pole Studio Data from https://www.eversports.de/s/stories-in-motion...\n"
     ]
    },
    {
     "name": "stderr",
     "output_type": "stream",
     "text": [
      "Processing URLs:  97%|█████████▋| 487/502 [22:46<02:30, 10.03s/it]"
     ]
    },
    {
     "name": "stdout",
     "output_type": "stream",
     "text": [
      "\n",
      "Processing completed.\n",
      "-------------------------------- \n",
      "\n",
      "2024-03-11 18:48:47 - INFO - Scraping Data from: https://www.eversports.de/s/stories-in-motion\n",
      "Pole Studio Data: 1 entries\n",
      "Starting URL reconstruction...\n"
     ]
    },
    {
     "name": "stderr",
     "output_type": "stream",
     "text": [
      "2024-03-11 18:48:48,478 - INFO - Processing URL 1/1: https://www.eversports.de/s/poledance-playground-innsbruck\n"
     ]
    },
    {
     "name": "stdout",
     "output_type": "stream",
     "text": [
      "Converting to DataFrame...\n",
      "Validating URLs...\n"
     ]
    },
    {
     "name": "stderr",
     "output_type": "stream",
     "text": [
      "2024-03-11 18:48:49,856 - INFO - URL https://www.eversports.de/s/poledance-playground-innsbruck is valid.\n"
     ]
    },
    {
     "name": "stdout",
     "output_type": "stream",
     "text": [
      "Scraping Pole Studio Data from https://www.eversports.de/s/poledance-playground-innsbruck...\n"
     ]
    },
    {
     "name": "stderr",
     "output_type": "stream",
     "text": [
      "Processing URLs:  97%|█████████▋| 488/502 [22:49<01:51,  7.94s/it]"
     ]
    },
    {
     "name": "stdout",
     "output_type": "stream",
     "text": [
      "\n",
      "Processing completed.\n",
      "-------------------------------- \n",
      "\n",
      "2024-03-11 18:48:50 - INFO - Scraping Data from: https://www.eversports.at/s/poledance-playground-innsbruck\n",
      "Pole Studio Data: 1 entries\n",
      "Starting URL reconstruction...\n"
     ]
    },
    {
     "name": "stderr",
     "output_type": "stream",
     "text": [
      "Processing URLs:  97%|█████████▋| 489/502 [22:49<01:14,  5.73s/it]"
     ]
    },
    {
     "name": "stdout",
     "output_type": "stream",
     "text": [
      "Error during HTTP request: 404 Client Error: Not Found for url: https://www.eversports.de/s/polerina's-poledance\n",
      "Converting to DataFrame...\n",
      "Validating URLs...\n",
      "\n",
      "Processing completed.\n",
      "-------------------------------- \n",
      "\n",
      "Starting URL reconstruction...\n"
     ]
    },
    {
     "name": "stderr",
     "output_type": "stream",
     "text": [
      "2024-03-11 18:48:53,284 - INFO - Processing URL 1/1: https://www.eversports.de/s/iron-forest-studio-1\n"
     ]
    },
    {
     "name": "stdout",
     "output_type": "stream",
     "text": [
      "Converting to DataFrame...\n",
      "Validating URLs...\n"
     ]
    },
    {
     "name": "stderr",
     "output_type": "stream",
     "text": [
      "2024-03-11 18:48:54,075 - INFO - URL https://www.eversports.de/s/iron-forest-studio-1 is valid.\n"
     ]
    },
    {
     "name": "stdout",
     "output_type": "stream",
     "text": [
      "Scraping Pole Studio Data from https://www.eversports.de/s/iron-forest-studio-1...\n"
     ]
    },
    {
     "name": "stderr",
     "output_type": "stream",
     "text": [
      "Processing URLs:  98%|█████████▊| 490/502 [22:53<00:59,  5.00s/it]"
     ]
    },
    {
     "name": "stdout",
     "output_type": "stream",
     "text": [
      "\n",
      "Processing completed.\n",
      "-------------------------------- \n",
      "\n",
      "2024-03-11 18:48:54 - INFO - Scraping Data from: https://www.eversports.nl/s/iron-forest-studio-1\n",
      "Pole Studio Data: 1 entries\n",
      "Starting URL reconstruction...\n"
     ]
    },
    {
     "name": "stderr",
     "output_type": "stream",
     "text": [
      "Processing URLs:  98%|█████████▊| 491/502 [22:53<00:40,  3.71s/it]"
     ]
    },
    {
     "name": "stdout",
     "output_type": "stream",
     "text": [
      "Error during HTTP request: 404 Client Error: Not Found for url: https://www.eversports.de/s/pole-%26-soul\n",
      "Converting to DataFrame...\n",
      "Validating URLs...\n",
      "\n",
      "Processing completed.\n",
      "-------------------------------- \n",
      "\n",
      "Starting URL reconstruction...\n"
     ]
    },
    {
     "name": "stderr",
     "output_type": "stream",
     "text": [
      "Processing URLs:  98%|█████████▊| 492/502 [22:54<00:27,  2.77s/it]"
     ]
    },
    {
     "name": "stdout",
     "output_type": "stream",
     "text": [
      "Error during HTTP request: 404 Client Error: Not Found for url: https://www.eversports.de/s/health-&-shape-m%C3%BCnchen\n",
      "Converting to DataFrame...\n",
      "Validating URLs...\n",
      "\n",
      "Processing completed.\n",
      "-------------------------------- \n",
      "\n",
      "Starting URL reconstruction...\n"
     ]
    },
    {
     "name": "stderr",
     "output_type": "stream",
     "text": [
      "Processing URLs:  98%|█████████▊| 493/502 [22:55<00:22,  2.45s/it]"
     ]
    },
    {
     "name": "stdout",
     "output_type": "stream",
     "text": [
      "Error during HTTP request: 404 Client Error: Not Found for url: https://www.eversports.de/s/pole-dance-hechingen\n",
      "Converting to DataFrame...\n",
      "Validating URLs...\n",
      "\n",
      "Processing completed.\n",
      "-------------------------------- \n",
      "\n",
      "Starting URL reconstruction...\n"
     ]
    },
    {
     "name": "stderr",
     "output_type": "stream",
     "text": [
      "Processing URLs:  98%|█████████▊| 494/502 [22:56<00:15,  1.89s/it]"
     ]
    },
    {
     "name": "stdout",
     "output_type": "stream",
     "text": [
      "Error during HTTP request: 404 Client Error: Not Found for url: https://www.eversports.de/s/polefitness-tituba-m%C3%B6nchengladbach!\n",
      "Converting to DataFrame...\n",
      "Validating URLs...\n",
      "\n",
      "Processing completed.\n",
      "-------------------------------- \n",
      "\n",
      "Starting URL reconstruction...\n"
     ]
    },
    {
     "name": "stderr",
     "output_type": "stream",
     "text": [
      "2024-03-11 18:48:59,392 - INFO - Processing URL 1/1: https://www.eversports.de/s/studio-skye\n"
     ]
    },
    {
     "name": "stdout",
     "output_type": "stream",
     "text": [
      "Converting to DataFrame...\n",
      "Validating URLs...\n"
     ]
    },
    {
     "name": "stderr",
     "output_type": "stream",
     "text": [
      "2024-03-11 18:49:00,674 - INFO - URL https://www.eversports.de/s/studio-skye is valid.\n"
     ]
    },
    {
     "name": "stdout",
     "output_type": "stream",
     "text": [
      "Scraping Pole Studio Data from https://www.eversports.de/s/studio-skye...\n"
     ]
    },
    {
     "name": "stderr",
     "output_type": "stream",
     "text": [
      "Processing URLs:  99%|█████████▊| 495/502 [22:59<00:16,  2.31s/it]"
     ]
    },
    {
     "name": "stdout",
     "output_type": "stream",
     "text": [
      "\n",
      "Processing completed.\n",
      "-------------------------------- \n",
      "\n",
      "2024-03-11 18:49:01 - INFO - Scraping Data from: https://www.eversports.nl/s/studio-skye\n",
      "Pole Studio Data: 1 entries\n",
      "Starting URL reconstruction...\n"
     ]
    },
    {
     "name": "stderr",
     "output_type": "stream",
     "text": [
      "2024-03-11 18:49:02,514 - INFO - Processing URL 1/2: https://www.eversports.de/s/pole-dance-factory-amsterdam-oost\n"
     ]
    },
    {
     "name": "stdout",
     "output_type": "stream",
     "text": [
      "Converting to DataFrame...\n",
      "Validating URLs...\n"
     ]
    },
    {
     "name": "stderr",
     "output_type": "stream",
     "text": [
      "2024-03-11 18:49:03,650 - INFO - URL https://www.eversports.de/s/pole-dance-factory-amsterdam-oost is valid.\n",
      "2024-03-11 18:49:03,651 - INFO - Processing URL 2/2: https://www.eversports.de/sw/pole-dance-factory-amsterdam-oost\n",
      "2024-03-11 18:49:04,300 - INFO - URL https://www.eversports.de/sw/pole-dance-factory-amsterdam-oost is not valid.\n"
     ]
    },
    {
     "name": "stdout",
     "output_type": "stream",
     "text": [
      "Scraping Pole Studio Data from https://www.eversports.de/s/pole-dance-factory-amsterdam-oost...\n"
     ]
    },
    {
     "name": "stderr",
     "output_type": "stream",
     "text": [
      "Processing URLs:  99%|█████████▉| 496/502 [23:04<00:17,  2.89s/it]"
     ]
    },
    {
     "name": "stdout",
     "output_type": "stream",
     "text": [
      "\n",
      "Processing completed.\n",
      "-------------------------------- \n",
      "\n",
      "2024-03-11 18:49:05 - INFO - Scraping Data from: https://www.eversports.de/s/pole-dance-factory-amsterdam-oost\n",
      "Pole Studio Data: 1 entries\n",
      "Starting URL reconstruction...\n"
     ]
    },
    {
     "name": "stderr",
     "output_type": "stream",
     "text": [
      "Processing URLs:  99%|█████████▉| 497/502 [23:04<00:11,  2.21s/it]"
     ]
    },
    {
     "name": "stdout",
     "output_type": "stream",
     "text": [
      "Error during HTTP request: 404 Client Error: Not Found for url: https://www.eversports.de/s/chromotion---aerial-dance-studio\n",
      "Converting to DataFrame...\n",
      "Validating URLs...\n",
      "\n",
      "Processing completed.\n",
      "-------------------------------- \n",
      "\n",
      "Starting URL reconstruction...\n"
     ]
    },
    {
     "name": "stderr",
     "output_type": "stream",
     "text": [
      "Processing URLs:  99%|█████████▉| 498/502 [23:05<00:07,  1.87s/it]"
     ]
    },
    {
     "name": "stdout",
     "output_type": "stream",
     "text": [
      "Error during HTTP request: 404 Client Error: Not Found for url: https://www.eversports.de/s/poleroom\n",
      "Converting to DataFrame...\n",
      "Validating URLs...\n",
      "\n",
      "Processing completed.\n",
      "-------------------------------- \n",
      "\n",
      "Starting URL reconstruction...\n"
     ]
    },
    {
     "name": "stderr",
     "output_type": "stream",
     "text": [
      "Processing URLs:  99%|█████████▉| 499/502 [23:06<00:04,  1.51s/it]"
     ]
    },
    {
     "name": "stdout",
     "output_type": "stream",
     "text": [
      "Error during HTTP request: 404 Client Error: Not Found for url: https://www.eversports.de/s/pole-circus-a-k\n",
      "Converting to DataFrame...\n",
      "Validating URLs...\n",
      "\n",
      "Processing completed.\n",
      "-------------------------------- \n",
      "\n",
      "Starting URL reconstruction...\n"
     ]
    },
    {
     "name": "stderr",
     "output_type": "stream",
     "text": [
      "2024-03-11 18:49:08,883 - INFO - Processing URL 1/1: https://www.eversports.de/s/poledance-area\n"
     ]
    },
    {
     "name": "stdout",
     "output_type": "stream",
     "text": [
      "Converting to DataFrame...\n",
      "Validating URLs...\n"
     ]
    },
    {
     "name": "stderr",
     "output_type": "stream",
     "text": [
      "2024-03-11 18:49:10,349 - INFO - URL https://www.eversports.de/s/poledance-area is valid.\n"
     ]
    },
    {
     "name": "stdout",
     "output_type": "stream",
     "text": [
      "Scraping Pole Studio Data from https://www.eversports.de/s/poledance-area...\n"
     ]
    },
    {
     "name": "stderr",
     "output_type": "stream",
     "text": [
      "Processing URLs: 100%|█████████▉| 500/502 [23:09<00:03,  1.90s/it]"
     ]
    },
    {
     "name": "stdout",
     "output_type": "stream",
     "text": [
      "\n",
      "Processing completed.\n",
      "-------------------------------- \n",
      "\n",
      "2024-03-11 18:49:10 - INFO - Scraping Data from: https://www.eversports.de/s/poledance-area\n",
      "Pole Studio Data: 1 entries\n",
      "Starting URL reconstruction...\n"
     ]
    },
    {
     "name": "stderr",
     "output_type": "stream",
     "text": [
      "2024-03-11 18:49:11,639 - INFO - Processing URL 1/2: https://www.eversports.de/s/pole-land\n"
     ]
    },
    {
     "name": "stdout",
     "output_type": "stream",
     "text": [
      "Converting to DataFrame...\n",
      "Validating URLs...\n"
     ]
    },
    {
     "name": "stderr",
     "output_type": "stream",
     "text": [
      "2024-03-11 18:49:12,504 - INFO - URL https://www.eversports.de/s/pole-land is valid.\n",
      "2024-03-11 18:49:12,506 - INFO - Processing URL 2/2: https://www.eversports.de/sw/pole-land\n",
      "2024-03-11 18:49:13,363 - INFO - URL https://www.eversports.de/sw/pole-land is valid.\n"
     ]
    },
    {
     "name": "stdout",
     "output_type": "stream",
     "text": [
      "Scraping Pole Studio Data from https://www.eversports.de/s/pole-land...\n",
      "Scraping Workshops Data from https://www.eversports.de/sw/pole-land...\n",
      "Scraping Workshop Details from https://www.eversports.de/e/workshop/ezegoNQ...\n",
      "Scraping Workshop Details from https://www.eversports.de/e/workshop/CJc9FIH...\n",
      "Scraping Workshop Details from https://www.eversports.de/e/workshop/WccIM2q...\n",
      "Scraping Workshop Details from https://www.eversports.de/e/workshop/OGUBUS8...\n",
      "Scraping Workshop Details from https://www.eversports.de/e/workshop/VVXdiD8...\n",
      "Scraping Workshop Details from https://www.eversports.de/e/workshop/SqEYfO3...\n"
     ]
    },
    {
     "name": "stderr",
     "output_type": "stream",
     "text": [
      "Processing URLs: 100%|█████████▉| 501/502 [23:20<00:04,  4.67s/it]"
     ]
    },
    {
     "name": "stdout",
     "output_type": "stream",
     "text": [
      "\n",
      "Processing completed.\n",
      "-------------------------------- \n",
      "\n",
      "2024-03-11 18:49:21 - INFO - Scraping Data from: https://www.eversports.de/s/pole-land\n",
      "Pole Studio Data: 1 entries\n",
      "2024-03-11 18:49:21 - INFO - Scraping Data from: https://www.eversports.de/s/pole-land\n",
      "Workshops Data: 6 entries\n",
      "2024-03-11 18:49:21 - INFO - Scraping Data from: https://www.eversports.de/s/pole-land\n",
      "Workshop Details: 6 entries\n",
      "Starting URL reconstruction...\n"
     ]
    },
    {
     "name": "stderr",
     "output_type": "stream",
     "text": [
      "Processing URLs: 100%|██████████| 502/502 [23:21<00:00,  2.79s/it]"
     ]
    },
    {
     "name": "stdout",
     "output_type": "stream",
     "text": [
      "Error during HTTP request: 404 Client Error: Not Found for url: https://www.eversports.de/s/pole-arts-saarland-\n",
      "Converting to DataFrame...\n",
      "Validating URLs...\n",
      "\n",
      "Processing completed.\n",
      "-------------------------------- \n",
      "\n"
     ]
    },
    {
     "name": "stderr",
     "output_type": "stream",
     "text": [
      "\n"
     ]
    }
   ],
   "source": [
    "import pandas as pd\n",
    "from a_PyCaller import process_urls\n",
    "from tqdm import tqdm\n",
    "from datetime import datetime\n",
    "\n",
    "def process_and_print_results(url, all_pole_studio_data, all_workshops_data, all_workshop_details_data, all_urls_data):\n",
    "    data = process_urls([url])\n",
    "\n",
    "    if data:\n",
    "        for key, df in data.items():\n",
    "            if df is not None and not df.empty:\n",
    "                tqdm.write(f\"{datetime.now().strftime('%Y-%m-%d %H:%M:%S')} - INFO - Scraping Data from: {url}\")\n",
    "                tqdm.write(f\"{key.replace('_', ' ').title()}: {len(df)} entries\")\n",
    "\n",
    "                # Update the appropriate DataFrame\n",
    "                if key == 'pole_studio_data':\n",
    "                    all_pole_studio_data = pd.concat([all_pole_studio_data, df], ignore_index=True)\n",
    "                elif key == 'workshops_data':\n",
    "                    all_workshops_data = pd.concat([all_workshops_data, df], ignore_index=True)\n",
    "                elif key == 'workshop_details':\n",
    "                    all_workshop_details_data = pd.concat([all_workshop_details_data, df], ignore_index=True)\n",
    "\n",
    "    # Add URLs to DataFrame\n",
    "    all_urls_data = pd.concat([all_urls_data, pd.DataFrame({'URL': [url]})], ignore_index=True)\n",
    "\n",
    "    return all_pole_studio_data, all_workshops_data, all_workshop_details_data, all_urls_data\n",
    "\n",
    "def main():\n",
    "    # # Load initial URLs\n",
    "    # all_found_urls_s = pd.read_csv(\"your_output_file.csv\")\n",
    "    # initial_urls = list(set(all_found_urls_s[\"0\"])) # Delete \"[:3]\" to scrape all Urls\n",
    "\n",
    "    # Initialize DataFrames\n",
    "    all_pole_studio_data = pd.DataFrame()\n",
    "    all_workshops_data = pd.DataFrame()\n",
    "    all_workshop_details_data = pd.DataFrame()\n",
    "    all_urls_data = pd.DataFrame(columns=['URL'])\n",
    "\n",
    "    # Process each URL with tqdm\n",
    "    with tqdm(initial_urls, desc=\"Processing URLs\", dynamic_ncols=True) as pbar:\n",
    "        for url in pbar:\n",
    "            all_pole_studio_data, all_workshops_data, all_workshop_details_data, all_urls_data = process_and_print_results(\n",
    "                url, all_pole_studio_data, all_workshops_data, all_workshop_details_data, all_urls_data\n",
    "            )\n",
    "\n",
    "    workshops = pd.merge(result_workshop_details, result_workshops, on=['Workshopname', 'URL_E'], how='inner')\n",
    "\n",
    "    # Export DataFrames to CSV files\n",
    "    all_pole_studio_data.to_csv(\"Pole_Studio_Übersicht_S.csv\", index=False)\n",
    "    all_workshops_data.to_csv(\"Workshop_Liste_SW.csv\", index=False)\n",
    "    all_workshop_details_data.to_csv(\"Workshop_Übersicht_E.csv\", index=False)\n",
    "    all_urls_data.to_csv(\"All_URLs.csv\", index=False)\n",
    "\n",
    "    # Return the final DataFrames\n",
    "    return all_pole_studio_data, workshops, all_workshops_data, all_workshop_details_data, all_urls_data\n",
    "\n",
    "# Run the main function and get the final DataFrames\n",
    "pole_studio, workshops, result_workshops, result_workshop_details, result_urls = main()\n"
   ]
  },
  {
   "cell_type": "code",
   "execution_count": 132,
   "metadata": {},
   "outputs": [
    {
     "data": {
      "text/html": [
       "<div>\n",
       "<style scoped>\n",
       "    .dataframe tbody tr th:only-of-type {\n",
       "        vertical-align: middle;\n",
       "    }\n",
       "\n",
       "    .dataframe tbody tr th {\n",
       "        vertical-align: top;\n",
       "    }\n",
       "\n",
       "    .dataframe thead th {\n",
       "        text-align: right;\n",
       "    }\n",
       "</style>\n",
       "<table border=\"1\" class=\"dataframe\">\n",
       "  <thead>\n",
       "    <tr style=\"text-align: right;\">\n",
       "      <th></th>\n",
       "      <th>PoleStudio_Name</th>\n",
       "      <th>Adresse</th>\n",
       "      <th>PLZ</th>\n",
       "      <th>Stadt</th>\n",
       "      <th>Straße</th>\n",
       "      <th>Buttons</th>\n",
       "      <th>Pole Studio Beschreibung</th>\n",
       "      <th>E-Mail</th>\n",
       "      <th>Homepage</th>\n",
       "      <th>Telefon</th>\n",
       "      <th>URL_S</th>\n",
       "      <th>Art</th>\n",
       "      <th>Angebot</th>\n",
       "      <th>Created Date</th>\n",
       "      <th>Updated Date</th>\n",
       "    </tr>\n",
       "  </thead>\n",
       "  <tbody>\n",
       "    <tr>\n",
       "      <th>0</th>\n",
       "      <td>Schönheitstanz Studio</td>\n",
       "      <td>[Charitestraße 4,  10117 Berlin]</td>\n",
       "      <td>10117</td>\n",
       "      <td>Berlin</td>\n",
       "      <td>Charitestraße 4</td>\n",
       "      <td>[Übersicht, Klassen, Workshops, Videos, Preise...</td>\n",
       "      <td>Das Schönheitstanzstudio bringt allen Teilnehm...</td>\n",
       "      <td>studio@schoenheitstanz.de</td>\n",
       "      <td>https://schoenheitstanz.de</td>\n",
       "      <td>+49 016099746437</td>\n",
       "      <td>https://www.eversports.de/s/schoenheitstanz-st...</td>\n",
       "      <td>[Fitness, Tanzen, Poledance, Fitness, Tanzen, ...</td>\n",
       "      <td>1 Angebot für Neukund:innen</td>\n",
       "      <td>2024-03-11 18:26:12</td>\n",
       "      <td>2024-03-11 18:26:12</td>\n",
       "    </tr>\n",
       "    <tr>\n",
       "      <th>1</th>\n",
       "      <td>POLEDANCE NRW</td>\n",
       "      <td>[Rethelstraße 28 Hof,  40237 Düsseldorf]</td>\n",
       "      <td>40237</td>\n",
       "      <td>Düsseldorf</td>\n",
       "      <td>Rethelstraße 28 Hof</td>\n",
       "      <td>[Übersicht, Videos, Preise]</td>\n",
       "      <td>Unser über 500 Quadratmeter großes Studio mit ...</td>\n",
       "      <td>office@poledance.nrw</td>\n",
       "      <td>https://www.poledance.nrw</td>\n",
       "      <td>+49 1721010400</td>\n",
       "      <td>https://www.eversports.de/s/poledance-nrw</td>\n",
       "      <td>[43 Rezensionen, Tanzen, Hip Hop, Poledance, A...</td>\n",
       "      <td>None</td>\n",
       "      <td>2024-03-11 18:27:08</td>\n",
       "      <td>2024-03-11 18:27:08</td>\n",
       "    </tr>\n",
       "    <tr>\n",
       "      <th>2</th>\n",
       "      <td>IMA Intentional Movement Academy</td>\n",
       "      <td>[Prenzlauer Promenade 189 ,  13189 Berlin]</td>\n",
       "      <td>13189</td>\n",
       "      <td>Berlin</td>\n",
       "      <td>Prenzlauer Promenade 189</td>\n",
       "      <td>[Übersicht, Klassen, Trainings, Events, Retrea...</td>\n",
       "      <td>Aktuell mieten wir Räume im First Floor Studio...</td>\n",
       "      <td>hello@ima-studio.de</td>\n",
       "      <td>https://ima-studio.de</td>\n",
       "      <td>+49 157 83440382</td>\n",
       "      <td>https://www.eversports.de/s/ima-intentional-mo...</td>\n",
       "      <td>[Akrobatik, Personal Training, Akrobatik, Stre...</td>\n",
       "      <td>4 Angebote für Neukund:innen</td>\n",
       "      <td>2024-03-11 18:27:10</td>\n",
       "      <td>2024-03-11 18:27:10</td>\n",
       "    </tr>\n",
       "    <tr>\n",
       "      <th>3</th>\n",
       "      <td>Dayuma - Pole &amp; Acrobatics</td>\n",
       "      <td>[Auf dem Wolf 18 ,  4052 Basel]</td>\n",
       "      <td>4052</td>\n",
       "      <td>Basel</td>\n",
       "      <td>Auf dem Wolf 18</td>\n",
       "      <td>[Übersicht, Klassen, Workshops, Preise, Team]</td>\n",
       "      <td>Das aufgestellte Frauenteam legt grossen Wert ...</td>\n",
       "      <td>info@studio-dayuma.ch</td>\n",
       "      <td>http://www.studio-dayuma.ch</td>\n",
       "      <td>+41 76 537 39 99</td>\n",
       "      <td>https://www.eversports.de/s/dayuma-pole-and-ac...</td>\n",
       "      <td>[Poledance, Akrobatik, Aerial Silk, Aerial Hoo...</td>\n",
       "      <td>Kostenlos Schnuppern</td>\n",
       "      <td>2024-03-11 18:27:28</td>\n",
       "      <td>2024-03-11 18:27:28</td>\n",
       "    </tr>\n",
       "    <tr>\n",
       "      <th>4</th>\n",
       "      <td>Polestation Academy</td>\n",
       "      <td>[Marktstraße 20b ,  6971 Hard]</td>\n",
       "      <td>6971</td>\n",
       "      <td>Hard</td>\n",
       "      <td>Marktstraße 20b</td>\n",
       "      <td>[Übersicht, Klassen, Videos, Preise, Team]</td>\n",
       "      <td>Polestation Academy ist ein Ort für Pole und A...</td>\n",
       "      <td>blum.n@gmx.at</td>\n",
       "      <td>http://www.polestation.com</td>\n",
       "      <td>+43 6642006568</td>\n",
       "      <td>https://www.eversports.de/s/polestation-academy</td>\n",
       "      <td>[Poledance, Poledance, Poledance, Poledance, P...</td>\n",
       "      <td>Zum Stundenplan</td>\n",
       "      <td>2024-03-11 18:27:39</td>\n",
       "      <td>2024-03-11 18:27:39</td>\n",
       "    </tr>\n",
       "    <tr>\n",
       "      <th>...</th>\n",
       "      <td>...</td>\n",
       "      <td>...</td>\n",
       "      <td>...</td>\n",
       "      <td>...</td>\n",
       "      <td>...</td>\n",
       "      <td>...</td>\n",
       "      <td>...</td>\n",
       "      <td>...</td>\n",
       "      <td>...</td>\n",
       "      <td>...</td>\n",
       "      <td>...</td>\n",
       "      <td>...</td>\n",
       "      <td>...</td>\n",
       "      <td>...</td>\n",
       "      <td>...</td>\n",
       "    </tr>\n",
       "    <tr>\n",
       "      <th>221</th>\n",
       "      <td>Iron Forest Studio</td>\n",
       "      <td>[Noordse Bosje 15 ,  1211 BD Hilversum]</td>\n",
       "      <td>1211</td>\n",
       "      <td>BD</td>\n",
       "      <td>Noordse Bosje 15</td>\n",
       "      <td>[Übersicht, Klassen, Trainings, Kurse, Preise,...</td>\n",
       "      <td>Iron Forest Studio offers various classes in c...</td>\n",
       "      <td>info@ironforest.store</td>\n",
       "      <td>https://www.ironforest.store/</td>\n",
       "      <td>+31 682046727</td>\n",
       "      <td>https://www.eversports.de/s/iron-forest-studio-1</td>\n",
       "      <td>[Chairdance, Twerken, Poledance, Tanzen, Chair...</td>\n",
       "      <td>2 Angebote für Neukund:innen</td>\n",
       "      <td>2024-03-11 18:48:54</td>\n",
       "      <td>2024-03-11 18:48:54</td>\n",
       "    </tr>\n",
       "    <tr>\n",
       "      <th>222</th>\n",
       "      <td>Studio Skye</td>\n",
       "      <td>[Hurksestraat 19,  5652 AH Eindhoven]</td>\n",
       "      <td>5652</td>\n",
       "      <td>AH</td>\n",
       "      <td>Hurksestraat 19</td>\n",
       "      <td>[Übersicht, Klassen, Kurse, Preise, Team]</td>\n",
       "      <td>Studio Skye is dé sportschool voor luchtacroba...</td>\n",
       "      <td>info@studioskye.nl</td>\n",
       "      <td>http://www.studioskye.nl</td>\n",
       "      <td>None</td>\n",
       "      <td>https://www.eversports.de/s/studio-skye</td>\n",
       "      <td>[Aerial Silk, Poledance, Aerial Silk, 18 Rezen...</td>\n",
       "      <td>Zum Stundenplan</td>\n",
       "      <td>2024-03-11 18:49:01</td>\n",
       "      <td>2024-03-11 18:49:01</td>\n",
       "    </tr>\n",
       "    <tr>\n",
       "      <th>223</th>\n",
       "      <td>Pole Dance Factory Amsterdam Oost</td>\n",
       "      <td>[H.J.E. Wenckebachweg,  1096 AN Amsterdam]</td>\n",
       "      <td>1096</td>\n",
       "      <td>AN</td>\n",
       "      <td>H.J.E. Wenckebachweg</td>\n",
       "      <td>[Übersicht, Klassen, Workshops, Preise, Team]</td>\n",
       "      <td>The biggest pole dance studio of Amsterdam for...</td>\n",
       "      <td>info@pdfamsterdam.com</td>\n",
       "      <td>https://pdfamsterdam.com/en/</td>\n",
       "      <td>+31202101884</td>\n",
       "      <td>https://www.eversports.de/s/pole-dance-factory...</td>\n",
       "      <td>[Poledance, Stretching, Poledance, Stretching,...</td>\n",
       "      <td>1 Angebot für Neukund:innen</td>\n",
       "      <td>2024-03-11 18:49:05</td>\n",
       "      <td>2024-03-11 18:49:05</td>\n",
       "    </tr>\n",
       "    <tr>\n",
       "      <th>224</th>\n",
       "      <td>Poledance-Area</td>\n",
       "      <td>[Mandtstraße 2 ,  42853 Remscheid]</td>\n",
       "      <td>42853</td>\n",
       "      <td>Remscheid</td>\n",
       "      <td>Mandtstraße 2</td>\n",
       "      <td>[Übersicht]</td>\n",
       "      <td>Diese Sportanlage bietet eine Vielzahl an Spor...</td>\n",
       "      <td>info@poledance-area.de</td>\n",
       "      <td>http://www.poledance-area.de</td>\n",
       "      <td>+49 01623675667</td>\n",
       "      <td>https://www.eversports.de/s/poledance-area</td>\n",
       "      <td>[1 Rezensionen, Chairdance, Floorwork, Lapdanc...</td>\n",
       "      <td>None</td>\n",
       "      <td>2024-03-11 18:49:10</td>\n",
       "      <td>2024-03-11 18:49:10</td>\n",
       "    </tr>\n",
       "    <tr>\n",
       "      <th>225</th>\n",
       "      <td>Pole Land</td>\n",
       "      <td>[Kölner Straße 336A ,  40227 Düsseldorf]</td>\n",
       "      <td>40227</td>\n",
       "      <td>Düsseldorf</td>\n",
       "      <td>Kölner Straße 336A</td>\n",
       "      <td>[Übersicht, Klassen, Workshops, Preise, Team]</td>\n",
       "      <td>Pole Dance ist eine Sportart, die sinnlichen T...</td>\n",
       "      <td>info@poleland.de</td>\n",
       "      <td>https://www.poleland.de</td>\n",
       "      <td>+49 15737270967</td>\n",
       "      <td>https://www.eversports.de/s/pole-land</td>\n",
       "      <td>[Poledance, Akrobatik, Poledance, Aerial Yoga,...</td>\n",
       "      <td>Zum Stundenplan</td>\n",
       "      <td>2024-03-11 18:49:13</td>\n",
       "      <td>2024-03-11 18:49:13</td>\n",
       "    </tr>\n",
       "  </tbody>\n",
       "</table>\n",
       "<p>226 rows × 15 columns</p>\n",
       "</div>"
      ],
      "text/plain": [
       "                       PoleStudio_Name  \\\n",
       "0                Schönheitstanz Studio   \n",
       "1                        POLEDANCE NRW   \n",
       "2     IMA Intentional Movement Academy   \n",
       "3           Dayuma - Pole & Acrobatics   \n",
       "4                  Polestation Academy   \n",
       "..                                 ...   \n",
       "221                 Iron Forest Studio   \n",
       "222                        Studio Skye   \n",
       "223  Pole Dance Factory Amsterdam Oost   \n",
       "224                     Poledance-Area   \n",
       "225                          Pole Land   \n",
       "\n",
       "                                        Adresse    PLZ       Stadt  \\\n",
       "0              [Charitestraße 4,  10117 Berlin]  10117      Berlin   \n",
       "1      [Rethelstraße 28 Hof,  40237 Düsseldorf]  40237  Düsseldorf   \n",
       "2    [Prenzlauer Promenade 189 ,  13189 Berlin]  13189      Berlin   \n",
       "3               [Auf dem Wolf 18 ,  4052 Basel]   4052       Basel   \n",
       "4                [Marktstraße 20b ,  6971 Hard]   6971        Hard   \n",
       "..                                          ...    ...         ...   \n",
       "221     [Noordse Bosje 15 ,  1211 BD Hilversum]   1211          BD   \n",
       "222       [Hurksestraat 19,  5652 AH Eindhoven]   5652          AH   \n",
       "223  [H.J.E. Wenckebachweg,  1096 AN Amsterdam]   1096          AN   \n",
       "224          [Mandtstraße 2 ,  42853 Remscheid]  42853   Remscheid   \n",
       "225    [Kölner Straße 336A ,  40227 Düsseldorf]  40227  Düsseldorf   \n",
       "\n",
       "                       Straße  \\\n",
       "0             Charitestraße 4   \n",
       "1         Rethelstraße 28 Hof   \n",
       "2    Prenzlauer Promenade 189   \n",
       "3             Auf dem Wolf 18   \n",
       "4             Marktstraße 20b   \n",
       "..                        ...   \n",
       "221          Noordse Bosje 15   \n",
       "222           Hurksestraat 19   \n",
       "223      H.J.E. Wenckebachweg   \n",
       "224             Mandtstraße 2   \n",
       "225        Kölner Straße 336A   \n",
       "\n",
       "                                               Buttons  \\\n",
       "0    [Übersicht, Klassen, Workshops, Videos, Preise...   \n",
       "1                          [Übersicht, Videos, Preise]   \n",
       "2    [Übersicht, Klassen, Trainings, Events, Retrea...   \n",
       "3        [Übersicht, Klassen, Workshops, Preise, Team]   \n",
       "4           [Übersicht, Klassen, Videos, Preise, Team]   \n",
       "..                                                 ...   \n",
       "221  [Übersicht, Klassen, Trainings, Kurse, Preise,...   \n",
       "222          [Übersicht, Klassen, Kurse, Preise, Team]   \n",
       "223      [Übersicht, Klassen, Workshops, Preise, Team]   \n",
       "224                                        [Übersicht]   \n",
       "225      [Übersicht, Klassen, Workshops, Preise, Team]   \n",
       "\n",
       "                              Pole Studio Beschreibung  \\\n",
       "0    Das Schönheitstanzstudio bringt allen Teilnehm...   \n",
       "1    Unser über 500 Quadratmeter großes Studio mit ...   \n",
       "2    Aktuell mieten wir Räume im First Floor Studio...   \n",
       "3    Das aufgestellte Frauenteam legt grossen Wert ...   \n",
       "4    Polestation Academy ist ein Ort für Pole und A...   \n",
       "..                                                 ...   \n",
       "221  Iron Forest Studio offers various classes in c...   \n",
       "222  Studio Skye is dé sportschool voor luchtacroba...   \n",
       "223  The biggest pole dance studio of Amsterdam for...   \n",
       "224  Diese Sportanlage bietet eine Vielzahl an Spor...   \n",
       "225  Pole Dance ist eine Sportart, die sinnlichen T...   \n",
       "\n",
       "                         E-Mail                       Homepage  \\\n",
       "0     studio@schoenheitstanz.de     https://schoenheitstanz.de   \n",
       "1          office@poledance.nrw      https://www.poledance.nrw   \n",
       "2           hello@ima-studio.de          https://ima-studio.de   \n",
       "3         info@studio-dayuma.ch    http://www.studio-dayuma.ch   \n",
       "4                 blum.n@gmx.at     http://www.polestation.com   \n",
       "..                          ...                            ...   \n",
       "221       info@ironforest.store  https://www.ironforest.store/   \n",
       "222          info@studioskye.nl       http://www.studioskye.nl   \n",
       "223       info@pdfamsterdam.com   https://pdfamsterdam.com/en/   \n",
       "224      info@poledance-area.de   http://www.poledance-area.de   \n",
       "225            info@poleland.de        https://www.poleland.de   \n",
       "\n",
       "              Telefon                                              URL_S  \\\n",
       "0    +49 016099746437  https://www.eversports.de/s/schoenheitstanz-st...   \n",
       "1      +49 1721010400          https://www.eversports.de/s/poledance-nrw   \n",
       "2    +49 157 83440382  https://www.eversports.de/s/ima-intentional-mo...   \n",
       "3    +41 76 537 39 99  https://www.eversports.de/s/dayuma-pole-and-ac...   \n",
       "4      +43 6642006568    https://www.eversports.de/s/polestation-academy   \n",
       "..                ...                                                ...   \n",
       "221     +31 682046727   https://www.eversports.de/s/iron-forest-studio-1   \n",
       "222              None            https://www.eversports.de/s/studio-skye   \n",
       "223      +31202101884  https://www.eversports.de/s/pole-dance-factory...   \n",
       "224   +49 01623675667         https://www.eversports.de/s/poledance-area   \n",
       "225   +49 15737270967              https://www.eversports.de/s/pole-land   \n",
       "\n",
       "                                                   Art  \\\n",
       "0    [Fitness, Tanzen, Poledance, Fitness, Tanzen, ...   \n",
       "1    [43 Rezensionen, Tanzen, Hip Hop, Poledance, A...   \n",
       "2    [Akrobatik, Personal Training, Akrobatik, Stre...   \n",
       "3    [Poledance, Akrobatik, Aerial Silk, Aerial Hoo...   \n",
       "4    [Poledance, Poledance, Poledance, Poledance, P...   \n",
       "..                                                 ...   \n",
       "221  [Chairdance, Twerken, Poledance, Tanzen, Chair...   \n",
       "222  [Aerial Silk, Poledance, Aerial Silk, 18 Rezen...   \n",
       "223  [Poledance, Stretching, Poledance, Stretching,...   \n",
       "224  [1 Rezensionen, Chairdance, Floorwork, Lapdanc...   \n",
       "225  [Poledance, Akrobatik, Poledance, Aerial Yoga,...   \n",
       "\n",
       "                          Angebot         Created Date         Updated Date  \n",
       "0     1 Angebot für Neukund:innen  2024-03-11 18:26:12  2024-03-11 18:26:12  \n",
       "1                            None  2024-03-11 18:27:08  2024-03-11 18:27:08  \n",
       "2    4 Angebote für Neukund:innen  2024-03-11 18:27:10  2024-03-11 18:27:10  \n",
       "3            Kostenlos Schnuppern  2024-03-11 18:27:28  2024-03-11 18:27:28  \n",
       "4                 Zum Stundenplan  2024-03-11 18:27:39  2024-03-11 18:27:39  \n",
       "..                            ...                  ...                  ...  \n",
       "221  2 Angebote für Neukund:innen  2024-03-11 18:48:54  2024-03-11 18:48:54  \n",
       "222               Zum Stundenplan  2024-03-11 18:49:01  2024-03-11 18:49:01  \n",
       "223   1 Angebot für Neukund:innen  2024-03-11 18:49:05  2024-03-11 18:49:05  \n",
       "224                          None  2024-03-11 18:49:10  2024-03-11 18:49:10  \n",
       "225               Zum Stundenplan  2024-03-11 18:49:13  2024-03-11 18:49:13  \n",
       "\n",
       "[226 rows x 15 columns]"
      ]
     },
     "execution_count": 132,
     "metadata": {},
     "output_type": "execute_result"
    }
   ],
   "source": [
    "pole_studio"
   ]
  },
  {
   "cell_type": "code",
   "execution_count": 133,
   "metadata": {},
   "outputs": [
    {
     "data": {
      "text/html": [
       "<div>\n",
       "<style scoped>\n",
       "    .dataframe tbody tr th:only-of-type {\n",
       "        vertical-align: middle;\n",
       "    }\n",
       "\n",
       "    .dataframe tbody tr th {\n",
       "        vertical-align: top;\n",
       "    }\n",
       "\n",
       "    .dataframe thead th {\n",
       "        text-align: right;\n",
       "    }\n",
       "</style>\n",
       "<table border=\"1\" class=\"dataframe\">\n",
       "  <thead>\n",
       "    <tr style=\"text-align: right;\">\n",
       "      <th></th>\n",
       "      <th>Workshopname</th>\n",
       "      <th>Kategorie</th>\n",
       "      <th>Datum</th>\n",
       "      <th>Land</th>\n",
       "      <th>Location</th>\n",
       "      <th>Studio Name</th>\n",
       "      <th>URL_E</th>\n",
       "      <th>Art</th>\n",
       "      <th>Level</th>\n",
       "      <th>Beschreibung</th>\n",
       "      <th>Trainer</th>\n",
       "      <th>Uhrzeit</th>\n",
       "      <th>Preis</th>\n",
       "      <th>Einheiten</th>\n",
       "      <th>Pole Studio</th>\n",
       "    </tr>\n",
       "  </thead>\n",
       "  <tbody>\n",
       "    <tr>\n",
       "      <th>0</th>\n",
       "      <td>Sexy Floorwork Workshop</td>\n",
       "      <td>Floorwork</td>\n",
       "      <td>Sonntag, 17. März 2024</td>\n",
       "      <td></td>\n",
       "      <td>10-12 Martinstraße Innenhof, 52062 Aachen</td>\n",
       "      <td>poda Studio</td>\n",
       "      <td>https://www.eversports.de/e/workshop/9PbaXsNu8</td>\n",
       "      <td>Workshop</td>\n",
       "      <td></td>\n",
       "      <td>Mach den Boden zu deinem Freund und erlerne kr...</td>\n",
       "      <td></td>\n",
       "      <td>20:00 - 21:30</td>\n",
       "      <td>ab 35,00 €</td>\n",
       "      <td>1 Einheit</td>\n",
       "      <td>poda Studio</td>\n",
       "    </tr>\n",
       "    <tr>\n",
       "      <th>1</th>\n",
       "      <td>Hip Hop Pole Choreo Workshop</td>\n",
       "      <td>Poledance</td>\n",
       "      <td>Sonntag, 24. März 2024</td>\n",
       "      <td></td>\n",
       "      <td>10-12 Martinstraße Innenhof, 52062 Aachen</td>\n",
       "      <td>poda Studio</td>\n",
       "      <td>https://www.eversports.de/e/workshop/2f93D4_</td>\n",
       "      <td>Workshop</td>\n",
       "      <td></td>\n",
       "      <td>In diesem Workshop werden Hip Hop Dance Moves ...</td>\n",
       "      <td></td>\n",
       "      <td>20:00 - 21:30</td>\n",
       "      <td>ab 35,00 €</td>\n",
       "      <td>1 Einheit</td>\n",
       "      <td>poda Studio</td>\n",
       "    </tr>\n",
       "    <tr>\n",
       "      <th>2</th>\n",
       "      <td>High Heels Pole  - Beginner Workshop</td>\n",
       "      <td>Poledance</td>\n",
       "      <td>Sonntag, 7. April 2024</td>\n",
       "      <td></td>\n",
       "      <td>10-12 Martinstraße Innenhof, 52062 Aachen</td>\n",
       "      <td>poda Studio</td>\n",
       "      <td>https://www.eversports.de/e/workshop/PvCEvqtn_</td>\n",
       "      <td>Workshop</td>\n",
       "      <td></td>\n",
       "      <td>High Heels begeistern dich und du möchtest dic...</td>\n",
       "      <td></td>\n",
       "      <td>20:00 - 21:30</td>\n",
       "      <td>ab 35,00 €</td>\n",
       "      <td>1 Einheit</td>\n",
       "      <td>poda Studio</td>\n",
       "    </tr>\n",
       "    <tr>\n",
       "      <th>3</th>\n",
       "      <td>Aerial Yoga Workshop</td>\n",
       "      <td>Yoga</td>\n",
       "      <td>Sonntag, 26. Mai 2024</td>\n",
       "      <td></td>\n",
       "      <td>10-12 Martinstraße Innenhof, 52062 Aachen</td>\n",
       "      <td>poda Studio</td>\n",
       "      <td>https://www.eversports.de/e/workshop/MkpHwj8</td>\n",
       "      <td>Workshop</td>\n",
       "      <td></td>\n",
       "      <td>Schon mal Yoga in der Luft probiert? Aerial Yo...</td>\n",
       "      <td></td>\n",
       "      <td>20:00 - 21:30</td>\n",
       "      <td>ab 35,00 €</td>\n",
       "      <td>1 Einheit</td>\n",
       "      <td>poda Studio</td>\n",
       "    </tr>\n",
       "  </tbody>\n",
       "</table>\n",
       "</div>"
      ],
      "text/plain": [
       "                           Workshopname  Kategorie                   Datum  \\\n",
       "0               Sexy Floorwork Workshop  Floorwork  Sonntag, 17. März 2024   \n",
       "1          Hip Hop Pole Choreo Workshop  Poledance  Sonntag, 24. März 2024   \n",
       "2  High Heels Pole  - Beginner Workshop  Poledance  Sonntag, 7. April 2024   \n",
       "3                  Aerial Yoga Workshop       Yoga   Sonntag, 26. Mai 2024   \n",
       "\n",
       "  Land                                   Location  Studio Name  \\\n",
       "0       10-12 Martinstraße Innenhof, 52062 Aachen  poda Studio   \n",
       "1       10-12 Martinstraße Innenhof, 52062 Aachen  poda Studio   \n",
       "2       10-12 Martinstraße Innenhof, 52062 Aachen  poda Studio   \n",
       "3       10-12 Martinstraße Innenhof, 52062 Aachen  poda Studio   \n",
       "\n",
       "                                            URL_E       Art Level  \\\n",
       "0  https://www.eversports.de/e/workshop/9PbaXsNu8  Workshop         \n",
       "1    https://www.eversports.de/e/workshop/2f93D4_  Workshop         \n",
       "2  https://www.eversports.de/e/workshop/PvCEvqtn_  Workshop         \n",
       "3    https://www.eversports.de/e/workshop/MkpHwj8  Workshop         \n",
       "\n",
       "                                        Beschreibung Trainer        Uhrzeit  \\\n",
       "0  Mach den Boden zu deinem Freund und erlerne kr...          20:00 - 21:30   \n",
       "1  In diesem Workshop werden Hip Hop Dance Moves ...          20:00 - 21:30   \n",
       "2  High Heels begeistern dich und du möchtest dic...          20:00 - 21:30   \n",
       "3  Schon mal Yoga in der Luft probiert? Aerial Yo...          20:00 - 21:30   \n",
       "\n",
       "        Preis  Einheiten  Pole Studio  \n",
       "0  ab 35,00 €  1 Einheit  poda Studio  \n",
       "1  ab 35,00 €  1 Einheit  poda Studio  \n",
       "2  ab 35,00 €  1 Einheit  poda Studio  \n",
       "3  ab 35,00 €  1 Einheit  poda Studio  "
      ]
     },
     "execution_count": 133,
     "metadata": {},
     "output_type": "execute_result"
    }
   ],
   "source": [
    "workshops"
   ]
  },
  {
   "cell_type": "code",
   "execution_count": 135,
   "metadata": {},
   "outputs": [
    {
     "data": {
      "text/html": [
       "<div>\n",
       "<style scoped>\n",
       "    .dataframe tbody tr th:only-of-type {\n",
       "        vertical-align: middle;\n",
       "    }\n",
       "\n",
       "    .dataframe tbody tr th {\n",
       "        vertical-align: top;\n",
       "    }\n",
       "\n",
       "    .dataframe thead th {\n",
       "        text-align: right;\n",
       "    }\n",
       "</style>\n",
       "<table border=\"1\" class=\"dataframe\">\n",
       "  <thead>\n",
       "    <tr style=\"text-align: right;\">\n",
       "      <th></th>\n",
       "      <th>Workshopname</th>\n",
       "      <th>Kategorie</th>\n",
       "      <th>Datum</th>\n",
       "      <th>Land</th>\n",
       "      <th>Location</th>\n",
       "      <th>Studio Name</th>\n",
       "      <th>URL_E</th>\n",
       "      <th>Art</th>\n",
       "      <th>Level</th>\n",
       "      <th>Beschreibung</th>\n",
       "      <th>Trainer</th>\n",
       "      <th>Uhrzeit</th>\n",
       "    </tr>\n",
       "  </thead>\n",
       "  <tbody>\n",
       "    <tr>\n",
       "      <th>0</th>\n",
       "      <td>Strip `n Tease Workshop</td>\n",
       "      <td>Lapdance</td>\n",
       "      <td>Samstag, 16. März 2024</td>\n",
       "      <td></td>\n",
       "      <td>Charitestraße 4, 10117 Berlin</td>\n",
       "      <td>Schönheitstanz Studio</td>\n",
       "      <td>https://www.eversports.de/e/workshop/ypg0oSy</td>\n",
       "      <td>Workshop</td>\n",
       "      <td></td>\n",
       "      <td>Ohne tatsächlich die Hüllen fallen zu lassen, ...</td>\n",
       "      <td></td>\n",
       "      <td>12:30 - 13:30</td>\n",
       "    </tr>\n",
       "    <tr>\n",
       "      <th>1</th>\n",
       "      <td>Exotic Dance mit Becky*</td>\n",
       "      <td>Tanzen</td>\n",
       "      <td>Samstag, 16. März 2024</td>\n",
       "      <td></td>\n",
       "      <td>Charitestraße 4, 10117 Berlin</td>\n",
       "      <td>Schönheitstanz Studio</td>\n",
       "      <td>https://www.eversports.de/e/workshop/EDBeHyX</td>\n",
       "      <td>Workshop</td>\n",
       "      <td></td>\n",
       "      <td>Exotic Dance mit Becky Der perfekte Kurs für a...</td>\n",
       "      <td></td>\n",
       "      <td>13:45 - 15:45</td>\n",
       "    </tr>\n",
       "    <tr>\n",
       "      <th>2</th>\n",
       "      <td>Exotic Dance mit Becky* ONLINE</td>\n",
       "      <td>Tanzen</td>\n",
       "      <td>Samstag, 16. März 2024</td>\n",
       "      <td></td>\n",
       "      <td>Online</td>\n",
       "      <td>Schönheitstanz Studio</td>\n",
       "      <td>https://www.eversports.de/e/workshop/54itEaz</td>\n",
       "      <td>Workshop</td>\n",
       "      <td></td>\n",
       "      <td>Exotic Dance mit Becky Der perfekte Kurs für a...</td>\n",
       "      <td></td>\n",
       "      <td>13:45 - 15:45</td>\n",
       "    </tr>\n",
       "    <tr>\n",
       "      <th>3</th>\n",
       "      <td>Bedroom Burlesque mit Lady Lou THEMA: 1920s Mo...</td>\n",
       "      <td>Burlesque</td>\n",
       "      <td>Samstag, 16. März 2024</td>\n",
       "      <td></td>\n",
       "      <td>Charitestraße 4, 10117 Berlin</td>\n",
       "      <td>Schönheitstanz Studio</td>\n",
       "      <td>https://www.eversports.de/e/workshop/rvq2QWJ</td>\n",
       "      <td>Workshop</td>\n",
       "      <td></td>\n",
       "      <td>Classic Burlesque Striptease: 1920s Moon Godde...</td>\n",
       "      <td></td>\n",
       "      <td>17:30 - 19:30</td>\n",
       "    </tr>\n",
       "    <tr>\n",
       "      <th>4</th>\n",
       "      <td>Bedroom Burlesque mit Lady Lou THEMA: 1920s Mo...</td>\n",
       "      <td>Burlesque</td>\n",
       "      <td>Samstag, 16. März 2024</td>\n",
       "      <td></td>\n",
       "      <td>Online</td>\n",
       "      <td>Schönheitstanz Studio</td>\n",
       "      <td>https://www.eversports.de/e/workshop/z4rC1sa</td>\n",
       "      <td>Workshop</td>\n",
       "      <td></td>\n",
       "      <td>Classic Burlesque Striptease: 1920s Moon Godde...</td>\n",
       "      <td></td>\n",
       "      <td>17:30 - 19:30</td>\n",
       "    </tr>\n",
       "    <tr>\n",
       "      <th>...</th>\n",
       "      <td>...</td>\n",
       "      <td>...</td>\n",
       "      <td>...</td>\n",
       "      <td>...</td>\n",
       "      <td>...</td>\n",
       "      <td>...</td>\n",
       "      <td>...</td>\n",
       "      <td>...</td>\n",
       "      <td>...</td>\n",
       "      <td>...</td>\n",
       "      <td>...</td>\n",
       "      <td>...</td>\n",
       "    </tr>\n",
       "    <tr>\n",
       "      <th>222</th>\n",
       "      <td>Intro to Hammock</td>\n",
       "      <td>Aerial Hoop</td>\n",
       "      <td>Sonntag, 24. März 2024</td>\n",
       "      <td></td>\n",
       "      <td>Ticket für So. 24.03.2024, 14:00 - 15:30</td>\n",
       "      <td>Pole Land</td>\n",
       "      <td>https://www.eversports.de/e/workshop/CJc9FIH</td>\n",
       "      <td>Workshop</td>\n",
       "      <td></td>\n",
       "      <td>Habt ihr Interesse am Aerial Hammock neue Begi...</td>\n",
       "      <td></td>\n",
       "      <td>14:00 - 15:30</td>\n",
       "    </tr>\n",
       "    <tr>\n",
       "      <th>223</th>\n",
       "      <td>Aerial Hoop</td>\n",
       "      <td>Aerial Hoop</td>\n",
       "      <td>Sonntag, 31. März 2024</td>\n",
       "      <td></td>\n",
       "      <td>Kölner Straße 336a, 40227 Düsseldorf</td>\n",
       "      <td>Pole Land</td>\n",
       "      <td>https://www.eversports.de/e/workshop/WccIM2q</td>\n",
       "      <td>Workshop</td>\n",
       "      <td></td>\n",
       "      <td>Habt ihr Interesse am akrobatischen Luftring? ...</td>\n",
       "      <td></td>\n",
       "      <td>12:00 - 13:30</td>\n",
       "    </tr>\n",
       "    <tr>\n",
       "      <th>224</th>\n",
       "      <td>Favourit Pole Combos and Splitz</td>\n",
       "      <td>Poledance</td>\n",
       "      <td>Beginnt am Samstag, 20. April 2024</td>\n",
       "      <td></td>\n",
       "      <td>Splitz 14:30 - 16:00</td>\n",
       "      <td>Pole Land</td>\n",
       "      <td>https://www.eversports.de/e/workshop/OGUBUS8</td>\n",
       "      <td>Workshop</td>\n",
       "      <td></td>\n",
       "      <td>Dan's favourit combos This class will cover Da...</td>\n",
       "      <td></td>\n",
       "      <td>Kölner Straße 336a, 40227 Düsseldorf</td>\n",
       "    </tr>\n",
       "    <tr>\n",
       "      <th>225</th>\n",
       "      <td>Pole Choreo</td>\n",
       "      <td>Poledance</td>\n",
       "      <td>Sonntag, 21. April 2024</td>\n",
       "      <td></td>\n",
       "      <td>Kölner Straße 336a, 40227 Düsseldorf</td>\n",
       "      <td>Pole Land</td>\n",
       "      <td>https://www.eversports.de/e/workshop/VVXdiD8</td>\n",
       "      <td>Workshop</td>\n",
       "      <td></td>\n",
       "      <td>In diesem Workshop lernen wir innerhalb von 2 ...</td>\n",
       "      <td></td>\n",
       "      <td>14:30 - 16:00</td>\n",
       "    </tr>\n",
       "    <tr>\n",
       "      <th>226</th>\n",
       "      <td>Spinning an der Static</td>\n",
       "      <td>Polesport</td>\n",
       "      <td>Sonntag, 28. April 2024</td>\n",
       "      <td></td>\n",
       "      <td>Kölner Straße 336a, 40227 Düsseldorf</td>\n",
       "      <td>Pole Land</td>\n",
       "      <td>https://www.eversports.de/e/workshop/SqEYfO3</td>\n",
       "      <td>Workshop</td>\n",
       "      <td></td>\n",
       "      <td>Static goes spinning! In diesem Workshop erler...</td>\n",
       "      <td></td>\n",
       "      <td>12:00 - 13:30</td>\n",
       "    </tr>\n",
       "  </tbody>\n",
       "</table>\n",
       "<p>227 rows × 12 columns</p>\n",
       "</div>"
      ],
      "text/plain": [
       "                                          Workshopname    Kategorie  \\\n",
       "0                              Strip `n Tease Workshop     Lapdance   \n",
       "1                              Exotic Dance mit Becky*       Tanzen   \n",
       "2                       Exotic Dance mit Becky* ONLINE       Tanzen   \n",
       "3    Bedroom Burlesque mit Lady Lou THEMA: 1920s Mo...    Burlesque   \n",
       "4    Bedroom Burlesque mit Lady Lou THEMA: 1920s Mo...    Burlesque   \n",
       "..                                                 ...          ...   \n",
       "222                                   Intro to Hammock  Aerial Hoop   \n",
       "223                                        Aerial Hoop  Aerial Hoop   \n",
       "224                    Favourit Pole Combos and Splitz    Poledance   \n",
       "225                                        Pole Choreo    Poledance   \n",
       "226                             Spinning an der Static    Polesport   \n",
       "\n",
       "                                  Datum Land  \\\n",
       "0                Samstag, 16. März 2024        \n",
       "1                Samstag, 16. März 2024        \n",
       "2                Samstag, 16. März 2024        \n",
       "3                Samstag, 16. März 2024        \n",
       "4                Samstag, 16. März 2024        \n",
       "..                                  ...  ...   \n",
       "222              Sonntag, 24. März 2024        \n",
       "223              Sonntag, 31. März 2024        \n",
       "224  Beginnt am Samstag, 20. April 2024        \n",
       "225             Sonntag, 21. April 2024        \n",
       "226             Sonntag, 28. April 2024        \n",
       "\n",
       "                                     Location            Studio Name  \\\n",
       "0               Charitestraße 4, 10117 Berlin  Schönheitstanz Studio   \n",
       "1               Charitestraße 4, 10117 Berlin  Schönheitstanz Studio   \n",
       "2                                      Online  Schönheitstanz Studio   \n",
       "3               Charitestraße 4, 10117 Berlin  Schönheitstanz Studio   \n",
       "4                                      Online  Schönheitstanz Studio   \n",
       "..                                        ...                    ...   \n",
       "222  Ticket für So. 24.03.2024, 14:00 - 15:30              Pole Land   \n",
       "223      Kölner Straße 336a, 40227 Düsseldorf              Pole Land   \n",
       "224                      Splitz 14:30 - 16:00              Pole Land   \n",
       "225      Kölner Straße 336a, 40227 Düsseldorf              Pole Land   \n",
       "226      Kölner Straße 336a, 40227 Düsseldorf              Pole Land   \n",
       "\n",
       "                                            URL_E       Art Level  \\\n",
       "0    https://www.eversports.de/e/workshop/ypg0oSy  Workshop         \n",
       "1    https://www.eversports.de/e/workshop/EDBeHyX  Workshop         \n",
       "2    https://www.eversports.de/e/workshop/54itEaz  Workshop         \n",
       "3    https://www.eversports.de/e/workshop/rvq2QWJ  Workshop         \n",
       "4    https://www.eversports.de/e/workshop/z4rC1sa  Workshop         \n",
       "..                                            ...       ...   ...   \n",
       "222  https://www.eversports.de/e/workshop/CJc9FIH  Workshop         \n",
       "223  https://www.eversports.de/e/workshop/WccIM2q  Workshop         \n",
       "224  https://www.eversports.de/e/workshop/OGUBUS8  Workshop         \n",
       "225  https://www.eversports.de/e/workshop/VVXdiD8  Workshop         \n",
       "226  https://www.eversports.de/e/workshop/SqEYfO3  Workshop         \n",
       "\n",
       "                                          Beschreibung Trainer  \\\n",
       "0    Ohne tatsächlich die Hüllen fallen zu lassen, ...           \n",
       "1    Exotic Dance mit Becky Der perfekte Kurs für a...           \n",
       "2    Exotic Dance mit Becky Der perfekte Kurs für a...           \n",
       "3    Classic Burlesque Striptease: 1920s Moon Godde...           \n",
       "4    Classic Burlesque Striptease: 1920s Moon Godde...           \n",
       "..                                                 ...     ...   \n",
       "222  Habt ihr Interesse am Aerial Hammock neue Begi...           \n",
       "223  Habt ihr Interesse am akrobatischen Luftring? ...           \n",
       "224  Dan's favourit combos This class will cover Da...           \n",
       "225  In diesem Workshop lernen wir innerhalb von 2 ...           \n",
       "226  Static goes spinning! In diesem Workshop erler...           \n",
       "\n",
       "                                  Uhrzeit  \n",
       "0                           12:30 - 13:30  \n",
       "1                           13:45 - 15:45  \n",
       "2                           13:45 - 15:45  \n",
       "3                           17:30 - 19:30  \n",
       "4                           17:30 - 19:30  \n",
       "..                                    ...  \n",
       "222                         14:00 - 15:30  \n",
       "223                         12:00 - 13:30  \n",
       "224  Kölner Straße 336a, 40227 Düsseldorf  \n",
       "225                         14:30 - 16:00  \n",
       "226                         12:00 - 13:30  \n",
       "\n",
       "[227 rows x 12 columns]"
      ]
     },
     "execution_count": 135,
     "metadata": {},
     "output_type": "execute_result"
    }
   ],
   "source": [
    "result_workshop_details"
   ]
  }
 ],
 "metadata": {
  "kernelspec": {
   "display_name": "Python 3",
   "language": "python",
   "name": "python3"
  },
  "language_info": {
   "codemirror_mode": {
    "name": "ipython",
    "version": 3
   },
   "file_extension": ".py",
   "mimetype": "text/x-python",
   "name": "python",
   "nbconvert_exporter": "python",
   "pygments_lexer": "ipython3",
   "version": "3.12.2"
  }
 },
 "nbformat": 4,
 "nbformat_minor": 2
}
