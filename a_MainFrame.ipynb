{
 "cells": [
  {
   "cell_type": "code",
   "execution_count": 43,
   "metadata": {},
   "outputs": [],
   "source": [
    "import pandas as pd\n",
    "\n",
    "url= pd.read_csv(\"neue_liste.csv\")\n",
    "\n",
    "all_uRLs= pd.read_csv(\"All_URLs.csv\")\n",
    "\n",
    "initial_urls = set(url[\"URL_S\"].to_list()+ all_uRLs[\"URL\"].to_list())"
   ]
  },
  {
   "cell_type": "markdown",
   "metadata": {},
   "source": [
    "___"
   ]
  },
  {
   "cell_type": "code",
   "execution_count": 44,
   "metadata": {},
   "outputs": [
    {
     "data": {
      "text/plain": [
       "502"
      ]
     },
     "execution_count": 44,
     "metadata": {},
     "output_type": "execute_result"
    }
   ],
   "source": [
    "len(initial_urls)"
   ]
  },
  {
   "cell_type": "code",
   "execution_count": 36,
   "metadata": {},
   "outputs": [],
   "source": [
    "# initial_urls = [\"https://www.eversports.de/s/poda-studio\"]"
   ]
  },
  {
   "cell_type": "code",
   "execution_count": 37,
   "metadata": {},
   "outputs": [],
   "source": [
    "initial_urls= initial_urls[:240]"
   ]
  },
  {
   "cell_type": "markdown",
   "metadata": {},
   "source": [
    "Scraper Code"
   ]
  },
  {
   "cell_type": "code",
   "execution_count": 39,
   "metadata": {},
   "outputs": [
    {
     "name": "stderr",
     "output_type": "stream",
     "text": [
      "Processing URLs:   0%|          | 0/262 [00:00<?, ?it/s]"
     ]
    },
    {
     "name": "stdout",
     "output_type": "stream",
     "text": [
      "Starting URL reconstruction...\n"
     ]
    },
    {
     "name": "stderr",
     "output_type": "stream",
     "text": [
      "2024-03-17 15:02:53,127 - INFO - Processing URL 1/2: https://www.eversports.de/s/koerpernah\n"
     ]
    },
    {
     "name": "stdout",
     "output_type": "stream",
     "text": [
      "Converting to DataFrame...\n",
      "Validating URLs...\n"
     ]
    },
    {
     "name": "stderr",
     "output_type": "stream",
     "text": [
      "2024-03-17 15:02:56,468 - INFO - URL https://www.eversports.de/s/koerpernah is valid.\n",
      "2024-03-17 15:02:56,469 - INFO - Processing URL 2/2: https://www.eversports.de/sw/koerpernah\n",
      "2024-03-17 15:02:57,385 - INFO - URL https://www.eversports.de/sw/koerpernah is valid.\n"
     ]
    },
    {
     "name": "stdout",
     "output_type": "stream",
     "text": [
      "Scraping Pole Studio Data from https://www.eversports.de/s/koerpernah...\n",
      "Scraping Workshops Data from https://www.eversports.de/sw/koerpernah...\n",
      "Scraping Workshop Details from https://www.eversports.de/e/workshop/ETuGX5O...\n",
      "Scraping Workshop Details from https://www.eversports.de/e/workshop/Bre34FB...\n",
      "Scraping Workshop Details from https://www.eversports.de/e/workshop/i5bv-2u...\n",
      "Scraping Workshop Details from https://www.eversports.de/e/workshop/0ktpuKQ...\n",
      "Scraping Workshop Details from https://www.eversports.de/e/workshop/Js7a_FB...\n",
      "Scraping Workshop Details from https://www.eversports.de/e/workshop/H_ElTJN...\n"
     ]
    },
    {
     "name": "stderr",
     "output_type": "stream",
     "text": [
      "Processing URLs:   0%|          | 1/262 [00:15<1:07:46, 15.58s/it]"
     ]
    },
    {
     "name": "stdout",
     "output_type": "stream",
     "text": [
      "\n",
      "Processing completed.\n",
      "-------------------------------- \n",
      "\n",
      "2024-03-17 15:03:06 - INFO - Scraping Data from: https://www.eversports.de/s/koerpernah\n",
      "Pole Studio Data: 1 entries\n",
      "2024-03-17 15:03:06 - INFO - Scraping Data from: https://www.eversports.de/s/koerpernah\n",
      "Workshops Data: 6 entries\n",
      "2024-03-17 15:03:06 - INFO - Scraping Data from: https://www.eversports.de/s/koerpernah\n",
      "Workshop Details: 6 entries\n",
      "Starting URL reconstruction...\n"
     ]
    },
    {
     "name": "stderr",
     "output_type": "stream",
     "text": [
      "2024-03-17 15:03:08,808 - INFO - Processing URL 1/1: https://www.eversports.de/s/pole-dance-factory-amsterdam-noord\n"
     ]
    },
    {
     "name": "stdout",
     "output_type": "stream",
     "text": [
      "Converting to DataFrame...\n",
      "Validating URLs...\n"
     ]
    },
    {
     "name": "stderr",
     "output_type": "stream",
     "text": [
      "2024-03-17 15:03:10,127 - INFO - URL https://www.eversports.de/s/pole-dance-factory-amsterdam-noord is valid.\n"
     ]
    },
    {
     "name": "stdout",
     "output_type": "stream",
     "text": [
      "Scraping Pole Studio Data from https://www.eversports.de/s/pole-dance-factory-amsterdam-noord...\n"
     ]
    },
    {
     "name": "stderr",
     "output_type": "stream",
     "text": [
      "Processing URLs:   1%|          | 2/262 [00:19<38:37,  8.91s/it]  "
     ]
    },
    {
     "name": "stdout",
     "output_type": "stream",
     "text": [
      "\n",
      "Processing completed.\n",
      "-------------------------------- \n",
      "\n",
      "2024-03-17 15:03:10 - INFO - Scraping Data from: https://www.eversports.nl/s/pole-dance-factory-amsterdam-noord\n",
      "Pole Studio Data: 1 entries\n",
      "Starting URL reconstruction...\n"
     ]
    },
    {
     "name": "stderr",
     "output_type": "stream",
     "text": [
      "2024-03-17 15:03:12,632 - INFO - Processing URL 1/1: https://www.eversports.de/s/spiritn-roses\n"
     ]
    },
    {
     "name": "stdout",
     "output_type": "stream",
     "text": [
      "Converting to DataFrame...\n",
      "Validating URLs...\n"
     ]
    },
    {
     "name": "stderr",
     "output_type": "stream",
     "text": [
      "2024-03-17 15:03:16,096 - INFO - URL https://www.eversports.de/s/spiritn-roses is valid.\n"
     ]
    },
    {
     "name": "stdout",
     "output_type": "stream",
     "text": [
      "Scraping Pole Studio Data from https://www.eversports.de/s/spiritn-roses...\n"
     ]
    },
    {
     "name": "stderr",
     "output_type": "stream",
     "text": [
      "Processing URLs:   1%|          | 3/262 [00:25<32:42,  7.58s/it]"
     ]
    },
    {
     "name": "stdout",
     "output_type": "stream",
     "text": [
      "\n",
      "Processing completed.\n",
      "-------------------------------- \n",
      "\n",
      "2024-03-17 15:03:16 - INFO - Scraping Data from: https://www.eversports.nl/s/spiritn-roses\n",
      "Pole Studio Data: 1 entries\n",
      "Starting URL reconstruction...\n"
     ]
    },
    {
     "name": "stderr",
     "output_type": "stream",
     "text": [
      "Processing URLs:   2%|▏         | 4/262 [00:26<21:11,  4.93s/it]"
     ]
    },
    {
     "name": "stdout",
     "output_type": "stream",
     "text": [
      "Error during HTTP request: 404 Client Error: Not Found for url: https://www.eversports.de/s/polevybe\n",
      "Converting to DataFrame...\n",
      "Validating URLs...\n",
      "\n",
      "Processing completed.\n",
      "-------------------------------- \n",
      "\n",
      "Starting URL reconstruction...\n"
     ]
    },
    {
     "name": "stderr",
     "output_type": "stream",
     "text": [
      "Processing URLs:   2%|▏         | 5/262 [00:27<14:40,  3.42s/it]"
     ]
    },
    {
     "name": "stdout",
     "output_type": "stream",
     "text": [
      "Error during HTTP request: 404 Client Error: Not Found for url: https://www.eversports.de/s/poledance!-aerial-%26-fitness-flensburg-wees\n",
      "Converting to DataFrame...\n",
      "Validating URLs...\n",
      "\n",
      "Processing completed.\n",
      "-------------------------------- \n",
      "\n",
      "Starting URL reconstruction...\n"
     ]
    },
    {
     "name": "stderr",
     "output_type": "stream",
     "text": [
      "Processing URLs:   2%|▏         | 6/262 [00:28<11:04,  2.60s/it]"
     ]
    },
    {
     "name": "stdout",
     "output_type": "stream",
     "text": [
      "Error during HTTP request: 404 Client Error: Not Found for url: https://www.eversports.de/s/poledancestar-leipzig\n",
      "Converting to DataFrame...\n",
      "Validating URLs...\n",
      "\n",
      "Processing completed.\n",
      "-------------------------------- \n",
      "\n",
      "Starting URL reconstruction...\n"
     ]
    },
    {
     "name": "stderr",
     "output_type": "stream",
     "text": [
      "Processing URLs:   3%|▎         | 7/262 [00:29<08:39,  2.04s/it]"
     ]
    },
    {
     "name": "stdout",
     "output_type": "stream",
     "text": [
      "Error during HTTP request: 404 Client Error: Not Found for url: https://www.eversports.de/s/le-chat-noir-berlin\n",
      "Converting to DataFrame...\n",
      "Validating URLs...\n",
      "\n",
      "Processing completed.\n",
      "-------------------------------- \n",
      "\n",
      "Starting URL reconstruction...\n"
     ]
    },
    {
     "name": "stderr",
     "output_type": "stream",
     "text": [
      "2024-03-17 15:03:22,433 - INFO - Processing URL 1/1: https://www.eversports.de/s/air-dance-school-flagey\n"
     ]
    },
    {
     "name": "stdout",
     "output_type": "stream",
     "text": [
      "Converting to DataFrame...\n",
      "Validating URLs...\n"
     ]
    },
    {
     "name": "stderr",
     "output_type": "stream",
     "text": [
      "2024-03-17 15:03:23,428 - INFO - URL https://www.eversports.de/s/air-dance-school-flagey is valid.\n"
     ]
    },
    {
     "name": "stdout",
     "output_type": "stream",
     "text": [
      "Scraping Pole Studio Data from https://www.eversports.de/s/air-dance-school-flagey...\n"
     ]
    },
    {
     "name": "stderr",
     "output_type": "stream",
     "text": [
      "Processing URLs:   3%|▎         | 8/262 [00:32<10:48,  2.55s/it]"
     ]
    },
    {
     "name": "stdout",
     "output_type": "stream",
     "text": [
      "\n",
      "Processing completed.\n",
      "-------------------------------- \n",
      "\n",
      "2024-03-17 15:03:23 - INFO - Scraping Data from: https://www.eversports.be/s/air-dance-school-flagey\n",
      "Pole Studio Data: 1 entries\n",
      "Starting URL reconstruction...\n"
     ]
    },
    {
     "name": "stderr",
     "output_type": "stream",
     "text": [
      "Processing URLs:   3%|▎         | 9/262 [00:33<08:37,  2.04s/it]"
     ]
    },
    {
     "name": "stdout",
     "output_type": "stream",
     "text": [
      "Error during HTTP request: 404 Client Error: Not Found for url: https://www.eversports.de/s/tanzteufel-denzlingen\n",
      "Converting to DataFrame...\n",
      "Validating URLs...\n",
      "\n",
      "Processing completed.\n",
      "-------------------------------- \n",
      "\n",
      "Starting URL reconstruction...\n"
     ]
    },
    {
     "name": "stderr",
     "output_type": "stream",
     "text": [
      "2024-03-17 15:03:26,182 - INFO - Processing URL 1/2: https://www.eversports.de/s/infinityarts\n"
     ]
    },
    {
     "name": "stdout",
     "output_type": "stream",
     "text": [
      "Converting to DataFrame...\n",
      "Validating URLs...\n"
     ]
    },
    {
     "name": "stderr",
     "output_type": "stream",
     "text": [
      "2024-03-17 15:03:27,781 - INFO - URL https://www.eversports.de/s/infinityarts is valid.\n",
      "2024-03-17 15:03:27,782 - INFO - Processing URL 2/2: https://www.eversports.de/sw/infinityarts\n",
      "2024-03-17 15:03:28,801 - INFO - URL https://www.eversports.de/sw/infinityarts is valid.\n"
     ]
    },
    {
     "name": "stdout",
     "output_type": "stream",
     "text": [
      "Scraping Pole Studio Data from https://www.eversports.de/s/infinityarts...\n",
      "Scraping Workshops Data from https://www.eversports.de/sw/infinityarts...\n",
      "Scraping Workshop Details from https://www.eversports.de/e/workshop/wsoYgNl...\n"
     ]
    },
    {
     "name": "stderr",
     "output_type": "stream",
     "text": [
      "Processing URLs:   4%|▍         | 10/262 [00:40<14:08,  3.37s/it]"
     ]
    },
    {
     "name": "stdout",
     "output_type": "stream",
     "text": [
      "\n",
      "Processing completed.\n",
      "-------------------------------- \n",
      "\n",
      "2024-03-17 15:03:31 - INFO - Scraping Data from: https://www.eversports.de/s/infinityarts\n",
      "Pole Studio Data: 1 entries\n",
      "2024-03-17 15:03:31 - INFO - Scraping Data from: https://www.eversports.de/s/infinityarts\n",
      "Workshops Data: 1 entries\n",
      "2024-03-17 15:03:31 - INFO - Scraping Data from: https://www.eversports.de/s/infinityarts\n",
      "Workshop Details: 1 entries\n",
      "Starting URL reconstruction...\n"
     ]
    },
    {
     "name": "stderr",
     "output_type": "stream",
     "text": [
      "2024-03-17 15:03:32,528 - INFO - Processing URL 1/1: https://www.eversports.de/s/polesition-regensburg\n"
     ]
    },
    {
     "name": "stdout",
     "output_type": "stream",
     "text": [
      "Converting to DataFrame...\n",
      "Validating URLs...\n"
     ]
    },
    {
     "name": "stderr",
     "output_type": "stream",
     "text": [
      "2024-03-17 15:03:33,632 - INFO - URL https://www.eversports.de/s/polesition-regensburg is valid.\n"
     ]
    },
    {
     "name": "stdout",
     "output_type": "stream",
     "text": [
      "Scraping Pole Studio Data from https://www.eversports.de/s/polesition-regensburg...\n"
     ]
    },
    {
     "name": "stderr",
     "output_type": "stream",
     "text": [
      "Processing URLs:   4%|▍         | 11/262 [00:43<14:04,  3.36s/it]"
     ]
    },
    {
     "name": "stdout",
     "output_type": "stream",
     "text": [
      "\n",
      "Processing completed.\n",
      "-------------------------------- \n",
      "\n",
      "2024-03-17 15:03:34 - INFO - Scraping Data from: https://www.eversports.de/s/polesition-regensburg\n",
      "Pole Studio Data: 1 entries\n",
      "Starting URL reconstruction...\n"
     ]
    },
    {
     "name": "stderr",
     "output_type": "stream",
     "text": [
      "2024-03-17 15:03:35,769 - INFO - Processing URL 1/2: https://www.eversports.de/s/pole-faction-rhein-neckar\n"
     ]
    },
    {
     "name": "stdout",
     "output_type": "stream",
     "text": [
      "Converting to DataFrame...\n",
      "Validating URLs...\n"
     ]
    },
    {
     "name": "stderr",
     "output_type": "stream",
     "text": [
      "2024-03-17 15:03:37,140 - INFO - URL https://www.eversports.de/s/pole-faction-rhein-neckar is valid.\n",
      "2024-03-17 15:03:37,142 - INFO - Processing URL 2/2: https://www.eversports.de/sw/pole-faction-rhein-neckar\n",
      "2024-03-17 15:03:38,394 - INFO - URL https://www.eversports.de/sw/pole-faction-rhein-neckar is valid.\n"
     ]
    },
    {
     "name": "stdout",
     "output_type": "stream",
     "text": [
      "Scraping Pole Studio Data from https://www.eversports.de/s/pole-faction-rhein-neckar...\n",
      "Scraping Workshops Data from https://www.eversports.de/sw/pole-faction-rhein-neckar...\n",
      "Scraping Workshop Details from https://www.eversports.de/e/workshop/GaI28pr...\n",
      "Scraping Workshop Details from https://www.eversports.de/e/workshop/Pi9Ivxi...\n"
     ]
    },
    {
     "name": "stderr",
     "output_type": "stream",
     "text": [
      "Processing URLs:   5%|▍         | 12/262 [00:51<20:08,  4.83s/it]"
     ]
    },
    {
     "name": "stdout",
     "output_type": "stream",
     "text": [
      "\n",
      "Processing completed.\n",
      "-------------------------------- \n",
      "\n",
      "2024-03-17 15:03:42 - INFO - Scraping Data from: https://www.eversports.de/s/pole-faction-rhein-neckar\n",
      "Pole Studio Data: 1 entries\n",
      "2024-03-17 15:03:42 - INFO - Scraping Data from: https://www.eversports.de/s/pole-faction-rhein-neckar\n",
      "Workshops Data: 2 entries\n",
      "2024-03-17 15:03:42 - INFO - Scraping Data from: https://www.eversports.de/s/pole-faction-rhein-neckar\n",
      "Workshop Details: 2 entries\n",
      "Starting URL reconstruction...\n"
     ]
    },
    {
     "name": "stderr",
     "output_type": "stream",
     "text": [
      "2024-03-17 15:03:43,960 - INFO - Processing URL 1/1: https://www.eversports.de/s/welovepoledance\n"
     ]
    },
    {
     "name": "stdout",
     "output_type": "stream",
     "text": [
      "Converting to DataFrame...\n",
      "Validating URLs...\n"
     ]
    },
    {
     "name": "stderr",
     "output_type": "stream",
     "text": [
      "2024-03-17 15:03:44,961 - INFO - URL https://www.eversports.de/s/welovepoledance is valid.\n"
     ]
    },
    {
     "name": "stdout",
     "output_type": "stream",
     "text": [
      "Scraping Pole Studio Data from https://www.eversports.de/s/welovepoledance...\n"
     ]
    },
    {
     "name": "stderr",
     "output_type": "stream",
     "text": [
      "Processing URLs:   5%|▍         | 13/262 [00:54<17:08,  4.13s/it]"
     ]
    },
    {
     "name": "stdout",
     "output_type": "stream",
     "text": [
      "\n",
      "Processing completed.\n",
      "-------------------------------- \n",
      "\n",
      "2024-03-17 15:03:45 - INFO - Scraping Data from: https://www.eversports.de/s/welovepoledance\n",
      "Pole Studio Data: 1 entries\n",
      "Starting URL reconstruction...\n"
     ]
    },
    {
     "name": "stderr",
     "output_type": "stream",
     "text": [
      "Processing URLs:   5%|▌         | 14/262 [00:55<13:04,  3.16s/it]"
     ]
    },
    {
     "name": "stdout",
     "output_type": "stream",
     "text": [
      "Error during HTTP request: 404 Client Error: Not Found for url: https://www.eversports.de/s/passionate-pole-%26-sports\n",
      "Converting to DataFrame...\n",
      "Validating URLs...\n",
      "\n",
      "Processing completed.\n",
      "-------------------------------- \n",
      "\n",
      "Starting URL reconstruction...\n"
     ]
    },
    {
     "name": "stderr",
     "output_type": "stream",
     "text": [
      "Processing URLs:   6%|▌         | 15/262 [00:56<10:10,  2.47s/it]"
     ]
    },
    {
     "name": "stdout",
     "output_type": "stream",
     "text": [
      "Error during HTTP request: 404 Client Error: Not Found for url: https://www.eversports.de/s/les.pole\n",
      "Converting to DataFrame...\n",
      "Validating URLs...\n",
      "\n",
      "Processing completed.\n",
      "-------------------------------- \n",
      "\n",
      "Starting URL reconstruction...\n"
     ]
    },
    {
     "name": "stderr",
     "output_type": "stream",
     "text": [
      "Processing URLs:   6%|▌         | 16/262 [00:58<10:12,  2.49s/it]"
     ]
    },
    {
     "name": "stdout",
     "output_type": "stream",
     "text": [
      "Error during HTTP request: Exceeded 30 redirects.\n",
      "Converting to DataFrame...\n",
      "Validating URLs...\n",
      "\n",
      "Processing completed.\n",
      "-------------------------------- \n",
      "\n",
      "Starting URL reconstruction...\n"
     ]
    },
    {
     "name": "stderr",
     "output_type": "stream",
     "text": [
      "2024-03-17 15:03:50,714 - INFO - Processing URL 1/1: https://www.eversports.de/s/st-polestudio\n"
     ]
    },
    {
     "name": "stdout",
     "output_type": "stream",
     "text": [
      "Converting to DataFrame...\n",
      "Validating URLs...\n"
     ]
    },
    {
     "name": "stderr",
     "output_type": "stream",
     "text": [
      "2024-03-17 15:03:51,655 - INFO - URL https://www.eversports.de/s/st-polestudio is valid.\n"
     ]
    },
    {
     "name": "stdout",
     "output_type": "stream",
     "text": [
      "Scraping Pole Studio Data from https://www.eversports.de/s/st-polestudio...\n"
     ]
    },
    {
     "name": "stderr",
     "output_type": "stream",
     "text": [
      "Processing URLs:   6%|▋         | 17/262 [01:01<10:05,  2.47s/it]"
     ]
    },
    {
     "name": "stdout",
     "output_type": "stream",
     "text": [
      "\n",
      "Processing completed.\n",
      "-------------------------------- \n",
      "\n",
      "2024-03-17 15:03:52 - INFO - Scraping Data from: https://www.eversports.de/s/st-polestudio\n",
      "Pole Studio Data: 1 entries\n",
      "Starting URL reconstruction...\n"
     ]
    },
    {
     "name": "stderr",
     "output_type": "stream",
     "text": [
      "2024-03-17 15:03:53,287 - INFO - Processing URL 1/2: https://www.eversports.de/s/aerialflow\n"
     ]
    },
    {
     "name": "stdout",
     "output_type": "stream",
     "text": [
      "Converting to DataFrame...\n",
      "Validating URLs...\n"
     ]
    },
    {
     "name": "stderr",
     "output_type": "stream",
     "text": [
      "2024-03-17 15:03:54,879 - INFO - URL https://www.eversports.de/s/aerialflow is valid.\n",
      "2024-03-17 15:03:54,879 - INFO - Processing URL 2/2: https://www.eversports.de/sw/aerialflow\n",
      "2024-03-17 15:03:55,879 - INFO - URL https://www.eversports.de/sw/aerialflow is valid.\n"
     ]
    },
    {
     "name": "stdout",
     "output_type": "stream",
     "text": [
      "Scraping Pole Studio Data from https://www.eversports.de/s/aerialflow...\n",
      "Scraping Workshops Data from https://www.eversports.de/sw/aerialflow...\n",
      "Scraping Workshop Details from https://www.eversports.de/e/workshop/OQN28ZD...\n"
     ]
    },
    {
     "name": "stderr",
     "output_type": "stream",
     "text": [
      "Processing URLs:   7%|▋         | 18/262 [01:07<15:02,  3.70s/it]"
     ]
    },
    {
     "name": "stdout",
     "output_type": "stream",
     "text": [
      "\n",
      "Processing completed.\n",
      "-------------------------------- \n",
      "\n",
      "2024-03-17 15:03:58 - INFO - Scraping Data from: https://www.eversports.de/s/aerialflow\n",
      "Pole Studio Data: 1 entries\n",
      "2024-03-17 15:03:58 - INFO - Scraping Data from: https://www.eversports.de/s/aerialflow\n",
      "Workshops Data: 1 entries\n",
      "2024-03-17 15:03:58 - INFO - Scraping Data from: https://www.eversports.de/s/aerialflow\n",
      "Workshop Details: 1 entries\n",
      "Starting URL reconstruction...\n"
     ]
    },
    {
     "name": "stderr",
     "output_type": "stream",
     "text": [
      "2024-03-17 15:03:59,658 - INFO - Processing URL 1/2: https://www.eversports.de/s/a-heart-for-poledance-1\n"
     ]
    },
    {
     "name": "stdout",
     "output_type": "stream",
     "text": [
      "Converting to DataFrame...\n",
      "Validating URLs...\n"
     ]
    },
    {
     "name": "stderr",
     "output_type": "stream",
     "text": [
      "2024-03-17 15:04:00,950 - INFO - URL https://www.eversports.de/s/a-heart-for-poledance-1 is valid.\n",
      "2024-03-17 15:04:00,951 - INFO - Processing URL 2/2: https://www.eversports.de/sw/a-heart-for-poledance-1\n",
      "2024-03-17 15:04:01,851 - INFO - URL https://www.eversports.de/sw/a-heart-for-poledance-1 is valid.\n"
     ]
    },
    {
     "name": "stdout",
     "output_type": "stream",
     "text": [
      "Scraping Pole Studio Data from https://www.eversports.de/s/a-heart-for-poledance-1...\n",
      "Scraping Workshops Data from https://www.eversports.de/sw/a-heart-for-poledance-1...\n",
      "Scraping Workshop Details from https://www.eversports.de/e/workshop/jQOaOC3...\n",
      "Scraping Workshop Details from https://www.eversports.de/e/workshop/H4Qz_fT...\n",
      "Scraping Workshop Details from https://www.eversports.de/e/workshop/nOac6zt...\n",
      "Scraping Workshop Details from https://www.eversports.de/e/workshop/yMiXoIi...\n"
     ]
    },
    {
     "name": "stderr",
     "output_type": "stream",
     "text": [
      "Processing URLs:   7%|▋         | 19/262 [01:18<23:26,  5.79s/it]"
     ]
    },
    {
     "name": "stdout",
     "output_type": "stream",
     "text": [
      "\n",
      "Processing completed.\n",
      "-------------------------------- \n",
      "\n",
      "2024-03-17 15:04:09 - INFO - Scraping Data from: https://www.eversports.de/s/a-heart-for-poledance-1\n",
      "Pole Studio Data: 1 entries\n",
      "2024-03-17 15:04:09 - INFO - Scraping Data from: https://www.eversports.de/s/a-heart-for-poledance-1\n",
      "Workshops Data: 4 entries\n",
      "2024-03-17 15:04:09 - INFO - Scraping Data from: https://www.eversports.de/s/a-heart-for-poledance-1\n",
      "Workshop Details: 4 entries\n",
      "Starting URL reconstruction...\n"
     ]
    },
    {
     "name": "stderr",
     "output_type": "stream",
     "text": [
      "Processing URLs:   8%|▊         | 20/262 [01:19<18:12,  4.51s/it]"
     ]
    },
    {
     "name": "stdout",
     "output_type": "stream",
     "text": [
      "Error during HTTP request: 404 Client Error: Not Found for url: https://www.eversports.de/s/vertical-ab\n",
      "Converting to DataFrame...\n",
      "Validating URLs...\n",
      "\n",
      "Processing completed.\n",
      "-------------------------------- \n",
      "\n",
      "Starting URL reconstruction...\n"
     ]
    },
    {
     "name": "stderr",
     "output_type": "stream",
     "text": [
      "2024-03-17 15:04:12,105 - INFO - Processing URL 1/1: https://www.eversports.de/s/polefriends-halle\n"
     ]
    },
    {
     "name": "stdout",
     "output_type": "stream",
     "text": [
      "Converting to DataFrame...\n",
      "Validating URLs...\n"
     ]
    },
    {
     "name": "stderr",
     "output_type": "stream",
     "text": [
      "2024-03-17 15:04:13,331 - INFO - URL https://www.eversports.de/s/polefriends-halle is valid.\n"
     ]
    },
    {
     "name": "stdout",
     "output_type": "stream",
     "text": [
      "Scraping Pole Studio Data from https://www.eversports.de/s/polefriends-halle...\n"
     ]
    },
    {
     "name": "stderr",
     "output_type": "stream",
     "text": [
      "Processing URLs:   8%|▊         | 21/262 [01:22<16:26,  4.09s/it]"
     ]
    },
    {
     "name": "stdout",
     "output_type": "stream",
     "text": [
      "\n",
      "Processing completed.\n",
      "-------------------------------- \n",
      "\n",
      "2024-03-17 15:04:13 - INFO - Scraping Data from: https://www.eversports.de/s/polefriends-halle\n",
      "Pole Studio Data: 1 entries\n",
      "Starting URL reconstruction...\n"
     ]
    },
    {
     "name": "stderr",
     "output_type": "stream",
     "text": [
      "2024-03-17 15:04:15,126 - INFO - Processing URL 1/2: https://www.eversports.de/s/pole-and-move-ludwigshafen\n"
     ]
    },
    {
     "name": "stdout",
     "output_type": "stream",
     "text": [
      "Converting to DataFrame...\n",
      "Validating URLs...\n"
     ]
    },
    {
     "name": "stderr",
     "output_type": "stream",
     "text": [
      "2024-03-17 15:04:16,310 - INFO - URL https://www.eversports.de/s/pole-and-move-ludwigshafen is valid.\n",
      "2024-03-17 15:04:16,311 - INFO - Processing URL 2/2: https://www.eversports.de/sw/pole-and-move-ludwigshafen\n",
      "2024-03-17 15:04:17,211 - INFO - URL https://www.eversports.de/sw/pole-and-move-ludwigshafen is valid.\n"
     ]
    },
    {
     "name": "stdout",
     "output_type": "stream",
     "text": [
      "Scraping Pole Studio Data from https://www.eversports.de/s/pole-and-move-ludwigshafen...\n",
      "Scraping Workshops Data from https://www.eversports.de/sw/pole-and-move-ludwigshafen...\n",
      "Scraping Workshop Details from https://www.eversports.de/e/workshop/Bq8SWzC...\n",
      "Scraping Workshop Details from https://www.eversports.de/e/workshop/ePH29kU...\n",
      "Scraping Workshop Details from https://www.eversports.de/e/workshop/fMcJ4cb...\n",
      "Scraping Workshop Details from https://www.eversports.de/e/workshop/ixC-WNj...\n"
     ]
    },
    {
     "name": "stderr",
     "output_type": "stream",
     "text": [
      "Processing URLs:   8%|▊         | 22/262 [01:32<23:30,  5.88s/it]"
     ]
    },
    {
     "name": "stdout",
     "output_type": "stream",
     "text": [
      "\n",
      "Processing completed.\n",
      "-------------------------------- \n",
      "\n",
      "2024-03-17 15:04:23 - INFO - Scraping Data from: https://www.eversports.de/s/pole-and-move-ludwigshafen\n",
      "Pole Studio Data: 1 entries\n",
      "2024-03-17 15:04:23 - INFO - Scraping Data from: https://www.eversports.de/s/pole-and-move-ludwigshafen\n",
      "Workshops Data: 4 entries\n",
      "2024-03-17 15:04:23 - INFO - Scraping Data from: https://www.eversports.de/s/pole-and-move-ludwigshafen\n",
      "Workshop Details: 4 entries\n",
      "Starting URL reconstruction...\n"
     ]
    },
    {
     "name": "stderr",
     "output_type": "stream",
     "text": [
      "Processing URLs:   9%|▉         | 23/262 [01:33<17:16,  4.34s/it]"
     ]
    },
    {
     "name": "stdout",
     "output_type": "stream",
     "text": [
      "Error during HTTP request: 404 Client Error: Not Found for url: https://www.eversports.de/s/spirit'n-roses\n",
      "Converting to DataFrame...\n",
      "Validating URLs...\n",
      "\n",
      "Processing completed.\n",
      "-------------------------------- \n",
      "\n",
      "Starting URL reconstruction...\n"
     ]
    },
    {
     "name": "stderr",
     "output_type": "stream",
     "text": [
      "2024-03-17 15:04:25,977 - INFO - Processing URL 1/1: https://www.eversports.de/s/nisa-verticals\n"
     ]
    },
    {
     "name": "stdout",
     "output_type": "stream",
     "text": [
      "Converting to DataFrame...\n",
      "Validating URLs...\n"
     ]
    },
    {
     "name": "stderr",
     "output_type": "stream",
     "text": [
      "2024-03-17 15:04:27,041 - INFO - URL https://www.eversports.de/s/nisa-verticals is valid.\n"
     ]
    },
    {
     "name": "stdout",
     "output_type": "stream",
     "text": [
      "Scraping Pole Studio Data from https://www.eversports.de/s/nisa-verticals...\n"
     ]
    },
    {
     "name": "stderr",
     "output_type": "stream",
     "text": [
      "Processing URLs:   9%|▉         | 24/262 [01:36<15:11,  3.83s/it]"
     ]
    },
    {
     "name": "stdout",
     "output_type": "stream",
     "text": [
      "\n",
      "Processing completed.\n",
      "-------------------------------- \n",
      "\n",
      "2024-03-17 15:04:27 - INFO - Scraping Data from: https://www.eversports.de/s/nisa-verticals\n",
      "Pole Studio Data: 1 entries\n",
      "Starting URL reconstruction...\n"
     ]
    },
    {
     "name": "stderr",
     "output_type": "stream",
     "text": [
      "Processing URLs:  10%|▉         | 25/262 [01:37<11:33,  2.92s/it]"
     ]
    },
    {
     "name": "stdout",
     "output_type": "stream",
     "text": [
      "Error during HTTP request: 404 Client Error: Not Found for url: https://www.eversports.de/s/pole-dance-power\n",
      "Converting to DataFrame...\n",
      "Validating URLs...\n",
      "\n",
      "Processing completed.\n",
      "-------------------------------- \n",
      "\n",
      "Starting URL reconstruction...\n"
     ]
    },
    {
     "name": "stderr",
     "output_type": "stream",
     "text": [
      "2024-03-17 15:04:29,633 - INFO - Processing URL 1/2: https://www.eversports.de/s/da-becca-flow-and-fit\n"
     ]
    },
    {
     "name": "stdout",
     "output_type": "stream",
     "text": [
      "Converting to DataFrame...\n",
      "Validating URLs...\n"
     ]
    },
    {
     "name": "stderr",
     "output_type": "stream",
     "text": [
      "2024-03-17 15:04:30,641 - INFO - URL https://www.eversports.de/s/da-becca-flow-and-fit is valid.\n",
      "2024-03-17 15:04:30,641 - INFO - Processing URL 2/2: https://www.eversports.de/sw/da-becca-flow-and-fit\n",
      "2024-03-17 15:04:31,788 - INFO - URL https://www.eversports.de/sw/da-becca-flow-and-fit is valid.\n"
     ]
    },
    {
     "name": "stdout",
     "output_type": "stream",
     "text": [
      "Scraping Pole Studio Data from https://www.eversports.de/s/da-becca-flow-and-fit...\n",
      "Scraping Workshops Data from https://www.eversports.de/sw/da-becca-flow-and-fit...\n",
      "Scraping Workshop Details from https://www.eversports.de/e/workshop/0u01Mza...\n",
      "Scraping Workshop Details from https://www.eversports.de/e/workshop/DBxar8u...\n",
      "Scraping Workshop Details from https://www.eversports.de/e/workshop/113IYbR...\n",
      "Scraping Workshop Details from https://www.eversports.de/e/workshop/vyTj8JR...\n",
      "Scraping Workshop Details from https://www.eversports.de/e/workshop/GMeuKSV...\n",
      "Scraping Workshop Details from https://www.eversports.de/e/workshop/461op6s...\n",
      "Scraping Workshop Details from https://www.eversports.de/e/workshop/NrFmto0...\n",
      "Scraping Workshop Details from https://www.eversports.de/e/workshop/km4K7Yv...\n",
      "Scraping Workshop Details from https://www.eversports.de/e/workshop/B2Sz3mv...\n",
      "Scraping Workshop Details from https://www.eversports.de/e/workshop/HhyMbSA...\n",
      "Scraping Workshop Details from https://www.eversports.de/e/workshop/jJdILMv...\n"
     ]
    },
    {
     "name": "stderr",
     "output_type": "stream",
     "text": [
      "Processing URLs:  10%|▉         | 26/262 [01:55<29:57,  7.62s/it]"
     ]
    },
    {
     "name": "stdout",
     "output_type": "stream",
     "text": [
      "\n",
      "Processing completed.\n",
      "-------------------------------- \n",
      "\n",
      "2024-03-17 15:04:46 - INFO - Scraping Data from: https://www.eversports.de/s/da-becca-flow-and-fit\n",
      "Pole Studio Data: 1 entries\n",
      "2024-03-17 15:04:46 - INFO - Scraping Data from: https://www.eversports.de/s/da-becca-flow-and-fit\n",
      "Workshops Data: 11 entries\n",
      "2024-03-17 15:04:46 - INFO - Scraping Data from: https://www.eversports.de/s/da-becca-flow-and-fit\n",
      "Workshop Details: 11 entries\n",
      "Starting URL reconstruction...\n"
     ]
    },
    {
     "name": "stderr",
     "output_type": "stream",
     "text": [
      "Processing URLs:  10%|█         | 27/262 [01:56<21:53,  5.59s/it]"
     ]
    },
    {
     "name": "stdout",
     "output_type": "stream",
     "text": [
      "Error during HTTP request: 404 Client Error: Not Found for url: https://www.eversports.de/s/polea---pole-and-aerial-dance\n",
      "Converting to DataFrame...\n",
      "Validating URLs...\n",
      "\n",
      "Processing completed.\n",
      "-------------------------------- \n",
      "\n",
      "Starting URL reconstruction...\n"
     ]
    },
    {
     "name": "stderr",
     "output_type": "stream",
     "text": [
      "2024-03-17 15:04:48,724 - INFO - Processing URL 1/1: https://www.eversports.de/s/studio-nienke\n"
     ]
    },
    {
     "name": "stdout",
     "output_type": "stream",
     "text": [
      "Converting to DataFrame...\n",
      "Validating URLs...\n"
     ]
    },
    {
     "name": "stderr",
     "output_type": "stream",
     "text": [
      "2024-03-17 15:04:50,309 - INFO - URL https://www.eversports.de/s/studio-nienke is valid.\n"
     ]
    },
    {
     "name": "stdout",
     "output_type": "stream",
     "text": [
      "Scraping Pole Studio Data from https://www.eversports.de/s/studio-nienke...\n"
     ]
    },
    {
     "name": "stderr",
     "output_type": "stream",
     "text": [
      "Processing URLs:  11%|█         | 28/262 [01:59<19:07,  4.90s/it]"
     ]
    },
    {
     "name": "stdout",
     "output_type": "stream",
     "text": [
      "\n",
      "Processing completed.\n",
      "-------------------------------- \n",
      "\n",
      "2024-03-17 15:04:50 - INFO - Scraping Data from: https://www.eversports.de/s/studio-nienke\n",
      "Pole Studio Data: 1 entries\n",
      "Starting URL reconstruction...\n"
     ]
    },
    {
     "name": "stderr",
     "output_type": "stream",
     "text": [
      "2024-03-17 15:04:52,166 - INFO - Processing URL 1/1: https://www.eversports.de/s/secret-moves-athletic-dance-studio\n"
     ]
    },
    {
     "name": "stdout",
     "output_type": "stream",
     "text": [
      "Converting to DataFrame...\n",
      "Validating URLs...\n"
     ]
    },
    {
     "name": "stderr",
     "output_type": "stream",
     "text": [
      "2024-03-17 15:04:53,449 - INFO - URL https://www.eversports.de/s/secret-moves-athletic-dance-studio is valid.\n"
     ]
    },
    {
     "name": "stdout",
     "output_type": "stream",
     "text": [
      "Scraping Pole Studio Data from https://www.eversports.de/s/secret-moves-athletic-dance-studio...\n"
     ]
    },
    {
     "name": "stderr",
     "output_type": "stream",
     "text": [
      "Processing URLs:  11%|█         | 29/262 [02:02<16:49,  4.33s/it]"
     ]
    },
    {
     "name": "stdout",
     "output_type": "stream",
     "text": [
      "\n",
      "Processing completed.\n",
      "-------------------------------- \n",
      "\n",
      "2024-03-17 15:04:53 - INFO - Scraping Data from: https://www.eversports.de/s/secret-moves-athletic-dance-studio\n",
      "Pole Studio Data: 1 entries\n",
      "Starting URL reconstruction...\n"
     ]
    },
    {
     "name": "stderr",
     "output_type": "stream",
     "text": [
      "2024-03-17 15:04:56,106 - INFO - Processing URL 1/1: https://www.eversports.de/s/verticale\n"
     ]
    },
    {
     "name": "stdout",
     "output_type": "stream",
     "text": [
      "Converting to DataFrame...\n",
      "Validating URLs...\n"
     ]
    },
    {
     "name": "stderr",
     "output_type": "stream",
     "text": [
      "2024-03-17 15:04:57,083 - INFO - URL https://www.eversports.de/s/verticale is valid.\n"
     ]
    },
    {
     "name": "stdout",
     "output_type": "stream",
     "text": [
      "Scraping Pole Studio Data from https://www.eversports.de/s/verticale...\n"
     ]
    },
    {
     "name": "stderr",
     "output_type": "stream",
     "text": [
      "Processing URLs:  11%|█▏        | 30/262 [02:06<16:00,  4.14s/it]"
     ]
    },
    {
     "name": "stdout",
     "output_type": "stream",
     "text": [
      "\n",
      "Processing completed.\n",
      "-------------------------------- \n",
      "\n",
      "2024-03-17 15:04:57 - INFO - Scraping Data from: https://www.eversports.be/s/verticale\n",
      "Pole Studio Data: 1 entries\n",
      "Starting URL reconstruction...\n"
     ]
    },
    {
     "name": "stderr",
     "output_type": "stream",
     "text": [
      "2024-03-17 15:04:58,605 - INFO - Processing URL 1/1: https://www.eversports.de/s/pole-your-body\n"
     ]
    },
    {
     "name": "stdout",
     "output_type": "stream",
     "text": [
      "Converting to DataFrame...\n",
      "Validating URLs...\n"
     ]
    },
    {
     "name": "stderr",
     "output_type": "stream",
     "text": [
      "2024-03-17 15:04:59,581 - INFO - URL https://www.eversports.de/s/pole-your-body is valid.\n"
     ]
    },
    {
     "name": "stdout",
     "output_type": "stream",
     "text": [
      "Scraping Pole Studio Data from https://www.eversports.de/s/pole-your-body...\n"
     ]
    },
    {
     "name": "stderr",
     "output_type": "stream",
     "text": [
      "Processing URLs:  12%|█▏        | 31/262 [02:08<13:48,  3.59s/it]"
     ]
    },
    {
     "name": "stdout",
     "output_type": "stream",
     "text": [
      "\n",
      "Processing completed.\n",
      "-------------------------------- \n",
      "\n",
      "2024-03-17 15:04:59 - INFO - Scraping Data from: https://www.eversports.de/s/pole-your-body\n",
      "Pole Studio Data: 1 entries\n",
      "Starting URL reconstruction...\n"
     ]
    },
    {
     "name": "stderr",
     "output_type": "stream",
     "text": [
      "Processing URLs:  12%|█▏        | 32/262 [02:09<10:30,  2.74s/it]"
     ]
    },
    {
     "name": "stdout",
     "output_type": "stream",
     "text": [
      "Error during HTTP request: 404 Client Error: Not Found for url: https://www.eversports.de/s/fl'air-studios-berlin\n",
      "Converting to DataFrame...\n",
      "Validating URLs...\n",
      "\n",
      "Processing completed.\n",
      "-------------------------------- \n",
      "\n",
      "Starting URL reconstruction...\n"
     ]
    },
    {
     "name": "stderr",
     "output_type": "stream",
     "text": [
      "2024-03-17 15:05:01,749 - INFO - Processing URL 1/1: https://www.eversports.de/s/pole-heaven\n"
     ]
    },
    {
     "name": "stdout",
     "output_type": "stream",
     "text": [
      "Converting to DataFrame...\n",
      "Validating URLs...\n"
     ]
    },
    {
     "name": "stderr",
     "output_type": "stream",
     "text": [
      "2024-03-17 15:05:03,240 - INFO - URL https://www.eversports.de/s/pole-heaven is valid.\n"
     ]
    },
    {
     "name": "stdout",
     "output_type": "stream",
     "text": [
      "Scraping Pole Studio Data from https://www.eversports.de/s/pole-heaven...\n"
     ]
    },
    {
     "name": "stderr",
     "output_type": "stream",
     "text": [
      "Processing URLs:  13%|█▎        | 33/262 [02:13<11:57,  3.14s/it]"
     ]
    },
    {
     "name": "stdout",
     "output_type": "stream",
     "text": [
      "\n",
      "Processing completed.\n",
      "-------------------------------- \n",
      "\n",
      "2024-03-17 15:05:04 - INFO - Scraping Data from: https://www.eversports.de/s/pole-heaven\n",
      "Pole Studio Data: 1 entries\n",
      "Starting URL reconstruction...\n"
     ]
    },
    {
     "name": "stderr",
     "output_type": "stream",
     "text": [
      "Processing URLs:  13%|█▎        | 34/262 [02:15<09:50,  2.59s/it]"
     ]
    },
    {
     "name": "stdout",
     "output_type": "stream",
     "text": [
      "Error during HTTP request: 404 Client Error: Not Found for url: https://www.eversports.de/s/sky-move-pole-sport\n",
      "Converting to DataFrame...\n",
      "Validating URLs...\n",
      "\n",
      "Processing completed.\n",
      "-------------------------------- \n",
      "\n",
      "Starting URL reconstruction...\n"
     ]
    },
    {
     "name": "stderr",
     "output_type": "stream",
     "text": [
      "2024-03-17 15:05:07,215 - INFO - Processing URL 1/1: https://www.eversports.de/s/loft1-basel-city\n"
     ]
    },
    {
     "name": "stdout",
     "output_type": "stream",
     "text": [
      "Converting to DataFrame...\n",
      "Validating URLs...\n"
     ]
    },
    {
     "name": "stderr",
     "output_type": "stream",
     "text": [
      "2024-03-17 15:05:08,344 - INFO - URL https://www.eversports.de/s/loft1-basel-city is valid.\n"
     ]
    },
    {
     "name": "stdout",
     "output_type": "stream",
     "text": [
      "Scraping Pole Studio Data from https://www.eversports.de/s/loft1-basel-city...\n"
     ]
    },
    {
     "name": "stderr",
     "output_type": "stream",
     "text": [
      "Processing URLs:  13%|█▎        | 35/262 [02:17<10:05,  2.67s/it]"
     ]
    },
    {
     "name": "stdout",
     "output_type": "stream",
     "text": [
      "\n",
      "Processing completed.\n",
      "-------------------------------- \n",
      "\n",
      "2024-03-17 15:05:08 - INFO - Scraping Data from: https://www.eversports.de/s/loft1-basel-city\n",
      "Pole Studio Data: 1 entries\n",
      "Starting URL reconstruction...\n"
     ]
    },
    {
     "name": "stderr",
     "output_type": "stream",
     "text": [
      "2024-03-17 15:05:09,873 - INFO - Processing URL 1/1: https://www.eversports.de/s/poleworkx\n"
     ]
    },
    {
     "name": "stdout",
     "output_type": "stream",
     "text": [
      "Converting to DataFrame...\n",
      "Validating URLs...\n"
     ]
    },
    {
     "name": "stderr",
     "output_type": "stream",
     "text": [
      "2024-03-17 15:05:10,795 - INFO - URL https://www.eversports.de/s/poleworkx is valid.\n"
     ]
    },
    {
     "name": "stdout",
     "output_type": "stream",
     "text": [
      "Scraping Pole Studio Data from https://www.eversports.de/s/poleworkx...\n"
     ]
    },
    {
     "name": "stderr",
     "output_type": "stream",
     "text": [
      "Processing URLs:  14%|█▎        | 36/262 [02:20<09:33,  2.54s/it]"
     ]
    },
    {
     "name": "stdout",
     "output_type": "stream",
     "text": [
      "\n",
      "Processing completed.\n",
      "-------------------------------- \n",
      "\n",
      "2024-03-17 15:05:11 - INFO - Scraping Data from: https://www.eversports.de/s/poleworkx\n",
      "Pole Studio Data: 1 entries\n",
      "Starting URL reconstruction...\n"
     ]
    },
    {
     "name": "stderr",
     "output_type": "stream",
     "text": [
      "Processing URLs:  14%|█▍        | 37/262 [02:20<07:35,  2.02s/it]"
     ]
    },
    {
     "name": "stdout",
     "output_type": "stream",
     "text": [
      "Error during HTTP request: 404 Client Error: Not Found for url: https://www.eversports.de/s/poleria\n",
      "Converting to DataFrame...\n",
      "Validating URLs...\n",
      "\n",
      "Processing completed.\n",
      "-------------------------------- \n",
      "\n",
      "Starting URL reconstruction...\n"
     ]
    },
    {
     "name": "stderr",
     "output_type": "stream",
     "text": [
      "2024-03-17 15:05:13,583 - INFO - Processing URL 1/1: https://www.eversports.de/s/pole-arts\n"
     ]
    },
    {
     "name": "stdout",
     "output_type": "stream",
     "text": [
      "Converting to DataFrame...\n",
      "Validating URLs...\n"
     ]
    },
    {
     "name": "stderr",
     "output_type": "stream",
     "text": [
      "2024-03-17 15:05:14,933 - INFO - URL https://www.eversports.de/s/pole-arts is valid.\n"
     ]
    },
    {
     "name": "stdout",
     "output_type": "stream",
     "text": [
      "Scraping Pole Studio Data from https://www.eversports.de/s/pole-arts...\n"
     ]
    },
    {
     "name": "stderr",
     "output_type": "stream",
     "text": [
      "Processing URLs:  15%|█▍        | 38/262 [02:24<09:06,  2.44s/it]"
     ]
    },
    {
     "name": "stdout",
     "output_type": "stream",
     "text": [
      "\n",
      "Processing completed.\n",
      "-------------------------------- \n",
      "\n",
      "2024-03-17 15:05:15 - INFO - Scraping Data from: https://www.eversports.de/s/pole-arts\n",
      "Pole Studio Data: 1 entries\n",
      "Starting URL reconstruction...\n"
     ]
    },
    {
     "name": "stderr",
     "output_type": "stream",
     "text": [
      "Processing URLs:  15%|█▍        | 39/262 [02:25<07:15,  1.95s/it]"
     ]
    },
    {
     "name": "stdout",
     "output_type": "stream",
     "text": [
      "Error during HTTP request: 404 Client Error: Not Found for url: https://www.eversports.de/s/souldance\n",
      "Converting to DataFrame...\n",
      "Validating URLs...\n",
      "\n",
      "Processing completed.\n",
      "-------------------------------- \n",
      "\n",
      "Starting URL reconstruction...\n"
     ]
    },
    {
     "name": "stderr",
     "output_type": "stream",
     "text": [
      "2024-03-17 15:05:17,712 - INFO - Processing URL 1/1: https://www.eversports.de/s/aerial-studio-arnhem\n"
     ]
    },
    {
     "name": "stdout",
     "output_type": "stream",
     "text": [
      "Converting to DataFrame...\n",
      "Validating URLs...\n"
     ]
    },
    {
     "name": "stderr",
     "output_type": "stream",
     "text": [
      "2024-03-17 15:05:18,825 - INFO - URL https://www.eversports.de/s/aerial-studio-arnhem is valid.\n"
     ]
    },
    {
     "name": "stdout",
     "output_type": "stream",
     "text": [
      "Scraping Pole Studio Data from https://www.eversports.de/s/aerial-studio-arnhem...\n"
     ]
    },
    {
     "name": "stderr",
     "output_type": "stream",
     "text": [
      "Processing URLs:  15%|█▌        | 40/262 [02:28<08:30,  2.30s/it]"
     ]
    },
    {
     "name": "stdout",
     "output_type": "stream",
     "text": [
      "\n",
      "Processing completed.\n",
      "-------------------------------- \n",
      "\n",
      "2024-03-17 15:05:19 - INFO - Scraping Data from: https://www.eversports.de/s/aerial-studio-arnhem\n",
      "Pole Studio Data: 1 entries\n",
      "Starting URL reconstruction...\n"
     ]
    },
    {
     "name": "stderr",
     "output_type": "stream",
     "text": [
      "Processing URLs:  16%|█▌        | 41/262 [02:29<07:48,  2.12s/it]"
     ]
    },
    {
     "name": "stdout",
     "output_type": "stream",
     "text": [
      "Error during HTTP request: 404 Client Error: Not Found for url: https://www.eversports.de/s/poledance-zwickau-e.-v.\n",
      "Converting to DataFrame...\n",
      "Validating URLs...\n",
      "\n",
      "Processing completed.\n",
      "-------------------------------- \n",
      "\n",
      "Starting URL reconstruction...\n"
     ]
    },
    {
     "name": "stderr",
     "output_type": "stream",
     "text": [
      "2024-03-17 15:05:22,212 - INFO - Processing URL 1/2: https://www.eversports.de/s/css-aerial-dance-studio\n"
     ]
    },
    {
     "name": "stdout",
     "output_type": "stream",
     "text": [
      "Converting to DataFrame...\n",
      "Validating URLs...\n"
     ]
    },
    {
     "name": "stderr",
     "output_type": "stream",
     "text": [
      "2024-03-17 15:05:24,542 - INFO - URL https://www.eversports.de/s/css-aerial-dance-studio is valid.\n",
      "2024-03-17 15:05:24,543 - INFO - Processing URL 2/2: https://www.eversports.de/sw/css-aerial-dance-studio\n",
      "2024-03-17 15:05:25,541 - INFO - URL https://www.eversports.de/sw/css-aerial-dance-studio is valid.\n"
     ]
    },
    {
     "name": "stdout",
     "output_type": "stream",
     "text": [
      "Scraping Pole Studio Data from https://www.eversports.de/s/css-aerial-dance-studio...\n",
      "Scraping Workshops Data from https://www.eversports.de/sw/css-aerial-dance-studio...\n",
      "Scraping Workshop Details from https://www.eversports.de/e/workshop/1nKl3tW...\n",
      "Scraping Workshop Details from https://www.eversports.de/e/workshop/T4W36_s...\n",
      "Scraping Workshop Details from https://www.eversports.de/e/workshop/4UBPXcv...\n",
      "Scraping Workshop Details from https://www.eversports.de/e/workshop/JIRXZ-d...\n",
      "Scraping Workshop Details from https://www.eversports.de/e/workshop/MZYsjj7...\n"
     ]
    },
    {
     "name": "stderr",
     "output_type": "stream",
     "text": [
      "Processing URLs:  16%|█▌        | 42/262 [02:42<19:17,  5.26s/it]"
     ]
    },
    {
     "name": "stdout",
     "output_type": "stream",
     "text": [
      "\n",
      "Processing completed.\n",
      "-------------------------------- \n",
      "\n",
      "2024-03-17 15:05:33 - INFO - Scraping Data from: https://www.eversports.de/s/css-aerial-dance-studio\n",
      "Pole Studio Data: 1 entries\n",
      "2024-03-17 15:05:33 - INFO - Scraping Data from: https://www.eversports.de/s/css-aerial-dance-studio\n",
      "Workshops Data: 5 entries\n",
      "2024-03-17 15:05:33 - INFO - Scraping Data from: https://www.eversports.de/s/css-aerial-dance-studio\n",
      "Workshop Details: 5 entries\n",
      "Starting URL reconstruction...\n"
     ]
    },
    {
     "name": "stderr",
     "output_type": "stream",
     "text": [
      "Processing URLs:  16%|█▋        | 43/262 [02:45<16:46,  4.60s/it]"
     ]
    },
    {
     "name": "stdout",
     "output_type": "stream",
     "text": [
      "Error during HTTP request: Exceeded 30 redirects.\n",
      "Converting to DataFrame...\n",
      "Validating URLs...\n",
      "\n",
      "Processing completed.\n",
      "-------------------------------- \n",
      "\n",
      "Starting URL reconstruction...\n"
     ]
    },
    {
     "name": "stderr",
     "output_type": "stream",
     "text": [
      "Processing URLs:  17%|█▋        | 44/262 [02:46<12:36,  3.47s/it]"
     ]
    },
    {
     "name": "stdout",
     "output_type": "stream",
     "text": [
      "Error during HTTP request: 404 Client Error: Not Found for url: https://www.eversports.de/s/studio-fitnessdarling\n",
      "Converting to DataFrame...\n",
      "Validating URLs...\n",
      "\n",
      "Processing completed.\n",
      "-------------------------------- \n",
      "\n",
      "Starting URL reconstruction...\n"
     ]
    },
    {
     "name": "stderr",
     "output_type": "stream",
     "text": [
      "2024-03-17 15:05:38,514 - INFO - Processing URL 1/1: https://www.eversports.de/s/t-tanzstueck-wolfsburg\n"
     ]
    },
    {
     "name": "stdout",
     "output_type": "stream",
     "text": [
      "Converting to DataFrame...\n",
      "Validating URLs...\n"
     ]
    },
    {
     "name": "stderr",
     "output_type": "stream",
     "text": [
      "2024-03-17 15:05:39,509 - INFO - URL https://www.eversports.de/s/t-tanzstueck-wolfsburg is valid.\n"
     ]
    },
    {
     "name": "stdout",
     "output_type": "stream",
     "text": [
      "Scraping Pole Studio Data from https://www.eversports.de/s/t-tanzstueck-wolfsburg...\n"
     ]
    },
    {
     "name": "stderr",
     "output_type": "stream",
     "text": [
      "Processing URLs:  17%|█▋        | 45/262 [02:48<11:29,  3.18s/it]"
     ]
    },
    {
     "name": "stdout",
     "output_type": "stream",
     "text": [
      "\n",
      "Processing completed.\n",
      "-------------------------------- \n",
      "\n",
      "2024-03-17 15:05:39 - INFO - Scraping Data from: https://www.eversports.de/s/t-tanzstueck-wolfsburg\n",
      "Pole Studio Data: 1 entries\n",
      "Starting URL reconstruction...\n"
     ]
    },
    {
     "name": "stderr",
     "output_type": "stream",
     "text": [
      "2024-03-17 15:05:41,164 - INFO - Processing URL 1/2: https://www.eversports.de/s/cheesy-heaven\n"
     ]
    },
    {
     "name": "stdout",
     "output_type": "stream",
     "text": [
      "Converting to DataFrame...\n",
      "Validating URLs...\n"
     ]
    },
    {
     "name": "stderr",
     "output_type": "stream",
     "text": [
      "2024-03-17 15:05:42,241 - INFO - URL https://www.eversports.de/s/cheesy-heaven is valid.\n",
      "2024-03-17 15:05:42,242 - INFO - Processing URL 2/2: https://www.eversports.de/sw/cheesy-heaven\n",
      "2024-03-17 15:05:43,273 - INFO - URL https://www.eversports.de/sw/cheesy-heaven is valid.\n"
     ]
    },
    {
     "name": "stdout",
     "output_type": "stream",
     "text": [
      "Scraping Pole Studio Data from https://www.eversports.de/s/cheesy-heaven...\n",
      "Scraping Workshops Data from https://www.eversports.de/sw/cheesy-heaven...\n",
      "Scraping Workshop Details from https://www.eversports.de/e/workshop/GZK4IEa...\n",
      "Scraping Workshop Details from https://www.eversports.de/e/workshop/JPGCNnm...\n",
      "Scraping Workshop Details from https://www.eversports.de/e/workshop/Uh-BQlV...\n",
      "Scraping Workshop Details from https://www.eversports.de/e/workshop/xgXsW0V...\n"
     ]
    },
    {
     "name": "stderr",
     "output_type": "stream",
     "text": [
      "Processing URLs:  18%|█▊        | 46/262 [02:58<18:44,  5.21s/it]"
     ]
    },
    {
     "name": "stdout",
     "output_type": "stream",
     "text": [
      "\n",
      "Processing completed.\n",
      "-------------------------------- \n",
      "\n",
      "2024-03-17 15:05:49 - INFO - Scraping Data from: https://www.eversports.de/s/cheesy-heaven\n",
      "Pole Studio Data: 1 entries\n",
      "2024-03-17 15:05:49 - INFO - Scraping Data from: https://www.eversports.de/s/cheesy-heaven\n",
      "Workshops Data: 4 entries\n",
      "2024-03-17 15:05:49 - INFO - Scraping Data from: https://www.eversports.de/s/cheesy-heaven\n",
      "Workshop Details: 4 entries\n",
      "Starting URL reconstruction...\n"
     ]
    },
    {
     "name": "stderr",
     "output_type": "stream",
     "text": [
      "Processing URLs:  18%|█▊        | 47/262 [02:59<13:56,  3.89s/it]"
     ]
    },
    {
     "name": "stdout",
     "output_type": "stream",
     "text": [
      "Error during HTTP request: 404 Client Error: Not Found for url: https://www.eversports.de/s/polelove-bremen\n",
      "Converting to DataFrame...\n",
      "Validating URLs...\n",
      "\n",
      "Processing completed.\n",
      "-------------------------------- \n",
      "\n",
      "Starting URL reconstruction...\n"
     ]
    },
    {
     "name": "stderr",
     "output_type": "stream",
     "text": [
      "Processing URLs:  18%|█▊        | 48/262 [03:01<11:11,  3.14s/it]"
     ]
    },
    {
     "name": "stdout",
     "output_type": "stream",
     "text": [
      "Error during HTTP request: 404 Client Error: Not Found for url: https://www.eversports.de/s/pole-%26-tanzwelt\n",
      "Converting to DataFrame...\n",
      "Validating URLs...\n",
      "\n",
      "Processing completed.\n",
      "-------------------------------- \n",
      "\n",
      "Starting URL reconstruction...\n"
     ]
    },
    {
     "name": "stderr",
     "output_type": "stream",
     "text": [
      "Processing URLs:  19%|█▊        | 49/262 [03:03<10:41,  3.01s/it]"
     ]
    },
    {
     "name": "stdout",
     "output_type": "stream",
     "text": [
      "Error during HTTP request: Exceeded 30 redirects.\n",
      "Converting to DataFrame...\n",
      "Validating URLs...\n",
      "\n",
      "Processing completed.\n",
      "-------------------------------- \n",
      "\n",
      "Starting URL reconstruction...\n"
     ]
    },
    {
     "name": "stderr",
     "output_type": "stream",
     "text": [
      "2024-03-17 15:05:55,939 - INFO - Processing URL 1/1: https://www.eversports.de/s/polewirbel\n"
     ]
    },
    {
     "name": "stdout",
     "output_type": "stream",
     "text": [
      "Converting to DataFrame...\n",
      "Validating URLs...\n"
     ]
    },
    {
     "name": "stderr",
     "output_type": "stream",
     "text": [
      "2024-03-17 15:05:57,067 - INFO - URL https://www.eversports.de/s/polewirbel is valid.\n"
     ]
    },
    {
     "name": "stdout",
     "output_type": "stream",
     "text": [
      "Scraping Pole Studio Data from https://www.eversports.de/s/polewirbel...\n"
     ]
    },
    {
     "name": "stderr",
     "output_type": "stream",
     "text": [
      "Processing URLs:  19%|█▉        | 50/262 [03:06<10:42,  3.03s/it]"
     ]
    },
    {
     "name": "stdout",
     "output_type": "stream",
     "text": [
      "\n",
      "Processing completed.\n",
      "-------------------------------- \n",
      "\n",
      "2024-03-17 15:05:57 - INFO - Scraping Data from: https://www.eversports.de/s/polewirbel\n",
      "Pole Studio Data: 1 entries\n",
      "Starting URL reconstruction...\n"
     ]
    },
    {
     "name": "stderr",
     "output_type": "stream",
     "text": [
      "Processing URLs:  19%|█▉        | 51/262 [03:07<08:30,  2.42s/it]"
     ]
    },
    {
     "name": "stdout",
     "output_type": "stream",
     "text": [
      "Error during HTTP request: 404 Client Error: Not Found for url: https://www.eversports.de/s/aerial-art-poledance-country-base\n",
      "Converting to DataFrame...\n",
      "Validating URLs...\n",
      "\n",
      "Processing completed.\n",
      "-------------------------------- \n",
      "\n",
      "Starting URL reconstruction...\n"
     ]
    },
    {
     "name": "stderr",
     "output_type": "stream",
     "text": [
      "Processing URLs:  20%|█▉        | 52/262 [03:09<08:02,  2.30s/it]"
     ]
    },
    {
     "name": "stdout",
     "output_type": "stream",
     "text": [
      "Error during HTTP request: 404 Client Error: Not Found for url: https://www.eversports.de/s/mmc-dance-studio\n",
      "Converting to DataFrame...\n",
      "Validating URLs...\n",
      "\n",
      "Processing completed.\n",
      "-------------------------------- \n",
      "\n",
      "Starting URL reconstruction...\n"
     ]
    },
    {
     "name": "stderr",
     "output_type": "stream",
     "text": [
      "2024-03-17 15:06:02,850 - INFO - Processing URL 1/2: https://www.eversports.de/s/fly-and-flow-studio\n"
     ]
    },
    {
     "name": "stdout",
     "output_type": "stream",
     "text": [
      "Converting to DataFrame...\n",
      "Validating URLs...\n"
     ]
    },
    {
     "name": "stderr",
     "output_type": "stream",
     "text": [
      "2024-03-17 15:06:04,467 - INFO - URL https://www.eversports.de/s/fly-and-flow-studio is valid.\n",
      "2024-03-17 15:06:04,468 - INFO - Processing URL 2/2: https://www.eversports.de/sw/fly-and-flow-studio\n",
      "2024-03-17 15:06:05,312 - INFO - URL https://www.eversports.de/sw/fly-and-flow-studio is not valid.\n"
     ]
    },
    {
     "name": "stdout",
     "output_type": "stream",
     "text": [
      "Scraping Pole Studio Data from https://www.eversports.de/s/fly-and-flow-studio...\n"
     ]
    },
    {
     "name": "stderr",
     "output_type": "stream",
     "text": [
      "Processing URLs:  20%|██        | 53/262 [03:18<14:30,  4.17s/it]"
     ]
    },
    {
     "name": "stdout",
     "output_type": "stream",
     "text": [
      "\n",
      "Processing completed.\n",
      "-------------------------------- \n",
      "\n",
      "2024-03-17 15:06:09 - INFO - Scraping Data from: https://www.eversports.nl/s/fly-and-flow-studio\n",
      "Pole Studio Data: 1 entries\n",
      "Starting URL reconstruction...\n"
     ]
    },
    {
     "name": "stderr",
     "output_type": "stream",
     "text": [
      "Processing URLs:  21%|██        | 54/262 [03:20<12:12,  3.52s/it]"
     ]
    },
    {
     "name": "stdout",
     "output_type": "stream",
     "text": [
      "Error during HTTP request: 404 Client Error: Not Found for url: https://www.eversports.de/s/tanzteufel-emmendingen\n",
      "Converting to DataFrame...\n",
      "Validating URLs...\n",
      "\n",
      "Processing completed.\n",
      "-------------------------------- \n",
      "\n",
      "Starting URL reconstruction...\n"
     ]
    },
    {
     "name": "stderr",
     "output_type": "stream",
     "text": [
      "Processing URLs:  21%|██        | 55/262 [03:21<09:26,  2.73s/it]"
     ]
    },
    {
     "name": "stdout",
     "output_type": "stream",
     "text": [
      "Error during HTTP request: 404 Client Error: Not Found for url: https://www.eversports.de/s/wildheart-yoga-%26-pole-dance\n",
      "Converting to DataFrame...\n",
      "Validating URLs...\n",
      "\n",
      "Processing completed.\n",
      "-------------------------------- \n",
      "\n",
      "Starting URL reconstruction...\n"
     ]
    },
    {
     "name": "stderr",
     "output_type": "stream",
     "text": [
      "Processing URLs:  21%|██▏       | 56/262 [03:22<07:29,  2.18s/it]"
     ]
    },
    {
     "name": "stdout",
     "output_type": "stream",
     "text": [
      "Error during HTTP request: 404 Client Error: Not Found for url: https://www.eversports.de/s/schwerelos-bochum\n",
      "Converting to DataFrame...\n",
      "Validating URLs...\n",
      "\n",
      "Processing completed.\n",
      "-------------------------------- \n",
      "\n",
      "Starting URL reconstruction...\n"
     ]
    },
    {
     "name": "stderr",
     "output_type": "stream",
     "text": [
      "2024-03-17 15:06:15,578 - INFO - Processing URL 1/2: https://www.eversports.de/s/flexx-arts-aerial-dance-and-fitness\n"
     ]
    },
    {
     "name": "stdout",
     "output_type": "stream",
     "text": [
      "Converting to DataFrame...\n",
      "Validating URLs...\n"
     ]
    },
    {
     "name": "stderr",
     "output_type": "stream",
     "text": [
      "2024-03-17 15:06:16,738 - INFO - URL https://www.eversports.de/s/flexx-arts-aerial-dance-and-fitness is valid.\n",
      "2024-03-17 15:06:16,739 - INFO - Processing URL 2/2: https://www.eversports.de/sw/flexx-arts-aerial-dance-and-fitness\n",
      "2024-03-17 15:06:17,576 - INFO - URL https://www.eversports.de/sw/flexx-arts-aerial-dance-and-fitness is valid.\n"
     ]
    },
    {
     "name": "stdout",
     "output_type": "stream",
     "text": [
      "Scraping Pole Studio Data from https://www.eversports.de/s/flexx-arts-aerial-dance-and-fitness...\n",
      "Scraping Workshops Data from https://www.eversports.de/sw/flexx-arts-aerial-dance-and-fitness...\n",
      "Scraping Workshop Details from https://www.eversports.de/e/workshop/M_fy619...\n"
     ]
    },
    {
     "name": "stderr",
     "output_type": "stream",
     "text": [
      "Processing URLs:  22%|██▏       | 57/262 [03:28<12:02,  3.53s/it]"
     ]
    },
    {
     "name": "stdout",
     "output_type": "stream",
     "text": [
      "\n",
      "Processing completed.\n",
      "-------------------------------- \n",
      "\n",
      "2024-03-17 15:06:19 - INFO - Scraping Data from: https://www.eversports.de/s/flexx-arts-aerial-dance-and-fitness\n",
      "Pole Studio Data: 1 entries\n",
      "2024-03-17 15:06:19 - INFO - Scraping Data from: https://www.eversports.de/s/flexx-arts-aerial-dance-and-fitness\n",
      "Workshops Data: 1 entries\n",
      "2024-03-17 15:06:19 - INFO - Scraping Data from: https://www.eversports.de/s/flexx-arts-aerial-dance-and-fitness\n",
      "Workshop Details: 1 entries\n",
      "Starting URL reconstruction...\n"
     ]
    },
    {
     "name": "stderr",
     "output_type": "stream",
     "text": [
      "2024-03-17 15:06:21,533 - INFO - Processing URL 1/2: https://www.eversports.de/s/poda-studio\n"
     ]
    },
    {
     "name": "stdout",
     "output_type": "stream",
     "text": [
      "Converting to DataFrame...\n",
      "Validating URLs...\n"
     ]
    },
    {
     "name": "stderr",
     "output_type": "stream",
     "text": [
      "2024-03-17 15:06:22,578 - INFO - URL https://www.eversports.de/s/poda-studio is valid.\n",
      "2024-03-17 15:06:22,579 - INFO - Processing URL 2/2: https://www.eversports.de/sw/poda-studio\n",
      "2024-03-17 15:06:23,457 - INFO - URL https://www.eversports.de/sw/poda-studio is valid.\n"
     ]
    },
    {
     "name": "stdout",
     "output_type": "stream",
     "text": [
      "Scraping Pole Studio Data from https://www.eversports.de/s/poda-studio...\n",
      "Scraping Workshops Data from https://www.eversports.de/sw/poda-studio...\n",
      "Scraping Workshop Details from https://www.eversports.de/e/workshop/9PbaXsNu8...\n",
      "Scraping Workshop Details from https://www.eversports.de/e/workshop/2f93D4_...\n",
      "Scraping Workshop Details from https://www.eversports.de/e/workshop/PvCEvqtn_...\n",
      "Scraping Workshop Details from https://www.eversports.de/e/workshop/MkpHwj8...\n"
     ]
    },
    {
     "name": "stderr",
     "output_type": "stream",
     "text": [
      "Processing URLs:  22%|██▏       | 58/262 [03:38<18:15,  5.37s/it]"
     ]
    },
    {
     "name": "stdout",
     "output_type": "stream",
     "text": [
      "\n",
      "Processing completed.\n",
      "-------------------------------- \n",
      "\n",
      "2024-03-17 15:06:29 - INFO - Scraping Data from: https://www.eversports.de/s/poda-studio\n",
      "Pole Studio Data: 1 entries\n",
      "2024-03-17 15:06:29 - INFO - Scraping Data from: https://www.eversports.de/s/poda-studio\n",
      "Workshops Data: 4 entries\n",
      "2024-03-17 15:06:29 - INFO - Scraping Data from: https://www.eversports.de/s/poda-studio\n",
      "Workshop Details: 4 entries\n",
      "Starting URL reconstruction...\n"
     ]
    },
    {
     "name": "stderr",
     "output_type": "stream",
     "text": [
      "2024-03-17 15:06:30,728 - INFO - Processing URL 1/1: https://www.eversports.de/s/the-pole-jungle\n"
     ]
    },
    {
     "name": "stdout",
     "output_type": "stream",
     "text": [
      "Converting to DataFrame...\n",
      "Validating URLs...\n"
     ]
    },
    {
     "name": "stderr",
     "output_type": "stream",
     "text": [
      "2024-03-17 15:06:31,739 - INFO - URL https://www.eversports.de/s/the-pole-jungle is valid.\n"
     ]
    },
    {
     "name": "stdout",
     "output_type": "stream",
     "text": [
      "Scraping Pole Studio Data from https://www.eversports.de/s/the-pole-jungle...\n"
     ]
    },
    {
     "name": "stderr",
     "output_type": "stream",
     "text": [
      "Processing URLs:  23%|██▎       | 59/262 [03:41<15:17,  4.52s/it]"
     ]
    },
    {
     "name": "stdout",
     "output_type": "stream",
     "text": [
      "\n",
      "Processing completed.\n",
      "-------------------------------- \n",
      "\n",
      "2024-03-17 15:06:32 - INFO - Scraping Data from: https://www.eversports.de/s/the-pole-jungle\n",
      "Pole Studio Data: 1 entries\n",
      "Starting URL reconstruction...\n"
     ]
    },
    {
     "name": "stderr",
     "output_type": "stream",
     "text": [
      "2024-03-17 15:06:35,501 - INFO - Processing URL 1/1: https://www.eversports.de/s/polefitness-leipzig\n"
     ]
    },
    {
     "name": "stdout",
     "output_type": "stream",
     "text": [
      "Converting to DataFrame...\n",
      "Validating URLs...\n"
     ]
    },
    {
     "name": "stderr",
     "output_type": "stream",
     "text": [
      "2024-03-17 15:06:36,658 - INFO - URL https://www.eversports.de/s/polefitness-leipzig is valid.\n"
     ]
    },
    {
     "name": "stdout",
     "output_type": "stream",
     "text": [
      "Scraping Pole Studio Data from https://www.eversports.de/s/polefitness-leipzig...\n"
     ]
    },
    {
     "name": "stderr",
     "output_type": "stream",
     "text": [
      "Processing URLs:  23%|██▎       | 60/262 [03:46<15:38,  4.64s/it]"
     ]
    },
    {
     "name": "stdout",
     "output_type": "stream",
     "text": [
      "\n",
      "Processing completed.\n",
      "-------------------------------- \n",
      "\n",
      "2024-03-17 15:06:37 - INFO - Scraping Data from: https://www.eversports.de/s/polefitness-leipzig\n",
      "Pole Studio Data: 1 entries\n",
      "Starting URL reconstruction...\n"
     ]
    },
    {
     "name": "stderr",
     "output_type": "stream",
     "text": [
      "2024-03-17 15:06:37,930 - INFO - Processing URL 1/1: https://www.eversports.de/s/team\n"
     ]
    },
    {
     "name": "stdout",
     "output_type": "stream",
     "text": [
      "Converting to DataFrame...\n",
      "Validating URLs...\n"
     ]
    },
    {
     "name": "stderr",
     "output_type": "stream",
     "text": [
      "2024-03-17 15:06:38,780 - INFO - URL https://www.eversports.de/s/team is not valid.\n",
      "Processing URLs:  23%|██▎       | 61/262 [03:47<12:39,  3.78s/it]"
     ]
    },
    {
     "name": "stdout",
     "output_type": "stream",
     "text": [
      "\n",
      "Processing completed.\n",
      "-------------------------------- \n",
      "\n",
      "Starting URL reconstruction...\n"
     ]
    },
    {
     "name": "stderr",
     "output_type": "stream",
     "text": [
      "Processing URLs:  24%|██▎       | 62/262 [03:48<09:45,  2.93s/it]"
     ]
    },
    {
     "name": "stdout",
     "output_type": "stream",
     "text": [
      "Error during HTTP request: 404 Client Error: Not Found for url: https://www.eversports.de/s/satori-pole-dance-potsdam\n",
      "Converting to DataFrame...\n",
      "Validating URLs...\n",
      "\n",
      "Processing completed.\n",
      "-------------------------------- \n",
      "\n",
      "Starting URL reconstruction...\n"
     ]
    },
    {
     "name": "stderr",
     "output_type": "stream",
     "text": [
      "Processing URLs:  24%|██▍       | 63/262 [03:49<07:41,  2.32s/it]"
     ]
    },
    {
     "name": "stdout",
     "output_type": "stream",
     "text": [
      "Error during HTTP request: 404 Client Error: Not Found for url: https://www.eversports.de/s/pole-dance-trier\n",
      "Converting to DataFrame...\n",
      "Validating URLs...\n",
      "\n",
      "Processing completed.\n",
      "-------------------------------- \n",
      "\n",
      "Starting URL reconstruction...\n"
     ]
    },
    {
     "name": "stderr",
     "output_type": "stream",
     "text": [
      "Processing URLs:  24%|██▍       | 64/262 [03:50<06:13,  1.89s/it]"
     ]
    },
    {
     "name": "stdout",
     "output_type": "stream",
     "text": [
      "Error during HTTP request: 404 Client Error: Not Found for url: https://www.eversports.de/s/polestudio-neuss\n",
      "Converting to DataFrame...\n",
      "Validating URLs...\n",
      "\n",
      "Processing completed.\n",
      "-------------------------------- \n",
      "\n",
      "Starting URL reconstruction...\n"
     ]
    },
    {
     "name": "stderr",
     "output_type": "stream",
     "text": [
      "Processing URLs:  25%|██▍       | 65/262 [03:51<05:08,  1.57s/it]"
     ]
    },
    {
     "name": "stdout",
     "output_type": "stream",
     "text": [
      "Error during HTTP request: 404 Client Error: Not Found for url: https://www.eversports.de/s/pole-dance-%26-fitness\n",
      "Converting to DataFrame...\n",
      "Validating URLs...\n",
      "\n",
      "Processing completed.\n",
      "-------------------------------- \n",
      "\n",
      "Starting URL reconstruction...\n"
     ]
    },
    {
     "name": "stderr",
     "output_type": "stream",
     "text": [
      "Processing URLs:  25%|██▌       | 66/262 [03:52<04:52,  1.49s/it]"
     ]
    },
    {
     "name": "stdout",
     "output_type": "stream",
     "text": [
      "Error during HTTP request: 404 Client Error: Not Found for url: https://www.eversports.de/s/polemotions-gp\n",
      "Converting to DataFrame...\n",
      "Validating URLs...\n",
      "\n",
      "Processing completed.\n",
      "-------------------------------- \n",
      "\n",
      "Starting URL reconstruction...\n"
     ]
    },
    {
     "name": "stderr",
     "output_type": "stream",
     "text": [
      "Processing URLs:  26%|██▌       | 67/262 [03:56<07:21,  2.26s/it]"
     ]
    },
    {
     "name": "stdout",
     "output_type": "stream",
     "text": [
      "Error during HTTP request: Exceeded 30 redirects.\n",
      "Converting to DataFrame...\n",
      "Validating URLs...\n",
      "\n",
      "Processing completed.\n",
      "-------------------------------- \n",
      "\n",
      "Starting URL reconstruction...\n"
     ]
    },
    {
     "name": "stderr",
     "output_type": "stream",
     "text": [
      "Processing URLs:  26%|██▌       | 68/262 [03:57<05:56,  1.84s/it]"
     ]
    },
    {
     "name": "stdout",
     "output_type": "stream",
     "text": [
      "Error during HTTP request: 404 Client Error: Not Found for url: https://www.eversports.de/s/freaky-pole-cats-schwandorf\n",
      "Converting to DataFrame...\n",
      "Validating URLs...\n",
      "\n",
      "Processing completed.\n",
      "-------------------------------- \n",
      "\n",
      "Starting URL reconstruction...\n"
     ]
    },
    {
     "name": "stderr",
     "output_type": "stream",
     "text": [
      "2024-03-17 15:06:51,638 - INFO - Processing URL 1/1: https://www.eversports.de/s/air-dance-school-uccle-et-bla\n"
     ]
    },
    {
     "name": "stdout",
     "output_type": "stream",
     "text": [
      "Converting to DataFrame...\n",
      "Validating URLs...\n"
     ]
    },
    {
     "name": "stderr",
     "output_type": "stream",
     "text": [
      "2024-03-17 15:06:53,061 - INFO - URL https://www.eversports.de/s/air-dance-school-uccle-et-bla is valid.\n"
     ]
    },
    {
     "name": "stdout",
     "output_type": "stream",
     "text": [
      "Scraping Pole Studio Data from https://www.eversports.de/s/air-dance-school-uccle-et-bla...\n"
     ]
    },
    {
     "name": "stderr",
     "output_type": "stream",
     "text": [
      "Processing URLs:  26%|██▋       | 69/262 [04:02<08:47,  2.74s/it]"
     ]
    },
    {
     "name": "stdout",
     "output_type": "stream",
     "text": [
      "\n",
      "Processing completed.\n",
      "-------------------------------- \n",
      "\n",
      "2024-03-17 15:06:53 - INFO - Scraping Data from: https://www.eversports.be/s/air-dance-school-uccle-et-bla\n",
      "Pole Studio Data: 1 entries\n",
      "Starting URL reconstruction...\n"
     ]
    },
    {
     "name": "stderr",
     "output_type": "stream",
     "text": [
      "Processing URLs:  27%|██▋       | 70/262 [04:03<07:04,  2.21s/it]"
     ]
    },
    {
     "name": "stdout",
     "output_type": "stream",
     "text": [
      "Error during HTTP request: 404 Client Error: Not Found for url: https://www.eversports.de/s/pole-fit-plauen\n",
      "Converting to DataFrame...\n",
      "Validating URLs...\n",
      "\n",
      "Processing completed.\n",
      "-------------------------------- \n",
      "\n",
      "Starting URL reconstruction...\n"
     ]
    },
    {
     "name": "stderr",
     "output_type": "stream",
     "text": [
      "2024-03-17 15:06:55,461 - INFO - Processing URL 1/1: https://www.eversports.de/s/the-supergirl-studio\n"
     ]
    },
    {
     "name": "stdout",
     "output_type": "stream",
     "text": [
      "Converting to DataFrame...\n",
      "Validating URLs...\n"
     ]
    },
    {
     "name": "stderr",
     "output_type": "stream",
     "text": [
      "2024-03-17 15:06:56,592 - INFO - URL https://www.eversports.de/s/the-supergirl-studio is valid.\n"
     ]
    },
    {
     "name": "stdout",
     "output_type": "stream",
     "text": [
      "Scraping Pole Studio Data from https://www.eversports.de/s/the-supergirl-studio...\n"
     ]
    },
    {
     "name": "stderr",
     "output_type": "stream",
     "text": [
      "Processing URLs:  27%|██▋       | 71/262 [04:06<07:49,  2.46s/it]"
     ]
    },
    {
     "name": "stdout",
     "output_type": "stream",
     "text": [
      "\n",
      "Processing completed.\n",
      "-------------------------------- \n",
      "\n",
      "2024-03-17 15:06:57 - INFO - Scraping Data from: https://www.eversports.de/s/the-supergirl-studio\n",
      "Pole Studio Data: 1 entries\n",
      "Starting URL reconstruction...\n"
     ]
    },
    {
     "name": "stderr",
     "output_type": "stream",
     "text": [
      "2024-03-17 15:06:58,651 - INFO - Processing URL 1/2: https://www.eversports.de/s/polemotions-tuebingen\n"
     ]
    },
    {
     "name": "stdout",
     "output_type": "stream",
     "text": [
      "Converting to DataFrame...\n",
      "Validating URLs...\n"
     ]
    },
    {
     "name": "stderr",
     "output_type": "stream",
     "text": [
      "2024-03-17 15:06:59,788 - INFO - URL https://www.eversports.de/s/polemotions-tuebingen is valid.\n",
      "2024-03-17 15:06:59,789 - INFO - Processing URL 2/2: https://www.eversports.de/sw/polemotions-tuebingen\n",
      "2024-03-17 15:07:00,857 - INFO - URL https://www.eversports.de/sw/polemotions-tuebingen is valid.\n"
     ]
    },
    {
     "name": "stdout",
     "output_type": "stream",
     "text": [
      "Scraping Pole Studio Data from https://www.eversports.de/s/polemotions-tuebingen...\n",
      "Scraping Workshops Data from https://www.eversports.de/sw/polemotions-tuebingen...\n",
      "Scraping Workshop Details from https://www.eversports.de/e/workshop/UYuCTj6...\n",
      "Scraping Workshop Details from https://www.eversports.de/e/workshop/vXi2jGj...\n",
      "Scraping Workshop Details from https://www.eversports.de/e/workshop/woXQI80...\n",
      "Scraping Workshop Details from https://www.eversports.de/e/workshop/CFxNSNG...\n",
      "Scraping Workshop Details from https://www.eversports.de/e/workshop/DzB-CQn...\n",
      "Scraping Workshop Details from https://www.eversports.de/e/workshop/r5bkRb_...\n"
     ]
    },
    {
     "name": "stderr",
     "output_type": "stream",
     "text": [
      "Processing URLs:  27%|██▋       | 72/262 [04:26<24:36,  7.77s/it]"
     ]
    },
    {
     "name": "stdout",
     "output_type": "stream",
     "text": [
      "\n",
      "Processing completed.\n",
      "-------------------------------- \n",
      "\n",
      "2024-03-17 15:07:17 - INFO - Scraping Data from: https://www.eversports.de/s/polemotions-tuebingen\n",
      "Pole Studio Data: 1 entries\n",
      "2024-03-17 15:07:17 - INFO - Scraping Data from: https://www.eversports.de/s/polemotions-tuebingen\n",
      "Workshops Data: 6 entries\n",
      "2024-03-17 15:07:17 - INFO - Scraping Data from: https://www.eversports.de/s/polemotions-tuebingen\n",
      "Workshop Details: 6 entries\n",
      "Starting URL reconstruction...\n"
     ]
    },
    {
     "name": "stderr",
     "output_type": "stream",
     "text": [
      "2024-03-17 15:07:18,666 - INFO - Processing URL 1/2: https://www.eversports.de/s/seemannsbraut-poledance\n"
     ]
    },
    {
     "name": "stdout",
     "output_type": "stream",
     "text": [
      "Converting to DataFrame...\n",
      "Validating URLs...\n"
     ]
    },
    {
     "name": "stderr",
     "output_type": "stream",
     "text": [
      "2024-03-17 15:07:19,793 - INFO - URL https://www.eversports.de/s/seemannsbraut-poledance is valid.\n",
      "2024-03-17 15:07:19,794 - INFO - Processing URL 2/2: https://www.eversports.de/sw/seemannsbraut-poledance\n",
      "2024-03-17 15:07:20,662 - INFO - URL https://www.eversports.de/sw/seemannsbraut-poledance is valid.\n"
     ]
    },
    {
     "name": "stdout",
     "output_type": "stream",
     "text": [
      "Scraping Pole Studio Data from https://www.eversports.de/s/seemannsbraut-poledance...\n",
      "Scraping Workshops Data from https://www.eversports.de/sw/seemannsbraut-poledance...\n",
      "Scraping Workshop Details from https://www.eversports.de/e/workshop/ziaHmeW...\n",
      "Scraping Workshop Details from https://www.eversports.de/e/workshop/zBoJPTa...\n"
     ]
    },
    {
     "name": "stderr",
     "output_type": "stream",
     "text": [
      "Processing URLs:  28%|██▊       | 73/262 [04:33<23:23,  7.42s/it]"
     ]
    },
    {
     "name": "stdout",
     "output_type": "stream",
     "text": [
      "\n",
      "Processing completed.\n",
      "-------------------------------- \n",
      "\n",
      "2024-03-17 15:07:24 - INFO - Scraping Data from: https://www.eversports.de/s/seemannsbraut-poledance\n",
      "Pole Studio Data: 1 entries\n",
      "2024-03-17 15:07:24 - INFO - Scraping Data from: https://www.eversports.de/s/seemannsbraut-poledance\n",
      "Workshops Data: 2 entries\n",
      "2024-03-17 15:07:24 - INFO - Scraping Data from: https://www.eversports.de/s/seemannsbraut-poledance\n",
      "Workshop Details: 2 entries\n",
      "Starting URL reconstruction...\n"
     ]
    },
    {
     "name": "stderr",
     "output_type": "stream",
     "text": [
      "Processing URLs:  28%|██▊       | 74/262 [04:35<18:21,  5.86s/it]"
     ]
    },
    {
     "name": "stdout",
     "output_type": "stream",
     "text": [
      "Error during HTTP request: 404 Client Error: Not Found for url: https://www.eversports.de/s/stretch-%26-pole\n",
      "Converting to DataFrame...\n",
      "Validating URLs...\n",
      "\n",
      "Processing completed.\n",
      "-------------------------------- \n",
      "\n",
      "Starting URL reconstruction...\n"
     ]
    },
    {
     "name": "stderr",
     "output_type": "stream",
     "text": [
      "2024-03-17 15:07:27,540 - INFO - Processing URL 1/1: https://www.eversports.de/s/soul-flight\n"
     ]
    },
    {
     "name": "stdout",
     "output_type": "stream",
     "text": [
      "Converting to DataFrame...\n",
      "Validating URLs...\n"
     ]
    },
    {
     "name": "stderr",
     "output_type": "stream",
     "text": [
      "2024-03-17 15:07:28,577 - INFO - URL https://www.eversports.de/s/soul-flight is valid.\n"
     ]
    },
    {
     "name": "stdout",
     "output_type": "stream",
     "text": [
      "Scraping Pole Studio Data from https://www.eversports.de/s/soul-flight...\n"
     ]
    },
    {
     "name": "stderr",
     "output_type": "stream",
     "text": [
      "Processing URLs:  29%|██▊       | 75/262 [04:37<15:07,  4.85s/it]"
     ]
    },
    {
     "name": "stdout",
     "output_type": "stream",
     "text": [
      "\n",
      "Processing completed.\n",
      "-------------------------------- \n",
      "\n",
      "2024-03-17 15:07:28 - INFO - Scraping Data from: https://www.eversports.de/s/soul-flight\n",
      "Pole Studio Data: 1 entries\n",
      "Starting URL reconstruction...\n"
     ]
    },
    {
     "name": "stderr",
     "output_type": "stream",
     "text": [
      "Processing URLs:  29%|██▉       | 76/262 [04:42<14:58,  4.83s/it]"
     ]
    },
    {
     "name": "stdout",
     "output_type": "stream",
     "text": [
      "Error during HTTP request: Exceeded 30 redirects.\n",
      "Converting to DataFrame...\n",
      "Validating URLs...\n",
      "\n",
      "Processing completed.\n",
      "-------------------------------- \n",
      "\n",
      "Starting URL reconstruction...\n"
     ]
    },
    {
     "name": "stderr",
     "output_type": "stream",
     "text": [
      "Processing URLs:  29%|██▉       | 77/262 [04:43<11:12,  3.64s/it]"
     ]
    },
    {
     "name": "stdout",
     "output_type": "stream",
     "text": [
      "Error during HTTP request: 404 Client Error: Not Found for url: https://www.eversports.de/s/lift-off-poledance-academy-viersen\n",
      "Converting to DataFrame...\n",
      "Validating URLs...\n",
      "\n",
      "Processing completed.\n",
      "-------------------------------- \n",
      "\n",
      "Starting URL reconstruction...\n"
     ]
    },
    {
     "name": "stderr",
     "output_type": "stream",
     "text": [
      "2024-03-17 15:07:35,493 - INFO - Processing URL 1/1: https://www.eversports.de/s/poleart_inspiration\n"
     ]
    },
    {
     "name": "stdout",
     "output_type": "stream",
     "text": [
      "Converting to DataFrame...\n",
      "Validating URLs...\n"
     ]
    },
    {
     "name": "stderr",
     "output_type": "stream",
     "text": [
      "2024-03-17 15:07:36,508 - INFO - URL https://www.eversports.de/s/poleart_inspiration is valid.\n"
     ]
    },
    {
     "name": "stdout",
     "output_type": "stream",
     "text": [
      "Scraping Pole Studio Data from https://www.eversports.de/s/poleart_inspiration...\n"
     ]
    },
    {
     "name": "stderr",
     "output_type": "stream",
     "text": [
      "Processing URLs:  30%|██▉       | 78/262 [04:45<09:54,  3.23s/it]"
     ]
    },
    {
     "name": "stdout",
     "output_type": "stream",
     "text": [
      "\n",
      "Processing completed.\n",
      "-------------------------------- \n",
      "\n",
      "2024-03-17 15:07:36 - INFO - Scraping Data from: https://www.eversports.de/s/poleart_inspiration\n",
      "Pole Studio Data: 1 entries\n",
      "Starting URL reconstruction...\n"
     ]
    },
    {
     "name": "stderr",
     "output_type": "stream",
     "text": [
      "Processing URLs:  30%|███       | 79/262 [04:46<07:42,  2.53s/it]"
     ]
    },
    {
     "name": "stdout",
     "output_type": "stream",
     "text": [
      "Error during HTTP request: 404 Client Error: Not Found for url: https://www.eversports.de/s/crazysports-augsburg\n",
      "Converting to DataFrame...\n",
      "Validating URLs...\n",
      "\n",
      "Processing completed.\n",
      "-------------------------------- \n",
      "\n",
      "Starting URL reconstruction...\n"
     ]
    },
    {
     "name": "stderr",
     "output_type": "stream",
     "text": [
      "2024-03-17 15:07:41,195 - INFO - Processing URL 1/1: https://www.eversports.de/s/spin-up\n"
     ]
    },
    {
     "name": "stdout",
     "output_type": "stream",
     "text": [
      "Converting to DataFrame...\n",
      "Validating URLs...\n"
     ]
    },
    {
     "name": "stderr",
     "output_type": "stream",
     "text": [
      "2024-03-17 15:07:42,191 - INFO - URL https://www.eversports.de/s/spin-up is valid.\n"
     ]
    },
    {
     "name": "stdout",
     "output_type": "stream",
     "text": [
      "Scraping Pole Studio Data from https://www.eversports.de/s/spin-up...\n"
     ]
    },
    {
     "name": "stderr",
     "output_type": "stream",
     "text": [
      "Processing URLs:  31%|███       | 80/262 [04:51<09:52,  3.25s/it]"
     ]
    },
    {
     "name": "stdout",
     "output_type": "stream",
     "text": [
      "\n",
      "Processing completed.\n",
      "-------------------------------- \n",
      "\n",
      "2024-03-17 15:07:42 - INFO - Scraping Data from: https://www.eversports.ch/s/spin-up\n",
      "Pole Studio Data: 1 entries\n",
      "Starting URL reconstruction...\n"
     ]
    },
    {
     "name": "stderr",
     "output_type": "stream",
     "text": [
      "Processing URLs:  31%|███       | 81/262 [04:52<07:40,  2.54s/it]"
     ]
    },
    {
     "name": "stdout",
     "output_type": "stream",
     "text": [
      "Error during HTTP request: 404 Client Error: Not Found for url: https://www.eversports.de/s/zero-gravity-pole\n",
      "Converting to DataFrame...\n",
      "Validating URLs...\n",
      "\n",
      "Processing completed.\n",
      "-------------------------------- \n",
      "\n",
      "Starting URL reconstruction...\n"
     ]
    },
    {
     "name": "stderr",
     "output_type": "stream",
     "text": [
      "Processing URLs:  31%|███▏      | 82/262 [04:54<06:50,  2.28s/it]"
     ]
    },
    {
     "name": "stdout",
     "output_type": "stream",
     "text": [
      "Error during HTTP request: 404 Client Error: Not Found for url: https://www.eversports.de/s/lea-aqua\n",
      "Converting to DataFrame...\n",
      "Validating URLs...\n",
      "\n",
      "Processing completed.\n",
      "-------------------------------- \n",
      "\n",
      "Starting URL reconstruction...\n"
     ]
    },
    {
     "name": "stderr",
     "output_type": "stream",
     "text": [
      "Processing URLs:  32%|███▏      | 83/262 [04:55<05:30,  1.85s/it]"
     ]
    },
    {
     "name": "stdout",
     "output_type": "stream",
     "text": [
      "Error during HTTP request: 404 Client Error: Not Found for url: https://www.eversports.de/s/freaky-pole-cats-cham\n",
      "Converting to DataFrame...\n",
      "Validating URLs...\n",
      "\n",
      "Processing completed.\n",
      "-------------------------------- \n",
      "\n",
      "Starting URL reconstruction...\n"
     ]
    },
    {
     "name": "stderr",
     "output_type": "stream",
     "text": [
      "2024-03-17 15:07:48,363 - INFO - Processing URL 1/2: https://www.eversports.de/s/aerial-loft\n"
     ]
    },
    {
     "name": "stdout",
     "output_type": "stream",
     "text": [
      "Converting to DataFrame...\n",
      "Validating URLs...\n"
     ]
    },
    {
     "name": "stderr",
     "output_type": "stream",
     "text": [
      "2024-03-17 15:07:49,494 - INFO - URL https://www.eversports.de/s/aerial-loft is valid.\n",
      "2024-03-17 15:07:49,496 - INFO - Processing URL 2/2: https://www.eversports.de/sw/aerial-loft\n",
      "2024-03-17 15:07:50,649 - INFO - URL https://www.eversports.de/sw/aerial-loft is valid.\n"
     ]
    },
    {
     "name": "stdout",
     "output_type": "stream",
     "text": [
      "Scraping Pole Studio Data from https://www.eversports.de/s/aerial-loft...\n",
      "Scraping Workshops Data from https://www.eversports.de/sw/aerial-loft...\n",
      "Scraping Workshop Details from https://www.eversports.de/e/workshop/385OcZZ...\n",
      "Scraping Workshop Details from https://www.eversports.de/e/workshop/rhsldmK...\n",
      "Scraping Workshop Details from https://www.eversports.de/e/workshop/H_FW2CU...\n",
      "Scraping Workshop Details from https://www.eversports.de/e/workshop/9jN2M0O...\n",
      "Scraping Workshop Details from https://www.eversports.de/e/workshop/arPk7c0...\n",
      "Scraping Workshop Details from https://www.eversports.de/e/workshop/Q6hZf6T...\n",
      "Scraping Workshop Details from https://www.eversports.de/e/workshop/NZ8aYy_...\n",
      "Scraping Workshop Details from https://www.eversports.de/e/workshop/cgyyB74...\n",
      "Scraping Workshop Details from https://www.eversports.de/e/workshop/CWjYFza...\n",
      "Scraping Workshop Details from https://www.eversports.de/e/workshop/rsNPqo-...\n",
      "Scraping Workshop Details from https://www.eversports.de/e/workshop/qg19D0V...\n",
      "Scraping Workshop Details from https://www.eversports.de/e/workshop/roGwJ9X...\n",
      "Scraping Workshop Details from https://www.eversports.de/e/workshop/L34i5L1...\n",
      "Scraping Workshop Details from https://www.eversports.de/e/workshop/GMzrJ8R...\n",
      "Scraping Workshop Details from https://www.eversports.de/e/workshop/A18K3D6...\n"
     ]
    },
    {
     "name": "stderr",
     "output_type": "stream",
     "text": [
      "Processing URLs:  32%|███▏      | 84/262 [05:22<27:50,  9.39s/it]"
     ]
    },
    {
     "name": "stdout",
     "output_type": "stream",
     "text": [
      "\n",
      "Processing completed.\n",
      "-------------------------------- \n",
      "\n",
      "2024-03-17 15:08:12 - INFO - Scraping Data from: https://www.eversports.de/s/aerial-loft\n",
      "Pole Studio Data: 1 entries\n",
      "2024-03-17 15:08:12 - INFO - Scraping Data from: https://www.eversports.de/s/aerial-loft\n",
      "Workshops Data: 15 entries\n",
      "2024-03-17 15:08:13 - INFO - Scraping Data from: https://www.eversports.de/s/aerial-loft\n",
      "Workshop Details: 15 entries\n",
      "Starting URL reconstruction...\n"
     ]
    },
    {
     "name": "stderr",
     "output_type": "stream",
     "text": [
      "2024-03-17 15:08:14,128 - INFO - Processing URL 1/1: https://www.eversports.de/s/pole-oase\n"
     ]
    },
    {
     "name": "stdout",
     "output_type": "stream",
     "text": [
      "Converting to DataFrame...\n",
      "Validating URLs...\n"
     ]
    },
    {
     "name": "stderr",
     "output_type": "stream",
     "text": [
      "2024-03-17 15:08:15,539 - INFO - URL https://www.eversports.de/s/pole-oase is valid.\n"
     ]
    },
    {
     "name": "stdout",
     "output_type": "stream",
     "text": [
      "Scraping Pole Studio Data from https://www.eversports.de/s/pole-oase...\n"
     ]
    },
    {
     "name": "stderr",
     "output_type": "stream",
     "text": [
      "Processing URLs:  32%|███▏      | 85/262 [05:26<23:16,  7.89s/it]"
     ]
    },
    {
     "name": "stdout",
     "output_type": "stream",
     "text": [
      "\n",
      "Processing completed.\n",
      "-------------------------------- \n",
      "\n",
      "2024-03-17 15:08:17 - INFO - Scraping Data from: https://www.eversports.de/s/pole-oase\n",
      "Pole Studio Data: 1 entries\n",
      "Starting URL reconstruction...\n"
     ]
    },
    {
     "name": "stderr",
     "output_type": "stream",
     "text": [
      "Processing URLs:  33%|███▎      | 86/262 [05:27<17:03,  5.82s/it]"
     ]
    },
    {
     "name": "stdout",
     "output_type": "stream",
     "text": [
      "Error during HTTP request: 404 Client Error: Not Found for url: https://www.eversports.de/s/aerial-art-studio\n",
      "Converting to DataFrame...\n",
      "Validating URLs...\n",
      "\n",
      "Processing completed.\n",
      "-------------------------------- \n",
      "\n",
      "Starting URL reconstruction...\n"
     ]
    },
    {
     "name": "stderr",
     "output_type": "stream",
     "text": [
      "Processing URLs:  33%|███▎      | 87/262 [05:28<12:45,  4.38s/it]"
     ]
    },
    {
     "name": "stdout",
     "output_type": "stream",
     "text": [
      "Error during HTTP request: 404 Client Error: Not Found for url: https://www.eversports.de/s/aerial-athletix\n",
      "Converting to DataFrame...\n",
      "Validating URLs...\n",
      "\n",
      "Processing completed.\n",
      "-------------------------------- \n",
      "\n",
      "Starting URL reconstruction...\n"
     ]
    },
    {
     "name": "stderr",
     "output_type": "stream",
     "text": [
      "Processing URLs:  34%|███▎      | 88/262 [05:29<09:37,  3.32s/it]"
     ]
    },
    {
     "name": "stdout",
     "output_type": "stream",
     "text": [
      "Error during HTTP request: 404 Client Error: Not Found for url: https://www.eversports.de/s/pole-dance-mettingen\n",
      "Converting to DataFrame...\n",
      "Validating URLs...\n",
      "\n",
      "Processing completed.\n",
      "-------------------------------- \n",
      "\n",
      "Starting URL reconstruction...\n"
     ]
    },
    {
     "name": "stderr",
     "output_type": "stream",
     "text": [
      "Processing URLs:  34%|███▍      | 89/262 [05:31<09:02,  3.13s/it]"
     ]
    },
    {
     "name": "stdout",
     "output_type": "stream",
     "text": [
      "Error during HTTP request: Exceeded 30 redirects.\n",
      "Converting to DataFrame...\n",
      "Validating URLs...\n",
      "\n",
      "Processing completed.\n",
      "-------------------------------- \n",
      "\n",
      "Starting URL reconstruction...\n"
     ]
    },
    {
     "name": "stderr",
     "output_type": "stream",
     "text": [
      "Processing URLs:  34%|███▍      | 90/262 [05:32<07:01,  2.45s/it]"
     ]
    },
    {
     "name": "stdout",
     "output_type": "stream",
     "text": [
      "Error during HTTP request: 404 Client Error: Not Found for url: https://www.eversports.de/s/verticalspirit-chemnitz-e.-v.\n",
      "Converting to DataFrame...\n",
      "Validating URLs...\n",
      "\n",
      "Processing completed.\n",
      "-------------------------------- \n",
      "\n",
      "Starting URL reconstruction...\n"
     ]
    },
    {
     "name": "stderr",
     "output_type": "stream",
     "text": [
      "Processing URLs:  35%|███▍      | 91/262 [05:35<07:18,  2.56s/it]"
     ]
    },
    {
     "name": "stdout",
     "output_type": "stream",
     "text": [
      "Error during HTTP request: Exceeded 30 redirects.\n",
      "Converting to DataFrame...\n",
      "Validating URLs...\n",
      "\n",
      "Processing completed.\n",
      "-------------------------------- \n",
      "\n",
      "Starting URL reconstruction...\n"
     ]
    },
    {
     "name": "stderr",
     "output_type": "stream",
     "text": [
      "Processing URLs:  35%|███▌      | 92/262 [05:36<05:51,  2.07s/it]"
     ]
    },
    {
     "name": "stdout",
     "output_type": "stream",
     "text": [
      "Error during HTTP request: 404 Client Error: Not Found for url: https://www.eversports.de/s/polesports-studio-buchholz\n",
      "Converting to DataFrame...\n",
      "Validating URLs...\n",
      "\n",
      "Processing completed.\n",
      "-------------------------------- \n",
      "\n",
      "Starting URL reconstruction...\n"
     ]
    },
    {
     "name": "stderr",
     "output_type": "stream",
     "text": [
      "Processing URLs:  35%|███▌      | 93/262 [05:37<04:51,  1.72s/it]"
     ]
    },
    {
     "name": "stdout",
     "output_type": "stream",
     "text": [
      "Error during HTTP request: 404 Client Error: Not Found for url: https://www.eversports.de/s/poledreams\n",
      "Converting to DataFrame...\n",
      "Validating URLs...\n",
      "\n",
      "Processing completed.\n",
      "-------------------------------- \n",
      "\n",
      "Starting URL reconstruction...\n"
     ]
    },
    {
     "name": "stderr",
     "output_type": "stream",
     "text": [
      "2024-03-17 15:08:29,508 - INFO - Processing URL 1/1: https://www.eversports.de/s/divapole\n"
     ]
    },
    {
     "name": "stdout",
     "output_type": "stream",
     "text": [
      "Converting to DataFrame...\n",
      "Validating URLs...\n"
     ]
    },
    {
     "name": "stderr",
     "output_type": "stream",
     "text": [
      "2024-03-17 15:08:30,605 - INFO - URL https://www.eversports.de/s/divapole is valid.\n"
     ]
    },
    {
     "name": "stdout",
     "output_type": "stream",
     "text": [
      "Scraping Pole Studio Data from https://www.eversports.de/s/divapole...\n"
     ]
    },
    {
     "name": "stderr",
     "output_type": "stream",
     "text": [
      "Processing URLs:  36%|███▌      | 94/262 [05:39<05:26,  1.94s/it]"
     ]
    },
    {
     "name": "stdout",
     "output_type": "stream",
     "text": [
      "\n",
      "Processing completed.\n",
      "-------------------------------- \n",
      "\n",
      "2024-03-17 15:08:30 - INFO - Scraping Data from: https://www.eversports.de/s/divapole\n",
      "Pole Studio Data: 1 entries\n",
      "Starting URL reconstruction...\n"
     ]
    },
    {
     "name": "stderr",
     "output_type": "stream",
     "text": [
      "2024-03-17 15:08:32,845 - INFO - Processing URL 1/1: https://www.eversports.de/s/pole-inspiration-dance-studio\n"
     ]
    },
    {
     "name": "stdout",
     "output_type": "stream",
     "text": [
      "Converting to DataFrame...\n",
      "Validating URLs...\n"
     ]
    },
    {
     "name": "stderr",
     "output_type": "stream",
     "text": [
      "2024-03-17 15:08:34,346 - INFO - URL https://www.eversports.de/s/pole-inspiration-dance-studio is valid.\n"
     ]
    },
    {
     "name": "stdout",
     "output_type": "stream",
     "text": [
      "Scraping Pole Studio Data from https://www.eversports.de/s/pole-inspiration-dance-studio...\n"
     ]
    },
    {
     "name": "stderr",
     "output_type": "stream",
     "text": [
      "Processing URLs:  36%|███▋      | 95/262 [05:43<07:07,  2.56s/it]"
     ]
    },
    {
     "name": "stdout",
     "output_type": "stream",
     "text": [
      "\n",
      "Processing completed.\n",
      "-------------------------------- \n",
      "\n",
      "2024-03-17 15:08:34 - INFO - Scraping Data from: https://www.eversports.nl/s/pole-inspiration-dance-studio\n",
      "Pole Studio Data: 1 entries\n",
      "Starting URL reconstruction...\n"
     ]
    },
    {
     "name": "stderr",
     "output_type": "stream",
     "text": [
      "2024-03-17 15:08:36,014 - INFO - Processing URL 1/1: https://www.eversports.de/s/dance-and-pole-solingen\n"
     ]
    },
    {
     "name": "stdout",
     "output_type": "stream",
     "text": [
      "Converting to DataFrame...\n",
      "Validating URLs...\n"
     ]
    },
    {
     "name": "stderr",
     "output_type": "stream",
     "text": [
      "2024-03-17 15:08:37,113 - INFO - URL https://www.eversports.de/s/dance-and-pole-solingen is valid.\n"
     ]
    },
    {
     "name": "stdout",
     "output_type": "stream",
     "text": [
      "Scraping Pole Studio Data from https://www.eversports.de/s/dance-and-pole-solingen...\n"
     ]
    },
    {
     "name": "stderr",
     "output_type": "stream",
     "text": [
      "Processing URLs:  37%|███▋      | 96/262 [05:46<07:03,  2.55s/it]"
     ]
    },
    {
     "name": "stdout",
     "output_type": "stream",
     "text": [
      "\n",
      "Processing completed.\n",
      "-------------------------------- \n",
      "\n",
      "2024-03-17 15:08:37 - INFO - Scraping Data from: https://www.eversports.de/s/dance-and-pole-solingen\n",
      "Pole Studio Data: 1 entries\n",
      "Starting URL reconstruction...\n"
     ]
    },
    {
     "name": "stderr",
     "output_type": "stream",
     "text": [
      "2024-03-17 15:08:38,664 - INFO - Processing URL 1/2: https://www.eversports.de/s/nordpole\n"
     ]
    },
    {
     "name": "stdout",
     "output_type": "stream",
     "text": [
      "Converting to DataFrame...\n",
      "Validating URLs...\n"
     ]
    },
    {
     "name": "stderr",
     "output_type": "stream",
     "text": [
      "2024-03-17 15:08:39,778 - INFO - URL https://www.eversports.de/s/nordpole is valid.\n",
      "2024-03-17 15:08:39,778 - INFO - Processing URL 2/2: https://www.eversports.de/sw/nordpole\n",
      "2024-03-17 15:08:40,622 - INFO - URL https://www.eversports.de/sw/nordpole is valid.\n"
     ]
    },
    {
     "name": "stdout",
     "output_type": "stream",
     "text": [
      "Scraping Pole Studio Data from https://www.eversports.de/s/nordpole...\n",
      "Scraping Workshops Data from https://www.eversports.de/sw/nordpole...\n",
      "Scraping Workshop Details from https://www.eversports.de/e/workshop/ieMTTb4...\n",
      "Scraping Workshop Details from https://www.eversports.de/e/workshop/kitzKFd...\n"
     ]
    },
    {
     "name": "stderr",
     "output_type": "stream",
     "text": [
      "Processing URLs:  37%|███▋      | 97/262 [05:53<10:44,  3.90s/it]"
     ]
    },
    {
     "name": "stdout",
     "output_type": "stream",
     "text": [
      "\n",
      "Processing completed.\n",
      "-------------------------------- \n",
      "\n",
      "2024-03-17 15:08:44 - INFO - Scraping Data from: https://www.eversports.de/s/nordpole\n",
      "Pole Studio Data: 1 entries\n",
      "2024-03-17 15:08:44 - INFO - Scraping Data from: https://www.eversports.de/s/nordpole\n",
      "Workshops Data: 2 entries\n",
      "2024-03-17 15:08:44 - INFO - Scraping Data from: https://www.eversports.de/s/nordpole\n",
      "Workshop Details: 2 entries\n",
      "Starting URL reconstruction...\n"
     ]
    },
    {
     "name": "stderr",
     "output_type": "stream",
     "text": [
      "2024-03-17 15:08:45,500 - INFO - Processing URL 1/1: https://www.eversports.de/s/pole-circus\n"
     ]
    },
    {
     "name": "stdout",
     "output_type": "stream",
     "text": [
      "Converting to DataFrame...\n",
      "Validating URLs...\n"
     ]
    },
    {
     "name": "stderr",
     "output_type": "stream",
     "text": [
      "2024-03-17 15:08:46,491 - INFO - URL https://www.eversports.de/s/pole-circus is valid.\n"
     ]
    },
    {
     "name": "stdout",
     "output_type": "stream",
     "text": [
      "Scraping Pole Studio Data from https://www.eversports.de/s/pole-circus...\n"
     ]
    },
    {
     "name": "stderr",
     "output_type": "stream",
     "text": [
      "Processing URLs:  37%|███▋      | 98/262 [05:55<09:19,  3.41s/it]"
     ]
    },
    {
     "name": "stdout",
     "output_type": "stream",
     "text": [
      "\n",
      "Processing completed.\n",
      "-------------------------------- \n",
      "\n",
      "2024-03-17 15:08:46 - INFO - Scraping Data from: https://www.eversports.de/s/pole-circus\n",
      "Pole Studio Data: 1 entries\n",
      "Starting URL reconstruction...\n"
     ]
    },
    {
     "name": "stderr",
     "output_type": "stream",
     "text": [
      "2024-03-17 15:08:48,012 - INFO - Processing URL 1/1: https://www.eversports.de/s/polemotions-filderstadt\n"
     ]
    },
    {
     "name": "stdout",
     "output_type": "stream",
     "text": [
      "Converting to DataFrame...\n",
      "Validating URLs...\n"
     ]
    },
    {
     "name": "stderr",
     "output_type": "stream",
     "text": [
      "2024-03-17 15:08:49,111 - INFO - URL https://www.eversports.de/s/polemotions-filderstadt is valid.\n"
     ]
    },
    {
     "name": "stdout",
     "output_type": "stream",
     "text": [
      "Scraping Pole Studio Data from https://www.eversports.de/s/polemotions-filderstadt...\n"
     ]
    },
    {
     "name": "stderr",
     "output_type": "stream",
     "text": [
      "Processing URLs:  38%|███▊      | 99/262 [06:00<09:56,  3.66s/it]"
     ]
    },
    {
     "name": "stdout",
     "output_type": "stream",
     "text": [
      "\n",
      "Processing completed.\n",
      "-------------------------------- \n",
      "\n",
      "2024-03-17 15:08:51 - INFO - Scraping Data from: https://www.eversports.de/s/polemotions-filderstadt\n",
      "Pole Studio Data: 1 entries\n",
      "Starting URL reconstruction...\n"
     ]
    },
    {
     "name": "stderr",
     "output_type": "stream",
     "text": [
      "Processing URLs:  38%|███▊      | 100/262 [06:02<09:04,  3.36s/it]"
     ]
    },
    {
     "name": "stdout",
     "output_type": "stream",
     "text": [
      "Error during HTTP request: 404 Client Error: Not Found for url: https://www.eversports.de/s/lift-off---poledance-academy-viersen\n",
      "Converting to DataFrame...\n",
      "Validating URLs...\n",
      "\n",
      "Processing completed.\n",
      "-------------------------------- \n",
      "\n",
      "Starting URL reconstruction...\n"
     ]
    },
    {
     "name": "stderr",
     "output_type": "stream",
     "text": [
      "2024-03-17 15:08:58,254 - INFO - Processing URL 1/2: https://www.eversports.de/s/vipole-poledance-and-aerial-arts\n"
     ]
    },
    {
     "name": "stdout",
     "output_type": "stream",
     "text": [
      "Converting to DataFrame...\n",
      "Validating URLs...\n"
     ]
    },
    {
     "name": "stderr",
     "output_type": "stream",
     "text": [
      "2024-03-17 15:09:00,426 - INFO - URL https://www.eversports.de/s/vipole-poledance-and-aerial-arts is valid.\n",
      "2024-03-17 15:09:00,427 - INFO - Processing URL 2/2: https://www.eversports.de/sw/vipole-poledance-and-aerial-arts\n",
      "2024-03-17 15:09:01,200 - INFO - URL https://www.eversports.de/sw/vipole-poledance-and-aerial-arts is not valid.\n"
     ]
    },
    {
     "name": "stdout",
     "output_type": "stream",
     "text": [
      "Scraping Pole Studio Data from https://www.eversports.de/s/vipole-poledance-and-aerial-arts...\n"
     ]
    },
    {
     "name": "stderr",
     "output_type": "stream",
     "text": [
      "Processing URLs:  39%|███▊      | 101/262 [06:10<12:39,  4.72s/it]"
     ]
    },
    {
     "name": "stdout",
     "output_type": "stream",
     "text": [
      "\n",
      "Processing completed.\n",
      "-------------------------------- \n",
      "\n",
      "2024-03-17 15:09:01 - INFO - Scraping Data from: https://www.eversports.at/s/vipole-poledance-and-aerial-arts\n",
      "Pole Studio Data: 1 entries\n",
      "Starting URL reconstruction...\n"
     ]
    },
    {
     "name": "stderr",
     "output_type": "stream",
     "text": [
      "Processing URLs:  39%|███▉      | 102/262 [06:11<09:30,  3.57s/it]"
     ]
    },
    {
     "name": "stdout",
     "output_type": "stream",
     "text": [
      "Error during HTTP request: 404 Client Error: Not Found for url: https://www.eversports.de/s/crazy-up-%26-pole\n",
      "Converting to DataFrame...\n",
      "Validating URLs...\n",
      "\n",
      "Processing completed.\n",
      "-------------------------------- \n",
      "\n",
      "Starting URL reconstruction...\n"
     ]
    },
    {
     "name": "stderr",
     "output_type": "stream",
     "text": [
      "Processing URLs:  39%|███▉      | 103/262 [06:14<09:05,  3.43s/it]"
     ]
    },
    {
     "name": "stdout",
     "output_type": "stream",
     "text": [
      "Error during HTTP request: Exceeded 30 redirects.\n",
      "Converting to DataFrame...\n",
      "Validating URLs...\n",
      "\n",
      "Processing completed.\n",
      "-------------------------------- \n",
      "\n",
      "Starting URL reconstruction...\n"
     ]
    },
    {
     "name": "stderr",
     "output_type": "stream",
     "text": [
      "2024-03-17 15:09:07,381 - INFO - Processing URL 1/1: https://www.eversports.de/s/the-pole-jungle\n"
     ]
    },
    {
     "name": "stdout",
     "output_type": "stream",
     "text": [
      "Converting to DataFrame...\n",
      "Validating URLs...\n"
     ]
    },
    {
     "name": "stderr",
     "output_type": "stream",
     "text": [
      "2024-03-17 15:09:09,190 - INFO - URL https://www.eversports.de/s/the-pole-jungle is valid.\n"
     ]
    },
    {
     "name": "stdout",
     "output_type": "stream",
     "text": [
      "Scraping Pole Studio Data from https://www.eversports.de/s/the-pole-jungle...\n"
     ]
    },
    {
     "name": "stderr",
     "output_type": "stream",
     "text": [
      "Processing URLs:  40%|███▉      | 104/262 [06:18<09:30,  3.61s/it]"
     ]
    },
    {
     "name": "stdout",
     "output_type": "stream",
     "text": [
      "\n",
      "Processing completed.\n",
      "-------------------------------- \n",
      "\n",
      "2024-03-17 15:09:09 - INFO - Scraping Data from: https://www.eversports.at/s/the-pole-jungle\n",
      "Pole Studio Data: 1 entries\n",
      "Starting URL reconstruction...\n"
     ]
    },
    {
     "name": "stderr",
     "output_type": "stream",
     "text": [
      "Processing URLs:  40%|████      | 105/262 [06:20<08:08,  3.11s/it]"
     ]
    },
    {
     "name": "stdout",
     "output_type": "stream",
     "text": [
      "Error during HTTP request: 404 Client Error: Not Found for url: https://www.eversports.de/s/indeed-unique---studio-wien\n",
      "Converting to DataFrame...\n",
      "Validating URLs...\n",
      "\n",
      "Processing completed.\n",
      "-------------------------------- \n",
      "\n",
      "Starting URL reconstruction...\n"
     ]
    },
    {
     "name": "stderr",
     "output_type": "stream",
     "text": [
      "2024-03-17 15:09:13,329 - INFO - Processing URL 1/1: https://www.eversports.de/s/soultide\n"
     ]
    },
    {
     "name": "stdout",
     "output_type": "stream",
     "text": [
      "Converting to DataFrame...\n",
      "Validating URLs...\n"
     ]
    },
    {
     "name": "stderr",
     "output_type": "stream",
     "text": [
      "2024-03-17 15:09:14,416 - INFO - URL https://www.eversports.de/s/soultide is valid.\n"
     ]
    },
    {
     "name": "stdout",
     "output_type": "stream",
     "text": [
      "Scraping Pole Studio Data from https://www.eversports.de/s/soultide...\n"
     ]
    },
    {
     "name": "stderr",
     "output_type": "stream",
     "text": [
      "Processing URLs:  40%|████      | 106/262 [06:23<08:12,  3.16s/it]"
     ]
    },
    {
     "name": "stdout",
     "output_type": "stream",
     "text": [
      "\n",
      "Processing completed.\n",
      "-------------------------------- \n",
      "\n",
      "2024-03-17 15:09:14 - INFO - Scraping Data from: https://www.eversports.de/s/soultide\n",
      "Pole Studio Data: 1 entries\n",
      "Starting URL reconstruction...\n"
     ]
    },
    {
     "name": "stderr",
     "output_type": "stream",
     "text": [
      "Processing URLs:  41%|████      | 107/262 [06:24<06:26,  2.50s/it]"
     ]
    },
    {
     "name": "stdout",
     "output_type": "stream",
     "text": [
      "Error during HTTP request: 404 Client Error: Not Found for url: https://www.eversports.de/s/poledance-rostock\n",
      "Converting to DataFrame...\n",
      "Validating URLs...\n",
      "\n",
      "Processing completed.\n",
      "-------------------------------- \n",
      "\n",
      "Starting URL reconstruction...\n"
     ]
    },
    {
     "name": "stderr",
     "output_type": "stream",
     "text": [
      "2024-03-17 15:09:16,694 - INFO - Processing URL 1/1: https://www.eversports.de/s/kaifu-lodge\n"
     ]
    },
    {
     "name": "stdout",
     "output_type": "stream",
     "text": [
      "Converting to DataFrame...\n",
      "Validating URLs...\n"
     ]
    },
    {
     "name": "stderr",
     "output_type": "stream",
     "text": [
      "2024-03-17 15:09:17,580 - INFO - URL https://www.eversports.de/s/kaifu-lodge is valid.\n"
     ]
    },
    {
     "name": "stdout",
     "output_type": "stream",
     "text": [
      "Scraping Pole Studio Data from https://www.eversports.de/s/kaifu-lodge...\n"
     ]
    },
    {
     "name": "stderr",
     "output_type": "stream",
     "text": [
      "Processing URLs:  41%|████      | 108/262 [06:27<06:28,  2.52s/it]"
     ]
    },
    {
     "name": "stdout",
     "output_type": "stream",
     "text": [
      "\n",
      "Processing completed.\n",
      "-------------------------------- \n",
      "\n",
      "2024-03-17 15:09:18 - INFO - Scraping Data from: https://www.eversports.de/s/kaifu-lodge\n",
      "Pole Studio Data: 1 entries\n",
      "Starting URL reconstruction...\n"
     ]
    },
    {
     "name": "stderr",
     "output_type": "stream",
     "text": [
      "Processing URLs:  42%|████▏     | 109/262 [06:30<06:44,  2.64s/it]"
     ]
    },
    {
     "name": "stdout",
     "output_type": "stream",
     "text": [
      "Error during HTTP request: Exceeded 30 redirects.\n",
      "Converting to DataFrame...\n",
      "Validating URLs...\n",
      "\n",
      "Processing completed.\n",
      "-------------------------------- \n",
      "\n",
      "Starting URL reconstruction...\n"
     ]
    },
    {
     "name": "stderr",
     "output_type": "stream",
     "text": [
      "Processing URLs:  42%|████▏     | 110/262 [06:31<05:15,  2.08s/it]"
     ]
    },
    {
     "name": "stdout",
     "output_type": "stream",
     "text": [
      "Error during HTTP request: 404 Client Error: Not Found for url: https://www.eversports.de/s/flexx-arts-aerial-dance-&-fitness\n",
      "Converting to DataFrame...\n",
      "Validating URLs...\n",
      "\n",
      "Processing completed.\n",
      "-------------------------------- \n",
      "\n",
      "Starting URL reconstruction...\n"
     ]
    },
    {
     "name": "stderr",
     "output_type": "stream",
     "text": [
      "Processing URLs:  42%|████▏     | 111/262 [06:31<04:17,  1.71s/it]"
     ]
    },
    {
     "name": "stdout",
     "output_type": "stream",
     "text": [
      "Error during HTTP request: 404 Client Error: Not Found for url: https://www.eversports.de/s/open-aerial-dance-wiesbaden\n",
      "Converting to DataFrame...\n",
      "Validating URLs...\n",
      "\n",
      "Processing completed.\n",
      "-------------------------------- \n",
      "\n",
      "Starting URL reconstruction...\n"
     ]
    },
    {
     "name": "stderr",
     "output_type": "stream",
     "text": [
      "Processing URLs:  43%|████▎     | 112/262 [06:32<03:35,  1.44s/it]"
     ]
    },
    {
     "name": "stdout",
     "output_type": "stream",
     "text": [
      "Error during HTTP request: 404 Client Error: Not Found for url: https://www.eversports.de/s/pole2dance---vertical-fitness-and-dance-company\n",
      "Converting to DataFrame...\n",
      "Validating URLs...\n",
      "\n",
      "Processing completed.\n",
      "-------------------------------- \n",
      "\n",
      "Starting URL reconstruction...\n"
     ]
    },
    {
     "name": "stderr",
     "output_type": "stream",
     "text": [
      "2024-03-17 15:09:26,683 - INFO - Processing URL 1/1: https://www.eversports.de/s/pole-fitness-waterloo\n"
     ]
    },
    {
     "name": "stdout",
     "output_type": "stream",
     "text": [
      "Converting to DataFrame...\n",
      "Validating URLs...\n"
     ]
    },
    {
     "name": "stderr",
     "output_type": "stream",
     "text": [
      "2024-03-17 15:09:27,791 - INFO - URL https://www.eversports.de/s/pole-fitness-waterloo is valid.\n"
     ]
    },
    {
     "name": "stdout",
     "output_type": "stream",
     "text": [
      "Scraping Pole Studio Data from https://www.eversports.de/s/pole-fitness-waterloo...\n"
     ]
    },
    {
     "name": "stderr",
     "output_type": "stream",
     "text": [
      "Processing URLs:  43%|████▎     | 113/262 [06:37<05:49,  2.34s/it]"
     ]
    },
    {
     "name": "stdout",
     "output_type": "stream",
     "text": [
      "\n",
      "Processing completed.\n",
      "-------------------------------- \n",
      "\n",
      "2024-03-17 15:09:28 - INFO - Scraping Data from: https://www.eversports.be/s/pole-fitness-waterloo\n",
      "Pole Studio Data: 1 entries\n",
      "Starting URL reconstruction...\n"
     ]
    },
    {
     "name": "stderr",
     "output_type": "stream",
     "text": [
      "Processing URLs:  44%|████▎     | 114/262 [06:39<05:57,  2.41s/it]"
     ]
    },
    {
     "name": "stdout",
     "output_type": "stream",
     "text": [
      "Error during HTTP request: Exceeded 30 redirects.\n",
      "Converting to DataFrame...\n",
      "Validating URLs...\n",
      "\n",
      "Processing completed.\n",
      "-------------------------------- \n",
      "\n",
      "Starting URL reconstruction...\n"
     ]
    },
    {
     "name": "stderr",
     "output_type": "stream",
     "text": [
      "Processing URLs:  44%|████▍     | 115/262 [06:40<05:02,  2.06s/it]"
     ]
    },
    {
     "name": "stdout",
     "output_type": "stream",
     "text": [
      "Error during HTTP request: 404 Client Error: Not Found for url: https://www.eversports.de/s/metropole-dance---now1\n",
      "Converting to DataFrame...\n",
      "Validating URLs...\n",
      "\n",
      "Processing completed.\n",
      "-------------------------------- \n",
      "\n",
      "Starting URL reconstruction...\n"
     ]
    },
    {
     "name": "stderr",
     "output_type": "stream",
     "text": [
      "2024-03-17 15:09:33,983 - INFO - Processing URL 1/1: https://www.eversports.de/s/stadtgazellen-studio\n"
     ]
    },
    {
     "name": "stdout",
     "output_type": "stream",
     "text": [
      "Converting to DataFrame...\n",
      "Validating URLs...\n"
     ]
    },
    {
     "name": "stderr",
     "output_type": "stream",
     "text": [
      "2024-03-17 15:09:35,017 - INFO - URL https://www.eversports.de/s/stadtgazellen-studio is valid.\n"
     ]
    },
    {
     "name": "stdout",
     "output_type": "stream",
     "text": [
      "Scraping Pole Studio Data from https://www.eversports.de/s/stadtgazellen-studio...\n"
     ]
    },
    {
     "name": "stderr",
     "output_type": "stream",
     "text": [
      "Processing URLs:  44%|████▍     | 116/262 [06:44<06:07,  2.52s/it]"
     ]
    },
    {
     "name": "stdout",
     "output_type": "stream",
     "text": [
      "\n",
      "Processing completed.\n",
      "-------------------------------- \n",
      "\n",
      "2024-03-17 15:09:35 - INFO - Scraping Data from: https://www.eversports.de/s/stadtgazellen-studio\n",
      "Pole Studio Data: 1 entries\n",
      "Starting URL reconstruction...\n"
     ]
    },
    {
     "name": "stderr",
     "output_type": "stream",
     "text": [
      "Processing URLs:  45%|████▍     | 117/262 [06:45<04:54,  2.03s/it]"
     ]
    },
    {
     "name": "stdout",
     "output_type": "stream",
     "text": [
      "Error during HTTP request: 404 Client Error: Not Found for url: https://www.eversports.de/s/activo-polefitness\n",
      "Converting to DataFrame...\n",
      "Validating URLs...\n",
      "\n",
      "Processing completed.\n",
      "-------------------------------- \n",
      "\n",
      "Starting URL reconstruction...\n"
     ]
    },
    {
     "name": "stderr",
     "output_type": "stream",
     "text": [
      "2024-03-17 15:09:37,559 - INFO - Processing URL 1/1: https://www.eversports.de/s/dance-and-pole-deltawerk\n"
     ]
    },
    {
     "name": "stdout",
     "output_type": "stream",
     "text": [
      "Converting to DataFrame...\n",
      "Validating URLs...\n"
     ]
    },
    {
     "name": "stderr",
     "output_type": "stream",
     "text": [
      "2024-03-17 15:09:38,523 - INFO - URL https://www.eversports.de/s/dance-and-pole-deltawerk is valid.\n"
     ]
    },
    {
     "name": "stdout",
     "output_type": "stream",
     "text": [
      "Scraping Pole Studio Data from https://www.eversports.de/s/dance-and-pole-deltawerk...\n"
     ]
    },
    {
     "name": "stderr",
     "output_type": "stream",
     "text": [
      "Processing URLs:  45%|████▌     | 118/262 [06:47<05:09,  2.15s/it]"
     ]
    },
    {
     "name": "stdout",
     "output_type": "stream",
     "text": [
      "\n",
      "Processing completed.\n",
      "-------------------------------- \n",
      "\n",
      "2024-03-17 15:09:38 - INFO - Scraping Data from: https://www.eversports.de/s/dance-and-pole-deltawerk\n",
      "Pole Studio Data: 1 entries\n",
      "Starting URL reconstruction...\n"
     ]
    },
    {
     "name": "stderr",
     "output_type": "stream",
     "text": [
      "Processing URLs:  45%|████▌     | 119/262 [06:49<04:49,  2.02s/it]"
     ]
    },
    {
     "name": "stdout",
     "output_type": "stream",
     "text": [
      "Error during HTTP request: 404 Client Error: Not Found for url: https://www.eversports.de/s/vertical-moves---pole-dance-%26-sports\n",
      "Converting to DataFrame...\n",
      "Validating URLs...\n",
      "\n",
      "Processing completed.\n",
      "-------------------------------- \n",
      "\n",
      "Starting URL reconstruction...\n"
     ]
    },
    {
     "name": "stderr",
     "output_type": "stream",
     "text": [
      "2024-03-17 15:09:42,755 - INFO - Processing URL 1/1: https://www.eversports.de/s/studio-nienke\n"
     ]
    },
    {
     "name": "stdout",
     "output_type": "stream",
     "text": [
      "Converting to DataFrame...\n",
      "Validating URLs...\n"
     ]
    },
    {
     "name": "stderr",
     "output_type": "stream",
     "text": [
      "2024-03-17 15:09:44,956 - INFO - URL https://www.eversports.de/s/studio-nienke is valid.\n"
     ]
    },
    {
     "name": "stdout",
     "output_type": "stream",
     "text": [
      "Scraping Pole Studio Data from https://www.eversports.de/s/studio-nienke...\n"
     ]
    },
    {
     "name": "stderr",
     "output_type": "stream",
     "text": [
      "Processing URLs:  46%|████▌     | 120/262 [06:54<06:51,  2.90s/it]"
     ]
    },
    {
     "name": "stdout",
     "output_type": "stream",
     "text": [
      "\n",
      "Processing completed.\n",
      "-------------------------------- \n",
      "\n",
      "2024-03-17 15:09:45 - INFO - Scraping Data from: https://www.eversports.nl/s/studio-nienke\n",
      "Pole Studio Data: 1 entries\n",
      "Starting URL reconstruction...\n"
     ]
    },
    {
     "name": "stderr",
     "output_type": "stream",
     "text": [
      "2024-03-17 15:09:46,694 - INFO - Processing URL 1/2: https://www.eversports.de/s/studio-aeris\n"
     ]
    },
    {
     "name": "stdout",
     "output_type": "stream",
     "text": [
      "Converting to DataFrame...\n",
      "Validating URLs...\n"
     ]
    },
    {
     "name": "stderr",
     "output_type": "stream",
     "text": [
      "2024-03-17 15:09:48,153 - INFO - URL https://www.eversports.de/s/studio-aeris is valid.\n",
      "2024-03-17 15:09:48,154 - INFO - Processing URL 2/2: https://www.eversports.de/sw/studio-aeris\n",
      "2024-03-17 15:09:50,011 - INFO - URL https://www.eversports.de/sw/studio-aeris is not valid.\n"
     ]
    },
    {
     "name": "stdout",
     "output_type": "stream",
     "text": [
      "Scraping Pole Studio Data from https://www.eversports.de/s/studio-aeris...\n"
     ]
    },
    {
     "name": "stderr",
     "output_type": "stream",
     "text": [
      "Processing URLs:  46%|████▌     | 121/262 [06:59<08:33,  3.64s/it]"
     ]
    },
    {
     "name": "stdout",
     "output_type": "stream",
     "text": [
      "\n",
      "Processing completed.\n",
      "-------------------------------- \n",
      "\n",
      "2024-03-17 15:09:50 - INFO - Scraping Data from: https://www.eversports.de/s/studio-aeris\n",
      "Pole Studio Data: 1 entries\n",
      "Starting URL reconstruction...\n"
     ]
    },
    {
     "name": "stderr",
     "output_type": "stream",
     "text": [
      "Processing URLs:  47%|████▋     | 122/262 [07:02<07:44,  3.32s/it]"
     ]
    },
    {
     "name": "stdout",
     "output_type": "stream",
     "text": [
      "Error during HTTP request: Exceeded 30 redirects.\n",
      "Converting to DataFrame...\n",
      "Validating URLs...\n",
      "\n",
      "Processing completed.\n",
      "-------------------------------- \n",
      "\n",
      "Starting URL reconstruction...\n"
     ]
    },
    {
     "name": "stderr",
     "output_type": "stream",
     "text": [
      "Processing URLs:  47%|████▋     | 123/262 [07:05<07:19,  3.16s/it]"
     ]
    },
    {
     "name": "stdout",
     "output_type": "stream",
     "text": [
      "Error during HTTP request: Exceeded 30 redirects.\n",
      "Converting to DataFrame...\n",
      "Validating URLs...\n",
      "\n",
      "Processing completed.\n",
      "-------------------------------- \n",
      "\n",
      "Starting URL reconstruction...\n"
     ]
    },
    {
     "name": "stderr",
     "output_type": "stream",
     "text": [
      "Processing URLs:  47%|████▋     | 124/262 [07:07<06:26,  2.80s/it]"
     ]
    },
    {
     "name": "stdout",
     "output_type": "stream",
     "text": [
      "Error during HTTP request: 404 Client Error: Not Found for url: https://www.eversports.de/s/la-familia-poleclub\n",
      "Converting to DataFrame...\n",
      "Validating URLs...\n",
      "\n",
      "Processing completed.\n",
      "-------------------------------- \n",
      "\n",
      "Starting URL reconstruction...\n"
     ]
    },
    {
     "name": "stderr",
     "output_type": "stream",
     "text": [
      "Processing URLs:  48%|████▊     | 125/262 [07:09<06:03,  2.65s/it]"
     ]
    },
    {
     "name": "stdout",
     "output_type": "stream",
     "text": [
      "Error during HTTP request: 404 Client Error: Not Found for url: https://www.eversports.de/s/annaconda-pole-%26-aerial-sports\n",
      "Converting to DataFrame...\n",
      "Validating URLs...\n",
      "\n",
      "Processing completed.\n",
      "-------------------------------- \n",
      "\n",
      "Starting URL reconstruction...\n"
     ]
    },
    {
     "name": "stderr",
     "output_type": "stream",
     "text": [
      "2024-03-17 15:10:02,916 - INFO - Processing URL 1/1: https://www.eversports.de/s/swiss-mega-park\n"
     ]
    },
    {
     "name": "stdout",
     "output_type": "stream",
     "text": [
      "Converting to DataFrame...\n",
      "Validating URLs...\n"
     ]
    },
    {
     "name": "stderr",
     "output_type": "stream",
     "text": [
      "2024-03-17 15:10:04,880 - INFO - URL https://www.eversports.de/s/swiss-mega-park is valid.\n"
     ]
    },
    {
     "name": "stdout",
     "output_type": "stream",
     "text": [
      "Scraping Pole Studio Data from https://www.eversports.de/s/swiss-mega-park...\n"
     ]
    },
    {
     "name": "stderr",
     "output_type": "stream",
     "text": [
      "Processing URLs:  48%|████▊     | 126/262 [07:14<07:26,  3.28s/it]"
     ]
    },
    {
     "name": "stdout",
     "output_type": "stream",
     "text": [
      "\n",
      "Processing completed.\n",
      "-------------------------------- \n",
      "\n",
      "2024-03-17 15:10:05 - INFO - Scraping Data from: https://www.eversports.de/s/swiss-mega-park\n",
      "Pole Studio Data: 1 entries\n",
      "Starting URL reconstruction...\n"
     ]
    },
    {
     "name": "stderr",
     "output_type": "stream",
     "text": [
      "Processing URLs:  48%|████▊     | 127/262 [07:15<05:45,  2.56s/it]"
     ]
    },
    {
     "name": "stdout",
     "output_type": "stream",
     "text": [
      "Error during HTTP request: 404 Client Error: Not Found for url: https://www.eversports.de/s/saltosandra\n",
      "Converting to DataFrame...\n",
      "Validating URLs...\n",
      "\n",
      "Processing completed.\n",
      "-------------------------------- \n",
      "\n",
      "Starting URL reconstruction...\n"
     ]
    },
    {
     "name": "stderr",
     "output_type": "stream",
     "text": [
      "Processing URLs:  49%|████▉     | 128/262 [07:16<05:00,  2.24s/it]"
     ]
    },
    {
     "name": "stdout",
     "output_type": "stream",
     "text": [
      "Error during HTTP request: 404 Client Error: Not Found for url: https://www.eversports.de/s/pole-dance-stuttgart\n",
      "Converting to DataFrame...\n",
      "Validating URLs...\n",
      "\n",
      "Processing completed.\n",
      "-------------------------------- \n",
      "\n",
      "Starting URL reconstruction...\n"
     ]
    },
    {
     "name": "stderr",
     "output_type": "stream",
     "text": [
      "2024-03-17 15:10:08,779 - INFO - Processing URL 1/2: https://www.eversports.de/s/pole-faction-darmstadt\n"
     ]
    },
    {
     "name": "stdout",
     "output_type": "stream",
     "text": [
      "Converting to DataFrame...\n",
      "Validating URLs...\n"
     ]
    },
    {
     "name": "stderr",
     "output_type": "stream",
     "text": [
      "2024-03-17 15:10:09,856 - INFO - URL https://www.eversports.de/s/pole-faction-darmstadt is valid.\n",
      "2024-03-17 15:10:09,857 - INFO - Processing URL 2/2: https://www.eversports.de/sw/pole-faction-darmstadt\n",
      "2024-03-17 15:10:10,681 - INFO - URL https://www.eversports.de/sw/pole-faction-darmstadt is valid.\n"
     ]
    },
    {
     "name": "stdout",
     "output_type": "stream",
     "text": [
      "Scraping Pole Studio Data from https://www.eversports.de/s/pole-faction-darmstadt...\n",
      "Scraping Workshops Data from https://www.eversports.de/sw/pole-faction-darmstadt...\n",
      "Scraping Workshop Details from https://www.eversports.de/e/workshop/FP-cEyn...\n",
      "Scraping Workshop Details from https://www.eversports.de/e/workshop/R763nUE...\n"
     ]
    },
    {
     "name": "stderr",
     "output_type": "stream",
     "text": [
      "Processing URLs:  49%|████▉     | 129/262 [07:23<08:09,  3.68s/it]"
     ]
    },
    {
     "name": "stdout",
     "output_type": "stream",
     "text": [
      "\n",
      "Processing completed.\n",
      "-------------------------------- \n",
      "\n",
      "2024-03-17 15:10:14 - INFO - Scraping Data from: https://www.eversports.de/s/pole-faction-darmstadt\n",
      "Pole Studio Data: 1 entries\n",
      "2024-03-17 15:10:14 - INFO - Scraping Data from: https://www.eversports.de/s/pole-faction-darmstadt\n",
      "Workshops Data: 2 entries\n",
      "2024-03-17 15:10:14 - INFO - Scraping Data from: https://www.eversports.de/s/pole-faction-darmstadt\n",
      "Workshop Details: 2 entries\n",
      "Starting URL reconstruction...\n"
     ]
    },
    {
     "name": "stderr",
     "output_type": "stream",
     "text": [
      "Processing URLs:  50%|████▉     | 130/262 [07:25<06:40,  3.04s/it]"
     ]
    },
    {
     "name": "stdout",
     "output_type": "stream",
     "text": [
      "Error during HTTP request: 404 Client Error: Not Found for url: https://www.eversports.be/s/lift-off-poledance-academy\n",
      "Converting to DataFrame...\n",
      "Validating URLs...\n",
      "\n",
      "Processing completed.\n",
      "-------------------------------- \n",
      "\n",
      "Starting URL reconstruction...\n"
     ]
    },
    {
     "name": "stderr",
     "output_type": "stream",
     "text": [
      "Processing URLs:  50%|█████     | 131/262 [07:25<05:08,  2.35s/it]"
     ]
    },
    {
     "name": "stdout",
     "output_type": "stream",
     "text": [
      "Error during HTTP request: 404 Client Error: Not Found for url: https://www.eversports.de/s/move-lounge-pilates,-powerplate,-trx,-personaltraining\n",
      "Converting to DataFrame...\n",
      "Validating URLs...\n",
      "\n",
      "Processing completed.\n",
      "-------------------------------- \n",
      "\n",
      "Starting URL reconstruction...\n"
     ]
    },
    {
     "name": "stderr",
     "output_type": "stream",
     "text": [
      "Processing URLs:  50%|█████     | 132/262 [07:26<04:12,  1.94s/it]"
     ]
    },
    {
     "name": "stdout",
     "output_type": "stream",
     "text": [
      "Error during HTTP request: 404 Client Error: Not Found for url: https://www.eversports.de/s/poleplace\n",
      "Converting to DataFrame...\n",
      "Validating URLs...\n",
      "\n",
      "Processing completed.\n",
      "-------------------------------- \n",
      "\n",
      "Starting URL reconstruction...\n"
     ]
    },
    {
     "name": "stderr",
     "output_type": "stream",
     "text": [
      "2024-03-17 15:10:19,269 - INFO - Processing URL 1/2: https://www.eversports.de/s/poleathletix\n"
     ]
    },
    {
     "name": "stdout",
     "output_type": "stream",
     "text": [
      "Converting to DataFrame...\n",
      "Validating URLs...\n"
     ]
    },
    {
     "name": "stderr",
     "output_type": "stream",
     "text": [
      "2024-03-17 15:10:20,563 - INFO - URL https://www.eversports.de/s/poleathletix is valid.\n",
      "2024-03-17 15:10:20,564 - INFO - Processing URL 2/2: https://www.eversports.de/sw/poleathletix\n",
      "2024-03-17 15:10:21,595 - INFO - URL https://www.eversports.de/sw/poleathletix is valid.\n"
     ]
    },
    {
     "name": "stdout",
     "output_type": "stream",
     "text": [
      "Scraping Pole Studio Data from https://www.eversports.de/s/poleathletix...\n",
      "Scraping Workshops Data from https://www.eversports.de/sw/poleathletix...\n",
      "Scraping Workshop Details from https://www.eversports.de/e/workshop/csrqGyT...\n",
      "Scraping Workshop Details from https://www.eversports.de/e/workshop/B5-Mkby...\n",
      "Scraping Workshop Details from https://www.eversports.de/e/workshop/U0ioQ4p...\n",
      "Scraping Workshop Details from https://www.eversports.de/e/workshop/GM0YnVC...\n",
      "Scraping Workshop Details from https://www.eversports.de/e/workshop/Q4B35ej...\n",
      "Scraping Workshop Details from https://www.eversports.de/e/workshop/AdR6zU9...\n",
      "Scraping Workshop Details from https://www.eversports.de/e/workshop/wpSmtjj...\n"
     ]
    },
    {
     "name": "stderr",
     "output_type": "stream",
     "text": [
      "Processing URLs:  51%|█████     | 133/262 [07:40<11:41,  5.44s/it]"
     ]
    },
    {
     "name": "stdout",
     "output_type": "stream",
     "text": [
      "\n",
      "Processing completed.\n",
      "-------------------------------- \n",
      "\n",
      "2024-03-17 15:10:31 - INFO - Scraping Data from: https://www.eversports.de/s/poleathletix\n",
      "Pole Studio Data: 1 entries\n",
      "2024-03-17 15:10:31 - INFO - Scraping Data from: https://www.eversports.de/s/poleathletix\n",
      "Workshops Data: 7 entries\n",
      "2024-03-17 15:10:31 - INFO - Scraping Data from: https://www.eversports.de/s/poleathletix\n",
      "Workshop Details: 7 entries\n",
      "Starting URL reconstruction...\n"
     ]
    },
    {
     "name": "stderr",
     "output_type": "stream",
     "text": [
      "2024-03-17 15:10:32,944 - INFO - Processing URL 1/1: https://www.eversports.de/s/polestructions\n"
     ]
    },
    {
     "name": "stdout",
     "output_type": "stream",
     "text": [
      "Converting to DataFrame...\n",
      "Validating URLs...\n"
     ]
    },
    {
     "name": "stderr",
     "output_type": "stream",
     "text": [
      "2024-03-17 15:10:34,764 - INFO - URL https://www.eversports.de/s/polestructions is valid.\n"
     ]
    },
    {
     "name": "stdout",
     "output_type": "stream",
     "text": [
      "Scraping Pole Studio Data from https://www.eversports.de/s/polestructions...\n"
     ]
    },
    {
     "name": "stderr",
     "output_type": "stream",
     "text": [
      "Processing URLs:  51%|█████     | 134/262 [07:44<10:33,  4.95s/it]"
     ]
    },
    {
     "name": "stdout",
     "output_type": "stream",
     "text": [
      "\n",
      "Processing completed.\n",
      "-------------------------------- \n",
      "\n",
      "2024-03-17 15:10:35 - INFO - Scraping Data from: https://www.eversports.de/s/polestructions\n",
      "Pole Studio Data: 1 entries\n",
      "Starting URL reconstruction...\n"
     ]
    },
    {
     "name": "stderr",
     "output_type": "stream",
     "text": [
      "Processing URLs:  52%|█████▏    | 135/262 [07:45<07:50,  3.70s/it]"
     ]
    },
    {
     "name": "stdout",
     "output_type": "stream",
     "text": [
      "Error during HTTP request: 404 Client Error: Not Found for url: https://www.eversports.de/s/pole-dance-academy-hameln\n",
      "Converting to DataFrame...\n",
      "Validating URLs...\n",
      "\n",
      "Processing completed.\n",
      "-------------------------------- \n",
      "\n",
      "Starting URL reconstruction...\n"
     ]
    },
    {
     "name": "stderr",
     "output_type": "stream",
     "text": [
      "Processing URLs:  52%|█████▏    | 136/262 [07:46<06:05,  2.90s/it]"
     ]
    },
    {
     "name": "stdout",
     "output_type": "stream",
     "text": [
      "Error during HTTP request: 404 Client Error: Not Found for url: https://www.eversports.de/s/polegarage-iserloh\n",
      "Converting to DataFrame...\n",
      "Validating URLs...\n",
      "\n",
      "Processing completed.\n",
      "-------------------------------- \n",
      "\n",
      "Starting URL reconstruction...\n"
     ]
    },
    {
     "name": "stderr",
     "output_type": "stream",
     "text": [
      "2024-03-17 15:10:38,983 - INFO - Processing URL 1/1: https://www.eversports.de/s/full-moon-studio-thieffry-etterbeek\n"
     ]
    },
    {
     "name": "stdout",
     "output_type": "stream",
     "text": [
      "Converting to DataFrame...\n",
      "Validating URLs...\n"
     ]
    },
    {
     "name": "stderr",
     "output_type": "stream",
     "text": [
      "2024-03-17 15:10:41,763 - INFO - URL https://www.eversports.de/s/full-moon-studio-thieffry-etterbeek is valid.\n"
     ]
    },
    {
     "name": "stdout",
     "output_type": "stream",
     "text": [
      "Scraping Pole Studio Data from https://www.eversports.de/s/full-moon-studio-thieffry-etterbeek...\n"
     ]
    },
    {
     "name": "stderr",
     "output_type": "stream",
     "text": [
      "Processing URLs:  52%|█████▏    | 137/262 [07:51<07:20,  3.52s/it]"
     ]
    },
    {
     "name": "stdout",
     "output_type": "stream",
     "text": [
      "\n",
      "Processing completed.\n",
      "-------------------------------- \n",
      "\n",
      "2024-03-17 15:10:42 - INFO - Scraping Data from: https://www.eversports.be/s/full-moon-studio-thieffry-etterbeek\n",
      "Pole Studio Data: 1 entries\n",
      "Starting URL reconstruction...\n"
     ]
    },
    {
     "name": "stderr",
     "output_type": "stream",
     "text": [
      "Processing URLs:  53%|█████▎    | 138/262 [07:52<05:37,  2.73s/it]"
     ]
    },
    {
     "name": "stdout",
     "output_type": "stream",
     "text": [
      "Error during HTTP request: 404 Client Error: Not Found for url: https://www.eversports.de/s/secret-moves---athletic-dance-studio\n",
      "Converting to DataFrame...\n",
      "Validating URLs...\n",
      "\n",
      "Processing completed.\n",
      "-------------------------------- \n",
      "\n",
      "Starting URL reconstruction...\n"
     ]
    },
    {
     "name": "stderr",
     "output_type": "stream",
     "text": [
      "Processing URLs:  53%|█████▎    | 139/262 [07:53<04:31,  2.21s/it]"
     ]
    },
    {
     "name": "stdout",
     "output_type": "stream",
     "text": [
      "Error during HTTP request: 404 Client Error: Not Found for url: https://www.eversports.de/s/dance-%26-fitness-academy\n",
      "Converting to DataFrame...\n",
      "Validating URLs...\n",
      "\n",
      "Processing completed.\n",
      "-------------------------------- \n",
      "\n",
      "Starting URL reconstruction...\n"
     ]
    },
    {
     "name": "stderr",
     "output_type": "stream",
     "text": [
      "Processing URLs:  53%|█████▎    | 140/262 [07:53<03:41,  1.82s/it]"
     ]
    },
    {
     "name": "stdout",
     "output_type": "stream",
     "text": [
      "Error during HTTP request: 404 Client Error: Not Found for url: https://www.eversports.de/s/aerial-art-poledance-city-base\n",
      "Converting to DataFrame...\n",
      "Validating URLs...\n",
      "\n",
      "Processing completed.\n",
      "-------------------------------- \n",
      "\n",
      "Starting URL reconstruction...\n"
     ]
    },
    {
     "name": "stderr",
     "output_type": "stream",
     "text": [
      "Processing URLs:  54%|█████▍    | 141/262 [07:54<03:04,  1.53s/it]"
     ]
    },
    {
     "name": "stdout",
     "output_type": "stream",
     "text": [
      "Error during HTTP request: 404 Client Error: Not Found for url: https://www.eversports.de/s/move-on!-dance-studio-%26-polemotions\n",
      "Converting to DataFrame...\n",
      "Validating URLs...\n",
      "\n",
      "Processing completed.\n",
      "-------------------------------- \n",
      "\n",
      "Starting URL reconstruction...\n"
     ]
    },
    {
     "name": "stderr",
     "output_type": "stream",
     "text": [
      "Processing URLs:  54%|█████▍    | 142/262 [07:55<02:39,  1.33s/it]"
     ]
    },
    {
     "name": "stdout",
     "output_type": "stream",
     "text": [
      "Error during HTTP request: 404 Client Error: Not Found for url: https://www.eversports.de/s/jeds\n",
      "Converting to DataFrame...\n",
      "Validating URLs...\n",
      "\n",
      "Processing completed.\n",
      "-------------------------------- \n",
      "\n",
      "Starting URL reconstruction...\n"
     ]
    },
    {
     "name": "stderr",
     "output_type": "stream",
     "text": [
      "Processing URLs:  55%|█████▍    | 143/262 [07:58<03:44,  1.88s/it]"
     ]
    },
    {
     "name": "stdout",
     "output_type": "stream",
     "text": [
      "Error during HTTP request: Exceeded 30 redirects.\n",
      "Converting to DataFrame...\n",
      "Validating URLs...\n",
      "\n",
      "Processing completed.\n",
      "-------------------------------- \n",
      "\n",
      "Starting URL reconstruction...\n"
     ]
    },
    {
     "name": "stderr",
     "output_type": "stream",
     "text": [
      "2024-03-17 15:10:51,039 - INFO - Processing URL 1/1: https://www.eversports.de/s/infinity-polesports\n"
     ]
    },
    {
     "name": "stdout",
     "output_type": "stream",
     "text": [
      "Converting to DataFrame...\n",
      "Validating URLs...\n"
     ]
    },
    {
     "name": "stderr",
     "output_type": "stream",
     "text": [
      "2024-03-17 15:10:52,023 - INFO - URL https://www.eversports.de/s/infinity-polesports is valid.\n"
     ]
    },
    {
     "name": "stdout",
     "output_type": "stream",
     "text": [
      "Scraping Pole Studio Data from https://www.eversports.de/s/infinity-polesports...\n"
     ]
    },
    {
     "name": "stderr",
     "output_type": "stream",
     "text": [
      "Processing URLs:  55%|█████▍    | 144/262 [08:01<04:10,  2.12s/it]"
     ]
    },
    {
     "name": "stdout",
     "output_type": "stream",
     "text": [
      "\n",
      "Processing completed.\n",
      "-------------------------------- \n",
      "\n",
      "2024-03-17 15:10:52 - INFO - Scraping Data from: https://www.eversports.de/s/infinity-polesports\n",
      "Pole Studio Data: 1 entries\n",
      "Starting URL reconstruction...\n"
     ]
    },
    {
     "name": "stderr",
     "output_type": "stream",
     "text": [
      "Processing URLs:  55%|█████▌    | 145/262 [08:04<04:40,  2.40s/it]"
     ]
    },
    {
     "name": "stdout",
     "output_type": "stream",
     "text": [
      "Error during HTTP request: Exceeded 30 redirects.\n",
      "Converting to DataFrame...\n",
      "Validating URLs...\n",
      "\n",
      "Processing completed.\n",
      "-------------------------------- \n",
      "\n",
      "Starting URL reconstruction...\n"
     ]
    },
    {
     "name": "stderr",
     "output_type": "stream",
     "text": [
      "2024-03-17 15:10:56,569 - INFO - Processing URL 1/1: https://www.eversports.de/s/muse-pole-dance\n"
     ]
    },
    {
     "name": "stdout",
     "output_type": "stream",
     "text": [
      "Converting to DataFrame...\n",
      "Validating URLs...\n"
     ]
    },
    {
     "name": "stderr",
     "output_type": "stream",
     "text": [
      "2024-03-17 15:10:57,690 - INFO - URL https://www.eversports.de/s/muse-pole-dance is valid.\n"
     ]
    },
    {
     "name": "stdout",
     "output_type": "stream",
     "text": [
      "Scraping Pole Studio Data from https://www.eversports.de/s/muse-pole-dance...\n"
     ]
    },
    {
     "name": "stderr",
     "output_type": "stream",
     "text": [
      "Processing URLs:  56%|█████▌    | 146/262 [08:08<05:34,  2.89s/it]"
     ]
    },
    {
     "name": "stdout",
     "output_type": "stream",
     "text": [
      "\n",
      "Processing completed.\n",
      "-------------------------------- \n",
      "\n",
      "2024-03-17 15:10:59 - INFO - Scraping Data from: https://www.eversports.de/s/muse-pole-dance\n",
      "Pole Studio Data: 1 entries\n",
      "Starting URL reconstruction...\n"
     ]
    },
    {
     "name": "stderr",
     "output_type": "stream",
     "text": [
      "2024-03-17 15:11:02,282 - INFO - Processing URL 1/1: https://www.eversports.de/s/pole-statement\n"
     ]
    },
    {
     "name": "stdout",
     "output_type": "stream",
     "text": [
      "Converting to DataFrame...\n",
      "Validating URLs...\n"
     ]
    },
    {
     "name": "stderr",
     "output_type": "stream",
     "text": [
      "2024-03-17 15:11:04,920 - INFO - URL https://www.eversports.de/s/pole-statement is valid.\n"
     ]
    },
    {
     "name": "stdout",
     "output_type": "stream",
     "text": [
      "Scraping Pole Studio Data from https://www.eversports.de/s/pole-statement...\n"
     ]
    },
    {
     "name": "stderr",
     "output_type": "stream",
     "text": [
      "Processing URLs:  56%|█████▌    | 147/262 [08:14<07:14,  3.77s/it]"
     ]
    },
    {
     "name": "stdout",
     "output_type": "stream",
     "text": [
      "\n",
      "Processing completed.\n",
      "-------------------------------- \n",
      "\n",
      "2024-03-17 15:11:05 - INFO - Scraping Data from: https://www.eversports.de/s/pole-statement\n",
      "Pole Studio Data: 1 entries\n",
      "Starting URL reconstruction...\n"
     ]
    },
    {
     "name": "stderr",
     "output_type": "stream",
     "text": [
      "Processing URLs:  56%|█████▋    | 148/262 [08:15<05:29,  2.89s/it]"
     ]
    },
    {
     "name": "stdout",
     "output_type": "stream",
     "text": [
      "Error during HTTP request: 404 Client Error: Not Found for url: https://www.eversports.de/s/gravity-arts-luzern\n",
      "Converting to DataFrame...\n",
      "Validating URLs...\n",
      "\n",
      "Processing completed.\n",
      "-------------------------------- \n",
      "\n",
      "Starting URL reconstruction...\n"
     ]
    },
    {
     "name": "stderr",
     "output_type": "stream",
     "text": [
      "Processing URLs:  57%|█████▋    | 149/262 [08:16<04:17,  2.28s/it]"
     ]
    },
    {
     "name": "stdout",
     "output_type": "stream",
     "text": [
      "Error during HTTP request: 404 Client Error: Not Found for url: https://www.eversports.de/s/pole-yourself\n",
      "Converting to DataFrame...\n",
      "Validating URLs...\n",
      "\n",
      "Processing completed.\n",
      "-------------------------------- \n",
      "\n",
      "Starting URL reconstruction...\n"
     ]
    },
    {
     "name": "stderr",
     "output_type": "stream",
     "text": [
      "Processing URLs:  57%|█████▋    | 150/262 [08:18<04:18,  2.30s/it]"
     ]
    },
    {
     "name": "stdout",
     "output_type": "stream",
     "text": [
      "Error during HTTP request: 404 Client Error: Not Found for url: https://www.eversports.de/s/360-grad-soulsports\n",
      "Converting to DataFrame...\n",
      "Validating URLs...\n",
      "\n",
      "Processing completed.\n",
      "-------------------------------- \n",
      "\n",
      "Starting URL reconstruction...\n"
     ]
    },
    {
     "name": "stderr",
     "output_type": "stream",
     "text": [
      "2024-03-17 15:11:11,153 - INFO - Processing URL 1/1: https://www.eversports.de/s/upsidedown-studio-friedrichsdorf\n"
     ]
    },
    {
     "name": "stdout",
     "output_type": "stream",
     "text": [
      "Converting to DataFrame...\n",
      "Validating URLs...\n"
     ]
    },
    {
     "name": "stderr",
     "output_type": "stream",
     "text": [
      "2024-03-17 15:11:12,430 - INFO - URL https://www.eversports.de/s/upsidedown-studio-friedrichsdorf is valid.\n"
     ]
    },
    {
     "name": "stdout",
     "output_type": "stream",
     "text": [
      "Scraping Pole Studio Data from https://www.eversports.de/s/upsidedown-studio-friedrichsdorf...\n"
     ]
    },
    {
     "name": "stderr",
     "output_type": "stream",
     "text": [
      "Processing URLs:  58%|█████▊    | 151/262 [08:21<04:49,  2.61s/it]"
     ]
    },
    {
     "name": "stdout",
     "output_type": "stream",
     "text": [
      "\n",
      "Processing completed.\n",
      "-------------------------------- \n",
      "\n",
      "2024-03-17 15:11:12 - INFO - Scraping Data from: https://www.eversports.de/s/upsidedown-studio-friedrichsdorf\n",
      "Pole Studio Data: 1 entries\n",
      "Starting URL reconstruction...\n"
     ]
    },
    {
     "name": "stderr",
     "output_type": "stream",
     "text": [
      "Processing URLs:  58%|█████▊    | 152/262 [08:25<05:11,  2.84s/it]"
     ]
    },
    {
     "name": "stdout",
     "output_type": "stream",
     "text": [
      "Error during HTTP request: Exceeded 30 redirects.\n",
      "Converting to DataFrame...\n",
      "Validating URLs...\n",
      "\n",
      "Processing completed.\n",
      "-------------------------------- \n",
      "\n",
      "Starting URL reconstruction...\n"
     ]
    },
    {
     "name": "stderr",
     "output_type": "stream",
     "text": [
      "Processing URLs:  58%|█████▊    | 153/262 [08:27<05:02,  2.78s/it]"
     ]
    },
    {
     "name": "stdout",
     "output_type": "stream",
     "text": [
      "Error during HTTP request: Exceeded 30 redirects.\n",
      "Converting to DataFrame...\n",
      "Validating URLs...\n",
      "\n",
      "Processing completed.\n",
      "-------------------------------- \n",
      "\n",
      "Starting URL reconstruction...\n"
     ]
    },
    {
     "name": "stderr",
     "output_type": "stream",
     "text": [
      "Processing URLs:  59%|█████▉    | 154/262 [08:28<04:01,  2.23s/it]"
     ]
    },
    {
     "name": "stdout",
     "output_type": "stream",
     "text": [
      "Error during HTTP request: 404 Client Error: Not Found for url: https://www.eversports.de/s/studio-elodie-tanzbewegung\n",
      "Converting to DataFrame...\n",
      "Validating URLs...\n",
      "\n",
      "Processing completed.\n",
      "-------------------------------- \n",
      "\n",
      "Starting URL reconstruction...\n"
     ]
    },
    {
     "name": "stderr",
     "output_type": "stream",
     "text": [
      "Processing URLs:  59%|█████▉    | 155/262 [08:29<03:26,  1.93s/it]"
     ]
    },
    {
     "name": "stdout",
     "output_type": "stream",
     "text": [
      "Error during HTTP request: 404 Client Error: Not Found for url: https://www.eversports.de/s/the-miss-filly-institute-of-pole\n",
      "Converting to DataFrame...\n",
      "Validating URLs...\n",
      "\n",
      "Processing completed.\n",
      "-------------------------------- \n",
      "\n",
      "Starting URL reconstruction...\n"
     ]
    },
    {
     "name": "stderr",
     "output_type": "stream",
     "text": [
      "Processing URLs:  60%|█████▉    | 156/262 [08:30<02:51,  1.62s/it]"
     ]
    },
    {
     "name": "stdout",
     "output_type": "stream",
     "text": [
      "Error during HTTP request: 404 Client Error: Not Found for url: https://www.eversports.de/s/tanzstudio-vi-dance-dortmund\n",
      "Converting to DataFrame...\n",
      "Validating URLs...\n",
      "\n",
      "Processing completed.\n",
      "-------------------------------- \n",
      "\n",
      "Starting URL reconstruction...\n"
     ]
    },
    {
     "name": "stderr",
     "output_type": "stream",
     "text": [
      "2024-03-17 15:11:23,064 - INFO - Processing URL 1/2: https://www.eversports.de/s/tsg-blau-gold-giessen-ev\n"
     ]
    },
    {
     "name": "stdout",
     "output_type": "stream",
     "text": [
      "Converting to DataFrame...\n",
      "Validating URLs...\n"
     ]
    },
    {
     "name": "stderr",
     "output_type": "stream",
     "text": [
      "2024-03-17 15:11:24,405 - INFO - URL https://www.eversports.de/s/tsg-blau-gold-giessen-ev is valid.\n",
      "2024-03-17 15:11:24,406 - INFO - Processing URL 2/2: https://www.eversports.de/sw/tsg-blau-gold-giessen-ev\n",
      "2024-03-17 15:11:25,390 - INFO - URL https://www.eversports.de/sw/tsg-blau-gold-giessen-ev is valid.\n"
     ]
    },
    {
     "name": "stdout",
     "output_type": "stream",
     "text": [
      "Scraping Pole Studio Data from https://www.eversports.de/s/tsg-blau-gold-giessen-ev...\n",
      "Scraping Workshops Data from https://www.eversports.de/sw/tsg-blau-gold-giessen-ev...\n",
      "Scraping Workshop Details from https://www.eversports.de/e/workshop/tFkZ7tt...\n",
      "Scraping Workshop Details from https://www.eversports.de/e/workshop/kTY0ERN...\n",
      "Scraping Workshop Details from https://www.eversports.de/e/workshop/OGVid-T...\n",
      "Scraping Workshop Details from https://www.eversports.de/e/workshop/r_s8Xmg...\n"
     ]
    },
    {
     "name": "stderr",
     "output_type": "stream",
     "text": [
      "Processing URLs:  60%|█████▉    | 157/262 [08:45<09:27,  5.40s/it]"
     ]
    },
    {
     "name": "stdout",
     "output_type": "stream",
     "text": [
      "\n",
      "Processing completed.\n",
      "-------------------------------- \n",
      "\n",
      "2024-03-17 15:11:36 - INFO - Scraping Data from: https://www.eversports.de/s/tsg-blau-gold-giessen-ev\n",
      "Pole Studio Data: 1 entries\n",
      "2024-03-17 15:11:36 - INFO - Scraping Data from: https://www.eversports.de/s/tsg-blau-gold-giessen-ev\n",
      "Workshops Data: 4 entries\n",
      "2024-03-17 15:11:36 - INFO - Scraping Data from: https://www.eversports.de/s/tsg-blau-gold-giessen-ev\n",
      "Workshop Details: 4 entries\n",
      "Starting URL reconstruction...\n"
     ]
    },
    {
     "name": "stderr",
     "output_type": "stream",
     "text": [
      "Processing URLs:  60%|██████    | 158/262 [08:46<07:01,  4.06s/it]"
     ]
    },
    {
     "name": "stdout",
     "output_type": "stream",
     "text": [
      "Error during HTTP request: 404 Client Error: Not Found for url: https://www.eversports.de/s/empire-pole\n",
      "Converting to DataFrame...\n",
      "Validating URLs...\n",
      "\n",
      "Processing completed.\n",
      "-------------------------------- \n",
      "\n",
      "Starting URL reconstruction...\n"
     ]
    },
    {
     "name": "stderr",
     "output_type": "stream",
     "text": [
      "2024-03-17 15:11:38,059 - INFO - Processing URL 1/1: https://www.eversports.de/s/poleaddict\n"
     ]
    },
    {
     "name": "stdout",
     "output_type": "stream",
     "text": [
      "Converting to DataFrame...\n",
      "Validating URLs...\n"
     ]
    },
    {
     "name": "stderr",
     "output_type": "stream",
     "text": [
      "2024-03-17 15:11:39,159 - INFO - URL https://www.eversports.de/s/poleaddict is valid.\n"
     ]
    },
    {
     "name": "stdout",
     "output_type": "stream",
     "text": [
      "Scraping Pole Studio Data from https://www.eversports.de/s/poleaddict...\n"
     ]
    },
    {
     "name": "stderr",
     "output_type": "stream",
     "text": [
      "Processing URLs:  61%|██████    | 159/262 [08:48<06:08,  3.58s/it]"
     ]
    },
    {
     "name": "stdout",
     "output_type": "stream",
     "text": [
      "\n",
      "Processing completed.\n",
      "-------------------------------- \n",
      "\n",
      "2024-03-17 15:11:39 - INFO - Scraping Data from: https://www.eversports.de/s/poleaddict\n",
      "Pole Studio Data: 1 entries\n",
      "Starting URL reconstruction...\n"
     ]
    },
    {
     "name": "stderr",
     "output_type": "stream",
     "text": [
      "Processing URLs:  61%|██████    | 160/262 [08:49<05:02,  2.96s/it]"
     ]
    },
    {
     "name": "stdout",
     "output_type": "stream",
     "text": [
      "Error during HTTP request: 404 Client Error: Not Found for url: https://www.eversports.de/s/health-and-shape\n",
      "Converting to DataFrame...\n",
      "Validating URLs...\n",
      "\n",
      "Processing completed.\n",
      "-------------------------------- \n",
      "\n",
      "Starting URL reconstruction...\n"
     ]
    },
    {
     "name": "stderr",
     "output_type": "stream",
     "text": [
      "2024-03-17 15:11:43,720 - INFO - Processing URL 1/1: https://www.eversports.de/s/pure-body-concepts-1\n"
     ]
    },
    {
     "name": "stdout",
     "output_type": "stream",
     "text": [
      "Converting to DataFrame...\n",
      "Validating URLs...\n"
     ]
    },
    {
     "name": "stderr",
     "output_type": "stream",
     "text": [
      "2024-03-17 15:11:44,939 - INFO - URL https://www.eversports.de/s/pure-body-concepts-1 is valid.\n"
     ]
    },
    {
     "name": "stdout",
     "output_type": "stream",
     "text": [
      "Scraping Pole Studio Data from https://www.eversports.de/s/pure-body-concepts-1...\n"
     ]
    },
    {
     "name": "stderr",
     "output_type": "stream",
     "text": [
      "Processing URLs:  61%|██████▏   | 161/262 [08:54<05:42,  3.39s/it]"
     ]
    },
    {
     "name": "stdout",
     "output_type": "stream",
     "text": [
      "\n",
      "Processing completed.\n",
      "-------------------------------- \n",
      "\n",
      "2024-03-17 15:11:45 - INFO - Scraping Data from: https://www.eversports.de/s/pure-body-concepts-1\n",
      "Pole Studio Data: 1 entries\n",
      "Starting URL reconstruction...\n"
     ]
    },
    {
     "name": "stderr",
     "output_type": "stream",
     "text": [
      "2024-03-17 15:11:46,599 - INFO - Processing URL 1/1: https://www.eversports.de/s/tanzteufel\n"
     ]
    },
    {
     "name": "stdout",
     "output_type": "stream",
     "text": [
      "Converting to DataFrame...\n",
      "Validating URLs...\n"
     ]
    },
    {
     "name": "stderr",
     "output_type": "stream",
     "text": [
      "2024-03-17 15:11:47,789 - INFO - URL https://www.eversports.de/s/tanzteufel is valid.\n"
     ]
    },
    {
     "name": "stdout",
     "output_type": "stream",
     "text": [
      "Scraping Pole Studio Data from https://www.eversports.de/s/tanzteufel...\n"
     ]
    },
    {
     "name": "stderr",
     "output_type": "stream",
     "text": [
      "Processing URLs:  62%|██████▏   | 162/262 [08:57<05:28,  3.29s/it]"
     ]
    },
    {
     "name": "stdout",
     "output_type": "stream",
     "text": [
      "\n",
      "Processing completed.\n",
      "-------------------------------- \n",
      "\n",
      "2024-03-17 15:11:48 - INFO - Scraping Data from: https://www.eversports.de/s/tanzteufel\n",
      "Pole Studio Data: 1 entries\n",
      "Starting URL reconstruction...\n"
     ]
    },
    {
     "name": "stderr",
     "output_type": "stream",
     "text": [
      "Processing URLs:  62%|██████▏   | 163/262 [08:58<04:15,  2.58s/it]"
     ]
    },
    {
     "name": "stdout",
     "output_type": "stream",
     "text": [
      "Error during HTTP request: 404 Client Error: Not Found for url: https://www.eversports.de/s/die-dance-academy-by-wipper\n",
      "Converting to DataFrame...\n",
      "Validating URLs...\n",
      "\n",
      "Processing completed.\n",
      "-------------------------------- \n",
      "\n",
      "Starting URL reconstruction...\n"
     ]
    },
    {
     "name": "stderr",
     "output_type": "stream",
     "text": [
      "Processing URLs:  63%|██████▎   | 164/262 [08:59<03:21,  2.06s/it]"
     ]
    },
    {
     "name": "stdout",
     "output_type": "stream",
     "text": [
      "Error during HTTP request: 404 Client Error: Not Found for url: https://www.eversports.de/s/pole-faction-pole-dance-and-fitness\n",
      "Converting to DataFrame...\n",
      "Validating URLs...\n",
      "\n",
      "Processing completed.\n",
      "-------------------------------- \n",
      "\n",
      "Starting URL reconstruction...\n"
     ]
    },
    {
     "name": "stderr",
     "output_type": "stream",
     "text": [
      "2024-03-17 15:11:51,876 - INFO - Processing URL 1/2: https://www.eversports.de/s/pole-formance\n"
     ]
    },
    {
     "name": "stdout",
     "output_type": "stream",
     "text": [
      "Converting to DataFrame...\n",
      "Validating URLs...\n"
     ]
    },
    {
     "name": "stderr",
     "output_type": "stream",
     "text": [
      "2024-03-17 15:11:54,021 - INFO - URL https://www.eversports.de/s/pole-formance is valid.\n",
      "2024-03-17 15:11:54,021 - INFO - Processing URL 2/2: https://www.eversports.de/sw/pole-formance\n",
      "2024-03-17 15:11:54,865 - INFO - URL https://www.eversports.de/sw/pole-formance is valid.\n"
     ]
    },
    {
     "name": "stdout",
     "output_type": "stream",
     "text": [
      "Scraping Pole Studio Data from https://www.eversports.de/s/pole-formance...\n",
      "Scraping Workshops Data from https://www.eversports.de/sw/pole-formance...\n",
      "Scraping Workshop Details from https://www.eversports.de/e/workshop/OKCi40X...\n"
     ]
    },
    {
     "name": "stderr",
     "output_type": "stream",
     "text": [
      "Processing URLs:  63%|██████▎   | 165/262 [09:06<05:38,  3.49s/it]"
     ]
    },
    {
     "name": "stdout",
     "output_type": "stream",
     "text": [
      "\n",
      "Processing completed.\n",
      "-------------------------------- \n",
      "\n",
      "2024-03-17 15:11:57 - INFO - Scraping Data from: https://www.eversports.de/s/pole-formance\n",
      "Pole Studio Data: 1 entries\n",
      "2024-03-17 15:11:57 - INFO - Scraping Data from: https://www.eversports.de/s/pole-formance\n",
      "Workshops Data: 1 entries\n",
      "2024-03-17 15:11:57 - INFO - Scraping Data from: https://www.eversports.de/s/pole-formance\n",
      "Workshop Details: 1 entries\n",
      "Starting URL reconstruction...\n"
     ]
    },
    {
     "name": "stderr",
     "output_type": "stream",
     "text": [
      "Processing URLs:  63%|██████▎   | 166/262 [09:10<06:16,  3.92s/it]"
     ]
    },
    {
     "name": "stdout",
     "output_type": "stream",
     "text": [
      "Error during HTTP request: 404 Client Error: Not Found for url: https://www.eversports.de/s/mypole\n",
      "Converting to DataFrame...\n",
      "Validating URLs...\n",
      "\n",
      "Processing completed.\n",
      "-------------------------------- \n",
      "\n",
      "Starting URL reconstruction...\n"
     ]
    },
    {
     "name": "stderr",
     "output_type": "stream",
     "text": [
      "2024-03-17 15:12:03,332 - INFO - Processing URL 1/2: https://www.eversports.de/s/pole-and-move-mannheim\n"
     ]
    },
    {
     "name": "stdout",
     "output_type": "stream",
     "text": [
      "Converting to DataFrame...\n",
      "Validating URLs...\n"
     ]
    },
    {
     "name": "stderr",
     "output_type": "stream",
     "text": [
      "2024-03-17 15:12:04,466 - INFO - URL https://www.eversports.de/s/pole-and-move-mannheim is valid.\n",
      "2024-03-17 15:12:04,469 - INFO - Processing URL 2/2: https://www.eversports.de/sw/pole-and-move-mannheim\n",
      "2024-03-17 15:12:06,243 - INFO - URL https://www.eversports.de/sw/pole-and-move-mannheim is valid.\n"
     ]
    },
    {
     "name": "stdout",
     "output_type": "stream",
     "text": [
      "Scraping Pole Studio Data from https://www.eversports.de/s/pole-and-move-mannheim...\n",
      "Scraping Workshops Data from https://www.eversports.de/sw/pole-and-move-mannheim...\n",
      "Scraping Workshop Details from https://www.eversports.de/e/workshop/miY7n0b...\n",
      "Scraping Workshop Details from https://www.eversports.de/e/workshop/C9b62JT...\n",
      "Scraping Workshop Details from https://www.eversports.de/e/workshop/0fonSE4...\n"
     ]
    },
    {
     "name": "stderr",
     "output_type": "stream",
     "text": [
      "Processing URLs:  64%|██████▎   | 167/262 [09:22<09:38,  6.09s/it]"
     ]
    },
    {
     "name": "stdout",
     "output_type": "stream",
     "text": [
      "\n",
      "Processing completed.\n",
      "-------------------------------- \n",
      "\n",
      "2024-03-17 15:12:13 - INFO - Scraping Data from: https://www.eversports.de/s/pole-and-move-mannheim\n",
      "Pole Studio Data: 1 entries\n",
      "2024-03-17 15:12:13 - INFO - Scraping Data from: https://www.eversports.de/s/pole-and-move-mannheim\n",
      "Workshops Data: 3 entries\n",
      "2024-03-17 15:12:13 - INFO - Scraping Data from: https://www.eversports.de/s/pole-and-move-mannheim\n",
      "Workshop Details: 3 entries\n",
      "Starting URL reconstruction...\n"
     ]
    },
    {
     "name": "stderr",
     "output_type": "stream",
     "text": [
      "2024-03-17 15:12:14,221 - INFO - Processing URL 1/1: https://www.eversports.de/s/yh-pole-and-sports-berlin\n"
     ]
    },
    {
     "name": "stdout",
     "output_type": "stream",
     "text": [
      "Converting to DataFrame...\n",
      "Validating URLs...\n"
     ]
    },
    {
     "name": "stderr",
     "output_type": "stream",
     "text": [
      "2024-03-17 15:12:15,286 - INFO - URL https://www.eversports.de/s/yh-pole-and-sports-berlin is valid.\n"
     ]
    },
    {
     "name": "stdout",
     "output_type": "stream",
     "text": [
      "Scraping Pole Studio Data from https://www.eversports.de/s/yh-pole-and-sports-berlin...\n"
     ]
    },
    {
     "name": "stderr",
     "output_type": "stream",
     "text": [
      "Processing URLs:  64%|██████▍   | 168/262 [09:24<07:53,  5.04s/it]"
     ]
    },
    {
     "name": "stdout",
     "output_type": "stream",
     "text": [
      "\n",
      "Processing completed.\n",
      "-------------------------------- \n",
      "\n",
      "2024-03-17 15:12:15 - INFO - Scraping Data from: https://www.eversports.de/s/yh-pole-and-sports-berlin\n",
      "Pole Studio Data: 1 entries\n",
      "Starting URL reconstruction...\n"
     ]
    },
    {
     "name": "stderr",
     "output_type": "stream",
     "text": [
      "Processing URLs:  65%|██████▍   | 169/262 [09:26<06:06,  3.94s/it]"
     ]
    },
    {
     "name": "stdout",
     "output_type": "stream",
     "text": [
      "Error during HTTP request: 404 Client Error: Not Found for url: https://www.eversports.de/s/pole-sensation\n",
      "Converting to DataFrame...\n",
      "Validating URLs...\n",
      "\n",
      "Processing completed.\n",
      "-------------------------------- \n",
      "\n",
      "Starting URL reconstruction...\n"
     ]
    },
    {
     "name": "stderr",
     "output_type": "stream",
     "text": [
      "Processing URLs:  65%|██████▍   | 170/262 [09:28<05:31,  3.61s/it]"
     ]
    },
    {
     "name": "stdout",
     "output_type": "stream",
     "text": [
      "Error during HTTP request: Exceeded 30 redirects.\n",
      "Converting to DataFrame...\n",
      "Validating URLs...\n",
      "\n",
      "Processing completed.\n",
      "-------------------------------- \n",
      "\n",
      "Starting URL reconstruction...\n"
     ]
    },
    {
     "name": "stderr",
     "output_type": "stream",
     "text": [
      "Processing URLs:  65%|██████▌   | 171/262 [09:29<04:12,  2.77s/it]"
     ]
    },
    {
     "name": "stdout",
     "output_type": "stream",
     "text": [
      "Error during HTTP request: 404 Client Error: Not Found for url: https://www.eversports.de/s/mstage-tanzart-bewegung\n",
      "Converting to DataFrame...\n",
      "Validating URLs...\n",
      "\n",
      "Processing completed.\n",
      "-------------------------------- \n",
      "\n",
      "Starting URL reconstruction...\n"
     ]
    },
    {
     "name": "stderr",
     "output_type": "stream",
     "text": [
      "2024-03-17 15:12:21,763 - INFO - Processing URL 1/2: https://www.eversports.de/s/polespirit\n"
     ]
    },
    {
     "name": "stdout",
     "output_type": "stream",
     "text": [
      "Converting to DataFrame...\n",
      "Validating URLs...\n"
     ]
    },
    {
     "name": "stderr",
     "output_type": "stream",
     "text": [
      "2024-03-17 15:12:22,664 - INFO - URL https://www.eversports.de/s/polespirit is valid.\n",
      "2024-03-17 15:12:22,665 - INFO - Processing URL 2/2: https://www.eversports.de/sw/polespirit\n",
      "2024-03-17 15:12:23,473 - INFO - URL https://www.eversports.de/sw/polespirit is valid.\n"
     ]
    },
    {
     "name": "stdout",
     "output_type": "stream",
     "text": [
      "Scraping Pole Studio Data from https://www.eversports.de/s/polespirit...\n",
      "Scraping Workshops Data from https://www.eversports.de/sw/polespirit...\n",
      "Scraping Workshop Details from https://www.eversports.de/e/workshop/xUH0CLo...\n",
      "Scraping Workshop Details from https://www.eversports.de/e/workshop/GpBpifi...\n"
     ]
    },
    {
     "name": "stderr",
     "output_type": "stream",
     "text": [
      "Processing URLs:  66%|██████▌   | 172/262 [09:37<06:28,  4.31s/it]"
     ]
    },
    {
     "name": "stdout",
     "output_type": "stream",
     "text": [
      "\n",
      "Processing completed.\n",
      "-------------------------------- \n",
      "\n",
      "2024-03-17 15:12:28 - INFO - Scraping Data from: https://www.eversports.de/s/polespirit\n",
      "Pole Studio Data: 1 entries\n",
      "2024-03-17 15:12:28 - INFO - Scraping Data from: https://www.eversports.de/s/polespirit\n",
      "Workshops Data: 2 entries\n",
      "2024-03-17 15:12:28 - INFO - Scraping Data from: https://www.eversports.de/s/polespirit\n",
      "Workshop Details: 2 entries\n",
      "Starting URL reconstruction...\n"
     ]
    },
    {
     "name": "stderr",
     "output_type": "stream",
     "text": [
      "2024-03-17 15:12:29,746 - INFO - Processing URL 1/1: https://www.eversports.de/s/artletik-ug-laufen-und-meer\n"
     ]
    },
    {
     "name": "stdout",
     "output_type": "stream",
     "text": [
      "Converting to DataFrame...\n",
      "Validating URLs...\n"
     ]
    },
    {
     "name": "stderr",
     "output_type": "stream",
     "text": [
      "2024-03-17 15:12:32,562 - INFO - URL https://www.eversports.de/s/artletik-ug-laufen-und-meer is valid.\n"
     ]
    },
    {
     "name": "stdout",
     "output_type": "stream",
     "text": [
      "Scraping Pole Studio Data from https://www.eversports.de/s/artletik-ug-laufen-und-meer...\n"
     ]
    },
    {
     "name": "stderr",
     "output_type": "stream",
     "text": [
      "Processing URLs:  66%|██████▌   | 173/262 [09:41<06:22,  4.30s/it]"
     ]
    },
    {
     "name": "stdout",
     "output_type": "stream",
     "text": [
      "\n",
      "Processing completed.\n",
      "-------------------------------- \n",
      "\n",
      "2024-03-17 15:12:32 - INFO - Scraping Data from: https://www.eversports.de/s/artletik-ug-laufen-und-meer\n",
      "Pole Studio Data: 1 entries\n",
      "Starting URL reconstruction...\n"
     ]
    },
    {
     "name": "stderr",
     "output_type": "stream",
     "text": [
      "Processing URLs:  66%|██████▋   | 174/262 [09:42<04:53,  3.34s/it]"
     ]
    },
    {
     "name": "stdout",
     "output_type": "stream",
     "text": [
      "Error during HTTP request: 404 Client Error: Not Found for url: https://www.eversports.de/s/infinity-polesports-burgkirchen\n",
      "Converting to DataFrame...\n",
      "Validating URLs...\n",
      "\n",
      "Processing completed.\n",
      "-------------------------------- \n",
      "\n",
      "Starting URL reconstruction...\n"
     ]
    },
    {
     "name": "stderr",
     "output_type": "stream",
     "text": [
      "Processing URLs:  67%|██████▋   | 175/262 [09:43<03:46,  2.60s/it]"
     ]
    },
    {
     "name": "stdout",
     "output_type": "stream",
     "text": [
      "Error during HTTP request: 404 Client Error: Not Found for url: https://www.eversports.de/s/tsg-blau-gold-ballett--und-pole-dance--studio\n",
      "Converting to DataFrame...\n",
      "Validating URLs...\n",
      "\n",
      "Processing completed.\n",
      "-------------------------------- \n",
      "\n",
      "Starting URL reconstruction...\n"
     ]
    },
    {
     "name": "stderr",
     "output_type": "stream",
     "text": [
      "2024-03-17 15:12:36,899 - INFO - Processing URL 1/1: https://www.eversports.de/s/dc-pole-studio\n"
     ]
    },
    {
     "name": "stdout",
     "output_type": "stream",
     "text": [
      "Converting to DataFrame...\n",
      "Validating URLs...\n"
     ]
    },
    {
     "name": "stderr",
     "output_type": "stream",
     "text": [
      "2024-03-17 15:12:37,995 - INFO - URL https://www.eversports.de/s/dc-pole-studio is valid.\n"
     ]
    },
    {
     "name": "stdout",
     "output_type": "stream",
     "text": [
      "Scraping Pole Studio Data from https://www.eversports.de/s/dc-pole-studio...\n"
     ]
    },
    {
     "name": "stderr",
     "output_type": "stream",
     "text": [
      "Processing URLs:  67%|██████▋   | 176/262 [09:47<04:09,  2.91s/it]"
     ]
    },
    {
     "name": "stdout",
     "output_type": "stream",
     "text": [
      "\n",
      "Processing completed.\n",
      "-------------------------------- \n",
      "\n",
      "2024-03-17 15:12:38 - INFO - Scraping Data from: https://www.eversports.be/s/dc-pole-studio\n",
      "Pole Studio Data: 1 entries\n",
      "Starting URL reconstruction...\n"
     ]
    },
    {
     "name": "stderr",
     "output_type": "stream",
     "text": [
      "Processing URLs:  68%|██████▊   | 177/262 [09:48<03:15,  2.30s/it]"
     ]
    },
    {
     "name": "stdout",
     "output_type": "stream",
     "text": [
      "Error during HTTP request: 404 Client Error: Not Found for url: https://www.eversports.de/s/le-serpent-rouge\n",
      "Converting to DataFrame...\n",
      "Validating URLs...\n",
      "\n",
      "Processing completed.\n",
      "-------------------------------- \n",
      "\n",
      "Starting URL reconstruction...\n"
     ]
    },
    {
     "name": "stderr",
     "output_type": "stream",
     "text": [
      "Processing URLs:  68%|██████▊   | 178/262 [09:51<03:32,  2.53s/it]"
     ]
    },
    {
     "name": "stdout",
     "output_type": "stream",
     "text": [
      "Error during HTTP request: Exceeded 30 redirects.\n",
      "Converting to DataFrame...\n",
      "Validating URLs...\n",
      "\n",
      "Processing completed.\n",
      "-------------------------------- \n",
      "\n",
      "Starting URL reconstruction...\n"
     ]
    },
    {
     "name": "stderr",
     "output_type": "stream",
     "text": [
      "2024-03-17 15:12:45,491 - INFO - Processing URL 1/1: https://www.eversports.de/s/danza-dell-orso-d-oro\n"
     ]
    },
    {
     "name": "stdout",
     "output_type": "stream",
     "text": [
      "Converting to DataFrame...\n",
      "Validating URLs...\n"
     ]
    },
    {
     "name": "stderr",
     "output_type": "stream",
     "text": [
      "2024-03-17 15:12:46,426 - INFO - URL https://www.eversports.de/s/danza-dell-orso-d-oro is valid.\n"
     ]
    },
    {
     "name": "stdout",
     "output_type": "stream",
     "text": [
      "Scraping Pole Studio Data from https://www.eversports.de/s/danza-dell-orso-d-oro...\n"
     ]
    },
    {
     "name": "stderr",
     "output_type": "stream",
     "text": [
      "Processing URLs:  68%|██████▊   | 179/262 [09:55<04:18,  3.11s/it]"
     ]
    },
    {
     "name": "stdout",
     "output_type": "stream",
     "text": [
      "\n",
      "Processing completed.\n",
      "-------------------------------- \n",
      "\n",
      "2024-03-17 15:12:46 - INFO - Scraping Data from: https://www.eversports.ch/s/danza-dell-orso-d-oro\n",
      "Pole Studio Data: 1 entries\n",
      "Starting URL reconstruction...\n"
     ]
    },
    {
     "name": "stderr",
     "output_type": "stream",
     "text": [
      "Processing URLs:  69%|██████▊   | 180/262 [09:56<03:19,  2.43s/it]"
     ]
    },
    {
     "name": "stdout",
     "output_type": "stream",
     "text": [
      "Error during HTTP request: 404 Client Error: Not Found for url: https://www.eversports.de/s/ironx\n",
      "Converting to DataFrame...\n",
      "Validating URLs...\n",
      "\n",
      "Processing completed.\n",
      "-------------------------------- \n",
      "\n",
      "Starting URL reconstruction...\n"
     ]
    },
    {
     "name": "stderr",
     "output_type": "stream",
     "text": [
      "Processing URLs:  69%|██████▉   | 181/262 [09:57<02:39,  1.97s/it]"
     ]
    },
    {
     "name": "stdout",
     "output_type": "stream",
     "text": [
      "Error during HTTP request: 404 Client Error: Not Found for url: https://www.eversports.de/s/move-on!-dance-studio-&-polemotions\n",
      "Converting to DataFrame...\n",
      "Validating URLs...\n",
      "\n",
      "Processing completed.\n",
      "-------------------------------- \n",
      "\n",
      "Starting URL reconstruction...\n"
     ]
    },
    {
     "name": "stderr",
     "output_type": "stream",
     "text": [
      "2024-03-17 15:12:50,732 - INFO - Processing URL 1/2: https://www.eversports.de/s/pura-studio\n"
     ]
    },
    {
     "name": "stdout",
     "output_type": "stream",
     "text": [
      "Converting to DataFrame...\n",
      "Validating URLs...\n"
     ]
    },
    {
     "name": "stderr",
     "output_type": "stream",
     "text": [
      "2024-03-17 15:12:51,975 - INFO - URL https://www.eversports.de/s/pura-studio is valid.\n",
      "2024-03-17 15:12:51,978 - INFO - Processing URL 2/2: https://www.eversports.de/sw/pura-studio\n",
      "2024-03-17 15:12:52,775 - INFO - URL https://www.eversports.de/sw/pura-studio is valid.\n"
     ]
    },
    {
     "name": "stdout",
     "output_type": "stream",
     "text": [
      "Scraping Pole Studio Data from https://www.eversports.de/s/pura-studio...\n",
      "Scraping Workshops Data from https://www.eversports.de/sw/pura-studio...\n",
      "Scraping Workshop Details from https://www.eversports.de/e/workshop/zjrAzNO...\n",
      "Scraping Workshop Details from https://www.eversports.de/e/workshop/827gEoq...\n",
      "Scraping Workshop Details from https://www.eversports.de/e/workshop/CJtoJD0...\n",
      "Scraping Workshop Details from https://www.eversports.de/e/workshop/05na1FC...\n",
      "Scraping Workshop Details from https://www.eversports.de/e/workshop/8fkp3td...\n"
     ]
    },
    {
     "name": "stderr",
     "output_type": "stream",
     "text": [
      "Processing URLs:  69%|██████▉   | 182/262 [10:09<06:24,  4.81s/it]"
     ]
    },
    {
     "name": "stdout",
     "output_type": "stream",
     "text": [
      "\n",
      "Processing completed.\n",
      "-------------------------------- \n",
      "\n",
      "2024-03-17 15:13:00 - INFO - Scraping Data from: https://www.eversports.de/s/pura-studio\n",
      "Pole Studio Data: 1 entries\n",
      "2024-03-17 15:13:00 - INFO - Scraping Data from: https://www.eversports.de/s/pura-studio\n",
      "Workshops Data: 5 entries\n",
      "2024-03-17 15:13:00 - INFO - Scraping Data from: https://www.eversports.de/s/pura-studio\n",
      "Workshop Details: 5 entries\n",
      "Starting URL reconstruction...\n"
     ]
    },
    {
     "name": "stderr",
     "output_type": "stream",
     "text": [
      "2024-03-17 15:13:02,258 - INFO - Processing URL 1/1: https://www.eversports.de/s/pole-loft\n"
     ]
    },
    {
     "name": "stdout",
     "output_type": "stream",
     "text": [
      "Converting to DataFrame...\n",
      "Validating URLs...\n"
     ]
    },
    {
     "name": "stderr",
     "output_type": "stream",
     "text": [
      "2024-03-17 15:13:03,306 - INFO - URL https://www.eversports.de/s/pole-loft is valid.\n"
     ]
    },
    {
     "name": "stdout",
     "output_type": "stream",
     "text": [
      "Scraping Pole Studio Data from https://www.eversports.de/s/pole-loft...\n"
     ]
    },
    {
     "name": "stderr",
     "output_type": "stream",
     "text": [
      "Processing URLs:  70%|██████▉   | 183/262 [10:12<05:52,  4.47s/it]"
     ]
    },
    {
     "name": "stdout",
     "output_type": "stream",
     "text": [
      "\n",
      "Processing completed.\n",
      "-------------------------------- \n",
      "\n",
      "2024-03-17 15:13:03 - INFO - Scraping Data from: https://www.eversports.de/s/pole-loft\n",
      "Pole Studio Data: 1 entries\n",
      "Starting URL reconstruction...\n"
     ]
    },
    {
     "name": "stderr",
     "output_type": "stream",
     "text": [
      "Processing URLs:  70%|███████   | 184/262 [10:13<04:25,  3.40s/it]"
     ]
    },
    {
     "name": "stdout",
     "output_type": "stream",
     "text": [
      "Error during HTTP request: 404 Client Error: Not Found for url: https://www.eversports.de/s/verticalarts-pole-and-aerial-fitness\n",
      "Converting to DataFrame...\n",
      "Validating URLs...\n",
      "\n",
      "Processing completed.\n",
      "-------------------------------- \n",
      "\n",
      "Starting URL reconstruction...\n"
     ]
    },
    {
     "name": "stderr",
     "output_type": "stream",
     "text": [
      "2024-03-17 15:13:05,779 - INFO - Processing URL 1/1: https://www.eversports.de/s/tanzschule-poledance-reutlingen\n"
     ]
    },
    {
     "name": "stdout",
     "output_type": "stream",
     "text": [
      "Converting to DataFrame...\n",
      "Validating URLs...\n"
     ]
    },
    {
     "name": "stderr",
     "output_type": "stream",
     "text": [
      "2024-03-17 15:13:06,772 - INFO - URL https://www.eversports.de/s/tanzschule-poledance-reutlingen is valid.\n"
     ]
    },
    {
     "name": "stdout",
     "output_type": "stream",
     "text": [
      "Scraping Pole Studio Data from https://www.eversports.de/s/tanzschule-poledance-reutlingen...\n"
     ]
    },
    {
     "name": "stderr",
     "output_type": "stream",
     "text": [
      "Processing URLs:  71%|███████   | 185/262 [10:16<04:05,  3.19s/it]"
     ]
    },
    {
     "name": "stdout",
     "output_type": "stream",
     "text": [
      "\n",
      "Processing completed.\n",
      "-------------------------------- \n",
      "\n",
      "2024-03-17 15:13:07 - INFO - Scraping Data from: https://www.eversports.de/s/tanzschule-poledance-reutlingen\n",
      "Pole Studio Data: 1 entries\n",
      "Starting URL reconstruction...\n"
     ]
    },
    {
     "name": "stderr",
     "output_type": "stream",
     "text": [
      "2024-03-17 15:13:08,494 - INFO - Processing URL 1/1: https://www.eversports.de/s/mmc-dance-and-event-studio\n"
     ]
    },
    {
     "name": "stdout",
     "output_type": "stream",
     "text": [
      "Converting to DataFrame...\n",
      "Validating URLs...\n"
     ]
    },
    {
     "name": "stderr",
     "output_type": "stream",
     "text": [
      "2024-03-17 15:13:10,339 - INFO - URL https://www.eversports.de/s/mmc-dance-and-event-studio is valid.\n"
     ]
    },
    {
     "name": "stdout",
     "output_type": "stream",
     "text": [
      "Scraping Pole Studio Data from https://www.eversports.de/s/mmc-dance-and-event-studio...\n"
     ]
    },
    {
     "name": "stderr",
     "output_type": "stream",
     "text": [
      "Processing URLs:  71%|███████   | 186/262 [10:19<04:06,  3.24s/it]"
     ]
    },
    {
     "name": "stdout",
     "output_type": "stream",
     "text": [
      "\n",
      "Processing completed.\n",
      "-------------------------------- \n",
      "\n",
      "2024-03-17 15:13:10 - INFO - Scraping Data from: https://www.eversports.de/s/mmc-dance-and-event-studio\n",
      "Pole Studio Data: 1 entries\n",
      "Starting URL reconstruction...\n"
     ]
    },
    {
     "name": "stderr",
     "output_type": "stream",
     "text": [
      "Processing URLs:  71%|███████▏  | 187/262 [10:22<03:55,  3.14s/it]"
     ]
    },
    {
     "name": "stdout",
     "output_type": "stream",
     "text": [
      "Error during HTTP request: Exceeded 30 redirects.\n",
      "Converting to DataFrame...\n",
      "Validating URLs...\n",
      "\n",
      "Processing completed.\n",
      "-------------------------------- \n",
      "\n",
      "Starting URL reconstruction...\n"
     ]
    },
    {
     "name": "stderr",
     "output_type": "stream",
     "text": [
      "2024-03-17 15:13:14,538 - INFO - Processing URL 1/1: https://www.eversports.de/s/aerial-sportstudio\n"
     ]
    },
    {
     "name": "stdout",
     "output_type": "stream",
     "text": [
      "Converting to DataFrame...\n",
      "Validating URLs...\n"
     ]
    },
    {
     "name": "stderr",
     "output_type": "stream",
     "text": [
      "2024-03-17 15:13:15,451 - INFO - URL https://www.eversports.de/s/aerial-sportstudio is valid.\n"
     ]
    },
    {
     "name": "stdout",
     "output_type": "stream",
     "text": [
      "Scraping Pole Studio Data from https://www.eversports.de/s/aerial-sportstudio...\n"
     ]
    },
    {
     "name": "stderr",
     "output_type": "stream",
     "text": [
      "Processing URLs:  72%|███████▏  | 188/262 [10:24<03:29,  2.83s/it]"
     ]
    },
    {
     "name": "stdout",
     "output_type": "stream",
     "text": [
      "\n",
      "Processing completed.\n",
      "-------------------------------- \n",
      "\n",
      "2024-03-17 15:13:15 - INFO - Scraping Data from: https://www.eversports.de/s/aerial-sportstudio\n",
      "Pole Studio Data: 1 entries\n",
      "Starting URL reconstruction...\n"
     ]
    },
    {
     "name": "stderr",
     "output_type": "stream",
     "text": [
      "Processing URLs:  72%|███████▏  | 189/262 [10:25<02:42,  2.22s/it]"
     ]
    },
    {
     "name": "stdout",
     "output_type": "stream",
     "text": [
      "Error during HTTP request: 404 Client Error: Not Found for url: https://www.eversports.de/s/dayuma\n",
      "Converting to DataFrame...\n",
      "Validating URLs...\n",
      "\n",
      "Processing completed.\n",
      "-------------------------------- \n",
      "\n",
      "Starting URL reconstruction...\n"
     ]
    },
    {
     "name": "stderr",
     "output_type": "stream",
     "text": [
      "2024-03-17 15:13:17,907 - INFO - Processing URL 1/2: https://www.eversports.de/s/yoga-at-lobe-block\n"
     ]
    },
    {
     "name": "stdout",
     "output_type": "stream",
     "text": [
      "Converting to DataFrame...\n",
      "Validating URLs...\n"
     ]
    },
    {
     "name": "stderr",
     "output_type": "stream",
     "text": [
      "2024-03-17 15:13:19,062 - INFO - URL https://www.eversports.de/s/yoga-at-lobe-block is valid.\n",
      "2024-03-17 15:13:19,063 - INFO - Processing URL 2/2: https://www.eversports.de/sw/yoga-at-lobe-block\n",
      "2024-03-17 15:13:19,995 - INFO - URL https://www.eversports.de/sw/yoga-at-lobe-block is valid.\n"
     ]
    },
    {
     "name": "stdout",
     "output_type": "stream",
     "text": [
      "Scraping Pole Studio Data from https://www.eversports.de/s/yoga-at-lobe-block...\n",
      "Scraping Workshops Data from https://www.eversports.de/sw/yoga-at-lobe-block...\n",
      "Scraping Workshop Details from https://www.eversports.de/e/workshop/BjV3WGc...\n",
      "Scraping Workshop Details from https://www.eversports.de/e/workshop/XBkvMd1...\n",
      "Scraping Workshop Details from https://www.eversports.de/e/workshop/QaklFLB...\n"
     ]
    },
    {
     "name": "stderr",
     "output_type": "stream",
     "text": [
      "Processing URLs:  73%|███████▎  | 190/262 [10:33<04:53,  4.08s/it]"
     ]
    },
    {
     "name": "stdout",
     "output_type": "stream",
     "text": [
      "\n",
      "Processing completed.\n",
      "-------------------------------- \n",
      "\n",
      "2024-03-17 15:13:24 - INFO - Scraping Data from: https://www.eversports.de/s/yoga-at-lobe-block\n",
      "Pole Studio Data: 1 entries\n",
      "2024-03-17 15:13:24 - INFO - Scraping Data from: https://www.eversports.de/s/yoga-at-lobe-block\n",
      "Workshops Data: 3 entries\n",
      "2024-03-17 15:13:24 - INFO - Scraping Data from: https://www.eversports.de/s/yoga-at-lobe-block\n",
      "Workshop Details: 3 entries\n",
      "Starting URL reconstruction...\n"
     ]
    },
    {
     "name": "stderr",
     "output_type": "stream",
     "text": [
      "2024-03-17 15:13:26,715 - INFO - Processing URL 1/1: https://www.eversports.de/s/valkyrie-pole-basel\n"
     ]
    },
    {
     "name": "stdout",
     "output_type": "stream",
     "text": [
      "Converting to DataFrame...\n",
      "Validating URLs...\n"
     ]
    },
    {
     "name": "stderr",
     "output_type": "stream",
     "text": [
      "2024-03-17 15:13:27,643 - INFO - URL https://www.eversports.de/s/valkyrie-pole-basel is valid.\n"
     ]
    },
    {
     "name": "stdout",
     "output_type": "stream",
     "text": [
      "Scraping Pole Studio Data from https://www.eversports.de/s/valkyrie-pole-basel...\n"
     ]
    },
    {
     "name": "stderr",
     "output_type": "stream",
     "text": [
      "Processing URLs:  73%|███████▎  | 191/262 [10:37<04:28,  3.78s/it]"
     ]
    },
    {
     "name": "stdout",
     "output_type": "stream",
     "text": [
      "\n",
      "Processing completed.\n",
      "-------------------------------- \n",
      "\n",
      "2024-03-17 15:13:28 - INFO - Scraping Data from: https://www.eversports.ch/s/valkyrie-pole-basel\n",
      "Pole Studio Data: 1 entries\n",
      "Starting URL reconstruction...\n"
     ]
    },
    {
     "name": "stderr",
     "output_type": "stream",
     "text": [
      "Processing URLs:  73%|███████▎  | 192/262 [10:37<03:22,  2.90s/it]"
     ]
    },
    {
     "name": "stdout",
     "output_type": "stream",
     "text": [
      "Error during HTTP request: 404 Client Error: Not Found for url: https://www.eversports.de/s/drehmoment-pole.aerial.dance\n",
      "Converting to DataFrame...\n",
      "Validating URLs...\n",
      "\n",
      "Processing completed.\n",
      "-------------------------------- \n",
      "\n",
      "Starting URL reconstruction...\n"
     ]
    },
    {
     "name": "stderr",
     "output_type": "stream",
     "text": [
      "2024-03-17 15:13:30,289 - INFO - Processing URL 1/2: https://www.eversports.de/s/pole-heroes\n"
     ]
    },
    {
     "name": "stdout",
     "output_type": "stream",
     "text": [
      "Converting to DataFrame...\n",
      "Validating URLs...\n"
     ]
    },
    {
     "name": "stderr",
     "output_type": "stream",
     "text": [
      "2024-03-17 15:13:31,312 - INFO - URL https://www.eversports.de/s/pole-heroes is valid.\n",
      "2024-03-17 15:13:31,313 - INFO - Processing URL 2/2: https://www.eversports.de/sw/pole-heroes\n",
      "2024-03-17 15:13:32,103 - INFO - URL https://www.eversports.de/sw/pole-heroes is valid.\n"
     ]
    },
    {
     "name": "stdout",
     "output_type": "stream",
     "text": [
      "Scraping Pole Studio Data from https://www.eversports.de/s/pole-heroes...\n",
      "Scraping Workshops Data from https://www.eversports.de/sw/pole-heroes...\n",
      "Scraping Workshop Details from https://www.eversports.de/e/workshop/_cVfx28...\n",
      "Scraping Workshop Details from https://www.eversports.de/e/workshop/vPqMS0U...\n"
     ]
    },
    {
     "name": "stderr",
     "output_type": "stream",
     "text": [
      "Processing URLs:  74%|███████▎  | 193/262 [10:46<05:15,  4.57s/it]"
     ]
    },
    {
     "name": "stdout",
     "output_type": "stream",
     "text": [
      "\n",
      "Processing completed.\n",
      "-------------------------------- \n",
      "\n",
      "2024-03-17 15:13:37 - INFO - Scraping Data from: https://www.eversports.de/s/pole-heroes\n",
      "Pole Studio Data: 1 entries\n",
      "2024-03-17 15:13:37 - INFO - Scraping Data from: https://www.eversports.de/s/pole-heroes\n",
      "Workshops Data: 2 entries\n",
      "2024-03-17 15:13:37 - INFO - Scraping Data from: https://www.eversports.de/s/pole-heroes\n",
      "Workshop Details: 2 entries\n",
      "Starting URL reconstruction...\n"
     ]
    },
    {
     "name": "stderr",
     "output_type": "stream",
     "text": [
      "2024-03-17 15:13:38,444 - INFO - Processing URL 1/1: https://www.eversports.de/s/flying-soul-pole-dance-studio\n"
     ]
    },
    {
     "name": "stdout",
     "output_type": "stream",
     "text": [
      "Converting to DataFrame...\n",
      "Validating URLs...\n"
     ]
    },
    {
     "name": "stderr",
     "output_type": "stream",
     "text": [
      "2024-03-17 15:13:39,509 - INFO - URL https://www.eversports.de/s/flying-soul-pole-dance-studio is valid.\n"
     ]
    },
    {
     "name": "stdout",
     "output_type": "stream",
     "text": [
      "Scraping Pole Studio Data from https://www.eversports.de/s/flying-soul-pole-dance-studio...\n"
     ]
    },
    {
     "name": "stderr",
     "output_type": "stream",
     "text": [
      "Processing URLs:  74%|███████▍  | 194/262 [10:49<04:33,  4.02s/it]"
     ]
    },
    {
     "name": "stdout",
     "output_type": "stream",
     "text": [
      "\n",
      "Processing completed.\n",
      "-------------------------------- \n",
      "\n",
      "2024-03-17 15:13:40 - INFO - Scraping Data from: https://www.eversports.de/s/flying-soul-pole-dance-studio\n",
      "Pole Studio Data: 1 entries\n",
      "Starting URL reconstruction...\n"
     ]
    },
    {
     "name": "stderr",
     "output_type": "stream",
     "text": [
      "Processing URLs:  74%|███████▍  | 195/262 [10:49<03:24,  3.05s/it]"
     ]
    },
    {
     "name": "stdout",
     "output_type": "stream",
     "text": [
      "Error during HTTP request: 404 Client Error: Not Found for url: https://www.eversports.de/s/pole-fun-wehr\n",
      "Converting to DataFrame...\n",
      "Validating URLs...\n",
      "\n",
      "Processing completed.\n",
      "-------------------------------- \n",
      "\n",
      "Starting URL reconstruction...\n"
     ]
    },
    {
     "name": "stderr",
     "output_type": "stream",
     "text": [
      "Processing URLs:  75%|███████▍  | 196/262 [10:52<03:16,  2.98s/it]"
     ]
    },
    {
     "name": "stdout",
     "output_type": "stream",
     "text": [
      "Error during HTTP request: Exceeded 30 redirects.\n",
      "Converting to DataFrame...\n",
      "Validating URLs...\n",
      "\n",
      "Processing completed.\n",
      "-------------------------------- \n",
      "\n",
      "Starting URL reconstruction...\n"
     ]
    },
    {
     "name": "stderr",
     "output_type": "stream",
     "text": [
      "Processing URLs:  75%|███████▌  | 197/262 [10:56<03:27,  3.19s/it]"
     ]
    },
    {
     "name": "stdout",
     "output_type": "stream",
     "text": [
      "Error during HTTP request: Exceeded 30 redirects.\n",
      "Converting to DataFrame...\n",
      "Validating URLs...\n",
      "\n",
      "Processing completed.\n",
      "-------------------------------- \n",
      "\n",
      "Starting URL reconstruction...\n"
     ]
    },
    {
     "name": "stderr",
     "output_type": "stream",
     "text": [
      "Processing URLs:  76%|███████▌  | 198/262 [10:57<02:37,  2.46s/it]"
     ]
    },
    {
     "name": "stdout",
     "output_type": "stream",
     "text": [
      "Error during HTTP request: 404 Client Error: Not Found for url: https://www.eversports.de/s/rock'n'pole-regensburg\n",
      "Converting to DataFrame...\n",
      "Validating URLs...\n",
      "\n",
      "Processing completed.\n",
      "-------------------------------- \n",
      "\n",
      "Starting URL reconstruction...\n"
     ]
    },
    {
     "name": "stderr",
     "output_type": "stream",
     "text": [
      "2024-03-17 15:13:49,102 - INFO - Processing URL 1/1: https://www.eversports.de/s/flow-academy\n"
     ]
    },
    {
     "name": "stdout",
     "output_type": "stream",
     "text": [
      "Converting to DataFrame...\n",
      "Validating URLs...\n"
     ]
    },
    {
     "name": "stderr",
     "output_type": "stream",
     "text": [
      "2024-03-17 15:13:50,260 - INFO - URL https://www.eversports.de/s/flow-academy is valid.\n"
     ]
    },
    {
     "name": "stdout",
     "output_type": "stream",
     "text": [
      "Scraping Pole Studio Data from https://www.eversports.de/s/flow-academy...\n"
     ]
    },
    {
     "name": "stderr",
     "output_type": "stream",
     "text": [
      "Processing URLs:  76%|███████▌  | 199/262 [10:59<02:35,  2.46s/it]"
     ]
    },
    {
     "name": "stdout",
     "output_type": "stream",
     "text": [
      "\n",
      "Processing completed.\n",
      "-------------------------------- \n",
      "\n",
      "2024-03-17 15:13:50 - INFO - Scraping Data from: https://www.eversports.de/s/flow-academy\n",
      "Pole Studio Data: 1 entries\n",
      "Starting URL reconstruction...\n"
     ]
    },
    {
     "name": "stderr",
     "output_type": "stream",
     "text": [
      "Processing URLs:  76%|███████▋  | 200/262 [11:05<03:29,  3.38s/it]"
     ]
    },
    {
     "name": "stdout",
     "output_type": "stream",
     "text": [
      "Error during HTTP request: Exceeded 30 redirects.\n",
      "Converting to DataFrame...\n",
      "Validating URLs...\n",
      "\n",
      "Processing completed.\n",
      "-------------------------------- \n",
      "\n",
      "Starting URL reconstruction...\n"
     ]
    },
    {
     "name": "stderr",
     "output_type": "stream",
     "text": [
      "2024-03-17 15:13:57,207 - INFO - Processing URL 1/1: https://www.eversports.de/s/papillon-dance-and-sport-academy\n"
     ]
    },
    {
     "name": "stdout",
     "output_type": "stream",
     "text": [
      "Converting to DataFrame...\n",
      "Validating URLs...\n"
     ]
    },
    {
     "name": "stderr",
     "output_type": "stream",
     "text": [
      "2024-03-17 15:13:58,262 - INFO - URL https://www.eversports.de/s/papillon-dance-and-sport-academy is valid.\n"
     ]
    },
    {
     "name": "stdout",
     "output_type": "stream",
     "text": [
      "Scraping Pole Studio Data from https://www.eversports.de/s/papillon-dance-and-sport-academy...\n"
     ]
    },
    {
     "name": "stderr",
     "output_type": "stream",
     "text": [
      "Processing URLs:  77%|███████▋  | 201/262 [11:08<03:17,  3.24s/it]"
     ]
    },
    {
     "name": "stdout",
     "output_type": "stream",
     "text": [
      "\n",
      "Processing completed.\n",
      "-------------------------------- \n",
      "\n",
      "2024-03-17 15:13:59 - INFO - Scraping Data from: https://www.eversports.de/s/papillon-dance-and-sport-academy\n",
      "Pole Studio Data: 1 entries\n",
      "Starting URL reconstruction...\n"
     ]
    },
    {
     "name": "stderr",
     "output_type": "stream",
     "text": [
      "Processing URLs:  77%|███████▋  | 202/262 [11:08<02:31,  2.52s/it]"
     ]
    },
    {
     "name": "stdout",
     "output_type": "stream",
     "text": [
      "Error during HTTP request: 404 Client Error: Not Found for url: https://www.eversports.de/s/poledance-worms\n",
      "Converting to DataFrame...\n",
      "Validating URLs...\n",
      "\n",
      "Processing completed.\n",
      "-------------------------------- \n",
      "\n",
      "Starting URL reconstruction...\n"
     ]
    },
    {
     "name": "stderr",
     "output_type": "stream",
     "text": [
      "Processing URLs:  77%|███████▋  | 203/262 [11:09<02:02,  2.07s/it]"
     ]
    },
    {
     "name": "stdout",
     "output_type": "stream",
     "text": [
      "Error during HTTP request: 404 Client Error: Not Found for url: https://www.eversports.de/s/fanlin-studio---pole-%26-aerial-dance\n",
      "Converting to DataFrame...\n",
      "Validating URLs...\n",
      "\n",
      "Processing completed.\n",
      "-------------------------------- \n",
      "\n",
      "Starting URL reconstruction...\n"
     ]
    },
    {
     "name": "stderr",
     "output_type": "stream",
     "text": [
      "Processing URLs:  78%|███████▊  | 204/262 [11:10<01:40,  1.73s/it]"
     ]
    },
    {
     "name": "stdout",
     "output_type": "stream",
     "text": [
      "Error during HTTP request: 404 Client Error: Not Found for url: https://www.eversports.de/s/flyhigh\n",
      "Converting to DataFrame...\n",
      "Validating URLs...\n",
      "\n",
      "Processing completed.\n",
      "-------------------------------- \n",
      "\n",
      "Starting URL reconstruction...\n"
     ]
    },
    {
     "name": "stderr",
     "output_type": "stream",
     "text": [
      "2024-03-17 15:14:03,408 - INFO - Processing URL 1/1: https://www.eversports.de/s/la-belle\n"
     ]
    },
    {
     "name": "stdout",
     "output_type": "stream",
     "text": [
      "Converting to DataFrame...\n",
      "Validating URLs...\n"
     ]
    },
    {
     "name": "stderr",
     "output_type": "stream",
     "text": [
      "2024-03-17 15:14:04,771 - INFO - URL https://www.eversports.de/s/la-belle is valid.\n"
     ]
    },
    {
     "name": "stdout",
     "output_type": "stream",
     "text": [
      "Scraping Pole Studio Data from https://www.eversports.de/s/la-belle...\n"
     ]
    },
    {
     "name": "stderr",
     "output_type": "stream",
     "text": [
      "Processing URLs:  78%|███████▊  | 205/262 [11:14<02:10,  2.29s/it]"
     ]
    },
    {
     "name": "stdout",
     "output_type": "stream",
     "text": [
      "\n",
      "Processing completed.\n",
      "-------------------------------- \n",
      "\n",
      "2024-03-17 15:14:05 - INFO - Scraping Data from: https://www.eversports.de/s/la-belle\n",
      "Pole Studio Data: 1 entries\n",
      "Starting URL reconstruction...\n"
     ]
    },
    {
     "name": "stderr",
     "output_type": "stream",
     "text": [
      "Processing URLs:  79%|███████▊  | 206/262 [11:15<01:43,  1.86s/it]"
     ]
    },
    {
     "name": "stdout",
     "output_type": "stream",
     "text": [
      "Error during HTTP request: 404 Client Error: Not Found for url: https://www.eversports.de/s/polesports-studio-bremen\n",
      "Converting to DataFrame...\n",
      "Validating URLs...\n",
      "\n",
      "Processing completed.\n",
      "-------------------------------- \n",
      "\n",
      "Starting URL reconstruction...\n"
     ]
    },
    {
     "name": "stderr",
     "output_type": "stream",
     "text": [
      "Processing URLs:  79%|███████▉  | 207/262 [11:16<01:24,  1.54s/it]"
     ]
    },
    {
     "name": "stdout",
     "output_type": "stream",
     "text": [
      "Error during HTTP request: 404 Client Error: Not Found for url: https://www.eversports.de/s/polepoint-dance-studio\n",
      "Converting to DataFrame...\n",
      "Validating URLs...\n",
      "\n",
      "Processing completed.\n",
      "-------------------------------- \n",
      "\n",
      "Starting URL reconstruction...\n"
     ]
    },
    {
     "name": "stderr",
     "output_type": "stream",
     "text": [
      "Processing URLs:  79%|███████▉  | 208/262 [11:18<01:43,  1.91s/it]"
     ]
    },
    {
     "name": "stdout",
     "output_type": "stream",
     "text": [
      "Error during HTTP request: Exceeded 30 redirects.\n",
      "Converting to DataFrame...\n",
      "Validating URLs...\n",
      "\n",
      "Processing completed.\n",
      "-------------------------------- \n",
      "\n",
      "Starting URL reconstruction...\n"
     ]
    },
    {
     "name": "stderr",
     "output_type": "stream",
     "text": [
      "2024-03-17 15:14:11,037 - INFO - Processing URL 1/1: https://www.eversports.de/s/aerial-circus\n"
     ]
    },
    {
     "name": "stdout",
     "output_type": "stream",
     "text": [
      "Converting to DataFrame...\n",
      "Validating URLs...\n"
     ]
    },
    {
     "name": "stderr",
     "output_type": "stream",
     "text": [
      "2024-03-17 15:14:12,145 - INFO - URL https://www.eversports.de/s/aerial-circus is valid.\n"
     ]
    },
    {
     "name": "stdout",
     "output_type": "stream",
     "text": [
      "Scraping Pole Studio Data from https://www.eversports.de/s/aerial-circus...\n"
     ]
    },
    {
     "name": "stderr",
     "output_type": "stream",
     "text": [
      "Processing URLs:  80%|███████▉  | 209/262 [11:21<01:52,  2.13s/it]"
     ]
    },
    {
     "name": "stdout",
     "output_type": "stream",
     "text": [
      "\n",
      "Processing completed.\n",
      "-------------------------------- \n",
      "\n",
      "2024-03-17 15:14:12 - INFO - Scraping Data from: https://www.eversports.de/s/aerial-circus\n",
      "Pole Studio Data: 1 entries\n",
      "Starting URL reconstruction...\n"
     ]
    },
    {
     "name": "stderr",
     "output_type": "stream",
     "text": [
      "2024-03-17 15:14:13,485 - INFO - Processing URL 1/1: https://www.eversports.de/s/polesensation\n"
     ]
    },
    {
     "name": "stdout",
     "output_type": "stream",
     "text": [
      "Converting to DataFrame...\n",
      "Validating URLs...\n"
     ]
    },
    {
     "name": "stderr",
     "output_type": "stream",
     "text": [
      "2024-03-17 15:14:14,414 - INFO - URL https://www.eversports.de/s/polesensation is valid.\n"
     ]
    },
    {
     "name": "stdout",
     "output_type": "stream",
     "text": [
      "Scraping Pole Studio Data from https://www.eversports.de/s/polesensation...\n"
     ]
    },
    {
     "name": "stderr",
     "output_type": "stream",
     "text": [
      "Processing URLs:  80%|████████  | 210/262 [11:23<01:52,  2.17s/it]"
     ]
    },
    {
     "name": "stdout",
     "output_type": "stream",
     "text": [
      "\n",
      "Processing completed.\n",
      "-------------------------------- \n",
      "\n",
      "2024-03-17 15:14:14 - INFO - Scraping Data from: https://www.eversports.de/s/polesensation\n",
      "Pole Studio Data: 1 entries\n",
      "Starting URL reconstruction...\n"
     ]
    },
    {
     "name": "stderr",
     "output_type": "stream",
     "text": [
      "Processing URLs:  81%|████████  | 211/262 [11:24<01:29,  1.75s/it]"
     ]
    },
    {
     "name": "stdout",
     "output_type": "stream",
     "text": [
      "Error during HTTP request: 404 Client Error: Not Found for url: https://www.eversports.de/s/anni's-pole-dance-uetersen\n",
      "Converting to DataFrame...\n",
      "Validating URLs...\n",
      "\n",
      "Processing completed.\n",
      "-------------------------------- \n",
      "\n",
      "Starting URL reconstruction...\n"
     ]
    },
    {
     "name": "stderr",
     "output_type": "stream",
     "text": [
      "Processing URLs:  81%|████████  | 212/262 [11:27<01:42,  2.04s/it]"
     ]
    },
    {
     "name": "stdout",
     "output_type": "stream",
     "text": [
      "Error during HTTP request: Exceeded 30 redirects.\n",
      "Converting to DataFrame...\n",
      "Validating URLs...\n",
      "\n",
      "Processing completed.\n",
      "-------------------------------- \n",
      "\n",
      "Starting URL reconstruction...\n"
     ]
    },
    {
     "name": "stderr",
     "output_type": "stream",
     "text": [
      "Processing URLs:  81%|████████▏ | 213/262 [11:31<02:05,  2.56s/it]"
     ]
    },
    {
     "name": "stdout",
     "output_type": "stream",
     "text": [
      "Error during HTTP request: Exceeded 30 redirects.\n",
      "Converting to DataFrame...\n",
      "Validating URLs...\n",
      "\n",
      "Processing completed.\n",
      "-------------------------------- \n",
      "\n",
      "Starting URL reconstruction...\n"
     ]
    },
    {
     "name": "stderr",
     "output_type": "stream",
     "text": [
      "2024-03-17 15:14:23,093 - INFO - Processing URL 1/1: https://www.eversports.de/s/munich-circus-arts\n"
     ]
    },
    {
     "name": "stdout",
     "output_type": "stream",
     "text": [
      "Converting to DataFrame...\n",
      "Validating URLs...\n"
     ]
    },
    {
     "name": "stderr",
     "output_type": "stream",
     "text": [
      "2024-03-17 15:14:24,058 - INFO - URL https://www.eversports.de/s/munich-circus-arts is valid.\n"
     ]
    },
    {
     "name": "stdout",
     "output_type": "stream",
     "text": [
      "Scraping Pole Studio Data from https://www.eversports.de/s/munich-circus-arts...\n"
     ]
    },
    {
     "name": "stderr",
     "output_type": "stream",
     "text": [
      "Processing URLs:  82%|████████▏ | 214/262 [11:33<02:00,  2.50s/it]"
     ]
    },
    {
     "name": "stdout",
     "output_type": "stream",
     "text": [
      "\n",
      "Processing completed.\n",
      "-------------------------------- \n",
      "\n",
      "2024-03-17 15:14:24 - INFO - Scraping Data from: https://www.eversports.de/s/munich-circus-arts\n",
      "Pole Studio Data: 1 entries\n",
      "Starting URL reconstruction...\n"
     ]
    },
    {
     "name": "stderr",
     "output_type": "stream",
     "text": [
      "Processing URLs:  82%|████████▏ | 215/262 [11:34<01:33,  1.99s/it]"
     ]
    },
    {
     "name": "stdout",
     "output_type": "stream",
     "text": [
      "Error during HTTP request: 404 Client Error: Not Found for url: https://www.eversports.de/s/freaky-pole-cats-straubing\n",
      "Converting to DataFrame...\n",
      "Validating URLs...\n",
      "\n",
      "Processing completed.\n",
      "-------------------------------- \n",
      "\n",
      "Starting URL reconstruction...\n"
     ]
    },
    {
     "name": "stderr",
     "output_type": "stream",
     "text": [
      "Processing URLs:  82%|████████▏ | 216/262 [11:34<01:14,  1.63s/it]"
     ]
    },
    {
     "name": "stdout",
     "output_type": "stream",
     "text": [
      "Error during HTTP request: 404 Client Error: Not Found for url: https://www.eversports.de/s/move-with-ana\n",
      "Converting to DataFrame...\n",
      "Validating URLs...\n",
      "\n",
      "Processing completed.\n",
      "-------------------------------- \n",
      "\n",
      "Starting URL reconstruction...\n"
     ]
    },
    {
     "name": "stderr",
     "output_type": "stream",
     "text": [
      "Processing URLs:  83%|████████▎ | 217/262 [11:35<01:01,  1.38s/it]"
     ]
    },
    {
     "name": "stdout",
     "output_type": "stream",
     "text": [
      "Error during HTTP request: 404 Client Error: Not Found for url: https://www.eversports.de/s/metropole-dance---now2\n",
      "Converting to DataFrame...\n",
      "Validating URLs...\n",
      "\n",
      "Processing completed.\n",
      "-------------------------------- \n",
      "\n",
      "Starting URL reconstruction...\n"
     ]
    },
    {
     "name": "stderr",
     "output_type": "stream",
     "text": [
      "Processing URLs:  83%|████████▎ | 218/262 [11:36<00:55,  1.26s/it]"
     ]
    },
    {
     "name": "stdout",
     "output_type": "stream",
     "text": [
      "Error during HTTP request: 404 Client Error: Not Found for url: https://www.eversports.de/s/pole-position-studio\n",
      "Converting to DataFrame...\n",
      "Validating URLs...\n",
      "\n",
      "Processing completed.\n",
      "-------------------------------- \n",
      "\n",
      "Starting URL reconstruction...\n"
     ]
    },
    {
     "name": "stderr",
     "output_type": "stream",
     "text": [
      "2024-03-17 15:14:29,257 - INFO - Processing URL 1/1: https://www.eversports.de/s/pole-dance-palazzo-sportivo\n"
     ]
    },
    {
     "name": "stdout",
     "output_type": "stream",
     "text": [
      "Converting to DataFrame...\n",
      "Validating URLs...\n"
     ]
    },
    {
     "name": "stderr",
     "output_type": "stream",
     "text": [
      "2024-03-17 15:14:30,289 - INFO - URL https://www.eversports.de/s/pole-dance-palazzo-sportivo is valid.\n"
     ]
    },
    {
     "name": "stdout",
     "output_type": "stream",
     "text": [
      "Scraping Pole Studio Data from https://www.eversports.de/s/pole-dance-palazzo-sportivo...\n"
     ]
    },
    {
     "name": "stderr",
     "output_type": "stream",
     "text": [
      "Processing URLs:  84%|████████▎ | 219/262 [11:39<01:19,  1.86s/it]"
     ]
    },
    {
     "name": "stdout",
     "output_type": "stream",
     "text": [
      "\n",
      "Processing completed.\n",
      "-------------------------------- \n",
      "\n",
      "2024-03-17 15:14:31 - INFO - Scraping Data from: https://www.eversports.de/s/pole-dance-palazzo-sportivo\n",
      "Pole Studio Data: 1 entries\n",
      "Starting URL reconstruction...\n"
     ]
    },
    {
     "name": "stderr",
     "output_type": "stream",
     "text": [
      "Processing URLs:  84%|████████▍ | 220/262 [11:42<01:27,  2.07s/it]"
     ]
    },
    {
     "name": "stdout",
     "output_type": "stream",
     "text": [
      "Error during HTTP request: Exceeded 30 redirects.\n",
      "Converting to DataFrame...\n",
      "Validating URLs...\n",
      "\n",
      "Processing completed.\n",
      "-------------------------------- \n",
      "\n",
      "Starting URL reconstruction...\n"
     ]
    },
    {
     "name": "stderr",
     "output_type": "stream",
     "text": [
      "Processing URLs:  84%|████████▍ | 221/262 [11:43<01:09,  1.69s/it]"
     ]
    },
    {
     "name": "stdout",
     "output_type": "stream",
     "text": [
      "Error during HTTP request: 404 Client Error: Not Found for url: https://www.eversports.de/s/pole-circus-a-+-k\n",
      "Converting to DataFrame...\n",
      "Validating URLs...\n",
      "\n",
      "Processing completed.\n",
      "-------------------------------- \n",
      "\n",
      "Starting URL reconstruction...\n"
     ]
    },
    {
     "name": "stderr",
     "output_type": "stream",
     "text": [
      "Processing URLs:  85%|████████▍ | 222/262 [11:45<01:14,  1.86s/it]"
     ]
    },
    {
     "name": "stdout",
     "output_type": "stream",
     "text": [
      "Error during HTTP request: 404 Client Error: Not Found for url: https://www.eversports.de/s/pole-passion-koblenz\n",
      "Converting to DataFrame...\n",
      "Validating URLs...\n",
      "\n",
      "Processing completed.\n",
      "-------------------------------- \n",
      "\n",
      "Starting URL reconstruction...\n"
     ]
    },
    {
     "name": "stderr",
     "output_type": "stream",
     "text": [
      "2024-03-17 15:14:38,571 - INFO - Processing URL 1/1: https://www.eversports.de/s/pole-dance-with-lise\n"
     ]
    },
    {
     "name": "stdout",
     "output_type": "stream",
     "text": [
      "Converting to DataFrame...\n",
      "Validating URLs...\n"
     ]
    },
    {
     "name": "stderr",
     "output_type": "stream",
     "text": [
      "2024-03-17 15:14:39,811 - INFO - URL https://www.eversports.de/s/pole-dance-with-lise is valid.\n"
     ]
    },
    {
     "name": "stdout",
     "output_type": "stream",
     "text": [
      "Scraping Pole Studio Data from https://www.eversports.de/s/pole-dance-with-lise...\n"
     ]
    },
    {
     "name": "stderr",
     "output_type": "stream",
     "text": [
      "Processing URLs:  85%|████████▌ | 223/262 [11:49<01:35,  2.44s/it]"
     ]
    },
    {
     "name": "stdout",
     "output_type": "stream",
     "text": [
      "\n",
      "Processing completed.\n",
      "-------------------------------- \n",
      "\n",
      "2024-03-17 15:14:40 - INFO - Scraping Data from: https://www.eversports.nl/s/pole-dance-with-lise\n",
      "Pole Studio Data: 1 entries\n",
      "Starting URL reconstruction...\n"
     ]
    },
    {
     "name": "stderr",
     "output_type": "stream",
     "text": [
      "Processing URLs:  85%|████████▌ | 224/262 [11:50<01:17,  2.05s/it]"
     ]
    },
    {
     "name": "stdout",
     "output_type": "stream",
     "text": [
      "Error during HTTP request: 404 Client Error: Not Found for url: https://www.eversports.de/s/aerial-athletix-\n",
      "Converting to DataFrame...\n",
      "Validating URLs...\n",
      "\n",
      "Processing completed.\n",
      "-------------------------------- \n",
      "\n",
      "Starting URL reconstruction...\n"
     ]
    },
    {
     "name": "stderr",
     "output_type": "stream",
     "text": [
      "2024-03-17 15:14:42,531 - INFO - Processing URL 1/1: https://www.eversports.de/s/polefriends-magdeburg\n"
     ]
    },
    {
     "name": "stdout",
     "output_type": "stream",
     "text": [
      "Converting to DataFrame...\n",
      "Validating URLs...\n"
     ]
    },
    {
     "name": "stderr",
     "output_type": "stream",
     "text": [
      "2024-03-17 15:14:43,443 - INFO - URL https://www.eversports.de/s/polefriends-magdeburg is valid.\n"
     ]
    },
    {
     "name": "stdout",
     "output_type": "stream",
     "text": [
      "Scraping Pole Studio Data from https://www.eversports.de/s/polefriends-magdeburg...\n"
     ]
    },
    {
     "name": "stderr",
     "output_type": "stream",
     "text": [
      "Processing URLs:  86%|████████▌ | 225/262 [11:52<01:16,  2.08s/it]"
     ]
    },
    {
     "name": "stdout",
     "output_type": "stream",
     "text": [
      "\n",
      "Processing completed.\n",
      "-------------------------------- \n",
      "\n",
      "2024-03-17 15:14:43 - INFO - Scraping Data from: https://www.eversports.de/s/polefriends-magdeburg\n",
      "Pole Studio Data: 1 entries\n",
      "Starting URL reconstruction...\n"
     ]
    },
    {
     "name": "stderr",
     "output_type": "stream",
     "text": [
      "Processing URLs:  86%|████████▋ | 226/262 [11:55<01:21,  2.26s/it]"
     ]
    },
    {
     "name": "stdout",
     "output_type": "stream",
     "text": [
      "Error during HTTP request: Exceeded 30 redirects.\n",
      "Converting to DataFrame...\n",
      "Validating URLs...\n",
      "\n",
      "Processing completed.\n",
      "-------------------------------- \n",
      "\n",
      "Starting URL reconstruction...\n"
     ]
    },
    {
     "name": "stderr",
     "output_type": "stream",
     "text": [
      "Processing URLs:  87%|████████▋ | 227/262 [11:58<01:27,  2.50s/it]"
     ]
    },
    {
     "name": "stdout",
     "output_type": "stream",
     "text": [
      "Error during HTTP request: Exceeded 30 redirects.\n",
      "Converting to DataFrame...\n",
      "Validating URLs...\n",
      "\n",
      "Processing completed.\n",
      "-------------------------------- \n",
      "\n",
      "Starting URL reconstruction...\n"
     ]
    },
    {
     "name": "stderr",
     "output_type": "stream",
     "text": [
      "Processing URLs:  87%|████████▋ | 228/262 [12:03<01:48,  3.20s/it]"
     ]
    },
    {
     "name": "stdout",
     "output_type": "stream",
     "text": [
      "Error during HTTP request: Exceeded 30 redirects.\n",
      "Converting to DataFrame...\n",
      "Validating URLs...\n",
      "\n",
      "Processing completed.\n",
      "-------------------------------- \n",
      "\n",
      "Starting URL reconstruction...\n"
     ]
    },
    {
     "name": "stderr",
     "output_type": "stream",
     "text": [
      "2024-03-17 15:14:55,515 - INFO - Processing URL 1/2: https://www.eversports.de/s/move-on-dance-studio-and-polemotions\n"
     ]
    },
    {
     "name": "stdout",
     "output_type": "stream",
     "text": [
      "Converting to DataFrame...\n",
      "Validating URLs...\n"
     ]
    },
    {
     "name": "stderr",
     "output_type": "stream",
     "text": [
      "2024-03-17 15:14:56,652 - INFO - URL https://www.eversports.de/s/move-on-dance-studio-and-polemotions is valid.\n",
      "2024-03-17 15:14:56,654 - INFO - Processing URL 2/2: https://www.eversports.de/sw/move-on-dance-studio-and-polemotions\n",
      "2024-03-17 15:14:57,478 - INFO - URL https://www.eversports.de/sw/move-on-dance-studio-and-polemotions is valid.\n"
     ]
    },
    {
     "name": "stdout",
     "output_type": "stream",
     "text": [
      "Scraping Pole Studio Data from https://www.eversports.de/s/move-on-dance-studio-and-polemotions...\n",
      "Scraping Workshops Data from https://www.eversports.de/sw/move-on-dance-studio-and-polemotions...\n",
      "Scraping Workshop Details from https://www.eversports.de/e/workshop/7FeX2Gq...\n"
     ]
    },
    {
     "name": "stderr",
     "output_type": "stream",
     "text": [
      "Processing URLs:  87%|████████▋ | 229/262 [12:09<02:15,  4.10s/it]"
     ]
    },
    {
     "name": "stdout",
     "output_type": "stream",
     "text": [
      "\n",
      "Processing completed.\n",
      "-------------------------------- \n",
      "\n",
      "2024-03-17 15:15:00 - INFO - Scraping Data from: https://www.eversports.de/s/move-on-dance-studio-and-polemotions\n",
      "Pole Studio Data: 1 entries\n",
      "2024-03-17 15:15:00 - INFO - Scraping Data from: https://www.eversports.de/s/move-on-dance-studio-and-polemotions\n",
      "Workshops Data: 1 entries\n",
      "2024-03-17 15:15:00 - INFO - Scraping Data from: https://www.eversports.de/s/move-on-dance-studio-and-polemotions\n",
      "Workshop Details: 1 entries\n",
      "Starting URL reconstruction...\n"
     ]
    },
    {
     "name": "stderr",
     "output_type": "stream",
     "text": [
      "2024-03-17 15:15:01,728 - INFO - Processing URL 1/2: https://www.eversports.de/s/one8dance-studio\n"
     ]
    },
    {
     "name": "stdout",
     "output_type": "stream",
     "text": [
      "Converting to DataFrame...\n",
      "Validating URLs...\n"
     ]
    },
    {
     "name": "stderr",
     "output_type": "stream",
     "text": [
      "2024-03-17 15:15:03,622 - INFO - URL https://www.eversports.de/s/one8dance-studio is valid.\n",
      "2024-03-17 15:15:03,623 - INFO - Processing URL 2/2: https://www.eversports.de/sw/one8dance-studio\n",
      "2024-03-17 15:15:04,449 - INFO - URL https://www.eversports.de/sw/one8dance-studio is valid.\n"
     ]
    },
    {
     "name": "stdout",
     "output_type": "stream",
     "text": [
      "Scraping Pole Studio Data from https://www.eversports.de/s/one8dance-studio...\n",
      "Scraping Workshops Data from https://www.eversports.de/sw/one8dance-studio...\n",
      "Scraping Workshop Details from https://www.eversports.de/e/workshop/fH0mDJb...\n"
     ]
    },
    {
     "name": "stderr",
     "output_type": "stream",
     "text": [
      "Processing URLs:  88%|████████▊ | 230/262 [12:15<02:32,  4.76s/it]"
     ]
    },
    {
     "name": "stdout",
     "output_type": "stream",
     "text": [
      "\n",
      "Processing completed.\n",
      "-------------------------------- \n",
      "\n",
      "2024-03-17 15:15:06 - INFO - Scraping Data from: https://www.eversports.de/s/one8dance-studio\n",
      "Pole Studio Data: 1 entries\n",
      "2024-03-17 15:15:06 - INFO - Scraping Data from: https://www.eversports.de/s/one8dance-studio\n",
      "Workshops Data: 1 entries\n",
      "2024-03-17 15:15:06 - INFO - Scraping Data from: https://www.eversports.de/s/one8dance-studio\n",
      "Workshop Details: 1 entries\n",
      "Starting URL reconstruction...\n"
     ]
    },
    {
     "name": "stderr",
     "output_type": "stream",
     "text": [
      "2024-03-17 15:15:08,027 - INFO - Processing URL 1/1: https://www.eversports.de/s/pole-dance-factory-amsterdam-noord\n"
     ]
    },
    {
     "name": "stdout",
     "output_type": "stream",
     "text": [
      "Converting to DataFrame...\n",
      "Validating URLs...\n"
     ]
    },
    {
     "name": "stderr",
     "output_type": "stream",
     "text": [
      "2024-03-17 15:15:09,203 - INFO - URL https://www.eversports.de/s/pole-dance-factory-amsterdam-noord is valid.\n"
     ]
    },
    {
     "name": "stdout",
     "output_type": "stream",
     "text": [
      "Scraping Pole Studio Data from https://www.eversports.de/s/pole-dance-factory-amsterdam-noord...\n"
     ]
    },
    {
     "name": "stderr",
     "output_type": "stream",
     "text": [
      "Processing URLs:  88%|████████▊ | 231/262 [12:18<02:10,  4.21s/it]"
     ]
    },
    {
     "name": "stdout",
     "output_type": "stream",
     "text": [
      "\n",
      "Processing completed.\n",
      "-------------------------------- \n",
      "\n",
      "2024-03-17 15:15:09 - INFO - Scraping Data from: https://www.eversports.de/s/pole-dance-factory-amsterdam-noord\n",
      "Pole Studio Data: 1 entries\n",
      "Starting URL reconstruction...\n"
     ]
    },
    {
     "name": "stderr",
     "output_type": "stream",
     "text": [
      "2024-03-17 15:15:11,289 - INFO - Processing URL 1/2: https://www.eversports.de/s/balance-neumarkt\n"
     ]
    },
    {
     "name": "stdout",
     "output_type": "stream",
     "text": [
      "Converting to DataFrame...\n",
      "Validating URLs...\n"
     ]
    },
    {
     "name": "stderr",
     "output_type": "stream",
     "text": [
      "2024-03-17 15:15:13,386 - INFO - URL https://www.eversports.de/s/balance-neumarkt is valid.\n",
      "2024-03-17 15:15:13,387 - INFO - Processing URL 2/2: https://www.eversports.de/sw/balance-neumarkt\n",
      "2024-03-17 15:15:14,683 - INFO - URL https://www.eversports.de/sw/balance-neumarkt is valid.\n"
     ]
    },
    {
     "name": "stdout",
     "output_type": "stream",
     "text": [
      "Scraping Pole Studio Data from https://www.eversports.de/s/balance-neumarkt...\n",
      "Scraping Workshops Data from https://www.eversports.de/sw/balance-neumarkt...\n",
      "Scraping Workshop Details from https://www.eversports.de/e/workshop/AL0d8uV...\n",
      "Scraping Workshop Details from https://www.eversports.de/e/workshop/WpCq6MN...\n",
      "Scraping Workshop Details from https://www.eversports.de/e/workshop/uE03gmT...\n",
      "Scraping Workshop Details from https://www.eversports.de/e/workshop/Nm33K4u...\n",
      "Scraping Workshop Details from https://www.eversports.de/e/workshop/DmdrEre...\n",
      "Scraping Workshop Details from https://www.eversports.de/e/workshop/0-cEjGK...\n",
      "Scraping Workshop Details from https://www.eversports.de/e/workshop/U27XEmo...\n",
      "Scraping Workshop Details from https://www.eversports.de/e/workshop/DujyYDr...\n",
      "Scraping Workshop Details from https://www.eversports.de/e/workshop/o9PsD_A...\n",
      "Scraping Workshop Details from https://www.eversports.de/e/workshop/5g9eg4-...\n"
     ]
    },
    {
     "name": "stderr",
     "output_type": "stream",
     "text": [
      "Processing URLs:  89%|████████▊ | 232/262 [12:59<07:30, 15.03s/it]"
     ]
    },
    {
     "name": "stdout",
     "output_type": "stream",
     "text": [
      "\n",
      "Processing completed.\n",
      "-------------------------------- \n",
      "\n",
      "2024-03-17 15:15:49 - INFO - Scraping Data from: https://www.eversports.de/s/balance-neumarkt\n",
      "Pole Studio Data: 1 entries\n",
      "2024-03-17 15:15:50 - INFO - Scraping Data from: https://www.eversports.de/s/balance-neumarkt\n",
      "Workshops Data: 10 entries\n",
      "2024-03-17 15:15:50 - INFO - Scraping Data from: https://www.eversports.de/s/balance-neumarkt\n",
      "Workshop Details: 10 entries\n",
      "Starting URL reconstruction...\n"
     ]
    },
    {
     "name": "stderr",
     "output_type": "stream",
     "text": [
      "2024-03-17 15:15:51,077 - INFO - Processing URL 1/1: https://www.eversports.de/s/delicate-pole\n"
     ]
    },
    {
     "name": "stdout",
     "output_type": "stream",
     "text": [
      "Converting to DataFrame...\n",
      "Validating URLs...\n"
     ]
    },
    {
     "name": "stderr",
     "output_type": "stream",
     "text": [
      "2024-03-17 15:15:52,086 - INFO - URL https://www.eversports.de/s/delicate-pole is valid.\n"
     ]
    },
    {
     "name": "stdout",
     "output_type": "stream",
     "text": [
      "Scraping Pole Studio Data from https://www.eversports.de/s/delicate-pole...\n"
     ]
    },
    {
     "name": "stderr",
     "output_type": "stream",
     "text": [
      "Processing URLs:  89%|████████▉ | 233/262 [13:03<05:42, 11.80s/it]"
     ]
    },
    {
     "name": "stdout",
     "output_type": "stream",
     "text": [
      "\n",
      "Processing completed.\n",
      "-------------------------------- \n",
      "\n",
      "2024-03-17 15:15:54 - INFO - Scraping Data from: https://www.eversports.de/s/delicate-pole\n",
      "Pole Studio Data: 1 entries\n",
      "Starting URL reconstruction...\n"
     ]
    },
    {
     "name": "stderr",
     "output_type": "stream",
     "text": [
      "Processing URLs:  89%|████████▉ | 234/262 [13:05<04:13,  9.06s/it]"
     ]
    },
    {
     "name": "stdout",
     "output_type": "stream",
     "text": [
      "Error during HTTP request: 404 Client Error: Not Found for url: https://www.eversports.de/s/anni's-pole-dance-neum%C3%BCnster\n",
      "Converting to DataFrame...\n",
      "Validating URLs...\n",
      "\n",
      "Processing completed.\n",
      "-------------------------------- \n",
      "\n",
      "Starting URL reconstruction...\n"
     ]
    },
    {
     "name": "stderr",
     "output_type": "stream",
     "text": [
      "2024-03-17 15:15:58,679 - INFO - Processing URL 1/1: https://www.eversports.de/s/aerial-studio-arnhem\n"
     ]
    },
    {
     "name": "stdout",
     "output_type": "stream",
     "text": [
      "Converting to DataFrame...\n",
      "Validating URLs...\n"
     ]
    },
    {
     "name": "stderr",
     "output_type": "stream",
     "text": [
      "2024-03-17 15:16:00,069 - INFO - URL https://www.eversports.de/s/aerial-studio-arnhem is valid.\n"
     ]
    },
    {
     "name": "stdout",
     "output_type": "stream",
     "text": [
      "Scraping Pole Studio Data from https://www.eversports.de/s/aerial-studio-arnhem...\n"
     ]
    },
    {
     "name": "stderr",
     "output_type": "stream",
     "text": [
      "Processing URLs:  90%|████████▉ | 235/262 [13:09<03:23,  7.53s/it]"
     ]
    },
    {
     "name": "stdout",
     "output_type": "stream",
     "text": [
      "\n",
      "Processing completed.\n",
      "-------------------------------- \n",
      "\n",
      "2024-03-17 15:16:00 - INFO - Scraping Data from: https://www.eversports.nl/s/aerial-studio-arnhem\n",
      "Pole Studio Data: 1 entries\n",
      "Starting URL reconstruction...\n"
     ]
    },
    {
     "name": "stderr",
     "output_type": "stream",
     "text": [
      "Processing URLs:  90%|█████████ | 236/262 [13:10<02:24,  5.55s/it]"
     ]
    },
    {
     "name": "stdout",
     "output_type": "stream",
     "text": [
      "Error during HTTP request: 404 Client Error: Not Found for url: https://www.eversports.de/s/lioness-lodge\n",
      "Converting to DataFrame...\n",
      "Validating URLs...\n",
      "\n",
      "Processing completed.\n",
      "-------------------------------- \n",
      "\n",
      "Starting URL reconstruction...\n"
     ]
    },
    {
     "name": "stderr",
     "output_type": "stream",
     "text": [
      "2024-03-17 15:16:02,912 - INFO - Processing URL 1/2: https://www.eversports.de/s/niyaha-yoga-susann-kind\n"
     ]
    },
    {
     "name": "stdout",
     "output_type": "stream",
     "text": [
      "Converting to DataFrame...\n",
      "Validating URLs...\n"
     ]
    },
    {
     "name": "stderr",
     "output_type": "stream",
     "text": [
      "2024-03-17 15:16:03,980 - INFO - URL https://www.eversports.de/s/niyaha-yoga-susann-kind is valid.\n",
      "2024-03-17 15:16:03,980 - INFO - Processing URL 2/2: https://www.eversports.de/sw/niyaha-yoga-susann-kind\n",
      "2024-03-17 15:16:05,036 - INFO - URL https://www.eversports.de/sw/niyaha-yoga-susann-kind is valid.\n"
     ]
    },
    {
     "name": "stdout",
     "output_type": "stream",
     "text": [
      "Scraping Pole Studio Data from https://www.eversports.de/s/niyaha-yoga-susann-kind...\n",
      "Scraping Workshops Data from https://www.eversports.de/sw/niyaha-yoga-susann-kind...\n",
      "Scraping Workshop Details from https://www.eversports.de/e/workshop/7pfT9NN...\n",
      "Scraping Workshop Details from https://www.eversports.de/e/workshop/5NtOIyW...\n"
     ]
    },
    {
     "name": "stderr",
     "output_type": "stream",
     "text": [
      "Processing URLs:  90%|█████████ | 237/262 [13:17<02:26,  5.88s/it]"
     ]
    },
    {
     "name": "stdout",
     "output_type": "stream",
     "text": [
      "\n",
      "Processing completed.\n",
      "-------------------------------- \n",
      "\n",
      "2024-03-17 15:16:08 - INFO - Scraping Data from: https://www.eversports.de/s/niyaha-yoga-susann-kind\n",
      "Pole Studio Data: 1 entries\n",
      "2024-03-17 15:16:08 - INFO - Scraping Data from: https://www.eversports.de/s/niyaha-yoga-susann-kind\n",
      "Workshops Data: 2 entries\n",
      "2024-03-17 15:16:08 - INFO - Scraping Data from: https://www.eversports.de/s/niyaha-yoga-susann-kind\n",
      "Workshop Details: 2 entries\n",
      "Starting URL reconstruction...\n"
     ]
    },
    {
     "name": "stderr",
     "output_type": "stream",
     "text": [
      "Processing URLs:  91%|█████████ | 238/262 [13:18<01:45,  4.40s/it]"
     ]
    },
    {
     "name": "stdout",
     "output_type": "stream",
     "text": [
      "Error during HTTP request: 404 Client Error: Not Found for url: https://www.eversports.de/s/dancexotic\n",
      "Converting to DataFrame...\n",
      "Validating URLs...\n",
      "\n",
      "Processing completed.\n",
      "-------------------------------- \n",
      "\n",
      "Starting URL reconstruction...\n"
     ]
    },
    {
     "name": "stderr",
     "output_type": "stream",
     "text": [
      "Processing URLs:  91%|█████████ | 239/262 [13:19<01:16,  3.33s/it]"
     ]
    },
    {
     "name": "stdout",
     "output_type": "stream",
     "text": [
      "Error during HTTP request: 404 Client Error: Not Found for url: https://www.eversports.de/s/vi-dance-hamm\n",
      "Converting to DataFrame...\n",
      "Validating URLs...\n",
      "\n",
      "Processing completed.\n",
      "-------------------------------- \n",
      "\n",
      "Starting URL reconstruction...\n"
     ]
    },
    {
     "name": "stderr",
     "output_type": "stream",
     "text": [
      "2024-03-17 15:16:11,503 - INFO - Processing URL 1/1: https://www.eversports.de/s/pole-dance-rosenheim-delia-studio\n"
     ]
    },
    {
     "name": "stdout",
     "output_type": "stream",
     "text": [
      "Converting to DataFrame...\n",
      "Validating URLs...\n"
     ]
    },
    {
     "name": "stderr",
     "output_type": "stream",
     "text": [
      "2024-03-17 15:16:13,608 - INFO - URL https://www.eversports.de/s/pole-dance-rosenheim-delia-studio is valid.\n"
     ]
    },
    {
     "name": "stdout",
     "output_type": "stream",
     "text": [
      "Scraping Pole Studio Data from https://www.eversports.de/s/pole-dance-rosenheim-delia-studio...\n"
     ]
    },
    {
     "name": "stderr",
     "output_type": "stream",
     "text": [
      "Processing URLs:  92%|█████████▏| 240/262 [13:22<01:16,  3.46s/it]"
     ]
    },
    {
     "name": "stdout",
     "output_type": "stream",
     "text": [
      "\n",
      "Processing completed.\n",
      "-------------------------------- \n",
      "\n",
      "2024-03-17 15:16:14 - INFO - Scraping Data from: https://www.eversports.de/s/pole-dance-rosenheim-delia-studio\n",
      "Pole Studio Data: 1 entries\n",
      "Starting URL reconstruction...\n"
     ]
    },
    {
     "name": "stderr",
     "output_type": "stream",
     "text": [
      "2024-03-17 15:16:18,635 - INFO - Processing URL 1/2: https://www.eversports.de/s/dayuma-pole-and-acrobatics\n"
     ]
    },
    {
     "name": "stdout",
     "output_type": "stream",
     "text": [
      "Converting to DataFrame...\n",
      "Validating URLs...\n"
     ]
    },
    {
     "name": "stderr",
     "output_type": "stream",
     "text": [
      "2024-03-17 15:16:19,871 - INFO - URL https://www.eversports.de/s/dayuma-pole-and-acrobatics is valid.\n",
      "2024-03-17 15:16:19,872 - INFO - Processing URL 2/2: https://www.eversports.de/sw/dayuma-pole-and-acrobatics\n",
      "2024-03-17 15:16:20,671 - INFO - URL https://www.eversports.de/sw/dayuma-pole-and-acrobatics is not valid.\n"
     ]
    },
    {
     "name": "stdout",
     "output_type": "stream",
     "text": [
      "Scraping Pole Studio Data from https://www.eversports.de/s/dayuma-pole-and-acrobatics...\n"
     ]
    },
    {
     "name": "stderr",
     "output_type": "stream",
     "text": [
      "Processing URLs:  92%|█████████▏| 241/262 [13:30<01:35,  4.56s/it]"
     ]
    },
    {
     "name": "stdout",
     "output_type": "stream",
     "text": [
      "\n",
      "Processing completed.\n",
      "-------------------------------- \n",
      "\n",
      "2024-03-17 15:16:21 - INFO - Scraping Data from: https://www.eversports.de/s/dayuma-pole-and-acrobatics\n",
      "Pole Studio Data: 1 entries\n",
      "Starting URL reconstruction...\n"
     ]
    },
    {
     "name": "stderr",
     "output_type": "stream",
     "text": [
      "Processing URLs:  92%|█████████▏| 242/262 [13:30<01:08,  3.41s/it]"
     ]
    },
    {
     "name": "stdout",
     "output_type": "stream",
     "text": [
      "Error during HTTP request: 404 Client Error: Not Found for url: https://www.eversports.de/s/yh-pole-(and)-sports-berlin\n",
      "Converting to DataFrame...\n",
      "Validating URLs...\n",
      "\n",
      "Processing completed.\n",
      "-------------------------------- \n",
      "\n",
      "Starting URL reconstruction...\n"
     ]
    },
    {
     "name": "stderr",
     "output_type": "stream",
     "text": [
      "Processing URLs:  93%|█████████▎| 243/262 [13:31<00:49,  2.62s/it]"
     ]
    },
    {
     "name": "stdout",
     "output_type": "stream",
     "text": [
      "Error during HTTP request: 404 Client Error: Not Found for url: https://www.eversports.de/s/polesition\n",
      "Converting to DataFrame...\n",
      "Validating URLs...\n",
      "\n",
      "Processing completed.\n",
      "-------------------------------- \n",
      "\n",
      "Starting URL reconstruction...\n"
     ]
    },
    {
     "name": "stderr",
     "output_type": "stream",
     "text": [
      "2024-03-17 15:16:23,971 - INFO - Processing URL 1/1: https://www.eversports.de/s/poledancestar\n"
     ]
    },
    {
     "name": "stdout",
     "output_type": "stream",
     "text": [
      "Converting to DataFrame...\n",
      "Validating URLs...\n"
     ]
    },
    {
     "name": "stderr",
     "output_type": "stream",
     "text": [
      "2024-03-17 15:16:25,129 - INFO - URL https://www.eversports.de/s/poledancestar is valid.\n"
     ]
    },
    {
     "name": "stdout",
     "output_type": "stream",
     "text": [
      "Scraping Pole Studio Data from https://www.eversports.de/s/poledancestar...\n"
     ]
    },
    {
     "name": "stderr",
     "output_type": "stream",
     "text": [
      "Processing URLs:  93%|█████████▎| 244/262 [13:34<00:49,  2.75s/it]"
     ]
    },
    {
     "name": "stdout",
     "output_type": "stream",
     "text": [
      "\n",
      "Processing completed.\n",
      "-------------------------------- \n",
      "\n",
      "2024-03-17 15:16:25 - INFO - Scraping Data from: https://www.eversports.de/s/poledancestar\n",
      "Pole Studio Data: 1 entries\n",
      "Starting URL reconstruction...\n"
     ]
    },
    {
     "name": "stderr",
     "output_type": "stream",
     "text": [
      "2024-03-17 15:16:28,883 - INFO - Processing URL 1/1: https://www.eversports.de/s/sportheim-abensberg\n"
     ]
    },
    {
     "name": "stdout",
     "output_type": "stream",
     "text": [
      "Converting to DataFrame...\n",
      "Validating URLs...\n"
     ]
    },
    {
     "name": "stderr",
     "output_type": "stream",
     "text": [
      "2024-03-17 15:16:30,027 - INFO - URL https://www.eversports.de/s/sportheim-abensberg is valid.\n"
     ]
    },
    {
     "name": "stdout",
     "output_type": "stream",
     "text": [
      "Scraping Pole Studio Data from https://www.eversports.de/s/sportheim-abensberg...\n"
     ]
    },
    {
     "name": "stderr",
     "output_type": "stream",
     "text": [
      "Processing URLs:  94%|█████████▎| 245/262 [13:39<00:57,  3.41s/it]"
     ]
    },
    {
     "name": "stdout",
     "output_type": "stream",
     "text": [
      "\n",
      "Processing completed.\n",
      "-------------------------------- \n",
      "\n",
      "2024-03-17 15:16:30 - INFO - Scraping Data from: https://www.eversports.de/s/sportheim-abensberg\n",
      "Pole Studio Data: 1 entries\n",
      "Starting URL reconstruction...\n"
     ]
    },
    {
     "name": "stderr",
     "output_type": "stream",
     "text": [
      "Processing URLs:  94%|█████████▍| 246/262 [13:40<00:43,  2.71s/it]"
     ]
    },
    {
     "name": "stdout",
     "output_type": "stream",
     "text": [
      "Error during HTTP request: 404 Client Error: Not Found for url: https://www.eversports.de/s/dance-%26-pole-deltawerk\n",
      "Converting to DataFrame...\n",
      "Validating URLs...\n",
      "\n",
      "Processing completed.\n",
      "-------------------------------- \n",
      "\n",
      "Starting URL reconstruction...\n"
     ]
    },
    {
     "name": "stderr",
     "output_type": "stream",
     "text": [
      "2024-03-17 15:16:32,812 - INFO - Processing URL 1/1: https://www.eversports.de/s/stories-in-motion\n"
     ]
    },
    {
     "name": "stdout",
     "output_type": "stream",
     "text": [
      "Converting to DataFrame...\n",
      "Validating URLs...\n"
     ]
    },
    {
     "name": "stderr",
     "output_type": "stream",
     "text": [
      "2024-03-17 15:16:33,895 - INFO - URL https://www.eversports.de/s/stories-in-motion is valid.\n"
     ]
    },
    {
     "name": "stdout",
     "output_type": "stream",
     "text": [
      "Scraping Pole Studio Data from https://www.eversports.de/s/stories-in-motion...\n"
     ]
    },
    {
     "name": "stderr",
     "output_type": "stream",
     "text": [
      "Processing URLs:  94%|█████████▍| 247/262 [13:43<00:40,  2.69s/it]"
     ]
    },
    {
     "name": "stdout",
     "output_type": "stream",
     "text": [
      "\n",
      "Processing completed.\n",
      "-------------------------------- \n",
      "\n",
      "2024-03-17 15:16:34 - INFO - Scraping Data from: https://www.eversports.de/s/stories-in-motion\n",
      "Pole Studio Data: 1 entries\n",
      "Starting URL reconstruction...\n"
     ]
    },
    {
     "name": "stderr",
     "output_type": "stream",
     "text": [
      "2024-03-17 15:16:35,742 - INFO - Processing URL 1/1: https://www.eversports.de/s/poledance-playground-innsbruck\n"
     ]
    },
    {
     "name": "stdout",
     "output_type": "stream",
     "text": [
      "Converting to DataFrame...\n",
      "Validating URLs...\n"
     ]
    },
    {
     "name": "stderr",
     "output_type": "stream",
     "text": [
      "2024-03-17 15:16:37,836 - INFO - URL https://www.eversports.de/s/poledance-playground-innsbruck is valid.\n"
     ]
    },
    {
     "name": "stdout",
     "output_type": "stream",
     "text": [
      "Scraping Pole Studio Data from https://www.eversports.de/s/poledance-playground-innsbruck...\n"
     ]
    },
    {
     "name": "stderr",
     "output_type": "stream",
     "text": [
      "Processing URLs:  95%|█████████▍| 248/262 [13:47<00:44,  3.15s/it]"
     ]
    },
    {
     "name": "stdout",
     "output_type": "stream",
     "text": [
      "\n",
      "Processing completed.\n",
      "-------------------------------- \n",
      "\n",
      "2024-03-17 15:16:38 - INFO - Scraping Data from: https://www.eversports.at/s/poledance-playground-innsbruck\n",
      "Pole Studio Data: 1 entries\n",
      "Starting URL reconstruction...\n"
     ]
    },
    {
     "name": "stderr",
     "output_type": "stream",
     "text": [
      "Processing URLs:  95%|█████████▌| 249/262 [13:48<00:31,  2.43s/it]"
     ]
    },
    {
     "name": "stdout",
     "output_type": "stream",
     "text": [
      "Error during HTTP request: 404 Client Error: Not Found for url: https://www.eversports.de/s/polerina's-poledance\n",
      "Converting to DataFrame...\n",
      "Validating URLs...\n",
      "\n",
      "Processing completed.\n",
      "-------------------------------- \n",
      "\n",
      "Starting URL reconstruction...\n"
     ]
    },
    {
     "name": "stderr",
     "output_type": "stream",
     "text": [
      "2024-03-17 15:16:41,474 - INFO - Processing URL 1/1: https://www.eversports.de/s/iron-forest-studio-1\n"
     ]
    },
    {
     "name": "stdout",
     "output_type": "stream",
     "text": [
      "Converting to DataFrame...\n",
      "Validating URLs...\n"
     ]
    },
    {
     "name": "stderr",
     "output_type": "stream",
     "text": [
      "2024-03-17 15:16:43,027 - INFO - URL https://www.eversports.de/s/iron-forest-studio-1 is valid.\n"
     ]
    },
    {
     "name": "stdout",
     "output_type": "stream",
     "text": [
      "Scraping Pole Studio Data from https://www.eversports.de/s/iron-forest-studio-1...\n"
     ]
    },
    {
     "name": "stderr",
     "output_type": "stream",
     "text": [
      "Processing URLs:  95%|█████████▌| 250/262 [13:52<00:35,  3.00s/it]"
     ]
    },
    {
     "name": "stdout",
     "output_type": "stream",
     "text": [
      "\n",
      "Processing completed.\n",
      "-------------------------------- \n",
      "\n",
      "2024-03-17 15:16:43 - INFO - Scraping Data from: https://www.eversports.nl/s/iron-forest-studio-1\n",
      "Pole Studio Data: 1 entries\n",
      "Starting URL reconstruction...\n"
     ]
    },
    {
     "name": "stderr",
     "output_type": "stream",
     "text": [
      "Processing URLs:  96%|█████████▌| 251/262 [13:53<00:25,  2.34s/it]"
     ]
    },
    {
     "name": "stdout",
     "output_type": "stream",
     "text": [
      "Error during HTTP request: 404 Client Error: Not Found for url: https://www.eversports.de/s/pole-%26-soul\n",
      "Converting to DataFrame...\n",
      "Validating URLs...\n",
      "\n",
      "Processing completed.\n",
      "-------------------------------- \n",
      "\n",
      "Starting URL reconstruction...\n"
     ]
    },
    {
     "name": "stderr",
     "output_type": "stream",
     "text": [
      "Processing URLs:  96%|█████████▌| 252/262 [13:54<00:18,  1.88s/it]"
     ]
    },
    {
     "name": "stdout",
     "output_type": "stream",
     "text": [
      "Error during HTTP request: 404 Client Error: Not Found for url: https://www.eversports.de/s/health-&-shape-m%C3%BCnchen\n",
      "Converting to DataFrame...\n",
      "Validating URLs...\n",
      "\n",
      "Processing completed.\n",
      "-------------------------------- \n",
      "\n",
      "Starting URL reconstruction...\n"
     ]
    },
    {
     "name": "stderr",
     "output_type": "stream",
     "text": [
      "Processing URLs:  97%|█████████▋| 253/262 [13:55<00:14,  1.56s/it]"
     ]
    },
    {
     "name": "stdout",
     "output_type": "stream",
     "text": [
      "Error during HTTP request: 404 Client Error: Not Found for url: https://www.eversports.de/s/pole-dance-hechingen\n",
      "Converting to DataFrame...\n",
      "Validating URLs...\n",
      "\n",
      "Processing completed.\n",
      "-------------------------------- \n",
      "\n",
      "Starting URL reconstruction...\n"
     ]
    },
    {
     "name": "stderr",
     "output_type": "stream",
     "text": [
      "Processing URLs:  97%|█████████▋| 254/262 [13:55<00:10,  1.33s/it]"
     ]
    },
    {
     "name": "stdout",
     "output_type": "stream",
     "text": [
      "Error during HTTP request: 404 Client Error: Not Found for url: https://www.eversports.de/s/polefitness-tituba-m%C3%B6nchengladbach!\n",
      "Converting to DataFrame...\n",
      "Validating URLs...\n",
      "\n",
      "Processing completed.\n",
      "-------------------------------- \n",
      "\n",
      "Starting URL reconstruction...\n"
     ]
    },
    {
     "name": "stderr",
     "output_type": "stream",
     "text": [
      "2024-03-17 15:16:48,591 - INFO - Processing URL 1/1: https://www.eversports.de/s/studio-skye\n"
     ]
    },
    {
     "name": "stdout",
     "output_type": "stream",
     "text": [
      "Converting to DataFrame...\n",
      "Validating URLs...\n"
     ]
    },
    {
     "name": "stderr",
     "output_type": "stream",
     "text": [
      "2024-03-17 15:16:50,089 - INFO - URL https://www.eversports.de/s/studio-skye is valid.\n"
     ]
    },
    {
     "name": "stdout",
     "output_type": "stream",
     "text": [
      "Scraping Pole Studio Data from https://www.eversports.de/s/studio-skye...\n"
     ]
    },
    {
     "name": "stderr",
     "output_type": "stream",
     "text": [
      "Processing URLs:  97%|█████████▋| 255/262 [13:59<00:13,  2.00s/it]"
     ]
    },
    {
     "name": "stdout",
     "output_type": "stream",
     "text": [
      "\n",
      "Processing completed.\n",
      "-------------------------------- \n",
      "\n",
      "2024-03-17 15:16:50 - INFO - Scraping Data from: https://www.eversports.nl/s/studio-skye\n",
      "Pole Studio Data: 1 entries\n",
      "Starting URL reconstruction...\n"
     ]
    },
    {
     "name": "stderr",
     "output_type": "stream",
     "text": [
      "2024-03-17 15:16:51,759 - INFO - Processing URL 1/2: https://www.eversports.de/s/pole-dance-factory-amsterdam-oost\n"
     ]
    },
    {
     "name": "stdout",
     "output_type": "stream",
     "text": [
      "Converting to DataFrame...\n",
      "Validating URLs...\n"
     ]
    },
    {
     "name": "stderr",
     "output_type": "stream",
     "text": [
      "2024-03-17 15:16:52,941 - INFO - URL https://www.eversports.de/s/pole-dance-factory-amsterdam-oost is valid.\n",
      "2024-03-17 15:16:52,942 - INFO - Processing URL 2/2: https://www.eversports.de/sw/pole-dance-factory-amsterdam-oost\n",
      "2024-03-17 15:16:53,848 - INFO - URL https://www.eversports.de/sw/pole-dance-factory-amsterdam-oost is not valid.\n"
     ]
    },
    {
     "name": "stdout",
     "output_type": "stream",
     "text": [
      "Scraping Pole Studio Data from https://www.eversports.de/s/pole-dance-factory-amsterdam-oost...\n"
     ]
    },
    {
     "name": "stderr",
     "output_type": "stream",
     "text": [
      "Processing URLs:  98%|█████████▊| 256/262 [14:03<00:15,  2.66s/it]"
     ]
    },
    {
     "name": "stdout",
     "output_type": "stream",
     "text": [
      "\n",
      "Processing completed.\n",
      "-------------------------------- \n",
      "\n",
      "2024-03-17 15:16:54 - INFO - Scraping Data from: https://www.eversports.de/s/pole-dance-factory-amsterdam-oost\n",
      "Pole Studio Data: 1 entries\n",
      "Starting URL reconstruction...\n"
     ]
    },
    {
     "name": "stderr",
     "output_type": "stream",
     "text": [
      "Processing URLs:  98%|█████████▊| 257/262 [14:04<00:10,  2.12s/it]"
     ]
    },
    {
     "name": "stdout",
     "output_type": "stream",
     "text": [
      "Error during HTTP request: 404 Client Error: Not Found for url: https://www.eversports.de/s/chromotion---aerial-dance-studio\n",
      "Converting to DataFrame...\n",
      "Validating URLs...\n",
      "\n",
      "Processing completed.\n",
      "-------------------------------- \n",
      "\n",
      "Starting URL reconstruction...\n"
     ]
    },
    {
     "name": "stderr",
     "output_type": "stream",
     "text": [
      "Processing URLs:  98%|█████████▊| 258/262 [14:05<00:06,  1.72s/it]"
     ]
    },
    {
     "name": "stdout",
     "output_type": "stream",
     "text": [
      "Error during HTTP request: 404 Client Error: Not Found for url: https://www.eversports.de/s/poleroom\n",
      "Converting to DataFrame...\n",
      "Validating URLs...\n",
      "\n",
      "Processing completed.\n",
      "-------------------------------- \n",
      "\n",
      "Starting URL reconstruction...\n"
     ]
    },
    {
     "name": "stderr",
     "output_type": "stream",
     "text": [
      "Processing URLs:  99%|█████████▉| 259/262 [14:06<00:04,  1.49s/it]"
     ]
    },
    {
     "name": "stdout",
     "output_type": "stream",
     "text": [
      "Error during HTTP request: 404 Client Error: Not Found for url: https://www.eversports.de/s/pole-circus-a-k\n",
      "Converting to DataFrame...\n",
      "Validating URLs...\n",
      "\n",
      "Processing completed.\n",
      "-------------------------------- \n",
      "\n",
      "Starting URL reconstruction...\n"
     ]
    },
    {
     "name": "stderr",
     "output_type": "stream",
     "text": [
      "2024-03-17 15:16:58,350 - INFO - Processing URL 1/1: https://www.eversports.de/s/poledance-area\n"
     ]
    },
    {
     "name": "stdout",
     "output_type": "stream",
     "text": [
      "Converting to DataFrame...\n",
      "Validating URLs...\n"
     ]
    },
    {
     "name": "stderr",
     "output_type": "stream",
     "text": [
      "2024-03-17 15:16:59,260 - INFO - URL https://www.eversports.de/s/poledance-area is valid.\n"
     ]
    },
    {
     "name": "stdout",
     "output_type": "stream",
     "text": [
      "Scraping Pole Studio Data from https://www.eversports.de/s/poledance-area...\n"
     ]
    },
    {
     "name": "stderr",
     "output_type": "stream",
     "text": [
      "Processing URLs:  99%|█████████▉| 260/262 [14:08<00:03,  1.73s/it]"
     ]
    },
    {
     "name": "stdout",
     "output_type": "stream",
     "text": [
      "\n",
      "Processing completed.\n",
      "-------------------------------- \n",
      "\n",
      "2024-03-17 15:16:59 - INFO - Scraping Data from: https://www.eversports.de/s/poledance-area\n",
      "Pole Studio Data: 1 entries\n",
      "Starting URL reconstruction...\n"
     ]
    },
    {
     "name": "stderr",
     "output_type": "stream",
     "text": [
      "2024-03-17 15:17:00,853 - INFO - Processing URL 1/2: https://www.eversports.de/s/pole-land\n"
     ]
    },
    {
     "name": "stdout",
     "output_type": "stream",
     "text": [
      "Converting to DataFrame...\n",
      "Validating URLs...\n"
     ]
    },
    {
     "name": "stderr",
     "output_type": "stream",
     "text": [
      "2024-03-17 15:17:04,334 - INFO - URL https://www.eversports.de/s/pole-land is valid.\n",
      "2024-03-17 15:17:04,335 - INFO - Processing URL 2/2: https://www.eversports.de/sw/pole-land\n",
      "2024-03-17 15:17:05,420 - INFO - URL https://www.eversports.de/sw/pole-land is valid.\n"
     ]
    },
    {
     "name": "stdout",
     "output_type": "stream",
     "text": [
      "Scraping Pole Studio Data from https://www.eversports.de/s/pole-land...\n",
      "Scraping Workshops Data from https://www.eversports.de/sw/pole-land...\n",
      "Scraping Workshop Details from https://www.eversports.de/e/workshop/ezegoNQ...\n",
      "Scraping Workshop Details from https://www.eversports.de/e/workshop/CJc9FIH...\n",
      "Scraping Workshop Details from https://www.eversports.de/e/workshop/WccIM2q...\n",
      "Scraping Workshop Details from https://www.eversports.de/e/workshop/wxktuXQ...\n",
      "Scraping Workshop Details from https://www.eversports.de/e/workshop/OGUBUS8...\n",
      "Scraping Workshop Details from https://www.eversports.de/e/workshop/VVXdiD8...\n",
      "Scraping Workshop Details from https://www.eversports.de/e/workshop/SqEYfO3...\n"
     ]
    },
    {
     "name": "stderr",
     "output_type": "stream",
     "text": [
      "Processing URLs: 100%|█████████▉| 261/262 [14:25<00:06,  6.28s/it]"
     ]
    },
    {
     "name": "stdout",
     "output_type": "stream",
     "text": [
      "\n",
      "Processing completed.\n",
      "-------------------------------- \n",
      "\n",
      "2024-03-17 15:17:16 - INFO - Scraping Data from: https://www.eversports.de/s/pole-land\n",
      "Pole Studio Data: 1 entries\n",
      "2024-03-17 15:17:16 - INFO - Scraping Data from: https://www.eversports.de/s/pole-land\n",
      "Workshops Data: 7 entries\n",
      "2024-03-17 15:17:16 - INFO - Scraping Data from: https://www.eversports.de/s/pole-land\n",
      "Workshop Details: 7 entries\n",
      "Starting URL reconstruction...\n"
     ]
    },
    {
     "name": "stderr",
     "output_type": "stream",
     "text": [
      "Processing URLs: 100%|██████████| 262/262 [14:26<00:00,  3.31s/it]"
     ]
    },
    {
     "name": "stdout",
     "output_type": "stream",
     "text": [
      "Error during HTTP request: 404 Client Error: Not Found for url: https://www.eversports.de/s/pole-arts-saarland-\n",
      "Converting to DataFrame...\n",
      "Validating URLs...\n",
      "\n",
      "Processing completed.\n",
      "-------------------------------- \n",
      "\n"
     ]
    },
    {
     "name": "stderr",
     "output_type": "stream",
     "text": [
      "\n"
     ]
    }
   ],
   "source": [
    "import pandas as pd\n",
    "from a_PyCaller import process_urls\n",
    "from tqdm import tqdm\n",
    "from datetime import datetime\n",
    "\n",
    "def process_and_print_results(url, all_pole_studio_data, all_workshops_data, all_workshop_details_data, all_urls_data):\n",
    "    data = process_urls([url])\n",
    "\n",
    "    if data:\n",
    "        for key, df in data.items():\n",
    "            if df is not None and not df.empty:\n",
    "                tqdm.write(f\"{datetime.now().strftime('%Y-%m-%d %H:%M:%S')} - INFO - Scraping Data from: {url}\")\n",
    "                tqdm.write(f\"{key.replace('_', ' ').title()}: {len(df)} entries\")\n",
    "\n",
    "                # Update the appropriate DataFrame\n",
    "                if key == 'pole_studio_data':\n",
    "                    all_pole_studio_data = pd.concat([all_pole_studio_data, df], ignore_index=True)\n",
    "                elif key == 'workshops_data':\n",
    "                    all_workshops_data = pd.concat([all_workshops_data, df], ignore_index=True)\n",
    "                elif key == 'workshop_details':\n",
    "                    all_workshop_details_data = pd.concat([all_workshop_details_data, df], ignore_index=True)\n",
    "\n",
    "    # Add URLs to DataFrame\n",
    "    all_urls_data = pd.concat([all_urls_data, pd.DataFrame({'URL': [url]})], ignore_index=True)\n",
    "\n",
    "    return all_pole_studio_data, all_workshops_data, all_workshop_details_data, all_urls_data\n",
    "\n",
    "def main():\n",
    "    # # Load initial URLs\n",
    "    # all_found_urls_s = pd.read_csv(\"your_output_file.csv\")\n",
    "    # initial_urls = list(set(all_found_urls_s[\"0\"])) # Delete \"[:3]\" to scrape all Urls\n",
    "\n",
    "    # Initialize DataFrames\n",
    "    all_pole_studio_data = pd.DataFrame()\n",
    "    all_workshops_data = pd.DataFrame()\n",
    "    all_workshop_details_data = pd.DataFrame()\n",
    "    all_urls_data = pd.DataFrame(columns=['URL'])\n",
    "\n",
    "    # Process each URL with tqdm\n",
    "    with tqdm(initial_urls, desc=\"Processing URLs\", dynamic_ncols=True) as pbar:\n",
    "        for url in pbar:\n",
    "            all_pole_studio_data, all_workshops_data, all_workshop_details_data, all_urls_data = process_and_print_results(\n",
    "                url, all_pole_studio_data, all_workshops_data, all_workshop_details_data, all_urls_data\n",
    "            )\n",
    "\n",
    "\n",
    "    # Export DataFrames to CSV files\n",
    "    all_pole_studio_data.to_csv(\"Pole_Studio_Übersicht_S.csv\", index=False)\n",
    "    # all_workshops_data.to_csv(\"Workshop_Liste_SW.csv\", index=False)\n",
    "    # all_workshop_details_data.to_csv(\"Workshop_Übersicht_E.csv\", index=False)\n",
    "    all_urls_data.to_csv(\"All_URLs.csv\", index=False)\n",
    "\n",
    "    # Return the final DataFrames\n",
    "    return all_pole_studio_data, workshops, all_workshops_data, all_workshop_details_data, all_urls_data\n",
    "\n",
    "# Run the main function and get the final DataFrames\n",
    "pole_studio, workshops, result_workshops, result_workshop_details, result_urls = main()\n",
    "\n",
    "workshops = pd.merge(result_workshop_details, result_workshops, on=['Workshopname', 'URL_E'], how='inner')\n"
   ]
  },
  {
   "cell_type": "code",
   "execution_count": 40,
   "metadata": {},
   "outputs": [],
   "source": [
    "workshops.to_csv(\"Workshops_SW_E.csv\", index=False)"
   ]
  },
  {
   "cell_type": "code",
   "execution_count": 41,
   "metadata": {},
   "outputs": [
    {
     "data": {
      "text/html": [
       "<div>\n",
       "<style scoped>\n",
       "    .dataframe tbody tr th:only-of-type {\n",
       "        vertical-align: middle;\n",
       "    }\n",
       "\n",
       "    .dataframe tbody tr th {\n",
       "        vertical-align: top;\n",
       "    }\n",
       "\n",
       "    .dataframe thead th {\n",
       "        text-align: right;\n",
       "    }\n",
       "</style>\n",
       "<table border=\"1\" class=\"dataframe\">\n",
       "  <thead>\n",
       "    <tr style=\"text-align: right;\">\n",
       "      <th></th>\n",
       "      <th>PoleStudio_Name</th>\n",
       "      <th>Adresse</th>\n",
       "      <th>PLZ</th>\n",
       "      <th>Stadt</th>\n",
       "      <th>Straße</th>\n",
       "      <th>Buttons</th>\n",
       "      <th>Pole Studio Beschreibung</th>\n",
       "      <th>E-Mail</th>\n",
       "      <th>Homepage</th>\n",
       "      <th>Telefon</th>\n",
       "      <th>URL_S</th>\n",
       "      <th>Art</th>\n",
       "      <th>Angebot</th>\n",
       "      <th>Created Date</th>\n",
       "      <th>Updated Date</th>\n",
       "    </tr>\n",
       "  </thead>\n",
       "  <tbody>\n",
       "    <tr>\n",
       "      <th>0</th>\n",
       "      <td>körpernah</td>\n",
       "      <td>[Ahsener Straße 130,  45711 Datteln]</td>\n",
       "      <td>45711</td>\n",
       "      <td>Datteln</td>\n",
       "      <td>Ahsener Straße 130</td>\n",
       "      <td>[Übersicht, Klassen, Workshops, Preise, Team]</td>\n",
       "      <td>Du möchtest Teil der #körpernahfamilie werden?...</td>\n",
       "      <td>info@koerper-nah.de</td>\n",
       "      <td>http://www.koerper-nah.de</td>\n",
       "      <td>+49 02363 5591479</td>\n",
       "      <td>https://www.eversports.de/s/koerpernah</td>\n",
       "      <td>[Poledance, Acroyoga, Poledance, Pilates, Pole...</td>\n",
       "      <td>Zum Stundenplan</td>\n",
       "      <td>2024-03-17 15:02:59</td>\n",
       "      <td>2024-03-17 15:02:59</td>\n",
       "    </tr>\n",
       "    <tr>\n",
       "      <th>1</th>\n",
       "      <td>Pole Dance Factory Amsterdam Noord</td>\n",
       "      <td>[Digitaalstraat 12,  1033 MR Amsterdam]</td>\n",
       "      <td>1033</td>\n",
       "      <td>MR</td>\n",
       "      <td>Digitaalstraat 12</td>\n",
       "      <td>[Übersicht, Klassen, Preise, Team]</td>\n",
       "      <td>The biggest pole dance studio of Amsterdam for...</td>\n",
       "      <td>info@pdfamsterdam.com</td>\n",
       "      <td>https://pdfamsterdam.com/en/</td>\n",
       "      <td>+31202101884</td>\n",
       "      <td>https://www.eversports.de/s/pole-dance-factory...</td>\n",
       "      <td>[Poledance, Stretching, Stretching, Poledance,...</td>\n",
       "      <td>1 Angebot für Neukund:innen</td>\n",
       "      <td>2024-03-17 15:03:10</td>\n",
       "      <td>2024-03-17 15:03:10</td>\n",
       "    </tr>\n",
       "    <tr>\n",
       "      <th>2</th>\n",
       "      <td>Spirit'n Roses</td>\n",
       "      <td>[Albert Cuypstraat 247HS ,  1073 BH Amsterdam]</td>\n",
       "      <td>1073</td>\n",
       "      <td>BH</td>\n",
       "      <td>Albert Cuypstraat 247HS</td>\n",
       "      <td>[Übersicht, Klassen, Videos, Preise, Team]</td>\n",
       "      <td>At Spirit’n Roses Dance Studio we create a saf...</td>\n",
       "      <td>hello@spiritnroses.com</td>\n",
       "      <td>http://www.spiritnroses.com</td>\n",
       "      <td>06 14582162</td>\n",
       "      <td>https://www.eversports.de/s/spiritn-roses</td>\n",
       "      <td>[Tanzen, Online Klasse, Poledance, Tanzen, Tan...</td>\n",
       "      <td>1 Angebot für Neukund:innen</td>\n",
       "      <td>2024-03-17 15:03:16</td>\n",
       "      <td>2024-03-17 15:03:16</td>\n",
       "    </tr>\n",
       "    <tr>\n",
       "      <th>3</th>\n",
       "      <td>Air dance school - FLAGEY</td>\n",
       "      <td>[Rue du Serpentin 33 ,  1050 Ixelles]</td>\n",
       "      <td>1050</td>\n",
       "      <td>Ixelles</td>\n",
       "      <td>Rue du Serpentin 33</td>\n",
       "      <td>[Übersicht, Klassen, Preise, Team]</td>\n",
       "      <td>Air Dance School a été créee en 2013 et propos...</td>\n",
       "      <td>info@ads-poledance.be</td>\n",
       "      <td>https://ads-poledance.be/</td>\n",
       "      <td>+32 495840751</td>\n",
       "      <td>https://www.eversports.de/s/air-dance-school-f...</td>\n",
       "      <td>[Poledance, Poledance, Poledance, Poledance, P...</td>\n",
       "      <td>Zum Stundenplan</td>\n",
       "      <td>2024-03-17 15:03:23</td>\n",
       "      <td>2024-03-17 15:03:23</td>\n",
       "    </tr>\n",
       "    <tr>\n",
       "      <th>4</th>\n",
       "      <td>InfinityArts</td>\n",
       "      <td>[Am Illerdamm 1 ,  87527 Sonthofen]</td>\n",
       "      <td>87527</td>\n",
       "      <td>Sonthofen</td>\n",
       "      <td>Am Illerdamm 1</td>\n",
       "      <td>[Übersicht, Klassen, Kurse, Workshops, Preise,...</td>\n",
       "      <td>InfinityArts - Deine Polefamily in Sonthofen.W...</td>\n",
       "      <td>info@infinity-arts.de</td>\n",
       "      <td>http://www.infinity-arts.de</td>\n",
       "      <td>+49 1515 0757748</td>\n",
       "      <td>https://www.eversports.de/s/infinityarts</td>\n",
       "      <td>[Poledance, Poledance, Poledance, (Noch keine ...</td>\n",
       "      <td>Zum Stundenplan</td>\n",
       "      <td>2024-03-17 15:03:29</td>\n",
       "      <td>2024-03-17 15:03:29</td>\n",
       "    </tr>\n",
       "    <tr>\n",
       "      <th>...</th>\n",
       "      <td>...</td>\n",
       "      <td>...</td>\n",
       "      <td>...</td>\n",
       "      <td>...</td>\n",
       "      <td>...</td>\n",
       "      <td>...</td>\n",
       "      <td>...</td>\n",
       "      <td>...</td>\n",
       "      <td>...</td>\n",
       "      <td>...</td>\n",
       "      <td>...</td>\n",
       "      <td>...</td>\n",
       "      <td>...</td>\n",
       "      <td>...</td>\n",
       "      <td>...</td>\n",
       "    </tr>\n",
       "    <tr>\n",
       "      <th>108</th>\n",
       "      <td>Iron Forest Studio</td>\n",
       "      <td>[Noordse Bosje 15 ,  1211 BD Hilversum]</td>\n",
       "      <td>1211</td>\n",
       "      <td>BD</td>\n",
       "      <td>Noordse Bosje 15</td>\n",
       "      <td>[Übersicht, Klassen, Trainings, Kurse, Preise,...</td>\n",
       "      <td>Iron Forest Studio offers various classes in c...</td>\n",
       "      <td>info@ironforest.store</td>\n",
       "      <td>https://www.ironforest.store/</td>\n",
       "      <td>+31 682046727</td>\n",
       "      <td>https://www.eversports.de/s/iron-forest-studio-1</td>\n",
       "      <td>[Chairdance, Twerken, Poledance, Tanzen, Chair...</td>\n",
       "      <td>2 Angebote für Neukund:innen</td>\n",
       "      <td>2024-03-17 15:16:43</td>\n",
       "      <td>2024-03-17 15:16:43</td>\n",
       "    </tr>\n",
       "    <tr>\n",
       "      <th>109</th>\n",
       "      <td>Studio Skye</td>\n",
       "      <td>[Hurksestraat 19,  5652 AH Eindhoven]</td>\n",
       "      <td>5652</td>\n",
       "      <td>AH</td>\n",
       "      <td>Hurksestraat 19</td>\n",
       "      <td>[Übersicht, Klassen, Kurse, Preise, Team]</td>\n",
       "      <td>Studio Skye is dé sportschool voor luchtacroba...</td>\n",
       "      <td>info@studioskye.nl</td>\n",
       "      <td>http://www.studioskye.nl</td>\n",
       "      <td>None</td>\n",
       "      <td>https://www.eversports.de/s/studio-skye</td>\n",
       "      <td>[Aerial Silk, Poledance, Aerial Silk, 18 Rezen...</td>\n",
       "      <td>Zum Stundenplan</td>\n",
       "      <td>2024-03-17 15:16:50</td>\n",
       "      <td>2024-03-17 15:16:50</td>\n",
       "    </tr>\n",
       "    <tr>\n",
       "      <th>110</th>\n",
       "      <td>Pole Dance Factory Amsterdam Oost</td>\n",
       "      <td>[H.J.E. Wenckebachweg,  1096 AN Amsterdam]</td>\n",
       "      <td>1096</td>\n",
       "      <td>AN</td>\n",
       "      <td>H.J.E. Wenckebachweg</td>\n",
       "      <td>[Übersicht, Klassen, Workshops, Preise, Team]</td>\n",
       "      <td>The biggest pole dance studio of Amsterdam for...</td>\n",
       "      <td>info@pdfamsterdam.com</td>\n",
       "      <td>https://pdfamsterdam.com/en/</td>\n",
       "      <td>+31202101884</td>\n",
       "      <td>https://www.eversports.de/s/pole-dance-factory...</td>\n",
       "      <td>[Poledance, Stretching, Poledance, Stretching,...</td>\n",
       "      <td>1 Angebot für Neukund:innen</td>\n",
       "      <td>2024-03-17 15:16:54</td>\n",
       "      <td>2024-03-17 15:16:54</td>\n",
       "    </tr>\n",
       "    <tr>\n",
       "      <th>111</th>\n",
       "      <td>Poledance-Area</td>\n",
       "      <td>[Mandtstraße 2 ,  42853 Remscheid]</td>\n",
       "      <td>42853</td>\n",
       "      <td>Remscheid</td>\n",
       "      <td>Mandtstraße 2</td>\n",
       "      <td>[Übersicht]</td>\n",
       "      <td>Diese Sportanlage bietet eine Vielzahl an Spor...</td>\n",
       "      <td>info@poledance-area.de</td>\n",
       "      <td>http://www.poledance-area.de</td>\n",
       "      <td>+49 01623675667</td>\n",
       "      <td>https://www.eversports.de/s/poledance-area</td>\n",
       "      <td>[1 Rezensionen, Chairdance, Floorwork, Lapdanc...</td>\n",
       "      <td>None</td>\n",
       "      <td>2024-03-17 15:16:59</td>\n",
       "      <td>2024-03-17 15:16:59</td>\n",
       "    </tr>\n",
       "    <tr>\n",
       "      <th>112</th>\n",
       "      <td>Pole Land</td>\n",
       "      <td>[Kölner Straße 336A ,  40227 Düsseldorf]</td>\n",
       "      <td>40227</td>\n",
       "      <td>Düsseldorf</td>\n",
       "      <td>Kölner Straße 336A</td>\n",
       "      <td>[Übersicht, Klassen, Workshops, Preise, Team]</td>\n",
       "      <td>Pole Dance ist eine Sportart, die sinnlichen T...</td>\n",
       "      <td>info@poleland.de</td>\n",
       "      <td>https://www.poleland.de</td>\n",
       "      <td>+49 15737270967</td>\n",
       "      <td>https://www.eversports.de/s/pole-land</td>\n",
       "      <td>[Poledance, Akrobatik, Poledance, Aerial Yoga,...</td>\n",
       "      <td>Zum Stundenplan</td>\n",
       "      <td>2024-03-17 15:17:05</td>\n",
       "      <td>2024-03-17 15:17:05</td>\n",
       "    </tr>\n",
       "  </tbody>\n",
       "</table>\n",
       "<p>113 rows × 15 columns</p>\n",
       "</div>"
      ],
      "text/plain": [
       "                        PoleStudio_Name  \\\n",
       "0                             körpernah   \n",
       "1    Pole Dance Factory Amsterdam Noord   \n",
       "2                        Spirit'n Roses   \n",
       "3             Air dance school - FLAGEY   \n",
       "4                          InfinityArts   \n",
       "..                                  ...   \n",
       "108                  Iron Forest Studio   \n",
       "109                         Studio Skye   \n",
       "110   Pole Dance Factory Amsterdam Oost   \n",
       "111                      Poledance-Area   \n",
       "112                           Pole Land   \n",
       "\n",
       "                                            Adresse    PLZ       Stadt  \\\n",
       "0              [Ahsener Straße 130,  45711 Datteln]  45711     Datteln   \n",
       "1           [Digitaalstraat 12,  1033 MR Amsterdam]   1033          MR   \n",
       "2    [Albert Cuypstraat 247HS ,  1073 BH Amsterdam]   1073          BH   \n",
       "3             [Rue du Serpentin 33 ,  1050 Ixelles]   1050     Ixelles   \n",
       "4               [Am Illerdamm 1 ,  87527 Sonthofen]  87527   Sonthofen   \n",
       "..                                              ...    ...         ...   \n",
       "108         [Noordse Bosje 15 ,  1211 BD Hilversum]   1211          BD   \n",
       "109           [Hurksestraat 19,  5652 AH Eindhoven]   5652          AH   \n",
       "110      [H.J.E. Wenckebachweg,  1096 AN Amsterdam]   1096          AN   \n",
       "111              [Mandtstraße 2 ,  42853 Remscheid]  42853   Remscheid   \n",
       "112        [Kölner Straße 336A ,  40227 Düsseldorf]  40227  Düsseldorf   \n",
       "\n",
       "                      Straße  \\\n",
       "0         Ahsener Straße 130   \n",
       "1          Digitaalstraat 12   \n",
       "2    Albert Cuypstraat 247HS   \n",
       "3        Rue du Serpentin 33   \n",
       "4             Am Illerdamm 1   \n",
       "..                       ...   \n",
       "108         Noordse Bosje 15   \n",
       "109          Hurksestraat 19   \n",
       "110     H.J.E. Wenckebachweg   \n",
       "111            Mandtstraße 2   \n",
       "112       Kölner Straße 336A   \n",
       "\n",
       "                                               Buttons  \\\n",
       "0        [Übersicht, Klassen, Workshops, Preise, Team]   \n",
       "1                   [Übersicht, Klassen, Preise, Team]   \n",
       "2           [Übersicht, Klassen, Videos, Preise, Team]   \n",
       "3                   [Übersicht, Klassen, Preise, Team]   \n",
       "4    [Übersicht, Klassen, Kurse, Workshops, Preise,...   \n",
       "..                                                 ...   \n",
       "108  [Übersicht, Klassen, Trainings, Kurse, Preise,...   \n",
       "109          [Übersicht, Klassen, Kurse, Preise, Team]   \n",
       "110      [Übersicht, Klassen, Workshops, Preise, Team]   \n",
       "111                                        [Übersicht]   \n",
       "112      [Übersicht, Klassen, Workshops, Preise, Team]   \n",
       "\n",
       "                              Pole Studio Beschreibung  \\\n",
       "0    Du möchtest Teil der #körpernahfamilie werden?...   \n",
       "1    The biggest pole dance studio of Amsterdam for...   \n",
       "2    At Spirit’n Roses Dance Studio we create a saf...   \n",
       "3    Air Dance School a été créee en 2013 et propos...   \n",
       "4    InfinityArts - Deine Polefamily in Sonthofen.W...   \n",
       "..                                                 ...   \n",
       "108  Iron Forest Studio offers various classes in c...   \n",
       "109  Studio Skye is dé sportschool voor luchtacroba...   \n",
       "110  The biggest pole dance studio of Amsterdam for...   \n",
       "111  Diese Sportanlage bietet eine Vielzahl an Spor...   \n",
       "112  Pole Dance ist eine Sportart, die sinnlichen T...   \n",
       "\n",
       "                      E-Mail                       Homepage  \\\n",
       "0        info@koerper-nah.de      http://www.koerper-nah.de   \n",
       "1      info@pdfamsterdam.com   https://pdfamsterdam.com/en/   \n",
       "2     hello@spiritnroses.com    http://www.spiritnroses.com   \n",
       "3      info@ads-poledance.be      https://ads-poledance.be/   \n",
       "4      info@infinity-arts.de    http://www.infinity-arts.de   \n",
       "..                       ...                            ...   \n",
       "108    info@ironforest.store  https://www.ironforest.store/   \n",
       "109       info@studioskye.nl       http://www.studioskye.nl   \n",
       "110    info@pdfamsterdam.com   https://pdfamsterdam.com/en/   \n",
       "111   info@poledance-area.de   http://www.poledance-area.de   \n",
       "112         info@poleland.de        https://www.poleland.de   \n",
       "\n",
       "               Telefon                                              URL_S  \\\n",
       "0    +49 02363 5591479             https://www.eversports.de/s/koerpernah   \n",
       "1         +31202101884  https://www.eversports.de/s/pole-dance-factory...   \n",
       "2          06 14582162          https://www.eversports.de/s/spiritn-roses   \n",
       "3        +32 495840751  https://www.eversports.de/s/air-dance-school-f...   \n",
       "4     +49 1515 0757748           https://www.eversports.de/s/infinityarts   \n",
       "..                 ...                                                ...   \n",
       "108      +31 682046727   https://www.eversports.de/s/iron-forest-studio-1   \n",
       "109               None            https://www.eversports.de/s/studio-skye   \n",
       "110       +31202101884  https://www.eversports.de/s/pole-dance-factory...   \n",
       "111    +49 01623675667         https://www.eversports.de/s/poledance-area   \n",
       "112    +49 15737270967              https://www.eversports.de/s/pole-land   \n",
       "\n",
       "                                                   Art  \\\n",
       "0    [Poledance, Acroyoga, Poledance, Pilates, Pole...   \n",
       "1    [Poledance, Stretching, Stretching, Poledance,...   \n",
       "2    [Tanzen, Online Klasse, Poledance, Tanzen, Tan...   \n",
       "3    [Poledance, Poledance, Poledance, Poledance, P...   \n",
       "4    [Poledance, Poledance, Poledance, (Noch keine ...   \n",
       "..                                                 ...   \n",
       "108  [Chairdance, Twerken, Poledance, Tanzen, Chair...   \n",
       "109  [Aerial Silk, Poledance, Aerial Silk, 18 Rezen...   \n",
       "110  [Poledance, Stretching, Poledance, Stretching,...   \n",
       "111  [1 Rezensionen, Chairdance, Floorwork, Lapdanc...   \n",
       "112  [Poledance, Akrobatik, Poledance, Aerial Yoga,...   \n",
       "\n",
       "                          Angebot         Created Date         Updated Date  \n",
       "0                 Zum Stundenplan  2024-03-17 15:02:59  2024-03-17 15:02:59  \n",
       "1     1 Angebot für Neukund:innen  2024-03-17 15:03:10  2024-03-17 15:03:10  \n",
       "2     1 Angebot für Neukund:innen  2024-03-17 15:03:16  2024-03-17 15:03:16  \n",
       "3                 Zum Stundenplan  2024-03-17 15:03:23  2024-03-17 15:03:23  \n",
       "4                 Zum Stundenplan  2024-03-17 15:03:29  2024-03-17 15:03:29  \n",
       "..                            ...                  ...                  ...  \n",
       "108  2 Angebote für Neukund:innen  2024-03-17 15:16:43  2024-03-17 15:16:43  \n",
       "109               Zum Stundenplan  2024-03-17 15:16:50  2024-03-17 15:16:50  \n",
       "110   1 Angebot für Neukund:innen  2024-03-17 15:16:54  2024-03-17 15:16:54  \n",
       "111                          None  2024-03-17 15:16:59  2024-03-17 15:16:59  \n",
       "112               Zum Stundenplan  2024-03-17 15:17:05  2024-03-17 15:17:05  \n",
       "\n",
       "[113 rows x 15 columns]"
      ]
     },
     "execution_count": 41,
     "metadata": {},
     "output_type": "execute_result"
    }
   ],
   "source": [
    "pole_studio"
   ]
  },
  {
   "cell_type": "code",
   "execution_count": 42,
   "metadata": {},
   "outputs": [
    {
     "data": {
      "text/html": [
       "<div>\n",
       "<style scoped>\n",
       "    .dataframe tbody tr th:only-of-type {\n",
       "        vertical-align: middle;\n",
       "    }\n",
       "\n",
       "    .dataframe tbody tr th {\n",
       "        vertical-align: top;\n",
       "    }\n",
       "\n",
       "    .dataframe thead th {\n",
       "        text-align: right;\n",
       "    }\n",
       "</style>\n",
       "<table border=\"1\" class=\"dataframe\">\n",
       "  <thead>\n",
       "    <tr style=\"text-align: right;\">\n",
       "      <th></th>\n",
       "      <th>Workshopname</th>\n",
       "      <th>Kategorie</th>\n",
       "      <th>Datum</th>\n",
       "      <th>Land</th>\n",
       "      <th>Location</th>\n",
       "      <th>Studio Name</th>\n",
       "      <th>URL_E</th>\n",
       "      <th>Art</th>\n",
       "      <th>Level</th>\n",
       "      <th>Beschreibung</th>\n",
       "      <th>Trainer</th>\n",
       "      <th>Uhrzeit</th>\n",
       "      <th>Preis</th>\n",
       "      <th>Einheiten</th>\n",
       "      <th>Pole Studio</th>\n",
       "    </tr>\n",
       "  </thead>\n",
       "  <tbody>\n",
       "    <tr>\n",
       "      <th>0</th>\n",
       "      <td>Floor-Splits</td>\n",
       "      <td>Stretching</td>\n",
       "      <td>Samstag, 23. März 2024</td>\n",
       "      <td></td>\n",
       "      <td>Ahsener Straße 130, 45711 Datteln</td>\n",
       "      <td>körpernah</td>\n",
       "      <td>https://www.eversports.de/e/workshop/ETuGX5O</td>\n",
       "      <td>Workshop</td>\n",
       "      <td></td>\n",
       "      <td>Sitzen, liegen, knien-nur nicht stehen! Wir fi...</td>\n",
       "      <td></td>\n",
       "      <td>10:30 - 12:30</td>\n",
       "      <td>ab 45,00 €</td>\n",
       "      <td>1 Einheit</td>\n",
       "      <td>körpernah</td>\n",
       "    </tr>\n",
       "    <tr>\n",
       "      <th>1</th>\n",
       "      <td>Mit Achtsamkeit zu mehr Beweglichkeit</td>\n",
       "      <td>Yoga</td>\n",
       "      <td>Samstag, 23. März 2024</td>\n",
       "      <td></td>\n",
       "      <td>Ahsener Straße 130, 45711 Datteln</td>\n",
       "      <td>körpernah</td>\n",
       "      <td>https://www.eversports.de/e/workshop/Bre34FB</td>\n",
       "      <td>Workshop</td>\n",
       "      <td></td>\n",
       "      <td>Tauche ein in die Welt der Achtsamkeit und wie...</td>\n",
       "      <td></td>\n",
       "      <td>12:45 - 14:30</td>\n",
       "      <td>ab 35,00 €</td>\n",
       "      <td>1 Einheit</td>\n",
       "      <td>körpernah</td>\n",
       "    </tr>\n",
       "    <tr>\n",
       "      <th>2</th>\n",
       "      <td>#reizistgeil</td>\n",
       "      <td>Chairdance</td>\n",
       "      <td>Beginnt am Freitag, 5. April 2024</td>\n",
       "      <td></td>\n",
       "      <td>nur LAPDANCE 19:30 - 21:30</td>\n",
       "      <td>körpernah</td>\n",
       "      <td>https://www.eversports.de/e/workshop/i5bv-2u</td>\n",
       "      <td>Workshop</td>\n",
       "      <td></td>\n",
       "      <td>Eeendlich gibt es eine Wiederholung von unsere...</td>\n",
       "      <td></td>\n",
       "      <td>Ahsener Straße 130, 45711 Datteln</td>\n",
       "      <td>ab 35,00 €</td>\n",
       "      <td>2 Einheiten</td>\n",
       "      <td>körpernah</td>\n",
       "    </tr>\n",
       "    <tr>\n",
       "      <th>3</th>\n",
       "      <td>Eltern-Kind-Luftakrobatik</td>\n",
       "      <td>Acroyoga</td>\n",
       "      <td>Samstag, 4. Mai 2024</td>\n",
       "      <td></td>\n",
       "      <td>Ahsener Straße 130, 45711 Datteln</td>\n",
       "      <td>körpernah</td>\n",
       "      <td>https://www.eversports.de/e/workshop/0ktpuKQ</td>\n",
       "      <td>Workshop</td>\n",
       "      <td></td>\n",
       "      <td>Wie cool ist das denn bitte? Gemeinsam bewegte...</td>\n",
       "      <td></td>\n",
       "      <td>15:00 - 17:00</td>\n",
       "      <td>ab 45,00 €</td>\n",
       "      <td>1 Einheit</td>\n",
       "      <td>körpernah</td>\n",
       "    </tr>\n",
       "    <tr>\n",
       "      <th>4</th>\n",
       "      <td>SisersStretching-Let's get flexy together</td>\n",
       "      <td>Stretching</td>\n",
       "      <td>Beginnt am Samstag, 22. Juni 2024</td>\n",
       "      <td></td>\n",
       "      <td>Nur \"Head&amp;Forearmstand\" So. 23.06.2024, 10:30 ...</td>\n",
       "      <td>körpernah</td>\n",
       "      <td>https://www.eversports.de/e/workshop/H_ElTJN</td>\n",
       "      <td>Workshop</td>\n",
       "      <td></td>\n",
       "      <td>Stefanie Iser: \"2014 hat mir Poledance neue Tü...</td>\n",
       "      <td></td>\n",
       "      <td>Ahsener Straße 130, 45711 Datteln</td>\n",
       "      <td>ab 55,00 €</td>\n",
       "      <td>5 Einheiten</td>\n",
       "      <td>körpernah</td>\n",
       "    </tr>\n",
       "    <tr>\n",
       "      <th>...</th>\n",
       "      <td>...</td>\n",
       "      <td>...</td>\n",
       "      <td>...</td>\n",
       "      <td>...</td>\n",
       "      <td>...</td>\n",
       "      <td>...</td>\n",
       "      <td>...</td>\n",
       "      <td>...</td>\n",
       "      <td>...</td>\n",
       "      <td>...</td>\n",
       "      <td>...</td>\n",
       "      <td>...</td>\n",
       "      <td>...</td>\n",
       "      <td>...</td>\n",
       "      <td>...</td>\n",
       "    </tr>\n",
       "    <tr>\n",
       "      <th>90</th>\n",
       "      <td>Aerial Hoop</td>\n",
       "      <td>Aerial Hoop</td>\n",
       "      <td>Sonntag, 31. März 2024</td>\n",
       "      <td></td>\n",
       "      <td>Kölner Straße 336a, 40227 Düsseldorf</td>\n",
       "      <td>Pole Land</td>\n",
       "      <td>https://www.eversports.de/e/workshop/WccIM2q</td>\n",
       "      <td>Workshop</td>\n",
       "      <td></td>\n",
       "      <td>Habt ihr Interesse am akrobatischen Luftring? ...</td>\n",
       "      <td></td>\n",
       "      <td>10:00 - 11:30</td>\n",
       "      <td>ab 50,00 €</td>\n",
       "      <td>1 Einheit</td>\n",
       "      <td>Pole Land</td>\n",
       "    </tr>\n",
       "    <tr>\n",
       "      <th>91</th>\n",
       "      <td>Akrobatik, mit und ohne Heels</td>\n",
       "      <td>Akrobatik</td>\n",
       "      <td>Sonntag, 31. März 2024</td>\n",
       "      <td></td>\n",
       "      <td>Ticket für So. 31.03.2024, 12:00 - 13:30</td>\n",
       "      <td>Pole Land</td>\n",
       "      <td>https://www.eversports.de/e/workshop/wxktuXQ</td>\n",
       "      <td>Workshop</td>\n",
       "      <td></td>\n",
       "      <td>Bewegung &amp; Akrobatik In diesem Workshop gehen ...</td>\n",
       "      <td></td>\n",
       "      <td>12:00 - 13:30</td>\n",
       "      <td>ab 40,00 €</td>\n",
       "      <td>1 Einheit</td>\n",
       "      <td>Pole Land</td>\n",
       "    </tr>\n",
       "    <tr>\n",
       "      <th>92</th>\n",
       "      <td>Favourit Pole Combos and Splitz</td>\n",
       "      <td>Poledance</td>\n",
       "      <td>Beginnt am Samstag, 20. April 2024</td>\n",
       "      <td></td>\n",
       "      <td>Splitz 14:30 - 16:00</td>\n",
       "      <td>Pole Land</td>\n",
       "      <td>https://www.eversports.de/e/workshop/OGUBUS8</td>\n",
       "      <td>Workshop</td>\n",
       "      <td></td>\n",
       "      <td>Dan's favourit combos This class will cover Da...</td>\n",
       "      <td></td>\n",
       "      <td>Kölner Straße 336a, 40227 Düsseldorf</td>\n",
       "      <td>ab 79,00 €</td>\n",
       "      <td>2 Einheiten</td>\n",
       "      <td>Pole Land</td>\n",
       "    </tr>\n",
       "    <tr>\n",
       "      <th>93</th>\n",
       "      <td>Pole Choreo</td>\n",
       "      <td>Poledance</td>\n",
       "      <td>Sonntag, 21. April 2024</td>\n",
       "      <td></td>\n",
       "      <td>Kölner Straße 336a, 40227 Düsseldorf</td>\n",
       "      <td>Pole Land</td>\n",
       "      <td>https://www.eversports.de/e/workshop/VVXdiD8</td>\n",
       "      <td>Workshop</td>\n",
       "      <td></td>\n",
       "      <td>In diesem Workshop lernen wir innerhalb von 2 ...</td>\n",
       "      <td></td>\n",
       "      <td>14:30 - 16:00</td>\n",
       "      <td>ab 35,00 €</td>\n",
       "      <td>1 Einheit</td>\n",
       "      <td>Pole Land</td>\n",
       "    </tr>\n",
       "    <tr>\n",
       "      <th>94</th>\n",
       "      <td>Spinning an der Static</td>\n",
       "      <td>Polesport</td>\n",
       "      <td>Sonntag, 28. April 2024</td>\n",
       "      <td></td>\n",
       "      <td>Kölner Straße 336a, 40227 Düsseldorf</td>\n",
       "      <td>Pole Land</td>\n",
       "      <td>https://www.eversports.de/e/workshop/SqEYfO3</td>\n",
       "      <td>Workshop</td>\n",
       "      <td></td>\n",
       "      <td>Static goes spinning! In diesem Workshop erler...</td>\n",
       "      <td></td>\n",
       "      <td>12:00 - 13:30</td>\n",
       "      <td>ab 35,00 €</td>\n",
       "      <td>1 Einheit</td>\n",
       "      <td>Pole Land</td>\n",
       "    </tr>\n",
       "  </tbody>\n",
       "</table>\n",
       "<p>95 rows × 15 columns</p>\n",
       "</div>"
      ],
      "text/plain": [
       "                                 Workshopname    Kategorie  \\\n",
       "0                                Floor-Splits   Stretching   \n",
       "1       Mit Achtsamkeit zu mehr Beweglichkeit         Yoga   \n",
       "2                                #reizistgeil   Chairdance   \n",
       "3                   Eltern-Kind-Luftakrobatik     Acroyoga   \n",
       "4   SisersStretching-Let's get flexy together   Stretching   \n",
       "..                                        ...          ...   \n",
       "90                                Aerial Hoop  Aerial Hoop   \n",
       "91              Akrobatik, mit und ohne Heels    Akrobatik   \n",
       "92            Favourit Pole Combos and Splitz    Poledance   \n",
       "93                                Pole Choreo    Poledance   \n",
       "94                     Spinning an der Static    Polesport   \n",
       "\n",
       "                                 Datum Land  \\\n",
       "0               Samstag, 23. März 2024        \n",
       "1               Samstag, 23. März 2024        \n",
       "2    Beginnt am Freitag, 5. April 2024        \n",
       "3                 Samstag, 4. Mai 2024        \n",
       "4    Beginnt am Samstag, 22. Juni 2024        \n",
       "..                                 ...  ...   \n",
       "90              Sonntag, 31. März 2024        \n",
       "91              Sonntag, 31. März 2024        \n",
       "92  Beginnt am Samstag, 20. April 2024        \n",
       "93             Sonntag, 21. April 2024        \n",
       "94             Sonntag, 28. April 2024        \n",
       "\n",
       "                                             Location Studio Name  \\\n",
       "0                   Ahsener Straße 130, 45711 Datteln   körpernah   \n",
       "1                   Ahsener Straße 130, 45711 Datteln   körpernah   \n",
       "2                          nur LAPDANCE 19:30 - 21:30   körpernah   \n",
       "3                   Ahsener Straße 130, 45711 Datteln   körpernah   \n",
       "4   Nur \"Head&Forearmstand\" So. 23.06.2024, 10:30 ...   körpernah   \n",
       "..                                                ...         ...   \n",
       "90               Kölner Straße 336a, 40227 Düsseldorf   Pole Land   \n",
       "91           Ticket für So. 31.03.2024, 12:00 - 13:30   Pole Land   \n",
       "92                               Splitz 14:30 - 16:00   Pole Land   \n",
       "93               Kölner Straße 336a, 40227 Düsseldorf   Pole Land   \n",
       "94               Kölner Straße 336a, 40227 Düsseldorf   Pole Land   \n",
       "\n",
       "                                           URL_E       Art Level  \\\n",
       "0   https://www.eversports.de/e/workshop/ETuGX5O  Workshop         \n",
       "1   https://www.eversports.de/e/workshop/Bre34FB  Workshop         \n",
       "2   https://www.eversports.de/e/workshop/i5bv-2u  Workshop         \n",
       "3   https://www.eversports.de/e/workshop/0ktpuKQ  Workshop         \n",
       "4   https://www.eversports.de/e/workshop/H_ElTJN  Workshop         \n",
       "..                                           ...       ...   ...   \n",
       "90  https://www.eversports.de/e/workshop/WccIM2q  Workshop         \n",
       "91  https://www.eversports.de/e/workshop/wxktuXQ  Workshop         \n",
       "92  https://www.eversports.de/e/workshop/OGUBUS8  Workshop         \n",
       "93  https://www.eversports.de/e/workshop/VVXdiD8  Workshop         \n",
       "94  https://www.eversports.de/e/workshop/SqEYfO3  Workshop         \n",
       "\n",
       "                                         Beschreibung Trainer  \\\n",
       "0   Sitzen, liegen, knien-nur nicht stehen! Wir fi...           \n",
       "1   Tauche ein in die Welt der Achtsamkeit und wie...           \n",
       "2   Eeendlich gibt es eine Wiederholung von unsere...           \n",
       "3   Wie cool ist das denn bitte? Gemeinsam bewegte...           \n",
       "4   Stefanie Iser: \"2014 hat mir Poledance neue Tü...           \n",
       "..                                                ...     ...   \n",
       "90  Habt ihr Interesse am akrobatischen Luftring? ...           \n",
       "91  Bewegung & Akrobatik In diesem Workshop gehen ...           \n",
       "92  Dan's favourit combos This class will cover Da...           \n",
       "93  In diesem Workshop lernen wir innerhalb von 2 ...           \n",
       "94  Static goes spinning! In diesem Workshop erler...           \n",
       "\n",
       "                                 Uhrzeit       Preis    Einheiten Pole Studio  \n",
       "0                          10:30 - 12:30  ab 45,00 €    1 Einheit   körpernah  \n",
       "1                          12:45 - 14:30  ab 35,00 €    1 Einheit   körpernah  \n",
       "2      Ahsener Straße 130, 45711 Datteln  ab 35,00 €  2 Einheiten   körpernah  \n",
       "3                          15:00 - 17:00  ab 45,00 €    1 Einheit   körpernah  \n",
       "4      Ahsener Straße 130, 45711 Datteln  ab 55,00 €  5 Einheiten   körpernah  \n",
       "..                                   ...         ...          ...         ...  \n",
       "90                         10:00 - 11:30  ab 50,00 €    1 Einheit   Pole Land  \n",
       "91                         12:00 - 13:30  ab 40,00 €    1 Einheit   Pole Land  \n",
       "92  Kölner Straße 336a, 40227 Düsseldorf  ab 79,00 €  2 Einheiten   Pole Land  \n",
       "93                         14:30 - 16:00  ab 35,00 €    1 Einheit   Pole Land  \n",
       "94                         12:00 - 13:30  ab 35,00 €    1 Einheit   Pole Land  \n",
       "\n",
       "[95 rows x 15 columns]"
      ]
     },
     "execution_count": 42,
     "metadata": {},
     "output_type": "execute_result"
    }
   ],
   "source": [
    "workshops"
   ]
  }
 ],
 "metadata": {
  "kernelspec": {
   "display_name": "Python 3",
   "language": "python",
   "name": "python3"
  },
  "language_info": {
   "codemirror_mode": {
    "name": "ipython",
    "version": 3
   },
   "file_extension": ".py",
   "mimetype": "text/x-python",
   "name": "python",
   "nbconvert_exporter": "python",
   "pygments_lexer": "ipython3",
   "version": "3.12.2"
  }
 },
 "nbformat": 4,
 "nbformat_minor": 2
}
