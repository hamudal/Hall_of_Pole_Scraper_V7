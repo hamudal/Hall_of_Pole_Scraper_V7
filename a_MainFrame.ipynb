{
 "cells": [
  {
   "cell_type": "code",
   "execution_count": 6,
   "metadata": {},
   "outputs": [
    {
     "data": {
      "text/plain": [
       "227"
      ]
     },
     "execution_count": 6,
     "metadata": {},
     "output_type": "execute_result"
    }
   ],
   "source": [
    "import pandas as pd\n",
    "\n",
    "all_uRLs= pd.read_csv(\"polestudios_neue_liste.csv\")\n",
    "all_uRLs.sort_values(\"URL_S\")\n",
    "\n",
    "initial_urls = all_uRLs[\"URL_S\"].to_list()\n",
    "len(initial_urls)"
   ]
  },
  {
   "cell_type": "code",
   "execution_count": 7,
   "metadata": {},
   "outputs": [],
   "source": [
    "initial_urls = initial_urls#[:10]"
   ]
  },
  {
   "cell_type": "markdown",
   "metadata": {},
   "source": [
    "___"
   ]
  },
  {
   "cell_type": "markdown",
   "metadata": {},
   "source": [
    "Scraper Code"
   ]
  },
  {
   "cell_type": "code",
   "execution_count": 8,
   "metadata": {},
   "outputs": [
    {
     "name": "stderr",
     "output_type": "stream",
     "text": [
      "Processing URLs:   0%|          | 0/227 [00:00<?, ?it/s]"
     ]
    },
    {
     "name": "stdout",
     "output_type": "stream",
     "text": [
      "Starting URL reconstruction...\n"
     ]
    },
    {
     "name": "stderr",
     "output_type": "stream",
     "text": [
      "2025-01-25 13:16:58,696 - INFO - Processing URL 1/1: https://www.eversports.de/s/pole-circus\n"
     ]
    },
    {
     "name": "stdout",
     "output_type": "stream",
     "text": [
      "Converting to DataFrame...\n",
      "Validating URLs...\n"
     ]
    },
    {
     "name": "stderr",
     "output_type": "stream",
     "text": [
      "2025-01-25 13:16:59,127 - INFO - URL https://www.eversports.de/s/pole-circus is valid.\n",
      "Processing URLs:   1%|          | 2/227 [00:01<02:38,  1.42it/s]"
     ]
    },
    {
     "name": "stdout",
     "output_type": "stream",
     "text": [
      "Scraping Pole Studio Data from https://www.eversports.de/s/pole-circus...\n",
      "Error retrieving the webpage: ('Connection aborted.', RemoteDisconnected('Remote end closed connection without response'))\n",
      "\n",
      "Processing completed.\n",
      "-------------------------------- \n",
      "\n",
      "Starting URL reconstruction...\n",
      "Error during HTTP request: 404 Client Error: Not Found for url: https://www.eversports.de/s/-pole-aerial-dance-souldance\n",
      "Converting to DataFrame...\n",
      "Validating URLs...\n",
      "\n",
      "Processing completed.\n",
      "-------------------------------- \n",
      "\n",
      "Starting URL reconstruction...\n"
     ]
    },
    {
     "name": "stderr",
     "output_type": "stream",
     "text": [
      "2025-01-25 13:16:59,799 - INFO - Processing URL 1/2: https://www.eversports.de/s/a-heart-for-poledance-1\n"
     ]
    },
    {
     "name": "stdout",
     "output_type": "stream",
     "text": [
      "Converting to DataFrame...\n",
      "Validating URLs...\n"
     ]
    },
    {
     "name": "stderr",
     "output_type": "stream",
     "text": [
      "2025-01-25 13:17:00,115 - INFO - URL https://www.eversports.de/s/a-heart-for-poledance-1 is valid.\n",
      "2025-01-25 13:17:00,116 - INFO - Processing URL 2/2: https://www.eversports.de/sw/a-heart-for-poledance-1\n",
      "2025-01-25 13:17:00,354 - INFO - URL https://www.eversports.de/sw/a-heart-for-poledance-1 is valid.\n"
     ]
    },
    {
     "name": "stdout",
     "output_type": "stream",
     "text": [
      "Scraping Pole Studio Data from https://www.eversports.de/s/a-heart-for-poledance-1...\n",
      "Scraping Workshops Data from https://www.eversports.de/sw/a-heart-for-poledance-1...\n",
      "Scraping Workshop Details from https://www.eversports.de/e/workshop/qBr13Wi...\n",
      "Scraping Workshop Details from https://www.eversports.de/e/workshop/VUscLq7...\n",
      "Scraping Workshop Details from https://www.eversports.de/e/workshop/QVsCho-...\n"
     ]
    },
    {
     "name": "stderr",
     "output_type": "stream",
     "text": [
      "Processing URLs:   1%|▏         | 3/227 [00:05<08:38,  2.32s/it]"
     ]
    },
    {
     "name": "stdout",
     "output_type": "stream",
     "text": [
      "\n",
      "Processing completed.\n",
      "-------------------------------- \n",
      "\n",
      "2025-01-25 13:17:03 - INFO - Scraping Data from: https://www.eversports.de/s/a-heart-for-poledance-1\n",
      "Pole Studio Data: 1 entries\n",
      "2025-01-25 13:17:03 - INFO - Scraping Data from: https://www.eversports.de/s/a-heart-for-poledance-1\n",
      "Workshops Data: 3 entries\n",
      "2025-01-25 13:17:03 - INFO - Scraping Data from: https://www.eversports.de/s/a-heart-for-poledance-1\n",
      "Workshop Details: 3 entries\n",
      "Starting URL reconstruction...\n"
     ]
    },
    {
     "name": "stderr",
     "output_type": "stream",
     "text": [
      "2025-01-25 13:17:04,370 - INFO - Processing URL 1/2: https://www.eversports.de/s/airobics\n"
     ]
    },
    {
     "name": "stdout",
     "output_type": "stream",
     "text": [
      "Converting to DataFrame...\n",
      "Validating URLs...\n"
     ]
    },
    {
     "name": "stderr",
     "output_type": "stream",
     "text": [
      "2025-01-25 13:17:04,819 - INFO - URL https://www.eversports.de/s/airobics is valid.\n",
      "2025-01-25 13:17:04,820 - INFO - Processing URL 2/2: https://www.eversports.de/sw/airobics\n",
      "2025-01-25 13:17:04,997 - INFO - URL https://www.eversports.de/sw/airobics is valid.\n"
     ]
    },
    {
     "name": "stdout",
     "output_type": "stream",
     "text": [
      "Scraping Pole Studio Data from https://www.eversports.de/s/airobics...\n",
      "Scraping Workshops Data from https://www.eversports.de/sw/airobics...\n",
      "Scraping Workshop Details from https://www.eversports.de/e/workshop/sr23wxh...\n"
     ]
    },
    {
     "name": "stderr",
     "output_type": "stream",
     "text": [
      "Processing URLs:   2%|▏         | 4/227 [00:08<08:46,  2.36s/it]"
     ]
    },
    {
     "name": "stdout",
     "output_type": "stream",
     "text": [
      "\n",
      "Processing completed.\n",
      "-------------------------------- \n",
      "\n",
      "2025-01-25 13:17:05 - INFO - Scraping Data from: https://www.eversports.de/s/airobics\n",
      "Pole Studio Data: 1 entries\n",
      "2025-01-25 13:17:06 - INFO - Scraping Data from: https://www.eversports.de/s/airobics\n",
      "Workshops Data: 1 entries\n",
      "2025-01-25 13:17:06 - INFO - Scraping Data from: https://www.eversports.de/s/airobics\n",
      "Workshop Details: 1 entries\n",
      "Starting URL reconstruction...\n"
     ]
    },
    {
     "name": "stderr",
     "output_type": "stream",
     "text": [
      "2025-01-25 13:17:08,636 - INFO - Processing URL 1/2: https://www.eversports.de/s/aerial-art-poledance\n"
     ]
    },
    {
     "name": "stdout",
     "output_type": "stream",
     "text": [
      "Converting to DataFrame...\n",
      "Validating URLs...\n"
     ]
    },
    {
     "name": "stderr",
     "output_type": "stream",
     "text": [
      "2025-01-25 13:17:08,989 - INFO - URL https://www.eversports.de/s/aerial-art-poledance is valid.\n",
      "2025-01-25 13:17:08,989 - INFO - Processing URL 2/2: https://www.eversports.de/sw/aerial-art-poledance\n",
      "2025-01-25 13:17:09,216 - INFO - URL https://www.eversports.de/sw/aerial-art-poledance is valid.\n"
     ]
    },
    {
     "name": "stdout",
     "output_type": "stream",
     "text": [
      "Scraping Pole Studio Data from https://www.eversports.de/s/aerial-art-poledance...\n",
      "Scraping Workshops Data from https://www.eversports.de/sw/aerial-art-poledance...\n",
      "Scraping Workshop Details from https://www.eversports.de/e/workshop/veYc5Bs...\n",
      "Scraping Workshop Details from https://www.eversports.de/e/workshop/TGA8Aw6...\n"
     ]
    },
    {
     "name": "stderr",
     "output_type": "stream",
     "text": [
      "Processing URLs:   2%|▏         | 5/227 [00:13<12:51,  3.47s/it]"
     ]
    },
    {
     "name": "stdout",
     "output_type": "stream",
     "text": [
      "\n",
      "Processing completed.\n",
      "-------------------------------- \n",
      "\n",
      "2025-01-25 13:17:11 - INFO - Scraping Data from: https://www.eversports.de/s/aerial-art-poledance\n",
      "Pole Studio Data: 1 entries\n",
      "2025-01-25 13:17:11 - INFO - Scraping Data from: https://www.eversports.de/s/aerial-art-poledance\n",
      "Workshops Data: 2 entries\n",
      "2025-01-25 13:17:11 - INFO - Scraping Data from: https://www.eversports.de/s/aerial-art-poledance\n",
      "Workshop Details: 2 entries\n",
      "Starting URL reconstruction...\n"
     ]
    },
    {
     "name": "stderr",
     "output_type": "stream",
     "text": [
      "Processing URLs:   3%|▎         | 6/227 [00:13<08:43,  2.37s/it]"
     ]
    },
    {
     "name": "stdout",
     "output_type": "stream",
     "text": [
      "Error during HTTP request: 404 Client Error: Not Found for url: https://www.eversports.de/s/aerial-circus\n",
      "Converting to DataFrame...\n",
      "Validating URLs...\n",
      "\n",
      "Processing completed.\n",
      "-------------------------------- \n",
      "\n",
      "Starting URL reconstruction...\n"
     ]
    },
    {
     "name": "stderr",
     "output_type": "stream",
     "text": [
      "2025-01-25 13:17:13,010 - INFO - Processing URL 1/2: https://www.eversports.de/s/aerial-loft\n"
     ]
    },
    {
     "name": "stdout",
     "output_type": "stream",
     "text": [
      "Converting to DataFrame...\n",
      "Validating URLs...\n"
     ]
    },
    {
     "name": "stderr",
     "output_type": "stream",
     "text": [
      "2025-01-25 13:17:13,407 - INFO - URL https://www.eversports.de/s/aerial-loft is valid.\n",
      "2025-01-25 13:17:13,408 - INFO - Processing URL 2/2: https://www.eversports.de/sw/aerial-loft\n",
      "2025-01-25 13:17:13,588 - INFO - URL https://www.eversports.de/sw/aerial-loft is valid.\n"
     ]
    },
    {
     "name": "stdout",
     "output_type": "stream",
     "text": [
      "Scraping Pole Studio Data from https://www.eversports.de/s/aerial-loft...\n",
      "Scraping Workshops Data from https://www.eversports.de/sw/aerial-loft...\n",
      "Scraping Workshop Details from https://www.eversports.de/e/workshop/lc4qPOo...\n",
      "Scraping Workshop Details from https://www.eversports.de/e/workshop/_27c8QD...\n",
      "Scraping Workshop Details from https://www.eversports.de/e/workshop/SZ3Nmsl...\n",
      "Scraping Workshop Details from https://www.eversports.de/e/workshop/gMXWpxg...\n",
      "Scraping Workshop Details from https://www.eversports.de/e/workshop/uJkfYKT...\n",
      "Scraping Workshop Details from https://www.eversports.de/e/workshop/HGGb2cb...\n",
      "Scraping Workshop Details from https://www.eversports.de/e/workshop/_WWLiPN...\n",
      "Scraping Workshop Details from https://www.eversports.de/e/workshop/bW5HryJ...\n",
      "Scraping Workshop Details from https://www.eversports.de/e/workshop/tCf_3LZ...\n",
      "Scraping Workshop Details from https://www.eversports.de/e/workshop/Y9JsyhM...\n"
     ]
    },
    {
     "name": "stderr",
     "output_type": "stream",
     "text": [
      "Processing URLs:   3%|▎         | 7/227 [00:22<15:32,  4.24s/it]"
     ]
    },
    {
     "name": "stdout",
     "output_type": "stream",
     "text": [
      "\n",
      "Processing completed.\n",
      "-------------------------------- \n",
      "\n",
      "2025-01-25 13:17:19 - INFO - Scraping Data from: https://www.eversports.de/s/aerial-loft\n",
      "Pole Studio Data: 1 entries\n",
      "2025-01-25 13:17:19 - INFO - Scraping Data from: https://www.eversports.de/s/aerial-loft\n",
      "Workshops Data: 10 entries\n",
      "2025-01-25 13:17:19 - INFO - Scraping Data from: https://www.eversports.de/s/aerial-loft\n",
      "Workshop Details: 10 entries\n",
      "Starting URL reconstruction...\n"
     ]
    },
    {
     "name": "stderr",
     "output_type": "stream",
     "text": [
      "2025-01-25 13:17:20,191 - INFO - Processing URL 1/1: https://www.eversports.de/s/aerial-sportstudio\n"
     ]
    },
    {
     "name": "stdout",
     "output_type": "stream",
     "text": [
      "Converting to DataFrame...\n",
      "Validating URLs...\n"
     ]
    },
    {
     "name": "stderr",
     "output_type": "stream",
     "text": [
      "2025-01-25 13:17:21,869 - INFO - URL https://www.eversports.de/s/aerial-sportstudio is valid.\n"
     ]
    },
    {
     "name": "stdout",
     "output_type": "stream",
     "text": [
      "Scraping Pole Studio Data from https://www.eversports.de/s/aerial-sportstudio...\n",
      "\n",
      "Processing completed.\n",
      "-------------------------------- \n",
      "\n"
     ]
    },
    {
     "name": "stderr",
     "output_type": "stream",
     "text": [
      "Processing URLs:   4%|▎         | 8/227 [00:24<13:13,  3.62s/it]"
     ]
    },
    {
     "name": "stdout",
     "output_type": "stream",
     "text": [
      "2025-01-25 13:17:22 - INFO - Scraping Data from: https://www.eversports.de/s/aerial-sportstudio\n",
      "Pole Studio Data: 1 entries\n",
      "Starting URL reconstruction...\n"
     ]
    },
    {
     "name": "stderr",
     "output_type": "stream",
     "text": [
      "2025-01-25 13:17:22,487 - INFO - Processing URL 1/2: https://www.eversports.de/s/aerial-studio\n"
     ]
    },
    {
     "name": "stdout",
     "output_type": "stream",
     "text": [
      "Converting to DataFrame...\n",
      "Validating URLs...\n"
     ]
    },
    {
     "name": "stderr",
     "output_type": "stream",
     "text": [
      "2025-01-25 13:17:23,238 - INFO - URL https://www.eversports.de/s/aerial-studio is valid.\n",
      "2025-01-25 13:17:23,238 - INFO - Processing URL 2/2: https://www.eversports.de/sw/aerial-studio\n",
      "2025-01-25 13:17:23,372 - INFO - URL https://www.eversports.de/sw/aerial-studio is not valid.\n"
     ]
    },
    {
     "name": "stdout",
     "output_type": "stream",
     "text": [
      "Scraping Pole Studio Data from https://www.eversports.de/s/aerial-studio...\n"
     ]
    },
    {
     "name": "stderr",
     "output_type": "stream",
     "text": [
      "Processing URLs:   4%|▍         | 9/227 [00:26<11:10,  3.07s/it]"
     ]
    },
    {
     "name": "stdout",
     "output_type": "stream",
     "text": [
      "\n",
      "Processing completed.\n",
      "-------------------------------- \n",
      "\n",
      "2025-01-25 13:17:23 - INFO - Scraping Data from: https://www.eversports.de/s/aerial-studio\n",
      "Pole Studio Data: 1 entries\n",
      "Starting URL reconstruction...\n"
     ]
    },
    {
     "name": "stderr",
     "output_type": "stream",
     "text": [
      "2025-01-25 13:17:24,431 - INFO - Processing URL 1/2: https://www.eversports.de/s/aerial-studio\n"
     ]
    },
    {
     "name": "stdout",
     "output_type": "stream",
     "text": [
      "Converting to DataFrame...\n",
      "Validating URLs...\n"
     ]
    },
    {
     "name": "stderr",
     "output_type": "stream",
     "text": [
      "2025-01-25 13:17:25,032 - INFO - URL https://www.eversports.de/s/aerial-studio is valid.\n",
      "2025-01-25 13:17:25,033 - INFO - Processing URL 2/2: https://www.eversports.de/sw/aerial-studio\n",
      "2025-01-25 13:17:25,176 - INFO - URL https://www.eversports.de/sw/aerial-studio is not valid.\n"
     ]
    },
    {
     "name": "stdout",
     "output_type": "stream",
     "text": [
      "Scraping Pole Studio Data from https://www.eversports.de/s/aerial-studio...\n"
     ]
    },
    {
     "name": "stderr",
     "output_type": "stream",
     "text": [
      "Processing URLs:   4%|▍         | 10/227 [00:27<09:30,  2.63s/it]"
     ]
    },
    {
     "name": "stdout",
     "output_type": "stream",
     "text": [
      "\n",
      "Processing completed.\n",
      "-------------------------------- \n",
      "\n",
      "2025-01-25 13:17:25 - INFO - Scraping Data from: https://www.eversports.de/s/aerial-studio\n",
      "Pole Studio Data: 1 entries\n",
      "Starting URL reconstruction...\n"
     ]
    },
    {
     "name": "stderr",
     "output_type": "stream",
     "text": [
      "2025-01-25 13:17:25,984 - INFO - Processing URL 1/2: https://www.eversports.de/s/aerial-studio-arnhem\n"
     ]
    },
    {
     "name": "stdout",
     "output_type": "stream",
     "text": [
      "Converting to DataFrame...\n",
      "Validating URLs...\n"
     ]
    },
    {
     "name": "stderr",
     "output_type": "stream",
     "text": [
      "2025-01-25 13:17:26,306 - INFO - URL https://www.eversports.de/s/aerial-studio-arnhem is valid.\n",
      "2025-01-25 13:17:26,307 - INFO - Processing URL 2/2: https://www.eversports.de/sw/aerial-studio-arnhem\n",
      "2025-01-25 13:17:26,433 - INFO - URL https://www.eversports.de/sw/aerial-studio-arnhem is not valid.\n"
     ]
    },
    {
     "name": "stdout",
     "output_type": "stream",
     "text": [
      "Scraping Pole Studio Data from https://www.eversports.de/s/aerial-studio-arnhem...\n"
     ]
    },
    {
     "name": "stderr",
     "output_type": "stream",
     "text": [
      "Processing URLs:   5%|▍         | 11/227 [00:29<07:54,  2.20s/it]"
     ]
    },
    {
     "name": "stdout",
     "output_type": "stream",
     "text": [
      "\n",
      "Processing completed.\n",
      "-------------------------------- \n",
      "\n",
      "2025-01-25 13:17:26 - INFO - Scraping Data from: https://www.eversports.de/s/aerial-studio-arnhem\n",
      "Pole Studio Data: 1 entries\n",
      "Starting URL reconstruction...\n"
     ]
    },
    {
     "name": "stderr",
     "output_type": "stream",
     "text": [
      "2025-01-25 13:17:27,148 - INFO - Processing URL 1/2: https://www.eversports.de/s/aerial-studio-arnhem\n"
     ]
    },
    {
     "name": "stdout",
     "output_type": "stream",
     "text": [
      "Converting to DataFrame...\n",
      "Validating URLs...\n"
     ]
    },
    {
     "name": "stderr",
     "output_type": "stream",
     "text": [
      "2025-01-25 13:17:27,650 - INFO - URL https://www.eversports.de/s/aerial-studio-arnhem is valid.\n",
      "2025-01-25 13:17:27,650 - INFO - Processing URL 2/2: https://www.eversports.de/sw/aerial-studio-arnhem\n",
      "2025-01-25 13:17:27,782 - INFO - URL https://www.eversports.de/sw/aerial-studio-arnhem is not valid.\n"
     ]
    },
    {
     "name": "stdout",
     "output_type": "stream",
     "text": [
      "Scraping Pole Studio Data from https://www.eversports.de/s/aerial-studio-arnhem...\n"
     ]
    },
    {
     "name": "stderr",
     "output_type": "stream",
     "text": [
      "Processing URLs:   5%|▌         | 12/227 [00:30<06:59,  1.95s/it]"
     ]
    },
    {
     "name": "stdout",
     "output_type": "stream",
     "text": [
      "\n",
      "Processing completed.\n",
      "-------------------------------- \n",
      "\n",
      "2025-01-25 13:17:28 - INFO - Scraping Data from: https://www.eversports.de/s/aerial-studio-arnhem\n",
      "Pole Studio Data: 1 entries\n",
      "Starting URL reconstruction...\n"
     ]
    },
    {
     "name": "stderr",
     "output_type": "stream",
     "text": [
      "2025-01-25 13:17:28,618 - INFO - Processing URL 1/1: https://www.eversports.de/s/aerialistic-body-and-soul\n"
     ]
    },
    {
     "name": "stdout",
     "output_type": "stream",
     "text": [
      "Converting to DataFrame...\n",
      "Validating URLs...\n"
     ]
    },
    {
     "name": "stderr",
     "output_type": "stream",
     "text": [
      "2025-01-25 13:17:29,190 - INFO - URL https://www.eversports.de/s/aerialistic-body-and-soul is valid.\n"
     ]
    },
    {
     "name": "stdout",
     "output_type": "stream",
     "text": [
      "Scraping Pole Studio Data from https://www.eversports.de/s/aerialistic-body-and-soul...\n"
     ]
    },
    {
     "name": "stderr",
     "output_type": "stream",
     "text": [
      "Processing URLs:   6%|▌         | 13/227 [00:32<06:36,  1.85s/it]"
     ]
    },
    {
     "name": "stdout",
     "output_type": "stream",
     "text": [
      "\n",
      "Processing completed.\n",
      "-------------------------------- \n",
      "\n",
      "2025-01-25 13:17:29 - INFO - Scraping Data from: https://www.eversports.de/s/aerialistic-body-and-soul\n",
      "Pole Studio Data: 1 entries\n",
      "Starting URL reconstruction...\n"
     ]
    },
    {
     "name": "stderr",
     "output_type": "stream",
     "text": [
      "2025-01-25 13:17:30,377 - INFO - Processing URL 1/1: https://www.eversports.de/s/air-dance-school-flagey\n"
     ]
    },
    {
     "name": "stdout",
     "output_type": "stream",
     "text": [
      "Converting to DataFrame...\n",
      "Validating URLs...\n"
     ]
    },
    {
     "name": "stderr",
     "output_type": "stream",
     "text": [
      "2025-01-25 13:17:30,707 - INFO - URL https://www.eversports.de/s/air-dance-school-flagey is valid.\n"
     ]
    },
    {
     "name": "stdout",
     "output_type": "stream",
     "text": [
      "Scraping Pole Studio Data from https://www.eversports.de/s/air-dance-school-flagey...\n"
     ]
    },
    {
     "name": "stderr",
     "output_type": "stream",
     "text": [
      "Processing URLs:   6%|▌         | 14/227 [00:33<06:21,  1.79s/it]"
     ]
    },
    {
     "name": "stdout",
     "output_type": "stream",
     "text": [
      "\n",
      "Processing completed.\n",
      "-------------------------------- \n",
      "\n",
      "2025-01-25 13:17:31 - INFO - Scraping Data from: https://www.eversports.de/s/air-dance-school-flagey\n",
      "Pole Studio Data: 1 entries\n",
      "Starting URL reconstruction...\n"
     ]
    },
    {
     "name": "stderr",
     "output_type": "stream",
     "text": [
      "2025-01-25 13:17:31,822 - INFO - Processing URL 1/1: https://www.eversports.de/s/air-dance-school-uccle-et-bla\n"
     ]
    },
    {
     "name": "stdout",
     "output_type": "stream",
     "text": [
      "Converting to DataFrame...\n",
      "Validating URLs...\n"
     ]
    },
    {
     "name": "stderr",
     "output_type": "stream",
     "text": [
      "2025-01-25 13:17:32,170 - INFO - URL https://www.eversports.de/s/air-dance-school-uccle-et-bla is valid.\n"
     ]
    },
    {
     "name": "stdout",
     "output_type": "stream",
     "text": [
      "Scraping Pole Studio Data from https://www.eversports.de/s/air-dance-school-uccle-et-bla...\n"
     ]
    },
    {
     "name": "stderr",
     "output_type": "stream",
     "text": [
      "Processing URLs:   7%|▋         | 15/227 [00:34<05:34,  1.58s/it]"
     ]
    },
    {
     "name": "stdout",
     "output_type": "stream",
     "text": [
      "\n",
      "Processing completed.\n",
      "-------------------------------- \n",
      "\n",
      "2025-01-25 13:17:32 - INFO - Scraping Data from: https://www.eversports.de/s/air-dance-school-uccle-et-bla\n",
      "Pole Studio Data: 1 entries\n",
      "Starting URL reconstruction...\n"
     ]
    },
    {
     "name": "stderr",
     "output_type": "stream",
     "text": [
      "2025-01-25 13:17:33,098 - INFO - Processing URL 1/1: https://www.eversports.de/s/annis-pole-dance-neumuenster\n"
     ]
    },
    {
     "name": "stdout",
     "output_type": "stream",
     "text": [
      "Converting to DataFrame...\n",
      "Validating URLs...\n"
     ]
    },
    {
     "name": "stderr",
     "output_type": "stream",
     "text": [
      "2025-01-25 13:17:33,547 - INFO - URL https://www.eversports.de/s/annis-pole-dance-neumuenster is valid.\n"
     ]
    },
    {
     "name": "stdout",
     "output_type": "stream",
     "text": [
      "Scraping Pole Studio Data from https://www.eversports.de/s/annis-pole-dance-neumuenster...\n"
     ]
    },
    {
     "name": "stderr",
     "output_type": "stream",
     "text": [
      "Processing URLs:   7%|▋         | 16/227 [00:36<05:26,  1.55s/it]"
     ]
    },
    {
     "name": "stdout",
     "output_type": "stream",
     "text": [
      "\n",
      "Processing completed.\n",
      "-------------------------------- \n",
      "\n",
      "2025-01-25 13:17:34 - INFO - Scraping Data from: https://www.eversports.de/s/annis-pole-dance-neumuenster\n",
      "Pole Studio Data: 1 entries\n",
      "Starting URL reconstruction...\n"
     ]
    },
    {
     "name": "stderr",
     "output_type": "stream",
     "text": [
      "2025-01-25 13:17:34,412 - INFO - Processing URL 1/1: https://www.eversports.de/s/annis-pole-dance-uetersen\n"
     ]
    },
    {
     "name": "stdout",
     "output_type": "stream",
     "text": [
      "Converting to DataFrame...\n",
      "Validating URLs...\n"
     ]
    },
    {
     "name": "stderr",
     "output_type": "stream",
     "text": [
      "2025-01-25 13:17:34,766 - INFO - URL https://www.eversports.de/s/annis-pole-dance-uetersen is valid.\n"
     ]
    },
    {
     "name": "stdout",
     "output_type": "stream",
     "text": [
      "Scraping Pole Studio Data from https://www.eversports.de/s/annis-pole-dance-uetersen...\n"
     ]
    },
    {
     "name": "stderr",
     "output_type": "stream",
     "text": [
      "Processing URLs:   7%|▋         | 17/227 [00:37<04:55,  1.41s/it]"
     ]
    },
    {
     "name": "stdout",
     "output_type": "stream",
     "text": [
      "\n",
      "Processing completed.\n",
      "-------------------------------- \n",
      "\n",
      "2025-01-25 13:17:35 - INFO - Scraping Data from: https://www.eversports.de/s/annis-pole-dance-uetersen\n",
      "Pole Studio Data: 1 entries\n",
      "Starting URL reconstruction...\n"
     ]
    },
    {
     "name": "stderr",
     "output_type": "stream",
     "text": [
      "2025-01-25 13:17:35,409 - INFO - Processing URL 1/1: https://www.eversports.de/s/artletik-ug-laufen-und-meer\n"
     ]
    },
    {
     "name": "stdout",
     "output_type": "stream",
     "text": [
      "Converting to DataFrame...\n",
      "Validating URLs...\n"
     ]
    },
    {
     "name": "stderr",
     "output_type": "stream",
     "text": [
      "2025-01-25 13:17:35,775 - INFO - URL https://www.eversports.de/s/artletik-ug-laufen-und-meer is valid.\n"
     ]
    },
    {
     "name": "stdout",
     "output_type": "stream",
     "text": [
      "Scraping Pole Studio Data from https://www.eversports.de/s/artletik-ug-laufen-und-meer...\n"
     ]
    },
    {
     "name": "stderr",
     "output_type": "stream",
     "text": [
      "Processing URLs:   8%|▊         | 18/227 [00:38<04:24,  1.26s/it]"
     ]
    },
    {
     "name": "stdout",
     "output_type": "stream",
     "text": [
      "\n",
      "Processing completed.\n",
      "-------------------------------- \n",
      "\n",
      "2025-01-25 13:17:36 - INFO - Scraping Data from: https://www.eversports.de/s/artletik-ug-laufen-und-meer\n",
      "Pole Studio Data: 1 entries\n",
      "Starting URL reconstruction...\n"
     ]
    },
    {
     "name": "stderr",
     "output_type": "stream",
     "text": [
      "2025-01-25 13:17:37,477 - INFO - Processing URL 1/2: https://www.eversports.de/s/balance-neumarkt\n"
     ]
    },
    {
     "name": "stdout",
     "output_type": "stream",
     "text": [
      "Converting to DataFrame...\n",
      "Validating URLs...\n"
     ]
    },
    {
     "name": "stderr",
     "output_type": "stream",
     "text": [
      "2025-01-25 13:17:38,086 - INFO - URL https://www.eversports.de/s/balance-neumarkt is valid.\n",
      "2025-01-25 13:17:38,087 - INFO - Processing URL 2/2: https://www.eversports.de/sw/balance-neumarkt\n",
      "2025-01-25 13:17:38,570 - INFO - URL https://www.eversports.de/sw/balance-neumarkt is valid.\n"
     ]
    },
    {
     "name": "stdout",
     "output_type": "stream",
     "text": [
      "Scraping Pole Studio Data from https://www.eversports.de/s/balance-neumarkt...\n",
      "Scraping Workshops Data from https://www.eversports.de/sw/balance-neumarkt...\n",
      "Scraping Workshop Details from https://www.eversports.de/e/workshop/gek8aLo...\n",
      "Scraping Workshop Details from https://www.eversports.de/e/workshop/5OHs-1N...\n",
      "Scraping Workshop Details from https://www.eversports.de/e/workshop/OPiUTVq...\n",
      "Scraping Workshop Details from https://www.eversports.de/e/workshop/CPgzoCO...\n",
      "Scraping Workshop Details from https://www.eversports.de/e/workshop/_YMrHV8...\n",
      "Scraping Workshop Details from https://www.eversports.de/e/workshop/tutRK9m...\n",
      "Scraping Workshop Details from https://www.eversports.de/e/workshop/2BHtuy8...\n"
     ]
    },
    {
     "name": "stderr",
     "output_type": "stream",
     "text": [
      "Processing URLs:   8%|▊         | 19/227 [00:45<10:23,  3.00s/it]"
     ]
    },
    {
     "name": "stdout",
     "output_type": "stream",
     "text": [
      "\n",
      "Processing completed.\n",
      "-------------------------------- \n",
      "\n",
      "2025-01-25 13:17:43 - INFO - Scraping Data from: https://www.eversports.de/s/balance-neumarkt\n",
      "Pole Studio Data: 1 entries\n",
      "2025-01-25 13:17:43 - INFO - Scraping Data from: https://www.eversports.de/s/balance-neumarkt\n",
      "Workshops Data: 7 entries\n",
      "2025-01-25 13:17:43 - INFO - Scraping Data from: https://www.eversports.de/s/balance-neumarkt\n",
      "Workshop Details: 7 entries\n",
      "Starting URL reconstruction...\n"
     ]
    },
    {
     "name": "stderr",
     "output_type": "stream",
     "text": [
      "2025-01-25 13:17:43,531 - INFO - Processing URL 1/1: https://www.eversports.de/s/body-meets-soul-leipzig\n"
     ]
    },
    {
     "name": "stdout",
     "output_type": "stream",
     "text": [
      "Converting to DataFrame...\n",
      "Validating URLs...\n"
     ]
    },
    {
     "name": "stderr",
     "output_type": "stream",
     "text": [
      "2025-01-25 13:17:44,231 - INFO - URL https://www.eversports.de/s/body-meets-soul-leipzig is valid.\n"
     ]
    },
    {
     "name": "stdout",
     "output_type": "stream",
     "text": [
      "Scraping Pole Studio Data from https://www.eversports.de/s/body-meets-soul-leipzig...\n"
     ]
    },
    {
     "name": "stderr",
     "output_type": "stream",
     "text": [
      "Processing URLs:   9%|▉         | 20/227 [00:47<09:03,  2.62s/it]"
     ]
    },
    {
     "name": "stdout",
     "output_type": "stream",
     "text": [
      "\n",
      "Processing completed.\n",
      "-------------------------------- \n",
      "\n",
      "2025-01-25 13:17:44 - INFO - Scraping Data from: https://www.eversports.de/s/body-meets-soul-leipzig\n",
      "Pole Studio Data: 1 entries\n",
      "Starting URL reconstruction...\n"
     ]
    },
    {
     "name": "stderr",
     "output_type": "stream",
     "text": [
      "Processing URLs:   9%|▉         | 21/227 [00:47<06:32,  1.91s/it]"
     ]
    },
    {
     "name": "stdout",
     "output_type": "stream",
     "text": [
      "Error during HTTP request: 404 Client Error: Not Found for url: https://www.eversports.de/s/bodysoul-studio-duesseldorf\n",
      "Converting to DataFrame...\n",
      "Validating URLs...\n",
      "\n",
      "Processing completed.\n",
      "-------------------------------- \n",
      "\n",
      "Starting URL reconstruction...\n"
     ]
    },
    {
     "name": "stderr",
     "output_type": "stream",
     "text": [
      "2025-01-25 13:17:45,963 - INFO - Processing URL 1/1: https://www.eversports.de/s/britt-bloem-pt\n"
     ]
    },
    {
     "name": "stdout",
     "output_type": "stream",
     "text": [
      "Converting to DataFrame...\n",
      "Validating URLs...\n"
     ]
    },
    {
     "name": "stderr",
     "output_type": "stream",
     "text": [
      "2025-01-25 13:17:46,425 - INFO - URL https://www.eversports.de/s/britt-bloem-pt is valid.\n"
     ]
    },
    {
     "name": "stdout",
     "output_type": "stream",
     "text": [
      "Scraping Pole Studio Data from https://www.eversports.de/s/britt-bloem-pt...\n"
     ]
    },
    {
     "name": "stderr",
     "output_type": "stream",
     "text": [
      "Processing URLs:  10%|▉         | 22/227 [00:49<06:21,  1.86s/it]"
     ]
    },
    {
     "name": "stdout",
     "output_type": "stream",
     "text": [
      "\n",
      "Processing completed.\n",
      "-------------------------------- \n",
      "\n",
      "2025-01-25 13:17:46 - INFO - Scraping Data from: https://www.eversports.de/s/britt-bloem-pt\n",
      "Pole Studio Data: 1 entries\n",
      "Starting URL reconstruction...\n"
     ]
    },
    {
     "name": "stderr",
     "output_type": "stream",
     "text": [
      "2025-01-25 13:17:47,323 - INFO - Processing URL 1/2: https://www.eversports.de/s/brussels-art-pole\n"
     ]
    },
    {
     "name": "stdout",
     "output_type": "stream",
     "text": [
      "Converting to DataFrame...\n",
      "Validating URLs...\n"
     ]
    },
    {
     "name": "stderr",
     "output_type": "stream",
     "text": [
      "2025-01-25 13:17:47,965 - INFO - URL https://www.eversports.de/s/brussels-art-pole is valid.\n",
      "2025-01-25 13:17:47,966 - INFO - Processing URL 2/2: https://www.eversports.de/sw/brussels-art-pole\n",
      "2025-01-25 13:17:48,162 - INFO - URL https://www.eversports.de/sw/brussels-art-pole is not valid.\n"
     ]
    },
    {
     "name": "stdout",
     "output_type": "stream",
     "text": [
      "Scraping Pole Studio Data from https://www.eversports.de/s/brussels-art-pole...\n"
     ]
    },
    {
     "name": "stderr",
     "output_type": "stream",
     "text": [
      "Processing URLs:  10%|█         | 23/227 [00:50<06:16,  1.85s/it]"
     ]
    },
    {
     "name": "stdout",
     "output_type": "stream",
     "text": [
      "\n",
      "Processing completed.\n",
      "-------------------------------- \n",
      "\n",
      "2025-01-25 13:17:48 - INFO - Scraping Data from: https://www.eversports.de/s/brussels-art-pole\n",
      "Pole Studio Data: 1 entries\n",
      "Starting URL reconstruction...\n"
     ]
    },
    {
     "name": "stderr",
     "output_type": "stream",
     "text": [
      "2025-01-25 13:17:49,138 - INFO - Processing URL 1/1: https://www.eversports.de/s/calipso-studio\n"
     ]
    },
    {
     "name": "stdout",
     "output_type": "stream",
     "text": [
      "Converting to DataFrame...\n",
      "Validating URLs...\n"
     ]
    },
    {
     "name": "stderr",
     "output_type": "stream",
     "text": [
      "2025-01-25 13:17:49,692 - INFO - URL https://www.eversports.de/s/calipso-studio is valid.\n"
     ]
    },
    {
     "name": "stdout",
     "output_type": "stream",
     "text": [
      "Scraping Pole Studio Data from https://www.eversports.de/s/calipso-studio...\n"
     ]
    },
    {
     "name": "stderr",
     "output_type": "stream",
     "text": [
      "Processing URLs:  11%|█         | 24/227 [00:53<07:23,  2.18s/it]"
     ]
    },
    {
     "name": "stdout",
     "output_type": "stream",
     "text": [
      "\n",
      "Processing completed.\n",
      "-------------------------------- \n",
      "\n",
      "2025-01-25 13:17:51 - INFO - Scraping Data from: https://www.eversports.de/s/calipso-studio\n",
      "Pole Studio Data: 1 entries\n",
      "Starting URL reconstruction...\n"
     ]
    },
    {
     "name": "stderr",
     "output_type": "stream",
     "text": [
      "2025-01-25 13:17:52,061 - INFO - Processing URL 1/2: https://www.eversports.de/s/css-aerial-dance-studio\n"
     ]
    },
    {
     "name": "stdout",
     "output_type": "stream",
     "text": [
      "Converting to DataFrame...\n",
      "Validating URLs...\n"
     ]
    },
    {
     "name": "stderr",
     "output_type": "stream",
     "text": [
      "2025-01-25 13:17:52,576 - INFO - URL https://www.eversports.de/s/css-aerial-dance-studio is valid.\n",
      "2025-01-25 13:17:52,577 - INFO - Processing URL 2/2: https://www.eversports.de/sw/css-aerial-dance-studio\n",
      "2025-01-25 13:17:52,797 - INFO - URL https://www.eversports.de/sw/css-aerial-dance-studio is valid.\n"
     ]
    },
    {
     "name": "stdout",
     "output_type": "stream",
     "text": [
      "Scraping Pole Studio Data from https://www.eversports.de/s/css-aerial-dance-studio...\n",
      "Scraping Workshops Data from https://www.eversports.de/sw/css-aerial-dance-studio...\n",
      "Scraping Workshop Details from https://www.eversports.de/e/workshop/f5V5U6q...\n",
      "Scraping Workshop Details from https://www.eversports.de/e/workshop/epQRSKB...\n"
     ]
    },
    {
     "name": "stderr",
     "output_type": "stream",
     "text": [
      "Processing URLs:  11%|█         | 25/227 [00:56<07:45,  2.30s/it]"
     ]
    },
    {
     "name": "stdout",
     "output_type": "stream",
     "text": [
      "\n",
      "Processing completed.\n",
      "-------------------------------- \n",
      "\n",
      "2025-01-25 13:17:54 - INFO - Scraping Data from: https://www.eversports.de/s/css-aerial-dance-studio\n",
      "Pole Studio Data: 1 entries\n",
      "2025-01-25 13:17:54 - INFO - Scraping Data from: https://www.eversports.de/s/css-aerial-dance-studio\n",
      "Workshops Data: 2 entries\n",
      "2025-01-25 13:17:54 - INFO - Scraping Data from: https://www.eversports.de/s/css-aerial-dance-studio\n",
      "Workshop Details: 2 entries\n",
      "Starting URL reconstruction...\n"
     ]
    },
    {
     "name": "stderr",
     "output_type": "stream",
     "text": [
      "2025-01-25 13:17:54,787 - INFO - Processing URL 1/1: https://www.eversports.de/s/center-of-moving-arts\n"
     ]
    },
    {
     "name": "stdout",
     "output_type": "stream",
     "text": [
      "Converting to DataFrame...\n",
      "Validating URLs...\n"
     ]
    },
    {
     "name": "stderr",
     "output_type": "stream",
     "text": [
      "2025-01-25 13:17:55,105 - INFO - URL https://www.eversports.de/s/center-of-moving-arts is valid.\n"
     ]
    },
    {
     "name": "stdout",
     "output_type": "stream",
     "text": [
      "Scraping Pole Studio Data from https://www.eversports.de/s/center-of-moving-arts...\n"
     ]
    },
    {
     "name": "stderr",
     "output_type": "stream",
     "text": [
      "Processing URLs:  11%|█▏        | 26/227 [00:58<07:00,  2.09s/it]"
     ]
    },
    {
     "name": "stdout",
     "output_type": "stream",
     "text": [
      "\n",
      "Processing completed.\n",
      "-------------------------------- \n",
      "\n",
      "2025-01-25 13:17:55 - INFO - Scraping Data from: https://www.eversports.de/s/center-of-moving-arts\n",
      "Pole Studio Data: 1 entries\n",
      "Starting URL reconstruction...\n"
     ]
    },
    {
     "name": "stderr",
     "output_type": "stream",
     "text": [
      "2025-01-25 13:17:56,320 - INFO - Processing URL 1/2: https://www.eversports.de/s/cheesy-heaven\n"
     ]
    },
    {
     "name": "stdout",
     "output_type": "stream",
     "text": [
      "Converting to DataFrame...\n",
      "Validating URLs...\n"
     ]
    },
    {
     "name": "stderr",
     "output_type": "stream",
     "text": [
      "2025-01-25 13:17:57,309 - INFO - URL https://www.eversports.de/s/cheesy-heaven is valid.\n",
      "2025-01-25 13:17:57,310 - INFO - Processing URL 2/2: https://www.eversports.de/sw/cheesy-heaven\n",
      "2025-01-25 13:17:58,449 - INFO - URL https://www.eversports.de/sw/cheesy-heaven is valid.\n"
     ]
    },
    {
     "name": "stdout",
     "output_type": "stream",
     "text": [
      "Scraping Pole Studio Data from https://www.eversports.de/s/cheesy-heaven...\n",
      "Scraping Workshops Data from https://www.eversports.de/sw/cheesy-heaven...\n",
      "Scraping Workshop Details from https://www.eversports.de/e/workshop/k2hhJkS...\n",
      "Scraping Workshop Details from https://www.eversports.de/e/workshop/ITQGtSZ...\n",
      "Scraping Workshop Details from https://www.eversports.de/e/workshop/GCVKaOn...\n",
      "Scraping Workshop Details from https://www.eversports.de/e/workshop/AhhEHW2...\n",
      "Scraping Workshop Details from https://www.eversports.de/e/workshop/AtP2rtG...\n",
      "Scraping Workshop Details from https://www.eversports.de/e/workshop/iq3IAkL...\n"
     ]
    },
    {
     "name": "stderr",
     "output_type": "stream",
     "text": [
      "Processing URLs:  12%|█▏        | 27/227 [01:06<13:39,  4.10s/it]"
     ]
    },
    {
     "name": "stdout",
     "output_type": "stream",
     "text": [
      "\n",
      "Processing completed.\n",
      "-------------------------------- \n",
      "\n",
      "2025-01-25 13:18:04 - INFO - Scraping Data from: https://www.eversports.de/s/cheesy-heaven\n",
      "Pole Studio Data: 1 entries\n",
      "2025-01-25 13:18:04 - INFO - Scraping Data from: https://www.eversports.de/s/cheesy-heaven\n",
      "Workshops Data: 6 entries\n",
      "2025-01-25 13:18:04 - INFO - Scraping Data from: https://www.eversports.de/s/cheesy-heaven\n",
      "Workshop Details: 6 entries\n",
      "Starting URL reconstruction...\n"
     ]
    },
    {
     "name": "stderr",
     "output_type": "stream",
     "text": [
      "2025-01-25 13:18:04,879 - INFO - Processing URL 1/1: https://www.eversports.de/s/cindys-pole-dance\n"
     ]
    },
    {
     "name": "stdout",
     "output_type": "stream",
     "text": [
      "Converting to DataFrame...\n",
      "Validating URLs...\n"
     ]
    },
    {
     "name": "stderr",
     "output_type": "stream",
     "text": [
      "2025-01-25 13:18:05,169 - INFO - URL https://www.eversports.de/s/cindys-pole-dance is valid.\n"
     ]
    },
    {
     "name": "stdout",
     "output_type": "stream",
     "text": [
      "Scraping Pole Studio Data from https://www.eversports.de/s/cindys-pole-dance...\n",
      "\n",
      "Processing completed.\n",
      "-------------------------------- \n",
      "\n"
     ]
    },
    {
     "name": "stderr",
     "output_type": "stream",
     "text": [
      "Processing URLs:  12%|█▏        | 28/227 [01:07<10:21,  3.12s/it]"
     ]
    },
    {
     "name": "stdout",
     "output_type": "stream",
     "text": [
      "2025-01-25 13:18:05 - INFO - Scraping Data from: https://www.eversports.de/s/cindys-pole-dance\n",
      "Pole Studio Data: 1 entries\n",
      "Starting URL reconstruction...\n"
     ]
    },
    {
     "name": "stderr",
     "output_type": "stream",
     "text": [
      "2025-01-25 13:18:05,732 - INFO - Processing URL 1/1: https://www.eversports.de/s/dc-pole-studio\n"
     ]
    },
    {
     "name": "stdout",
     "output_type": "stream",
     "text": [
      "Converting to DataFrame...\n",
      "Validating URLs...\n"
     ]
    },
    {
     "name": "stderr",
     "output_type": "stream",
     "text": [
      "2025-01-25 13:18:06,092 - INFO - URL https://www.eversports.de/s/dc-pole-studio is valid.\n"
     ]
    },
    {
     "name": "stdout",
     "output_type": "stream",
     "text": [
      "Scraping Pole Studio Data from https://www.eversports.de/s/dc-pole-studio...\n"
     ]
    },
    {
     "name": "stderr",
     "output_type": "stream",
     "text": [
      "Processing URLs:  13%|█▎        | 29/227 [01:09<08:33,  2.59s/it]"
     ]
    },
    {
     "name": "stdout",
     "output_type": "stream",
     "text": [
      "\n",
      "Processing completed.\n",
      "-------------------------------- \n",
      "\n",
      "2025-01-25 13:18:06 - INFO - Scraping Data from: https://www.eversports.de/s/dc-pole-studio\n",
      "Pole Studio Data: 1 entries\n",
      "Starting URL reconstruction...\n",
      "Error during HTTP request: 404 Client Error: Not Found for url: https://www.eversports.de/s/dunya-pole-dance-school\n",
      "Converting to DataFrame...\n",
      "Validating URLs...\n",
      "\n",
      "Processing completed.\n",
      "-------------------------------- \n",
      "\n"
     ]
    },
    {
     "name": "stderr",
     "output_type": "stream",
     "text": [
      "Processing URLs:  14%|█▎        | 31/227 [01:09<04:26,  1.36s/it]"
     ]
    },
    {
     "name": "stdout",
     "output_type": "stream",
     "text": [
      "Starting URL reconstruction...\n",
      "Error during HTTP request: 404 Client Error: Not Found for url: https://www.eversports.de/s/dunya-pole-dance-school\n",
      "Converting to DataFrame...\n",
      "Validating URLs...\n",
      "\n",
      "Processing completed.\n",
      "-------------------------------- \n",
      "\n",
      "Starting URL reconstruction...\n"
     ]
    },
    {
     "name": "stderr",
     "output_type": "stream",
     "text": [
      "2025-01-25 13:18:07,551 - INFO - Processing URL 1/2: https://www.eversports.de/s/da-becca-flow-and-fit\n"
     ]
    },
    {
     "name": "stdout",
     "output_type": "stream",
     "text": [
      "Converting to DataFrame...\n",
      "Validating URLs...\n"
     ]
    },
    {
     "name": "stderr",
     "output_type": "stream",
     "text": [
      "2025-01-25 13:18:08,053 - INFO - URL https://www.eversports.de/s/da-becca-flow-and-fit is valid.\n",
      "2025-01-25 13:18:08,054 - INFO - Processing URL 2/2: https://www.eversports.de/sw/da-becca-flow-and-fit\n",
      "2025-01-25 13:18:08,533 - INFO - URL https://www.eversports.de/sw/da-becca-flow-and-fit is valid.\n"
     ]
    },
    {
     "name": "stdout",
     "output_type": "stream",
     "text": [
      "Scraping Pole Studio Data from https://www.eversports.de/s/da-becca-flow-and-fit...\n",
      "Scraping Workshops Data from https://www.eversports.de/sw/da-becca-flow-and-fit...\n",
      "Scraping Workshop Details from https://www.eversports.de/e/workshop/WZz5iSt...\n",
      "Scraping Workshop Details from https://www.eversports.de/e/workshop/_WYHwZd...\n",
      "Scraping Workshop Details from https://www.eversports.de/e/workshop/lzv9RXO...\n",
      "Scraping Workshop Details from https://www.eversports.de/e/workshop/QpNqbIh...\n",
      "Scraping Workshop Details from https://www.eversports.de/e/workshop/QeVkKQC...\n",
      "Scraping Workshop Details from https://www.eversports.de/e/workshop/wmOvI81...\n"
     ]
    },
    {
     "name": "stderr",
     "output_type": "stream",
     "text": [
      "Processing URLs:  15%|█▍        | 33/227 [01:14<05:43,  1.77s/it]"
     ]
    },
    {
     "name": "stdout",
     "output_type": "stream",
     "text": [
      "\n",
      "Processing completed.\n",
      "-------------------------------- \n",
      "\n",
      "2025-01-25 13:18:12 - INFO - Scraping Data from: https://www.eversports.de/s/da-becca-flow-and-fit\n",
      "Pole Studio Data: 1 entries\n",
      "2025-01-25 13:18:12 - INFO - Scraping Data from: https://www.eversports.de/s/da-becca-flow-and-fit\n",
      "Workshops Data: 6 entries\n",
      "2025-01-25 13:18:12 - INFO - Scraping Data from: https://www.eversports.de/s/da-becca-flow-and-fit\n",
      "Workshop Details: 6 entries\n",
      "Starting URL reconstruction...\n",
      "Error during HTTP request: 404 Client Error: Not Found for url: https://www.eversports.de/s/dance-and-pole-deltawerk\n",
      "Converting to DataFrame...\n",
      "Validating URLs...\n",
      "\n",
      "Processing completed.\n",
      "-------------------------------- \n",
      "\n",
      "Starting URL reconstruction...\n"
     ]
    },
    {
     "name": "stderr",
     "output_type": "stream",
     "text": [
      "2025-01-25 13:18:12,743 - INFO - Processing URL 1/1: https://www.eversports.de/s/dance-and-pole-langenfeld\n"
     ]
    },
    {
     "name": "stdout",
     "output_type": "stream",
     "text": [
      "Converting to DataFrame...\n",
      "Validating URLs...\n"
     ]
    },
    {
     "name": "stderr",
     "output_type": "stream",
     "text": [
      "2025-01-25 13:18:13,096 - INFO - URL https://www.eversports.de/s/dance-and-pole-langenfeld is valid.\n"
     ]
    },
    {
     "name": "stdout",
     "output_type": "stream",
     "text": [
      "Scraping Pole Studio Data from https://www.eversports.de/s/dance-and-pole-langenfeld...\n"
     ]
    },
    {
     "name": "stderr",
     "output_type": "stream",
     "text": [
      "Processing URLs:  15%|█▍        | 34/227 [01:15<05:06,  1.59s/it]"
     ]
    },
    {
     "name": "stdout",
     "output_type": "stream",
     "text": [
      "\n",
      "Processing completed.\n",
      "-------------------------------- \n",
      "\n",
      "2025-01-25 13:18:13 - INFO - Scraping Data from: https://www.eversports.de/s/dance-and-pole-langenfeld\n",
      "Pole Studio Data: 1 entries\n",
      "Starting URL reconstruction...\n"
     ]
    },
    {
     "name": "stderr",
     "output_type": "stream",
     "text": [
      "2025-01-25 13:18:13,921 - INFO - Processing URL 1/1: https://www.eversports.de/s/dance-and-pole-leverkusen\n"
     ]
    },
    {
     "name": "stdout",
     "output_type": "stream",
     "text": [
      "Converting to DataFrame...\n",
      "Validating URLs...\n"
     ]
    },
    {
     "name": "stderr",
     "output_type": "stream",
     "text": [
      "2025-01-25 13:18:14,249 - INFO - URL https://www.eversports.de/s/dance-and-pole-leverkusen is valid.\n"
     ]
    },
    {
     "name": "stdout",
     "output_type": "stream",
     "text": [
      "Scraping Pole Studio Data from https://www.eversports.de/s/dance-and-pole-leverkusen...\n"
     ]
    },
    {
     "name": "stderr",
     "output_type": "stream",
     "text": [
      "Processing URLs:  15%|█▌        | 35/227 [01:16<04:39,  1.46s/it]"
     ]
    },
    {
     "name": "stdout",
     "output_type": "stream",
     "text": [
      "\n",
      "Processing completed.\n",
      "-------------------------------- \n",
      "\n",
      "2025-01-25 13:18:14 - INFO - Scraping Data from: https://www.eversports.de/s/dance-and-pole-leverkusen\n",
      "Pole Studio Data: 1 entries\n",
      "Starting URL reconstruction...\n"
     ]
    },
    {
     "name": "stderr",
     "output_type": "stream",
     "text": [
      "2025-01-25 13:18:14,930 - INFO - Processing URL 1/2: https://www.eversports.de/s/dance-and-pole-solingen\n"
     ]
    },
    {
     "name": "stdout",
     "output_type": "stream",
     "text": [
      "Converting to DataFrame...\n",
      "Validating URLs...\n"
     ]
    },
    {
     "name": "stderr",
     "output_type": "stream",
     "text": [
      "2025-01-25 13:18:15,297 - INFO - URL https://www.eversports.de/s/dance-and-pole-solingen is valid.\n",
      "2025-01-25 13:18:15,297 - INFO - Processing URL 2/2: https://www.eversports.de/sw/dance-and-pole-solingen\n",
      "2025-01-25 13:18:15,977 - INFO - URL https://www.eversports.de/sw/dance-and-pole-solingen is valid.\n"
     ]
    },
    {
     "name": "stdout",
     "output_type": "stream",
     "text": [
      "Scraping Pole Studio Data from https://www.eversports.de/s/dance-and-pole-solingen...\n",
      "Scraping Workshops Data from https://www.eversports.de/sw/dance-and-pole-solingen...\n",
      "Scraping Workshop Details from https://www.eversports.de/e/workshop/nW19Iho...\n"
     ]
    },
    {
     "name": "stderr",
     "output_type": "stream",
     "text": [
      "Processing URLs:  16%|█▌        | 36/227 [01:19<05:50,  1.84s/it]"
     ]
    },
    {
     "name": "stdout",
     "output_type": "stream",
     "text": [
      "\n",
      "Processing completed.\n",
      "-------------------------------- \n",
      "\n",
      "2025-01-25 13:18:17 - INFO - Scraping Data from: https://www.eversports.de/s/dance-and-pole-solingen\n",
      "Pole Studio Data: 1 entries\n",
      "2025-01-25 13:18:17 - INFO - Scraping Data from: https://www.eversports.de/s/dance-and-pole-solingen\n",
      "Workshops Data: 1 entries\n",
      "2025-01-25 13:18:17 - INFO - Scraping Data from: https://www.eversports.de/s/dance-and-pole-solingen\n",
      "Workshop Details: 1 entries\n",
      "Starting URL reconstruction...\n"
     ]
    },
    {
     "name": "stderr",
     "output_type": "stream",
     "text": [
      "2025-01-25 13:18:17,709 - INFO - Processing URL 1/1: https://www.eversports.de/s/dancingstyle\n"
     ]
    },
    {
     "name": "stdout",
     "output_type": "stream",
     "text": [
      "Converting to DataFrame...\n",
      "Validating URLs...\n"
     ]
    },
    {
     "name": "stderr",
     "output_type": "stream",
     "text": [
      "2025-01-25 13:18:18,092 - INFO - URL https://www.eversports.de/s/dancingstyle is valid.\n"
     ]
    },
    {
     "name": "stdout",
     "output_type": "stream",
     "text": [
      "Scraping Pole Studio Data from https://www.eversports.de/s/dancingstyle...\n"
     ]
    },
    {
     "name": "stderr",
     "output_type": "stream",
     "text": [
      "Processing URLs:  16%|█▋        | 37/227 [01:20<05:09,  1.63s/it]"
     ]
    },
    {
     "name": "stdout",
     "output_type": "stream",
     "text": [
      "\n",
      "Processing completed.\n",
      "-------------------------------- \n",
      "\n",
      "2025-01-25 13:18:18 - INFO - Scraping Data from: https://www.eversports.de/s/dancingstyle\n",
      "Pole Studio Data: 1 entries\n",
      "Starting URL reconstruction...\n"
     ]
    },
    {
     "name": "stderr",
     "output_type": "stream",
     "text": [
      "2025-01-25 13:18:19,006 - INFO - Processing URL 1/1: https://www.eversports.de/s/danza-dell-orso-d-oro\n"
     ]
    },
    {
     "name": "stdout",
     "output_type": "stream",
     "text": [
      "Converting to DataFrame...\n",
      "Validating URLs...\n"
     ]
    },
    {
     "name": "stderr",
     "output_type": "stream",
     "text": [
      "2025-01-25 13:18:19,669 - INFO - URL https://www.eversports.de/s/danza-dell-orso-d-oro is valid.\n"
     ]
    },
    {
     "name": "stdout",
     "output_type": "stream",
     "text": [
      "Scraping Pole Studio Data from https://www.eversports.de/s/danza-dell-orso-d-oro...\n"
     ]
    },
    {
     "name": "stderr",
     "output_type": "stream",
     "text": [
      "Processing URLs:  17%|█▋        | 38/227 [01:22<04:58,  1.58s/it]"
     ]
    },
    {
     "name": "stdout",
     "output_type": "stream",
     "text": [
      "\n",
      "Processing completed.\n",
      "-------------------------------- \n",
      "\n",
      "2025-01-25 13:18:19 - INFO - Scraping Data from: https://www.eversports.de/s/danza-dell-orso-d-oro\n",
      "Pole Studio Data: 1 entries\n",
      "Starting URL reconstruction...\n"
     ]
    },
    {
     "name": "stderr",
     "output_type": "stream",
     "text": [
      "2025-01-25 13:18:20,411 - INFO - Processing URL 1/2: https://www.eversports.de/s/dayuma-pole-and-acrobatics\n"
     ]
    },
    {
     "name": "stdout",
     "output_type": "stream",
     "text": [
      "Converting to DataFrame...\n",
      "Validating URLs...\n"
     ]
    },
    {
     "name": "stderr",
     "output_type": "stream",
     "text": [
      "2025-01-25 13:18:20,918 - INFO - URL https://www.eversports.de/s/dayuma-pole-and-acrobatics is valid.\n",
      "2025-01-25 13:18:20,919 - INFO - Processing URL 2/2: https://www.eversports.de/sw/dayuma-pole-and-acrobatics\n",
      "2025-01-25 13:18:21,064 - INFO - URL https://www.eversports.de/sw/dayuma-pole-and-acrobatics is not valid.\n"
     ]
    },
    {
     "name": "stdout",
     "output_type": "stream",
     "text": [
      "Scraping Pole Studio Data from https://www.eversports.de/s/dayuma-pole-and-acrobatics...\n"
     ]
    },
    {
     "name": "stderr",
     "output_type": "stream",
     "text": [
      "Processing URLs:  17%|█▋        | 39/227 [01:24<05:10,  1.65s/it]"
     ]
    },
    {
     "name": "stdout",
     "output_type": "stream",
     "text": [
      "\n",
      "Processing completed.\n",
      "-------------------------------- \n",
      "\n",
      "2025-01-25 13:18:21 - INFO - Scraping Data from: https://www.eversports.de/s/dayuma-pole-and-acrobatics\n",
      "Pole Studio Data: 1 entries\n",
      "Starting URL reconstruction...\n"
     ]
    },
    {
     "name": "stderr",
     "output_type": "stream",
     "text": [
      "2025-01-25 13:18:22,239 - INFO - Processing URL 1/2: https://www.eversports.de/s/dayuma-pole-and-acrobatics\n"
     ]
    },
    {
     "name": "stdout",
     "output_type": "stream",
     "text": [
      "Converting to DataFrame...\n",
      "Validating URLs...\n"
     ]
    },
    {
     "name": "stderr",
     "output_type": "stream",
     "text": [
      "2025-01-25 13:18:22,660 - INFO - URL https://www.eversports.de/s/dayuma-pole-and-acrobatics is valid.\n",
      "2025-01-25 13:18:22,660 - INFO - Processing URL 2/2: https://www.eversports.de/sw/dayuma-pole-and-acrobatics\n",
      "2025-01-25 13:18:22,915 - INFO - URL https://www.eversports.de/sw/dayuma-pole-and-acrobatics is not valid.\n"
     ]
    },
    {
     "name": "stdout",
     "output_type": "stream",
     "text": [
      "Scraping Pole Studio Data from https://www.eversports.de/s/dayuma-pole-and-acrobatics...\n"
     ]
    },
    {
     "name": "stderr",
     "output_type": "stream",
     "text": [
      "Processing URLs:  18%|█▊        | 40/227 [01:25<05:02,  1.62s/it]"
     ]
    },
    {
     "name": "stdout",
     "output_type": "stream",
     "text": [
      "\n",
      "Processing completed.\n",
      "-------------------------------- \n",
      "\n",
      "2025-01-25 13:18:23 - INFO - Scraping Data from: https://www.eversports.de/s/dayuma-pole-and-acrobatics\n",
      "Pole Studio Data: 1 entries\n",
      "Starting URL reconstruction...\n"
     ]
    },
    {
     "name": "stderr",
     "output_type": "stream",
     "text": [
      "2025-01-25 13:18:24,042 - INFO - Processing URL 1/1: https://www.eversports.de/s/delicate-pole\n"
     ]
    },
    {
     "name": "stdout",
     "output_type": "stream",
     "text": [
      "Converting to DataFrame...\n",
      "Validating URLs...\n"
     ]
    },
    {
     "name": "stderr",
     "output_type": "stream",
     "text": [
      "2025-01-25 13:18:24,621 - INFO - URL https://www.eversports.de/s/delicate-pole is valid.\n"
     ]
    },
    {
     "name": "stdout",
     "output_type": "stream",
     "text": [
      "Scraping Pole Studio Data from https://www.eversports.de/s/delicate-pole...\n"
     ]
    },
    {
     "name": "stderr",
     "output_type": "stream",
     "text": [
      "Processing URLs:  18%|█▊        | 41/227 [01:27<05:39,  1.82s/it]"
     ]
    },
    {
     "name": "stdout",
     "output_type": "stream",
     "text": [
      "\n",
      "Processing completed.\n",
      "-------------------------------- \n",
      "\n",
      "2025-01-25 13:18:25 - INFO - Scraping Data from: https://www.eversports.de/s/delicate-pole\n",
      "Pole Studio Data: 1 entries\n",
      "Starting URL reconstruction...\n"
     ]
    },
    {
     "name": "stderr",
     "output_type": "stream",
     "text": [
      "2025-01-25 13:18:26,000 - INFO - Processing URL 1/1: https://www.eversports.de/s/divapole\n"
     ]
    },
    {
     "name": "stdout",
     "output_type": "stream",
     "text": [
      "Converting to DataFrame...\n",
      "Validating URLs...\n"
     ]
    },
    {
     "name": "stderr",
     "output_type": "stream",
     "text": [
      "2025-01-25 13:18:26,399 - INFO - URL https://www.eversports.de/s/divapole is valid.\n"
     ]
    },
    {
     "name": "stdout",
     "output_type": "stream",
     "text": [
      "Scraping Pole Studio Data from https://www.eversports.de/s/divapole...\n"
     ]
    },
    {
     "name": "stderr",
     "output_type": "stream",
     "text": [
      "Processing URLs:  19%|█▉        | 43/227 [01:29<03:37,  1.18s/it]"
     ]
    },
    {
     "name": "stdout",
     "output_type": "stream",
     "text": [
      "\n",
      "Processing completed.\n",
      "-------------------------------- \n",
      "\n",
      "2025-01-25 13:18:26 - INFO - Scraping Data from: https://www.eversports.de/s/divapole\n",
      "Pole Studio Data: 1 entries\n",
      "Starting URL reconstruction...\n",
      "Error during HTTP request: 404 Client Error: Not Found for url: https://www.eversports.de/s/dragon-pole-dance\n",
      "Converting to DataFrame...\n",
      "Validating URLs...\n",
      "\n",
      "Processing completed.\n",
      "-------------------------------- \n",
      "\n",
      "Starting URL reconstruction...\n"
     ]
    },
    {
     "name": "stderr",
     "output_type": "stream",
     "text": [
      "2025-01-25 13:18:27,316 - INFO - Processing URL 1/2: https://www.eversports.de/s/ecstatic-poledance\n"
     ]
    },
    {
     "name": "stdout",
     "output_type": "stream",
     "text": [
      "Converting to DataFrame...\n",
      "Validating URLs...\n"
     ]
    },
    {
     "name": "stderr",
     "output_type": "stream",
     "text": [
      "2025-01-25 13:18:27,588 - INFO - URL https://www.eversports.de/s/ecstatic-poledance is valid.\n",
      "2025-01-25 13:18:27,590 - INFO - Processing URL 2/2: https://www.eversports.de/sw/ecstatic-poledance\n",
      "2025-01-25 13:18:27,726 - INFO - URL https://www.eversports.de/sw/ecstatic-poledance is not valid.\n"
     ]
    },
    {
     "name": "stdout",
     "output_type": "stream",
     "text": [
      "Scraping Pole Studio Data from https://www.eversports.de/s/ecstatic-poledance...\n"
     ]
    },
    {
     "name": "stderr",
     "output_type": "stream",
     "text": [
      "Processing URLs:  19%|█▉        | 44/227 [01:30<03:38,  1.19s/it]"
     ]
    },
    {
     "name": "stdout",
     "output_type": "stream",
     "text": [
      "\n",
      "Processing completed.\n",
      "-------------------------------- \n",
      "\n",
      "2025-01-25 13:18:28 - INFO - Scraping Data from: https://www.eversports.de/s/ecstatic-poledance\n",
      "Pole Studio Data: 1 entries\n",
      "Starting URL reconstruction...\n"
     ]
    },
    {
     "name": "stderr",
     "output_type": "stream",
     "text": [
      "2025-01-25 13:18:28,577 - INFO - Processing URL 1/1: https://www.eversports.de/s/elements-and-polebuddies\n"
     ]
    },
    {
     "name": "stdout",
     "output_type": "stream",
     "text": [
      "Converting to DataFrame...\n",
      "Validating URLs...\n"
     ]
    },
    {
     "name": "stderr",
     "output_type": "stream",
     "text": [
      "2025-01-25 13:18:28,914 - INFO - URL https://www.eversports.de/s/elements-and-polebuddies is valid.\n"
     ]
    },
    {
     "name": "stdout",
     "output_type": "stream",
     "text": [
      "Scraping Pole Studio Data from https://www.eversports.de/s/elements-and-polebuddies...\n"
     ]
    },
    {
     "name": "stderr",
     "output_type": "stream",
     "text": [
      "Processing URLs:  20%|█▉        | 45/227 [01:31<03:53,  1.28s/it]"
     ]
    },
    {
     "name": "stdout",
     "output_type": "stream",
     "text": [
      "\n",
      "Processing completed.\n",
      "-------------------------------- \n",
      "\n",
      "2025-01-25 13:18:29 - INFO - Scraping Data from: https://www.eversports.de/s/elements-and-polebuddies\n",
      "Pole Studio Data: 1 entries\n",
      "Starting URL reconstruction...\n"
     ]
    },
    {
     "name": "stderr",
     "output_type": "stream",
     "text": [
      "2025-01-25 13:18:29,989 - INFO - Processing URL 1/1: https://www.eversports.de/s/feel-good-factory-pole-stretch-fly\n"
     ]
    },
    {
     "name": "stdout",
     "output_type": "stream",
     "text": [
      "Converting to DataFrame...\n",
      "Validating URLs...\n"
     ]
    },
    {
     "name": "stderr",
     "output_type": "stream",
     "text": [
      "2025-01-25 13:18:30,299 - INFO - URL https://www.eversports.de/s/feel-good-factory-pole-stretch-fly is valid.\n"
     ]
    },
    {
     "name": "stdout",
     "output_type": "stream",
     "text": [
      "Scraping Pole Studio Data from https://www.eversports.de/s/feel-good-factory-pole-stretch-fly...\n"
     ]
    },
    {
     "name": "stderr",
     "output_type": "stream",
     "text": [
      "Processing URLs:  20%|██        | 46/227 [01:33<03:50,  1.28s/it]"
     ]
    },
    {
     "name": "stdout",
     "output_type": "stream",
     "text": [
      "\n",
      "Processing completed.\n",
      "-------------------------------- \n",
      "\n",
      "2025-01-25 13:18:30 - INFO - Scraping Data from: https://www.eversports.de/s/feel-good-factory-pole-stretch-fly\n",
      "Pole Studio Data: 1 entries\n",
      "Starting URL reconstruction...\n"
     ]
    },
    {
     "name": "stderr",
     "output_type": "stream",
     "text": [
      "2025-01-25 13:18:31,139 - INFO - Processing URL 1/1: https://www.eversports.de/s/polefriends-magdeburg\n"
     ]
    },
    {
     "name": "stdout",
     "output_type": "stream",
     "text": [
      "Converting to DataFrame...\n",
      "Validating URLs...\n"
     ]
    },
    {
     "name": "stderr",
     "output_type": "stream",
     "text": [
      "2025-01-25 13:18:31,473 - INFO - URL https://www.eversports.de/s/polefriends-magdeburg is valid.\n"
     ]
    },
    {
     "name": "stdout",
     "output_type": "stream",
     "text": [
      "Scraping Pole Studio Data from https://www.eversports.de/s/polefriends-magdeburg...\n"
     ]
    },
    {
     "name": "stderr",
     "output_type": "stream",
     "text": [
      "Processing URLs:  21%|██        | 47/227 [01:34<03:29,  1.17s/it]"
     ]
    },
    {
     "name": "stdout",
     "output_type": "stream",
     "text": [
      "\n",
      "Processing completed.\n",
      "-------------------------------- \n",
      "\n",
      "2025-01-25 13:18:31 - INFO - Scraping Data from: https://www.eversports.de/s/polefriends-magdeburg\n",
      "Pole Studio Data: 1 entries\n",
      "Starting URL reconstruction...\n"
     ]
    },
    {
     "name": "stderr",
     "output_type": "stream",
     "text": [
      "2025-01-25 13:18:32,135 - INFO - Processing URL 1/1: https://www.eversports.de/s/firstsports-polefitness\n"
     ]
    },
    {
     "name": "stdout",
     "output_type": "stream",
     "text": [
      "Converting to DataFrame...\n",
      "Validating URLs...\n"
     ]
    },
    {
     "name": "stderr",
     "output_type": "stream",
     "text": [
      "2025-01-25 13:18:32,534 - INFO - URL https://www.eversports.de/s/firstsports-polefitness is valid.\n"
     ]
    },
    {
     "name": "stdout",
     "output_type": "stream",
     "text": [
      "Scraping Pole Studio Data from https://www.eversports.de/s/firstsports-polefitness...\n"
     ]
    },
    {
     "name": "stderr",
     "output_type": "stream",
     "text": [
      "Processing URLs:  22%|██▏       | 49/227 [01:35<02:31,  1.17it/s]"
     ]
    },
    {
     "name": "stdout",
     "output_type": "stream",
     "text": [
      "\n",
      "Processing completed.\n",
      "-------------------------------- \n",
      "\n",
      "2025-01-25 13:18:32 - INFO - Scraping Data from: https://www.eversports.de/s/firstsports-polefitness\n",
      "Pole Studio Data: 1 entries\n",
      "Starting URL reconstruction...\n",
      "Error during HTTP request: 404 Client Error: Not Found for url: https://www.eversports.de/s/flexx-arts-aerial-dance-and-fitness\n",
      "Converting to DataFrame...\n",
      "Validating URLs...\n",
      "\n",
      "Processing completed.\n",
      "-------------------------------- \n",
      "\n",
      "Starting URL reconstruction...\n"
     ]
    },
    {
     "name": "stderr",
     "output_type": "stream",
     "text": [
      "2025-01-25 13:18:33,900 - INFO - Processing URL 1/1: https://www.eversports.de/s/flow-academy\n"
     ]
    },
    {
     "name": "stdout",
     "output_type": "stream",
     "text": [
      "Converting to DataFrame...\n",
      "Validating URLs...\n"
     ]
    },
    {
     "name": "stderr",
     "output_type": "stream",
     "text": [
      "2025-01-25 13:18:34,845 - INFO - URL https://www.eversports.de/s/flow-academy is valid.\n"
     ]
    },
    {
     "name": "stdout",
     "output_type": "stream",
     "text": [
      "Scraping Pole Studio Data from https://www.eversports.de/s/flow-academy...\n"
     ]
    },
    {
     "name": "stderr",
     "output_type": "stream",
     "text": [
      "Processing URLs:  22%|██▏       | 50/227 [01:37<03:53,  1.32s/it]"
     ]
    },
    {
     "name": "stdout",
     "output_type": "stream",
     "text": [
      "\n",
      "Processing completed.\n",
      "-------------------------------- \n",
      "\n",
      "2025-01-25 13:18:35 - INFO - Scraping Data from: https://www.eversports.de/s/flow-academy\n",
      "Pole Studio Data: 1 entries\n",
      "Starting URL reconstruction...\n"
     ]
    },
    {
     "name": "stderr",
     "output_type": "stream",
     "text": [
      "2025-01-25 13:18:35,809 - INFO - Processing URL 1/2: https://www.eversports.de/s/flow-fusion-pole-aerial-dance-studio\n"
     ]
    },
    {
     "name": "stdout",
     "output_type": "stream",
     "text": [
      "Converting to DataFrame...\n",
      "Validating URLs...\n"
     ]
    },
    {
     "name": "stderr",
     "output_type": "stream",
     "text": [
      "2025-01-25 13:18:36,186 - INFO - URL https://www.eversports.de/s/flow-fusion-pole-aerial-dance-studio is valid.\n",
      "2025-01-25 13:18:36,187 - INFO - Processing URL 2/2: https://www.eversports.de/sw/flow-fusion-pole-aerial-dance-studio\n",
      "2025-01-25 13:18:36,365 - INFO - URL https://www.eversports.de/sw/flow-fusion-pole-aerial-dance-studio is valid.\n"
     ]
    },
    {
     "name": "stdout",
     "output_type": "stream",
     "text": [
      "Scraping Pole Studio Data from https://www.eversports.de/s/flow-fusion-pole-aerial-dance-studio...\n",
      "Scraping Workshops Data from https://www.eversports.de/sw/flow-fusion-pole-aerial-dance-studio...\n",
      "Scraping Workshop Details from https://www.eversports.de/e/workshop/nPIN3vz...\n"
     ]
    },
    {
     "name": "stderr",
     "output_type": "stream",
     "text": [
      "Processing URLs:  22%|██▏       | 51/227 [01:41<06:04,  2.07s/it]"
     ]
    },
    {
     "name": "stdout",
     "output_type": "stream",
     "text": [
      "\n",
      "Processing completed.\n",
      "-------------------------------- \n",
      "\n",
      "2025-01-25 13:18:39 - INFO - Scraping Data from: https://www.eversports.de/s/flow-fusion-pole-aerial-dance-studio\n",
      "Pole Studio Data: 1 entries\n",
      "2025-01-25 13:18:39 - INFO - Scraping Data from: https://www.eversports.de/s/flow-fusion-pole-aerial-dance-studio\n",
      "Workshops Data: 1 entries\n",
      "2025-01-25 13:18:39 - INFO - Scraping Data from: https://www.eversports.de/s/flow-fusion-pole-aerial-dance-studio\n",
      "Workshop Details: 1 entries\n",
      "Starting URL reconstruction...\n"
     ]
    },
    {
     "name": "stderr",
     "output_type": "stream",
     "text": [
      "2025-01-25 13:18:39,759 - INFO - Processing URL 1/2: https://www.eversports.de/s/fly-and-flow-studio\n"
     ]
    },
    {
     "name": "stdout",
     "output_type": "stream",
     "text": [
      "Converting to DataFrame...\n",
      "Validating URLs...\n"
     ]
    },
    {
     "name": "stderr",
     "output_type": "stream",
     "text": [
      "2025-01-25 13:18:40,269 - INFO - URL https://www.eversports.de/s/fly-and-flow-studio is valid.\n",
      "2025-01-25 13:18:40,271 - INFO - Processing URL 2/2: https://www.eversports.de/sw/fly-and-flow-studio\n",
      "2025-01-25 13:18:40,412 - INFO - URL https://www.eversports.de/sw/fly-and-flow-studio is not valid.\n"
     ]
    },
    {
     "name": "stdout",
     "output_type": "stream",
     "text": [
      "Scraping Pole Studio Data from https://www.eversports.de/s/fly-and-flow-studio...\n"
     ]
    },
    {
     "name": "stderr",
     "output_type": "stream",
     "text": [
      "Processing URLs:  23%|██▎       | 52/227 [01:43<05:30,  1.89s/it]"
     ]
    },
    {
     "name": "stdout",
     "output_type": "stream",
     "text": [
      "\n",
      "Processing completed.\n",
      "-------------------------------- \n",
      "\n",
      "2025-01-25 13:18:40 - INFO - Scraping Data from: https://www.eversports.de/s/fly-and-flow-studio\n",
      "Pole Studio Data: 1 entries\n",
      "Starting URL reconstruction...\n"
     ]
    },
    {
     "name": "stderr",
     "output_type": "stream",
     "text": [
      "2025-01-25 13:18:41,419 - INFO - Processing URL 1/2: https://www.eversports.de/s/flyhigh-aerial-fitness\n"
     ]
    },
    {
     "name": "stdout",
     "output_type": "stream",
     "text": [
      "Converting to DataFrame...\n",
      "Validating URLs...\n"
     ]
    },
    {
     "name": "stderr",
     "output_type": "stream",
     "text": [
      "2025-01-25 13:18:41,756 - INFO - URL https://www.eversports.de/s/flyhigh-aerial-fitness is valid.\n",
      "2025-01-25 13:18:41,757 - INFO - Processing URL 2/2: https://www.eversports.de/sw/flyhigh-aerial-fitness\n",
      "2025-01-25 13:18:41,994 - INFO - URL https://www.eversports.de/sw/flyhigh-aerial-fitness is valid.\n"
     ]
    },
    {
     "name": "stdout",
     "output_type": "stream",
     "text": [
      "Scraping Pole Studio Data from https://www.eversports.de/s/flyhigh-aerial-fitness...\n",
      "Scraping Workshops Data from https://www.eversports.de/sw/flyhigh-aerial-fitness...\n",
      "Scraping Workshop Details from https://www.eversports.de/e/workshop/ICI8CnX...\n",
      "Scraping Workshop Details from https://www.eversports.de/e/workshop/A0Urp47...\n",
      "Scraping Workshop Details from https://www.eversports.de/e/workshop/0COMmPB...\n"
     ]
    },
    {
     "name": "stderr",
     "output_type": "stream",
     "text": [
      "Processing URLs:  23%|██▎       | 53/227 [01:46<07:15,  2.50s/it]"
     ]
    },
    {
     "name": "stdout",
     "output_type": "stream",
     "text": [
      "\n",
      "Processing completed.\n",
      "-------------------------------- \n",
      "\n",
      "2025-01-25 13:18:44 - INFO - Scraping Data from: https://www.eversports.de/s/flyhigh-aerial-fitness\n",
      "Pole Studio Data: 1 entries\n",
      "2025-01-25 13:18:44 - INFO - Scraping Data from: https://www.eversports.de/s/flyhigh-aerial-fitness\n",
      "Workshops Data: 3 entries\n",
      "2025-01-25 13:18:44 - INFO - Scraping Data from: https://www.eversports.de/s/flyhigh-aerial-fitness\n",
      "Workshop Details: 3 entries\n",
      "Starting URL reconstruction...\n"
     ]
    },
    {
     "name": "stderr",
     "output_type": "stream",
     "text": [
      "2025-01-25 13:18:45,052 - INFO - Processing URL 1/1: https://www.eversports.de/s/flying-soul-pole-dance-studio\n"
     ]
    },
    {
     "name": "stdout",
     "output_type": "stream",
     "text": [
      "Converting to DataFrame...\n",
      "Validating URLs...\n"
     ]
    },
    {
     "name": "stderr",
     "output_type": "stream",
     "text": [
      "2025-01-25 13:18:45,376 - INFO - URL https://www.eversports.de/s/flying-soul-pole-dance-studio is valid.\n"
     ]
    },
    {
     "name": "stdout",
     "output_type": "stream",
     "text": [
      "Scraping Pole Studio Data from https://www.eversports.de/s/flying-soul-pole-dance-studio...\n"
     ]
    },
    {
     "name": "stderr",
     "output_type": "stream",
     "text": [
      "Processing URLs:  24%|██▍       | 54/227 [01:48<05:57,  2.07s/it]"
     ]
    },
    {
     "name": "stdout",
     "output_type": "stream",
     "text": [
      "\n",
      "Processing completed.\n",
      "-------------------------------- \n",
      "\n",
      "2025-01-25 13:18:45 - INFO - Scraping Data from: https://www.eversports.de/s/flying-soul-pole-dance-studio\n",
      "Pole Studio Data: 1 entries\n",
      "Starting URL reconstruction...\n"
     ]
    },
    {
     "name": "stderr",
     "output_type": "stream",
     "text": [
      "2025-01-25 13:18:46,217 - INFO - Processing URL 1/1: https://www.eversports.de/s/freaky-fitness\n"
     ]
    },
    {
     "name": "stdout",
     "output_type": "stream",
     "text": [
      "Converting to DataFrame...\n",
      "Validating URLs...\n"
     ]
    },
    {
     "name": "stderr",
     "output_type": "stream",
     "text": [
      "2025-01-25 13:18:46,682 - INFO - URL https://www.eversports.de/s/freaky-fitness is valid.\n"
     ]
    },
    {
     "name": "stdout",
     "output_type": "stream",
     "text": [
      "Scraping Pole Studio Data from https://www.eversports.de/s/freaky-fitness...\n"
     ]
    },
    {
     "name": "stderr",
     "output_type": "stream",
     "text": [
      "Processing URLs:  24%|██▍       | 55/227 [01:49<05:23,  1.88s/it]"
     ]
    },
    {
     "name": "stdout",
     "output_type": "stream",
     "text": [
      "\n",
      "Processing completed.\n",
      "-------------------------------- \n",
      "\n",
      "2025-01-25 13:18:47 - INFO - Scraping Data from: https://www.eversports.de/s/freaky-fitness\n",
      "Pole Studio Data: 1 entries\n",
      "Starting URL reconstruction...\n"
     ]
    },
    {
     "name": "stderr",
     "output_type": "stream",
     "text": [
      "2025-01-25 13:18:47,674 - INFO - Processing URL 1/1: https://www.eversports.de/s/full-moon-studio-ixelles\n"
     ]
    },
    {
     "name": "stdout",
     "output_type": "stream",
     "text": [
      "Converting to DataFrame...\n",
      "Validating URLs...\n"
     ]
    },
    {
     "name": "stderr",
     "output_type": "stream",
     "text": [
      "2025-01-25 13:18:48,104 - INFO - URL https://www.eversports.de/s/full-moon-studio-ixelles is valid.\n"
     ]
    },
    {
     "name": "stdout",
     "output_type": "stream",
     "text": [
      "Scraping Pole Studio Data from https://www.eversports.de/s/full-moon-studio-ixelles...\n"
     ]
    },
    {
     "name": "stderr",
     "output_type": "stream",
     "text": [
      "Processing URLs:  25%|██▍       | 56/227 [01:50<05:00,  1.76s/it]"
     ]
    },
    {
     "name": "stdout",
     "output_type": "stream",
     "text": [
      "\n",
      "Processing completed.\n",
      "-------------------------------- \n",
      "\n",
      "2025-01-25 13:18:48 - INFO - Scraping Data from: https://www.eversports.de/s/full-moon-studio-ixelles\n",
      "Pole Studio Data: 1 entries\n",
      "Starting URL reconstruction...\n"
     ]
    },
    {
     "name": "stderr",
     "output_type": "stream",
     "text": [
      "2025-01-25 13:18:49,124 - INFO - Processing URL 1/1: https://www.eversports.de/s/full-moon-studio-merode-etterbeek\n"
     ]
    },
    {
     "name": "stdout",
     "output_type": "stream",
     "text": [
      "Converting to DataFrame...\n",
      "Validating URLs...\n"
     ]
    },
    {
     "name": "stderr",
     "output_type": "stream",
     "text": [
      "2025-01-25 13:18:49,547 - INFO - URL https://www.eversports.de/s/full-moon-studio-merode-etterbeek is valid.\n"
     ]
    },
    {
     "name": "stdout",
     "output_type": "stream",
     "text": [
      "Scraping Pole Studio Data from https://www.eversports.de/s/full-moon-studio-merode-etterbeek...\n"
     ]
    },
    {
     "name": "stderr",
     "output_type": "stream",
     "text": [
      "Processing URLs:  25%|██▌       | 57/227 [01:52<04:36,  1.63s/it]"
     ]
    },
    {
     "name": "stdout",
     "output_type": "stream",
     "text": [
      "\n",
      "Processing completed.\n",
      "-------------------------------- \n",
      "\n",
      "2025-01-25 13:18:49 - INFO - Scraping Data from: https://www.eversports.de/s/full-moon-studio-merode-etterbeek\n",
      "Pole Studio Data: 1 entries\n",
      "Starting URL reconstruction...\n"
     ]
    },
    {
     "name": "stderr",
     "output_type": "stream",
     "text": [
      "2025-01-25 13:18:50,655 - INFO - Processing URL 1/1: https://www.eversports.de/s/full-moon-studio-thieffry-etterbeek\n"
     ]
    },
    {
     "name": "stdout",
     "output_type": "stream",
     "text": [
      "Converting to DataFrame...\n",
      "Validating URLs...\n"
     ]
    },
    {
     "name": "stderr",
     "output_type": "stream",
     "text": [
      "2025-01-25 13:18:51,046 - INFO - URL https://www.eversports.de/s/full-moon-studio-thieffry-etterbeek is valid.\n"
     ]
    },
    {
     "name": "stdout",
     "output_type": "stream",
     "text": [
      "Scraping Pole Studio Data from https://www.eversports.de/s/full-moon-studio-thieffry-etterbeek...\n"
     ]
    },
    {
     "name": "stderr",
     "output_type": "stream",
     "text": [
      "Processing URLs:  26%|██▌       | 58/227 [01:53<04:37,  1.64s/it]"
     ]
    },
    {
     "name": "stdout",
     "output_type": "stream",
     "text": [
      "\n",
      "Processing completed.\n",
      "-------------------------------- \n",
      "\n",
      "2025-01-25 13:18:51 - INFO - Scraping Data from: https://www.eversports.de/s/full-moon-studio-thieffry-etterbeek\n",
      "Pole Studio Data: 1 entries\n",
      "Starting URL reconstruction...\n"
     ]
    },
    {
     "name": "stderr",
     "output_type": "stream",
     "text": [
      "2025-01-25 13:18:52,106 - INFO - Processing URL 1/1: https://www.eversports.de/s/glow-sports-club\n"
     ]
    },
    {
     "name": "stdout",
     "output_type": "stream",
     "text": [
      "Converting to DataFrame...\n",
      "Validating URLs...\n"
     ]
    },
    {
     "name": "stderr",
     "output_type": "stream",
     "text": [
      "2025-01-25 13:18:52,551 - INFO - URL https://www.eversports.de/s/glow-sports-club is valid.\n"
     ]
    },
    {
     "name": "stdout",
     "output_type": "stream",
     "text": [
      "Scraping Pole Studio Data from https://www.eversports.de/s/glow-sports-club...\n"
     ]
    },
    {
     "name": "stderr",
     "output_type": "stream",
     "text": [
      "Processing URLs:  26%|██▌       | 59/227 [01:55<04:34,  1.64s/it]"
     ]
    },
    {
     "name": "stdout",
     "output_type": "stream",
     "text": [
      "\n",
      "Processing completed.\n",
      "-------------------------------- \n",
      "\n",
      "2025-01-25 13:18:53 - INFO - Scraping Data from: https://www.eversports.de/s/glow-sports-club\n",
      "Pole Studio Data: 1 entries\n",
      "Starting URL reconstruction...\n"
     ]
    },
    {
     "name": "stderr",
     "output_type": "stream",
     "text": [
      "2025-01-25 13:18:53,672 - INFO - Processing URL 1/1: https://www.eversports.de/s/health-and-shape-muenchen\n"
     ]
    },
    {
     "name": "stdout",
     "output_type": "stream",
     "text": [
      "Converting to DataFrame...\n",
      "Validating URLs...\n"
     ]
    },
    {
     "name": "stderr",
     "output_type": "stream",
     "text": [
      "2025-01-25 13:18:54,160 - INFO - URL https://www.eversports.de/s/health-and-shape-muenchen is valid.\n"
     ]
    },
    {
     "name": "stdout",
     "output_type": "stream",
     "text": [
      "Scraping Pole Studio Data from https://www.eversports.de/s/health-and-shape-muenchen...\n"
     ]
    },
    {
     "name": "stderr",
     "output_type": "stream",
     "text": [
      "Processing URLs:  26%|██▋       | 60/227 [01:57<04:24,  1.59s/it]"
     ]
    },
    {
     "name": "stdout",
     "output_type": "stream",
     "text": [
      "\n",
      "Processing completed.\n",
      "-------------------------------- \n",
      "\n",
      "2025-01-25 13:18:54 - INFO - Scraping Data from: https://www.eversports.de/s/health-and-shape-muenchen\n",
      "Pole Studio Data: 1 entries\n",
      "Starting URL reconstruction...\n"
     ]
    },
    {
     "name": "stderr",
     "output_type": "stream",
     "text": [
      "2025-01-25 13:18:55,198 - INFO - Processing URL 1/2: https://www.eversports.de/s/ima-intentional-movement-academy\n"
     ]
    },
    {
     "name": "stdout",
     "output_type": "stream",
     "text": [
      "Converting to DataFrame...\n",
      "Validating URLs...\n"
     ]
    },
    {
     "name": "stderr",
     "output_type": "stream",
     "text": [
      "2025-01-25 13:18:55,776 - INFO - URL https://www.eversports.de/s/ima-intentional-movement-academy is valid.\n",
      "2025-01-25 13:18:55,777 - INFO - Processing URL 2/2: https://www.eversports.de/sw/ima-intentional-movement-academy\n",
      "2025-01-25 13:18:55,972 - INFO - URL https://www.eversports.de/sw/ima-intentional-movement-academy is valid.\n"
     ]
    },
    {
     "name": "stdout",
     "output_type": "stream",
     "text": [
      "Scraping Pole Studio Data from https://www.eversports.de/s/ima-intentional-movement-academy...\n",
      "Scraping Workshops Data from https://www.eversports.de/sw/ima-intentional-movement-academy...\n",
      "Scraping Workshop Details from https://www.eversports.de/e/workshop/LRV7ITw...\n"
     ]
    },
    {
     "name": "stderr",
     "output_type": "stream",
     "text": [
      "Processing URLs:  27%|██▋       | 61/227 [01:59<04:51,  1.76s/it]"
     ]
    },
    {
     "name": "stdout",
     "output_type": "stream",
     "text": [
      "\n",
      "Processing completed.\n",
      "-------------------------------- \n",
      "\n",
      "2025-01-25 13:18:56 - INFO - Scraping Data from: https://www.eversports.de/s/ima-intentional-movement-academy\n",
      "Pole Studio Data: 1 entries\n",
      "2025-01-25 13:18:56 - INFO - Scraping Data from: https://www.eversports.de/s/ima-intentional-movement-academy\n",
      "Workshops Data: 1 entries\n",
      "2025-01-25 13:18:56 - INFO - Scraping Data from: https://www.eversports.de/s/ima-intentional-movement-academy\n",
      "Workshop Details: 1 entries\n",
      "Starting URL reconstruction...\n"
     ]
    },
    {
     "name": "stderr",
     "output_type": "stream",
     "text": [
      "2025-01-25 13:18:57,197 - INFO - Processing URL 1/1: https://www.eversports.de/s/indeed-unique-studio-wien\n"
     ]
    },
    {
     "name": "stdout",
     "output_type": "stream",
     "text": [
      "Converting to DataFrame...\n",
      "Validating URLs...\n"
     ]
    },
    {
     "name": "stderr",
     "output_type": "stream",
     "text": [
      "2025-01-25 13:18:57,496 - INFO - URL https://www.eversports.de/s/indeed-unique-studio-wien is valid.\n"
     ]
    },
    {
     "name": "stdout",
     "output_type": "stream",
     "text": [
      "Scraping Pole Studio Data from https://www.eversports.de/s/indeed-unique-studio-wien...\n"
     ]
    },
    {
     "name": "stderr",
     "output_type": "stream",
     "text": [
      "Processing URLs:  27%|██▋       | 62/227 [02:00<04:08,  1.50s/it]"
     ]
    },
    {
     "name": "stdout",
     "output_type": "stream",
     "text": [
      "\n",
      "Processing completed.\n",
      "-------------------------------- \n",
      "\n",
      "2025-01-25 13:18:57 - INFO - Scraping Data from: https://www.eversports.de/s/indeed-unique-studio-wien\n",
      "Pole Studio Data: 1 entries\n",
      "Starting URL reconstruction...\n"
     ]
    },
    {
     "name": "stderr",
     "output_type": "stream",
     "text": [
      "2025-01-25 13:18:58,101 - INFO - Processing URL 1/1: https://www.eversports.de/s/indeed-unique-studio-wien\n"
     ]
    },
    {
     "name": "stdout",
     "output_type": "stream",
     "text": [
      "Converting to DataFrame...\n",
      "Validating URLs...\n"
     ]
    },
    {
     "name": "stderr",
     "output_type": "stream",
     "text": [
      "2025-01-25 13:18:58,429 - INFO - URL https://www.eversports.de/s/indeed-unique-studio-wien is valid.\n"
     ]
    },
    {
     "name": "stdout",
     "output_type": "stream",
     "text": [
      "Scraping Pole Studio Data from https://www.eversports.de/s/indeed-unique-studio-wien...\n"
     ]
    },
    {
     "name": "stderr",
     "output_type": "stream",
     "text": [
      "Processing URLs:  28%|██▊       | 64/227 [02:01<02:44,  1.01s/it]"
     ]
    },
    {
     "name": "stdout",
     "output_type": "stream",
     "text": [
      "\n",
      "Processing completed.\n",
      "-------------------------------- \n",
      "\n",
      "2025-01-25 13:18:58 - INFO - Scraping Data from: https://www.eversports.de/s/indeed-unique-studio-wien\n",
      "Pole Studio Data: 1 entries\n",
      "Starting URL reconstruction...\n",
      "Error during HTTP request: 404 Client Error: Not Found for url: https://www.eversports.de/s/inflow-or-poledance-fitness-and-yoga\n",
      "Converting to DataFrame...\n",
      "Validating URLs...\n",
      "\n",
      "Processing completed.\n",
      "-------------------------------- \n",
      "\n"
     ]
    },
    {
     "name": "stderr",
     "output_type": "stream",
     "text": [
      "Processing URLs:  29%|██▊       | 65/227 [02:01<02:01,  1.33it/s]"
     ]
    },
    {
     "name": "stdout",
     "output_type": "stream",
     "text": [
      "Starting URL reconstruction...\n",
      "Error during HTTP request: 404 Client Error: Not Found for url: https://www.eversports.de/s/infinity-polesports\n",
      "Converting to DataFrame...\n",
      "Validating URLs...\n",
      "\n",
      "Processing completed.\n",
      "-------------------------------- \n",
      "\n",
      "Starting URL reconstruction...\n"
     ]
    },
    {
     "name": "stderr",
     "output_type": "stream",
     "text": [
      "2025-01-25 13:18:59,499 - INFO - Processing URL 1/1: https://www.eversports.de/s/infinity-polesports-eggenfelden\n"
     ]
    },
    {
     "name": "stdout",
     "output_type": "stream",
     "text": [
      "Converting to DataFrame...\n",
      "Validating URLs...\n"
     ]
    },
    {
     "name": "stderr",
     "output_type": "stream",
     "text": [
      "2025-01-25 13:18:59,843 - INFO - URL https://www.eversports.de/s/infinity-polesports-eggenfelden is valid.\n"
     ]
    },
    {
     "name": "stdout",
     "output_type": "stream",
     "text": [
      "Scraping Pole Studio Data from https://www.eversports.de/s/infinity-polesports-eggenfelden...\n"
     ]
    },
    {
     "name": "stderr",
     "output_type": "stream",
     "text": [
      "Processing URLs:  29%|██▉       | 66/227 [02:02<02:22,  1.13it/s]"
     ]
    },
    {
     "name": "stdout",
     "output_type": "stream",
     "text": [
      "\n",
      "Processing completed.\n",
      "-------------------------------- \n",
      "\n",
      "2025-01-25 13:19:00 - INFO - Scraping Data from: https://www.eversports.de/s/infinity-polesports-eggenfelden\n",
      "Pole Studio Data: 1 entries\n",
      "Starting URL reconstruction...\n"
     ]
    },
    {
     "name": "stderr",
     "output_type": "stream",
     "text": [
      "2025-01-25 13:19:00,784 - INFO - Processing URL 1/2: https://www.eversports.de/s/infinityarts\n"
     ]
    },
    {
     "name": "stdout",
     "output_type": "stream",
     "text": [
      "Converting to DataFrame...\n",
      "Validating URLs...\n"
     ]
    },
    {
     "name": "stderr",
     "output_type": "stream",
     "text": [
      "2025-01-25 13:19:01,036 - INFO - URL https://www.eversports.de/s/infinityarts is valid.\n",
      "2025-01-25 13:19:01,037 - INFO - Processing URL 2/2: https://www.eversports.de/sw/infinityarts\n",
      "2025-01-25 13:19:01,212 - INFO - URL https://www.eversports.de/sw/infinityarts is valid.\n"
     ]
    },
    {
     "name": "stdout",
     "output_type": "stream",
     "text": [
      "Scraping Pole Studio Data from https://www.eversports.de/s/infinityarts...\n",
      "Scraping Workshops Data from https://www.eversports.de/sw/infinityarts...\n",
      "Scraping Workshop Details from https://www.eversports.de/e/workshop/6xqarn5...\n"
     ]
    },
    {
     "name": "stderr",
     "output_type": "stream",
     "text": [
      "Processing URLs:  30%|██▉       | 67/227 [02:04<03:04,  1.15s/it]"
     ]
    },
    {
     "name": "stdout",
     "output_type": "stream",
     "text": [
      "\n",
      "Processing completed.\n",
      "-------------------------------- \n",
      "\n",
      "2025-01-25 13:19:02 - INFO - Scraping Data from: https://www.eversports.de/s/infinityarts\n",
      "Pole Studio Data: 1 entries\n",
      "2025-01-25 13:19:02 - INFO - Scraping Data from: https://www.eversports.de/s/infinityarts\n",
      "Workshops Data: 1 entries\n",
      "2025-01-25 13:19:02 - INFO - Scraping Data from: https://www.eversports.de/s/infinityarts\n",
      "Workshop Details: 1 entries\n",
      "Starting URL reconstruction...\n"
     ]
    },
    {
     "name": "stderr",
     "output_type": "stream",
     "text": [
      "2025-01-25 13:19:02,819 - INFO - Processing URL 1/1: https://www.eversports.de/s/iron-forest-studio-1\n"
     ]
    },
    {
     "name": "stdout",
     "output_type": "stream",
     "text": [
      "Converting to DataFrame...\n",
      "Validating URLs...\n"
     ]
    },
    {
     "name": "stderr",
     "output_type": "stream",
     "text": [
      "2025-01-25 13:19:03,185 - INFO - URL https://www.eversports.de/s/iron-forest-studio-1 is valid.\n"
     ]
    },
    {
     "name": "stdout",
     "output_type": "stream",
     "text": [
      "Scraping Pole Studio Data from https://www.eversports.de/s/iron-forest-studio-1...\n"
     ]
    },
    {
     "name": "stderr",
     "output_type": "stream",
     "text": [
      "Processing URLs:  30%|██▉       | 68/227 [02:05<03:14,  1.23s/it]"
     ]
    },
    {
     "name": "stdout",
     "output_type": "stream",
     "text": [
      "\n",
      "Processing completed.\n",
      "-------------------------------- \n",
      "\n",
      "2025-01-25 13:19:03 - INFO - Scraping Data from: https://www.eversports.de/s/iron-forest-studio-1\n",
      "Pole Studio Data: 1 entries\n",
      "Starting URL reconstruction...\n"
     ]
    },
    {
     "name": "stderr",
     "output_type": "stream",
     "text": [
      "Processing URLs:  30%|███       | 69/227 [02:06<02:31,  1.04it/s]"
     ]
    },
    {
     "name": "stdout",
     "output_type": "stream",
     "text": [
      "Error during HTTP request: 404 Client Error: Not Found for url: https://www.eversports.de/s/janardana-yoga\n",
      "Converting to DataFrame...\n",
      "Validating URLs...\n",
      "\n",
      "Processing completed.\n",
      "-------------------------------- \n",
      "\n",
      "Starting URL reconstruction...\n"
     ]
    },
    {
     "name": "stderr",
     "output_type": "stream",
     "text": [
      "2025-01-25 13:19:04,315 - INFO - Processing URL 1/1: https://www.eversports.de/s/janine-hollung\n"
     ]
    },
    {
     "name": "stdout",
     "output_type": "stream",
     "text": [
      "Converting to DataFrame...\n",
      "Validating URLs...\n"
     ]
    },
    {
     "name": "stderr",
     "output_type": "stream",
     "text": [
      "2025-01-25 13:19:04,658 - INFO - URL https://www.eversports.de/s/janine-hollung is valid.\n"
     ]
    },
    {
     "name": "stdout",
     "output_type": "stream",
     "text": [
      "Scraping Pole Studio Data from https://www.eversports.de/s/janine-hollung...\n"
     ]
    },
    {
     "name": "stderr",
     "output_type": "stream",
     "text": [
      "Processing URLs:  31%|███       | 70/227 [02:07<02:39,  1.02s/it]"
     ]
    },
    {
     "name": "stdout",
     "output_type": "stream",
     "text": [
      "\n",
      "Processing completed.\n",
      "-------------------------------- \n",
      "\n",
      "2025-01-25 13:19:05 - INFO - Scraping Data from: https://www.eversports.de/s/janine-hollung\n",
      "Pole Studio Data: 1 entries\n",
      "Starting URL reconstruction...\n"
     ]
    },
    {
     "name": "stderr",
     "output_type": "stream",
     "text": [
      "2025-01-25 13:19:05,431 - INFO - Processing URL 1/1: https://www.eversports.de/s/koerperformfabrik-gbr\n"
     ]
    },
    {
     "name": "stdout",
     "output_type": "stream",
     "text": [
      "Converting to DataFrame...\n",
      "Validating URLs...\n"
     ]
    },
    {
     "name": "stderr",
     "output_type": "stream",
     "text": [
      "2025-01-25 13:19:05,741 - INFO - URL https://www.eversports.de/s/koerperformfabrik-gbr is valid.\n"
     ]
    },
    {
     "name": "stdout",
     "output_type": "stream",
     "text": [
      "Scraping Pole Studio Data from https://www.eversports.de/s/koerperformfabrik-gbr...\n"
     ]
    },
    {
     "name": "stderr",
     "output_type": "stream",
     "text": [
      "Processing URLs:  31%|███▏      | 71/227 [02:08<02:46,  1.06s/it]"
     ]
    },
    {
     "name": "stdout",
     "output_type": "stream",
     "text": [
      "\n",
      "Processing completed.\n",
      "-------------------------------- \n",
      "\n",
      "2025-01-25 13:19:06 - INFO - Scraping Data from: https://www.eversports.de/s/koerperformfabrik-gbr\n",
      "Pole Studio Data: 1 entries\n",
      "Starting URL reconstruction...\n"
     ]
    },
    {
     "name": "stderr",
     "output_type": "stream",
     "text": [
      "2025-01-25 13:19:06,651 - INFO - Processing URL 1/1: https://www.eversports.de/s/loft1-basel-city\n"
     ]
    },
    {
     "name": "stdout",
     "output_type": "stream",
     "text": [
      "Converting to DataFrame...\n",
      "Validating URLs...\n"
     ]
    },
    {
     "name": "stderr",
     "output_type": "stream",
     "text": [
      "2025-01-25 13:19:07,347 - INFO - URL https://www.eversports.de/s/loft1-basel-city is valid.\n"
     ]
    },
    {
     "name": "stdout",
     "output_type": "stream",
     "text": [
      "Scraping Pole Studio Data from https://www.eversports.de/s/loft1-basel-city...\n"
     ]
    },
    {
     "name": "stderr",
     "output_type": "stream",
     "text": [
      "Processing URLs:  32%|███▏      | 72/227 [02:10<03:25,  1.33s/it]"
     ]
    },
    {
     "name": "stdout",
     "output_type": "stream",
     "text": [
      "\n",
      "Processing completed.\n",
      "-------------------------------- \n",
      "\n",
      "2025-01-25 13:19:08 - INFO - Scraping Data from: https://www.eversports.de/s/loft1-basel-city\n",
      "Pole Studio Data: 1 entries\n",
      "Starting URL reconstruction...\n"
     ]
    },
    {
     "name": "stderr",
     "output_type": "stream",
     "text": [
      "2025-01-25 13:19:09,253 - INFO - Processing URL 1/1: https://www.eversports.de/s/loft1-basel-city\n"
     ]
    },
    {
     "name": "stdout",
     "output_type": "stream",
     "text": [
      "Converting to DataFrame...\n",
      "Validating URLs...\n"
     ]
    },
    {
     "name": "stderr",
     "output_type": "stream",
     "text": [
      "2025-01-25 13:19:10,007 - INFO - URL https://www.eversports.de/s/loft1-basel-city is valid.\n"
     ]
    },
    {
     "name": "stdout",
     "output_type": "stream",
     "text": [
      "Scraping Pole Studio Data from https://www.eversports.de/s/loft1-basel-city...\n"
     ]
    },
    {
     "name": "stderr",
     "output_type": "stream",
     "text": [
      "Processing URLs:  32%|███▏      | 73/227 [02:12<04:20,  1.69s/it]"
     ]
    },
    {
     "name": "stdout",
     "output_type": "stream",
     "text": [
      "\n",
      "Processing completed.\n",
      "-------------------------------- \n",
      "\n",
      "2025-01-25 13:19:10 - INFO - Scraping Data from: https://www.eversports.de/s/loft1-basel-city\n",
      "Pole Studio Data: 1 entries\n",
      "Starting URL reconstruction...\n"
     ]
    },
    {
     "name": "stderr",
     "output_type": "stream",
     "text": [
      "2025-01-25 13:19:11,387 - INFO - Processing URL 1/1: https://www.eversports.de/s/loft1-zurich-hardbrucke\n"
     ]
    },
    {
     "name": "stdout",
     "output_type": "stream",
     "text": [
      "Converting to DataFrame...\n",
      "Validating URLs...\n"
     ]
    },
    {
     "name": "stderr",
     "output_type": "stream",
     "text": [
      "2025-01-25 13:19:11,988 - INFO - URL https://www.eversports.de/s/loft1-zurich-hardbrucke is valid.\n"
     ]
    },
    {
     "name": "stdout",
     "output_type": "stream",
     "text": [
      "Scraping Pole Studio Data from https://www.eversports.de/s/loft1-zurich-hardbrucke...\n"
     ]
    },
    {
     "name": "stderr",
     "output_type": "stream",
     "text": [
      "Processing URLs:  33%|███▎      | 74/227 [02:15<04:43,  1.85s/it]"
     ]
    },
    {
     "name": "stdout",
     "output_type": "stream",
     "text": [
      "\n",
      "Processing completed.\n",
      "-------------------------------- \n",
      "\n",
      "2025-01-25 13:19:12 - INFO - Scraping Data from: https://www.eversports.de/s/loft1-zurich-hardbrucke\n",
      "Pole Studio Data: 1 entries\n",
      "Starting URL reconstruction...\n"
     ]
    },
    {
     "name": "stderr",
     "output_type": "stream",
     "text": [
      "Processing URLs:  33%|███▎      | 75/227 [02:16<04:05,  1.62s/it]"
     ]
    },
    {
     "name": "stdout",
     "output_type": "stream",
     "text": [
      "Error during HTTP request: 404 Client Error: Not Found for url: https://www.eversports.de/s/loft1-zurich-seefeld\n",
      "Converting to DataFrame...\n",
      "Validating URLs...\n",
      "\n",
      "Processing completed.\n",
      "-------------------------------- \n",
      "\n",
      "Starting URL reconstruction...\n"
     ]
    },
    {
     "name": "stderr",
     "output_type": "stream",
     "text": [
      "2025-01-25 13:19:14,508 - INFO - Processing URL 1/1: https://www.eversports.de/s/la-belle\n"
     ]
    },
    {
     "name": "stdout",
     "output_type": "stream",
     "text": [
      "Converting to DataFrame...\n",
      "Validating URLs...\n"
     ]
    },
    {
     "name": "stderr",
     "output_type": "stream",
     "text": [
      "2025-01-25 13:19:14,843 - INFO - URL https://www.eversports.de/s/la-belle is valid.\n"
     ]
    },
    {
     "name": "stdout",
     "output_type": "stream",
     "text": [
      "Scraping Pole Studio Data from https://www.eversports.de/s/la-belle...\n"
     ]
    },
    {
     "name": "stderr",
     "output_type": "stream",
     "text": [
      "Processing URLs:  33%|███▎      | 76/227 [02:17<03:45,  1.49s/it]"
     ]
    },
    {
     "name": "stdout",
     "output_type": "stream",
     "text": [
      "\n",
      "Processing completed.\n",
      "-------------------------------- \n",
      "\n",
      "2025-01-25 13:19:15 - INFO - Scraping Data from: https://www.eversports.de/s/la-belle\n",
      "Pole Studio Data: 1 entries\n",
      "Starting URL reconstruction...\n"
     ]
    },
    {
     "name": "stderr",
     "output_type": "stream",
     "text": [
      "2025-01-25 13:19:15,663 - INFO - Processing URL 1/1: https://www.eversports.de/s/le-jade-studio\n"
     ]
    },
    {
     "name": "stdout",
     "output_type": "stream",
     "text": [
      "Converting to DataFrame...\n",
      "Validating URLs...\n"
     ]
    },
    {
     "name": "stderr",
     "output_type": "stream",
     "text": [
      "2025-01-25 13:19:16,162 - INFO - URL https://www.eversports.de/s/le-jade-studio is valid.\n"
     ]
    },
    {
     "name": "stdout",
     "output_type": "stream",
     "text": [
      "Scraping Pole Studio Data from https://www.eversports.de/s/le-jade-studio...\n"
     ]
    },
    {
     "name": "stderr",
     "output_type": "stream",
     "text": [
      "Processing URLs:  34%|███▍      | 77/227 [02:19<03:56,  1.58s/it]"
     ]
    },
    {
     "name": "stdout",
     "output_type": "stream",
     "text": [
      "\n",
      "Processing completed.\n",
      "-------------------------------- \n",
      "\n",
      "2025-01-25 13:19:16 - INFO - Scraping Data from: https://www.eversports.de/s/le-jade-studio\n",
      "Pole Studio Data: 1 entries\n",
      "Starting URL reconstruction...\n"
     ]
    },
    {
     "name": "stderr",
     "output_type": "stream",
     "text": [
      "2025-01-25 13:19:17,670 - INFO - Processing URL 1/1: https://www.eversports.de/s/lespole\n"
     ]
    },
    {
     "name": "stdout",
     "output_type": "stream",
     "text": [
      "Converting to DataFrame...\n",
      "Validating URLs...\n"
     ]
    },
    {
     "name": "stderr",
     "output_type": "stream",
     "text": [
      "2025-01-25 13:19:17,961 - INFO - URL https://www.eversports.de/s/lespole is valid.\n"
     ]
    },
    {
     "name": "stdout",
     "output_type": "stream",
     "text": [
      "Scraping Pole Studio Data from https://www.eversports.de/s/lespole...\n"
     ]
    },
    {
     "name": "stderr",
     "output_type": "stream",
     "text": [
      "Processing URLs:  34%|███▍      | 78/227 [02:20<03:50,  1.55s/it]"
     ]
    },
    {
     "name": "stdout",
     "output_type": "stream",
     "text": [
      "\n",
      "Processing completed.\n",
      "-------------------------------- \n",
      "\n",
      "2025-01-25 13:19:18 - INFO - Scraping Data from: https://www.eversports.de/s/lespole\n",
      "Pole Studio Data: 1 entries\n",
      "Starting URL reconstruction...\n"
     ]
    },
    {
     "name": "stderr",
     "output_type": "stream",
     "text": [
      "2025-01-25 13:19:18,915 - INFO - Processing URL 1/1: https://www.eversports.de/s/luftbonbon\n"
     ]
    },
    {
     "name": "stdout",
     "output_type": "stream",
     "text": [
      "Converting to DataFrame...\n",
      "Validating URLs...\n"
     ]
    },
    {
     "name": "stderr",
     "output_type": "stream",
     "text": [
      "2025-01-25 13:19:19,200 - INFO - URL https://www.eversports.de/s/luftbonbon is valid.\n"
     ]
    },
    {
     "name": "stdout",
     "output_type": "stream",
     "text": [
      "Scraping Pole Studio Data from https://www.eversports.de/s/luftbonbon...\n"
     ]
    },
    {
     "name": "stderr",
     "output_type": "stream",
     "text": [
      "Processing URLs:  35%|███▍      | 79/227 [02:22<03:51,  1.56s/it]"
     ]
    },
    {
     "name": "stdout",
     "output_type": "stream",
     "text": [
      "\n",
      "Processing completed.\n",
      "-------------------------------- \n",
      "\n",
      "2025-01-25 13:19:20 - INFO - Scraping Data from: https://www.eversports.de/s/luftbonbon\n",
      "Pole Studio Data: 1 entries\n",
      "Starting URL reconstruction...\n"
     ]
    },
    {
     "name": "stderr",
     "output_type": "stream",
     "text": [
      "2025-01-25 13:19:20,852 - INFO - Processing URL 1/1: https://www.eversports.de/s/lush-motion\n"
     ]
    },
    {
     "name": "stdout",
     "output_type": "stream",
     "text": [
      "Converting to DataFrame...\n",
      "Validating URLs...\n"
     ]
    },
    {
     "name": "stderr",
     "output_type": "stream",
     "text": [
      "2025-01-25 13:19:21,227 - INFO - URL https://www.eversports.de/s/lush-motion is valid.\n"
     ]
    },
    {
     "name": "stdout",
     "output_type": "stream",
     "text": [
      "Scraping Pole Studio Data from https://www.eversports.de/s/lush-motion...\n"
     ]
    },
    {
     "name": "stderr",
     "output_type": "stream",
     "text": [
      "Processing URLs:  35%|███▌      | 80/227 [02:23<03:46,  1.54s/it]"
     ]
    },
    {
     "name": "stdout",
     "output_type": "stream",
     "text": [
      "\n",
      "Processing completed.\n",
      "-------------------------------- \n",
      "\n",
      "2025-01-25 13:19:21 - INFO - Scraping Data from: https://www.eversports.de/s/lush-motion\n",
      "Pole Studio Data: 1 entries\n",
      "Starting URL reconstruction...\n"
     ]
    },
    {
     "name": "stderr",
     "output_type": "stream",
     "text": [
      "2025-01-25 13:19:21,905 - INFO - Processing URL 1/1: https://www.eversports.de/s/mmc-dance-and-event-studio\n"
     ]
    },
    {
     "name": "stdout",
     "output_type": "stream",
     "text": [
      "Converting to DataFrame...\n",
      "Validating URLs...\n"
     ]
    },
    {
     "name": "stderr",
     "output_type": "stream",
     "text": [
      "2025-01-25 13:19:22,215 - INFO - URL https://www.eversports.de/s/mmc-dance-and-event-studio is valid.\n"
     ]
    },
    {
     "name": "stdout",
     "output_type": "stream",
     "text": [
      "Scraping Pole Studio Data from https://www.eversports.de/s/mmc-dance-and-event-studio...\n"
     ]
    },
    {
     "name": "stderr",
     "output_type": "stream",
     "text": [
      "Processing URLs:  36%|███▌      | 81/227 [02:24<03:25,  1.41s/it]"
     ]
    },
    {
     "name": "stdout",
     "output_type": "stream",
     "text": [
      "\n",
      "Processing completed.\n",
      "-------------------------------- \n",
      "\n",
      "2025-01-25 13:19:22 - INFO - Scraping Data from: https://www.eversports.de/s/mmc-dance-and-event-studio\n",
      "Pole Studio Data: 1 entries\n",
      "Starting URL reconstruction...\n"
     ]
    },
    {
     "name": "stderr",
     "output_type": "stream",
     "text": [
      "2025-01-25 13:19:23,189 - INFO - Processing URL 1/1: https://www.eversports.de/s/move-on-dance-studio-and-polemotions\n"
     ]
    },
    {
     "name": "stdout",
     "output_type": "stream",
     "text": [
      "Converting to DataFrame...\n",
      "Validating URLs...\n"
     ]
    },
    {
     "name": "stderr",
     "output_type": "stream",
     "text": [
      "2025-01-25 13:19:23,549 - INFO - URL https://www.eversports.de/s/move-on-dance-studio-and-polemotions is valid.\n"
     ]
    },
    {
     "name": "stdout",
     "output_type": "stream",
     "text": [
      "Scraping Pole Studio Data from https://www.eversports.de/s/move-on-dance-studio-and-polemotions...\n"
     ]
    },
    {
     "name": "stderr",
     "output_type": "stream",
     "text": [
      "Processing URLs:  36%|███▌      | 82/227 [02:26<03:24,  1.41s/it]"
     ]
    },
    {
     "name": "stdout",
     "output_type": "stream",
     "text": [
      "\n",
      "Processing completed.\n",
      "-------------------------------- \n",
      "\n",
      "2025-01-25 13:19:24 - INFO - Scraping Data from: https://www.eversports.de/s/move-on-dance-studio-and-polemotions\n",
      "Pole Studio Data: 1 entries\n",
      "Starting URL reconstruction...\n"
     ]
    },
    {
     "name": "stderr",
     "output_type": "stream",
     "text": [
      "2025-01-25 13:19:24,407 - INFO - Processing URL 1/2: https://www.eversports.de/s/moving-lions-polefitness-gmbh\n"
     ]
    },
    {
     "name": "stdout",
     "output_type": "stream",
     "text": [
      "Converting to DataFrame...\n",
      "Validating URLs...\n"
     ]
    },
    {
     "name": "stderr",
     "output_type": "stream",
     "text": [
      "2025-01-25 13:19:24,850 - INFO - URL https://www.eversports.de/s/moving-lions-polefitness-gmbh is valid.\n",
      "2025-01-25 13:19:24,851 - INFO - Processing URL 2/2: https://www.eversports.de/sw/moving-lions-polefitness-gmbh\n",
      "2025-01-25 13:19:24,992 - INFO - URL https://www.eversports.de/sw/moving-lions-polefitness-gmbh is not valid.\n"
     ]
    },
    {
     "name": "stdout",
     "output_type": "stream",
     "text": [
      "Scraping Pole Studio Data from https://www.eversports.de/s/moving-lions-polefitness-gmbh...\n"
     ]
    },
    {
     "name": "stderr",
     "output_type": "stream",
     "text": [
      "Processing URLs:  37%|███▋      | 83/227 [02:27<03:21,  1.40s/it]"
     ]
    },
    {
     "name": "stdout",
     "output_type": "stream",
     "text": [
      "\n",
      "Processing completed.\n",
      "-------------------------------- \n",
      "\n",
      "2025-01-25 13:19:25 - INFO - Scraping Data from: https://www.eversports.de/s/moving-lions-polefitness-gmbh\n",
      "Pole Studio Data: 1 entries\n",
      "Starting URL reconstruction...\n"
     ]
    },
    {
     "name": "stderr",
     "output_type": "stream",
     "text": [
      "2025-01-25 13:19:25,730 - INFO - Processing URL 1/2: https://www.eversports.de/s/munich-circus-arts\n"
     ]
    },
    {
     "name": "stdout",
     "output_type": "stream",
     "text": [
      "Converting to DataFrame...\n",
      "Validating URLs...\n"
     ]
    },
    {
     "name": "stderr",
     "output_type": "stream",
     "text": [
      "2025-01-25 13:19:26,194 - INFO - URL https://www.eversports.de/s/munich-circus-arts is valid.\n",
      "2025-01-25 13:19:26,195 - INFO - Processing URL 2/2: https://www.eversports.de/sw/munich-circus-arts\n",
      "2025-01-25 13:19:26,431 - INFO - URL https://www.eversports.de/sw/munich-circus-arts is valid.\n"
     ]
    },
    {
     "name": "stdout",
     "output_type": "stream",
     "text": [
      "Scraping Pole Studio Data from https://www.eversports.de/s/munich-circus-arts...\n",
      "Scraping Workshops Data from https://www.eversports.de/sw/munich-circus-arts...\n",
      "Scraping Workshop Details from https://www.eversports.de/e/workshop/ZgfPI-C...\n",
      "Scraping Workshop Details from https://www.eversports.de/e/workshop/lBMObEt...\n",
      "Scraping Workshop Details from https://www.eversports.de/e/workshop/MnaL2Om...\n",
      "Scraping Workshop Details from https://www.eversports.de/e/workshop/vUDXOXo...\n"
     ]
    },
    {
     "name": "stderr",
     "output_type": "stream",
     "text": [
      "Processing URLs:  37%|███▋      | 84/227 [02:32<05:39,  2.37s/it]"
     ]
    },
    {
     "name": "stdout",
     "output_type": "stream",
     "text": [
      "\n",
      "Processing completed.\n",
      "-------------------------------- \n",
      "\n",
      "2025-01-25 13:19:30 - INFO - Scraping Data from: https://www.eversports.de/s/munich-circus-arts\n",
      "Pole Studio Data: 1 entries\n",
      "2025-01-25 13:19:30 - INFO - Scraping Data from: https://www.eversports.de/s/munich-circus-arts\n",
      "Workshops Data: 4 entries\n",
      "2025-01-25 13:19:30 - INFO - Scraping Data from: https://www.eversports.de/s/munich-circus-arts\n",
      "Workshop Details: 4 entries\n",
      "Starting URL reconstruction...\n"
     ]
    },
    {
     "name": "stderr",
     "output_type": "stream",
     "text": [
      "2025-01-25 13:19:30,596 - INFO - Processing URL 1/1: https://www.eversports.de/s/munich-poledance\n"
     ]
    },
    {
     "name": "stdout",
     "output_type": "stream",
     "text": [
      "Converting to DataFrame...\n",
      "Validating URLs...\n"
     ]
    },
    {
     "name": "stderr",
     "output_type": "stream",
     "text": [
      "2025-01-25 13:19:31,247 - INFO - URL https://www.eversports.de/s/munich-poledance is valid.\n"
     ]
    },
    {
     "name": "stdout",
     "output_type": "stream",
     "text": [
      "Scraping Pole Studio Data from https://www.eversports.de/s/munich-poledance...\n"
     ]
    },
    {
     "name": "stderr",
     "output_type": "stream",
     "text": [
      "Processing URLs:  37%|███▋      | 85/227 [02:33<05:04,  2.14s/it]"
     ]
    },
    {
     "name": "stdout",
     "output_type": "stream",
     "text": [
      "\n",
      "Processing completed.\n",
      "-------------------------------- \n",
      "\n",
      "2025-01-25 13:19:31 - INFO - Scraping Data from: https://www.eversports.de/s/munich-poledance\n",
      "Pole Studio Data: 1 entries\n",
      "Starting URL reconstruction...\n"
     ]
    },
    {
     "name": "stderr",
     "output_type": "stream",
     "text": [
      "2025-01-25 13:19:32,155 - INFO - Processing URL 1/1: https://www.eversports.de/s/muse-pole-dance\n"
     ]
    },
    {
     "name": "stdout",
     "output_type": "stream",
     "text": [
      "Converting to DataFrame...\n",
      "Validating URLs...\n"
     ]
    },
    {
     "name": "stderr",
     "output_type": "stream",
     "text": [
      "2025-01-25 13:19:32,433 - INFO - URL https://www.eversports.de/s/muse-pole-dance is valid.\n"
     ]
    },
    {
     "name": "stdout",
     "output_type": "stream",
     "text": [
      "Scraping Pole Studio Data from https://www.eversports.de/s/muse-pole-dance...\n"
     ]
    },
    {
     "name": "stderr",
     "output_type": "stream",
     "text": [
      "Processing URLs:  38%|███▊      | 86/227 [02:35<04:32,  1.94s/it]"
     ]
    },
    {
     "name": "stdout",
     "output_type": "stream",
     "text": [
      "\n",
      "Processing completed.\n",
      "-------------------------------- \n",
      "\n",
      "2025-01-25 13:19:33 - INFO - Scraping Data from: https://www.eversports.de/s/muse-pole-dance\n",
      "Pole Studio Data: 1 entries\n",
      "Starting URL reconstruction...\n"
     ]
    },
    {
     "name": "stderr",
     "output_type": "stream",
     "text": [
      "2025-01-25 13:19:33,613 - INFO - Processing URL 1/1: https://www.eversports.de/s/nisa-verticals\n"
     ]
    },
    {
     "name": "stdout",
     "output_type": "stream",
     "text": [
      "Converting to DataFrame...\n",
      "Validating URLs...\n"
     ]
    },
    {
     "name": "stderr",
     "output_type": "stream",
     "text": [
      "2025-01-25 13:19:35,358 - INFO - URL https://www.eversports.de/s/nisa-verticals is valid.\n"
     ]
    },
    {
     "name": "stdout",
     "output_type": "stream",
     "text": [
      "Scraping Pole Studio Data from https://www.eversports.de/s/nisa-verticals...\n"
     ]
    },
    {
     "name": "stderr",
     "output_type": "stream",
     "text": [
      "Processing URLs:  38%|███▊      | 87/227 [02:37<04:55,  2.11s/it]"
     ]
    },
    {
     "name": "stdout",
     "output_type": "stream",
     "text": [
      "\n",
      "Processing completed.\n",
      "-------------------------------- \n",
      "\n",
      "2025-01-25 13:19:35 - INFO - Scraping Data from: https://www.eversports.de/s/nisa-verticals\n",
      "Pole Studio Data: 1 entries\n",
      "Starting URL reconstruction...\n"
     ]
    },
    {
     "name": "stderr",
     "output_type": "stream",
     "text": [
      "Processing URLs:  39%|███▉      | 88/227 [02:38<03:58,  1.71s/it]"
     ]
    },
    {
     "name": "stdout",
     "output_type": "stream",
     "text": [
      "Error during HTTP request: 404 Client Error: Not Found for url: https://www.eversports.de/s/niyaha-yoga-susann-kind\n",
      "Converting to DataFrame...\n",
      "Validating URLs...\n",
      "\n",
      "Processing completed.\n",
      "-------------------------------- \n",
      "\n",
      "Starting URL reconstruction...\n"
     ]
    },
    {
     "name": "stderr",
     "output_type": "stream",
     "text": [
      "2025-01-25 13:19:37,339 - INFO - Processing URL 1/2: https://www.eversports.de/s/nordpole\n"
     ]
    },
    {
     "name": "stdout",
     "output_type": "stream",
     "text": [
      "Converting to DataFrame...\n",
      "Validating URLs...\n"
     ]
    },
    {
     "name": "stderr",
     "output_type": "stream",
     "text": [
      "2025-01-25 13:19:37,725 - INFO - URL https://www.eversports.de/s/nordpole is valid.\n",
      "2025-01-25 13:19:37,725 - INFO - Processing URL 2/2: https://www.eversports.de/sw/nordpole\n",
      "2025-01-25 13:19:38,176 - INFO - URL https://www.eversports.de/sw/nordpole is valid.\n"
     ]
    },
    {
     "name": "stdout",
     "output_type": "stream",
     "text": [
      "Scraping Pole Studio Data from https://www.eversports.de/s/nordpole...\n",
      "Scraping Workshops Data from https://www.eversports.de/sw/nordpole...\n",
      "Scraping Workshop Details from https://www.eversports.de/e/workshop/jSpDkN9...\n",
      "Scraping Workshop Details from https://www.eversports.de/e/workshop/8uZ1rDL...\n",
      "Scraping Workshop Details from https://www.eversports.de/e/workshop/ufEuzld...\n",
      "Scraping Workshop Details from https://www.eversports.de/e/workshop/8Vo2Cd8...\n",
      "Scraping Workshop Details from https://www.eversports.de/e/workshop/_p6RNTg...\n",
      "Scraping Workshop Details from https://www.eversports.de/e/workshop/983xdD7...\n",
      "Scraping Workshop Details from https://www.eversports.de/e/workshop/1O9i2Es...\n"
     ]
    },
    {
     "name": "stderr",
     "output_type": "stream",
     "text": [
      "Processing URLs:  39%|███▉      | 89/227 [02:45<07:28,  3.25s/it]"
     ]
    },
    {
     "name": "stdout",
     "output_type": "stream",
     "text": [
      "\n",
      "Processing completed.\n",
      "-------------------------------- \n",
      "\n",
      "2025-01-25 13:19:43 - INFO - Scraping Data from: https://www.eversports.de/s/nordpole\n",
      "Pole Studio Data: 1 entries\n",
      "2025-01-25 13:19:43 - INFO - Scraping Data from: https://www.eversports.de/s/nordpole\n",
      "Workshops Data: 7 entries\n",
      "2025-01-25 13:19:43 - INFO - Scraping Data from: https://www.eversports.de/s/nordpole\n",
      "Workshop Details: 7 entries\n",
      "Starting URL reconstruction...\n"
     ]
    },
    {
     "name": "stderr",
     "output_type": "stream",
     "text": [
      "2025-01-25 13:19:43,710 - INFO - Processing URL 1/1: https://www.eversports.de/s/kaifu-lodge\n"
     ]
    },
    {
     "name": "stdout",
     "output_type": "stream",
     "text": [
      "Converting to DataFrame...\n",
      "Validating URLs...\n"
     ]
    },
    {
     "name": "stderr",
     "output_type": "stream",
     "text": [
      "2025-01-25 13:19:43,923 - INFO - URL https://www.eversports.de/s/kaifu-lodge is valid.\n"
     ]
    },
    {
     "name": "stdout",
     "output_type": "stream",
     "text": [
      "Scraping Pole Studio Data from https://www.eversports.de/s/kaifu-lodge...\n"
     ]
    },
    {
     "name": "stderr",
     "output_type": "stream",
     "text": [
      "Processing URLs:  40%|███▉      | 90/227 [02:46<05:51,  2.57s/it]"
     ]
    },
    {
     "name": "stdout",
     "output_type": "stream",
     "text": [
      "\n",
      "Processing completed.\n",
      "-------------------------------- \n",
      "\n",
      "2025-01-25 13:19:44 - INFO - Scraping Data from: https://www.eversports.de/s/kaifu-lodge\n",
      "Pole Studio Data: 1 entries\n",
      "Starting URL reconstruction...\n"
     ]
    },
    {
     "name": "stderr",
     "output_type": "stream",
     "text": [
      "2025-01-25 13:19:44,519 - INFO - Processing URL 1/1: https://www.eversports.de/s/one8dance-studio\n"
     ]
    },
    {
     "name": "stdout",
     "output_type": "stream",
     "text": [
      "Converting to DataFrame...\n",
      "Validating URLs...\n"
     ]
    },
    {
     "name": "stderr",
     "output_type": "stream",
     "text": [
      "2025-01-25 13:19:44,804 - INFO - URL https://www.eversports.de/s/one8dance-studio is valid.\n"
     ]
    },
    {
     "name": "stdout",
     "output_type": "stream",
     "text": [
      "Scraping Pole Studio Data from https://www.eversports.de/s/one8dance-studio...\n"
     ]
    },
    {
     "name": "stderr",
     "output_type": "stream",
     "text": [
      "Processing URLs:  40%|████      | 91/227 [02:47<04:53,  2.16s/it]"
     ]
    },
    {
     "name": "stdout",
     "output_type": "stream",
     "text": [
      "\n",
      "Processing completed.\n",
      "-------------------------------- \n",
      "\n",
      "2025-01-25 13:19:45 - INFO - Scraping Data from: https://www.eversports.de/s/one8dance-studio\n",
      "Pole Studio Data: 1 entries\n",
      "Starting URL reconstruction...\n"
     ]
    },
    {
     "name": "stderr",
     "output_type": "stream",
     "text": [
      "2025-01-25 13:19:46,022 - INFO - Processing URL 1/2: https://www.eversports.de/s/pole-heroes\n"
     ]
    },
    {
     "name": "stdout",
     "output_type": "stream",
     "text": [
      "Converting to DataFrame...\n",
      "Validating URLs...\n"
     ]
    },
    {
     "name": "stderr",
     "output_type": "stream",
     "text": [
      "2025-01-25 13:19:46,643 - INFO - URL https://www.eversports.de/s/pole-heroes is valid.\n",
      "2025-01-25 13:19:46,643 - INFO - Processing URL 2/2: https://www.eversports.de/sw/pole-heroes\n",
      "2025-01-25 13:19:46,931 - INFO - URL https://www.eversports.de/sw/pole-heroes is valid.\n"
     ]
    },
    {
     "name": "stdout",
     "output_type": "stream",
     "text": [
      "Scraping Pole Studio Data from https://www.eversports.de/s/pole-heroes...\n",
      "Scraping Workshops Data from https://www.eversports.de/sw/pole-heroes...\n",
      "Scraping Workshop Details from https://www.eversports.de/e/workshop/wwr2Xjw...\n",
      "Scraping Workshop Details from https://www.eversports.de/e/workshop/IW5BTWs...\n",
      "Scraping Workshop Details from https://www.eversports.de/e/workshop/eXDxw9F...\n",
      "Scraping Workshop Details from https://www.eversports.de/e/workshop/RCaN2FB...\n"
     ]
    },
    {
     "name": "stderr",
     "output_type": "stream",
     "text": [
      "Processing URLs:  41%|████      | 92/227 [02:51<06:16,  2.79s/it]"
     ]
    },
    {
     "name": "stdout",
     "output_type": "stream",
     "text": [
      "\n",
      "Processing completed.\n",
      "-------------------------------- \n",
      "\n",
      "2025-01-25 13:19:49 - INFO - Scraping Data from: https://www.eversports.de/s/pole-heroes\n",
      "Pole Studio Data: 1 entries\n",
      "2025-01-25 13:19:49 - INFO - Scraping Data from: https://www.eversports.de/s/pole-heroes\n",
      "Workshops Data: 4 entries\n",
      "2025-01-25 13:19:49 - INFO - Scraping Data from: https://www.eversports.de/s/pole-heroes\n",
      "Workshop Details: 4 entries\n",
      "Starting URL reconstruction...\n"
     ]
    },
    {
     "name": "stderr",
     "output_type": "stream",
     "text": [
      "2025-01-25 13:19:50,238 - INFO - Processing URL 1/1: https://www.eversports.de/s/pole-loft\n"
     ]
    },
    {
     "name": "stdout",
     "output_type": "stream",
     "text": [
      "Converting to DataFrame...\n",
      "Validating URLs...\n"
     ]
    },
    {
     "name": "stderr",
     "output_type": "stream",
     "text": [
      "2025-01-25 13:19:51,616 - INFO - URL https://www.eversports.de/s/pole-loft is valid.\n"
     ]
    },
    {
     "name": "stdout",
     "output_type": "stream",
     "text": [
      "Scraping Pole Studio Data from https://www.eversports.de/s/pole-loft...\n"
     ]
    },
    {
     "name": "stderr",
     "output_type": "stream",
     "text": [
      "Processing URLs:  41%|████      | 93/227 [02:54<05:57,  2.67s/it]"
     ]
    },
    {
     "name": "stdout",
     "output_type": "stream",
     "text": [
      "\n",
      "Processing completed.\n",
      "-------------------------------- \n",
      "\n",
      "2025-01-25 13:19:52 - INFO - Scraping Data from: https://www.eversports.de/s/pole-loft\n",
      "Pole Studio Data: 1 entries\n",
      "Starting URL reconstruction...\n"
     ]
    },
    {
     "name": "stderr",
     "output_type": "stream",
     "text": [
      "2025-01-25 13:19:52,688 - INFO - Processing URL 1/1: https://www.eversports.de/s/poledance-nrw\n"
     ]
    },
    {
     "name": "stdout",
     "output_type": "stream",
     "text": [
      "Converting to DataFrame...\n",
      "Validating URLs...\n"
     ]
    },
    {
     "name": "stderr",
     "output_type": "stream",
     "text": [
      "2025-01-25 13:19:53,168 - INFO - URL https://www.eversports.de/s/poledance-nrw is valid.\n"
     ]
    },
    {
     "name": "stdout",
     "output_type": "stream",
     "text": [
      "Scraping Pole Studio Data from https://www.eversports.de/s/poledance-nrw...\n"
     ]
    },
    {
     "name": "stderr",
     "output_type": "stream",
     "text": [
      "Processing URLs:  41%|████▏     | 94/227 [02:55<05:10,  2.34s/it]"
     ]
    },
    {
     "name": "stdout",
     "output_type": "stream",
     "text": [
      "\n",
      "Processing completed.\n",
      "-------------------------------- \n",
      "\n",
      "2025-01-25 13:19:53 - INFO - Scraping Data from: https://www.eversports.de/s/poledance-nrw\n",
      "Pole Studio Data: 1 entries\n",
      "Starting URL reconstruction...\n"
     ]
    },
    {
     "name": "stderr",
     "output_type": "stream",
     "text": [
      "2025-01-25 13:19:54,281 - INFO - Processing URL 1/1: https://www.eversports.de/s/poleside\n"
     ]
    },
    {
     "name": "stdout",
     "output_type": "stream",
     "text": [
      "Converting to DataFrame...\n",
      "Validating URLs...\n"
     ]
    },
    {
     "name": "stderr",
     "output_type": "stream",
     "text": [
      "2025-01-25 13:19:54,679 - INFO - URL https://www.eversports.de/s/poleside is valid.\n"
     ]
    },
    {
     "name": "stdout",
     "output_type": "stream",
     "text": [
      "Scraping Pole Studio Data from https://www.eversports.de/s/poleside...\n"
     ]
    },
    {
     "name": "stderr",
     "output_type": "stream",
     "text": [
      "Processing URLs:  42%|████▏     | 95/227 [02:58<05:01,  2.28s/it]"
     ]
    },
    {
     "name": "stdout",
     "output_type": "stream",
     "text": [
      "\n",
      "Processing completed.\n",
      "-------------------------------- \n",
      "\n",
      "2025-01-25 13:19:55 - INFO - Scraping Data from: https://www.eversports.de/s/poleside\n",
      "Pole Studio Data: 1 entries\n",
      "Starting URL reconstruction...\n"
     ]
    },
    {
     "name": "stderr",
     "output_type": "stream",
     "text": [
      "2025-01-25 13:19:56,206 - INFO - Processing URL 1/2: https://www.eversports.de/s/papillon-dance-and-sport-academy\n"
     ]
    },
    {
     "name": "stdout",
     "output_type": "stream",
     "text": [
      "Converting to DataFrame...\n",
      "Validating URLs...\n"
     ]
    },
    {
     "name": "stderr",
     "output_type": "stream",
     "text": [
      "2025-01-25 13:19:57,157 - INFO - URL https://www.eversports.de/s/papillon-dance-and-sport-academy is valid.\n",
      "2025-01-25 13:19:57,157 - INFO - Processing URL 2/2: https://www.eversports.de/sw/papillon-dance-and-sport-academy\n",
      "2025-01-25 13:19:57,340 - INFO - URL https://www.eversports.de/sw/papillon-dance-and-sport-academy is valid.\n"
     ]
    },
    {
     "name": "stdout",
     "output_type": "stream",
     "text": [
      "Scraping Pole Studio Data from https://www.eversports.de/s/papillon-dance-and-sport-academy...\n",
      "Scraping Workshops Data from https://www.eversports.de/sw/papillon-dance-and-sport-academy...\n",
      "Scraping Workshop Details from https://www.eversports.de/e/workshop/yZNBpfx...\n",
      "Scraping Workshop Details from https://www.eversports.de/e/workshop/bnt-g1T...\n"
     ]
    },
    {
     "name": "stderr",
     "output_type": "stream",
     "text": [
      "Processing URLs:  42%|████▏     | 96/227 [03:01<05:29,  2.52s/it]"
     ]
    },
    {
     "name": "stdout",
     "output_type": "stream",
     "text": [
      "\n",
      "Processing completed.\n",
      "-------------------------------- \n",
      "\n",
      "2025-01-25 13:19:58 - INFO - Scraping Data from: https://www.eversports.de/s/papillon-dance-and-sport-academy\n",
      "Pole Studio Data: 1 entries\n",
      "2025-01-25 13:19:58 - INFO - Scraping Data from: https://www.eversports.de/s/papillon-dance-and-sport-academy\n",
      "Workshops Data: 2 entries\n",
      "2025-01-25 13:19:58 - INFO - Scraping Data from: https://www.eversports.de/s/papillon-dance-and-sport-academy\n",
      "Workshop Details: 2 entries\n",
      "Starting URL reconstruction...\n"
     ]
    },
    {
     "name": "stderr",
     "output_type": "stream",
     "text": [
      "2025-01-25 13:19:59,682 - INFO - Processing URL 1/1: https://www.eversports.de/s/passionate-pole-and-sports\n"
     ]
    },
    {
     "name": "stdout",
     "output_type": "stream",
     "text": [
      "Converting to DataFrame...\n",
      "Validating URLs...\n"
     ]
    },
    {
     "name": "stderr",
     "output_type": "stream",
     "text": [
      "2025-01-25 13:20:00,569 - INFO - URL https://www.eversports.de/s/passionate-pole-and-sports is valid.\n"
     ]
    },
    {
     "name": "stdout",
     "output_type": "stream",
     "text": [
      "Scraping Pole Studio Data from https://www.eversports.de/s/passionate-pole-and-sports...\n"
     ]
    },
    {
     "name": "stderr",
     "output_type": "stream",
     "text": [
      "Processing URLs:  43%|████▎     | 97/227 [03:03<05:11,  2.40s/it]"
     ]
    },
    {
     "name": "stdout",
     "output_type": "stream",
     "text": [
      "\n",
      "Processing completed.\n",
      "-------------------------------- \n",
      "\n",
      "2025-01-25 13:20:00 - INFO - Scraping Data from: https://www.eversports.de/s/passionate-pole-and-sports\n",
      "Pole Studio Data: 1 entries\n",
      "Starting URL reconstruction...\n"
     ]
    },
    {
     "name": "stderr",
     "output_type": "stream",
     "text": [
      "2025-01-25 13:20:01,787 - INFO - Processing URL 1/2: https://www.eversports.de/s/pole-acrobatics\n"
     ]
    },
    {
     "name": "stdout",
     "output_type": "stream",
     "text": [
      "Converting to DataFrame...\n",
      "Validating URLs...\n"
     ]
    },
    {
     "name": "stderr",
     "output_type": "stream",
     "text": [
      "2025-01-25 13:20:02,777 - INFO - URL https://www.eversports.de/s/pole-acrobatics is valid.\n",
      "2025-01-25 13:20:02,778 - INFO - Processing URL 2/2: https://www.eversports.de/sw/pole-acrobatics\n",
      "2025-01-25 13:20:04,441 - INFO - URL https://www.eversports.de/sw/pole-acrobatics is valid.\n"
     ]
    },
    {
     "name": "stdout",
     "output_type": "stream",
     "text": [
      "Scraping Pole Studio Data from https://www.eversports.de/s/pole-acrobatics...\n",
      "Scraping Workshops Data from https://www.eversports.de/sw/pole-acrobatics...\n",
      "Scraping Workshop Details from https://www.eversports.de/e/workshop/DV16pUU...\n",
      "Scraping Workshop Details from https://www.eversports.de/e/workshop/-wjxMXI...\n"
     ]
    },
    {
     "name": "stderr",
     "output_type": "stream",
     "text": [
      "Processing URLs:  43%|████▎     | 98/227 [03:08<06:54,  3.21s/it]"
     ]
    },
    {
     "name": "stdout",
     "output_type": "stream",
     "text": [
      "\n",
      "Processing completed.\n",
      "-------------------------------- \n",
      "\n",
      "2025-01-25 13:20:06 - INFO - Scraping Data from: https://www.eversports.de/s/pole-acrobatics\n",
      "Pole Studio Data: 1 entries\n",
      "2025-01-25 13:20:06 - INFO - Scraping Data from: https://www.eversports.de/s/pole-acrobatics\n",
      "Workshops Data: 2 entries\n",
      "2025-01-25 13:20:06 - INFO - Scraping Data from: https://www.eversports.de/s/pole-acrobatics\n",
      "Workshop Details: 2 entries\n",
      "Starting URL reconstruction...\n"
     ]
    },
    {
     "name": "stderr",
     "output_type": "stream",
     "text": [
      "2025-01-25 13:20:06,900 - INFO - Processing URL 1/1: https://www.eversports.de/s/pole-arts\n"
     ]
    },
    {
     "name": "stdout",
     "output_type": "stream",
     "text": [
      "Converting to DataFrame...\n",
      "Validating URLs...\n"
     ]
    },
    {
     "name": "stderr",
     "output_type": "stream",
     "text": [
      "2025-01-25 13:20:07,831 - INFO - URL https://www.eversports.de/s/pole-arts is valid.\n"
     ]
    },
    {
     "name": "stdout",
     "output_type": "stream",
     "text": [
      "Scraping Pole Studio Data from https://www.eversports.de/s/pole-arts...\n"
     ]
    },
    {
     "name": "stderr",
     "output_type": "stream",
     "text": [
      "Processing URLs:  44%|████▎     | 99/227 [03:10<06:13,  2.92s/it]"
     ]
    },
    {
     "name": "stdout",
     "output_type": "stream",
     "text": [
      "\n",
      "Processing completed.\n",
      "-------------------------------- \n",
      "\n",
      "2025-01-25 13:20:08 - INFO - Scraping Data from: https://www.eversports.de/s/pole-arts\n",
      "Pole Studio Data: 1 entries\n",
      "Starting URL reconstruction...\n"
     ]
    },
    {
     "name": "stderr",
     "output_type": "stream",
     "text": [
      "2025-01-25 13:20:08,686 - INFO - Processing URL 1/1: https://www.eversports.de/s/pole-birdies-1\n"
     ]
    },
    {
     "name": "stdout",
     "output_type": "stream",
     "text": [
      "Converting to DataFrame...\n",
      "Validating URLs...\n"
     ]
    },
    {
     "name": "stderr",
     "output_type": "stream",
     "text": [
      "2025-01-25 13:20:09,070 - INFO - URL https://www.eversports.de/s/pole-birdies-1 is valid.\n"
     ]
    },
    {
     "name": "stdout",
     "output_type": "stream",
     "text": [
      "Scraping Pole Studio Data from https://www.eversports.de/s/pole-birdies-1...\n"
     ]
    },
    {
     "name": "stderr",
     "output_type": "stream",
     "text": [
      "Processing URLs:  44%|████▍     | 100/227 [03:12<05:31,  2.61s/it]"
     ]
    },
    {
     "name": "stdout",
     "output_type": "stream",
     "text": [
      "\n",
      "Processing completed.\n",
      "-------------------------------- \n",
      "\n",
      "2025-01-25 13:20:10 - INFO - Scraping Data from: https://www.eversports.de/s/pole-birdies-1\n",
      "Pole Studio Data: 1 entries\n",
      "Starting URL reconstruction...\n"
     ]
    },
    {
     "name": "stderr",
     "output_type": "stream",
     "text": [
      "Processing URLs:  44%|████▍     | 101/227 [03:12<04:01,  1.92s/it]"
     ]
    },
    {
     "name": "stdout",
     "output_type": "stream",
     "text": [
      "Error during HTTP request: 404 Client Error: Not Found for url: https://www.eversports.de/s/pole-dance-balance\n",
      "Converting to DataFrame...\n",
      "Validating URLs...\n",
      "\n",
      "Processing completed.\n",
      "-------------------------------- \n",
      "\n",
      "Starting URL reconstruction...\n"
     ]
    },
    {
     "name": "stderr",
     "output_type": "stream",
     "text": [
      "2025-01-25 13:20:11,067 - INFO - Processing URL 1/1: https://www.eversports.de/s/pole-dance-beauties\n"
     ]
    },
    {
     "name": "stdout",
     "output_type": "stream",
     "text": [
      "Converting to DataFrame...\n",
      "Validating URLs...\n"
     ]
    },
    {
     "name": "stderr",
     "output_type": "stream",
     "text": [
      "2025-01-25 13:20:11,942 - INFO - URL https://www.eversports.de/s/pole-dance-beauties is valid.\n"
     ]
    },
    {
     "name": "stdout",
     "output_type": "stream",
     "text": [
      "Scraping Pole Studio Data from https://www.eversports.de/s/pole-dance-beauties...\n"
     ]
    },
    {
     "name": "stderr",
     "output_type": "stream",
     "text": [
      "Processing URLs:  45%|████▍     | 102/227 [03:14<03:53,  1.87s/it]"
     ]
    },
    {
     "name": "stdout",
     "output_type": "stream",
     "text": [
      "\n",
      "Processing completed.\n",
      "-------------------------------- \n",
      "\n",
      "2025-01-25 13:20:12 - INFO - Scraping Data from: https://www.eversports.de/s/pole-dance-beauties\n",
      "Pole Studio Data: 1 entries\n",
      "Starting URL reconstruction...\n"
     ]
    },
    {
     "name": "stderr",
     "output_type": "stream",
     "text": [
      "2025-01-25 13:20:12,691 - INFO - Processing URL 1/1: https://www.eversports.de/s/pole-dance-belgium-enghien\n"
     ]
    },
    {
     "name": "stdout",
     "output_type": "stream",
     "text": [
      "Converting to DataFrame...\n",
      "Validating URLs...\n"
     ]
    },
    {
     "name": "stderr",
     "output_type": "stream",
     "text": [
      "2025-01-25 13:20:13,329 - INFO - URL https://www.eversports.de/s/pole-dance-belgium-enghien is valid.\n"
     ]
    },
    {
     "name": "stdout",
     "output_type": "stream",
     "text": [
      "Scraping Pole Studio Data from https://www.eversports.de/s/pole-dance-belgium-enghien...\n"
     ]
    },
    {
     "name": "stderr",
     "output_type": "stream",
     "text": [
      "Processing URLs:  45%|████▌     | 103/227 [03:16<03:40,  1.77s/it]"
     ]
    },
    {
     "name": "stdout",
     "output_type": "stream",
     "text": [
      "\n",
      "Processing completed.\n",
      "-------------------------------- \n",
      "\n",
      "2025-01-25 13:20:13 - INFO - Scraping Data from: https://www.eversports.de/s/pole-dance-belgium-enghien\n",
      "Pole Studio Data: 1 entries\n",
      "Starting URL reconstruction...\n"
     ]
    },
    {
     "name": "stderr",
     "output_type": "stream",
     "text": [
      "2025-01-25 13:20:14,276 - INFO - Processing URL 1/1: https://www.eversports.de/s/pole-dance-belgium-ixelles\n"
     ]
    },
    {
     "name": "stdout",
     "output_type": "stream",
     "text": [
      "Converting to DataFrame...\n",
      "Validating URLs...\n"
     ]
    },
    {
     "name": "stderr",
     "output_type": "stream",
     "text": [
      "2025-01-25 13:20:14,623 - INFO - URL https://www.eversports.de/s/pole-dance-belgium-ixelles is valid.\n"
     ]
    },
    {
     "name": "stdout",
     "output_type": "stream",
     "text": [
      "Scraping Pole Studio Data from https://www.eversports.de/s/pole-dance-belgium-ixelles...\n"
     ]
    },
    {
     "name": "stderr",
     "output_type": "stream",
     "text": [
      "Processing URLs:  46%|████▋     | 105/227 [03:17<02:24,  1.18s/it]"
     ]
    },
    {
     "name": "stdout",
     "output_type": "stream",
     "text": [
      "\n",
      "Processing completed.\n",
      "-------------------------------- \n",
      "\n",
      "2025-01-25 13:20:15 - INFO - Scraping Data from: https://www.eversports.de/s/pole-dance-belgium-ixelles\n",
      "Pole Studio Data: 1 entries\n",
      "Starting URL reconstruction...\n",
      "Error during HTTP request: 404 Client Error: Not Found for url: https://www.eversports.de/s/pole-dance-factory-amsterdam-noord\n",
      "Converting to DataFrame...\n",
      "Validating URLs...\n",
      "\n",
      "Processing completed.\n",
      "-------------------------------- \n",
      "\n",
      "Starting URL reconstruction...\n"
     ]
    },
    {
     "name": "stderr",
     "output_type": "stream",
     "text": [
      "Processing URLs:  47%|████▋     | 106/227 [03:17<01:46,  1.14it/s]"
     ]
    },
    {
     "name": "stdout",
     "output_type": "stream",
     "text": [
      "Error during HTTP request: 404 Client Error: Not Found for url: https://www.eversports.de/s/pole-dance-factory-amsterdam-noord\n",
      "Converting to DataFrame...\n",
      "Validating URLs...\n",
      "\n",
      "Processing completed.\n",
      "-------------------------------- \n",
      "\n",
      "Starting URL reconstruction...\n"
     ]
    },
    {
     "name": "stderr",
     "output_type": "stream",
     "text": [
      "2025-01-25 13:20:16,226 - INFO - Processing URL 1/1: https://www.eversports.de/s/pole-dance-factory-amsterdam-oost\n"
     ]
    },
    {
     "name": "stdout",
     "output_type": "stream",
     "text": [
      "Converting to DataFrame...\n",
      "Validating URLs...\n"
     ]
    },
    {
     "name": "stderr",
     "output_type": "stream",
     "text": [
      "2025-01-25 13:20:16,764 - INFO - URL https://www.eversports.de/s/pole-dance-factory-amsterdam-oost is valid.\n"
     ]
    },
    {
     "name": "stdout",
     "output_type": "stream",
     "text": [
      "Scraping Pole Studio Data from https://www.eversports.de/s/pole-dance-factory-amsterdam-oost...\n"
     ]
    },
    {
     "name": "stderr",
     "output_type": "stream",
     "text": [
      "Processing URLs:  47%|████▋     | 107/227 [03:19<02:23,  1.20s/it]"
     ]
    },
    {
     "name": "stdout",
     "output_type": "stream",
     "text": [
      "\n",
      "Processing completed.\n",
      "-------------------------------- \n",
      "\n",
      "2025-01-25 13:20:17 - INFO - Scraping Data from: https://www.eversports.de/s/pole-dance-factory-amsterdam-oost\n",
      "Pole Studio Data: 1 entries\n",
      "Starting URL reconstruction...\n"
     ]
    },
    {
     "name": "stderr",
     "output_type": "stream",
     "text": [
      "2025-01-25 13:20:17,850 - INFO - Processing URL 1/2: https://www.eversports.de/s/pole-dance-krefeld\n"
     ]
    },
    {
     "name": "stdout",
     "output_type": "stream",
     "text": [
      "Converting to DataFrame...\n",
      "Validating URLs...\n"
     ]
    },
    {
     "name": "stderr",
     "output_type": "stream",
     "text": [
      "2025-01-25 13:20:18,265 - INFO - URL https://www.eversports.de/s/pole-dance-krefeld is valid.\n",
      "2025-01-25 13:20:18,267 - INFO - Processing URL 2/2: https://www.eversports.de/sw/pole-dance-krefeld\n",
      "2025-01-25 13:20:18,456 - INFO - URL https://www.eversports.de/sw/pole-dance-krefeld is valid.\n"
     ]
    },
    {
     "name": "stdout",
     "output_type": "stream",
     "text": [
      "Scraping Pole Studio Data from https://www.eversports.de/s/pole-dance-krefeld...\n",
      "Scraping Workshops Data from https://www.eversports.de/sw/pole-dance-krefeld...\n",
      "Scraping Workshop Details from https://www.eversports.de/e/workshop/rBi95-V...\n",
      "Scraping Workshop Details from https://www.eversports.de/e/workshop/5hd6rvg...\n",
      "Scraping Workshop Details from https://www.eversports.de/e/workshop/TlPaiqV...\n",
      "Scraping Workshop Details from https://www.eversports.de/e/workshop/DheMabB...\n",
      "Scraping Workshop Details from https://www.eversports.de/e/workshop/I9S6O-_...\n",
      "Scraping Workshop Details from https://www.eversports.de/e/workshop/iYial-Z...\n",
      "Scraping Workshop Details from https://www.eversports.de/e/workshop/rvvxAop...\n",
      "Scraping Workshop Details from https://www.eversports.de/e/workshop/E1z8vVL...\n",
      "Scraping Workshop Details from https://www.eversports.de/e/workshop/9R9kw9E...\n"
     ]
    },
    {
     "name": "stderr",
     "output_type": "stream",
     "text": [
      "Processing URLs:  48%|████▊     | 108/227 [03:26<05:37,  2.84s/it]"
     ]
    },
    {
     "name": "stdout",
     "output_type": "stream",
     "text": [
      "\n",
      "Processing completed.\n",
      "-------------------------------- \n",
      "\n",
      "2025-01-25 13:20:23 - INFO - Scraping Data from: https://www.eversports.de/s/pole-dance-krefeld\n",
      "Pole Studio Data: 1 entries\n",
      "2025-01-25 13:20:23 - INFO - Scraping Data from: https://www.eversports.de/s/pole-dance-krefeld\n",
      "Workshops Data: 9 entries\n",
      "2025-01-25 13:20:24 - INFO - Scraping Data from: https://www.eversports.de/s/pole-dance-krefeld\n",
      "Workshop Details: 9 entries\n",
      "Starting URL reconstruction...\n"
     ]
    },
    {
     "name": "stderr",
     "output_type": "stream",
     "text": [
      "2025-01-25 13:20:24,338 - INFO - Processing URL 1/1: https://www.eversports.de/s/pole-dance-palazzo-sportivo\n"
     ]
    },
    {
     "name": "stdout",
     "output_type": "stream",
     "text": [
      "Converting to DataFrame...\n",
      "Validating URLs...\n"
     ]
    },
    {
     "name": "stderr",
     "output_type": "stream",
     "text": [
      "2025-01-25 13:20:24,877 - INFO - URL https://www.eversports.de/s/pole-dance-palazzo-sportivo is valid.\n"
     ]
    },
    {
     "name": "stdout",
     "output_type": "stream",
     "text": [
      "Scraping Pole Studio Data from https://www.eversports.de/s/pole-dance-palazzo-sportivo...\n"
     ]
    },
    {
     "name": "stderr",
     "output_type": "stream",
     "text": [
      "Processing URLs:  48%|████▊     | 109/227 [03:27<04:38,  2.36s/it]"
     ]
    },
    {
     "name": "stdout",
     "output_type": "stream",
     "text": [
      "\n",
      "Processing completed.\n",
      "-------------------------------- \n",
      "\n",
      "2025-01-25 13:20:25 - INFO - Scraping Data from: https://www.eversports.de/s/pole-dance-palazzo-sportivo\n",
      "Pole Studio Data: 1 entries\n",
      "Starting URL reconstruction...\n"
     ]
    },
    {
     "name": "stderr",
     "output_type": "stream",
     "text": [
      "2025-01-25 13:20:25,722 - INFO - Processing URL 1/1: https://www.eversports.de/s/pole-dance-rosenheim-delia-studio\n"
     ]
    },
    {
     "name": "stdout",
     "output_type": "stream",
     "text": [
      "Converting to DataFrame...\n",
      "Validating URLs...\n"
     ]
    },
    {
     "name": "stderr",
     "output_type": "stream",
     "text": [
      "2025-01-25 13:20:26,050 - INFO - URL https://www.eversports.de/s/pole-dance-rosenheim-delia-studio is valid.\n"
     ]
    },
    {
     "name": "stdout",
     "output_type": "stream",
     "text": [
      "Scraping Pole Studio Data from https://www.eversports.de/s/pole-dance-rosenheim-delia-studio...\n"
     ]
    },
    {
     "name": "stderr",
     "output_type": "stream",
     "text": [
      "Processing URLs:  48%|████▊     | 110/227 [03:28<03:59,  2.04s/it]"
     ]
    },
    {
     "name": "stdout",
     "output_type": "stream",
     "text": [
      "\n",
      "Processing completed.\n",
      "-------------------------------- \n",
      "\n",
      "2025-01-25 13:20:26 - INFO - Scraping Data from: https://www.eversports.de/s/pole-dance-rosenheim-delia-studio\n",
      "Pole Studio Data: 1 entries\n",
      "Starting URL reconstruction...\n"
     ]
    },
    {
     "name": "stderr",
     "output_type": "stream",
     "text": [
      "2025-01-25 13:20:26,925 - INFO - Processing URL 1/1: https://www.eversports.de/s/pole-dance-studio-passion-hannover\n"
     ]
    },
    {
     "name": "stdout",
     "output_type": "stream",
     "text": [
      "Converting to DataFrame...\n",
      "Validating URLs...\n"
     ]
    },
    {
     "name": "stderr",
     "output_type": "stream",
     "text": [
      "2025-01-25 13:20:27,221 - INFO - URL https://www.eversports.de/s/pole-dance-studio-passion-hannover is valid.\n"
     ]
    },
    {
     "name": "stdout",
     "output_type": "stream",
     "text": [
      "Scraping Pole Studio Data from https://www.eversports.de/s/pole-dance-studio-passion-hannover...\n"
     ]
    },
    {
     "name": "stderr",
     "output_type": "stream",
     "text": [
      "Processing URLs:  49%|████▉     | 111/227 [03:29<03:21,  1.74s/it]"
     ]
    },
    {
     "name": "stdout",
     "output_type": "stream",
     "text": [
      "\n",
      "Processing completed.\n",
      "-------------------------------- \n",
      "\n",
      "2025-01-25 13:20:27 - INFO - Scraping Data from: https://www.eversports.de/s/pole-dance-studio-passion-hannover\n",
      "Pole Studio Data: 1 entries\n",
      "Starting URL reconstruction...\n"
     ]
    },
    {
     "name": "stderr",
     "output_type": "stream",
     "text": [
      "2025-01-25 13:20:28,132 - INFO - Processing URL 1/2: https://www.eversports.de/s/pole-faction-darmstadt\n"
     ]
    },
    {
     "name": "stdout",
     "output_type": "stream",
     "text": [
      "Converting to DataFrame...\n",
      "Validating URLs...\n"
     ]
    },
    {
     "name": "stderr",
     "output_type": "stream",
     "text": [
      "2025-01-25 13:20:28,708 - INFO - URL https://www.eversports.de/s/pole-faction-darmstadt is valid.\n",
      "2025-01-25 13:20:28,708 - INFO - Processing URL 2/2: https://www.eversports.de/sw/pole-faction-darmstadt\n",
      "2025-01-25 13:20:28,920 - INFO - URL https://www.eversports.de/sw/pole-faction-darmstadt is valid.\n"
     ]
    },
    {
     "name": "stdout",
     "output_type": "stream",
     "text": [
      "Scraping Pole Studio Data from https://www.eversports.de/s/pole-faction-darmstadt...\n",
      "Scraping Workshops Data from https://www.eversports.de/sw/pole-faction-darmstadt...\n",
      "Scraping Workshop Details from https://www.eversports.de/e/workshop/IIaXMk2...\n"
     ]
    },
    {
     "name": "stderr",
     "output_type": "stream",
     "text": [
      "Processing URLs:  49%|████▉     | 112/227 [03:32<03:41,  1.92s/it]"
     ]
    },
    {
     "name": "stdout",
     "output_type": "stream",
     "text": [
      "\n",
      "Processing completed.\n",
      "-------------------------------- \n",
      "\n",
      "2025-01-25 13:20:29 - INFO - Scraping Data from: https://www.eversports.de/s/pole-faction-darmstadt\n",
      "Pole Studio Data: 1 entries\n",
      "2025-01-25 13:20:29 - INFO - Scraping Data from: https://www.eversports.de/s/pole-faction-darmstadt\n",
      "Workshops Data: 1 entries\n",
      "2025-01-25 13:20:29 - INFO - Scraping Data from: https://www.eversports.de/s/pole-faction-darmstadt\n",
      "Workshop Details: 1 entries\n",
      "Starting URL reconstruction...\n"
     ]
    },
    {
     "name": "stderr",
     "output_type": "stream",
     "text": [
      "2025-01-25 13:20:30,405 - INFO - Processing URL 1/1: https://www.eversports.de/s/pole-faction-rhein-neckar\n"
     ]
    },
    {
     "name": "stdout",
     "output_type": "stream",
     "text": [
      "Converting to DataFrame...\n",
      "Validating URLs...\n"
     ]
    },
    {
     "name": "stderr",
     "output_type": "stream",
     "text": [
      "2025-01-25 13:20:30,772 - INFO - URL https://www.eversports.de/s/pole-faction-rhein-neckar is valid.\n"
     ]
    },
    {
     "name": "stdout",
     "output_type": "stream",
     "text": [
      "Scraping Pole Studio Data from https://www.eversports.de/s/pole-faction-rhein-neckar...\n"
     ]
    },
    {
     "name": "stderr",
     "output_type": "stream",
     "text": [
      "Processing URLs:  50%|████▉     | 113/227 [03:33<03:11,  1.68s/it]"
     ]
    },
    {
     "name": "stdout",
     "output_type": "stream",
     "text": [
      "\n",
      "Processing completed.\n",
      "-------------------------------- \n",
      "\n",
      "2025-01-25 13:20:31 - INFO - Scraping Data from: https://www.eversports.de/s/pole-faction-rhein-neckar\n",
      "Pole Studio Data: 1 entries\n",
      "Starting URL reconstruction...\n"
     ]
    },
    {
     "name": "stderr",
     "output_type": "stream",
     "text": [
      "2025-01-25 13:20:31,460 - INFO - Processing URL 1/1: https://www.eversports.de/s/pole-flow-berlin\n"
     ]
    },
    {
     "name": "stdout",
     "output_type": "stream",
     "text": [
      "Converting to DataFrame...\n",
      "Validating URLs...\n"
     ]
    },
    {
     "name": "stderr",
     "output_type": "stream",
     "text": [
      "2025-01-25 13:20:31,675 - INFO - URL https://www.eversports.de/s/pole-flow-berlin is valid.\n"
     ]
    },
    {
     "name": "stdout",
     "output_type": "stream",
     "text": [
      "Scraping Pole Studio Data from https://www.eversports.de/s/pole-flow-berlin...\n",
      "\n",
      "Processing completed.\n",
      "-------------------------------- \n",
      "\n"
     ]
    },
    {
     "name": "stderr",
     "output_type": "stream",
     "text": [
      "Processing URLs:  50%|█████     | 114/227 [03:34<02:41,  1.43s/it]"
     ]
    },
    {
     "name": "stdout",
     "output_type": "stream",
     "text": [
      "2025-01-25 13:20:31 - INFO - Scraping Data from: https://www.eversports.de/s/pole-flow-berlin\n",
      "Pole Studio Data: 1 entries\n",
      "Starting URL reconstruction...\n"
     ]
    },
    {
     "name": "stderr",
     "output_type": "stream",
     "text": [
      "2025-01-25 13:20:32,268 - INFO - Processing URL 1/1: https://www.eversports.de/s/pole-heaven\n"
     ]
    },
    {
     "name": "stdout",
     "output_type": "stream",
     "text": [
      "Converting to DataFrame...\n",
      "Validating URLs...\n"
     ]
    },
    {
     "name": "stderr",
     "output_type": "stream",
     "text": [
      "2025-01-25 13:20:32,882 - INFO - URL https://www.eversports.de/s/pole-heaven is valid.\n"
     ]
    },
    {
     "name": "stdout",
     "output_type": "stream",
     "text": [
      "Scraping Pole Studio Data from https://www.eversports.de/s/pole-heaven...\n"
     ]
    },
    {
     "name": "stderr",
     "output_type": "stream",
     "text": [
      "Processing URLs:  51%|█████     | 115/227 [03:35<02:33,  1.37s/it]"
     ]
    },
    {
     "name": "stdout",
     "output_type": "stream",
     "text": [
      "\n",
      "Processing completed.\n",
      "-------------------------------- \n",
      "\n",
      "2025-01-25 13:20:33 - INFO - Scraping Data from: https://www.eversports.de/s/pole-heaven\n",
      "Pole Studio Data: 1 entries\n",
      "Starting URL reconstruction...\n"
     ]
    },
    {
     "name": "stderr",
     "output_type": "stream",
     "text": [
      "2025-01-25 13:20:33,622 - INFO - Processing URL 1/1: https://www.eversports.de/s/pole-inspiration-dance-studio\n"
     ]
    },
    {
     "name": "stdout",
     "output_type": "stream",
     "text": [
      "Converting to DataFrame...\n",
      "Validating URLs...\n"
     ]
    },
    {
     "name": "stderr",
     "output_type": "stream",
     "text": [
      "2025-01-25 13:20:34,030 - INFO - URL https://www.eversports.de/s/pole-inspiration-dance-studio is valid.\n"
     ]
    },
    {
     "name": "stdout",
     "output_type": "stream",
     "text": [
      "Scraping Pole Studio Data from https://www.eversports.de/s/pole-inspiration-dance-studio...\n"
     ]
    },
    {
     "name": "stderr",
     "output_type": "stream",
     "text": [
      "Processing URLs:  51%|█████     | 116/227 [03:37<02:40,  1.45s/it]"
     ]
    },
    {
     "name": "stdout",
     "output_type": "stream",
     "text": [
      "\n",
      "Processing completed.\n",
      "-------------------------------- \n",
      "\n",
      "2025-01-25 13:20:34 - INFO - Scraping Data from: https://www.eversports.de/s/pole-inspiration-dance-studio\n",
      "Pole Studio Data: 1 entries\n",
      "Starting URL reconstruction...\n"
     ]
    },
    {
     "name": "stderr",
     "output_type": "stream",
     "text": [
      "2025-01-25 13:20:36,095 - INFO - Processing URL 1/2: https://www.eversports.de/s/pole-land\n"
     ]
    },
    {
     "name": "stdout",
     "output_type": "stream",
     "text": [
      "Converting to DataFrame...\n",
      "Validating URLs...\n"
     ]
    },
    {
     "name": "stderr",
     "output_type": "stream",
     "text": [
      "2025-01-25 13:20:36,644 - INFO - URL https://www.eversports.de/s/pole-land is valid.\n",
      "2025-01-25 13:20:36,644 - INFO - Processing URL 2/2: https://www.eversports.de/sw/pole-land\n",
      "2025-01-25 13:20:36,940 - INFO - URL https://www.eversports.de/sw/pole-land is valid.\n"
     ]
    },
    {
     "name": "stdout",
     "output_type": "stream",
     "text": [
      "Scraping Pole Studio Data from https://www.eversports.de/s/pole-land...\n",
      "Scraping Workshops Data from https://www.eversports.de/sw/pole-land...\n",
      "Scraping Workshop Details from https://www.eversports.de/e/workshop/f6U1A-N...\n",
      "Scraping Workshop Details from https://www.eversports.de/e/workshop/mjSe7rc...\n",
      "Scraping Workshop Details from https://www.eversports.de/e/workshop/V3ioj0e...\n",
      "Scraping Workshop Details from https://www.eversports.de/e/workshop/zKr1ygg...\n",
      "Scraping Workshop Details from https://www.eversports.de/e/workshop/SXrdczD...\n"
     ]
    },
    {
     "name": "stderr",
     "output_type": "stream",
     "text": [
      "Processing URLs:  52%|█████▏    | 117/227 [03:42<05:06,  2.79s/it]"
     ]
    },
    {
     "name": "stdout",
     "output_type": "stream",
     "text": [
      "\n",
      "Processing completed.\n",
      "-------------------------------- \n",
      "\n",
      "2025-01-25 13:20:40 - INFO - Scraping Data from: https://www.eversports.de/s/pole-land\n",
      "Pole Studio Data: 1 entries\n",
      "2025-01-25 13:20:40 - INFO - Scraping Data from: https://www.eversports.de/s/pole-land\n",
      "Workshops Data: 5 entries\n",
      "2025-01-25 13:20:40 - INFO - Scraping Data from: https://www.eversports.de/s/pole-land\n",
      "Workshop Details: 5 entries\n",
      "Starting URL reconstruction...\n"
     ]
    },
    {
     "name": "stderr",
     "output_type": "stream",
     "text": [
      "2025-01-25 13:20:41,138 - INFO - Processing URL 1/1: https://www.eversports.de/s/pole-oase\n"
     ]
    },
    {
     "name": "stdout",
     "output_type": "stream",
     "text": [
      "Converting to DataFrame...\n",
      "Validating URLs...\n"
     ]
    },
    {
     "name": "stderr",
     "output_type": "stream",
     "text": [
      "2025-01-25 13:20:41,550 - INFO - URL https://www.eversports.de/s/pole-oase is valid.\n"
     ]
    },
    {
     "name": "stdout",
     "output_type": "stream",
     "text": [
      "Scraping Pole Studio Data from https://www.eversports.de/s/pole-oase...\n"
     ]
    },
    {
     "name": "stderr",
     "output_type": "stream",
     "text": [
      "Processing URLs:  52%|█████▏    | 118/227 [03:44<04:15,  2.35s/it]"
     ]
    },
    {
     "name": "stdout",
     "output_type": "stream",
     "text": [
      "\n",
      "Processing completed.\n",
      "-------------------------------- \n",
      "\n",
      "2025-01-25 13:20:41 - INFO - Scraping Data from: https://www.eversports.de/s/pole-oase\n",
      "Pole Studio Data: 1 entries\n",
      "Starting URL reconstruction...\n"
     ]
    },
    {
     "name": "stderr",
     "output_type": "stream",
     "text": [
      "2025-01-25 13:20:42,592 - INFO - Processing URL 1/2: https://www.eversports.de/s/pole-paradise\n"
     ]
    },
    {
     "name": "stdout",
     "output_type": "stream",
     "text": [
      "Converting to DataFrame...\n",
      "Validating URLs...\n"
     ]
    },
    {
     "name": "stderr",
     "output_type": "stream",
     "text": [
      "2025-01-25 13:20:43,232 - INFO - URL https://www.eversports.de/s/pole-paradise is valid.\n",
      "2025-01-25 13:20:43,233 - INFO - Processing URL 2/2: https://www.eversports.de/sw/pole-paradise\n",
      "2025-01-25 13:20:43,432 - INFO - URL https://www.eversports.de/sw/pole-paradise is valid.\n"
     ]
    },
    {
     "name": "stdout",
     "output_type": "stream",
     "text": [
      "Scraping Pole Studio Data from https://www.eversports.de/s/pole-paradise...\n",
      "Scraping Workshops Data from https://www.eversports.de/sw/pole-paradise...\n",
      "Scraping Workshop Details from https://www.eversports.de/e/workshop/Aic-m55...\n",
      "Scraping Workshop Details from https://www.eversports.de/e/workshop/n6kdzoV...\n",
      "Scraping Workshop Details from https://www.eversports.de/e/workshop/SE3jcWr...\n"
     ]
    },
    {
     "name": "stderr",
     "output_type": "stream",
     "text": [
      "Processing URLs:  52%|█████▏    | 119/227 [03:48<05:02,  2.80s/it]"
     ]
    },
    {
     "name": "stdout",
     "output_type": "stream",
     "text": [
      "\n",
      "Processing completed.\n",
      "-------------------------------- \n",
      "\n",
      "2025-01-25 13:20:45 - INFO - Scraping Data from: https://www.eversports.de/s/pole-paradise\n",
      "Pole Studio Data: 1 entries\n",
      "2025-01-25 13:20:45 - INFO - Scraping Data from: https://www.eversports.de/s/pole-paradise\n",
      "Workshops Data: 3 entries\n",
      "2025-01-25 13:20:45 - INFO - Scraping Data from: https://www.eversports.de/s/pole-paradise\n",
      "Workshop Details: 3 entries\n",
      "Starting URL reconstruction...\n"
     ]
    },
    {
     "name": "stderr",
     "output_type": "stream",
     "text": [
      "2025-01-25 13:20:46,118 - INFO - Processing URL 1/1: https://www.eversports.de/s/pole-passion-bielefeld\n"
     ]
    },
    {
     "name": "stdout",
     "output_type": "stream",
     "text": [
      "Converting to DataFrame...\n",
      "Validating URLs...\n"
     ]
    },
    {
     "name": "stderr",
     "output_type": "stream",
     "text": [
      "2025-01-25 13:20:46,433 - INFO - URL https://www.eversports.de/s/pole-passion-bielefeld is valid.\n"
     ]
    },
    {
     "name": "stdout",
     "output_type": "stream",
     "text": [
      "Scraping Pole Studio Data from https://www.eversports.de/s/pole-passion-bielefeld...\n"
     ]
    },
    {
     "name": "stderr",
     "output_type": "stream",
     "text": [
      "Processing URLs:  53%|█████▎    | 120/227 [03:49<03:59,  2.24s/it]"
     ]
    },
    {
     "name": "stdout",
     "output_type": "stream",
     "text": [
      "\n",
      "Processing completed.\n",
      "-------------------------------- \n",
      "\n",
      "2025-01-25 13:20:46 - INFO - Scraping Data from: https://www.eversports.de/s/pole-passion-bielefeld\n",
      "Pole Studio Data: 1 entries\n",
      "Starting URL reconstruction...\n"
     ]
    },
    {
     "name": "stderr",
     "output_type": "stream",
     "text": [
      "2025-01-25 13:20:47,119 - INFO - Processing URL 1/2: https://www.eversports.de/s/pole-plus\n"
     ]
    },
    {
     "name": "stdout",
     "output_type": "stream",
     "text": [
      "Converting to DataFrame...\n",
      "Validating URLs...\n"
     ]
    },
    {
     "name": "stderr",
     "output_type": "stream",
     "text": [
      "2025-01-25 13:20:48,277 - INFO - URL https://www.eversports.de/s/pole-plus is valid.\n",
      "2025-01-25 13:20:48,278 - INFO - Processing URL 2/2: https://www.eversports.de/sw/pole-plus\n",
      "2025-01-25 13:20:48,591 - INFO - URL https://www.eversports.de/sw/pole-plus is valid.\n"
     ]
    },
    {
     "name": "stdout",
     "output_type": "stream",
     "text": [
      "Scraping Pole Studio Data from https://www.eversports.de/s/pole-plus...\n",
      "Scraping Workshops Data from https://www.eversports.de/sw/pole-plus...\n",
      "Scraping Workshop Details from https://www.eversports.de/e/workshop/pnvfcFB...\n",
      "Scraping Workshop Details from https://www.eversports.de/e/workshop/5u0pA8J...\n",
      "Scraping Workshop Details from https://www.eversports.de/e/workshop/zjIBnfl...\n",
      "Scraping Workshop Details from https://www.eversports.de/e/workshop/c4prlTY...\n"
     ]
    },
    {
     "name": "stderr",
     "output_type": "stream",
     "text": [
      "Processing URLs:  53%|█████▎    | 121/227 [03:54<05:31,  3.13s/it]"
     ]
    },
    {
     "name": "stdout",
     "output_type": "stream",
     "text": [
      "\n",
      "Processing completed.\n",
      "-------------------------------- \n",
      "\n",
      "2025-01-25 13:20:51 - INFO - Scraping Data from: https://www.eversports.de/s/pole-plus\n",
      "Pole Studio Data: 1 entries\n",
      "2025-01-25 13:20:51 - INFO - Scraping Data from: https://www.eversports.de/s/pole-plus\n",
      "Workshops Data: 4 entries\n",
      "2025-01-25 13:20:51 - INFO - Scraping Data from: https://www.eversports.de/s/pole-plus\n",
      "Workshop Details: 4 entries\n",
      "Starting URL reconstruction...\n"
     ]
    },
    {
     "name": "stderr",
     "output_type": "stream",
     "text": [
      "2025-01-25 13:20:52,442 - INFO - Processing URL 1/1: https://www.eversports.de/s/pole-statement\n"
     ]
    },
    {
     "name": "stdout",
     "output_type": "stream",
     "text": [
      "Converting to DataFrame...\n",
      "Validating URLs...\n"
     ]
    },
    {
     "name": "stderr",
     "output_type": "stream",
     "text": [
      "2025-01-25 13:20:52,793 - INFO - URL https://www.eversports.de/s/pole-statement is valid.\n"
     ]
    },
    {
     "name": "stdout",
     "output_type": "stream",
     "text": [
      "Scraping Pole Studio Data from https://www.eversports.de/s/pole-statement...\n"
     ]
    },
    {
     "name": "stderr",
     "output_type": "stream",
     "text": [
      "Processing URLs:  54%|█████▎    | 122/227 [03:55<04:26,  2.54s/it]"
     ]
    },
    {
     "name": "stdout",
     "output_type": "stream",
     "text": [
      "\n",
      "Processing completed.\n",
      "-------------------------------- \n",
      "\n",
      "2025-01-25 13:20:53 - INFO - Scraping Data from: https://www.eversports.de/s/pole-statement\n",
      "Pole Studio Data: 1 entries\n",
      "Starting URL reconstruction...\n"
     ]
    },
    {
     "name": "stderr",
     "output_type": "stream",
     "text": [
      "2025-01-25 13:20:53,726 - INFO - Processing URL 1/2: https://www.eversports.de/s/pole-werk-by-nelly\n"
     ]
    },
    {
     "name": "stdout",
     "output_type": "stream",
     "text": [
      "Converting to DataFrame...\n",
      "Validating URLs...\n"
     ]
    },
    {
     "name": "stderr",
     "output_type": "stream",
     "text": [
      "2025-01-25 13:20:56,079 - INFO - URL https://www.eversports.de/s/pole-werk-by-nelly is valid.\n",
      "2025-01-25 13:20:56,080 - INFO - Processing URL 2/2: https://www.eversports.de/sw/pole-werk-by-nelly\n",
      "2025-01-25 13:20:56,315 - INFO - URL https://www.eversports.de/sw/pole-werk-by-nelly is valid.\n"
     ]
    },
    {
     "name": "stdout",
     "output_type": "stream",
     "text": [
      "Scraping Pole Studio Data from https://www.eversports.de/s/pole-werk-by-nelly...\n",
      "Scraping Workshops Data from https://www.eversports.de/sw/pole-werk-by-nelly...\n",
      "Scraping Workshop Details from https://www.eversports.de/e/workshop/T7MASa6...\n",
      "Scraping Workshop Details from https://www.eversports.de/e/workshop/C_usLxV...\n"
     ]
    },
    {
     "name": "stderr",
     "output_type": "stream",
     "text": [
      "Processing URLs:  54%|█████▍    | 123/227 [04:02<07:00,  4.04s/it]"
     ]
    },
    {
     "name": "stdout",
     "output_type": "stream",
     "text": [
      "\n",
      "Processing completed.\n",
      "-------------------------------- \n",
      "\n",
      "2025-01-25 13:21:00 - INFO - Scraping Data from: https://www.eversports.de/s/pole-werk-by-nelly\n",
      "Pole Studio Data: 1 entries\n",
      "2025-01-25 13:21:00 - INFO - Scraping Data from: https://www.eversports.de/s/pole-werk-by-nelly\n",
      "Workshops Data: 2 entries\n",
      "2025-01-25 13:21:00 - INFO - Scraping Data from: https://www.eversports.de/s/pole-werk-by-nelly\n",
      "Workshop Details: 2 entries\n",
      "Starting URL reconstruction...\n"
     ]
    },
    {
     "name": "stderr",
     "output_type": "stream",
     "text": [
      "2025-01-25 13:21:01,083 - INFO - Processing URL 1/1: https://www.eversports.de/s/pole-and-art\n"
     ]
    },
    {
     "name": "stdout",
     "output_type": "stream",
     "text": [
      "Converting to DataFrame...\n",
      "Validating URLs...\n"
     ]
    },
    {
     "name": "stderr",
     "output_type": "stream",
     "text": [
      "2025-01-25 13:21:01,392 - INFO - URL https://www.eversports.de/s/pole-and-art is valid.\n"
     ]
    },
    {
     "name": "stdout",
     "output_type": "stream",
     "text": [
      "Scraping Pole Studio Data from https://www.eversports.de/s/pole-and-art...\n"
     ]
    },
    {
     "name": "stderr",
     "output_type": "stream",
     "text": [
      "Processing URLs:  55%|█████▍    | 124/227 [04:04<05:29,  3.19s/it]"
     ]
    },
    {
     "name": "stdout",
     "output_type": "stream",
     "text": [
      "\n",
      "Processing completed.\n",
      "-------------------------------- \n",
      "\n",
      "2025-01-25 13:21:01 - INFO - Scraping Data from: https://www.eversports.de/s/pole-and-art\n",
      "Pole Studio Data: 1 entries\n",
      "Starting URL reconstruction...\n"
     ]
    },
    {
     "name": "stderr",
     "output_type": "stream",
     "text": [
      "2025-01-25 13:21:02,701 - INFO - Processing URL 1/2: https://www.eversports.de/s/pole-and-move-heidelberg\n"
     ]
    },
    {
     "name": "stdout",
     "output_type": "stream",
     "text": [
      "Converting to DataFrame...\n",
      "Validating URLs...\n"
     ]
    },
    {
     "name": "stderr",
     "output_type": "stream",
     "text": [
      "2025-01-25 13:21:03,220 - INFO - URL https://www.eversports.de/s/pole-and-move-heidelberg is valid.\n",
      "2025-01-25 13:21:03,220 - INFO - Processing URL 2/2: https://www.eversports.de/sw/pole-and-move-heidelberg\n",
      "2025-01-25 13:21:04,876 - INFO - URL https://www.eversports.de/sw/pole-and-move-heidelberg is valid.\n"
     ]
    },
    {
     "name": "stdout",
     "output_type": "stream",
     "text": [
      "Scraping Pole Studio Data from https://www.eversports.de/s/pole-and-move-heidelberg...\n",
      "Scraping Workshops Data from https://www.eversports.de/sw/pole-and-move-heidelberg...\n",
      "Scraping Workshop Details from https://www.eversports.de/e/workshop/h7bRnnv...\n",
      "Scraping Workshop Details from https://www.eversports.de/e/workshop/ZI_pGiY...\n",
      "Scraping Workshop Details from https://www.eversports.de/e/workshop/xY2QDkj...\n",
      "Scraping Workshop Details from https://www.eversports.de/e/workshop/1PtGnoY...\n",
      "Scraping Workshop Details from https://www.eversports.de/e/workshop/hBIbrJG...\n",
      "Scraping Workshop Details from https://www.eversports.de/e/workshop/nrkK3Zr...\n",
      "Scraping Workshop Details from https://www.eversports.de/e/workshop/-yMEPGU...\n",
      "Scraping Workshop Details from https://www.eversports.de/e/workshop/quMKyvp...\n",
      "Scraping Workshop Details from https://www.eversports.de/e/workshop/shW7t9f...\n",
      "Scraping Workshop Details from https://www.eversports.de/e/workshop/Ycv0k-o...\n"
     ]
    },
    {
     "name": "stderr",
     "output_type": "stream",
     "text": [
      "Processing URLs:  55%|█████▌    | 125/227 [04:11<07:45,  4.56s/it]"
     ]
    },
    {
     "name": "stdout",
     "output_type": "stream",
     "text": [
      "\n",
      "Processing completed.\n",
      "-------------------------------- \n",
      "\n",
      "2025-01-25 13:21:09 - INFO - Scraping Data from: https://www.eversports.de/s/pole-and-move-heidelberg\n",
      "Pole Studio Data: 1 entries\n",
      "2025-01-25 13:21:09 - INFO - Scraping Data from: https://www.eversports.de/s/pole-and-move-heidelberg\n",
      "Workshops Data: 10 entries\n",
      "2025-01-25 13:21:09 - INFO - Scraping Data from: https://www.eversports.de/s/pole-and-move-heidelberg\n",
      "Workshop Details: 10 entries\n",
      "Starting URL reconstruction...\n"
     ]
    },
    {
     "name": "stderr",
     "output_type": "stream",
     "text": [
      "2025-01-25 13:21:10,288 - INFO - Processing URL 1/2: https://www.eversports.de/s/pole-and-move-ketsch\n"
     ]
    },
    {
     "name": "stdout",
     "output_type": "stream",
     "text": [
      "Converting to DataFrame...\n",
      "Validating URLs...\n"
     ]
    },
    {
     "name": "stderr",
     "output_type": "stream",
     "text": [
      "2025-01-25 13:21:10,740 - INFO - URL https://www.eversports.de/s/pole-and-move-ketsch is valid.\n",
      "2025-01-25 13:21:10,741 - INFO - Processing URL 2/2: https://www.eversports.de/sw/pole-and-move-ketsch\n",
      "2025-01-25 13:21:11,333 - INFO - URL https://www.eversports.de/sw/pole-and-move-ketsch is valid.\n"
     ]
    },
    {
     "name": "stdout",
     "output_type": "stream",
     "text": [
      "Scraping Pole Studio Data from https://www.eversports.de/s/pole-and-move-ketsch...\n",
      "Scraping Workshops Data from https://www.eversports.de/sw/pole-and-move-ketsch...\n",
      "Scraping Workshop Details from https://www.eversports.de/e/workshop/vtF7wFY...\n",
      "Scraping Workshop Details from https://www.eversports.de/e/workshop/ExbS3tJ...\n",
      "Scraping Workshop Details from https://www.eversports.de/e/workshop/phWl1gN...\n",
      "Scraping Workshop Details from https://www.eversports.de/e/workshop/Ns2rc-u...\n",
      "Scraping Workshop Details from https://www.eversports.de/e/workshop/X52GZ6L...\n",
      "Scraping Workshop Details from https://www.eversports.de/e/workshop/7Ycgz3p...\n",
      "Scraping Workshop Details from https://www.eversports.de/e/workshop/wibDCs2...\n"
     ]
    },
    {
     "name": "stderr",
     "output_type": "stream",
     "text": [
      "Processing URLs:  56%|█████▌    | 126/227 [04:17<08:13,  4.89s/it]"
     ]
    },
    {
     "name": "stdout",
     "output_type": "stream",
     "text": [
      "\n",
      "Processing completed.\n",
      "-------------------------------- \n",
      "\n",
      "2025-01-25 13:21:15 - INFO - Scraping Data from: https://www.eversports.de/s/pole-and-move-ketsch\n",
      "Pole Studio Data: 1 entries\n",
      "2025-01-25 13:21:15 - INFO - Scraping Data from: https://www.eversports.de/s/pole-and-move-ketsch\n",
      "Workshops Data: 7 entries\n",
      "2025-01-25 13:21:15 - INFO - Scraping Data from: https://www.eversports.de/s/pole-and-move-ketsch\n",
      "Workshop Details: 7 entries\n",
      "Starting URL reconstruction...\n"
     ]
    },
    {
     "name": "stderr",
     "output_type": "stream",
     "text": [
      "2025-01-25 13:21:15,716 - INFO - Processing URL 1/2: https://www.eversports.de/s/pole-and-move-ludwigshafen\n"
     ]
    },
    {
     "name": "stdout",
     "output_type": "stream",
     "text": [
      "Converting to DataFrame...\n",
      "Validating URLs...\n"
     ]
    },
    {
     "name": "stderr",
     "output_type": "stream",
     "text": [
      "2025-01-25 13:21:16,218 - INFO - URL https://www.eversports.de/s/pole-and-move-ludwigshafen is valid.\n",
      "2025-01-25 13:21:16,218 - INFO - Processing URL 2/2: https://www.eversports.de/sw/pole-and-move-ludwigshafen\n",
      "2025-01-25 13:21:16,578 - INFO - URL https://www.eversports.de/sw/pole-and-move-ludwigshafen is valid.\n"
     ]
    },
    {
     "name": "stdout",
     "output_type": "stream",
     "text": [
      "Scraping Pole Studio Data from https://www.eversports.de/s/pole-and-move-ludwigshafen...\n",
      "Scraping Workshops Data from https://www.eversports.de/sw/pole-and-move-ludwigshafen...\n",
      "Scraping Workshop Details from https://www.eversports.de/e/workshop/zefw31D...\n",
      "Scraping Workshop Details from https://www.eversports.de/e/workshop/N7wBBiP...\n"
     ]
    },
    {
     "name": "stderr",
     "output_type": "stream",
     "text": [
      "Processing URLs:  56%|█████▌    | 127/227 [04:20<07:23,  4.43s/it]"
     ]
    },
    {
     "name": "stdout",
     "output_type": "stream",
     "text": [
      "\n",
      "Processing completed.\n",
      "-------------------------------- \n",
      "\n",
      "2025-01-25 13:21:18 - INFO - Scraping Data from: https://www.eversports.de/s/pole-and-move-ludwigshafen\n",
      "Pole Studio Data: 1 entries\n",
      "2025-01-25 13:21:18 - INFO - Scraping Data from: https://www.eversports.de/s/pole-and-move-ludwigshafen\n",
      "Workshops Data: 2 entries\n",
      "2025-01-25 13:21:18 - INFO - Scraping Data from: https://www.eversports.de/s/pole-and-move-ludwigshafen\n",
      "Workshop Details: 2 entries\n",
      "Starting URL reconstruction...\n"
     ]
    },
    {
     "name": "stderr",
     "output_type": "stream",
     "text": [
      "2025-01-25 13:21:19,208 - INFO - Processing URL 1/2: https://www.eversports.de/s/pole-and-move-mannheim\n"
     ]
    },
    {
     "name": "stdout",
     "output_type": "stream",
     "text": [
      "Converting to DataFrame...\n",
      "Validating URLs...\n"
     ]
    },
    {
     "name": "stderr",
     "output_type": "stream",
     "text": [
      "2025-01-25 13:21:19,624 - INFO - URL https://www.eversports.de/s/pole-and-move-mannheim is valid.\n",
      "2025-01-25 13:21:19,625 - INFO - Processing URL 2/2: https://www.eversports.de/sw/pole-and-move-mannheim\n",
      "2025-01-25 13:21:20,391 - INFO - URL https://www.eversports.de/sw/pole-and-move-mannheim is valid.\n"
     ]
    },
    {
     "name": "stdout",
     "output_type": "stream",
     "text": [
      "Scraping Pole Studio Data from https://www.eversports.de/s/pole-and-move-mannheim...\n",
      "Scraping Workshops Data from https://www.eversports.de/sw/pole-and-move-mannheim...\n",
      "Scraping Workshop Details from https://www.eversports.de/e/workshop/exgSvSJ...\n",
      "Scraping Workshop Details from https://www.eversports.de/e/workshop/QpSRDO9...\n",
      "Scraping Workshop Details from https://www.eversports.de/e/workshop/SQ5Rw6v...\n",
      "Scraping Workshop Details from https://www.eversports.de/e/workshop/e4wDLBF...\n",
      "Scraping Workshop Details from https://www.eversports.de/e/workshop/LzkarSL...\n",
      "Scraping Workshop Details from https://www.eversports.de/e/workshop/p5r29UE...\n",
      "Scraping Workshop Details from https://www.eversports.de/e/workshop/ap-kAEF...\n"
     ]
    },
    {
     "name": "stderr",
     "output_type": "stream",
     "text": [
      "Processing URLs:  56%|█████▋    | 128/227 [04:27<08:18,  5.03s/it]"
     ]
    },
    {
     "name": "stdout",
     "output_type": "stream",
     "text": [
      "\n",
      "Processing completed.\n",
      "-------------------------------- \n",
      "\n",
      "2025-01-25 13:21:25 - INFO - Scraping Data from: https://www.eversports.de/s/pole-and-move-mannheim\n",
      "Pole Studio Data: 1 entries\n",
      "2025-01-25 13:21:25 - INFO - Scraping Data from: https://www.eversports.de/s/pole-and-move-mannheim\n",
      "Workshops Data: 7 entries\n",
      "2025-01-25 13:21:25 - INFO - Scraping Data from: https://www.eversports.de/s/pole-and-move-mannheim\n",
      "Workshop Details: 7 entries\n",
      "Starting URL reconstruction...\n"
     ]
    },
    {
     "name": "stderr",
     "output_type": "stream",
     "text": [
      "2025-01-25 13:21:25,950 - INFO - Processing URL 1/1: https://www.eversports.de/s/pole-and-move-online-studio\n"
     ]
    },
    {
     "name": "stdout",
     "output_type": "stream",
     "text": [
      "Converting to DataFrame...\n",
      "Validating URLs...\n"
     ]
    },
    {
     "name": "stderr",
     "output_type": "stream",
     "text": [
      "2025-01-25 13:21:26,323 - INFO - URL https://www.eversports.de/s/pole-and-move-online-studio is valid.\n"
     ]
    },
    {
     "name": "stdout",
     "output_type": "stream",
     "text": [
      "Scraping Pole Studio Data from https://www.eversports.de/s/pole-and-move-online-studio...\n"
     ]
    },
    {
     "name": "stderr",
     "output_type": "stream",
     "text": [
      "Processing URLs:  57%|█████▋    | 129/227 [04:29<06:36,  4.04s/it]"
     ]
    },
    {
     "name": "stdout",
     "output_type": "stream",
     "text": [
      "\n",
      "Processing completed.\n",
      "-------------------------------- \n",
      "\n",
      "2025-01-25 13:21:26 - INFO - Scraping Data from: https://www.eversports.de/s/pole-and-move-online-studio\n",
      "Pole Studio Data: 1 entries\n",
      "Starting URL reconstruction...\n"
     ]
    },
    {
     "name": "stderr",
     "output_type": "stream",
     "text": [
      "2025-01-25 13:21:27,272 - INFO - Processing URL 1/1: https://www.eversports.de/s/pole-dance-with-lise\n"
     ]
    },
    {
     "name": "stdout",
     "output_type": "stream",
     "text": [
      "Converting to DataFrame...\n",
      "Validating URLs...\n"
     ]
    },
    {
     "name": "stderr",
     "output_type": "stream",
     "text": [
      "2025-01-25 13:21:27,536 - INFO - URL https://www.eversports.de/s/pole-dance-with-lise is valid.\n"
     ]
    },
    {
     "name": "stdout",
     "output_type": "stream",
     "text": [
      "Scraping Pole Studio Data from https://www.eversports.de/s/pole-dance-with-lise...\n"
     ]
    },
    {
     "name": "stderr",
     "output_type": "stream",
     "text": [
      "Processing URLs:  58%|█████▊    | 131/227 [04:30<03:33,  2.23s/it]"
     ]
    },
    {
     "name": "stdout",
     "output_type": "stream",
     "text": [
      "\n",
      "Processing completed.\n",
      "-------------------------------- \n",
      "\n",
      "2025-01-25 13:21:27 - INFO - Scraping Data from: https://www.eversports.de/s/pole-dance-with-lise\n",
      "Pole Studio Data: 1 entries\n",
      "Starting URL reconstruction...\n",
      "Error during HTTP request: 404 Client Error: Not Found for url: https://www.eversports.de/s/pole-fitness-waterloo\n",
      "Converting to DataFrame...\n",
      "Validating URLs...\n",
      "\n",
      "Processing completed.\n",
      "-------------------------------- \n",
      "\n",
      "Starting URL reconstruction...\n"
     ]
    },
    {
     "name": "stderr",
     "output_type": "stream",
     "text": [
      "2025-01-25 13:21:28,444 - INFO - Processing URL 1/2: https://www.eversports.de/s/pole-for-soul-gbr\n"
     ]
    },
    {
     "name": "stdout",
     "output_type": "stream",
     "text": [
      "Converting to DataFrame...\n",
      "Validating URLs...\n"
     ]
    },
    {
     "name": "stderr",
     "output_type": "stream",
     "text": [
      "2025-01-25 13:21:28,727 - INFO - URL https://www.eversports.de/s/pole-for-soul-gbr is valid.\n",
      "2025-01-25 13:21:28,727 - INFO - Processing URL 2/2: https://www.eversports.de/sw/pole-for-soul-gbr\n",
      "2025-01-25 13:21:29,100 - INFO - URL https://www.eversports.de/sw/pole-for-soul-gbr is valid.\n"
     ]
    },
    {
     "name": "stdout",
     "output_type": "stream",
     "text": [
      "Scraping Pole Studio Data from https://www.eversports.de/s/pole-for-soul-gbr...\n",
      "Scraping Workshops Data from https://www.eversports.de/sw/pole-for-soul-gbr...\n",
      "Scraping Workshop Details from https://www.eversports.de/e/workshop/s23w-GY...\n",
      "Scraping Workshop Details from https://www.eversports.de/e/workshop/W7Q0dK5...\n",
      "Scraping Workshop Details from https://www.eversports.de/e/workshop/kh-pap1...\n",
      "Scraping Workshop Details from https://www.eversports.de/e/workshop/CtIZBpe...\n",
      "Scraping Workshop Details from https://www.eversports.de/e/workshop/qDUNI3I...\n",
      "Scraping Workshop Details from https://www.eversports.de/e/workshop/zkhsc_K...\n",
      "Scraping Workshop Details from https://www.eversports.de/e/workshop/LyXhIEh...\n",
      "Scraping Workshop Details from https://www.eversports.de/e/workshop/YUC2Bra...\n"
     ]
    },
    {
     "name": "stderr",
     "output_type": "stream",
     "text": [
      "Processing URLs:  58%|█████▊    | 132/227 [04:35<04:49,  3.05s/it]"
     ]
    },
    {
     "name": "stdout",
     "output_type": "stream",
     "text": [
      "\n",
      "Processing completed.\n",
      "-------------------------------- \n",
      "\n",
      "2025-01-25 13:21:32 - INFO - Scraping Data from: https://www.eversports.de/s/pole-for-soul-gbr\n",
      "Pole Studio Data: 1 entries\n",
      "2025-01-25 13:21:32 - INFO - Scraping Data from: https://www.eversports.de/s/pole-for-soul-gbr\n",
      "Workshops Data: 8 entries\n",
      "2025-01-25 13:21:32 - INFO - Scraping Data from: https://www.eversports.de/s/pole-for-soul-gbr\n",
      "Workshop Details: 8 entries\n",
      "Starting URL reconstruction...\n"
     ]
    },
    {
     "name": "stderr",
     "output_type": "stream",
     "text": [
      "2025-01-25 13:21:33,315 - INFO - Processing URL 1/1: https://www.eversports.de/s/pole-your-body\n"
     ]
    },
    {
     "name": "stdout",
     "output_type": "stream",
     "text": [
      "Converting to DataFrame...\n",
      "Validating URLs...\n"
     ]
    },
    {
     "name": "stderr",
     "output_type": "stream",
     "text": [
      "2025-01-25 13:21:33,599 - INFO - URL https://www.eversports.de/s/pole-your-body is valid.\n"
     ]
    },
    {
     "name": "stdout",
     "output_type": "stream",
     "text": [
      "Scraping Pole Studio Data from https://www.eversports.de/s/pole-your-body...\n"
     ]
    },
    {
     "name": "stderr",
     "output_type": "stream",
     "text": [
      "Processing URLs:  59%|█████▊    | 133/227 [04:36<03:47,  2.42s/it]"
     ]
    },
    {
     "name": "stdout",
     "output_type": "stream",
     "text": [
      "\n",
      "Processing completed.\n",
      "-------------------------------- \n",
      "\n",
      "2025-01-25 13:21:33 - INFO - Scraping Data from: https://www.eversports.de/s/pole-your-body\n",
      "Pole Studio Data: 1 entries\n",
      "Starting URL reconstruction...\n"
     ]
    },
    {
     "name": "stderr",
     "output_type": "stream",
     "text": [
      "2025-01-25 13:21:35,268 - INFO - Processing URL 1/1: https://www.eversports.de/s/pole-formance\n"
     ]
    },
    {
     "name": "stdout",
     "output_type": "stream",
     "text": [
      "Converting to DataFrame...\n",
      "Validating URLs...\n"
     ]
    },
    {
     "name": "stderr",
     "output_type": "stream",
     "text": [
      "2025-01-25 13:21:36,495 - INFO - URL https://www.eversports.de/s/pole-formance is valid.\n"
     ]
    },
    {
     "name": "stdout",
     "output_type": "stream",
     "text": [
      "Scraping Pole Studio Data from https://www.eversports.de/s/pole-formance...\n"
     ]
    },
    {
     "name": "stderr",
     "output_type": "stream",
     "text": [
      "Processing URLs:  59%|█████▉    | 134/227 [04:40<04:28,  2.89s/it]"
     ]
    },
    {
     "name": "stdout",
     "output_type": "stream",
     "text": [
      "\n",
      "Processing completed.\n",
      "-------------------------------- \n",
      "\n",
      "2025-01-25 13:21:37 - INFO - Scraping Data from: https://www.eversports.de/s/pole-formance\n",
      "Pole Studio Data: 1 entries\n",
      "Starting URL reconstruction...\n"
     ]
    },
    {
     "name": "stderr",
     "output_type": "stream",
     "text": [
      "Processing URLs:  59%|█████▉    | 135/227 [04:40<03:11,  2.08s/it]"
     ]
    },
    {
     "name": "stdout",
     "output_type": "stream",
     "text": [
      "Error during HTTP request: 404 Client Error: Not Found for url: https://www.eversports.de/s/polecats\n",
      "Converting to DataFrame...\n",
      "Validating URLs...\n",
      "\n",
      "Processing completed.\n",
      "-------------------------------- \n",
      "\n",
      "Starting URL reconstruction...\n"
     ]
    },
    {
     "name": "stderr",
     "output_type": "stream",
     "text": [
      "2025-01-25 13:21:38,658 - INFO - Processing URL 1/2: https://www.eversports.de/s/polecreation\n"
     ]
    },
    {
     "name": "stdout",
     "output_type": "stream",
     "text": [
      "Converting to DataFrame...\n",
      "Validating URLs...\n"
     ]
    },
    {
     "name": "stderr",
     "output_type": "stream",
     "text": [
      "2025-01-25 13:21:38,996 - INFO - URL https://www.eversports.de/s/polecreation is valid.\n",
      "2025-01-25 13:21:38,996 - INFO - Processing URL 2/2: https://www.eversports.de/sw/polecreation\n",
      "2025-01-25 13:21:39,304 - INFO - URL https://www.eversports.de/sw/polecreation is valid.\n"
     ]
    },
    {
     "name": "stdout",
     "output_type": "stream",
     "text": [
      "Scraping Pole Studio Data from https://www.eversports.de/s/polecreation...\n",
      "Scraping Workshops Data from https://www.eversports.de/sw/polecreation...\n",
      "Scraping Workshop Details from https://www.eversports.de/e/workshop/pE8Ileg...\n",
      "Scraping Workshop Details from https://www.eversports.de/e/workshop/M4bNlmk...\n"
     ]
    },
    {
     "name": "stderr",
     "output_type": "stream",
     "text": [
      "Processing URLs:  60%|█████▉    | 136/227 [04:42<03:22,  2.23s/it]"
     ]
    },
    {
     "name": "stdout",
     "output_type": "stream",
     "text": [
      "\n",
      "Processing completed.\n",
      "-------------------------------- \n",
      "\n",
      "2025-01-25 13:21:40 - INFO - Scraping Data from: https://www.eversports.de/s/polecreation\n",
      "Pole Studio Data: 1 entries\n",
      "2025-01-25 13:21:40 - INFO - Scraping Data from: https://www.eversports.de/s/polecreation\n",
      "Workshops Data: 2 entries\n",
      "2025-01-25 13:21:40 - INFO - Scraping Data from: https://www.eversports.de/s/polecreation\n",
      "Workshop Details: 2 entries\n",
      "Starting URL reconstruction...\n"
     ]
    },
    {
     "name": "stderr",
     "output_type": "stream",
     "text": [
      "2025-01-25 13:21:41,015 - INFO - Processing URL 1/2: https://www.eversports.de/s/polefit-aline-sustrath\n"
     ]
    },
    {
     "name": "stdout",
     "output_type": "stream",
     "text": [
      "Converting to DataFrame...\n",
      "Validating URLs...\n"
     ]
    },
    {
     "name": "stderr",
     "output_type": "stream",
     "text": [
      "2025-01-25 13:21:41,395 - INFO - URL https://www.eversports.de/s/polefit-aline-sustrath is valid.\n",
      "2025-01-25 13:21:41,397 - INFO - Processing URL 2/2: https://www.eversports.de/sw/polefit-aline-sustrath\n",
      "2025-01-25 13:21:41,623 - INFO - URL https://www.eversports.de/sw/polefit-aline-sustrath is valid.\n"
     ]
    },
    {
     "name": "stdout",
     "output_type": "stream",
     "text": [
      "Scraping Pole Studio Data from https://www.eversports.de/s/polefit-aline-sustrath...\n",
      "Scraping Workshops Data from https://www.eversports.de/sw/polefit-aline-sustrath...\n",
      "Scraping Workshop Details from https://www.eversports.de/e/workshop/tCr26Fh...\n",
      "Scraping Workshop Details from https://www.eversports.de/e/workshop/fg0Rjqg...\n",
      "Scraping Workshop Details from https://www.eversports.de/e/workshop/_Yk80_C...\n"
     ]
    },
    {
     "name": "stderr",
     "output_type": "stream",
     "text": [
      "Processing URLs:  60%|██████    | 137/227 [04:46<03:53,  2.59s/it]"
     ]
    },
    {
     "name": "stdout",
     "output_type": "stream",
     "text": [
      "\n",
      "Processing completed.\n",
      "-------------------------------- \n",
      "\n",
      "2025-01-25 13:21:44 - INFO - Scraping Data from: https://www.eversports.de/s/polefit-aline-sustrath\n",
      "Pole Studio Data: 1 entries\n",
      "2025-01-25 13:21:44 - INFO - Scraping Data from: https://www.eversports.de/s/polefit-aline-sustrath\n",
      "Workshops Data: 3 entries\n",
      "2025-01-25 13:21:44 - INFO - Scraping Data from: https://www.eversports.de/s/polefit-aline-sustrath\n",
      "Workshop Details: 3 entries\n",
      "Starting URL reconstruction...\n"
     ]
    },
    {
     "name": "stderr",
     "output_type": "stream",
     "text": [
      "2025-01-25 13:21:44,710 - INFO - Processing URL 1/1: https://www.eversports.de/s/polefitness-leipzig\n"
     ]
    },
    {
     "name": "stdout",
     "output_type": "stream",
     "text": [
      "Converting to DataFrame...\n",
      "Validating URLs...\n"
     ]
    },
    {
     "name": "stderr",
     "output_type": "stream",
     "text": [
      "2025-01-25 13:21:45,093 - INFO - URL https://www.eversports.de/s/polefitness-leipzig is valid.\n"
     ]
    },
    {
     "name": "stdout",
     "output_type": "stream",
     "text": [
      "Scraping Pole Studio Data from https://www.eversports.de/s/polefitness-leipzig...\n"
     ]
    },
    {
     "name": "stderr",
     "output_type": "stream",
     "text": [
      "Processing URLs:  61%|██████    | 138/227 [04:47<03:16,  2.21s/it]"
     ]
    },
    {
     "name": "stdout",
     "output_type": "stream",
     "text": [
      "\n",
      "Processing completed.\n",
      "-------------------------------- \n",
      "\n",
      "2025-01-25 13:21:45 - INFO - Scraping Data from: https://www.eversports.de/s/polefitness-leipzig\n",
      "Pole Studio Data: 1 entries\n",
      "Starting URL reconstruction...\n"
     ]
    },
    {
     "name": "stderr",
     "output_type": "stream",
     "text": [
      "2025-01-25 13:21:45,971 - INFO - Processing URL 1/2: https://www.eversports.de/s/poleroom-braunschweig\n"
     ]
    },
    {
     "name": "stdout",
     "output_type": "stream",
     "text": [
      "Converting to DataFrame...\n",
      "Validating URLs...\n"
     ]
    },
    {
     "name": "stderr",
     "output_type": "stream",
     "text": [
      "2025-01-25 13:21:46,440 - INFO - URL https://www.eversports.de/s/poleroom-braunschweig is valid.\n",
      "2025-01-25 13:21:46,442 - INFO - Processing URL 2/2: https://www.eversports.de/sw/poleroom-braunschweig\n",
      "2025-01-25 13:21:46,686 - INFO - URL https://www.eversports.de/sw/poleroom-braunschweig is valid.\n"
     ]
    },
    {
     "name": "stdout",
     "output_type": "stream",
     "text": [
      "Scraping Pole Studio Data from https://www.eversports.de/s/poleroom-braunschweig...\n",
      "Scraping Workshops Data from https://www.eversports.de/sw/poleroom-braunschweig...\n",
      "Scraping Workshop Details from https://www.eversports.de/e/workshop/_0igvX7...\n",
      "Scraping Workshop Details from https://www.eversports.de/e/workshop/GZmWSf-...\n",
      "Scraping Workshop Details from https://www.eversports.de/e/workshop/8uSzuX-...\n",
      "Scraping Workshop Details from https://www.eversports.de/e/workshop/Vc11qpJ...\n",
      "Scraping Workshop Details from https://www.eversports.de/e/workshop/XjjTky7...\n",
      "Scraping Workshop Details from https://www.eversports.de/e/workshop/in8Tvpm...\n",
      "Scraping Workshop Details from https://www.eversports.de/e/workshop/_VreK9f...\n"
     ]
    },
    {
     "name": "stderr",
     "output_type": "stream",
     "text": [
      "Processing URLs:  61%|██████    | 139/227 [04:52<04:33,  3.11s/it]"
     ]
    },
    {
     "name": "stdout",
     "output_type": "stream",
     "text": [
      "\n",
      "Processing completed.\n",
      "-------------------------------- \n",
      "\n",
      "2025-01-25 13:21:50 - INFO - Scraping Data from: https://www.eversports.de/s/poleroom-braunschweig\n",
      "Pole Studio Data: 1 entries\n",
      "2025-01-25 13:21:50 - INFO - Scraping Data from: https://www.eversports.de/s/poleroom-braunschweig\n",
      "Workshops Data: 7 entries\n",
      "2025-01-25 13:21:50 - INFO - Scraping Data from: https://www.eversports.de/s/poleroom-braunschweig\n",
      "Workshop Details: 7 entries\n",
      "Starting URL reconstruction...\n"
     ]
    },
    {
     "name": "stderr",
     "output_type": "stream",
     "text": [
      "2025-01-25 13:21:50,920 - INFO - Processing URL 1/1: https://www.eversports.de/s/polesensation\n"
     ]
    },
    {
     "name": "stdout",
     "output_type": "stream",
     "text": [
      "Converting to DataFrame...\n",
      "Validating URLs...\n"
     ]
    },
    {
     "name": "stderr",
     "output_type": "stream",
     "text": [
      "2025-01-25 13:21:51,633 - INFO - URL https://www.eversports.de/s/polesensation is valid.\n"
     ]
    },
    {
     "name": "stdout",
     "output_type": "stream",
     "text": [
      "Scraping Pole Studio Data from https://www.eversports.de/s/polesensation...\n"
     ]
    },
    {
     "name": "stderr",
     "output_type": "stream",
     "text": [
      "Processing URLs:  62%|██████▏   | 140/227 [04:54<03:46,  2.60s/it]"
     ]
    },
    {
     "name": "stdout",
     "output_type": "stream",
     "text": [
      "\n",
      "Processing completed.\n",
      "-------------------------------- \n",
      "\n",
      "2025-01-25 13:21:52 - INFO - Scraping Data from: https://www.eversports.de/s/polesensation\n",
      "Pole Studio Data: 1 entries\n",
      "Starting URL reconstruction...\n"
     ]
    },
    {
     "name": "stderr",
     "output_type": "stream",
     "text": [
      "2025-01-25 13:21:53,206 - INFO - Processing URL 1/2: https://www.eversports.de/s/polespirit\n"
     ]
    },
    {
     "name": "stdout",
     "output_type": "stream",
     "text": [
      "Converting to DataFrame...\n",
      "Validating URLs...\n"
     ]
    },
    {
     "name": "stderr",
     "output_type": "stream",
     "text": [
      "2025-01-25 13:21:53,545 - INFO - URL https://www.eversports.de/s/polespirit is valid.\n",
      "2025-01-25 13:21:53,546 - INFO - Processing URL 2/2: https://www.eversports.de/sw/polespirit\n",
      "2025-01-25 13:21:54,134 - INFO - URL https://www.eversports.de/sw/polespirit is valid.\n"
     ]
    },
    {
     "name": "stdout",
     "output_type": "stream",
     "text": [
      "Scraping Pole Studio Data from https://www.eversports.de/s/polespirit...\n",
      "Scraping Workshops Data from https://www.eversports.de/sw/polespirit...\n",
      "Scraping Workshop Details from https://www.eversports.de/e/workshop/OcBqyQM...\n",
      "Scraping Workshop Details from https://www.eversports.de/e/workshop/OWNIG4O...\n",
      "Scraping Workshop Details from https://www.eversports.de/e/workshop/YpeZInj...\n",
      "Scraping Workshop Details from https://www.eversports.de/e/workshop/_bBHXl9...\n",
      "Scraping Workshop Details from https://www.eversports.de/e/workshop/3qMosyv...\n",
      "Scraping Workshop Details from https://www.eversports.de/e/workshop/3Y5wkbe...\n"
     ]
    },
    {
     "name": "stderr",
     "output_type": "stream",
     "text": [
      "Processing URLs:  62%|██████▏   | 141/227 [04:59<04:42,  3.28s/it]"
     ]
    },
    {
     "name": "stdout",
     "output_type": "stream",
     "text": [
      "\n",
      "Processing completed.\n",
      "-------------------------------- \n",
      "\n",
      "2025-01-25 13:21:56 - INFO - Scraping Data from: https://www.eversports.de/s/polespirit\n",
      "Pole Studio Data: 1 entries\n",
      "2025-01-25 13:21:56 - INFO - Scraping Data from: https://www.eversports.de/s/polespirit\n",
      "Workshops Data: 6 entries\n",
      "2025-01-25 13:21:56 - INFO - Scraping Data from: https://www.eversports.de/s/polespirit\n",
      "Workshop Details: 6 entries\n",
      "Starting URL reconstruction...\n"
     ]
    },
    {
     "name": "stderr",
     "output_type": "stream",
     "text": [
      "2025-01-25 13:21:57,197 - INFO - Processing URL 1/1: https://www.eversports.de/s/polesports-education\n"
     ]
    },
    {
     "name": "stdout",
     "output_type": "stream",
     "text": [
      "Converting to DataFrame...\n",
      "Validating URLs...\n"
     ]
    },
    {
     "name": "stderr",
     "output_type": "stream",
     "text": [
      "2025-01-25 13:21:57,662 - INFO - URL https://www.eversports.de/s/polesports-education is valid.\n"
     ]
    },
    {
     "name": "stdout",
     "output_type": "stream",
     "text": [
      "Scraping Pole Studio Data from https://www.eversports.de/s/polesports-education...\n"
     ]
    },
    {
     "name": "stderr",
     "output_type": "stream",
     "text": [
      "Processing URLs:  63%|██████▎   | 142/227 [05:00<03:42,  2.61s/it]"
     ]
    },
    {
     "name": "stdout",
     "output_type": "stream",
     "text": [
      "\n",
      "Processing completed.\n",
      "-------------------------------- \n",
      "\n",
      "2025-01-25 13:21:57 - INFO - Scraping Data from: https://www.eversports.de/s/polesports-education\n",
      "Pole Studio Data: 1 entries\n",
      "Starting URL reconstruction...\n"
     ]
    },
    {
     "name": "stderr",
     "output_type": "stream",
     "text": [
      "2025-01-25 13:21:58,348 - INFO - Processing URL 1/1: https://www.eversports.de/s/polewirbel\n"
     ]
    },
    {
     "name": "stdout",
     "output_type": "stream",
     "text": [
      "Converting to DataFrame...\n",
      "Validating URLs...\n"
     ]
    },
    {
     "name": "stderr",
     "output_type": "stream",
     "text": [
      "2025-01-25 13:21:58,859 - INFO - URL https://www.eversports.de/s/polewirbel is valid.\n"
     ]
    },
    {
     "name": "stdout",
     "output_type": "stream",
     "text": [
      "Scraping Pole Studio Data from https://www.eversports.de/s/polewirbel...\n"
     ]
    },
    {
     "name": "stderr",
     "output_type": "stream",
     "text": [
      "Processing URLs:  63%|██████▎   | 143/227 [05:01<03:05,  2.21s/it]"
     ]
    },
    {
     "name": "stdout",
     "output_type": "stream",
     "text": [
      "\n",
      "Processing completed.\n",
      "-------------------------------- \n",
      "\n",
      "2025-01-25 13:21:59 - INFO - Scraping Data from: https://www.eversports.de/s/polewirbel\n",
      "Pole Studio Data: 1 entries\n",
      "Starting URL reconstruction...\n"
     ]
    },
    {
     "name": "stderr",
     "output_type": "stream",
     "text": [
      "2025-01-25 13:22:00,583 - INFO - Processing URL 1/2: https://www.eversports.de/s/polea-pole-and-aerial-dance\n"
     ]
    },
    {
     "name": "stdout",
     "output_type": "stream",
     "text": [
      "Converting to DataFrame...\n",
      "Validating URLs...\n"
     ]
    },
    {
     "name": "stderr",
     "output_type": "stream",
     "text": [
      "2025-01-25 13:22:00,956 - INFO - URL https://www.eversports.de/s/polea-pole-and-aerial-dance is valid.\n",
      "2025-01-25 13:22:00,958 - INFO - Processing URL 2/2: https://www.eversports.de/sw/polea-pole-and-aerial-dance\n",
      "2025-01-25 13:22:01,193 - INFO - URL https://www.eversports.de/sw/polea-pole-and-aerial-dance is valid.\n"
     ]
    },
    {
     "name": "stdout",
     "output_type": "stream",
     "text": [
      "Scraping Pole Studio Data from https://www.eversports.de/s/polea-pole-and-aerial-dance...\n",
      "Scraping Workshops Data from https://www.eversports.de/sw/polea-pole-and-aerial-dance...\n",
      "Scraping Workshop Details from https://www.eversports.de/e/workshop/oPJ5qO2...\n",
      "Scraping Workshop Details from https://www.eversports.de/e/workshop/Ho1RagX...\n"
     ]
    },
    {
     "name": "stderr",
     "output_type": "stream",
     "text": [
      "Processing URLs:  63%|██████▎   | 144/227 [05:05<03:50,  2.78s/it]"
     ]
    },
    {
     "name": "stdout",
     "output_type": "stream",
     "text": [
      "\n",
      "Processing completed.\n",
      "-------------------------------- \n",
      "\n",
      "2025-01-25 13:22:03 - INFO - Scraping Data from: https://www.eversports.de/s/polea-pole-and-aerial-dance\n",
      "Pole Studio Data: 1 entries\n",
      "2025-01-25 13:22:03 - INFO - Scraping Data from: https://www.eversports.de/s/polea-pole-and-aerial-dance\n",
      "Workshops Data: 2 entries\n",
      "2025-01-25 13:22:03 - INFO - Scraping Data from: https://www.eversports.de/s/polea-pole-and-aerial-dance\n",
      "Workshop Details: 2 entries\n",
      "Starting URL reconstruction...\n"
     ]
    },
    {
     "name": "stderr",
     "output_type": "stream",
     "text": [
      "2025-01-25 13:22:04,305 - INFO - Processing URL 1/1: https://www.eversports.de/s/poleaddict\n"
     ]
    },
    {
     "name": "stdout",
     "output_type": "stream",
     "text": [
      "Converting to DataFrame...\n",
      "Validating URLs...\n"
     ]
    },
    {
     "name": "stderr",
     "output_type": "stream",
     "text": [
      "2025-01-25 13:22:04,570 - INFO - URL https://www.eversports.de/s/poleaddict is valid.\n"
     ]
    },
    {
     "name": "stdout",
     "output_type": "stream",
     "text": [
      "Scraping Pole Studio Data from https://www.eversports.de/s/poleaddict...\n"
     ]
    },
    {
     "name": "stderr",
     "output_type": "stream",
     "text": [
      "Processing URLs:  64%|██████▍   | 145/227 [05:07<03:16,  2.39s/it]"
     ]
    },
    {
     "name": "stdout",
     "output_type": "stream",
     "text": [
      "\n",
      "Processing completed.\n",
      "-------------------------------- \n",
      "\n",
      "2025-01-25 13:22:04 - INFO - Scraping Data from: https://www.eversports.de/s/poleaddict\n",
      "Pole Studio Data: 1 entries\n",
      "Starting URL reconstruction...\n"
     ]
    },
    {
     "name": "stderr",
     "output_type": "stream",
     "text": [
      "2025-01-25 13:22:05,204 - INFO - Processing URL 1/2: https://www.eversports.de/s/polearize\n"
     ]
    },
    {
     "name": "stdout",
     "output_type": "stream",
     "text": [
      "Converting to DataFrame...\n",
      "Validating URLs...\n"
     ]
    },
    {
     "name": "stderr",
     "output_type": "stream",
     "text": [
      "2025-01-25 13:22:05,868 - INFO - URL https://www.eversports.de/s/polearize is valid.\n",
      "2025-01-25 13:22:05,869 - INFO - Processing URL 2/2: https://www.eversports.de/sw/polearize\n",
      "2025-01-25 13:22:06,128 - INFO - URL https://www.eversports.de/sw/polearize is valid.\n"
     ]
    },
    {
     "name": "stdout",
     "output_type": "stream",
     "text": [
      "Scraping Pole Studio Data from https://www.eversports.de/s/polearize...\n",
      "Scraping Workshops Data from https://www.eversports.de/sw/polearize...\n",
      "Scraping Workshop Details from https://www.eversports.de/e/workshop/-KfJaTX...\n",
      "Scraping Workshop Details from https://www.eversports.de/e/workshop/1OMuMnU...\n",
      "Scraping Workshop Details from https://www.eversports.de/e/workshop/kHJvgsF...\n"
     ]
    },
    {
     "name": "stderr",
     "output_type": "stream",
     "text": [
      "Processing URLs:  64%|██████▍   | 146/227 [05:10<03:40,  2.72s/it]"
     ]
    },
    {
     "name": "stdout",
     "output_type": "stream",
     "text": [
      "\n",
      "Processing completed.\n",
      "-------------------------------- \n",
      "\n",
      "2025-01-25 13:22:08 - INFO - Scraping Data from: https://www.eversports.de/s/polearize\n",
      "Pole Studio Data: 1 entries\n",
      "2025-01-25 13:22:08 - INFO - Scraping Data from: https://www.eversports.de/s/polearize\n",
      "Workshops Data: 3 entries\n",
      "2025-01-25 13:22:08 - INFO - Scraping Data from: https://www.eversports.de/s/polearize\n",
      "Workshop Details: 3 entries\n",
      "Starting URL reconstruction...\n"
     ]
    },
    {
     "name": "stderr",
     "output_type": "stream",
     "text": [
      "2025-01-25 13:22:08,563 - INFO - Processing URL 1/1: https://www.eversports.de/s/poleart_inspiration\n"
     ]
    },
    {
     "name": "stdout",
     "output_type": "stream",
     "text": [
      "Converting to DataFrame...\n",
      "Validating URLs...\n"
     ]
    },
    {
     "name": "stderr",
     "output_type": "stream",
     "text": [
      "2025-01-25 13:22:08,777 - INFO - URL https://www.eversports.de/s/poleart_inspiration is valid.\n"
     ]
    },
    {
     "name": "stdout",
     "output_type": "stream",
     "text": [
      "Scraping Pole Studio Data from https://www.eversports.de/s/poleart_inspiration...\n"
     ]
    },
    {
     "name": "stderr",
     "output_type": "stream",
     "text": [
      "Processing URLs:  65%|██████▍   | 147/227 [05:11<02:51,  2.14s/it]"
     ]
    },
    {
     "name": "stdout",
     "output_type": "stream",
     "text": [
      "\n",
      "Processing completed.\n",
      "-------------------------------- \n",
      "\n",
      "2025-01-25 13:22:09 - INFO - Scraping Data from: https://www.eversports.de/s/poleart_inspiration\n",
      "Pole Studio Data: 1 entries\n",
      "Starting URL reconstruction...\n"
     ]
    },
    {
     "name": "stderr",
     "output_type": "stream",
     "text": [
      "2025-01-25 13:22:09,584 - INFO - Processing URL 1/2: https://www.eversports.de/s/poleathletix\n"
     ]
    },
    {
     "name": "stdout",
     "output_type": "stream",
     "text": [
      "Converting to DataFrame...\n",
      "Validating URLs...\n"
     ]
    },
    {
     "name": "stderr",
     "output_type": "stream",
     "text": [
      "2025-01-25 13:22:10,024 - INFO - URL https://www.eversports.de/s/poleathletix is valid.\n",
      "2025-01-25 13:22:10,025 - INFO - Processing URL 2/2: https://www.eversports.de/sw/poleathletix\n",
      "2025-01-25 13:22:11,489 - INFO - URL https://www.eversports.de/sw/poleathletix is valid.\n"
     ]
    },
    {
     "name": "stdout",
     "output_type": "stream",
     "text": [
      "Scraping Pole Studio Data from https://www.eversports.de/s/poleathletix...\n",
      "Scraping Workshops Data from https://www.eversports.de/sw/poleathletix...\n",
      "Scraping Workshop Details from https://www.eversports.de/e/workshop/N-Ep_Wq...\n",
      "Scraping Workshop Details from https://www.eversports.de/e/workshop/roXDiV8...\n",
      "Scraping Workshop Details from https://www.eversports.de/e/workshop/Wc9odpv...\n",
      "Scraping Workshop Details from https://www.eversports.de/e/workshop/3scsgrB...\n",
      "Scraping Workshop Details from https://www.eversports.de/e/workshop/UEbaeJM...\n",
      "Scraping Workshop Details from https://www.eversports.de/e/workshop/1PuehaN...\n",
      "Scraping Workshop Details from https://www.eversports.de/e/workshop/i_nw03u...\n"
     ]
    },
    {
     "name": "stderr",
     "output_type": "stream",
     "text": [
      "Processing URLs:  65%|██████▌   | 148/227 [05:17<04:26,  3.37s/it]"
     ]
    },
    {
     "name": "stdout",
     "output_type": "stream",
     "text": [
      "\n",
      "Processing completed.\n",
      "-------------------------------- \n",
      "\n",
      "2025-01-25 13:22:15 - INFO - Scraping Data from: https://www.eversports.de/s/poleathletix\n",
      "Pole Studio Data: 1 entries\n",
      "2025-01-25 13:22:15 - INFO - Scraping Data from: https://www.eversports.de/s/poleathletix\n",
      "Workshops Data: 7 entries\n",
      "2025-01-25 13:22:15 - INFO - Scraping Data from: https://www.eversports.de/s/poleathletix\n",
      "Workshop Details: 7 entries\n",
      "Starting URL reconstruction...\n"
     ]
    },
    {
     "name": "stderr",
     "output_type": "stream",
     "text": [
      "2025-01-25 13:22:15,713 - INFO - Processing URL 1/1: https://www.eversports.de/s/poledance-4-you\n"
     ]
    },
    {
     "name": "stdout",
     "output_type": "stream",
     "text": [
      "Converting to DataFrame...\n",
      "Validating URLs...\n"
     ]
    },
    {
     "name": "stderr",
     "output_type": "stream",
     "text": [
      "2025-01-25 13:22:15,952 - INFO - URL https://www.eversports.de/s/poledance-4-you is valid.\n"
     ]
    },
    {
     "name": "stdout",
     "output_type": "stream",
     "text": [
      "Scraping Pole Studio Data from https://www.eversports.de/s/poledance-4-you...\n"
     ]
    },
    {
     "name": "stderr",
     "output_type": "stream",
     "text": [
      "Processing URLs:  66%|██████▌   | 149/227 [05:18<03:26,  2.65s/it]"
     ]
    },
    {
     "name": "stdout",
     "output_type": "stream",
     "text": [
      "\n",
      "Processing completed.\n",
      "-------------------------------- \n",
      "\n",
      "2025-01-25 13:22:16 - INFO - Scraping Data from: https://www.eversports.de/s/poledance-4-you\n",
      "Pole Studio Data: 1 entries\n",
      "Starting URL reconstruction...\n"
     ]
    },
    {
     "name": "stderr",
     "output_type": "stream",
     "text": [
      "2025-01-25 13:22:16,974 - INFO - Processing URL 1/1: https://www.eversports.de/s/poledance-playground-innsbruck\n"
     ]
    },
    {
     "name": "stdout",
     "output_type": "stream",
     "text": [
      "Converting to DataFrame...\n",
      "Validating URLs...\n"
     ]
    },
    {
     "name": "stderr",
     "output_type": "stream",
     "text": [
      "2025-01-25 13:22:17,476 - INFO - URL https://www.eversports.de/s/poledance-playground-innsbruck is valid.\n"
     ]
    },
    {
     "name": "stdout",
     "output_type": "stream",
     "text": [
      "Scraping Pole Studio Data from https://www.eversports.de/s/poledance-playground-innsbruck...\n"
     ]
    },
    {
     "name": "stderr",
     "output_type": "stream",
     "text": [
      "Processing URLs:  66%|██████▌   | 150/227 [05:20<02:59,  2.33s/it]"
     ]
    },
    {
     "name": "stdout",
     "output_type": "stream",
     "text": [
      "\n",
      "Processing completed.\n",
      "-------------------------------- \n",
      "\n",
      "2025-01-25 13:22:17 - INFO - Scraping Data from: https://www.eversports.de/s/poledance-playground-innsbruck\n",
      "Pole Studio Data: 1 entries\n",
      "Starting URL reconstruction...\n"
     ]
    },
    {
     "name": "stderr",
     "output_type": "stream",
     "text": [
      "2025-01-25 13:22:18,251 - INFO - Processing URL 1/1: https://www.eversports.de/s/poledance-area\n"
     ]
    },
    {
     "name": "stdout",
     "output_type": "stream",
     "text": [
      "Converting to DataFrame...\n",
      "Validating URLs...\n"
     ]
    },
    {
     "name": "stderr",
     "output_type": "stream",
     "text": [
      "2025-01-25 13:22:18,551 - INFO - URL https://www.eversports.de/s/poledance-area is valid.\n"
     ]
    },
    {
     "name": "stdout",
     "output_type": "stream",
     "text": [
      "Scraping Pole Studio Data from https://www.eversports.de/s/poledance-area...\n"
     ]
    },
    {
     "name": "stderr",
     "output_type": "stream",
     "text": [
      "Processing URLs:  67%|██████▋   | 151/227 [05:21<02:27,  1.94s/it]"
     ]
    },
    {
     "name": "stdout",
     "output_type": "stream",
     "text": [
      "\n",
      "Processing completed.\n",
      "-------------------------------- \n",
      "\n",
      "2025-01-25 13:22:18 - INFO - Scraping Data from: https://www.eversports.de/s/poledance-area\n",
      "Pole Studio Data: 1 entries\n",
      "Starting URL reconstruction...\n"
     ]
    },
    {
     "name": "stderr",
     "output_type": "stream",
     "text": [
      "2025-01-25 13:22:19,320 - INFO - Processing URL 1/2: https://www.eversports.de/s/poledancestar\n"
     ]
    },
    {
     "name": "stdout",
     "output_type": "stream",
     "text": [
      "Converting to DataFrame...\n",
      "Validating URLs...\n"
     ]
    },
    {
     "name": "stderr",
     "output_type": "stream",
     "text": [
      "2025-01-25 13:22:19,680 - INFO - URL https://www.eversports.de/s/poledancestar is valid.\n",
      "2025-01-25 13:22:19,681 - INFO - Processing URL 2/2: https://www.eversports.de/sw/poledancestar\n",
      "2025-01-25 13:22:20,329 - INFO - URL https://www.eversports.de/sw/poledancestar is valid.\n"
     ]
    },
    {
     "name": "stdout",
     "output_type": "stream",
     "text": [
      "Scraping Pole Studio Data from https://www.eversports.de/s/poledancestar...\n",
      "Scraping Workshops Data from https://www.eversports.de/sw/poledancestar...\n",
      "Scraping Workshop Details from https://www.eversports.de/e/workshop/M3a7YtP...\n",
      "Scraping Workshop Details from https://www.eversports.de/e/workshop/Y952uyZ...\n",
      "Scraping Workshop Details from https://www.eversports.de/e/workshop/3FIa87Q...\n",
      "Scraping Workshop Details from https://www.eversports.de/e/workshop/hJ3rIBP...\n",
      "Scraping Workshop Details from https://www.eversports.de/e/workshop/V4JK3LB...\n",
      "Scraping Workshop Details from https://www.eversports.de/e/workshop/Qbzj8tr...\n",
      "Scraping Workshop Details from https://www.eversports.de/e/workshop/_ri3PvT...\n",
      "Scraping Workshop Details from https://www.eversports.de/e/workshop/csabTgw...\n",
      "Scraping Workshop Details from https://www.eversports.de/e/workshop/lfcRQCa...\n",
      "Scraping Workshop Details from https://www.eversports.de/e/workshop/oeX1MKJ...\n",
      "Scraping Workshop Details from https://www.eversports.de/e/workshop/0Cn43rt...\n"
     ]
    },
    {
     "name": "stderr",
     "output_type": "stream",
     "text": [
      "Processing URLs:  67%|██████▋   | 152/227 [05:29<04:47,  3.84s/it]"
     ]
    },
    {
     "name": "stdout",
     "output_type": "stream",
     "text": [
      "\n",
      "Processing completed.\n",
      "-------------------------------- \n",
      "\n",
      "2025-01-25 13:22:27 - INFO - Scraping Data from: https://www.eversports.de/s/poledancestar\n",
      "Pole Studio Data: 1 entries\n",
      "2025-01-25 13:22:27 - INFO - Scraping Data from: https://www.eversports.de/s/poledancestar\n",
      "Workshops Data: 11 entries\n",
      "2025-01-25 13:22:27 - INFO - Scraping Data from: https://www.eversports.de/s/poledancestar\n",
      "Workshop Details: 11 entries\n",
      "Starting URL reconstruction...\n"
     ]
    },
    {
     "name": "stderr",
     "output_type": "stream",
     "text": [
      "2025-01-25 13:22:27,754 - INFO - Processing URL 1/2: https://www.eversports.de/s/polefamily-koblenz\n"
     ]
    },
    {
     "name": "stdout",
     "output_type": "stream",
     "text": [
      "Converting to DataFrame...\n",
      "Validating URLs...\n"
     ]
    },
    {
     "name": "stderr",
     "output_type": "stream",
     "text": [
      "2025-01-25 13:22:28,226 - INFO - URL https://www.eversports.de/s/polefamily-koblenz is valid.\n",
      "2025-01-25 13:22:28,227 - INFO - Processing URL 2/2: https://www.eversports.de/sw/polefamily-koblenz\n",
      "2025-01-25 13:22:28,463 - INFO - URL https://www.eversports.de/sw/polefamily-koblenz is valid.\n"
     ]
    },
    {
     "name": "stdout",
     "output_type": "stream",
     "text": [
      "Scraping Pole Studio Data from https://www.eversports.de/s/polefamily-koblenz...\n",
      "Scraping Workshops Data from https://www.eversports.de/sw/polefamily-koblenz...\n",
      "Scraping Workshop Details from https://www.eversports.de/e/workshop/JsDlEsr...\n",
      "Scraping Workshop Details from https://www.eversports.de/e/workshop/TGlH3wt...\n"
     ]
    },
    {
     "name": "stderr",
     "output_type": "stream",
     "text": [
      "Processing URLs:  67%|██████▋   | 153/227 [05:32<04:17,  3.48s/it]"
     ]
    },
    {
     "name": "stdout",
     "output_type": "stream",
     "text": [
      "\n",
      "Processing completed.\n",
      "-------------------------------- \n",
      "\n",
      "2025-01-25 13:22:29 - INFO - Scraping Data from: https://www.eversports.de/s/polefamily-koblenz\n",
      "Pole Studio Data: 1 entries\n",
      "2025-01-25 13:22:29 - INFO - Scraping Data from: https://www.eversports.de/s/polefamily-koblenz\n",
      "Workshops Data: 2 entries\n",
      "2025-01-25 13:22:29 - INFO - Scraping Data from: https://www.eversports.de/s/polefamily-koblenz\n",
      "Workshop Details: 2 entries\n",
      "Starting URL reconstruction...\n"
     ]
    },
    {
     "name": "stderr",
     "output_type": "stream",
     "text": [
      "2025-01-25 13:22:30,240 - INFO - Processing URL 1/1: https://www.eversports.de/s/polefly-academy\n"
     ]
    },
    {
     "name": "stdout",
     "output_type": "stream",
     "text": [
      "Converting to DataFrame...\n",
      "Validating URLs...\n"
     ]
    },
    {
     "name": "stderr",
     "output_type": "stream",
     "text": [
      "2025-01-25 13:22:30,537 - INFO - URL https://www.eversports.de/s/polefly-academy is valid.\n"
     ]
    },
    {
     "name": "stdout",
     "output_type": "stream",
     "text": [
      "Scraping Pole Studio Data from https://www.eversports.de/s/polefly-academy...\n"
     ]
    },
    {
     "name": "stderr",
     "output_type": "stream",
     "text": [
      "Processing URLs:  68%|██████▊   | 154/227 [05:33<03:22,  2.78s/it]"
     ]
    },
    {
     "name": "stdout",
     "output_type": "stream",
     "text": [
      "\n",
      "Processing completed.\n",
      "-------------------------------- \n",
      "\n",
      "2025-01-25 13:22:30 - INFO - Scraping Data from: https://www.eversports.de/s/polefly-academy\n",
      "Pole Studio Data: 1 entries\n",
      "Starting URL reconstruction...\n"
     ]
    },
    {
     "name": "stderr",
     "output_type": "stream",
     "text": [
      "2025-01-25 13:22:31,423 - INFO - Processing URL 1/1: https://www.eversports.de/s/polefriends-halle\n"
     ]
    },
    {
     "name": "stdout",
     "output_type": "stream",
     "text": [
      "Converting to DataFrame...\n",
      "Validating URLs...\n"
     ]
    },
    {
     "name": "stderr",
     "output_type": "stream",
     "text": [
      "2025-01-25 13:22:31,855 - INFO - URL https://www.eversports.de/s/polefriends-halle is valid.\n"
     ]
    },
    {
     "name": "stdout",
     "output_type": "stream",
     "text": [
      "Scraping Pole Studio Data from https://www.eversports.de/s/polefriends-halle...\n"
     ]
    },
    {
     "name": "stderr",
     "output_type": "stream",
     "text": [
      "Processing URLs:  68%|██████▊   | 155/227 [05:34<02:52,  2.40s/it]"
     ]
    },
    {
     "name": "stdout",
     "output_type": "stream",
     "text": [
      "\n",
      "Processing completed.\n",
      "-------------------------------- \n",
      "\n",
      "2025-01-25 13:22:32 - INFO - Scraping Data from: https://www.eversports.de/s/polefriends-halle\n",
      "Pole Studio Data: 1 entries\n",
      "Starting URL reconstruction...\n"
     ]
    },
    {
     "name": "stderr",
     "output_type": "stream",
     "text": [
      "2025-01-25 13:22:33,039 - INFO - Processing URL 1/1: https://www.eversports.de/s/polemotions-filderstadt\n"
     ]
    },
    {
     "name": "stdout",
     "output_type": "stream",
     "text": [
      "Converting to DataFrame...\n",
      "Validating URLs...\n"
     ]
    },
    {
     "name": "stderr",
     "output_type": "stream",
     "text": [
      "2025-01-25 13:22:33,421 - INFO - URL https://www.eversports.de/s/polemotions-filderstadt is valid.\n"
     ]
    },
    {
     "name": "stdout",
     "output_type": "stream",
     "text": [
      "Scraping Pole Studio Data from https://www.eversports.de/s/polemotions-filderstadt...\n"
     ]
    },
    {
     "name": "stderr",
     "output_type": "stream",
     "text": [
      "Processing URLs:  69%|██████▊   | 156/227 [05:36<02:27,  2.08s/it]"
     ]
    },
    {
     "name": "stdout",
     "output_type": "stream",
     "text": [
      "\n",
      "Processing completed.\n",
      "-------------------------------- \n",
      "\n",
      "2025-01-25 13:22:33 - INFO - Scraping Data from: https://www.eversports.de/s/polemotions-filderstadt\n",
      "Pole Studio Data: 1 entries\n",
      "Starting URL reconstruction...\n"
     ]
    },
    {
     "name": "stderr",
     "output_type": "stream",
     "text": [
      "2025-01-25 13:22:34,308 - INFO - Processing URL 1/1: https://www.eversports.de/s/polemotions-tuebingen\n"
     ]
    },
    {
     "name": "stdout",
     "output_type": "stream",
     "text": [
      "Converting to DataFrame...\n",
      "Validating URLs...\n"
     ]
    },
    {
     "name": "stderr",
     "output_type": "stream",
     "text": [
      "2025-01-25 13:22:34,970 - INFO - URL https://www.eversports.de/s/polemotions-tuebingen is valid.\n"
     ]
    },
    {
     "name": "stdout",
     "output_type": "stream",
     "text": [
      "Scraping Pole Studio Data from https://www.eversports.de/s/polemotions-tuebingen...\n"
     ]
    },
    {
     "name": "stderr",
     "output_type": "stream",
     "text": [
      "Processing URLs:  69%|██████▉   | 157/227 [05:37<02:16,  1.95s/it]"
     ]
    },
    {
     "name": "stdout",
     "output_type": "stream",
     "text": [
      "\n",
      "Processing completed.\n",
      "-------------------------------- \n",
      "\n",
      "2025-01-25 13:22:35 - INFO - Scraping Data from: https://www.eversports.de/s/polemotions-tuebingen\n",
      "Pole Studio Data: 1 entries\n",
      "Starting URL reconstruction...\n"
     ]
    },
    {
     "name": "stderr",
     "output_type": "stream",
     "text": [
      "Processing URLs:  70%|██████▉   | 158/227 [05:38<01:39,  1.45s/it]"
     ]
    },
    {
     "name": "stdout",
     "output_type": "stream",
     "text": [
      "Error during HTTP request: 404 Client Error: Not Found for url: https://www.eversports.de/s/polerinas-gmbh\n",
      "Converting to DataFrame...\n",
      "Validating URLs...\n",
      "\n",
      "Processing completed.\n",
      "-------------------------------- \n",
      "\n",
      "Starting URL reconstruction...\n"
     ]
    },
    {
     "name": "stderr",
     "output_type": "stream",
     "text": [
      "2025-01-25 13:22:36,101 - INFO - Processing URL 1/1: https://www.eversports.de/s/polesition-regensburg\n"
     ]
    },
    {
     "name": "stdout",
     "output_type": "stream",
     "text": [
      "Converting to DataFrame...\n",
      "Validating URLs...\n"
     ]
    },
    {
     "name": "stderr",
     "output_type": "stream",
     "text": [
      "2025-01-25 13:22:36,811 - INFO - URL https://www.eversports.de/s/polesition-regensburg is valid.\n"
     ]
    },
    {
     "name": "stdout",
     "output_type": "stream",
     "text": [
      "Scraping Pole Studio Data from https://www.eversports.de/s/polesition-regensburg...\n"
     ]
    },
    {
     "name": "stderr",
     "output_type": "stream",
     "text": [
      "Processing URLs:  70%|███████   | 159/227 [05:39<01:36,  1.42s/it]"
     ]
    },
    {
     "name": "stdout",
     "output_type": "stream",
     "text": [
      "\n",
      "Processing completed.\n",
      "-------------------------------- \n",
      "\n",
      "2025-01-25 13:22:37 - INFO - Scraping Data from: https://www.eversports.de/s/polesition-regensburg\n",
      "Pole Studio Data: 1 entries\n",
      "Starting URL reconstruction...\n"
     ]
    },
    {
     "name": "stderr",
     "output_type": "stream",
     "text": [
      "2025-01-25 13:22:37,618 - INFO - Processing URL 1/1: https://www.eversports.de/s/polestation-academy\n"
     ]
    },
    {
     "name": "stdout",
     "output_type": "stream",
     "text": [
      "Converting to DataFrame...\n",
      "Validating URLs...\n"
     ]
    },
    {
     "name": "stderr",
     "output_type": "stream",
     "text": [
      "2025-01-25 13:22:38,373 - INFO - URL https://www.eversports.de/s/polestation-academy is valid.\n"
     ]
    },
    {
     "name": "stdout",
     "output_type": "stream",
     "text": [
      "Scraping Pole Studio Data from https://www.eversports.de/s/polestation-academy...\n"
     ]
    },
    {
     "name": "stderr",
     "output_type": "stream",
     "text": [
      "Processing URLs:  70%|███████   | 160/227 [05:41<01:39,  1.49s/it]"
     ]
    },
    {
     "name": "stdout",
     "output_type": "stream",
     "text": [
      "\n",
      "Processing completed.\n",
      "-------------------------------- \n",
      "\n",
      "2025-01-25 13:22:38 - INFO - Scraping Data from: https://www.eversports.de/s/polestation-academy\n",
      "Pole Studio Data: 1 entries\n",
      "Starting URL reconstruction...\n"
     ]
    },
    {
     "name": "stderr",
     "output_type": "stream",
     "text": [
      "2025-01-25 13:22:39,841 - INFO - Processing URL 1/1: https://www.eversports.de/s/polestation-academy\n"
     ]
    },
    {
     "name": "stdout",
     "output_type": "stream",
     "text": [
      "Converting to DataFrame...\n",
      "Validating URLs...\n"
     ]
    },
    {
     "name": "stderr",
     "output_type": "stream",
     "text": [
      "2025-01-25 13:22:41,834 - INFO - URL https://www.eversports.de/s/polestation-academy is valid.\n"
     ]
    },
    {
     "name": "stdout",
     "output_type": "stream",
     "text": [
      "Scraping Pole Studio Data from https://www.eversports.de/s/polestation-academy...\n"
     ]
    },
    {
     "name": "stderr",
     "output_type": "stream",
     "text": [
      "Processing URLs:  71%|███████   | 161/227 [05:44<02:19,  2.11s/it]"
     ]
    },
    {
     "name": "stdout",
     "output_type": "stream",
     "text": [
      "\n",
      "Processing completed.\n",
      "-------------------------------- \n",
      "\n",
      "2025-01-25 13:22:42 - INFO - Scraping Data from: https://www.eversports.de/s/polestation-academy\n",
      "Pole Studio Data: 1 entries\n",
      "Starting URL reconstruction...\n"
     ]
    },
    {
     "name": "stderr",
     "output_type": "stream",
     "text": [
      "2025-01-25 13:22:43,121 - INFO - Processing URL 1/1: https://www.eversports.de/s/polestructions\n"
     ]
    },
    {
     "name": "stdout",
     "output_type": "stream",
     "text": [
      "Converting to DataFrame...\n",
      "Validating URLs...\n"
     ]
    },
    {
     "name": "stderr",
     "output_type": "stream",
     "text": [
      "2025-01-25 13:22:43,683 - INFO - URL https://www.eversports.de/s/polestructions is valid.\n"
     ]
    },
    {
     "name": "stdout",
     "output_type": "stream",
     "text": [
      "Scraping Pole Studio Data from https://www.eversports.de/s/polestructions...\n"
     ]
    },
    {
     "name": "stderr",
     "output_type": "stream",
     "text": [
      "Processing URLs:  71%|███████▏  | 162/227 [05:46<02:20,  2.17s/it]"
     ]
    },
    {
     "name": "stdout",
     "output_type": "stream",
     "text": [
      "\n",
      "Processing completed.\n",
      "-------------------------------- \n",
      "\n",
      "2025-01-25 13:22:44 - INFO - Scraping Data from: https://www.eversports.de/s/polestructions\n",
      "Pole Studio Data: 1 entries\n",
      "Starting URL reconstruction...\n"
     ]
    },
    {
     "name": "stderr",
     "output_type": "stream",
     "text": [
      "2025-01-25 13:22:45,041 - INFO - Processing URL 1/1: https://www.eversports.de/s/poleworkx\n"
     ]
    },
    {
     "name": "stdout",
     "output_type": "stream",
     "text": [
      "Converting to DataFrame...\n",
      "Validating URLs...\n"
     ]
    },
    {
     "name": "stderr",
     "output_type": "stream",
     "text": [
      "2025-01-25 13:22:45,913 - INFO - URL https://www.eversports.de/s/poleworkx is valid.\n"
     ]
    },
    {
     "name": "stdout",
     "output_type": "stream",
     "text": [
      "Scraping Pole Studio Data from https://www.eversports.de/s/poleworkx...\n"
     ]
    },
    {
     "name": "stderr",
     "output_type": "stream",
     "text": [
      "Processing URLs:  72%|███████▏  | 163/227 [05:48<02:06,  1.98s/it]"
     ]
    },
    {
     "name": "stdout",
     "output_type": "stream",
     "text": [
      "\n",
      "Processing completed.\n",
      "-------------------------------- \n",
      "\n",
      "2025-01-25 13:22:46 - INFO - Scraping Data from: https://www.eversports.de/s/poleworkx\n",
      "Pole Studio Data: 1 entries\n",
      "Starting URL reconstruction...\n"
     ]
    },
    {
     "name": "stderr",
     "output_type": "stream",
     "text": [
      "2025-01-25 13:22:46,723 - INFO - Processing URL 1/2: https://www.eversports.de/s/pura-studio\n"
     ]
    },
    {
     "name": "stdout",
     "output_type": "stream",
     "text": [
      "Converting to DataFrame...\n",
      "Validating URLs...\n"
     ]
    },
    {
     "name": "stderr",
     "output_type": "stream",
     "text": [
      "2025-01-25 13:22:47,163 - INFO - URL https://www.eversports.de/s/pura-studio is valid.\n",
      "2025-01-25 13:22:47,164 - INFO - Processing URL 2/2: https://www.eversports.de/sw/pura-studio\n",
      "2025-01-25 13:22:47,324 - INFO - URL https://www.eversports.de/sw/pura-studio is valid.\n"
     ]
    },
    {
     "name": "stdout",
     "output_type": "stream",
     "text": [
      "Scraping Pole Studio Data from https://www.eversports.de/s/pura-studio...\n",
      "Scraping Workshops Data from https://www.eversports.de/sw/pura-studio...\n",
      "Scraping Workshop Details from https://www.eversports.de/e/workshop/x6vcu49...\n",
      "Scraping Workshop Details from https://www.eversports.de/e/workshop/ND8rTzD...\n",
      "Scraping Workshop Details from https://www.eversports.de/e/workshop/SolA1SU...\n",
      "Scraping Workshop Details from https://www.eversports.de/e/workshop/Fy1PM9e...\n"
     ]
    },
    {
     "name": "stderr",
     "output_type": "stream",
     "text": [
      "Processing URLs:  72%|███████▏  | 164/227 [05:52<02:42,  2.57s/it]"
     ]
    },
    {
     "name": "stdout",
     "output_type": "stream",
     "text": [
      "\n",
      "Processing completed.\n",
      "-------------------------------- \n",
      "\n",
      "2025-01-25 13:22:50 - INFO - Scraping Data from: https://www.eversports.de/s/pura-studio\n",
      "Pole Studio Data: 1 entries\n",
      "2025-01-25 13:22:50 - INFO - Scraping Data from: https://www.eversports.de/s/pura-studio\n",
      "Workshops Data: 4 entries\n",
      "2025-01-25 13:22:50 - INFO - Scraping Data from: https://www.eversports.de/s/pura-studio\n",
      "Workshop Details: 4 entries\n",
      "Starting URL reconstruction...\n"
     ]
    },
    {
     "name": "stderr",
     "output_type": "stream",
     "text": [
      "2025-01-25 13:22:51,101 - INFO - Processing URL 1/2: https://www.eversports.de/s/pure-motion-kiel\n"
     ]
    },
    {
     "name": "stdout",
     "output_type": "stream",
     "text": [
      "Converting to DataFrame...\n",
      "Validating URLs...\n"
     ]
    },
    {
     "name": "stderr",
     "output_type": "stream",
     "text": [
      "2025-01-25 13:22:51,515 - INFO - URL https://www.eversports.de/s/pure-motion-kiel is valid.\n",
      "2025-01-25 13:22:51,515 - INFO - Processing URL 2/2: https://www.eversports.de/sw/pure-motion-kiel\n",
      "2025-01-25 13:22:52,093 - INFO - URL https://www.eversports.de/sw/pure-motion-kiel is valid.\n"
     ]
    },
    {
     "name": "stdout",
     "output_type": "stream",
     "text": [
      "Scraping Pole Studio Data from https://www.eversports.de/s/pure-motion-kiel...\n",
      "Scraping Workshops Data from https://www.eversports.de/sw/pure-motion-kiel...\n",
      "Scraping Workshop Details from https://www.eversports.de/e/workshop/ge4PGl2...\n",
      "Scraping Workshop Details from https://www.eversports.de/e/workshop/f_LZ0ER...\n",
      "Scraping Workshop Details from https://www.eversports.de/e/workshop/t5VaB1P...\n",
      "Scraping Workshop Details from https://www.eversports.de/e/workshop/jpR0emi...\n",
      "Scraping Workshop Details from https://www.eversports.de/e/workshop/-n29Pnp...\n"
     ]
    },
    {
     "name": "stderr",
     "output_type": "stream",
     "text": [
      "Processing URLs:  73%|███████▎  | 165/227 [05:57<03:35,  3.48s/it]"
     ]
    },
    {
     "name": "stdout",
     "output_type": "stream",
     "text": [
      "\n",
      "Processing completed.\n",
      "-------------------------------- \n",
      "\n",
      "2025-01-25 13:22:55 - INFO - Scraping Data from: https://www.eversports.de/s/pure-motion-kiel\n",
      "Pole Studio Data: 1 entries\n",
      "2025-01-25 13:22:55 - INFO - Scraping Data from: https://www.eversports.de/s/pure-motion-kiel\n",
      "Workshops Data: 5 entries\n",
      "2025-01-25 13:22:55 - INFO - Scraping Data from: https://www.eversports.de/s/pure-motion-kiel\n",
      "Workshop Details: 5 entries\n",
      "Starting URL reconstruction...\n"
     ]
    },
    {
     "name": "stderr",
     "output_type": "stream",
     "text": [
      "2025-01-25 13:22:56,055 - INFO - Processing URL 1/2: https://www.eversports.de/s/ramonas-tanzschmiede\n"
     ]
    },
    {
     "name": "stdout",
     "output_type": "stream",
     "text": [
      "Converting to DataFrame...\n",
      "Validating URLs...\n"
     ]
    },
    {
     "name": "stderr",
     "output_type": "stream",
     "text": [
      "2025-01-25 13:22:56,433 - INFO - URL https://www.eversports.de/s/ramonas-tanzschmiede is valid.\n",
      "2025-01-25 13:22:56,433 - INFO - Processing URL 2/2: https://www.eversports.de/sw/ramonas-tanzschmiede\n",
      "2025-01-25 13:22:56,578 - INFO - URL https://www.eversports.de/sw/ramonas-tanzschmiede is valid.\n"
     ]
    },
    {
     "name": "stdout",
     "output_type": "stream",
     "text": [
      "Scraping Pole Studio Data from https://www.eversports.de/s/ramonas-tanzschmiede...\n",
      "Scraping Workshops Data from https://www.eversports.de/sw/ramonas-tanzschmiede...\n",
      "Scraping Workshop Details from https://www.eversports.de/e/workshop/K_meug6...\n"
     ]
    },
    {
     "name": "stderr",
     "output_type": "stream",
     "text": [
      "Processing URLs:  73%|███████▎  | 166/227 [05:59<03:03,  3.01s/it]"
     ]
    },
    {
     "name": "stdout",
     "output_type": "stream",
     "text": [
      "\n",
      "Processing completed.\n",
      "-------------------------------- \n",
      "\n",
      "2025-01-25 13:22:57 - INFO - Scraping Data from: https://www.eversports.de/s/ramonas-tanzschmiede\n",
      "Pole Studio Data: 1 entries\n",
      "2025-01-25 13:22:57 - INFO - Scraping Data from: https://www.eversports.de/s/ramonas-tanzschmiede\n",
      "Workshops Data: 1 entries\n",
      "2025-01-25 13:22:57 - INFO - Scraping Data from: https://www.eversports.de/s/ramonas-tanzschmiede\n",
      "Workshop Details: 1 entries\n",
      "Starting URL reconstruction...\n"
     ]
    },
    {
     "name": "stderr",
     "output_type": "stream",
     "text": [
      "2025-01-25 13:22:58,064 - INFO - Processing URL 1/2: https://www.eversports.de/s/royal-pole\n"
     ]
    },
    {
     "name": "stdout",
     "output_type": "stream",
     "text": [
      "Converting to DataFrame...\n",
      "Validating URLs...\n"
     ]
    },
    {
     "name": "stderr",
     "output_type": "stream",
     "text": [
      "2025-01-25 13:22:58,609 - INFO - URL https://www.eversports.de/s/royal-pole is valid.\n",
      "2025-01-25 13:22:58,610 - INFO - Processing URL 2/2: https://www.eversports.de/sw/royal-pole\n",
      "2025-01-25 13:22:58,784 - INFO - URL https://www.eversports.de/sw/royal-pole is not valid.\n"
     ]
    },
    {
     "name": "stdout",
     "output_type": "stream",
     "text": [
      "Scraping Pole Studio Data from https://www.eversports.de/s/royal-pole...\n"
     ]
    },
    {
     "name": "stderr",
     "output_type": "stream",
     "text": [
      "Processing URLs:  74%|███████▎  | 167/227 [06:01<02:41,  2.69s/it]"
     ]
    },
    {
     "name": "stdout",
     "output_type": "stream",
     "text": [
      "\n",
      "Processing completed.\n",
      "-------------------------------- \n",
      "\n",
      "2025-01-25 13:22:59 - INFO - Scraping Data from: https://www.eversports.de/s/royal-pole\n",
      "Pole Studio Data: 1 entries\n",
      "Starting URL reconstruction...\n"
     ]
    },
    {
     "name": "stderr",
     "output_type": "stream",
     "text": [
      "2025-01-25 13:22:59,944 - INFO - Processing URL 1/2: https://www.eversports.de/s/royal-pole\n"
     ]
    },
    {
     "name": "stdout",
     "output_type": "stream",
     "text": [
      "Converting to DataFrame...\n",
      "Validating URLs...\n"
     ]
    },
    {
     "name": "stderr",
     "output_type": "stream",
     "text": [
      "2025-01-25 13:23:00,319 - INFO - URL https://www.eversports.de/s/royal-pole is valid.\n",
      "2025-01-25 13:23:00,321 - INFO - Processing URL 2/2: https://www.eversports.de/sw/royal-pole\n",
      "2025-01-25 13:23:00,450 - INFO - URL https://www.eversports.de/sw/royal-pole is not valid.\n"
     ]
    },
    {
     "name": "stdout",
     "output_type": "stream",
     "text": [
      "Scraping Pole Studio Data from https://www.eversports.de/s/royal-pole...\n"
     ]
    },
    {
     "name": "stderr",
     "output_type": "stream",
     "text": [
      "Processing URLs:  74%|███████▍  | 168/227 [06:03<02:16,  2.31s/it]"
     ]
    },
    {
     "name": "stdout",
     "output_type": "stream",
     "text": [
      "\n",
      "Processing completed.\n",
      "-------------------------------- \n",
      "\n",
      "2025-01-25 13:23:00 - INFO - Scraping Data from: https://www.eversports.de/s/royal-pole\n",
      "Pole Studio Data: 1 entries\n",
      "Starting URL reconstruction...\n"
     ]
    },
    {
     "name": "stderr",
     "output_type": "stream",
     "text": [
      "2025-01-25 13:23:01,872 - INFO - Processing URL 1/1: https://www.eversports.de/s/secret-moves-athletic-dance-studio\n"
     ]
    },
    {
     "name": "stdout",
     "output_type": "stream",
     "text": [
      "Converting to DataFrame...\n",
      "Validating URLs...\n"
     ]
    },
    {
     "name": "stderr",
     "output_type": "stream",
     "text": [
      "2025-01-25 13:23:02,296 - INFO - URL https://www.eversports.de/s/secret-moves-athletic-dance-studio is valid.\n"
     ]
    },
    {
     "name": "stdout",
     "output_type": "stream",
     "text": [
      "Scraping Pole Studio Data from https://www.eversports.de/s/secret-moves-athletic-dance-studio...\n"
     ]
    },
    {
     "name": "stderr",
     "output_type": "stream",
     "text": [
      "Processing URLs:  74%|███████▍  | 169/227 [06:05<02:04,  2.14s/it]"
     ]
    },
    {
     "name": "stdout",
     "output_type": "stream",
     "text": [
      "\n",
      "Processing completed.\n",
      "-------------------------------- \n",
      "\n",
      "2025-01-25 13:23:02 - INFO - Scraping Data from: https://www.eversports.de/s/secret-moves-athletic-dance-studio\n",
      "Pole Studio Data: 1 entries\n",
      "Starting URL reconstruction...\n"
     ]
    },
    {
     "name": "stderr",
     "output_type": "stream",
     "text": [
      "2025-01-25 13:23:03,829 - INFO - Processing URL 1/1: https://www.eversports.de/s/spin-up\n"
     ]
    },
    {
     "name": "stdout",
     "output_type": "stream",
     "text": [
      "Converting to DataFrame...\n",
      "Validating URLs...\n"
     ]
    },
    {
     "name": "stderr",
     "output_type": "stream",
     "text": [
      "2025-01-25 13:23:04,233 - INFO - URL https://www.eversports.de/s/spin-up is valid.\n"
     ]
    },
    {
     "name": "stdout",
     "output_type": "stream",
     "text": [
      "Scraping Pole Studio Data from https://www.eversports.de/s/spin-up...\n"
     ]
    },
    {
     "name": "stderr",
     "output_type": "stream",
     "text": [
      "Processing URLs:  75%|███████▍  | 170/227 [06:06<01:58,  2.08s/it]"
     ]
    },
    {
     "name": "stdout",
     "output_type": "stream",
     "text": [
      "\n",
      "Processing completed.\n",
      "-------------------------------- \n",
      "\n",
      "2025-01-25 13:23:04 - INFO - Scraping Data from: https://www.eversports.de/s/spin-up\n",
      "Pole Studio Data: 1 entries\n",
      "Starting URL reconstruction...\n"
     ]
    },
    {
     "name": "stderr",
     "output_type": "stream",
     "text": [
      "2025-01-25 13:23:05,799 - INFO - Processing URL 1/1: https://www.eversports.de/s/spin-up\n"
     ]
    },
    {
     "name": "stdout",
     "output_type": "stream",
     "text": [
      "Converting to DataFrame...\n",
      "Validating URLs...\n"
     ]
    },
    {
     "name": "stderr",
     "output_type": "stream",
     "text": [
      "2025-01-25 13:23:06,346 - INFO - URL https://www.eversports.de/s/spin-up is valid.\n"
     ]
    },
    {
     "name": "stdout",
     "output_type": "stream",
     "text": [
      "Scraping Pole Studio Data from https://www.eversports.de/s/spin-up...\n"
     ]
    },
    {
     "name": "stderr",
     "output_type": "stream",
     "text": [
      "Processing URLs:  75%|███████▌  | 171/227 [06:09<01:58,  2.11s/it]"
     ]
    },
    {
     "name": "stdout",
     "output_type": "stream",
     "text": [
      "\n",
      "Processing completed.\n",
      "-------------------------------- \n",
      "\n",
      "2025-01-25 13:23:06 - INFO - Scraping Data from: https://www.eversports.de/s/spin-up\n",
      "Pole Studio Data: 1 entries\n",
      "Starting URL reconstruction...\n"
     ]
    },
    {
     "name": "stderr",
     "output_type": "stream",
     "text": [
      "2025-01-25 13:23:07,414 - INFO - Processing URL 1/1: https://www.eversports.de/s/st-polestudio\n"
     ]
    },
    {
     "name": "stdout",
     "output_type": "stream",
     "text": [
      "Converting to DataFrame...\n",
      "Validating URLs...\n"
     ]
    },
    {
     "name": "stderr",
     "output_type": "stream",
     "text": [
      "2025-01-25 13:23:07,764 - INFO - URL https://www.eversports.de/s/st-polestudio is valid.\n"
     ]
    },
    {
     "name": "stdout",
     "output_type": "stream",
     "text": [
      "Scraping Pole Studio Data from https://www.eversports.de/s/st-polestudio...\n"
     ]
    },
    {
     "name": "stderr",
     "output_type": "stream",
     "text": [
      "Processing URLs:  76%|███████▌  | 172/227 [06:10<01:41,  1.84s/it]"
     ]
    },
    {
     "name": "stdout",
     "output_type": "stream",
     "text": [
      "\n",
      "Processing completed.\n",
      "-------------------------------- \n",
      "\n",
      "2025-01-25 13:23:08 - INFO - Scraping Data from: https://www.eversports.de/s/st-polestudio\n",
      "Pole Studio Data: 1 entries\n",
      "Starting URL reconstruction...\n"
     ]
    },
    {
     "name": "stderr",
     "output_type": "stream",
     "text": [
      "2025-01-25 13:23:08,644 - INFO - Processing URL 1/1: https://www.eversports.de/s/swiss-mega-park\n"
     ]
    },
    {
     "name": "stdout",
     "output_type": "stream",
     "text": [
      "Converting to DataFrame...\n",
      "Validating URLs...\n"
     ]
    },
    {
     "name": "stderr",
     "output_type": "stream",
     "text": [
      "2025-01-25 13:23:09,157 - INFO - URL https://www.eversports.de/s/swiss-mega-park is valid.\n"
     ]
    },
    {
     "name": "stdout",
     "output_type": "stream",
     "text": [
      "Scraping Pole Studio Data from https://www.eversports.de/s/swiss-mega-park...\n"
     ]
    },
    {
     "name": "stderr",
     "output_type": "stream",
     "text": [
      "Processing URLs:  76%|███████▌  | 173/227 [06:11<01:33,  1.73s/it]"
     ]
    },
    {
     "name": "stdout",
     "output_type": "stream",
     "text": [
      "\n",
      "Processing completed.\n",
      "-------------------------------- \n",
      "\n",
      "2025-01-25 13:23:09 - INFO - Scraping Data from: https://www.eversports.de/s/swiss-mega-park\n",
      "Pole Studio Data: 1 entries\n",
      "Starting URL reconstruction...\n"
     ]
    },
    {
     "name": "stderr",
     "output_type": "stream",
     "text": [
      "2025-01-25 13:23:10,767 - INFO - Processing URL 1/2: https://www.eversports.de/s/schoenheitstanz-studio\n"
     ]
    },
    {
     "name": "stdout",
     "output_type": "stream",
     "text": [
      "Converting to DataFrame...\n",
      "Validating URLs...\n"
     ]
    },
    {
     "name": "stderr",
     "output_type": "stream",
     "text": [
      "2025-01-25 13:23:11,344 - INFO - URL https://www.eversports.de/s/schoenheitstanz-studio is valid.\n",
      "2025-01-25 13:23:11,345 - INFO - Processing URL 2/2: https://www.eversports.de/sw/schoenheitstanz-studio\n",
      "2025-01-25 13:23:13,073 - INFO - URL https://www.eversports.de/sw/schoenheitstanz-studio is valid.\n"
     ]
    },
    {
     "name": "stdout",
     "output_type": "stream",
     "text": [
      "Scraping Pole Studio Data from https://www.eversports.de/s/schoenheitstanz-studio...\n",
      "Scraping Workshops Data from https://www.eversports.de/sw/schoenheitstanz-studio...\n",
      "Scraping Workshop Details from https://www.eversports.de/e/workshop/cuKBwsF...\n",
      "Scraping Workshop Details from https://www.eversports.de/e/workshop/hUjXcDn...\n",
      "Scraping Workshop Details from https://www.eversports.de/e/workshop/pHLRKE2...\n",
      "Scraping Workshop Details from https://www.eversports.de/e/workshop/DWdAG6Y...\n",
      "Scraping Workshop Details from https://www.eversports.de/e/workshop/WigfnzM...\n",
      "Scraping Workshop Details from https://www.eversports.de/e/workshop/LFGaHVh...\n",
      "Scraping Workshop Details from https://www.eversports.de/e/workshop/sXE5kCl...\n",
      "Scraping Workshop Details from https://www.eversports.de/e/workshop/jLVbM9q...\n",
      "Scraping Workshop Details from https://www.eversports.de/e/workshop/uk7-b1E...\n",
      "Scraping Workshop Details from https://www.eversports.de/e/workshop/NpVsYx-...\n",
      "Scraping Workshop Details from https://www.eversports.de/e/workshop/lnVpWdw...\n",
      "Scraping Workshop Details from https://www.eversports.de/e/workshop/3SVU91I...\n",
      "Scraping Workshop Details from https://www.eversports.de/e/workshop/I5pXDUk...\n",
      "Scraping Workshop Details from https://www.eversports.de/e/workshop/K6-l-c7...\n",
      "Scraping Workshop Details from https://www.eversports.de/e/workshop/HBq4vpn...\n",
      "Scraping Workshop Details from https://www.eversports.de/e/workshop/5jA5ZKe...\n",
      "Scraping Workshop Details from https://www.eversports.de/e/workshop/kWPNTH2...\n",
      "Scraping Workshop Details from https://www.eversports.de/e/workshop/WQahiW_...\n",
      "Scraping Workshop Details from https://www.eversports.de/e/workshop/D3ZQpLo...\n",
      "Scraping Workshop Details from https://www.eversports.de/e/workshop/dDp4lxI...\n",
      "Scraping Workshop Details from https://www.eversports.de/e/workshop/MugCsDs...\n",
      "Scraping Workshop Details from https://www.eversports.de/e/workshop/1vM_0JD...\n",
      "Scraping Workshop Details from https://www.eversports.de/e/workshop/lmrc41E...\n",
      "Scraping Workshop Details from https://www.eversports.de/e/workshop/eGjK6Db...\n",
      "Scraping Workshop Details from https://www.eversports.de/e/workshop/7V4kT8U...\n",
      "Scraping Workshop Details from https://www.eversports.de/e/workshop/MiKWcrj...\n",
      "Scraping Workshop Details from https://www.eversports.de/e/workshop/gyKgslx...\n",
      "Scraping Workshop Details from https://www.eversports.de/e/workshop/ZXxedKu...\n",
      "Scraping Workshop Details from https://www.eversports.de/e/workshop/VyRZFkT...\n",
      "Scraping Workshop Details from https://www.eversports.de/e/workshop/Bbsfs7t...\n",
      "Scraping Workshop Details from https://www.eversports.de/e/workshop/jBaJWXH...\n",
      "Scraping Workshop Details from https://www.eversports.de/e/workshop/6Iphfgr...\n",
      "Scraping Workshop Details from https://www.eversports.de/e/workshop/2mVnDSS...\n",
      "Scraping Workshop Details from https://www.eversports.de/e/workshop/R2jwtTw...\n",
      "Scraping Workshop Details from https://www.eversports.de/e/workshop/VXk1xyE...\n",
      "Scraping Workshop Details from https://www.eversports.de/e/workshop/B9v3KiK...\n",
      "Scraping Workshop Details from https://www.eversports.de/e/workshop/GAg-lST...\n",
      "Scraping Workshop Details from https://www.eversports.de/e/workshop/5mg-0E_...\n",
      "Scraping Workshop Details from https://www.eversports.de/e/workshop/2z-r_jk...\n",
      "Scraping Workshop Details from https://www.eversports.de/e/workshop/G4szziT...\n",
      "Scraping Workshop Details from https://www.eversports.de/e/workshop/QUsRP0J...\n"
     ]
    },
    {
     "name": "stderr",
     "output_type": "stream",
     "text": [
      "Processing URLs:  77%|███████▋  | 174/227 [06:40<08:39,  9.80s/it]"
     ]
    },
    {
     "name": "stdout",
     "output_type": "stream",
     "text": [
      "\n",
      "Processing completed.\n",
      "-------------------------------- \n",
      "\n",
      "2025-01-25 13:23:38 - INFO - Scraping Data from: https://www.eversports.de/s/schoenheitstanz-studio\n",
      "Pole Studio Data: 1 entries\n",
      "2025-01-25 13:23:38 - INFO - Scraping Data from: https://www.eversports.de/s/schoenheitstanz-studio\n",
      "Workshops Data: 41 entries\n",
      "2025-01-25 13:23:38 - INFO - Scraping Data from: https://www.eversports.de/s/schoenheitstanz-studio\n",
      "Workshop Details: 41 entries\n",
      "Starting URL reconstruction...\n"
     ]
    },
    {
     "name": "stderr",
     "output_type": "stream",
     "text": [
      "Processing URLs:  77%|███████▋  | 175/227 [06:40<05:59,  6.92s/it]"
     ]
    },
    {
     "name": "stdout",
     "output_type": "stream",
     "text": [
      "Error during HTTP request: 404 Client Error: Not Found for url: https://www.eversports.de/s/seemannsbraut-poledance\n",
      "Converting to DataFrame...\n",
      "Validating URLs...\n",
      "\n",
      "Processing completed.\n",
      "-------------------------------- \n",
      "\n",
      "Starting URL reconstruction...\n"
     ]
    },
    {
     "name": "stderr",
     "output_type": "stream",
     "text": [
      "Processing URLs:  78%|███████▊  | 176/227 [06:41<04:12,  4.96s/it]"
     ]
    },
    {
     "name": "stdout",
     "output_type": "stream",
     "text": [
      "Error during HTTP request: 404 Client Error: Not Found for url: https://www.eversports.de/s/slow-motion\n",
      "Converting to DataFrame...\n",
      "Validating URLs...\n",
      "\n",
      "Processing completed.\n",
      "-------------------------------- \n",
      "\n",
      "Starting URL reconstruction...\n"
     ]
    },
    {
     "name": "stderr",
     "output_type": "stream",
     "text": [
      "2025-01-25 13:23:39,122 - INFO - Processing URL 1/1: https://www.eversports.de/s/soul-flight\n"
     ]
    },
    {
     "name": "stdout",
     "output_type": "stream",
     "text": [
      "Converting to DataFrame...\n",
      "Validating URLs...\n"
     ]
    },
    {
     "name": "stderr",
     "output_type": "stream",
     "text": [
      "2025-01-25 13:23:40,383 - INFO - URL https://www.eversports.de/s/soul-flight is valid.\n"
     ]
    },
    {
     "name": "stdout",
     "output_type": "stream",
     "text": [
      "Scraping Pole Studio Data from https://www.eversports.de/s/soul-flight...\n"
     ]
    },
    {
     "name": "stderr",
     "output_type": "stream",
     "text": [
      "Processing URLs:  78%|███████▊  | 177/227 [06:43<03:27,  4.15s/it]"
     ]
    },
    {
     "name": "stdout",
     "output_type": "stream",
     "text": [
      "\n",
      "Processing completed.\n",
      "-------------------------------- \n",
      "\n",
      "2025-01-25 13:23:41 - INFO - Scraping Data from: https://www.eversports.de/s/soul-flight\n",
      "Pole Studio Data: 1 entries\n",
      "Starting URL reconstruction...\n"
     ]
    },
    {
     "name": "stderr",
     "output_type": "stream",
     "text": [
      "2025-01-25 13:23:41,446 - INFO - Processing URL 1/2: https://www.eversports.de/s/soultide\n"
     ]
    },
    {
     "name": "stdout",
     "output_type": "stream",
     "text": [
      "Converting to DataFrame...\n",
      "Validating URLs...\n"
     ]
    },
    {
     "name": "stderr",
     "output_type": "stream",
     "text": [
      "2025-01-25 13:23:42,225 - INFO - URL https://www.eversports.de/s/soultide is valid.\n",
      "2025-01-25 13:23:42,226 - INFO - Processing URL 2/2: https://www.eversports.de/sw/soultide\n",
      "2025-01-25 13:23:42,471 - INFO - URL https://www.eversports.de/sw/soultide is valid.\n"
     ]
    },
    {
     "name": "stdout",
     "output_type": "stream",
     "text": [
      "Scraping Pole Studio Data from https://www.eversports.de/s/soultide...\n",
      "Scraping Workshops Data from https://www.eversports.de/sw/soultide...\n",
      "Scraping Workshop Details from https://www.eversports.de/e/workshop/e_Wqvfl...\n",
      "Scraping Workshop Details from https://www.eversports.de/e/workshop/nYFwxQq...\n",
      "Scraping Workshop Details from https://www.eversports.de/e/workshop/y-9S4w6...\n"
     ]
    },
    {
     "name": "stderr",
     "output_type": "stream",
     "text": [
      "Processing URLs:  78%|███████▊  | 178/227 [06:47<03:23,  4.15s/it]"
     ]
    },
    {
     "name": "stdout",
     "output_type": "stream",
     "text": [
      "\n",
      "Processing completed.\n",
      "-------------------------------- \n",
      "\n",
      "2025-01-25 13:23:45 - INFO - Scraping Data from: https://www.eversports.de/s/soultide\n",
      "Pole Studio Data: 1 entries\n",
      "2025-01-25 13:23:45 - INFO - Scraping Data from: https://www.eversports.de/s/soultide\n",
      "Workshops Data: 3 entries\n",
      "2025-01-25 13:23:45 - INFO - Scraping Data from: https://www.eversports.de/s/soultide\n",
      "Workshop Details: 3 entries\n",
      "Starting URL reconstruction...\n"
     ]
    },
    {
     "name": "stderr",
     "output_type": "stream",
     "text": [
      "2025-01-25 13:23:46,088 - INFO - Processing URL 1/1: https://www.eversports.de/s/spiritn-roses\n"
     ]
    },
    {
     "name": "stdout",
     "output_type": "stream",
     "text": [
      "Converting to DataFrame...\n",
      "Validating URLs...\n"
     ]
    },
    {
     "name": "stderr",
     "output_type": "stream",
     "text": [
      "2025-01-25 13:23:47,272 - INFO - URL https://www.eversports.de/s/spiritn-roses is valid.\n"
     ]
    },
    {
     "name": "stdout",
     "output_type": "stream",
     "text": [
      "Scraping Pole Studio Data from https://www.eversports.de/s/spiritn-roses...\n"
     ]
    },
    {
     "name": "stderr",
     "output_type": "stream",
     "text": [
      "Processing URLs:  79%|███████▉  | 179/227 [06:49<02:54,  3.64s/it]"
     ]
    },
    {
     "name": "stdout",
     "output_type": "stream",
     "text": [
      "\n",
      "Processing completed.\n",
      "-------------------------------- \n",
      "\n",
      "2025-01-25 13:23:47 - INFO - Scraping Data from: https://www.eversports.de/s/spiritn-roses\n",
      "Pole Studio Data: 1 entries\n",
      "Starting URL reconstruction...\n"
     ]
    },
    {
     "name": "stderr",
     "output_type": "stream",
     "text": [
      "2025-01-25 13:23:48,366 - INFO - Processing URL 1/1: https://www.eversports.de/s/sportheim-abensberg\n"
     ]
    },
    {
     "name": "stdout",
     "output_type": "stream",
     "text": [
      "Converting to DataFrame...\n",
      "Validating URLs...\n"
     ]
    },
    {
     "name": "stderr",
     "output_type": "stream",
     "text": [
      "2025-01-25 13:23:48,972 - INFO - URL https://www.eversports.de/s/sportheim-abensberg is valid.\n"
     ]
    },
    {
     "name": "stdout",
     "output_type": "stream",
     "text": [
      "Scraping Pole Studio Data from https://www.eversports.de/s/sportheim-abensberg...\n"
     ]
    },
    {
     "name": "stderr",
     "output_type": "stream",
     "text": [
      "Processing URLs:  79%|███████▉  | 180/227 [06:51<02:26,  3.12s/it]"
     ]
    },
    {
     "name": "stdout",
     "output_type": "stream",
     "text": [
      "\n",
      "Processing completed.\n",
      "-------------------------------- \n",
      "\n",
      "2025-01-25 13:23:49 - INFO - Scraping Data from: https://www.eversports.de/s/sportheim-abensberg\n",
      "Pole Studio Data: 1 entries\n",
      "Starting URL reconstruction...\n"
     ]
    },
    {
     "name": "stderr",
     "output_type": "stream",
     "text": [
      "2025-01-25 13:23:50,016 - INFO - Processing URL 1/2: https://www.eversports.de/s/stadtgazellen-bremen\n"
     ]
    },
    {
     "name": "stdout",
     "output_type": "stream",
     "text": [
      "Converting to DataFrame...\n",
      "Validating URLs...\n"
     ]
    },
    {
     "name": "stderr",
     "output_type": "stream",
     "text": [
      "2025-01-25 13:23:50,875 - INFO - URL https://www.eversports.de/s/stadtgazellen-bremen is valid.\n",
      "2025-01-25 13:23:50,876 - INFO - Processing URL 2/2: https://www.eversports.de/sw/stadtgazellen-bremen\n",
      "2025-01-25 13:23:51,109 - INFO - URL https://www.eversports.de/sw/stadtgazellen-bremen is valid.\n"
     ]
    },
    {
     "name": "stdout",
     "output_type": "stream",
     "text": [
      "Scraping Pole Studio Data from https://www.eversports.de/s/stadtgazellen-bremen...\n",
      "Scraping Workshops Data from https://www.eversports.de/sw/stadtgazellen-bremen...\n",
      "Scraping Workshop Details from https://www.eversports.de/e/workshop/Ae_SoKJ...\n",
      "Scraping Workshop Details from https://www.eversports.de/e/workshop/XzFT5RV...\n",
      "Scraping Workshop Details from https://www.eversports.de/e/workshop/xVUrVyy...\n",
      "Scraping Workshop Details from https://www.eversports.de/e/workshop/nYt1aJu...\n"
     ]
    },
    {
     "name": "stderr",
     "output_type": "stream",
     "text": [
      "Processing URLs:  80%|███████▉  | 181/227 [06:55<02:34,  3.36s/it]"
     ]
    },
    {
     "name": "stdout",
     "output_type": "stream",
     "text": [
      "\n",
      "Processing completed.\n",
      "-------------------------------- \n",
      "\n",
      "2025-01-25 13:23:53 - INFO - Scraping Data from: https://www.eversports.de/s/stadtgazellen-bremen\n",
      "Pole Studio Data: 1 entries\n",
      "2025-01-25 13:23:53 - INFO - Scraping Data from: https://www.eversports.de/s/stadtgazellen-bremen\n",
      "Workshops Data: 4 entries\n",
      "2025-01-25 13:23:53 - INFO - Scraping Data from: https://www.eversports.de/s/stadtgazellen-bremen\n",
      "Workshop Details: 4 entries\n",
      "Starting URL reconstruction...\n"
     ]
    },
    {
     "name": "stderr",
     "output_type": "stream",
     "text": [
      "2025-01-25 13:23:54,067 - INFO - Processing URL 1/1: https://www.eversports.de/s/stadtgazellen-studio\n"
     ]
    },
    {
     "name": "stdout",
     "output_type": "stream",
     "text": [
      "Converting to DataFrame...\n",
      "Validating URLs...\n"
     ]
    },
    {
     "name": "stderr",
     "output_type": "stream",
     "text": [
      "2025-01-25 13:23:54,776 - INFO - URL https://www.eversports.de/s/stadtgazellen-studio is valid.\n"
     ]
    },
    {
     "name": "stdout",
     "output_type": "stream",
     "text": [
      "Scraping Pole Studio Data from https://www.eversports.de/s/stadtgazellen-studio...\n"
     ]
    },
    {
     "name": "stderr",
     "output_type": "stream",
     "text": [
      "Processing URLs:  80%|████████  | 182/227 [06:57<02:09,  2.89s/it]"
     ]
    },
    {
     "name": "stdout",
     "output_type": "stream",
     "text": [
      "\n",
      "Processing completed.\n",
      "-------------------------------- \n",
      "\n",
      "2025-01-25 13:23:55 - INFO - Scraping Data from: https://www.eversports.de/s/stadtgazellen-studio\n",
      "Pole Studio Data: 1 entries\n",
      "Starting URL reconstruction...\n"
     ]
    },
    {
     "name": "stderr",
     "output_type": "stream",
     "text": [
      "2025-01-25 13:23:55,667 - INFO - Processing URL 1/2: https://www.eversports.de/s/star-poledance\n"
     ]
    },
    {
     "name": "stdout",
     "output_type": "stream",
     "text": [
      "Converting to DataFrame...\n",
      "Validating URLs...\n"
     ]
    },
    {
     "name": "stderr",
     "output_type": "stream",
     "text": [
      "2025-01-25 13:23:56,197 - INFO - URL https://www.eversports.de/s/star-poledance is valid.\n",
      "2025-01-25 13:23:56,197 - INFO - Processing URL 2/2: https://www.eversports.de/sw/star-poledance\n",
      "2025-01-25 13:23:56,376 - INFO - URL https://www.eversports.de/sw/star-poledance is valid.\n"
     ]
    },
    {
     "name": "stdout",
     "output_type": "stream",
     "text": [
      "Scraping Pole Studio Data from https://www.eversports.de/s/star-poledance...\n",
      "Scraping Workshops Data from https://www.eversports.de/sw/star-poledance...\n",
      "Scraping Workshop Details from https://www.eversports.de/e/workshop/l76HT61...\n"
     ]
    },
    {
     "name": "stderr",
     "output_type": "stream",
     "text": [
      "Processing URLs:  81%|████████  | 183/227 [06:59<01:57,  2.66s/it]"
     ]
    },
    {
     "name": "stdout",
     "output_type": "stream",
     "text": [
      "\n",
      "Processing completed.\n",
      "-------------------------------- \n",
      "\n",
      "2025-01-25 13:23:57 - INFO - Scraping Data from: https://www.eversports.de/s/star-poledance\n",
      "Pole Studio Data: 1 entries\n",
      "2025-01-25 13:23:57 - INFO - Scraping Data from: https://www.eversports.de/s/star-poledance\n",
      "Workshops Data: 1 entries\n",
      "2025-01-25 13:23:57 - INFO - Scraping Data from: https://www.eversports.de/s/star-poledance\n",
      "Workshop Details: 1 entries\n",
      "Starting URL reconstruction...\n"
     ]
    },
    {
     "name": "stderr",
     "output_type": "stream",
     "text": [
      "2025-01-25 13:23:57,900 - INFO - Processing URL 1/1: https://www.eversports.de/s/stories-in-motion\n"
     ]
    },
    {
     "name": "stdout",
     "output_type": "stream",
     "text": [
      "Converting to DataFrame...\n",
      "Validating URLs...\n"
     ]
    },
    {
     "name": "stderr",
     "output_type": "stream",
     "text": [
      "2025-01-25 13:23:58,337 - INFO - URL https://www.eversports.de/s/stories-in-motion is valid.\n"
     ]
    },
    {
     "name": "stdout",
     "output_type": "stream",
     "text": [
      "Scraping Pole Studio Data from https://www.eversports.de/s/stories-in-motion...\n"
     ]
    },
    {
     "name": "stderr",
     "output_type": "stream",
     "text": [
      "Processing URLs:  81%|████████  | 184/227 [07:00<01:36,  2.24s/it]"
     ]
    },
    {
     "name": "stdout",
     "output_type": "stream",
     "text": [
      "\n",
      "Processing completed.\n",
      "-------------------------------- \n",
      "\n",
      "2025-01-25 13:23:58 - INFO - Scraping Data from: https://www.eversports.de/s/stories-in-motion\n",
      "Pole Studio Data: 1 entries\n",
      "Starting URL reconstruction...\n"
     ]
    },
    {
     "name": "stderr",
     "output_type": "stream",
     "text": [
      "2025-01-25 13:23:59,086 - INFO - Processing URL 1/2: https://www.eversports.de/s/studio-aeris\n"
     ]
    },
    {
     "name": "stdout",
     "output_type": "stream",
     "text": [
      "Converting to DataFrame...\n",
      "Validating URLs...\n"
     ]
    },
    {
     "name": "stderr",
     "output_type": "stream",
     "text": [
      "2025-01-25 13:23:59,652 - INFO - URL https://www.eversports.de/s/studio-aeris is valid.\n",
      "2025-01-25 13:23:59,653 - INFO - Processing URL 2/2: https://www.eversports.de/sw/studio-aeris\n",
      "2025-01-25 13:23:59,781 - INFO - URL https://www.eversports.de/sw/studio-aeris is not valid.\n"
     ]
    },
    {
     "name": "stdout",
     "output_type": "stream",
     "text": [
      "Scraping Pole Studio Data from https://www.eversports.de/s/studio-aeris...\n"
     ]
    },
    {
     "name": "stderr",
     "output_type": "stream",
     "text": [
      "Processing URLs:  81%|████████▏ | 185/227 [07:02<01:31,  2.19s/it]"
     ]
    },
    {
     "name": "stdout",
     "output_type": "stream",
     "text": [
      "\n",
      "Processing completed.\n",
      "-------------------------------- \n",
      "\n",
      "2025-01-25 13:24:00 - INFO - Scraping Data from: https://www.eversports.de/s/studio-aeris\n",
      "Pole Studio Data: 1 entries\n",
      "Starting URL reconstruction...\n"
     ]
    },
    {
     "name": "stderr",
     "output_type": "stream",
     "text": [
      "2025-01-25 13:24:02,218 - INFO - Processing URL 1/2: https://www.eversports.de/s/studio-aeris\n"
     ]
    },
    {
     "name": "stdout",
     "output_type": "stream",
     "text": [
      "Converting to DataFrame...\n",
      "Validating URLs...\n"
     ]
    },
    {
     "name": "stderr",
     "output_type": "stream",
     "text": [
      "2025-01-25 13:24:02,831 - INFO - URL https://www.eversports.de/s/studio-aeris is valid.\n",
      "2025-01-25 13:24:02,831 - INFO - Processing URL 2/2: https://www.eversports.de/sw/studio-aeris\n",
      "2025-01-25 13:24:02,982 - INFO - URL https://www.eversports.de/sw/studio-aeris is not valid.\n"
     ]
    },
    {
     "name": "stdout",
     "output_type": "stream",
     "text": [
      "Scraping Pole Studio Data from https://www.eversports.de/s/studio-aeris...\n"
     ]
    },
    {
     "name": "stderr",
     "output_type": "stream",
     "text": [
      "Processing URLs:  82%|████████▏ | 186/227 [07:05<01:35,  2.34s/it]"
     ]
    },
    {
     "name": "stdout",
     "output_type": "stream",
     "text": [
      "\n",
      "Processing completed.\n",
      "-------------------------------- \n",
      "\n",
      "2025-01-25 13:24:03 - INFO - Scraping Data from: https://www.eversports.de/s/studio-aeris\n",
      "Pole Studio Data: 1 entries\n",
      "Starting URL reconstruction...\n"
     ]
    },
    {
     "name": "stderr",
     "output_type": "stream",
     "text": [
      "2025-01-25 13:24:04,159 - INFO - Processing URL 1/1: https://www.eversports.de/s/studio-nienke\n"
     ]
    },
    {
     "name": "stdout",
     "output_type": "stream",
     "text": [
      "Converting to DataFrame...\n",
      "Validating URLs...\n"
     ]
    },
    {
     "name": "stderr",
     "output_type": "stream",
     "text": [
      "2025-01-25 13:24:04,845 - INFO - URL https://www.eversports.de/s/studio-nienke is valid.\n"
     ]
    },
    {
     "name": "stdout",
     "output_type": "stream",
     "text": [
      "Scraping Pole Studio Data from https://www.eversports.de/s/studio-nienke...\n"
     ]
    },
    {
     "name": "stderr",
     "output_type": "stream",
     "text": [
      "Processing URLs:  82%|████████▏ | 187/227 [07:07<01:31,  2.29s/it]"
     ]
    },
    {
     "name": "stdout",
     "output_type": "stream",
     "text": [
      "\n",
      "Processing completed.\n",
      "-------------------------------- \n",
      "\n",
      "2025-01-25 13:24:05 - INFO - Scraping Data from: https://www.eversports.de/s/studio-nienke\n",
      "Pole Studio Data: 1 entries\n",
      "Starting URL reconstruction...\n"
     ]
    },
    {
     "name": "stderr",
     "output_type": "stream",
     "text": [
      "2025-01-25 13:24:06,171 - INFO - Processing URL 1/1: https://www.eversports.de/s/studio-nienke\n"
     ]
    },
    {
     "name": "stdout",
     "output_type": "stream",
     "text": [
      "Converting to DataFrame...\n",
      "Validating URLs...\n"
     ]
    },
    {
     "name": "stderr",
     "output_type": "stream",
     "text": [
      "2025-01-25 13:24:06,713 - INFO - URL https://www.eversports.de/s/studio-nienke is valid.\n"
     ]
    },
    {
     "name": "stdout",
     "output_type": "stream",
     "text": [
      "Scraping Pole Studio Data from https://www.eversports.de/s/studio-nienke...\n"
     ]
    },
    {
     "name": "stderr",
     "output_type": "stream",
     "text": [
      "Processing URLs:  83%|████████▎ | 188/227 [07:09<01:23,  2.15s/it]"
     ]
    },
    {
     "name": "stdout",
     "output_type": "stream",
     "text": [
      "\n",
      "Processing completed.\n",
      "-------------------------------- \n",
      "\n",
      "2025-01-25 13:24:07 - INFO - Scraping Data from: https://www.eversports.de/s/studio-nienke\n",
      "Pole Studio Data: 1 entries\n",
      "Starting URL reconstruction...\n"
     ]
    },
    {
     "name": "stderr",
     "output_type": "stream",
     "text": [
      "2025-01-25 13:24:08,039 - INFO - Processing URL 1/1: https://www.eversports.de/s/studio-poleroi\n"
     ]
    },
    {
     "name": "stdout",
     "output_type": "stream",
     "text": [
      "Converting to DataFrame...\n",
      "Validating URLs...\n"
     ]
    },
    {
     "name": "stderr",
     "output_type": "stream",
     "text": [
      "2025-01-25 13:24:08,624 - INFO - URL https://www.eversports.de/s/studio-poleroi is valid.\n"
     ]
    },
    {
     "name": "stdout",
     "output_type": "stream",
     "text": [
      "Scraping Pole Studio Data from https://www.eversports.de/s/studio-poleroi...\n"
     ]
    },
    {
     "name": "stderr",
     "output_type": "stream",
     "text": [
      "Processing URLs:  83%|████████▎ | 189/227 [07:11<01:18,  2.06s/it]"
     ]
    },
    {
     "name": "stdout",
     "output_type": "stream",
     "text": [
      "\n",
      "Processing completed.\n",
      "-------------------------------- \n",
      "\n",
      "2025-01-25 13:24:09 - INFO - Scraping Data from: https://www.eversports.de/s/studio-poleroi\n",
      "Pole Studio Data: 1 entries\n",
      "Starting URL reconstruction...\n"
     ]
    },
    {
     "name": "stderr",
     "output_type": "stream",
     "text": [
      "2025-01-25 13:24:09,989 - INFO - Processing URL 1/2: https://www.eversports.de/s/studio-skye\n"
     ]
    },
    {
     "name": "stdout",
     "output_type": "stream",
     "text": [
      "Converting to DataFrame...\n",
      "Validating URLs...\n"
     ]
    },
    {
     "name": "stderr",
     "output_type": "stream",
     "text": [
      "2025-01-25 13:24:10,475 - INFO - URL https://www.eversports.de/s/studio-skye is valid.\n",
      "2025-01-25 13:24:10,476 - INFO - Processing URL 2/2: https://www.eversports.de/sw/studio-skye\n",
      "2025-01-25 13:24:10,623 - INFO - URL https://www.eversports.de/sw/studio-skye is not valid.\n"
     ]
    },
    {
     "name": "stdout",
     "output_type": "stream",
     "text": [
      "Scraping Pole Studio Data from https://www.eversports.de/s/studio-skye...\n"
     ]
    },
    {
     "name": "stderr",
     "output_type": "stream",
     "text": [
      "Processing URLs:  84%|████████▎ | 190/227 [07:13<01:13,  1.97s/it]"
     ]
    },
    {
     "name": "stdout",
     "output_type": "stream",
     "text": [
      "\n",
      "Processing completed.\n",
      "-------------------------------- \n",
      "\n",
      "2025-01-25 13:24:11 - INFO - Scraping Data from: https://www.eversports.de/s/studio-skye\n",
      "Pole Studio Data: 1 entries\n",
      "Starting URL reconstruction...\n"
     ]
    },
    {
     "name": "stderr",
     "output_type": "stream",
     "text": [
      "2025-01-25 13:24:11,594 - INFO - Processing URL 1/1: https://www.eversports.de/s/sweatndance\n"
     ]
    },
    {
     "name": "stdout",
     "output_type": "stream",
     "text": [
      "Converting to DataFrame...\n",
      "Validating URLs...\n"
     ]
    },
    {
     "name": "stderr",
     "output_type": "stream",
     "text": [
      "2025-01-25 13:24:11,830 - INFO - URL https://www.eversports.de/s/sweatndance is valid.\n"
     ]
    },
    {
     "name": "stdout",
     "output_type": "stream",
     "text": [
      "Scraping Pole Studio Data from https://www.eversports.de/s/sweatndance...\n"
     ]
    },
    {
     "name": "stderr",
     "output_type": "stream",
     "text": [
      "Processing URLs:  84%|████████▍ | 191/227 [07:14<01:01,  1.71s/it]"
     ]
    },
    {
     "name": "stdout",
     "output_type": "stream",
     "text": [
      "\n",
      "Processing completed.\n",
      "-------------------------------- \n",
      "\n",
      "2025-01-25 13:24:12 - INFO - Scraping Data from: https://www.eversports.de/s/sweatndance\n",
      "Pole Studio Data: 1 entries\n",
      "Starting URL reconstruction...\n"
     ]
    },
    {
     "name": "stderr",
     "output_type": "stream",
     "text": [
      "2025-01-25 13:24:12,881 - INFO - Processing URL 1/2: https://www.eversports.de/s/t-tanzstueck-braunschweig\n"
     ]
    },
    {
     "name": "stdout",
     "output_type": "stream",
     "text": [
      "Converting to DataFrame...\n",
      "Validating URLs...\n"
     ]
    },
    {
     "name": "stderr",
     "output_type": "stream",
     "text": [
      "2025-01-25 13:24:13,241 - INFO - URL https://www.eversports.de/s/t-tanzstueck-braunschweig is valid.\n",
      "2025-01-25 13:24:13,242 - INFO - Processing URL 2/2: https://www.eversports.de/sw/t-tanzstueck-braunschweig\n",
      "2025-01-25 13:24:13,412 - INFO - URL https://www.eversports.de/sw/t-tanzstueck-braunschweig is valid.\n"
     ]
    },
    {
     "name": "stdout",
     "output_type": "stream",
     "text": [
      "Scraping Pole Studio Data from https://www.eversports.de/s/t-tanzstueck-braunschweig...\n",
      "Scraping Workshops Data from https://www.eversports.de/sw/t-tanzstueck-braunschweig...\n",
      "Scraping Workshop Details from https://www.eversports.de/e/workshop/v7L5-Cx...\n",
      "Scraping Workshop Details from https://www.eversports.de/e/workshop/jG-Wwfr...\n"
     ]
    },
    {
     "name": "stderr",
     "output_type": "stream",
     "text": [
      "Processing URLs:  85%|████████▍ | 192/227 [07:17<01:11,  2.03s/it]"
     ]
    },
    {
     "name": "stdout",
     "output_type": "stream",
     "text": [
      "\n",
      "Processing completed.\n",
      "-------------------------------- \n",
      "\n",
      "2025-01-25 13:24:14 - INFO - Scraping Data from: https://www.eversports.de/s/t-tanzstueck-braunschweig\n",
      "Pole Studio Data: 1 entries\n",
      "2025-01-25 13:24:14 - INFO - Scraping Data from: https://www.eversports.de/s/t-tanzstueck-braunschweig\n",
      "Workshops Data: 2 entries\n",
      "2025-01-25 13:24:14 - INFO - Scraping Data from: https://www.eversports.de/s/t-tanzstueck-braunschweig\n",
      "Workshop Details: 2 entries\n",
      "Starting URL reconstruction...\n"
     ]
    },
    {
     "name": "stderr",
     "output_type": "stream",
     "text": [
      "2025-01-25 13:24:15,379 - INFO - Processing URL 1/2: https://www.eversports.de/s/t-tanzstueck-wolfsburg\n"
     ]
    },
    {
     "name": "stdout",
     "output_type": "stream",
     "text": [
      "Converting to DataFrame...\n",
      "Validating URLs...\n"
     ]
    },
    {
     "name": "stderr",
     "output_type": "stream",
     "text": [
      "2025-01-25 13:24:15,683 - INFO - URL https://www.eversports.de/s/t-tanzstueck-wolfsburg is valid.\n",
      "2025-01-25 13:24:15,684 - INFO - Processing URL 2/2: https://www.eversports.de/sw/t-tanzstueck-wolfsburg\n",
      "2025-01-25 13:24:16,507 - INFO - URL https://www.eversports.de/sw/t-tanzstueck-wolfsburg is valid.\n"
     ]
    },
    {
     "name": "stdout",
     "output_type": "stream",
     "text": [
      "Scraping Pole Studio Data from https://www.eversports.de/s/t-tanzstueck-wolfsburg...\n",
      "Scraping Workshops Data from https://www.eversports.de/sw/t-tanzstueck-wolfsburg...\n",
      "Scraping Workshop Details from https://www.eversports.de/e/workshop/3Twatx4...\n",
      "Scraping Workshop Details from https://www.eversports.de/e/workshop/fRzoXsO...\n"
     ]
    },
    {
     "name": "stderr",
     "output_type": "stream",
     "text": [
      "Processing URLs:  85%|████████▌ | 193/227 [07:20<01:21,  2.40s/it]"
     ]
    },
    {
     "name": "stdout",
     "output_type": "stream",
     "text": [
      "\n",
      "Processing completed.\n",
      "-------------------------------- \n",
      "\n",
      "2025-01-25 13:24:18 - INFO - Scraping Data from: https://www.eversports.de/s/t-tanzstueck-wolfsburg\n",
      "Pole Studio Data: 1 entries\n",
      "2025-01-25 13:24:18 - INFO - Scraping Data from: https://www.eversports.de/s/t-tanzstueck-wolfsburg\n",
      "Workshops Data: 2 entries\n",
      "2025-01-25 13:24:18 - INFO - Scraping Data from: https://www.eversports.de/s/t-tanzstueck-wolfsburg\n",
      "Workshop Details: 2 entries\n",
      "Starting URL reconstruction...\n"
     ]
    },
    {
     "name": "stderr",
     "output_type": "stream",
     "text": [
      "2025-01-25 13:24:19,172 - INFO - Processing URL 1/2: https://www.eversports.de/s/tsg-blau-gold-giessen-ev\n"
     ]
    },
    {
     "name": "stdout",
     "output_type": "stream",
     "text": [
      "Converting to DataFrame...\n",
      "Validating URLs...\n"
     ]
    },
    {
     "name": "stderr",
     "output_type": "stream",
     "text": [
      "2025-01-25 13:24:20,106 - INFO - URL https://www.eversports.de/s/tsg-blau-gold-giessen-ev is valid.\n",
      "2025-01-25 13:24:20,107 - INFO - Processing URL 2/2: https://www.eversports.de/sw/tsg-blau-gold-giessen-ev\n",
      "2025-01-25 13:24:20,472 - INFO - URL https://www.eversports.de/sw/tsg-blau-gold-giessen-ev is valid.\n"
     ]
    },
    {
     "name": "stdout",
     "output_type": "stream",
     "text": [
      "Scraping Pole Studio Data from https://www.eversports.de/s/tsg-blau-gold-giessen-ev...\n",
      "Scraping Workshops Data from https://www.eversports.de/sw/tsg-blau-gold-giessen-ev...\n",
      "Scraping Workshop Details from https://www.eversports.de/e/workshop/5pg7lN1...\n",
      "Scraping Workshop Details from https://www.eversports.de/e/workshop/VgUxR8D...\n"
     ]
    },
    {
     "name": "stderr",
     "output_type": "stream",
     "text": [
      "Processing URLs:  85%|████████▌ | 194/227 [07:24<01:38,  3.00s/it]"
     ]
    },
    {
     "name": "stdout",
     "output_type": "stream",
     "text": [
      "\n",
      "Processing completed.\n",
      "-------------------------------- \n",
      "\n",
      "2025-01-25 13:24:22 - INFO - Scraping Data from: https://www.eversports.de/s/tsg-blau-gold-giessen-ev\n",
      "Pole Studio Data: 1 entries\n",
      "2025-01-25 13:24:22 - INFO - Scraping Data from: https://www.eversports.de/s/tsg-blau-gold-giessen-ev\n",
      "Workshops Data: 2 entries\n",
      "2025-01-25 13:24:22 - INFO - Scraping Data from: https://www.eversports.de/s/tsg-blau-gold-giessen-ev\n",
      "Workshop Details: 2 entries\n",
      "Starting URL reconstruction...\n"
     ]
    },
    {
     "name": "stderr",
     "output_type": "stream",
     "text": [
      "2025-01-25 13:24:23,172 - INFO - Processing URL 1/1: https://www.eversports.de/s/tanzschule-poledance-reutlingen\n"
     ]
    },
    {
     "name": "stdout",
     "output_type": "stream",
     "text": [
      "Converting to DataFrame...\n",
      "Validating URLs...\n"
     ]
    },
    {
     "name": "stderr",
     "output_type": "stream",
     "text": [
      "2025-01-25 13:24:24,621 - INFO - URL https://www.eversports.de/s/tanzschule-poledance-reutlingen is valid.\n"
     ]
    },
    {
     "name": "stdout",
     "output_type": "stream",
     "text": [
      "Scraping Pole Studio Data from https://www.eversports.de/s/tanzschule-poledance-reutlingen...\n"
     ]
    },
    {
     "name": "stderr",
     "output_type": "stream",
     "text": [
      "Processing URLs:  86%|████████▌ | 195/227 [07:27<01:32,  2.88s/it]"
     ]
    },
    {
     "name": "stdout",
     "output_type": "stream",
     "text": [
      "\n",
      "Processing completed.\n",
      "-------------------------------- \n",
      "\n",
      "2025-01-25 13:24:25 - INFO - Scraping Data from: https://www.eversports.de/s/tanzschule-poledance-reutlingen\n",
      "Pole Studio Data: 1 entries\n",
      "Starting URL reconstruction...\n"
     ]
    },
    {
     "name": "stderr",
     "output_type": "stream",
     "text": [
      "2025-01-25 13:24:25,653 - INFO - Processing URL 1/1: https://www.eversports.de/s/tanzstudio-michel\n"
     ]
    },
    {
     "name": "stdout",
     "output_type": "stream",
     "text": [
      "Converting to DataFrame...\n",
      "Validating URLs...\n"
     ]
    },
    {
     "name": "stderr",
     "output_type": "stream",
     "text": [
      "2025-01-25 13:24:26,182 - INFO - URL https://www.eversports.de/s/tanzstudio-michel is valid.\n"
     ]
    },
    {
     "name": "stdout",
     "output_type": "stream",
     "text": [
      "Scraping Pole Studio Data from https://www.eversports.de/s/tanzstudio-michel...\n"
     ]
    },
    {
     "name": "stderr",
     "output_type": "stream",
     "text": [
      "Processing URLs:  86%|████████▋ | 196/227 [07:28<01:15,  2.43s/it]"
     ]
    },
    {
     "name": "stdout",
     "output_type": "stream",
     "text": [
      "\n",
      "Processing completed.\n",
      "-------------------------------- \n",
      "\n",
      "2025-01-25 13:24:26 - INFO - Scraping Data from: https://www.eversports.de/s/tanzstudio-michel\n",
      "Pole Studio Data: 1 entries\n",
      "Starting URL reconstruction...\n"
     ]
    },
    {
     "name": "stderr",
     "output_type": "stream",
     "text": [
      "2025-01-25 13:24:27,454 - INFO - Processing URL 1/1: https://www.eversports.de/s/tanzteufel\n"
     ]
    },
    {
     "name": "stdout",
     "output_type": "stream",
     "text": [
      "Converting to DataFrame...\n",
      "Validating URLs...\n"
     ]
    },
    {
     "name": "stderr",
     "output_type": "stream",
     "text": [
      "2025-01-25 13:24:27,975 - INFO - URL https://www.eversports.de/s/tanzteufel is valid.\n"
     ]
    },
    {
     "name": "stdout",
     "output_type": "stream",
     "text": [
      "Scraping Pole Studio Data from https://www.eversports.de/s/tanzteufel...\n"
     ]
    },
    {
     "name": "stderr",
     "output_type": "stream",
     "text": [
      "Processing URLs:  87%|████████▋ | 197/227 [07:31<01:12,  2.43s/it]"
     ]
    },
    {
     "name": "stdout",
     "output_type": "stream",
     "text": [
      "\n",
      "Processing completed.\n",
      "-------------------------------- \n",
      "\n",
      "2025-01-25 13:24:28 - INFO - Scraping Data from: https://www.eversports.de/s/tanzteufel\n",
      "Pole Studio Data: 1 entries\n",
      "Starting URL reconstruction...\n"
     ]
    },
    {
     "name": "stderr",
     "output_type": "stream",
     "text": [
      "2025-01-25 13:24:29,770 - INFO - Processing URL 1/1: https://www.eversports.de/s/the-basement-pole-dance-and-movement\n"
     ]
    },
    {
     "name": "stdout",
     "output_type": "stream",
     "text": [
      "Converting to DataFrame...\n",
      "Validating URLs...\n"
     ]
    },
    {
     "name": "stderr",
     "output_type": "stream",
     "text": [
      "2025-01-25 13:24:30,043 - INFO - URL https://www.eversports.de/s/the-basement-pole-dance-and-movement is valid.\n"
     ]
    },
    {
     "name": "stdout",
     "output_type": "stream",
     "text": [
      "Scraping Pole Studio Data from https://www.eversports.de/s/the-basement-pole-dance-and-movement...\n"
     ]
    },
    {
     "name": "stderr",
     "output_type": "stream",
     "text": [
      "Processing URLs:  87%|████████▋ | 198/227 [07:32<01:02,  2.15s/it]"
     ]
    },
    {
     "name": "stdout",
     "output_type": "stream",
     "text": [
      "\n",
      "Processing completed.\n",
      "-------------------------------- \n",
      "\n",
      "2025-01-25 13:24:30 - INFO - Scraping Data from: https://www.eversports.de/s/the-basement-pole-dance-and-movement\n",
      "Pole Studio Data: 1 entries\n",
      "Starting URL reconstruction...\n"
     ]
    },
    {
     "name": "stderr",
     "output_type": "stream",
     "text": [
      "2025-01-25 13:24:30,883 - INFO - Processing URL 1/1: https://www.eversports.de/s/the-pole-jungle\n"
     ]
    },
    {
     "name": "stdout",
     "output_type": "stream",
     "text": [
      "Converting to DataFrame...\n",
      "Validating URLs...\n"
     ]
    },
    {
     "name": "stderr",
     "output_type": "stream",
     "text": [
      "2025-01-25 13:24:31,158 - INFO - URL https://www.eversports.de/s/the-pole-jungle is valid.\n"
     ]
    },
    {
     "name": "stdout",
     "output_type": "stream",
     "text": [
      "Scraping Pole Studio Data from https://www.eversports.de/s/the-pole-jungle...\n"
     ]
    },
    {
     "name": "stderr",
     "output_type": "stream",
     "text": [
      "Processing URLs:  88%|████████▊ | 199/227 [07:33<00:51,  1.86s/it]"
     ]
    },
    {
     "name": "stdout",
     "output_type": "stream",
     "text": [
      "\n",
      "Processing completed.\n",
      "-------------------------------- \n",
      "\n",
      "2025-01-25 13:24:31 - INFO - Scraping Data from: https://www.eversports.de/s/the-pole-jungle\n",
      "Pole Studio Data: 1 entries\n",
      "Starting URL reconstruction...\n"
     ]
    },
    {
     "name": "stderr",
     "output_type": "stream",
     "text": [
      "2025-01-25 13:24:32,193 - INFO - Processing URL 1/1: https://www.eversports.de/s/the-pole-jungle\n"
     ]
    },
    {
     "name": "stdout",
     "output_type": "stream",
     "text": [
      "Converting to DataFrame...\n",
      "Validating URLs...\n"
     ]
    },
    {
     "name": "stderr",
     "output_type": "stream",
     "text": [
      "2025-01-25 13:24:32,624 - INFO - URL https://www.eversports.de/s/the-pole-jungle is valid.\n"
     ]
    },
    {
     "name": "stdout",
     "output_type": "stream",
     "text": [
      "Scraping Pole Studio Data from https://www.eversports.de/s/the-pole-jungle...\n"
     ]
    },
    {
     "name": "stderr",
     "output_type": "stream",
     "text": [
      "Processing URLs:  88%|████████▊ | 200/227 [07:36<00:52,  1.94s/it]"
     ]
    },
    {
     "name": "stdout",
     "output_type": "stream",
     "text": [
      "\n",
      "Processing completed.\n",
      "-------------------------------- \n",
      "\n",
      "2025-01-25 13:24:33 - INFO - Scraping Data from: https://www.eversports.de/s/the-pole-jungle\n",
      "Pole Studio Data: 1 entries\n",
      "Starting URL reconstruction...\n"
     ]
    },
    {
     "name": "stderr",
     "output_type": "stream",
     "text": [
      "Processing URLs:  89%|████████▊ | 201/227 [07:36<00:37,  1.43s/it]"
     ]
    },
    {
     "name": "stdout",
     "output_type": "stream",
     "text": [
      "Error during HTTP request: 404 Client Error: Not Found for url: https://www.eversports.de/s/the-pole-lounge\n",
      "Converting to DataFrame...\n",
      "Validating URLs...\n",
      "\n",
      "Processing completed.\n",
      "-------------------------------- \n",
      "\n",
      "Starting URL reconstruction...\n"
     ]
    },
    {
     "name": "stderr",
     "output_type": "stream",
     "text": [
      "2025-01-25 13:24:34,473 - INFO - Processing URL 1/1: https://www.eversports.de/s/the-pole-temple\n"
     ]
    },
    {
     "name": "stdout",
     "output_type": "stream",
     "text": [
      "Converting to DataFrame...\n",
      "Validating URLs...\n"
     ]
    },
    {
     "name": "stderr",
     "output_type": "stream",
     "text": [
      "2025-01-25 13:24:34,845 - INFO - URL https://www.eversports.de/s/the-pole-temple is valid.\n"
     ]
    },
    {
     "name": "stdout",
     "output_type": "stream",
     "text": [
      "Scraping Pole Studio Data from https://www.eversports.de/s/the-pole-temple...\n"
     ]
    },
    {
     "name": "stderr",
     "output_type": "stream",
     "text": [
      "Processing URLs:  89%|████████▉ | 202/227 [07:37<00:34,  1.36s/it]"
     ]
    },
    {
     "name": "stdout",
     "output_type": "stream",
     "text": [
      "\n",
      "Processing completed.\n",
      "-------------------------------- \n",
      "\n",
      "2025-01-25 13:24:35 - INFO - Scraping Data from: https://www.eversports.de/s/the-pole-temple\n",
      "Pole Studio Data: 1 entries\n",
      "Starting URL reconstruction...\n"
     ]
    },
    {
     "name": "stderr",
     "output_type": "stream",
     "text": [
      "2025-01-25 13:24:35,793 - INFO - Processing URL 1/1: https://www.eversports.de/s/the-supergirl-studio\n"
     ]
    },
    {
     "name": "stdout",
     "output_type": "stream",
     "text": [
      "Converting to DataFrame...\n",
      "Validating URLs...\n"
     ]
    },
    {
     "name": "stderr",
     "output_type": "stream",
     "text": [
      "2025-01-25 13:24:36,341 - INFO - URL https://www.eversports.de/s/the-supergirl-studio is valid.\n"
     ]
    },
    {
     "name": "stdout",
     "output_type": "stream",
     "text": [
      "Scraping Pole Studio Data from https://www.eversports.de/s/the-supergirl-studio...\n"
     ]
    },
    {
     "name": "stderr",
     "output_type": "stream",
     "text": [
      "Processing URLs:  89%|████████▉ | 203/227 [07:39<00:34,  1.42s/it]"
     ]
    },
    {
     "name": "stdout",
     "output_type": "stream",
     "text": [
      "\n",
      "Processing completed.\n",
      "-------------------------------- \n",
      "\n",
      "2025-01-25 13:24:36 - INFO - Scraping Data from: https://www.eversports.de/s/the-supergirl-studio\n",
      "Pole Studio Data: 1 entries\n",
      "Starting URL reconstruction...\n"
     ]
    },
    {
     "name": "stderr",
     "output_type": "stream",
     "text": [
      "Processing URLs:  90%|████████▉ | 204/227 [07:39<00:26,  1.16s/it]"
     ]
    },
    {
     "name": "stdout",
     "output_type": "stream",
     "text": [
      "Error during HTTP request: 404 Client Error: Not Found for url: https://www.eversports.de/s/upsidedown-studio-bad-homburg\n",
      "Converting to DataFrame...\n",
      "Validating URLs...\n",
      "\n",
      "Processing completed.\n",
      "-------------------------------- \n",
      "\n",
      "Starting URL reconstruction...\n"
     ]
    },
    {
     "name": "stderr",
     "output_type": "stream",
     "text": [
      "Processing URLs:  90%|█████████ | 205/227 [07:39<00:19,  1.14it/s]"
     ]
    },
    {
     "name": "stdout",
     "output_type": "stream",
     "text": [
      "Error during HTTP request: 404 Client Error: Not Found for url: https://www.eversports.de/s/upsidedown-studio-friedrichsdorf\n",
      "Converting to DataFrame...\n",
      "Validating URLs...\n",
      "\n",
      "Processing completed.\n",
      "-------------------------------- \n",
      "\n",
      "Starting URL reconstruction...\n"
     ]
    },
    {
     "name": "stderr",
     "output_type": "stream",
     "text": [
      "Processing URLs:  91%|█████████ | 206/227 [07:40<00:14,  1.45it/s]"
     ]
    },
    {
     "name": "stdout",
     "output_type": "stream",
     "text": [
      "Error during HTTP request: 404 Client Error: Not Found for url: https://www.eversports.de/s/vibes-by-v-school\n",
      "Converting to DataFrame...\n",
      "Validating URLs...\n",
      "\n",
      "Processing completed.\n",
      "-------------------------------- \n",
      "\n",
      "Starting URL reconstruction...\n"
     ]
    },
    {
     "name": "stderr",
     "output_type": "stream",
     "text": [
      "2025-01-25 13:24:38,229 - INFO - Processing URL 1/2: https://www.eversports.de/s/vipole-poledance-and-aerial-arts\n"
     ]
    },
    {
     "name": "stdout",
     "output_type": "stream",
     "text": [
      "Converting to DataFrame...\n",
      "Validating URLs...\n"
     ]
    },
    {
     "name": "stderr",
     "output_type": "stream",
     "text": [
      "2025-01-25 13:24:38,684 - INFO - URL https://www.eversports.de/s/vipole-poledance-and-aerial-arts is valid.\n",
      "2025-01-25 13:24:38,685 - INFO - Processing URL 2/2: https://www.eversports.de/sw/vipole-poledance-and-aerial-arts\n",
      "2025-01-25 13:24:38,876 - INFO - URL https://www.eversports.de/sw/vipole-poledance-and-aerial-arts is not valid.\n"
     ]
    },
    {
     "name": "stdout",
     "output_type": "stream",
     "text": [
      "Scraping Pole Studio Data from https://www.eversports.de/s/vipole-poledance-and-aerial-arts...\n"
     ]
    },
    {
     "name": "stderr",
     "output_type": "stream",
     "text": [
      "Processing URLs:  91%|█████████ | 207/227 [07:41<00:19,  1.04it/s]"
     ]
    },
    {
     "name": "stdout",
     "output_type": "stream",
     "text": [
      "\n",
      "Processing completed.\n",
      "-------------------------------- \n",
      "\n",
      "2025-01-25 13:24:39 - INFO - Scraping Data from: https://www.eversports.de/s/vipole-poledance-and-aerial-arts\n",
      "Pole Studio Data: 1 entries\n",
      "Starting URL reconstruction...\n"
     ]
    },
    {
     "name": "stderr",
     "output_type": "stream",
     "text": [
      "2025-01-25 13:24:39,728 - INFO - Processing URL 1/1: https://www.eversports.de/s/valkyrie-pole-basel\n"
     ]
    },
    {
     "name": "stdout",
     "output_type": "stream",
     "text": [
      "Converting to DataFrame...\n",
      "Validating URLs...\n"
     ]
    },
    {
     "name": "stderr",
     "output_type": "stream",
     "text": [
      "2025-01-25 13:24:40,065 - INFO - URL https://www.eversports.de/s/valkyrie-pole-basel is valid.\n"
     ]
    },
    {
     "name": "stdout",
     "output_type": "stream",
     "text": [
      "Scraping Pole Studio Data from https://www.eversports.de/s/valkyrie-pole-basel...\n"
     ]
    },
    {
     "name": "stderr",
     "output_type": "stream",
     "text": [
      "Processing URLs:  92%|█████████▏| 208/227 [07:42<00:19,  1.05s/it]"
     ]
    },
    {
     "name": "stdout",
     "output_type": "stream",
     "text": [
      "\n",
      "Processing completed.\n",
      "-------------------------------- \n",
      "\n",
      "2025-01-25 13:24:40 - INFO - Scraping Data from: https://www.eversports.de/s/valkyrie-pole-basel\n",
      "Pole Studio Data: 1 entries\n",
      "Starting URL reconstruction...\n"
     ]
    },
    {
     "name": "stderr",
     "output_type": "stream",
     "text": [
      "2025-01-25 13:24:40,969 - INFO - Processing URL 1/1: https://www.eversports.de/s/valkyrie-pole-luzern\n"
     ]
    },
    {
     "name": "stdout",
     "output_type": "stream",
     "text": [
      "Converting to DataFrame...\n",
      "Validating URLs...\n"
     ]
    },
    {
     "name": "stderr",
     "output_type": "stream",
     "text": [
      "2025-01-25 13:24:41,319 - INFO - URL https://www.eversports.de/s/valkyrie-pole-luzern is valid.\n"
     ]
    },
    {
     "name": "stdout",
     "output_type": "stream",
     "text": [
      "Scraping Pole Studio Data from https://www.eversports.de/s/valkyrie-pole-luzern...\n"
     ]
    },
    {
     "name": "stderr",
     "output_type": "stream",
     "text": [
      "Processing URLs:  92%|█████████▏| 209/227 [07:43<00:18,  1.05s/it]"
     ]
    },
    {
     "name": "stdout",
     "output_type": "stream",
     "text": [
      "\n",
      "Processing completed.\n",
      "-------------------------------- \n",
      "\n",
      "2025-01-25 13:24:41 - INFO - Scraping Data from: https://www.eversports.de/s/valkyrie-pole-luzern\n",
      "Pole Studio Data: 1 entries\n",
      "Starting URL reconstruction...\n"
     ]
    },
    {
     "name": "stderr",
     "output_type": "stream",
     "text": [
      "2025-01-25 13:24:42,467 - INFO - Processing URL 1/2: https://www.eversports.de/s/vertical-pole-aerial-dance-1\n"
     ]
    },
    {
     "name": "stdout",
     "output_type": "stream",
     "text": [
      "Converting to DataFrame...\n",
      "Validating URLs...\n"
     ]
    },
    {
     "name": "stderr",
     "output_type": "stream",
     "text": [
      "2025-01-25 13:24:42,957 - INFO - URL https://www.eversports.de/s/vertical-pole-aerial-dance-1 is valid.\n",
      "2025-01-25 13:24:42,958 - INFO - Processing URL 2/2: https://www.eversports.de/sw/vertical-pole-aerial-dance-1\n",
      "2025-01-25 13:24:43,157 - INFO - URL https://www.eversports.de/sw/vertical-pole-aerial-dance-1 is valid.\n"
     ]
    },
    {
     "name": "stdout",
     "output_type": "stream",
     "text": [
      "Scraping Pole Studio Data from https://www.eversports.de/s/vertical-pole-aerial-dance-1...\n",
      "Scraping Workshops Data from https://www.eversports.de/sw/vertical-pole-aerial-dance-1...\n",
      "Scraping Workshop Details from https://www.eversports.de/e/workshop/WEe_-Dj...\n",
      "Scraping Workshop Details from https://www.eversports.de/e/workshop/5ebFj0A...\n",
      "Scraping Workshop Details from https://www.eversports.de/e/workshop/RAT28hF...\n",
      "Scraping Workshop Details from https://www.eversports.de/e/workshop/A2Lrp_w...\n"
     ]
    },
    {
     "name": "stderr",
     "output_type": "stream",
     "text": [
      "Processing URLs:  93%|█████████▎| 210/227 [07:47<00:32,  1.94s/it]"
     ]
    },
    {
     "name": "stdout",
     "output_type": "stream",
     "text": [
      "\n",
      "Processing completed.\n",
      "-------------------------------- \n",
      "\n",
      "2025-01-25 13:24:45 - INFO - Scraping Data from: https://www.eversports.de/s/vertical-pole-aerial-dance-1\n",
      "Pole Studio Data: 1 entries\n",
      "2025-01-25 13:24:45 - INFO - Scraping Data from: https://www.eversports.de/s/vertical-pole-aerial-dance-1\n",
      "Workshops Data: 4 entries\n",
      "2025-01-25 13:24:45 - INFO - Scraping Data from: https://www.eversports.de/s/vertical-pole-aerial-dance-1\n",
      "Workshop Details: 4 entries\n",
      "Starting URL reconstruction...\n"
     ]
    },
    {
     "name": "stderr",
     "output_type": "stream",
     "text": [
      "2025-01-25 13:24:46,217 - INFO - Processing URL 1/2: https://www.eversports.de/s/vertical-pole-aerial-dance\n"
     ]
    },
    {
     "name": "stdout",
     "output_type": "stream",
     "text": [
      "Converting to DataFrame...\n",
      "Validating URLs...\n"
     ]
    },
    {
     "name": "stderr",
     "output_type": "stream",
     "text": [
      "2025-01-25 13:24:46,719 - INFO - URL https://www.eversports.de/s/vertical-pole-aerial-dance is valid.\n",
      "2025-01-25 13:24:46,720 - INFO - Processing URL 2/2: https://www.eversports.de/sw/vertical-pole-aerial-dance\n",
      "2025-01-25 13:24:46,872 - INFO - URL https://www.eversports.de/sw/vertical-pole-aerial-dance is valid.\n"
     ]
    },
    {
     "name": "stdout",
     "output_type": "stream",
     "text": [
      "Scraping Pole Studio Data from https://www.eversports.de/s/vertical-pole-aerial-dance...\n",
      "Scraping Workshops Data from https://www.eversports.de/sw/vertical-pole-aerial-dance...\n",
      "Scraping Workshop Details from https://www.eversports.de/e/workshop/WUFvc2B...\n",
      "Scraping Workshop Details from https://www.eversports.de/e/workshop/ZpF1SeV...\n"
     ]
    },
    {
     "name": "stderr",
     "output_type": "stream",
     "text": [
      "Processing URLs:  93%|█████████▎| 211/227 [07:51<00:39,  2.44s/it]"
     ]
    },
    {
     "name": "stdout",
     "output_type": "stream",
     "text": [
      "\n",
      "Processing completed.\n",
      "-------------------------------- \n",
      "\n",
      "2025-01-25 13:24:49 - INFO - Scraping Data from: https://www.eversports.de/s/vertical-pole-aerial-dance\n",
      "Pole Studio Data: 1 entries\n",
      "2025-01-25 13:24:49 - INFO - Scraping Data from: https://www.eversports.de/s/vertical-pole-aerial-dance\n",
      "Workshops Data: 2 entries\n",
      "2025-01-25 13:24:49 - INFO - Scraping Data from: https://www.eversports.de/s/vertical-pole-aerial-dance\n",
      "Workshop Details: 2 entries\n",
      "Starting URL reconstruction...\n"
     ]
    },
    {
     "name": "stderr",
     "output_type": "stream",
     "text": [
      "2025-01-25 13:24:49,857 - INFO - Processing URL 1/1: https://www.eversports.de/s/verticale\n"
     ]
    },
    {
     "name": "stdout",
     "output_type": "stream",
     "text": [
      "Converting to DataFrame...\n",
      "Validating URLs...\n"
     ]
    },
    {
     "name": "stderr",
     "output_type": "stream",
     "text": [
      "2025-01-25 13:24:50,287 - INFO - URL https://www.eversports.de/s/verticale is valid.\n"
     ]
    },
    {
     "name": "stdout",
     "output_type": "stream",
     "text": [
      "Scraping Pole Studio Data from https://www.eversports.de/s/verticale...\n"
     ]
    },
    {
     "name": "stderr",
     "output_type": "stream",
     "text": [
      "Processing URLs:  93%|█████████▎| 212/227 [07:53<00:32,  2.14s/it]"
     ]
    },
    {
     "name": "stdout",
     "output_type": "stream",
     "text": [
      "\n",
      "Processing completed.\n",
      "-------------------------------- \n",
      "\n",
      "2025-01-25 13:24:50 - INFO - Scraping Data from: https://www.eversports.de/s/verticale\n",
      "Pole Studio Data: 1 entries\n",
      "Starting URL reconstruction...\n"
     ]
    },
    {
     "name": "stderr",
     "output_type": "stream",
     "text": [
      "2025-01-25 13:24:51,205 - INFO - Processing URL 1/1: https://www.eversports.de/s/WeLovePoledance\n"
     ]
    },
    {
     "name": "stdout",
     "output_type": "stream",
     "text": [
      "Converting to DataFrame...\n",
      "Validating URLs...\n"
     ]
    },
    {
     "name": "stderr",
     "output_type": "stream",
     "text": [
      "2025-01-25 13:24:51,537 - INFO - URL https://www.eversports.de/s/WeLovePoledance is valid.\n"
     ]
    },
    {
     "name": "stdout",
     "output_type": "stream",
     "text": [
      "Scraping Pole Studio Data from https://www.eversports.de/s/WeLovePoledance...\n"
     ]
    },
    {
     "name": "stderr",
     "output_type": "stream",
     "text": [
      "Processing URLs:  94%|█████████▍| 213/227 [07:54<00:26,  1.88s/it]"
     ]
    },
    {
     "name": "stdout",
     "output_type": "stream",
     "text": [
      "\n",
      "Processing completed.\n",
      "-------------------------------- \n",
      "\n",
      "2025-01-25 13:24:51 - INFO - Scraping Data from: https://www.eversports.de/s/WeLovePoledance\n",
      "Pole Studio Data: 1 entries\n",
      "Starting URL reconstruction...\n"
     ]
    },
    {
     "name": "stderr",
     "output_type": "stream",
     "text": [
      "2025-01-25 13:24:53,820 - INFO - Processing URL 1/1: https://www.eversports.de/s/welovepoledance\n"
     ]
    },
    {
     "name": "stdout",
     "output_type": "stream",
     "text": [
      "Converting to DataFrame...\n",
      "Validating URLs...\n"
     ]
    },
    {
     "name": "stderr",
     "output_type": "stream",
     "text": [
      "2025-01-25 13:24:54,037 - INFO - URL https://www.eversports.de/s/welovepoledance is valid.\n"
     ]
    },
    {
     "name": "stdout",
     "output_type": "stream",
     "text": [
      "Scraping Pole Studio Data from https://www.eversports.de/s/welovepoledance...\n"
     ]
    },
    {
     "name": "stderr",
     "output_type": "stream",
     "text": [
      "Processing URLs:  94%|█████████▍| 214/227 [07:56<00:25,  2.00s/it]"
     ]
    },
    {
     "name": "stdout",
     "output_type": "stream",
     "text": [
      "\n",
      "Processing completed.\n",
      "-------------------------------- \n",
      "\n",
      "2025-01-25 13:24:54 - INFO - Scraping Data from: https://www.eversports.de/s/welovepoledance\n",
      "Pole Studio Data: 1 entries\n",
      "Starting URL reconstruction...\n"
     ]
    },
    {
     "name": "stderr",
     "output_type": "stream",
     "text": [
      "2025-01-25 13:24:54,670 - INFO - Processing URL 1/1: https://www.eversports.de/s/x-step-berlin\n"
     ]
    },
    {
     "name": "stdout",
     "output_type": "stream",
     "text": [
      "Converting to DataFrame...\n",
      "Validating URLs...\n"
     ]
    },
    {
     "name": "stderr",
     "output_type": "stream",
     "text": [
      "2025-01-25 13:24:55,109 - INFO - URL https://www.eversports.de/s/x-step-berlin is valid.\n"
     ]
    },
    {
     "name": "stdout",
     "output_type": "stream",
     "text": [
      "Scraping Pole Studio Data from https://www.eversports.de/s/x-step-berlin...\n"
     ]
    },
    {
     "name": "stderr",
     "output_type": "stream",
     "text": [
      "Processing URLs:  95%|█████████▍| 215/227 [07:57<00:21,  1.75s/it]"
     ]
    },
    {
     "name": "stdout",
     "output_type": "stream",
     "text": [
      "\n",
      "Processing completed.\n",
      "-------------------------------- \n",
      "\n",
      "2025-01-25 13:24:55 - INFO - Scraping Data from: https://www.eversports.de/s/x-step-berlin\n",
      "Pole Studio Data: 1 entries\n",
      "Starting URL reconstruction...\n"
     ]
    },
    {
     "name": "stderr",
     "output_type": "stream",
     "text": [
      "2025-01-25 13:24:55,857 - INFO - Processing URL 1/1: https://www.eversports.de/s/yh-pole-and-sports-berlin\n"
     ]
    },
    {
     "name": "stdout",
     "output_type": "stream",
     "text": [
      "Converting to DataFrame...\n",
      "Validating URLs...\n"
     ]
    },
    {
     "name": "stderr",
     "output_type": "stream",
     "text": [
      "2025-01-25 13:24:56,270 - INFO - URL https://www.eversports.de/s/yh-pole-and-sports-berlin is valid.\n"
     ]
    },
    {
     "name": "stdout",
     "output_type": "stream",
     "text": [
      "Scraping Pole Studio Data from https://www.eversports.de/s/yh-pole-and-sports-berlin...\n"
     ]
    },
    {
     "name": "stderr",
     "output_type": "stream",
     "text": [
      "Processing URLs:  95%|█████████▌| 216/227 [07:59<00:18,  1.65s/it]"
     ]
    },
    {
     "name": "stdout",
     "output_type": "stream",
     "text": [
      "\n",
      "Processing completed.\n",
      "-------------------------------- \n",
      "\n",
      "2025-01-25 13:24:56 - INFO - Scraping Data from: https://www.eversports.de/s/yh-pole-and-sports-berlin\n",
      "Pole Studio Data: 1 entries\n",
      "Starting URL reconstruction...\n"
     ]
    },
    {
     "name": "stderr",
     "output_type": "stream",
     "text": [
      "2025-01-25 13:24:57,551 - INFO - Processing URL 1/2: https://www.eversports.de/s/yoga-at-lobe-block\n"
     ]
    },
    {
     "name": "stdout",
     "output_type": "stream",
     "text": [
      "Converting to DataFrame...\n",
      "Validating URLs...\n"
     ]
    },
    {
     "name": "stderr",
     "output_type": "stream",
     "text": [
      "2025-01-25 13:24:58,002 - INFO - URL https://www.eversports.de/s/yoga-at-lobe-block is valid.\n",
      "2025-01-25 13:24:58,003 - INFO - Processing URL 2/2: https://www.eversports.de/sw/yoga-at-lobe-block\n",
      "2025-01-25 13:24:58,302 - INFO - URL https://www.eversports.de/sw/yoga-at-lobe-block is valid.\n"
     ]
    },
    {
     "name": "stdout",
     "output_type": "stream",
     "text": [
      "Scraping Pole Studio Data from https://www.eversports.de/s/yoga-at-lobe-block...\n",
      "Scraping Workshops Data from https://www.eversports.de/sw/yoga-at-lobe-block...\n",
      "Scraping Workshop Details from https://www.eversports.de/e/workshop/0HfcOho...\n",
      "Scraping Workshop Details from https://www.eversports.de/e/workshop/EUTE4VU...\n"
     ]
    },
    {
     "name": "stderr",
     "output_type": "stream",
     "text": [
      "Processing URLs:  96%|█████████▌| 217/227 [08:03<00:23,  2.40s/it]"
     ]
    },
    {
     "name": "stdout",
     "output_type": "stream",
     "text": [
      "\n",
      "Processing completed.\n",
      "-------------------------------- \n",
      "\n",
      "2025-01-25 13:25:01 - INFO - Scraping Data from: https://www.eversports.de/s/yoga-at-lobe-block\n",
      "Pole Studio Data: 1 entries\n",
      "2025-01-25 13:25:01 - INFO - Scraping Data from: https://www.eversports.de/s/yoga-at-lobe-block\n",
      "Workshops Data: 2 entries\n",
      "2025-01-25 13:25:01 - INFO - Scraping Data from: https://www.eversports.de/s/yoga-at-lobe-block\n",
      "Workshop Details: 2 entries\n",
      "Starting URL reconstruction...\n"
     ]
    },
    {
     "name": "stderr",
     "output_type": "stream",
     "text": [
      "Processing URLs:  96%|█████████▌| 218/227 [08:03<00:16,  1.80s/it]"
     ]
    },
    {
     "name": "stdout",
     "output_type": "stream",
     "text": [
      "Error during HTTP request: 404 Client Error: Not Found for url: https://www.eversports.de/s/yoga-vidya-burgdorf\n",
      "Converting to DataFrame...\n",
      "Validating URLs...\n",
      "\n",
      "Processing completed.\n",
      "-------------------------------- \n",
      "\n",
      "Starting URL reconstruction...\n"
     ]
    },
    {
     "name": "stderr",
     "output_type": "stream",
     "text": [
      "2025-01-25 13:25:01,899 - INFO - Processing URL 1/2: https://www.eversports.de/s/yoga-and-pole-art-by-selina\n"
     ]
    },
    {
     "name": "stdout",
     "output_type": "stream",
     "text": [
      "Converting to DataFrame...\n",
      "Validating URLs...\n"
     ]
    },
    {
     "name": "stderr",
     "output_type": "stream",
     "text": [
      "2025-01-25 13:25:02,229 - INFO - URL https://www.eversports.de/s/yoga-and-pole-art-by-selina is valid.\n",
      "2025-01-25 13:25:02,230 - INFO - Processing URL 2/2: https://www.eversports.de/sw/yoga-and-pole-art-by-selina\n",
      "2025-01-25 13:25:02,469 - INFO - URL https://www.eversports.de/sw/yoga-and-pole-art-by-selina is valid.\n"
     ]
    },
    {
     "name": "stdout",
     "output_type": "stream",
     "text": [
      "Scraping Pole Studio Data from https://www.eversports.de/s/yoga-and-pole-art-by-selina...\n",
      "Scraping Workshops Data from https://www.eversports.de/sw/yoga-and-pole-art-by-selina...\n",
      "Scraping Workshop Details from https://www.eversports.de/e/workshop/xfwKzc_...\n",
      "Scraping Workshop Details from https://www.eversports.de/e/workshop/thcPVH2...\n"
     ]
    },
    {
     "name": "stderr",
     "output_type": "stream",
     "text": [
      "Processing URLs:  96%|█████████▋| 219/227 [08:06<00:16,  2.09s/it]"
     ]
    },
    {
     "name": "stdout",
     "output_type": "stream",
     "text": [
      "\n",
      "Processing completed.\n",
      "-------------------------------- \n",
      "\n",
      "2025-01-25 13:25:04 - INFO - Scraping Data from: https://www.eversports.de/s/yoga-and-pole-art-by-selina\n",
      "Pole Studio Data: 1 entries\n",
      "2025-01-25 13:25:04 - INFO - Scraping Data from: https://www.eversports.de/s/yoga-and-pole-art-by-selina\n",
      "Workshops Data: 2 entries\n",
      "2025-01-25 13:25:04 - INFO - Scraping Data from: https://www.eversports.de/s/yoga-and-pole-art-by-selina\n",
      "Workshop Details: 2 entries\n",
      "Starting URL reconstruction...\n"
     ]
    },
    {
     "name": "stderr",
     "output_type": "stream",
     "text": [
      "2025-01-25 13:25:04,550 - INFO - Processing URL 1/1: https://www.eversports.de/s/a-heart-for-poledance\n"
     ]
    },
    {
     "name": "stdout",
     "output_type": "stream",
     "text": [
      "Converting to DataFrame...\n",
      "Validating URLs...\n"
     ]
    },
    {
     "name": "stderr",
     "output_type": "stream",
     "text": [
      "2025-01-25 13:25:04,835 - INFO - URL https://www.eversports.de/s/a-heart-for-poledance is valid.\n"
     ]
    },
    {
     "name": "stdout",
     "output_type": "stream",
     "text": [
      "Scraping Pole Studio Data from https://www.eversports.de/s/a-heart-for-poledance...\n"
     ]
    },
    {
     "name": "stderr",
     "output_type": "stream",
     "text": [
      "Processing URLs:  97%|█████████▋| 220/227 [08:07<00:12,  1.82s/it]"
     ]
    },
    {
     "name": "stdout",
     "output_type": "stream",
     "text": [
      "\n",
      "Processing completed.\n",
      "-------------------------------- \n",
      "\n",
      "2025-01-25 13:25:05 - INFO - Scraping Data from: https://www.eversports.de/s/a-heart-for-poledance\n",
      "Pole Studio Data: 1 entries\n",
      "Starting URL reconstruction...\n"
     ]
    },
    {
     "name": "stderr",
     "output_type": "stream",
     "text": [
      "2025-01-25 13:25:06,069 - INFO - Processing URL 1/2: https://www.eversports.de/s/aerialflow\n"
     ]
    },
    {
     "name": "stdout",
     "output_type": "stream",
     "text": [
      "Converting to DataFrame...\n",
      "Validating URLs...\n"
     ]
    },
    {
     "name": "stderr",
     "output_type": "stream",
     "text": [
      "2025-01-25 13:25:06,766 - INFO - URL https://www.eversports.de/s/aerialflow is valid.\n",
      "2025-01-25 13:25:06,766 - INFO - Processing URL 2/2: https://www.eversports.de/sw/aerialflow\n",
      "2025-01-25 13:25:06,980 - INFO - URL https://www.eversports.de/sw/aerialflow is valid.\n"
     ]
    },
    {
     "name": "stdout",
     "output_type": "stream",
     "text": [
      "Scraping Pole Studio Data from https://www.eversports.de/s/aerialflow...\n",
      "Scraping Workshops Data from https://www.eversports.de/sw/aerialflow...\n",
      "Scraping Workshop Details from https://www.eversports.de/e/workshop/NG_xskE...\n",
      "Scraping Workshop Details from https://www.eversports.de/e/workshop/MdFtKgS...\n",
      "Scraping Workshop Details from https://www.eversports.de/e/workshop/NXmO-yd...\n",
      "Scraping Workshop Details from https://www.eversports.de/e/workshop/uDBA7GN...\n",
      "Scraping Workshop Details from https://www.eversports.de/e/workshop/9MYmFvn...\n",
      "Scraping Workshop Details from https://www.eversports.de/e/workshop/77frQon...\n",
      "Scraping Workshop Details from https://www.eversports.de/e/workshop/fgBex6G...\n"
     ]
    },
    {
     "name": "stderr",
     "output_type": "stream",
     "text": [
      "Processing URLs:  97%|█████████▋| 221/227 [08:12<00:16,  2.82s/it]"
     ]
    },
    {
     "name": "stdout",
     "output_type": "stream",
     "text": [
      "\n",
      "Processing completed.\n",
      "-------------------------------- \n",
      "\n",
      "2025-01-25 13:25:10 - INFO - Scraping Data from: https://www.eversports.de/s/aerialflow\n",
      "Pole Studio Data: 1 entries\n",
      "2025-01-25 13:25:10 - INFO - Scraping Data from: https://www.eversports.de/s/aerialflow\n",
      "Workshops Data: 7 entries\n",
      "2025-01-25 13:25:10 - INFO - Scraping Data from: https://www.eversports.de/s/aerialflow\n",
      "Workshop Details: 7 entries\n",
      "Starting URL reconstruction...\n"
     ]
    },
    {
     "name": "stderr",
     "output_type": "stream",
     "text": [
      "2025-01-25 13:25:11,109 - INFO - Processing URL 1/1: https://www.eversports.de/s/freigeist-studio-kufstein\n"
     ]
    },
    {
     "name": "stdout",
     "output_type": "stream",
     "text": [
      "Converting to DataFrame...\n",
      "Validating URLs...\n"
     ]
    },
    {
     "name": "stderr",
     "output_type": "stream",
     "text": [
      "2025-01-25 13:25:11,883 - INFO - URL https://www.eversports.de/s/freigeist-studio-kufstein is valid.\n"
     ]
    },
    {
     "name": "stdout",
     "output_type": "stream",
     "text": [
      "Scraping Pole Studio Data from https://www.eversports.de/s/freigeist-studio-kufstein...\n"
     ]
    },
    {
     "name": "stderr",
     "output_type": "stream",
     "text": [
      "Processing URLs:  98%|█████████▊| 222/227 [08:14<00:12,  2.51s/it]"
     ]
    },
    {
     "name": "stdout",
     "output_type": "stream",
     "text": [
      "\n",
      "Processing completed.\n",
      "-------------------------------- \n",
      "\n",
      "2025-01-25 13:25:12 - INFO - Scraping Data from: https://www.eversports.de/s/freigeist-studio-kufstein\n",
      "Pole Studio Data: 1 entries\n",
      "Starting URL reconstruction...\n"
     ]
    },
    {
     "name": "stderr",
     "output_type": "stream",
     "text": [
      "2025-01-25 13:25:13,027 - INFO - Processing URL 1/2: https://www.eversports.de/s/koerpernah\n"
     ]
    },
    {
     "name": "stdout",
     "output_type": "stream",
     "text": [
      "Converting to DataFrame...\n",
      "Validating URLs...\n"
     ]
    },
    {
     "name": "stderr",
     "output_type": "stream",
     "text": [
      "2025-01-25 13:25:13,436 - INFO - URL https://www.eversports.de/s/koerpernah is valid.\n",
      "2025-01-25 13:25:13,437 - INFO - Processing URL 2/2: https://www.eversports.de/sw/koerpernah\n",
      "2025-01-25 13:25:13,829 - INFO - URL https://www.eversports.de/sw/koerpernah is valid.\n"
     ]
    },
    {
     "name": "stdout",
     "output_type": "stream",
     "text": [
      "Scraping Pole Studio Data from https://www.eversports.de/s/koerpernah...\n",
      "Scraping Workshops Data from https://www.eversports.de/sw/koerpernah...\n",
      "Scraping Workshop Details from https://www.eversports.de/e/workshop/IZ19jmZ...\n",
      "Scraping Workshop Details from https://www.eversports.de/e/workshop/k3LwIqd...\n",
      "Scraping Workshop Details from https://www.eversports.de/e/workshop/iQJ8EOI...\n",
      "Scraping Workshop Details from https://www.eversports.de/e/workshop/yBSn4Kd...\n",
      "Scraping Workshop Details from https://www.eversports.de/e/workshop/HPxQRDE...\n"
     ]
    },
    {
     "name": "stderr",
     "output_type": "stream",
     "text": [
      "Processing URLs:  98%|█████████▊| 223/227 [08:19<00:13,  3.35s/it]"
     ]
    },
    {
     "name": "stdout",
     "output_type": "stream",
     "text": [
      "\n",
      "Processing completed.\n",
      "-------------------------------- \n",
      "\n",
      "2025-01-25 13:25:17 - INFO - Scraping Data from: https://www.eversports.de/s/koerpernah\n",
      "Pole Studio Data: 1 entries\n",
      "2025-01-25 13:25:17 - INFO - Scraping Data from: https://www.eversports.de/s/koerpernah\n",
      "Workshops Data: 5 entries\n",
      "2025-01-25 13:25:17 - INFO - Scraping Data from: https://www.eversports.de/s/koerpernah\n",
      "Workshop Details: 5 entries\n",
      "Starting URL reconstruction...\n"
     ]
    },
    {
     "name": "stderr",
     "output_type": "stream",
     "text": [
      "2025-01-25 13:25:18,060 - INFO - Processing URL 1/2: https://www.eversports.de/s/poda-studio\n"
     ]
    },
    {
     "name": "stdout",
     "output_type": "stream",
     "text": [
      "Converting to DataFrame...\n",
      "Validating URLs...\n"
     ]
    },
    {
     "name": "stderr",
     "output_type": "stream",
     "text": [
      "2025-01-25 13:25:18,501 - INFO - URL https://www.eversports.de/s/poda-studio is valid.\n",
      "2025-01-25 13:25:18,502 - INFO - Processing URL 2/2: https://www.eversports.de/sw/poda-studio\n",
      "2025-01-25 13:25:18,789 - INFO - URL https://www.eversports.de/sw/poda-studio is valid.\n"
     ]
    },
    {
     "name": "stdout",
     "output_type": "stream",
     "text": [
      "Scraping Pole Studio Data from https://www.eversports.de/s/poda-studio...\n",
      "Scraping Workshops Data from https://www.eversports.de/sw/poda-studio...\n",
      "Scraping Workshop Details from https://www.eversports.de/e/workshop/3e5_5WT...\n",
      "Scraping Workshop Details from https://www.eversports.de/e/workshop/a_E89CU...\n",
      "Scraping Workshop Details from https://www.eversports.de/e/workshop/RWKQk7h...\n",
      "Scraping Workshop Details from https://www.eversports.de/e/workshop/n1jHCwY...\n",
      "Scraping Workshop Details from https://www.eversports.de/e/workshop/vt2tLK6...\n",
      "Scraping Workshop Details from https://www.eversports.de/e/workshop/0_EmL4T...\n",
      "Scraping Workshop Details from https://www.eversports.de/e/workshop/Fw0zXFrrP...\n",
      "Scraping Workshop Details from https://www.eversports.de/e/workshop/BUexCl2...\n",
      "Scraping Workshop Details from https://www.eversports.de/e/workshop/fdVi5VY...\n",
      "Scraping Workshop Details from https://www.eversports.de/e/workshop/EpTLJGK...\n",
      "Scraping Workshop Details from https://www.eversports.de/e/workshop/PORMHco...\n",
      "Scraping Workshop Details from https://www.eversports.de/e/workshop/QLUyBIr...\n",
      "Scraping Workshop Details from https://www.eversports.de/e/workshop/6-m53Pq...\n"
     ]
    },
    {
     "name": "stderr",
     "output_type": "stream",
     "text": [
      "Processing URLs:  99%|█████████▉| 225/227 [08:28<00:07,  3.54s/it]"
     ]
    },
    {
     "name": "stdout",
     "output_type": "stream",
     "text": [
      "\n",
      "Processing completed.\n",
      "-------------------------------- \n",
      "\n",
      "2025-01-25 13:25:26 - INFO - Scraping Data from: https://www.eversports.de/s/poda-studio\n",
      "Pole Studio Data: 1 entries\n",
      "2025-01-25 13:25:26 - INFO - Scraping Data from: https://www.eversports.de/s/poda-studio\n",
      "Workshops Data: 13 entries\n",
      "2025-01-25 13:25:26 - INFO - Scraping Data from: https://www.eversports.de/s/poda-studio\n",
      "Workshop Details: 13 entries\n",
      "Starting URL reconstruction...\n",
      "Error during HTTP request: 404 Client Error: Not Found for url: https://www.eversports.de/s/pure-body-concepts-1\n",
      "Converting to DataFrame...\n",
      "Validating URLs...\n",
      "\n",
      "Processing completed.\n",
      "-------------------------------- \n",
      "\n",
      "Starting URL reconstruction...\n"
     ]
    },
    {
     "name": "stderr",
     "output_type": "stream",
     "text": [
      "2025-01-25 13:25:26,923 - INFO - Processing URL 1/1: https://www.eversports.de/s/pure-body-concepts\n"
     ]
    },
    {
     "name": "stdout",
     "output_type": "stream",
     "text": [
      "Converting to DataFrame...\n",
      "Validating URLs...\n"
     ]
    },
    {
     "name": "stderr",
     "output_type": "stream",
     "text": [
      "2025-01-25 13:25:27,193 - INFO - URL https://www.eversports.de/s/pure-body-concepts is valid.\n"
     ]
    },
    {
     "name": "stdout",
     "output_type": "stream",
     "text": [
      "Scraping Pole Studio Data from https://www.eversports.de/s/pure-body-concepts...\n"
     ]
    },
    {
     "name": "stderr",
     "output_type": "stream",
     "text": [
      "Processing URLs: 100%|█████████▉| 226/227 [08:29<00:02,  2.73s/it]"
     ]
    },
    {
     "name": "stdout",
     "output_type": "stream",
     "text": [
      "\n",
      "Processing completed.\n",
      "-------------------------------- \n",
      "\n",
      "2025-01-25 13:25:27 - INFO - Scraping Data from: https://www.eversports.de/s/pure-body-concepts\n",
      "Pole Studio Data: 1 entries\n",
      "Starting URL reconstruction...\n"
     ]
    },
    {
     "name": "stderr",
     "output_type": "stream",
     "text": [
      "2025-01-25 13:25:27,899 - INFO - Processing URL 1/2: https://www.eversports.de/s/schwerelos-muenster\n"
     ]
    },
    {
     "name": "stdout",
     "output_type": "stream",
     "text": [
      "Converting to DataFrame...\n",
      "Validating URLs...\n"
     ]
    },
    {
     "name": "stderr",
     "output_type": "stream",
     "text": [
      "2025-01-25 13:25:28,297 - INFO - URL https://www.eversports.de/s/schwerelos-muenster is valid.\n",
      "2025-01-25 13:25:28,298 - INFO - Processing URL 2/2: https://www.eversports.de/sw/schwerelos-muenster\n",
      "2025-01-25 13:25:28,633 - INFO - URL https://www.eversports.de/sw/schwerelos-muenster is valid.\n"
     ]
    },
    {
     "name": "stdout",
     "output_type": "stream",
     "text": [
      "Scraping Pole Studio Data from https://www.eversports.de/s/schwerelos-muenster...\n",
      "Scraping Workshops Data from https://www.eversports.de/sw/schwerelos-muenster...\n",
      "Scraping Workshop Details from https://www.eversports.de/e/workshop/SyRpqlj...\n",
      "Scraping Workshop Details from https://www.eversports.de/e/workshop/M_mjQMt...\n",
      "Scraping Workshop Details from https://www.eversports.de/e/workshop/3Ogcqzl...\n",
      "Scraping Workshop Details from https://www.eversports.de/e/workshop/T6JkHSu...\n",
      "Scraping Workshop Details from https://www.eversports.de/e/workshop/1gKaUsB...\n",
      "Scraping Workshop Details from https://www.eversports.de/e/workshop/mZUjbyQ...\n",
      "Scraping Workshop Details from https://www.eversports.de/e/workshop/LTXznaq...\n",
      "Scraping Workshop Details from https://www.eversports.de/e/workshop/4gZeiQu...\n",
      "Scraping Workshop Details from https://www.eversports.de/e/workshop/8BBT4rq...\n",
      "Scraping Workshop Details from https://www.eversports.de/e/workshop/9B7w_Vv...\n",
      "Scraping Workshop Details from https://www.eversports.de/e/workshop/uRs2MsY...\n"
     ]
    },
    {
     "name": "stderr",
     "output_type": "stream",
     "text": [
      "Processing URLs: 100%|██████████| 227/227 [08:37<00:00,  2.28s/it]"
     ]
    },
    {
     "name": "stdout",
     "output_type": "stream",
     "text": [
      "\n",
      "Processing completed.\n",
      "-------------------------------- \n",
      "\n",
      "2025-01-25 13:25:35 - INFO - Scraping Data from: https://www.eversports.de/s/schwerelos-muenster\n",
      "Pole Studio Data: 1 entries\n",
      "2025-01-25 13:25:35 - INFO - Scraping Data from: https://www.eversports.de/s/schwerelos-muenster\n",
      "Workshops Data: 11 entries\n",
      "2025-01-25 13:25:35 - INFO - Scraping Data from: https://www.eversports.de/s/schwerelos-muenster\n",
      "Workshop Details: 11 entries\n"
     ]
    },
    {
     "name": "stderr",
     "output_type": "stream",
     "text": [
      "\n"
     ]
    }
   ],
   "source": [
    "import pandas as pd\n",
    "from a_PyCaller import process_urls\n",
    "from tqdm import tqdm\n",
    "from datetime import datetime\n",
    "\n",
    "def process_and_print_results(url, all_pole_studio_data, all_workshops_data, all_workshop_details_data, all_urls_data):\n",
    "    data = process_urls([url])\n",
    "\n",
    "    if data:\n",
    "        for key, df in data.items():\n",
    "            if df is not None and not df.empty:\n",
    "                tqdm.write(f\"{datetime.now().strftime('%Y-%m-%d %H:%M:%S')} - INFO - Scraping Data from: {url}\")\n",
    "                tqdm.write(f\"{key.replace('_', ' ').title()}: {len(df)} entries\")\n",
    "\n",
    "                # Update the appropriate DataFrame\n",
    "                if key == 'pole_studio_data':\n",
    "                    all_pole_studio_data = pd.concat([all_pole_studio_data, df], ignore_index=True)\n",
    "                elif key == 'workshops_data':\n",
    "                    all_workshops_data = pd.concat([all_workshops_data, df], ignore_index=True)\n",
    "                elif key == 'workshop_details':\n",
    "                    all_workshop_details_data = pd.concat([all_workshop_details_data, df], ignore_index=True)\n",
    "\n",
    "    # Add URLs to DataFrame\n",
    "    all_urls_data = pd.concat([all_urls_data, pd.DataFrame({'URL': [url]})], ignore_index=True)\n",
    "\n",
    "    return all_pole_studio_data, all_workshops_data, all_workshop_details_data, all_urls_data\n",
    "\n",
    "def main():\n",
    "    # # Load initial URLs\n",
    "    # all_found_urls_s = pd.read_csv(\"your_output_file.csv\")\n",
    "    # initial_urls = list(set(all_found_urls_s[\"0\"])) # Delete \"[:3]\" to scrape all Urls\n",
    "\n",
    "    # Initialize DataFrames\n",
    "    all_pole_studio_data = pd.DataFrame()\n",
    "    all_workshops_data = pd.DataFrame()\n",
    "    all_workshop_details_data = pd.DataFrame()\n",
    "    all_urls_data = pd.DataFrame(columns=['URL'])\n",
    "\n",
    "    # Process each URL with tqdm\n",
    "    with tqdm(initial_urls, desc=\"Processing URLs\", dynamic_ncols=True) as pbar:\n",
    "        for url in pbar:\n",
    "            all_pole_studio_data, all_workshops_data, all_workshop_details_data, all_urls_data = process_and_print_results(\n",
    "                url, all_pole_studio_data, all_workshops_data, all_workshop_details_data, all_urls_data\n",
    "            )\n",
    "\n",
    "\n",
    "    # Export DataFrames to CSV files\n",
    "    all_pole_studio_data.to_csv(\"Pole_Studio_Übersicht_S.csv\", index=False)\n",
    "    # all_workshops_data.to_csv(\"Workshop_Liste_SW.csv\", index=False)\n",
    "    # all_workshop_details_data.to_csv(\"Workshop_Übersicht_E.csv\", index=False)\n",
    "    # all_urls_data.to_csv(\"All_URLs.csv\", index=False)\n",
    "\n",
    "    # Return the final DataFrames\n",
    "    return all_pole_studio_data, all_workshops_data, all_workshop_details_data, all_urls_data\n",
    "\n",
    "# Run the main function and get the final DataFrames\n",
    "pole_studio, result_workshops, result_workshop_details, result_urls = main()\n",
    "\n",
    "workshops = pd.merge(result_workshop_details, result_workshops, on=['Workshop', 'URL_E', 'Pole Studio'], how='inner')\n",
    "workshops.to_csv(\"Workshops_SW_E.csv\", index=False)"
   ]
  },
  {
   "cell_type": "code",
   "execution_count": 9,
   "metadata": {},
   "outputs": [
    {
     "data": {
      "text/html": [
       "<div>\n",
       "<style scoped>\n",
       "    .dataframe tbody tr th:only-of-type {\n",
       "        vertical-align: middle;\n",
       "    }\n",
       "\n",
       "    .dataframe tbody tr th {\n",
       "        vertical-align: top;\n",
       "    }\n",
       "\n",
       "    .dataframe thead th {\n",
       "        text-align: right;\n",
       "    }\n",
       "</style>\n",
       "<table border=\"1\" class=\"dataframe\">\n",
       "  <thead>\n",
       "    <tr style=\"text-align: right;\">\n",
       "      <th></th>\n",
       "      <th>Pole_Studio</th>\n",
       "      <th>Adresse</th>\n",
       "      <th>PLZ</th>\n",
       "      <th>Stadt</th>\n",
       "      <th>Straße</th>\n",
       "      <th>Data_Option</th>\n",
       "      <th>Pole_Studio_Beschreibung</th>\n",
       "      <th>E-Mail</th>\n",
       "      <th>Homepage</th>\n",
       "      <th>Telefon</th>\n",
       "      <th>URL_S</th>\n",
       "      <th>Art</th>\n",
       "      <th>Angebot</th>\n",
       "      <th>Created Date</th>\n",
       "    </tr>\n",
       "  </thead>\n",
       "  <tbody>\n",
       "    <tr>\n",
       "      <th>0</th>\n",
       "      <td>A heart for poledance</td>\n",
       "      <td>[Nußbaumer Straße 6 ,  51469 Bergisch Gladbach]</td>\n",
       "      <td>51469</td>\n",
       "      <td>Bergisch</td>\n",
       "      <td>Nußbaumer Straße 6</td>\n",
       "      <td>[Übersicht, Klassen, Trainings, Workshops, Pre...</td>\n",
       "      <td>Poledance......ist mehr als nur an der Stange ...</td>\n",
       "      <td>info@aheartforpoledance.de</td>\n",
       "      <td>http://www.aheartforpoledance.de</td>\n",
       "      <td>+49 1634485262</td>\n",
       "      <td>https://www.eversports.de/s/a-heart-for-poleda...</td>\n",
       "      <td>[Poledance, Poledance, Poledance, Poledance, P...</td>\n",
       "      <td>Zum Stundenplan</td>\n",
       "      <td>2025-01-25 13:17:00</td>\n",
       "    </tr>\n",
       "    <tr>\n",
       "      <th>1</th>\n",
       "      <td>AIRobics</td>\n",
       "      <td>[Holsteinischer Kamp 58 ,  22081 Hamburg]</td>\n",
       "      <td>22081</td>\n",
       "      <td>Hamburg</td>\n",
       "      <td>Holsteinischer Kamp 58</td>\n",
       "      <td>[Übersicht, Klassen, Kurse, Workshops, Preise,...</td>\n",
       "      <td>Bei AIRobics geht es, wie der Name schon vermu...</td>\n",
       "      <td>dance@airobics.de</td>\n",
       "      <td>https://airobics.de/</td>\n",
       "      <td>+49 17621381870</td>\n",
       "      <td>https://www.eversports.de/s/airobics</td>\n",
       "      <td>[Yoga, Poledance, Yoga, Aerial Yoga, Poledance...</td>\n",
       "      <td>2 Angebote für Neukund:innen</td>\n",
       "      <td>2025-01-25 13:17:05</td>\n",
       "    </tr>\n",
       "    <tr>\n",
       "      <th>2</th>\n",
       "      <td>Aerial Art Poledance</td>\n",
       "      <td>[Holzer Straße 98,  66287 Quierschied]</td>\n",
       "      <td>66287</td>\n",
       "      <td>Quierschied</td>\n",
       "      <td>Holzer Straße 98</td>\n",
       "      <td>[Übersicht, Klassen, Workshops, Videos, Preise...</td>\n",
       "      <td>Das Aerial Art Poledance in ein Poledance Stud...</td>\n",
       "      <td>info@aerialart-poledance.de</td>\n",
       "      <td>http://www.aerialart-poledance.de/</td>\n",
       "      <td>01777870239</td>\n",
       "      <td>https://www.eversports.de/s/aerial-art-poledance</td>\n",
       "      <td>[Poledance, Online Klasse, Poledance, Poledanc...</td>\n",
       "      <td>1 Angebot für Neukund:innen</td>\n",
       "      <td>2025-01-25 13:17:09</td>\n",
       "    </tr>\n",
       "    <tr>\n",
       "      <th>3</th>\n",
       "      <td>Aerial Loft</td>\n",
       "      <td>[Solitudestraße 48,  71638 Ludwigsburg]</td>\n",
       "      <td>71638</td>\n",
       "      <td>Ludwigsburg</td>\n",
       "      <td>Solitudestraße 48</td>\n",
       "      <td>[Übersicht, Klassen, Kurse, Workshops, Events,...</td>\n",
       "      <td>Du interessierst dich für Aerial Fitness wie P...</td>\n",
       "      <td>info@aerial-loft.de</td>\n",
       "      <td>http://www.aerial-loft.de</td>\n",
       "      <td>01733429658</td>\n",
       "      <td>https://www.eversports.de/s/aerial-loft</td>\n",
       "      <td>[Poledance, Aerial Yoga, Personal Training, Po...</td>\n",
       "      <td>1 Angebot für Neukund:innen</td>\n",
       "      <td>2025-01-25 13:17:13</td>\n",
       "    </tr>\n",
       "    <tr>\n",
       "      <th>4</th>\n",
       "      <td>Aerial Sportstudio</td>\n",
       "      <td>[Hohe Straße 24,  04107 Leipzig]</td>\n",
       "      <td>04107</td>\n",
       "      <td>Leipzig</td>\n",
       "      <td>Hohe Straße 24</td>\n",
       "      <td>[Übersicht]</td>\n",
       "      <td>Diese Sportanlage bietet eine Vielzahl an Spor...</td>\n",
       "      <td>elena.klyban@live.de</td>\n",
       "      <td>https://www.aerialsportstudio.de</td>\n",
       "      <td>+49 15731430746</td>\n",
       "      <td>https://www.eversports.de/s/aerial-sportstudio</td>\n",
       "      <td>[(Noch keine Bewertungen), Poledance]</td>\n",
       "      <td>None</td>\n",
       "      <td>2025-01-25 13:17:22</td>\n",
       "    </tr>\n",
       "    <tr>\n",
       "      <th>...</th>\n",
       "      <td>...</td>\n",
       "      <td>...</td>\n",
       "      <td>...</td>\n",
       "      <td>...</td>\n",
       "      <td>...</td>\n",
       "      <td>...</td>\n",
       "      <td>...</td>\n",
       "      <td>...</td>\n",
       "      <td>...</td>\n",
       "      <td>...</td>\n",
       "      <td>...</td>\n",
       "      <td>...</td>\n",
       "      <td>...</td>\n",
       "      <td>...</td>\n",
       "    </tr>\n",
       "    <tr>\n",
       "      <th>194</th>\n",
       "      <td>freigeist Studio Kufstein</td>\n",
       "      <td>[Sparchner Straße 27 ,  6330 Kufstein]</td>\n",
       "      <td>6330</td>\n",
       "      <td>Kufstein</td>\n",
       "      <td>Sparchner Straße 27</td>\n",
       "      <td>[Übersicht, Klassen, Kurse, Preise, Team]</td>\n",
       "      <td>Das freigeist Studio für Poledance, Fitness un...</td>\n",
       "      <td>team@freigeist.tirol</td>\n",
       "      <td>http://www.freigeist.tirol</td>\n",
       "      <td>+43 6763812370</td>\n",
       "      <td>https://www.eversports.de/s/freigeist-studio-k...</td>\n",
       "      <td>[Fitness, Poledance, Poledance, Aerial Dance, ...</td>\n",
       "      <td>Zum Stundenplan</td>\n",
       "      <td>2025-01-25 13:25:12</td>\n",
       "    </tr>\n",
       "    <tr>\n",
       "      <th>195</th>\n",
       "      <td>körpernah</td>\n",
       "      <td>[Ahsener Straße 130,  45711 Datteln]</td>\n",
       "      <td>45711</td>\n",
       "      <td>Datteln</td>\n",
       "      <td>Ahsener Straße 130</td>\n",
       "      <td>[Übersicht, Klassen, Kurse, Workshops, Preise,...</td>\n",
       "      <td>Du möchtest Teil der #körpernahfamilie werden?...</td>\n",
       "      <td>info@koerper-nah.de</td>\n",
       "      <td>http://www.koerper-nah.de</td>\n",
       "      <td>+49 02363 5591479</td>\n",
       "      <td>https://www.eversports.de/s/koerpernah</td>\n",
       "      <td>[Yoga, Pilates, Poledance, Yoga, Pilates, Yoga...</td>\n",
       "      <td>Zum Stundenplan</td>\n",
       "      <td>2025-01-25 13:25:14</td>\n",
       "    </tr>\n",
       "    <tr>\n",
       "      <th>196</th>\n",
       "      <td>poda Studio</td>\n",
       "      <td>[Martinstraße 10-12 ,  52062 Aachen]</td>\n",
       "      <td>52062</td>\n",
       "      <td>Aachen</td>\n",
       "      <td>Martinstraße 10-12</td>\n",
       "      <td>[Übersicht, Klassen, Workshops, Videos, Preise...</td>\n",
       "      <td>Flieg mit uns! Poda ist das größte Pole Dance ...</td>\n",
       "      <td>info@podastudio.de</td>\n",
       "      <td>https://www.podastudio.de/</td>\n",
       "      <td>+49241 95719917</td>\n",
       "      <td>https://www.eversports.de/s/poda-studio</td>\n",
       "      <td>[Fitness, Yoga, Tanzen, Fitness, Fitness, Yoga...</td>\n",
       "      <td>1 Angebot für Neukund:innen</td>\n",
       "      <td>2025-01-25 13:25:19</td>\n",
       "    </tr>\n",
       "    <tr>\n",
       "      <th>197</th>\n",
       "      <td>pure body concepts OLD</td>\n",
       "      <td>[Zugspitzstraße 2A,  85591 Vaterstetten]</td>\n",
       "      <td>85591</td>\n",
       "      <td>Vaterstetten</td>\n",
       "      <td>Zugspitzstraße 2A</td>\n",
       "      <td>[Übersicht]</td>\n",
       "      <td>Diese Sportanlage bietet eine Vielzahl an Spor...</td>\n",
       "      <td>info@pure-body-concepts.de</td>\n",
       "      <td>None</td>\n",
       "      <td>+49 8106 3774499</td>\n",
       "      <td>https://www.eversports.de/s/pure-body-concepts</td>\n",
       "      <td>[(Noch keine Bewertungen), Pilates, Tanzen, Yo...</td>\n",
       "      <td>None</td>\n",
       "      <td>2025-01-25 13:25:27</td>\n",
       "    </tr>\n",
       "    <tr>\n",
       "      <th>198</th>\n",
       "      <td>schwerelos Münster</td>\n",
       "      <td>[Weseler Straße 675D ,  48163 Münster]</td>\n",
       "      <td>48163</td>\n",
       "      <td>Münster</td>\n",
       "      <td>Weseler Straße 675D</td>\n",
       "      <td>[Übersicht, Klassen, Trainings, Workshops, Vid...</td>\n",
       "      <td>Komm ins schwerelos und lerne mit uns an der P...</td>\n",
       "      <td>kontakt@schwerelos-tanzstudio.de</td>\n",
       "      <td>http://schwerelos-tanzstudio.de/</td>\n",
       "      <td>+49 015234012095</td>\n",
       "      <td>https://www.eversports.de/s/schwerelos-muenster</td>\n",
       "      <td>[Yoga, Tanzen, Tanzen, Fitness, Tanzen, Tanzen...</td>\n",
       "      <td>Zum Stundenplan</td>\n",
       "      <td>2025-01-25 13:25:29</td>\n",
       "    </tr>\n",
       "  </tbody>\n",
       "</table>\n",
       "<p>199 rows × 14 columns</p>\n",
       "</div>"
      ],
      "text/plain": [
       "                   Pole_Studio  \\\n",
       "0        A heart for poledance   \n",
       "1                     AIRobics   \n",
       "2         Aerial Art Poledance   \n",
       "3                  Aerial Loft   \n",
       "4           Aerial Sportstudio   \n",
       "..                         ...   \n",
       "194  freigeist Studio Kufstein   \n",
       "195                  körpernah   \n",
       "196                poda Studio   \n",
       "197     pure body concepts OLD   \n",
       "198         schwerelos Münster   \n",
       "\n",
       "                                             Adresse    PLZ         Stadt  \\\n",
       "0    [Nußbaumer Straße 6 ,  51469 Bergisch Gladbach]  51469      Bergisch   \n",
       "1          [Holsteinischer Kamp 58 ,  22081 Hamburg]  22081       Hamburg   \n",
       "2             [Holzer Straße 98,  66287 Quierschied]  66287   Quierschied   \n",
       "3            [Solitudestraße 48,  71638 Ludwigsburg]  71638   Ludwigsburg   \n",
       "4                   [Hohe Straße 24,  04107 Leipzig]  04107       Leipzig   \n",
       "..                                               ...    ...           ...   \n",
       "194           [Sparchner Straße 27 ,  6330 Kufstein]   6330      Kufstein   \n",
       "195             [Ahsener Straße 130,  45711 Datteln]  45711       Datteln   \n",
       "196             [Martinstraße 10-12 ,  52062 Aachen]  52062        Aachen   \n",
       "197         [Zugspitzstraße 2A,  85591 Vaterstetten]  85591  Vaterstetten   \n",
       "198           [Weseler Straße 675D ,  48163 Münster]  48163       Münster   \n",
       "\n",
       "                     Straße  \\\n",
       "0        Nußbaumer Straße 6   \n",
       "1    Holsteinischer Kamp 58   \n",
       "2          Holzer Straße 98   \n",
       "3         Solitudestraße 48   \n",
       "4            Hohe Straße 24   \n",
       "..                      ...   \n",
       "194     Sparchner Straße 27   \n",
       "195      Ahsener Straße 130   \n",
       "196      Martinstraße 10-12   \n",
       "197       Zugspitzstraße 2A   \n",
       "198     Weseler Straße 675D   \n",
       "\n",
       "                                           Data_Option  \\\n",
       "0    [Übersicht, Klassen, Trainings, Workshops, Pre...   \n",
       "1    [Übersicht, Klassen, Kurse, Workshops, Preise,...   \n",
       "2    [Übersicht, Klassen, Workshops, Videos, Preise...   \n",
       "3    [Übersicht, Klassen, Kurse, Workshops, Events,...   \n",
       "4                                          [Übersicht]   \n",
       "..                                                 ...   \n",
       "194          [Übersicht, Klassen, Kurse, Preise, Team]   \n",
       "195  [Übersicht, Klassen, Kurse, Workshops, Preise,...   \n",
       "196  [Übersicht, Klassen, Workshops, Videos, Preise...   \n",
       "197                                        [Übersicht]   \n",
       "198  [Übersicht, Klassen, Trainings, Workshops, Vid...   \n",
       "\n",
       "                              Pole_Studio_Beschreibung  \\\n",
       "0    Poledance......ist mehr als nur an der Stange ...   \n",
       "1    Bei AIRobics geht es, wie der Name schon vermu...   \n",
       "2    Das Aerial Art Poledance in ein Poledance Stud...   \n",
       "3    Du interessierst dich für Aerial Fitness wie P...   \n",
       "4    Diese Sportanlage bietet eine Vielzahl an Spor...   \n",
       "..                                                 ...   \n",
       "194  Das freigeist Studio für Poledance, Fitness un...   \n",
       "195  Du möchtest Teil der #körpernahfamilie werden?...   \n",
       "196  Flieg mit uns! Poda ist das größte Pole Dance ...   \n",
       "197  Diese Sportanlage bietet eine Vielzahl an Spor...   \n",
       "198  Komm ins schwerelos und lerne mit uns an der P...   \n",
       "\n",
       "                                E-Mail                            Homepage  \\\n",
       "0           info@aheartforpoledance.de    http://www.aheartforpoledance.de   \n",
       "1                    dance@airobics.de                https://airobics.de/   \n",
       "2          info@aerialart-poledance.de  http://www.aerialart-poledance.de/   \n",
       "3                  info@aerial-loft.de           http://www.aerial-loft.de   \n",
       "4                 elena.klyban@live.de    https://www.aerialsportstudio.de   \n",
       "..                                 ...                                 ...   \n",
       "194               team@freigeist.tirol          http://www.freigeist.tirol   \n",
       "195                info@koerper-nah.de           http://www.koerper-nah.de   \n",
       "196                 info@podastudio.de          https://www.podastudio.de/   \n",
       "197         info@pure-body-concepts.de                                None   \n",
       "198   kontakt@schwerelos-tanzstudio.de    http://schwerelos-tanzstudio.de/   \n",
       "\n",
       "               Telefon                                              URL_S  \\\n",
       "0       +49 1634485262  https://www.eversports.de/s/a-heart-for-poleda...   \n",
       "1      +49 17621381870               https://www.eversports.de/s/airobics   \n",
       "2          01777870239   https://www.eversports.de/s/aerial-art-poledance   \n",
       "3          01733429658            https://www.eversports.de/s/aerial-loft   \n",
       "4      +49 15731430746     https://www.eversports.de/s/aerial-sportstudio   \n",
       "..                 ...                                                ...   \n",
       "194     +43 6763812370  https://www.eversports.de/s/freigeist-studio-k...   \n",
       "195  +49 02363 5591479             https://www.eversports.de/s/koerpernah   \n",
       "196    +49241 95719917            https://www.eversports.de/s/poda-studio   \n",
       "197   +49 8106 3774499     https://www.eversports.de/s/pure-body-concepts   \n",
       "198   +49 015234012095    https://www.eversports.de/s/schwerelos-muenster   \n",
       "\n",
       "                                                   Art  \\\n",
       "0    [Poledance, Poledance, Poledance, Poledance, P...   \n",
       "1    [Yoga, Poledance, Yoga, Aerial Yoga, Poledance...   \n",
       "2    [Poledance, Online Klasse, Poledance, Poledanc...   \n",
       "3    [Poledance, Aerial Yoga, Personal Training, Po...   \n",
       "4                [(Noch keine Bewertungen), Poledance]   \n",
       "..                                                 ...   \n",
       "194  [Fitness, Poledance, Poledance, Aerial Dance, ...   \n",
       "195  [Yoga, Pilates, Poledance, Yoga, Pilates, Yoga...   \n",
       "196  [Fitness, Yoga, Tanzen, Fitness, Fitness, Yoga...   \n",
       "197  [(Noch keine Bewertungen), Pilates, Tanzen, Yo...   \n",
       "198  [Yoga, Tanzen, Tanzen, Fitness, Tanzen, Tanzen...   \n",
       "\n",
       "                          Angebot         Created Date  \n",
       "0                 Zum Stundenplan  2025-01-25 13:17:00  \n",
       "1    2 Angebote für Neukund:innen  2025-01-25 13:17:05  \n",
       "2     1 Angebot für Neukund:innen  2025-01-25 13:17:09  \n",
       "3     1 Angebot für Neukund:innen  2025-01-25 13:17:13  \n",
       "4                            None  2025-01-25 13:17:22  \n",
       "..                            ...                  ...  \n",
       "194               Zum Stundenplan  2025-01-25 13:25:12  \n",
       "195               Zum Stundenplan  2025-01-25 13:25:14  \n",
       "196   1 Angebot für Neukund:innen  2025-01-25 13:25:19  \n",
       "197                          None  2025-01-25 13:25:27  \n",
       "198               Zum Stundenplan  2025-01-25 13:25:29  \n",
       "\n",
       "[199 rows x 14 columns]"
      ]
     },
     "execution_count": 9,
     "metadata": {},
     "output_type": "execute_result"
    }
   ],
   "source": [
    "pole_studio"
   ]
  },
  {
   "cell_type": "code",
   "execution_count": 10,
   "metadata": {},
   "outputs": [
    {
     "data": {
      "text/html": [
       "<div>\n",
       "<style scoped>\n",
       "    .dataframe tbody tr th:only-of-type {\n",
       "        vertical-align: middle;\n",
       "    }\n",
       "\n",
       "    .dataframe tbody tr th {\n",
       "        vertical-align: top;\n",
       "    }\n",
       "\n",
       "    .dataframe thead th {\n",
       "        text-align: right;\n",
       "    }\n",
       "</style>\n",
       "<table border=\"1\" class=\"dataframe\">\n",
       "  <thead>\n",
       "    <tr style=\"text-align: right;\">\n",
       "      <th></th>\n",
       "      <th>Workshop</th>\n",
       "      <th>Kategorie</th>\n",
       "      <th>Datum</th>\n",
       "      <th>Land</th>\n",
       "      <th>Location</th>\n",
       "      <th>Pole Studio</th>\n",
       "      <th>URL_E</th>\n",
       "      <th>Art</th>\n",
       "      <th>Level</th>\n",
       "      <th>Beschreibung</th>\n",
       "      <th>Trainer</th>\n",
       "      <th>Uhrzeit</th>\n",
       "      <th>Preis</th>\n",
       "      <th>Einheiten</th>\n",
       "    </tr>\n",
       "  </thead>\n",
       "  <tbody>\n",
       "    <tr>\n",
       "      <th>0</th>\n",
       "      <td>Lyrical Spinning Pole Choreo ab Beginner Plus</td>\n",
       "      <td>Poledance</td>\n",
       "      <td>Samstag, 15. Februar 2025</td>\n",
       "      <td></td>\n",
       "      <td>Gesamtticket</td>\n",
       "      <td>A heart for poledance</td>\n",
       "      <td>https://www.eversports.de/e/workshop/qBr13Wi</td>\n",
       "      <td>Workshop</td>\n",
       "      <td></td>\n",
       "      <td>Bist du bereit, deine Kreativität und Beweglic...</td>\n",
       "      <td></td>\n",
       "      <td>14:30 - 16:00</td>\n",
       "      <td>ab 35,00 €</td>\n",
       "      <td>1 Einheit</td>\n",
       "    </tr>\n",
       "    <tr>\n",
       "      <th>1</th>\n",
       "      <td>Chairdance Workshop</td>\n",
       "      <td>Poledance</td>\n",
       "      <td>Sonntag, 9. März 2025</td>\n",
       "      <td></td>\n",
       "      <td>16:00 - 17:30</td>\n",
       "      <td>A heart for poledance</td>\n",
       "      <td>https://www.eversports.de/e/workshop/VUscLq7</td>\n",
       "      <td>Workshop</td>\n",
       "      <td></td>\n",
       "      <td>Anmeldung zum Chairdance Workshop 💃🪑 Bist du b...</td>\n",
       "      <td></td>\n",
       "      <td>16:00 - 17:30</td>\n",
       "      <td>ab 40,00 €</td>\n",
       "      <td>1 Einheit</td>\n",
       "    </tr>\n",
       "    <tr>\n",
       "      <th>2</th>\n",
       "      <td>Twerk Workshop</td>\n",
       "      <td>Poledance</td>\n",
       "      <td>Sonntag, 9. März 2025</td>\n",
       "      <td></td>\n",
       "      <td>18:00 - 19:30</td>\n",
       "      <td>A heart for poledance</td>\n",
       "      <td>https://www.eversports.de/e/workshop/QVsCho-</td>\n",
       "      <td>Workshop</td>\n",
       "      <td></td>\n",
       "      <td>Bist du bereit, deinen Körper in Bewegung zu b...</td>\n",
       "      <td></td>\n",
       "      <td>18:00 - 19:30</td>\n",
       "      <td>ab 40,00 €</td>\n",
       "      <td>1 Einheit</td>\n",
       "    </tr>\n",
       "    <tr>\n",
       "      <th>3</th>\n",
       "      <td>Get Closer! - Lap Dance - in Quierschied - mit...</td>\n",
       "      <td>Poledance</td>\n",
       "      <td>Sonntag, 2. Februar 2025</td>\n",
       "      <td></td>\n",
       "      <td>Workshop 120 Minuten</td>\n",
       "      <td>Aerial Art Poledance</td>\n",
       "      <td>https://www.eversports.de/e/workshop/veYc5Bs</td>\n",
       "      <td>Workshop</td>\n",
       "      <td></td>\n",
       "      <td>Du willst sinnlich und selbstbewusst für deine...</td>\n",
       "      <td></td>\n",
       "      <td>15:00 - 17:00</td>\n",
       "      <td>ab 47,00 €</td>\n",
       "      <td>1 Einheit</td>\n",
       "    </tr>\n",
       "    <tr>\n",
       "      <th>4</th>\n",
       "      <td>Workshop: Invert Step by Step (Part II)</td>\n",
       "      <td>Polesport</td>\n",
       "      <td>Samstag, 25. Januar 2025</td>\n",
       "      <td></td>\n",
       "      <td>Solitudestraße 48, 71638 Ludwigsburg</td>\n",
       "      <td>Aerial Loft</td>\n",
       "      <td>https://www.eversports.de/e/workshop/lc4qPOo</td>\n",
       "      <td>Workshop</td>\n",
       "      <td></td>\n",
       "      <td>Ein komplettes Invert Training Step by Step - ...</td>\n",
       "      <td></td>\n",
       "      <td>13:30 - 14:30</td>\n",
       "      <td>ab 18,00 €</td>\n",
       "      <td>1 Einheit</td>\n",
       "    </tr>\n",
       "    <tr>\n",
       "      <th>...</th>\n",
       "      <td>...</td>\n",
       "      <td>...</td>\n",
       "      <td>...</td>\n",
       "      <td>...</td>\n",
       "      <td>...</td>\n",
       "      <td>...</td>\n",
       "      <td>...</td>\n",
       "      <td>...</td>\n",
       "      <td>...</td>\n",
       "      <td>...</td>\n",
       "      <td>...</td>\n",
       "      <td>...</td>\n",
       "      <td>...</td>\n",
       "      <td>...</td>\n",
       "    </tr>\n",
       "    <tr>\n",
       "      <th>198</th>\n",
       "      <td>Aerial Kids: Tuchakrobatik Basics (6-10 Jahre)</td>\n",
       "      <td>Luftartistik</td>\n",
       "      <td>Samstag, 15. Februar 2025</td>\n",
       "      <td></td>\n",
       "      <td>Weseler Straße 675D, 48163 Münster</td>\n",
       "      <td>schwerelos Münster</td>\n",
       "      <td>https://www.eversports.de/e/workshop/LTXznaq</td>\n",
       "      <td>Workshop</td>\n",
       "      <td></td>\n",
       "      <td>Tuchakrobatik für Kinder von 6 - 10 Jahren In ...</td>\n",
       "      <td></td>\n",
       "      <td>13:30 - 15:00</td>\n",
       "      <td>ab 30,00 €</td>\n",
       "      <td>1 Einheit</td>\n",
       "    </tr>\n",
       "    <tr>\n",
       "      <th>199</th>\n",
       "      <td>Aerial Kids: Pole Sport Beginner (6 - 10 Jahre)</td>\n",
       "      <td>Polesport</td>\n",
       "      <td>Samstag, 15. Februar 2025</td>\n",
       "      <td></td>\n",
       "      <td>Weseler Straße 675D, 48163 Münster</td>\n",
       "      <td>schwerelos Münster</td>\n",
       "      <td>https://www.eversports.de/e/workshop/4gZeiQu</td>\n",
       "      <td>Workshop</td>\n",
       "      <td></td>\n",
       "      <td>Akrobatik an der Pole für Kinder In diesem Wor...</td>\n",
       "      <td></td>\n",
       "      <td>15:30 - 17:00</td>\n",
       "      <td>ab 30,00 €</td>\n",
       "      <td>1 Einheit</td>\n",
       "    </tr>\n",
       "    <tr>\n",
       "      <th>200</th>\n",
       "      <td>Special: Pole Flow - Shawty Got Low</td>\n",
       "      <td>Poledance</td>\n",
       "      <td>Samstag, 15. März 2025</td>\n",
       "      <td></td>\n",
       "      <td>Weseler Straße 675D, 48163 Münster</td>\n",
       "      <td>schwerelos Münster</td>\n",
       "      <td>https://www.eversports.de/e/workshop/8BBT4rq</td>\n",
       "      <td>Workshop</td>\n",
       "      <td></td>\n",
       "      <td>Pole Flow - Shawty Got Low In diesem Kurs wird...</td>\n",
       "      <td></td>\n",
       "      <td>11:00 - 12:30</td>\n",
       "      <td>ab 38,00 €</td>\n",
       "      <td>1 Einheit</td>\n",
       "    </tr>\n",
       "    <tr>\n",
       "      <th>201</th>\n",
       "      <td>Special: Lap Dance - Seat Yourself</td>\n",
       "      <td>Tanzen</td>\n",
       "      <td>Samstag, 15. März 2025</td>\n",
       "      <td></td>\n",
       "      <td>Weseler Straße 675D, 48163 Münster</td>\n",
       "      <td>schwerelos Münster</td>\n",
       "      <td>https://www.eversports.de/e/workshop/9B7w_Vv</td>\n",
       "      <td>Workshop</td>\n",
       "      <td></td>\n",
       "      <td>Lap Dance - Seat Yourself In diesem Kurs lerne...</td>\n",
       "      <td></td>\n",
       "      <td>13:00 - 14:30</td>\n",
       "      <td>ab 32,00 €</td>\n",
       "      <td>1 Einheit</td>\n",
       "    </tr>\n",
       "    <tr>\n",
       "      <th>202</th>\n",
       "      <td>Special: Mit Yoga in den Sommer!</td>\n",
       "      <td>Yoga</td>\n",
       "      <td>Samstag, 22. März 2025</td>\n",
       "      <td></td>\n",
       "      <td>Weseler Straße 675D, 48163 Münster</td>\n",
       "      <td>schwerelos Münster</td>\n",
       "      <td>https://www.eversports.de/e/workshop/uRs2MsY</td>\n",
       "      <td>Workshop</td>\n",
       "      <td></td>\n",
       "      <td>Mit Yoga in den Sommer! In diesem Workshop beg...</td>\n",
       "      <td></td>\n",
       "      <td>15:00 - 17:00</td>\n",
       "      <td>ab 33,00 €</td>\n",
       "      <td>1 Einheit</td>\n",
       "    </tr>\n",
       "  </tbody>\n",
       "</table>\n",
       "<p>203 rows × 14 columns</p>\n",
       "</div>"
      ],
      "text/plain": [
       "                                              Workshop     Kategorie  \\\n",
       "0        Lyrical Spinning Pole Choreo ab Beginner Plus     Poledance   \n",
       "1                                  Chairdance Workshop     Poledance   \n",
       "2                                       Twerk Workshop     Poledance   \n",
       "3    Get Closer! - Lap Dance - in Quierschied - mit...     Poledance   \n",
       "4              Workshop: Invert Step by Step (Part II)     Polesport   \n",
       "..                                                 ...           ...   \n",
       "198     Aerial Kids: Tuchakrobatik Basics (6-10 Jahre)  Luftartistik   \n",
       "199    Aerial Kids: Pole Sport Beginner (6 - 10 Jahre)     Polesport   \n",
       "200                Special: Pole Flow - Shawty Got Low     Poledance   \n",
       "201                 Special: Lap Dance - Seat Yourself        Tanzen   \n",
       "202                   Special: Mit Yoga in den Sommer!          Yoga   \n",
       "\n",
       "                         Datum Land                              Location  \\\n",
       "0    Samstag, 15. Februar 2025                               Gesamtticket   \n",
       "1        Sonntag, 9. März 2025                              16:00 - 17:30   \n",
       "2        Sonntag, 9. März 2025                              18:00 - 19:30   \n",
       "3     Sonntag, 2. Februar 2025                       Workshop 120 Minuten   \n",
       "4     Samstag, 25. Januar 2025       Solitudestraße 48, 71638 Ludwigsburg   \n",
       "..                         ...  ...                                   ...   \n",
       "198  Samstag, 15. Februar 2025         Weseler Straße 675D, 48163 Münster   \n",
       "199  Samstag, 15. Februar 2025         Weseler Straße 675D, 48163 Münster   \n",
       "200     Samstag, 15. März 2025         Weseler Straße 675D, 48163 Münster   \n",
       "201     Samstag, 15. März 2025         Weseler Straße 675D, 48163 Münster   \n",
       "202     Samstag, 22. März 2025         Weseler Straße 675D, 48163 Münster   \n",
       "\n",
       "               Pole Studio                                         URL_E  \\\n",
       "0    A heart for poledance  https://www.eversports.de/e/workshop/qBr13Wi   \n",
       "1    A heart for poledance  https://www.eversports.de/e/workshop/VUscLq7   \n",
       "2    A heart for poledance  https://www.eversports.de/e/workshop/QVsCho-   \n",
       "3     Aerial Art Poledance  https://www.eversports.de/e/workshop/veYc5Bs   \n",
       "4              Aerial Loft  https://www.eversports.de/e/workshop/lc4qPOo   \n",
       "..                     ...                                           ...   \n",
       "198     schwerelos Münster  https://www.eversports.de/e/workshop/LTXznaq   \n",
       "199     schwerelos Münster  https://www.eversports.de/e/workshop/4gZeiQu   \n",
       "200     schwerelos Münster  https://www.eversports.de/e/workshop/8BBT4rq   \n",
       "201     schwerelos Münster  https://www.eversports.de/e/workshop/9B7w_Vv   \n",
       "202     schwerelos Münster  https://www.eversports.de/e/workshop/uRs2MsY   \n",
       "\n",
       "          Art Level                                       Beschreibung  \\\n",
       "0    Workshop        Bist du bereit, deine Kreativität und Beweglic...   \n",
       "1    Workshop        Anmeldung zum Chairdance Workshop 💃🪑 Bist du b...   \n",
       "2    Workshop        Bist du bereit, deinen Körper in Bewegung zu b...   \n",
       "3    Workshop        Du willst sinnlich und selbstbewusst für deine...   \n",
       "4    Workshop        Ein komplettes Invert Training Step by Step - ...   \n",
       "..        ...   ...                                                ...   \n",
       "198  Workshop        Tuchakrobatik für Kinder von 6 - 10 Jahren In ...   \n",
       "199  Workshop        Akrobatik an der Pole für Kinder In diesem Wor...   \n",
       "200  Workshop        Pole Flow - Shawty Got Low In diesem Kurs wird...   \n",
       "201  Workshop        Lap Dance - Seat Yourself In diesem Kurs lerne...   \n",
       "202  Workshop        Mit Yoga in den Sommer! In diesem Workshop beg...   \n",
       "\n",
       "    Trainer        Uhrzeit       Preis  Einheiten  \n",
       "0            14:30 - 16:00  ab 35,00 €  1 Einheit  \n",
       "1            16:00 - 17:30  ab 40,00 €  1 Einheit  \n",
       "2            18:00 - 19:30  ab 40,00 €  1 Einheit  \n",
       "3            15:00 - 17:00  ab 47,00 €  1 Einheit  \n",
       "4            13:30 - 14:30  ab 18,00 €  1 Einheit  \n",
       "..      ...            ...         ...        ...  \n",
       "198          13:30 - 15:00  ab 30,00 €  1 Einheit  \n",
       "199          15:30 - 17:00  ab 30,00 €  1 Einheit  \n",
       "200          11:00 - 12:30  ab 38,00 €  1 Einheit  \n",
       "201          13:00 - 14:30  ab 32,00 €  1 Einheit  \n",
       "202          15:00 - 17:00  ab 33,00 €  1 Einheit  \n",
       "\n",
       "[203 rows x 14 columns]"
      ]
     },
     "execution_count": 10,
     "metadata": {},
     "output_type": "execute_result"
    }
   ],
   "source": [
    "workshops"
   ]
  }
 ],
 "metadata": {
  "kernelspec": {
   "display_name": "Python 3",
   "language": "python",
   "name": "python3"
  },
  "language_info": {
   "codemirror_mode": {
    "name": "ipython",
    "version": 3
   },
   "file_extension": ".py",
   "mimetype": "text/x-python",
   "name": "python",
   "nbconvert_exporter": "python",
   "pygments_lexer": "ipython3",
   "version": "3.12.2"
  }
 },
 "nbformat": 4,
 "nbformat_minor": 2
}
