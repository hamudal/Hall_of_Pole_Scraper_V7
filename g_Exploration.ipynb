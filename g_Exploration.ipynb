{
 "cells": [
  {
   "cell_type": "code",
   "execution_count": 3,
   "metadata": {},
   "outputs": [
    {
     "ename": "ModuleNotFoundError",
     "evalue": "No module named 'streamlit'",
     "output_type": "error",
     "traceback": [
      "\u001b[1;31m---------------------------------------------------------------------------\u001b[0m",
      "\u001b[1;31mModuleNotFoundError\u001b[0m                       Traceback (most recent call last)",
      "Cell \u001b[1;32mIn[3], line 2\u001b[0m\n\u001b[0;32m      1\u001b[0m \u001b[38;5;28;01mimport\u001b[39;00m \u001b[38;5;21;01mpandas\u001b[39;00m \u001b[38;5;28;01mas\u001b[39;00m \u001b[38;5;21;01mpd\u001b[39;00m\n\u001b[1;32m----> 2\u001b[0m \u001b[38;5;28;01mimport\u001b[39;00m \u001b[38;5;21;01mstreamlit\u001b[39;00m \u001b[38;5;28;01mas\u001b[39;00m \u001b[38;5;21;01mst\u001b[39;00m\n\u001b[0;32m      3\u001b[0m \u001b[38;5;28;01mfrom\u001b[39;00m \u001b[38;5;21;01ma_PyCaller\u001b[39;00m \u001b[38;5;28;01mimport\u001b[39;00m process_urls\n\u001b[0;32m      4\u001b[0m \u001b[38;5;28;01mfrom\u001b[39;00m \u001b[38;5;21;01mtqdm\u001b[39;00m \u001b[38;5;28;01mimport\u001b[39;00m tqdm\n",
      "\u001b[1;31mModuleNotFoundError\u001b[0m: No module named 'streamlit'"
     ]
    }
   ],
   "source": [
    "import pandas as pd\n",
    "import streamlit as st\n",
    "from a_PyCaller import process_urls\n",
    "from tqdm import tqdm\n",
    "from datetime import datetime\n",
    "\n",
    "def process_and_print_results(url, all_pole_studio_data, all_workshops_data, all_workshop_details_data, all_urls_data):\n",
    "    data = process_urls([url])\n",
    "\n",
    "    if data:\n",
    "        for key, df in data.items():\n",
    "            if df is not None and not df.empty:\n",
    "                tqdm.write(f\"{datetime.now().strftime('%Y-%m-%d %H:%M:%S')} - INFO - Scraping Data from: {url}\")\n",
    "                tqdm.write(f\"{key.replace('_', ' ').title()}: {len(df)} entries\")\n",
    "\n",
    "                # Update the appropriate DataFrame\n",
    "                if key == 'pole_studio_data':\n",
    "                    all_pole_studio_data = pd.concat([all_pole_studio_data, df], ignore_index=True)\n",
    "                elif key == 'workshops_data':\n",
    "                    all_workshops_data = pd.concat([all_workshops_data, df], ignore_index=True)\n",
    "                elif key == 'workshop_details':\n",
    "                    all_workshop_details_data = pd.concat([all_workshop_details_data, df], ignore_index=True)\n",
    "\n",
    "    # Add URLs to DataFrame\n",
    "    all_urls_data = pd.concat([all_urls_data, pd.DataFrame({'URL': [url]})], ignore_index=True)\n",
    "\n",
    "    return all_pole_studio_data, all_workshops_data, all_workshop_details_data, all_urls_data\n",
    "\n",
    "def main(initial_urls):\n",
    "    # Initialize DataFrames\n",
    "    all_pole_studio_data = pd.DataFrame()\n",
    "    all_workshops_data = pd.DataFrame()\n",
    "    all_workshop_details_data = pd.DataFrame()\n",
    "    all_urls_data = pd.DataFrame(columns=['URL'])\n",
    "\n",
    "    # Process each URL with tqdm\n",
    "    with tqdm(initial_urls, desc=\"Processing URLs\", dynamic_ncols=True) as pbar:\n",
    "        for url in pbar:\n",
    "            all_pole_studio_data, all_workshops_data, all_workshop_details_data, all_urls_data = process_and_print_results(\n",
    "                url, all_pole_studio_data, all_workshops_data, all_workshop_details_data, all_urls_data\n",
    "            )\n",
    "    workshops = pd.merge(all_workshop_details_data, all_workshops_data, on=['Workshopname', 'URL_E'], how='inner')\n",
    "    # # Export DataFrames to CSV files\n",
    "    # all_pole_studio_data.to_csv(\"Pole_Studio_Übersicht_S.csv\", index=False)\n",
    "    # all_workshops_data.to_csv(\"Workshop_Liste_SW.csv\", index=False)\n",
    "    # all_workshop_details_data.to_csv(\"Workshop_Übersicht_E.csv\", index=False)\n",
    "    # all_urls_data.to_csv(\"All_URLs.csv\", index=False)\n",
    "\n",
    "    # Return the final DataFrames\n",
    "    return all_pole_studio_data, workshops, all_workshops_data, all_workshop_details_data, all_urls_data\n",
    "\n",
    "def main():\n",
    "    # Title of the app\n",
    "    st.title(\"URL Processing App\")\n",
    "\n",
    "    # Upload CSV file\n",
    "    uploaded_file = st.file_uploader(\"Upload a CSV file\", type=[\"csv\"])\n",
    "\n",
    "    if uploaded_file is not None:\n",
    "        # Read CSV file\n",
    "        df = pd.read_csv(uploaded_file)\n",
    "\n",
    "        # Display the uploaded data\n",
    "        st.write(\"Uploaded CSV file:\")\n",
    "        st.write(df)\n",
    "\n",
    "        # Choose column\n",
    "        column_name = st.selectbox(\"Select the column to process\", df.columns)\n",
    "\n",
    "        # Process the URLs\n",
    "        initial_urls = df[column_name].to_list()\n",
    "        processed_data = main(initial_urls)\n",
    "\n",
    "        # Show processed data\n",
    "        st.write(\"Processed data:\")\n",
    "        for data in processed_data:\n",
    "            st.write(data)\n",
    "\n",
    "if __name__ == \"__main__\":\n",
    "    main()\n"
   ]
  },
  {
   "cell_type": "code",
   "execution_count": 1,
   "metadata": {},
   "outputs": [],
   "source": [
    "pip install streamlit"
   ]
  },
  {
   "cell_type": "code",
   "execution_count": null,
   "metadata": {},
   "outputs": [],
   "source": []
  }
 ],
 "metadata": {
  "kernelspec": {
   "display_name": "Python 3",
   "language": "python",
   "name": "python3"
  },
  "language_info": {
   "codemirror_mode": {
    "name": "ipython",
    "version": 3
   },
   "file_extension": ".py",
   "mimetype": "text/x-python",
   "name": "python",
   "nbconvert_exporter": "python",
   "pygments_lexer": "ipython3",
   "version": "3.12.2"
  }
 },
 "nbformat": 4,
 "nbformat_minor": 2
}
